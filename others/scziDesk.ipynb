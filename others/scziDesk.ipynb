{
 "cells": [
  {
   "cell_type": "code",
   "execution_count": null,
   "metadata": {},
   "outputs": [],
   "source": [
    "# !pip install tensorflow==1.15.0"
   ]
  },
  {
   "cell_type": "code",
   "execution_count": null,
   "metadata": {},
   "outputs": [],
   "source": [
    "# !pip install tensorflow-gpu==1.15.0"
   ]
  },
  {
   "cell_type": "code",
   "execution_count": null,
   "metadata": {},
   "outputs": [],
   "source": [
    "import sys\n",
    "sys.path.append(\"..\")\n",
    "import matplotlib.pyplot as plt\n",
    "from scziDesk_preprocess import *\n",
    "from scziDesk_network import *\n",
    "from scziDesk_utils import *\n",
    "import argparse\n",
    "import h5py\n",
    "import time\n",
    "from sklearn.metrics import adjusted_rand_score, normalized_mutual_info_score, silhouette_score, calinski_harabasz_score\n",
    "from collections import Counter\n",
    "import glob2\n",
    "plt.ion()\n",
    "plt.show()\n",
    "%load_ext autoreload\n",
    "%autoreload 2"
   ]
  },
  {
   "cell_type": "code",
   "execution_count": null,
   "metadata": {},
   "outputs": [],
   "source": [
    "tf.__version__"
   ]
  },
  {
   "cell_type": "code",
   "execution_count": null,
   "metadata": {},
   "outputs": [],
   "source": [
    "random_seed = [1111, 2222, 3333, 4444, 5555, 6666, 7777, 8888, 9999, 10000]\n",
    "\n",
    "parser = argparse.ArgumentParser(description=\"train\", formatter_class=argparse.ArgumentDefaultsHelpFormatter)\n",
    "# parser.add_argument(\"--dataname\", default = \"Quake_10x_Bladder\", type = str)\n",
    "parser.add_argument(\"--dataname\", default = \"data_-1.5c15\", type = str)\n",
    "\n",
    "parser.add_argument(\"--distribution\", default = \"ZINB\")\n",
    "parser.add_argument(\"--self_training\", default = True)\n",
    "parser.add_argument(\"--dims\", default = [499, 256, 64, 32])\n",
    "parser.add_argument(\"--highly_genes\", default = 500)\n",
    "parser.add_argument(\"--alpha\", default = 0.001, type = float)\n",
    "parser.add_argument(\"--gamma\", default = 0.001, type = float)\n",
    "parser.add_argument(\"--learning_rate\", default = 0.0001, type = float)\n",
    "parser.add_argument(\"--random_seed\", default = random_seed)\n",
    "parser.add_argument(\"--batch_size\", default = 256, type = int)\n",
    "parser.add_argument(\"--update_epoch\", default = 10, type = int)\n",
    "parser.add_argument(\"--pretrain_epoch\", default = 1000, type = int)\n",
    "parser.add_argument(\"--funetrain_epoch\", default = 2000, type = int)\n",
    "parser.add_argument(\"--t_alpha\", default = 1.0)\n",
    "parser.add_argument(\"--noise_sd\", default = 1.5)\n",
    "parser.add_argument(\"--error\", default = 0.001, type = float)\n",
    "parser.add_argument(\"--gpu_option\", default = \"0\")\n",
    "\n",
    "args = parser.parse_args(\"\")"
   ]
  },
  {
   "cell_type": "code",
   "execution_count": null,
   "metadata": {},
   "outputs": [],
   "source": [
    "for category in [\"balanced_data\", \"imbalanced_data\", \"real_data\"\n",
    "                ]:\n",
    "\n",
    "    path= \"..\"\n",
    "    if category in [\"balanced_data\", \"imbalanced_data\"]:\n",
    "        files = glob2.glob(f'{path}/R/simulated_data/{category}/*.h5')\n",
    "        files = [f[len(f\"{path}/R/simulated_data/{category}/\"):-3] for f in files]\n",
    "    else:\n",
    "        files = glob2.glob(f'{path}/real_data/*.h5')\n",
    "        files = [f[len(f\"{path}/real_data/\"):-3] for f in files]\n",
    "    print(files)\n",
    "\n",
    "    df = pd.DataFrame(columns = [\"dataset\", \"ARI\", \"NMI\", \"sil\", \"run\", \"time\", \"pred\", \"cal\"])\n",
    "    for dataset in files:\n",
    "        if category in [\"balanced_data\", \"imbalanced_data\"]:\n",
    "            data_mat = h5py.File(f\"{path}/R/simulated_data/{category}/{dataset}.h5\",\"r\")\n",
    "        else:\n",
    "            data_mat = h5py.File(f\"{path}/real_data/{dataset}.h5\",\"r\")\n",
    "\n",
    "        Y = np.array(data_mat['Y'])\n",
    "        X = np.array(data_mat['X'])\n",
    "        print(f\">>>>dataset {dataset}\")\n",
    "        if X.shape[0] > 10000:\n",
    "            continue\n",
    "\n",
    "        X = np.ceil(X).astype(np.int)\n",
    "        count_X = X\n",
    "        print(X.shape, count_X.shape)\n",
    "        orig_X = X.copy()\n",
    "        adata = sc.AnnData(X)\n",
    "        adata.obs['Group'] = Y\n",
    "        adata = normalize(adata,\n",
    "                          copy=True,\n",
    "                          highly_genes=args.highly_genes,\n",
    "                          size_factors=True,\n",
    "                          normalize_input=True,\n",
    "                          logtrans_input=True)\n",
    "        X = adata.X.astype(np.float32)\n",
    "        Y = np.array(adata.obs[\"Group\"])\n",
    "\n",
    "        high_variable = np.array(adata.var.highly_variable.index, dtype=np.int)\n",
    "        count_X = count_X[:, high_variable]\n",
    "        size_factor = np.array(adata.obs.size_factors).reshape(-1,\n",
    "                                                               1).astype(np.float32)\n",
    "        cluster_number = int(max(Y) - min(Y) + 1)\n",
    "        args.dims[0]=X.shape[1]\n",
    "        print(X.shape, count_X.shape)\n",
    "\n",
    "        for run in range(3):\n",
    "            start = time.time()\n",
    "            seed = run\n",
    "            np.random.seed(seed)\n",
    "            tf.reset_default_graph()\n",
    "            chencluster = autoencoder(args.dataname, args.distribution,\n",
    "                                      args.self_training, args.dims, cluster_number,\n",
    "                                      args.t_alpha, args.alpha, args.gamma,\n",
    "                                      args.learning_rate, args.noise_sd)\n",
    "            chencluster.pretrain(X, count_X, size_factor, args.batch_size,\n",
    "                                 args.pretrain_epoch, args.gpu_option)\n",
    "\n",
    "            chencluster.funetrain(X, count_X, size_factor, args.batch_size,\n",
    "                                  args.funetrain_epoch, args.update_epoch, args.error, Y)\n",
    "\n",
    "            kmeans_ARI = np.around(adjusted_rand_score(Y, chencluster.kmeans_pred), 5)\n",
    "            kmeans_NMI = np.around(\n",
    "                normalized_mutual_info_score(Y, chencluster.kmeans_pred), 5)\n",
    "\n",
    "            elapsed = time.time() - start\n",
    "            ARI = adjusted_rand_score(Y, chencluster.Y_pred)\n",
    "            NMI = np.around(normalized_mutual_info_score(Y, chencluster.Y_pred), 5)\n",
    "            ss = silhouette_score(chencluster.latent_repre,chencluster.Y_pred)\n",
    "            cal = calinski_harabasz_score(chencluster.latent_repre,chencluster.Y_pred)\n",
    "\n",
    "            df.loc[df.shape[0]] = [dataset, ARI, NMI, ss, run, elapsed, chencluster.Y_pred, cal]\n",
    "            df.to_pickle(f\"../output/pickle_results/{category}/{category}_sczi.pkl\")\n"
   ]
  },
  {
   "cell_type": "code",
   "execution_count": null,
   "metadata": {},
   "outputs": [],
   "source": [
    "df.mean()"
   ]
  },
  {
   "cell_type": "code",
   "execution_count": null,
   "metadata": {},
   "outputs": [],
   "source": [
    "df.groupby(\"dataset\").mean()"
   ]
  },
  {
   "cell_type": "code",
   "execution_count": null,
   "metadata": {},
   "outputs": [],
   "source": []
  },
  {
   "cell_type": "code",
   "execution_count": null,
   "metadata": {},
   "outputs": [],
   "source": []
  },
  {
   "cell_type": "code",
   "execution_count": null,
   "metadata": {},
   "outputs": [],
   "source": []
  },
  {
   "cell_type": "code",
   "execution_count": null,
   "metadata": {},
   "outputs": [],
   "source": []
  }
 ],
 "metadata": {
  "kernelspec": {
   "display_name": "Python 3",
   "language": "python",
   "name": "python3"
  },
  "language_info": {
   "codemirror_mode": {
    "name": "ipython",
    "version": 3
   },
   "file_extension": ".py",
   "mimetype": "text/x-python",
   "name": "python",
   "nbconvert_exporter": "python",
   "pygments_lexer": "ipython3",
   "version": "3.7.4"
  }
 },
 "nbformat": 4,
 "nbformat_minor": 4
}
