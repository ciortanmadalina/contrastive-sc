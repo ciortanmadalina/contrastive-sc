{
 "cells": [
  {
   "cell_type": "markdown",
   "metadata": {},
   "source": [
    "# Run scDeepCluster on the simulated data"
   ]
  },
  {
   "cell_type": "code",
   "execution_count": 1,
   "metadata": {
    "scrolled": false
   },
   "outputs": [
    {
     "name": "stderr",
     "output_type": "stream",
     "text": [
      "Using TensorFlow backend.\n",
      "/opt/conda/lib/python3.7/site-packages/scanpy/api/__init__.py:7: FutureWarning: \n",
      "\n",
      "In a future version of Scanpy, `scanpy.api` will be removed.\n",
      "Simply use `import scanpy as sc` and `import scanpy.external as sce` instead.\n",
      "\n",
      "  FutureWarning,\n"
     ]
    }
   ],
   "source": [
    "\"\"\"\n",
    "This part implements the scDeepCluster algoritm\n",
    "\"\"\"\n",
    "\n",
    "from time import time\n",
    "import numpy as np\n",
    "from keras.models import Model\n",
    "import keras.backend as K\n",
    "from keras.engine.topology import Layer, InputSpec\n",
    "from keras.layers import Dense, Input, GaussianNoise, Layer, Activation\n",
    "from keras.models import Model\n",
    "from keras.optimizers import SGD, Adam\n",
    "from keras.utils.vis_utils import plot_model\n",
    "from keras.callbacks import EarlyStopping\n",
    "import pandas as pd\n",
    "from sklearn.cluster import KMeans\n",
    "from sklearn import metrics\n",
    "\n",
    "import h5py\n",
    "import scanpy.api as sc\n",
    "from scDeepCluster_layers import ConstantDispersionLayer, SliceLayer, ColWiseMultLayer\n",
    "from scDeepCluster_loss import poisson_loss, NB, ZINB\n",
    "from scDeepCluster_preprocess import read_dataset, normalize\n",
    "import tensorflow as tf\n",
    "\n",
    "from numpy.random import seed\n",
    "seed(2211)\n",
    "from tensorflow import set_random_seed\n",
    "set_random_seed(2211)\n",
    "\n",
    "MeanAct = lambda x: tf.clip_by_value(K.exp(x), 1e-5, 1e6)\n",
    "DispAct = lambda x: tf.clip_by_value(tf.nn.softplus(x), 1e-4, 1e4)\n",
    "\n",
    "def cluster_acc(y_true, y_pred):\n",
    "    \"\"\"\n",
    "    Calculate clustering accuracy. Require scikit-learn installed\n",
    "    # Arguments\n",
    "        y: true labels, numpy.array with shape `(n_samples,)`\n",
    "        y_pred: predicted labels, numpy.array with shape `(n_samples,)`\n",
    "    # Return\n",
    "        accuracy, in [0,1]\n",
    "    \"\"\"\n",
    "    y_true = y_true.astype(np.int64)\n",
    "    assert y_pred.size == y_true.size\n",
    "    D = max(y_pred.max(), y_true.max()) + 1\n",
    "    w = np.zeros((D, D), dtype=np.int64)\n",
    "    for i in range(y_pred.size):\n",
    "        w[y_pred[i], y_true[i]] += 1\n",
    "    from sklearn.utils.linear_assignment_ import linear_assignment\n",
    "    ind = linear_assignment(w.max() - w)\n",
    "    return sum([w[i, j] for i, j in ind]) * 1.0 / y_pred.size\n",
    "\n",
    "\n",
    "def autoencoder(dims, noise_sd=0, init='glorot_uniform', act='relu'):\n",
    "    \"\"\"\n",
    "    Fully connected auto-encoder model, symmetric.\n",
    "    Arguments:\n",
    "        dims: list of number of units in each layer of encoder. dims[0] is input dim, dims[-1] is units in hidden layer.\n",
    "            The decoder is symmetric with encoder. So number of layers of the auto-encoder is 2*len(dims)-1\n",
    "        act: activation, not applied to Input, Hidden and Output layers\n",
    "    return:\n",
    "        Model of autoencoder\n",
    "    \"\"\"\n",
    "    n_stacks = len(dims) - 1\n",
    "    # input\n",
    "    sf_layer = Input(shape=(1,), name='size_factors')\n",
    "    x = Input(shape=(dims[0],), name='counts')\n",
    "    h = x\n",
    "    h = GaussianNoise(noise_sd, name='input_noise')(h)\n",
    " \n",
    "    # internal layers in encoder\n",
    "    for i in range(n_stacks-1):\n",
    "        h = Dense(dims[i + 1], kernel_initializer=init, name='encoder_%d' % i)(h)\n",
    "        h = GaussianNoise(noise_sd, name='noise_%d' % i)(h)    # add Gaussian noise\n",
    "        h = Activation(act)(h)\n",
    "    # hidden layer\n",
    "    h = Dense(dims[-1], kernel_initializer=init, name='encoder_hidden')(h)  # hidden layer, features are extracted from here\n",
    "\n",
    "    # internal layers in decoder\n",
    "    for i in range(n_stacks-1, 0, -1):\n",
    "        h = Dense(dims[i], activation=act, kernel_initializer=init, name='decoder_%d' % i)(h)\n",
    "\n",
    "    # output\n",
    " \n",
    "    pi = Dense(dims[0], activation='sigmoid', kernel_initializer=init, name='pi')(h)\n",
    "\n",
    "    disp = Dense(dims[0], activation=DispAct, kernel_initializer=init, name='dispersion')(h)\n",
    "\n",
    "    mean = Dense(dims[0], activation=MeanAct, kernel_initializer=init, name='mean')(h)\n",
    "\n",
    "    output = ColWiseMultLayer(name='output')([mean, sf_layer])\n",
    "    output = SliceLayer(0, name='slice')([output, disp, pi])\n",
    "\n",
    "    return Model(inputs=[x, sf_layer], outputs=output)\n",
    "\n",
    "\n",
    "class ClusteringLayer(Layer):\n",
    "    \"\"\"\n",
    "    Clustering layer converts input sample (feature) to soft label, i.e. a vector that represents the probability of the\n",
    "    sample belonging to each cluster. The probability is calculated with student's t-distribution.\n",
    "    # Example\n",
    "    ```\n",
    "        model.add(ClusteringLayer(n_clusters=10))\n",
    "    ```\n",
    "    # Arguments\n",
    "        n_clusters: number of clusters.\n",
    "        weights: list of Numpy array with shape `(n_clusters, n_features)` witch represents the initial cluster centers.\n",
    "        alpha: parameter in Student's t-distribution. Default to 1.0.\n",
    "    # Input shape\n",
    "        2D tensor with shape: `(n_samples, n_features)`.\n",
    "    # Output shape\n",
    "        2D tensor with shape: `(n_samples, n_clusters)`.\n",
    "    \"\"\"\n",
    "\n",
    "    def __init__(self, n_clusters, weights=None, alpha=1.0, **kwargs):\n",
    "        if 'input_shape' not in kwargs and 'input_dim' in kwargs:\n",
    "            kwargs['input_shape'] = (kwargs.pop('input_dim'),)\n",
    "        super(ClusteringLayer, self).__init__(**kwargs)\n",
    "        self.n_clusters = n_clusters\n",
    "        self.alpha = alpha\n",
    "        self.initial_weights = weights\n",
    "        self.input_spec = InputSpec(ndim=2)\n",
    "\n",
    "    def build(self, input_shape):\n",
    "        assert len(input_shape) == 2\n",
    "        input_dim = input_shape[1]\n",
    "        self.input_spec = InputSpec(dtype=K.floatx(), shape=(None, input_dim))\n",
    "        self.clusters = self.add_weight(shape = (self.n_clusters, input_dim), \n",
    "                                        initializer='glorot_uniform',\n",
    "                                        name='clusters')\n",
    "        if self.initial_weights is not None:\n",
    "            self.set_weights(self.initial_weights)\n",
    "            del self.initial_weights\n",
    "        self.built = True\n",
    "\n",
    "    def call(self, inputs, **kwargs):\n",
    "        \"\"\" student t-distribution, as same as used in t-SNE algorithm.\n",
    "                 q_ij = 1/(1+dist(x_i, u_j)^2), then normalize it.\n",
    "        Arguments:\n",
    "            inputs: the variable containing data, shape=(n_samples, n_features)\n",
    "        Return:\n",
    "            q: student's t-distribution, or soft labels for each sample. shape=(n_samples, n_clusters)\n",
    "        \"\"\"\n",
    "        q = 1.0 / (1.0 + (K.sum(K.square(K.expand_dims(inputs, axis=1) - self.clusters), axis=2) / self.alpha))\n",
    "        q **= (self.alpha + 1.0) / 2.0\n",
    "        q = K.transpose(K.transpose(q) / K.sum(q, axis=1))\n",
    "        return q\n",
    "\n",
    "    def compute_output_shape(self, input_shape):\n",
    "        assert input_shape and len(input_shape) == 2\n",
    "        return input_shape[0], self.n_clusters\n",
    "\n",
    "    def get_config(self):\n",
    "        config = {'n_clusters': self.n_clusters}\n",
    "        base_config = super(ClusteringLayer, self).get_config()\n",
    "        return dict(list(base_config.items()) + list(config.items()))\n",
    "\n",
    "\n",
    "\n",
    "class SCDeepCluster(object):\n",
    "    def __init__(self,\n",
    "                 dims,\n",
    "                 n_clusters=10,\n",
    "                 noise_sd=0,\n",
    "                 alpha=1.0,\n",
    "                 ridge=0,\n",
    "                 debug=False):\n",
    "\n",
    "        super(SCDeepCluster, self).__init__()\n",
    "\n",
    "        self.dims = dims\n",
    "        self.input_dim = dims[0]\n",
    "        self.n_stacks = len(self.dims) - 1\n",
    "\n",
    "        self.n_clusters = n_clusters\n",
    "        self.noise_sd = noise_sd\n",
    "        self.alpha = alpha\n",
    "        self.act = 'relu'\n",
    "        self.ridge = ridge\n",
    "        self.debug = debug\n",
    "        self.autoencoder = autoencoder(self.dims, noise_sd=self.noise_sd, act = self.act)\n",
    "        \n",
    "        # prepare clean encode model without Gaussian noise\n",
    "        ae_layers = [l for l in self.autoencoder.layers]\n",
    "        hidden = self.autoencoder.input[0]\n",
    "        for i in range(1, len(ae_layers)):\n",
    "            if \"noise\" in ae_layers[i].name:\n",
    "                next\n",
    "            elif \"dropout\" in ae_layers[i].name:\n",
    "                next\n",
    "            else:\n",
    "                hidden = ae_layers[i](hidden)\n",
    "            if \"encoder_hidden\" in ae_layers[i].name:  # only get encoder layers\n",
    "                break\n",
    "        self.encoder = Model(inputs=self.autoencoder.input, outputs=hidden)\n",
    "\n",
    "        pi = self.autoencoder.get_layer(name='pi').output\n",
    "        disp = self.autoencoder.get_layer(name='dispersion').output\n",
    "        mean = self.autoencoder.get_layer(name='mean').output\n",
    "        zinb = ZINB(pi, theta=disp, ridge_lambda=self.ridge, debug=self.debug)\n",
    "        self.loss = zinb.loss\n",
    "\n",
    "        clustering_layer = ClusteringLayer(self.n_clusters, alpha=self.alpha, name='clustering')(hidden)\n",
    "        self.model = Model(inputs=[self.autoencoder.input[0], self.autoencoder.input[1]],\n",
    "                           outputs=[clustering_layer, self.autoencoder.output])\n",
    "\n",
    "        self.pretrained = False\n",
    "        self.centers = []\n",
    "        self.y_pred = []\n",
    "\n",
    "    def pretrain(self, x, y, batch_size=256, epochs=200, optimizer='adam', ae_file='ae_weights.h5'):\n",
    "        print('...Pretraining autoencoder...')\n",
    "        self.autoencoder.compile(loss=self.loss, optimizer=optimizer)\n",
    "        es = EarlyStopping(monitor=\"loss\", patience=50, verbose=0)\n",
    "        self.autoencoder.fit(x=x, y=y, batch_size=batch_size, epochs=epochs, callbacks=[es], verbose = 0)\n",
    "        self.autoencoder.save_weights(ae_file)\n",
    "        print('Pretrained weights are saved to ./' + str(ae_file))\n",
    "        self.pretrained = True\n",
    "\n",
    "    def load_weights(self, weights_path):  # load weights of scDeepCluster model\n",
    "        self.model.load_weights(weights_path)\n",
    "\n",
    "    def extract_feature(self, x):  # extract features from before clustering layer\n",
    "        return self.encoder.predict(x)\n",
    "\n",
    "    def predict_clusters(self, x):  # predict cluster labels using the output of clustering layer\n",
    "        q, _ = self.model.predict(x, verbose=0)\n",
    "        return q.argmax(1)\n",
    "\n",
    "    @staticmethod\n",
    "    def target_distribution(q):  # target distribution P which enhances the discrimination of soft label Q\n",
    "        weight = q ** 2 / q.sum(0)\n",
    "        return (weight.T / weight.sum(1)).T\n",
    "\n",
    "    def fit(self, x_counts, sf, y, raw_counts, batch_size=256, maxiter=2e4, tol=1e-3, update_interval=140,\n",
    "            ae_weights=None, save_dir='./output/pickle_results/scDeepCluster', loss_weights=[1,1], optimizer='adadelta'):\n",
    "\n",
    "        self.model.compile(loss=['kld', self.loss], loss_weights=loss_weights, optimizer=optimizer)\n",
    "\n",
    "        print('Update interval', update_interval)\n",
    "        save_interval = int(x_counts.shape[0] / batch_size) * 5  # 5 epochs\n",
    "        print('Save interval', save_interval)\n",
    "\n",
    "        # Step 1: pretrain\n",
    "        if not self.pretrained and ae_weights is None:\n",
    "            print('...pretraining autoencoders using default hyper-parameters:')\n",
    "            print('   optimizer=\\'adam\\';   epochs=200')\n",
    "            self.pretrain(x, batch_size)\n",
    "            self.pretrained = True\n",
    "        elif ae_weights is not None:\n",
    "            self.autoencoder.load_weights(ae_weights)\n",
    "            print('ae_weights is loaded successfully.')\n",
    "\n",
    "        # Step 2: initialize cluster centers using k-means\n",
    "        print('Initializing cluster centers with k-means.')\n",
    "        kmeans = KMeans(n_clusters=self.n_clusters, n_init=20)\n",
    "        self.y_pred = kmeans.fit_predict(self.encoder.predict([x_counts, sf]))\n",
    "        y_pred_last = np.copy(self.y_pred)\n",
    "        self.model.get_layer(name='clustering').set_weights([kmeans.cluster_centers_])\n",
    "\n",
    "        # Step 3: deep clustering\n",
    "        # logging file\n",
    "        import csv, os\n",
    "        if not os.path.exists(save_dir):\n",
    "            os.makedirs(save_dir)\n",
    "        logfile = open(save_dir + '/scDeepCluster_log.csv', 'w')\n",
    "        logwriter = csv.DictWriter(logfile, fieldnames=['iter', 'acc', 'nmi', 'ari', 'L', 'Lc', 'Lr'])\n",
    "        logwriter.writeheader()\n",
    "\n",
    "        loss = [0, 0, 0]\n",
    "        index = 0\n",
    "        for ite in range(int(maxiter)):\n",
    "            if ite % update_interval == 0:\n",
    "                q, _ = self.model.predict([x_counts, sf], verbose=0)\n",
    "                p = self.target_distribution(q)  # update the auxiliary target distribution p\n",
    "\n",
    "                # evaluate the clustering performance\n",
    "                self.y_pred = q.argmax(1)\n",
    "                if y is not None:\n",
    "                    acc = np.round(cluster_acc(y, self.y_pred), 5)\n",
    "                    nmi = np.round(metrics.normalized_mutual_info_score(y, self.y_pred), 5)\n",
    "                    ari = np.round(metrics.adjusted_rand_score(y, self.y_pred), 5)\n",
    "                    loss = np.round(loss, 5)\n",
    "                    logwriter.writerow(dict(iter=ite, acc=acc, nmi=nmi, ari=ari, L=loss[0], Lc=loss[1], Lr=loss[2]))\n",
    "                    print('Iter-%d: ACC= %.4f, NMI= %.4f, ARI= %.4f;  L= %.5f, Lc= %.5f,  Lr= %.5f'\n",
    "                          % (ite, acc, nmi, ari, loss[0], loss[1], loss[2]))\n",
    "\n",
    "                # check stop criterion\n",
    "                delta_label = np.sum(self.y_pred != y_pred_last).astype(np.float32) / self.y_pred.shape[0]\n",
    "                y_pred_last = np.copy(self.y_pred)\n",
    "                if ite > 0 and delta_label < tol:\n",
    "                    print('delta_label ', delta_label, '< tol ', tol)\n",
    "                    print('Reached tolerance threshold. Stopping training.')\n",
    "                    logfile.close()\n",
    "                    break\n",
    "\n",
    "            # train on batch\n",
    "            if (index + 1) * batch_size > x_counts.shape[0]:\n",
    "                loss = self.model.train_on_batch(x=[x_counts[index * batch_size::], sf[index * batch_size:]],\n",
    "                                                 y=[p[index * batch_size::], raw_counts[index * batch_size::]])\n",
    "                index = 0\n",
    "            else:\n",
    "                loss = self.model.train_on_batch(x=[x_counts[index * batch_size:(index + 1) * batch_size], \n",
    "                                                    sf[index * batch_size:(index + 1) * batch_size]],\n",
    "                                                 y=[p[index * batch_size:(index + 1) * batch_size],\n",
    "                                                    raw_counts[index * batch_size:(index + 1) * batch_size]])\n",
    "                index += 1\n",
    "\n",
    "            # save intermediate model\n",
    "            if ite % save_interval == 0:\n",
    "                # save scDeepCluster model checkpoints\n",
    "                print('saving model to: ' + save_dir + '/scDeepCluster_model_' + str(ite) + '.h5')\n",
    "                self.model.save_weights(save_dir + '/scDeepCluster_model_' + str(ite) + '.h5')\n",
    "\n",
    "            ite += 1\n",
    "\n",
    "        # save the trained model\n",
    "        logfile.close()\n",
    "        print('saving model to: ' + save_dir + '/scDeepCluster_model_final.h5')\n",
    "        self.model.save_weights(save_dir + '/scDeepCluster_model_final.h5')\n",
    "        \n",
    "        return self.y_pred"
   ]
  },
  {
   "cell_type": "code",
   "execution_count": 2,
   "metadata": {},
   "outputs": [],
   "source": [
    "import glob2"
   ]
  },
  {
   "cell_type": "code",
   "execution_count": 12,
   "metadata": {},
   "outputs": [
    {
     "data": {
      "text/plain": [
       "['data_1c8',\n",
       " 'data_-1c4',\n",
       " 'data_-1c8',\n",
       " 'data_0c4',\n",
       " 'data_0c8',\n",
       " 'data_0c16',\n",
       " 'data_1.5c4',\n",
       " 'data_1c32',\n",
       " 'data_1c4',\n",
       " 'data_1.5c8',\n",
       " 'data_1.5c16',\n",
       " 'data_0c32',\n",
       " 'data_1.5c32',\n",
       " 'data_-1c32',\n",
       " 'data_-1c16',\n",
       " 'data_1c16']"
      ]
     },
     "execution_count": 12,
     "metadata": {},
     "output_type": "execute_result"
    }
   ],
   "source": [
    "category = \"imbalanced_data\"# \"balanced_data\"\n",
    "files = glob2.glob(f'../R/simulated_data/{category}/*.h5')\n",
    "files = [f[len(f\"{path}R/simulated_data/{category}/\"):-3] for f in files]\n",
    "files"
   ]
  },
  {
   "cell_type": "code",
   "execution_count": 14,
   "metadata": {
    "scrolled": true
   },
   "outputs": [
    {
     "name": "stdout",
     "output_type": "stream",
     "text": [
      ">>> Dataset data_1c8 \n",
      "### Autoencoder: Successfully preprocessed 2500 genes and 3000 cells.\n",
      "Sample size\n",
      "(3000, 2486)\n",
      "(3000,)\n",
      "...Pretraining autoencoder...\n",
      "Pretrained weights are saved to ./ae_weights.h5\n",
      "Update interval 11\n",
      "Save interval 55\n",
      "Initializing cluster centers with k-means.\n"
     ]
    },
    {
     "name": "stderr",
     "output_type": "stream",
     "text": [
      "/opt/conda/lib/python3.7/site-packages/sklearn/utils/linear_assignment_.py:128: FutureWarning: The linear_assignment function is deprecated in 0.21 and will be removed from 0.23. Use scipy.optimize.linear_sum_assignment instead.\n",
      "  FutureWarning)\n"
     ]
    },
    {
     "name": "stdout",
     "output_type": "stream",
     "text": [
      "Iter-0: ACC= 0.2587, NMI= 0.0103, ARI= 0.0020;  L= 0.00000, Lc= 0.00000,  Lr= 0.00000\n",
      "saving model to: scDeepCluster/scDeepCluster_model_0.h5\n"
     ]
    },
    {
     "name": "stderr",
     "output_type": "stream",
     "text": [
      "/opt/conda/lib/python3.7/site-packages/sklearn/utils/linear_assignment_.py:128: FutureWarning: The linear_assignment function is deprecated in 0.21 and will be removed from 0.23. Use scipy.optimize.linear_sum_assignment instead.\n",
      "  FutureWarning)\n"
     ]
    },
    {
     "name": "stdout",
     "output_type": "stream",
     "text": [
      "Iter-11: ACC= 0.2600, NMI= 0.0084, ARI= 0.0027;  L= 2.29579, Lc= 0.08617,  Lr= 2.20963\n"
     ]
    },
    {
     "name": "stderr",
     "output_type": "stream",
     "text": [
      "/opt/conda/lib/python3.7/site-packages/sklearn/utils/linear_assignment_.py:128: FutureWarning: The linear_assignment function is deprecated in 0.21 and will be removed from 0.23. Use scipy.optimize.linear_sum_assignment instead.\n",
      "  FutureWarning)\n"
     ]
    },
    {
     "name": "stdout",
     "output_type": "stream",
     "text": [
      "Iter-22: ACC= 0.2603, NMI= 0.0078, ARI= 0.0034;  L= 2.29389, Lc= 0.08492,  Lr= 2.20897\n"
     ]
    },
    {
     "name": "stderr",
     "output_type": "stream",
     "text": [
      "/opt/conda/lib/python3.7/site-packages/sklearn/utils/linear_assignment_.py:128: FutureWarning: The linear_assignment function is deprecated in 0.21 and will be removed from 0.23. Use scipy.optimize.linear_sum_assignment instead.\n",
      "  FutureWarning)\n"
     ]
    },
    {
     "name": "stdout",
     "output_type": "stream",
     "text": [
      "Iter-33: ACC= 0.2607, NMI= 0.0076, ARI= 0.0034;  L= 2.33787, Lc= 0.08871,  Lr= 2.24916\n"
     ]
    },
    {
     "name": "stderr",
     "output_type": "stream",
     "text": [
      "/opt/conda/lib/python3.7/site-packages/sklearn/utils/linear_assignment_.py:128: FutureWarning: The linear_assignment function is deprecated in 0.21 and will be removed from 0.23. Use scipy.optimize.linear_sum_assignment instead.\n",
      "  FutureWarning)\n"
     ]
    },
    {
     "name": "stdout",
     "output_type": "stream",
     "text": [
      "Iter-44: ACC= 0.2623, NMI= 0.0073, ARI= 0.0036;  L= 2.30358, Lc= 0.09360,  Lr= 2.20998\n"
     ]
    },
    {
     "name": "stderr",
     "output_type": "stream",
     "text": [
      "/opt/conda/lib/python3.7/site-packages/sklearn/utils/linear_assignment_.py:128: FutureWarning: The linear_assignment function is deprecated in 0.21 and will be removed from 0.23. Use scipy.optimize.linear_sum_assignment instead.\n",
      "  FutureWarning)\n"
     ]
    },
    {
     "name": "stdout",
     "output_type": "stream",
     "text": [
      "Iter-55: ACC= 0.2620, NMI= 0.0072, ARI= 0.0036;  L= 2.33949, Lc= 0.08397,  Lr= 2.25552\n",
      "saving model to: scDeepCluster/scDeepCluster_model_55.h5\n"
     ]
    },
    {
     "name": "stderr",
     "output_type": "stream",
     "text": [
      "/opt/conda/lib/python3.7/site-packages/sklearn/utils/linear_assignment_.py:128: FutureWarning: The linear_assignment function is deprecated in 0.21 and will be removed from 0.23. Use scipy.optimize.linear_sum_assignment instead.\n",
      "  FutureWarning)\n"
     ]
    },
    {
     "name": "stdout",
     "output_type": "stream",
     "text": [
      "Iter-66: ACC= 0.2623, NMI= 0.0072, ARI= 0.0036;  L= 2.30032, Lc= 0.08129,  Lr= 2.21902\n"
     ]
    },
    {
     "name": "stderr",
     "output_type": "stream",
     "text": [
      "/opt/conda/lib/python3.7/site-packages/sklearn/utils/linear_assignment_.py:128: FutureWarning: The linear_assignment function is deprecated in 0.21 and will be removed from 0.23. Use scipy.optimize.linear_sum_assignment instead.\n",
      "  FutureWarning)\n"
     ]
    },
    {
     "name": "stdout",
     "output_type": "stream",
     "text": [
      "Iter-77: ACC= 0.2610, NMI= 0.0070, ARI= 0.0034;  L= 2.29329, Lc= 0.07281,  Lr= 2.22048\n"
     ]
    },
    {
     "name": "stderr",
     "output_type": "stream",
     "text": [
      "/opt/conda/lib/python3.7/site-packages/sklearn/utils/linear_assignment_.py:128: FutureWarning: The linear_assignment function is deprecated in 0.21 and will be removed from 0.23. Use scipy.optimize.linear_sum_assignment instead.\n",
      "  FutureWarning)\n"
     ]
    },
    {
     "name": "stdout",
     "output_type": "stream",
     "text": [
      "Iter-88: ACC= 0.2597, NMI= 0.0069, ARI= 0.0033;  L= 2.30222, Lc= 0.07422,  Lr= 2.22801\n"
     ]
    },
    {
     "name": "stderr",
     "output_type": "stream",
     "text": [
      "/opt/conda/lib/python3.7/site-packages/sklearn/utils/linear_assignment_.py:128: FutureWarning: The linear_assignment function is deprecated in 0.21 and will be removed from 0.23. Use scipy.optimize.linear_sum_assignment instead.\n",
      "  FutureWarning)\n"
     ]
    },
    {
     "name": "stdout",
     "output_type": "stream",
     "text": [
      "Iter-99: ACC= 0.2603, NMI= 0.0071, ARI= 0.0035;  L= 2.29678, Lc= 0.06172,  Lr= 2.23506\n"
     ]
    },
    {
     "name": "stderr",
     "output_type": "stream",
     "text": [
      "/opt/conda/lib/python3.7/site-packages/sklearn/utils/linear_assignment_.py:128: FutureWarning: The linear_assignment function is deprecated in 0.21 and will be removed from 0.23. Use scipy.optimize.linear_sum_assignment instead.\n",
      "  FutureWarning)\n"
     ]
    },
    {
     "name": "stdout",
     "output_type": "stream",
     "text": [
      "Iter-110: ACC= 0.2610, NMI= 0.0072, ARI= 0.0035;  L= 2.29170, Lc= 0.05756,  Lr= 2.23414\n",
      "saving model to: scDeepCluster/scDeepCluster_model_110.h5\n"
     ]
    },
    {
     "name": "stderr",
     "output_type": "stream",
     "text": [
      "/opt/conda/lib/python3.7/site-packages/sklearn/utils/linear_assignment_.py:128: FutureWarning: The linear_assignment function is deprecated in 0.21 and will be removed from 0.23. Use scipy.optimize.linear_sum_assignment instead.\n",
      "  FutureWarning)\n",
      "/opt/conda/lib/python3.7/site-packages/sklearn/utils/linear_assignment_.py:128: FutureWarning: The linear_assignment function is deprecated in 0.21 and will be removed from 0.23. Use scipy.optimize.linear_sum_assignment instead.\n",
      "  FutureWarning)\n"
     ]
    },
    {
     "name": "stdout",
     "output_type": "stream",
     "text": [
      "Iter-121: ACC= 0.2610, NMI= 0.0072, ARI= 0.0036;  L= 2.28197, Lc= 0.05384,  Lr= 2.22813\n",
      "delta_label  0.0006666666666666666 < tol  0.001\n",
      "Reached tolerance threshold. Stopping training.\n",
      "saving model to: scDeepCluster/scDeepCluster_model_final.h5\n",
      "Final: ACC= 0.2610, NMI= 0.0072, ARI= 0.0036\n",
      "Clustering time: 857 seconds.\n",
      ">>> Dataset data_-1c4 \n",
      "### Autoencoder: Successfully preprocessed 2500 genes and 3000 cells.\n",
      "Sample size\n",
      "(3000, 2492)\n",
      "(3000,)\n",
      "...Pretraining autoencoder...\n",
      "Pretrained weights are saved to ./ae_weights.h5\n",
      "Update interval 11\n",
      "Save interval 55\n",
      "Initializing cluster centers with k-means.\n"
     ]
    },
    {
     "name": "stderr",
     "output_type": "stream",
     "text": [
      "/opt/conda/lib/python3.7/site-packages/sklearn/utils/linear_assignment_.py:128: FutureWarning: The linear_assignment function is deprecated in 0.21 and will be removed from 0.23. Use scipy.optimize.linear_sum_assignment instead.\n",
      "  FutureWarning)\n"
     ]
    },
    {
     "name": "stdout",
     "output_type": "stream",
     "text": [
      "Iter-0: ACC= 0.6843, NMI= 0.6421, ARI= 0.6159;  L= 0.00000, Lc= 0.00000,  Lr= 0.00000\n",
      "saving model to: scDeepCluster/scDeepCluster_model_0.h5\n"
     ]
    },
    {
     "name": "stderr",
     "output_type": "stream",
     "text": [
      "/opt/conda/lib/python3.7/site-packages/sklearn/utils/linear_assignment_.py:128: FutureWarning: The linear_assignment function is deprecated in 0.21 and will be removed from 0.23. Use scipy.optimize.linear_sum_assignment instead.\n",
      "  FutureWarning)\n"
     ]
    },
    {
     "name": "stdout",
     "output_type": "stream",
     "text": [
      "Iter-11: ACC= 0.6757, NMI= 0.6427, ARI= 0.6156;  L= 2.56532, Lc= 0.09182,  Lr= 2.47350\n"
     ]
    },
    {
     "name": "stderr",
     "output_type": "stream",
     "text": [
      "/opt/conda/lib/python3.7/site-packages/sklearn/utils/linear_assignment_.py:128: FutureWarning: The linear_assignment function is deprecated in 0.21 and will be removed from 0.23. Use scipy.optimize.linear_sum_assignment instead.\n",
      "  FutureWarning)\n"
     ]
    },
    {
     "name": "stdout",
     "output_type": "stream",
     "text": [
      "Iter-22: ACC= 0.6800, NMI= 0.6470, ARI= 0.6173;  L= 2.56273, Lc= 0.09305,  Lr= 2.46967\n"
     ]
    },
    {
     "name": "stderr",
     "output_type": "stream",
     "text": [
      "/opt/conda/lib/python3.7/site-packages/sklearn/utils/linear_assignment_.py:128: FutureWarning: The linear_assignment function is deprecated in 0.21 and will be removed from 0.23. Use scipy.optimize.linear_sum_assignment instead.\n",
      "  FutureWarning)\n"
     ]
    },
    {
     "name": "stdout",
     "output_type": "stream",
     "text": [
      "Iter-33: ACC= 0.6827, NMI= 0.6491, ARI= 0.6175;  L= 2.65587, Lc= 0.08976,  Lr= 2.56611\n"
     ]
    },
    {
     "name": "stderr",
     "output_type": "stream",
     "text": [
      "/opt/conda/lib/python3.7/site-packages/sklearn/utils/linear_assignment_.py:128: FutureWarning: The linear_assignment function is deprecated in 0.21 and will be removed from 0.23. Use scipy.optimize.linear_sum_assignment instead.\n",
      "  FutureWarning)\n"
     ]
    },
    {
     "name": "stdout",
     "output_type": "stream",
     "text": [
      "Iter-44: ACC= 0.6853, NMI= 0.6512, ARI= 0.6177;  L= 2.60167, Lc= 0.09277,  Lr= 2.50890\n"
     ]
    },
    {
     "name": "stderr",
     "output_type": "stream",
     "text": [
      "/opt/conda/lib/python3.7/site-packages/sklearn/utils/linear_assignment_.py:128: FutureWarning: The linear_assignment function is deprecated in 0.21 and will be removed from 0.23. Use scipy.optimize.linear_sum_assignment instead.\n",
      "  FutureWarning)\n"
     ]
    },
    {
     "name": "stdout",
     "output_type": "stream",
     "text": [
      "Iter-55: ACC= 0.6857, NMI= 0.6524, ARI= 0.6180;  L= 2.61969, Lc= 0.08488,  Lr= 2.53481\n",
      "saving model to: scDeepCluster/scDeepCluster_model_55.h5\n"
     ]
    },
    {
     "name": "stderr",
     "output_type": "stream",
     "text": [
      "/opt/conda/lib/python3.7/site-packages/sklearn/utils/linear_assignment_.py:128: FutureWarning: The linear_assignment function is deprecated in 0.21 and will be removed from 0.23. Use scipy.optimize.linear_sum_assignment instead.\n",
      "  FutureWarning)\n"
     ]
    },
    {
     "name": "stdout",
     "output_type": "stream",
     "text": [
      "Iter-66: ACC= 0.6860, NMI= 0.6524, ARI= 0.6181;  L= 2.60181, Lc= 0.08100,  Lr= 2.52081\n",
      "delta_label  0.0003333333333333333 < tol  0.001\n",
      "Reached tolerance threshold. Stopping training.\n",
      "saving model to: scDeepCluster/scDeepCluster_model_final.h5\n"
     ]
    },
    {
     "name": "stderr",
     "output_type": "stream",
     "text": [
      "/opt/conda/lib/python3.7/site-packages/sklearn/utils/linear_assignment_.py:128: FutureWarning: The linear_assignment function is deprecated in 0.21 and will be removed from 0.23. Use scipy.optimize.linear_sum_assignment instead.\n",
      "  FutureWarning)\n"
     ]
    },
    {
     "name": "stdout",
     "output_type": "stream",
     "text": [
      "Final: ACC= 0.6860, NMI= 0.6524, ARI= 0.6181\n",
      "Clustering time: 847 seconds.\n",
      ">>> Dataset data_-1c8 \n",
      "### Autoencoder: Successfully preprocessed 2500 genes and 3000 cells.\n",
      "Sample size\n",
      "(3000, 2494)\n",
      "(3000,)\n",
      "...Pretraining autoencoder...\n",
      "Pretrained weights are saved to ./ae_weights.h5\n",
      "Update interval 11\n",
      "Save interval 55\n",
      "Initializing cluster centers with k-means.\n"
     ]
    },
    {
     "name": "stderr",
     "output_type": "stream",
     "text": [
      "/opt/conda/lib/python3.7/site-packages/sklearn/utils/linear_assignment_.py:128: FutureWarning: The linear_assignment function is deprecated in 0.21 and will be removed from 0.23. Use scipy.optimize.linear_sum_assignment instead.\n",
      "  FutureWarning)\n"
     ]
    },
    {
     "name": "stdout",
     "output_type": "stream",
     "text": [
      "Iter-0: ACC= 0.5960, NMI= 0.4303, ARI= 0.3277;  L= 0.00000, Lc= 0.00000,  Lr= 0.00000\n",
      "saving model to: scDeepCluster/scDeepCluster_model_0.h5\n"
     ]
    },
    {
     "name": "stderr",
     "output_type": "stream",
     "text": [
      "/opt/conda/lib/python3.7/site-packages/sklearn/utils/linear_assignment_.py:128: FutureWarning: The linear_assignment function is deprecated in 0.21 and will be removed from 0.23. Use scipy.optimize.linear_sum_assignment instead.\n",
      "  FutureWarning)\n"
     ]
    },
    {
     "name": "stdout",
     "output_type": "stream",
     "text": [
      "Iter-11: ACC= 0.6080, NMI= 0.4498, ARI= 0.3542;  L= 2.55552, Lc= 0.08446,  Lr= 2.47105\n"
     ]
    },
    {
     "name": "stderr",
     "output_type": "stream",
     "text": [
      "/opt/conda/lib/python3.7/site-packages/sklearn/utils/linear_assignment_.py:128: FutureWarning: The linear_assignment function is deprecated in 0.21 and will be removed from 0.23. Use scipy.optimize.linear_sum_assignment instead.\n",
      "  FutureWarning)\n"
     ]
    },
    {
     "name": "stdout",
     "output_type": "stream",
     "text": [
      "Iter-22: ACC= 0.6177, NMI= 0.4633, ARI= 0.3748;  L= 2.55726, Lc= 0.08614,  Lr= 2.47111\n"
     ]
    },
    {
     "name": "stderr",
     "output_type": "stream",
     "text": [
      "/opt/conda/lib/python3.7/site-packages/sklearn/utils/linear_assignment_.py:128: FutureWarning: The linear_assignment function is deprecated in 0.21 and will be removed from 0.23. Use scipy.optimize.linear_sum_assignment instead.\n",
      "  FutureWarning)\n"
     ]
    },
    {
     "name": "stdout",
     "output_type": "stream",
     "text": [
      "Iter-33: ACC= 0.6223, NMI= 0.4682, ARI= 0.3843;  L= 2.57174, Lc= 0.08861,  Lr= 2.48313\n"
     ]
    },
    {
     "name": "stderr",
     "output_type": "stream",
     "text": [
      "/opt/conda/lib/python3.7/site-packages/sklearn/utils/linear_assignment_.py:128: FutureWarning: The linear_assignment function is deprecated in 0.21 and will be removed from 0.23. Use scipy.optimize.linear_sum_assignment instead.\n",
      "  FutureWarning)\n"
     ]
    },
    {
     "name": "stdout",
     "output_type": "stream",
     "text": [
      "Iter-44: ACC= 0.6223, NMI= 0.4743, ARI= 0.3848;  L= 2.70572, Lc= 0.10442,  Lr= 2.60130\n"
     ]
    },
    {
     "name": "stderr",
     "output_type": "stream",
     "text": [
      "/opt/conda/lib/python3.7/site-packages/sklearn/utils/linear_assignment_.py:128: FutureWarning: The linear_assignment function is deprecated in 0.21 and will be removed from 0.23. Use scipy.optimize.linear_sum_assignment instead.\n",
      "  FutureWarning)\n"
     ]
    },
    {
     "name": "stdout",
     "output_type": "stream",
     "text": [
      "Iter-55: ACC= 0.6240, NMI= 0.4740, ARI= 0.3885;  L= 2.60130, Lc= 0.08606,  Lr= 2.51524\n",
      "saving model to: scDeepCluster/scDeepCluster_model_55.h5\n"
     ]
    },
    {
     "name": "stderr",
     "output_type": "stream",
     "text": [
      "/opt/conda/lib/python3.7/site-packages/sklearn/utils/linear_assignment_.py:128: FutureWarning: The linear_assignment function is deprecated in 0.21 and will be removed from 0.23. Use scipy.optimize.linear_sum_assignment instead.\n",
      "  FutureWarning)\n"
     ]
    },
    {
     "name": "stdout",
     "output_type": "stream",
     "text": [
      "Iter-66: ACC= 0.6247, NMI= 0.4732, ARI= 0.3902;  L= 2.61093, Lc= 0.08688,  Lr= 2.52405\n"
     ]
    },
    {
     "name": "stderr",
     "output_type": "stream",
     "text": [
      "/opt/conda/lib/python3.7/site-packages/sklearn/utils/linear_assignment_.py:128: FutureWarning: The linear_assignment function is deprecated in 0.21 and will be removed from 0.23. Use scipy.optimize.linear_sum_assignment instead.\n",
      "  FutureWarning)\n"
     ]
    },
    {
     "name": "stdout",
     "output_type": "stream",
     "text": [
      "Iter-77: ACC= 0.6260, NMI= 0.4738, ARI= 0.3929;  L= 2.60044, Lc= 0.08446,  Lr= 2.51598\n"
     ]
    },
    {
     "name": "stderr",
     "output_type": "stream",
     "text": [
      "/opt/conda/lib/python3.7/site-packages/sklearn/utils/linear_assignment_.py:128: FutureWarning: The linear_assignment function is deprecated in 0.21 and will be removed from 0.23. Use scipy.optimize.linear_sum_assignment instead.\n",
      "  FutureWarning)\n",
      "/opt/conda/lib/python3.7/site-packages/sklearn/utils/linear_assignment_.py:128: FutureWarning: The linear_assignment function is deprecated in 0.21 and will be removed from 0.23. Use scipy.optimize.linear_sum_assignment instead.\n",
      "  FutureWarning)\n"
     ]
    },
    {
     "name": "stdout",
     "output_type": "stream",
     "text": [
      "Iter-88: ACC= 0.6260, NMI= 0.4740, ARI= 0.3930;  L= 2.60176, Lc= 0.08055,  Lr= 2.52121\n",
      "delta_label  0.0003333333333333333 < tol  0.001\n",
      "Reached tolerance threshold. Stopping training.\n",
      "saving model to: scDeepCluster/scDeepCluster_model_final.h5\n",
      "Final: ACC= 0.6260, NMI= 0.4740, ARI= 0.3930\n",
      "Clustering time: 862 seconds.\n",
      ">>> Dataset data_0c4 \n",
      "### Autoencoder: Successfully preprocessed 2500 genes and 3000 cells.\n",
      "Sample size\n",
      "(3000, 2494)\n",
      "(3000,)\n",
      "...Pretraining autoencoder...\n",
      "Pretrained weights are saved to ./ae_weights.h5\n",
      "Update interval 11\n",
      "Save interval 55\n",
      "Initializing cluster centers with k-means.\n"
     ]
    },
    {
     "name": "stderr",
     "output_type": "stream",
     "text": [
      "/opt/conda/lib/python3.7/site-packages/sklearn/utils/linear_assignment_.py:128: FutureWarning: The linear_assignment function is deprecated in 0.21 and will be removed from 0.23. Use scipy.optimize.linear_sum_assignment instead.\n",
      "  FutureWarning)\n"
     ]
    },
    {
     "name": "stdout",
     "output_type": "stream",
     "text": [
      "Iter-0: ACC= 0.6707, NMI= 0.5863, ARI= 0.5916;  L= 0.00000, Lc= 0.00000,  Lr= 0.00000\n",
      "saving model to: scDeepCluster/scDeepCluster_model_0.h5\n"
     ]
    },
    {
     "name": "stderr",
     "output_type": "stream",
     "text": [
      "/opt/conda/lib/python3.7/site-packages/sklearn/utils/linear_assignment_.py:128: FutureWarning: The linear_assignment function is deprecated in 0.21 and will be removed from 0.23. Use scipy.optimize.linear_sum_assignment instead.\n",
      "  FutureWarning)\n"
     ]
    },
    {
     "name": "stdout",
     "output_type": "stream",
     "text": [
      "Iter-11: ACC= 0.6687, NMI= 0.5883, ARI= 0.5934;  L= 2.47883, Lc= 0.08942,  Lr= 2.38941\n"
     ]
    },
    {
     "name": "stderr",
     "output_type": "stream",
     "text": [
      "/opt/conda/lib/python3.7/site-packages/sklearn/utils/linear_assignment_.py:128: FutureWarning: The linear_assignment function is deprecated in 0.21 and will be removed from 0.23. Use scipy.optimize.linear_sum_assignment instead.\n",
      "  FutureWarning)\n"
     ]
    },
    {
     "name": "stdout",
     "output_type": "stream",
     "text": [
      "Iter-22: ACC= 0.6743, NMI= 0.5935, ARI= 0.5970;  L= 2.47914, Lc= 0.09039,  Lr= 2.38876\n"
     ]
    },
    {
     "name": "stderr",
     "output_type": "stream",
     "text": [
      "/opt/conda/lib/python3.7/site-packages/sklearn/utils/linear_assignment_.py:128: FutureWarning: The linear_assignment function is deprecated in 0.21 and will be removed from 0.23. Use scipy.optimize.linear_sum_assignment instead.\n",
      "  FutureWarning)\n"
     ]
    },
    {
     "name": "stdout",
     "output_type": "stream",
     "text": [
      "Iter-33: ACC= 0.6790, NMI= 0.5958, ARI= 0.5987;  L= 2.51669, Lc= 0.08952,  Lr= 2.42717\n"
     ]
    },
    {
     "name": "stderr",
     "output_type": "stream",
     "text": [
      "/opt/conda/lib/python3.7/site-packages/sklearn/utils/linear_assignment_.py:128: FutureWarning: The linear_assignment function is deprecated in 0.21 and will be removed from 0.23. Use scipy.optimize.linear_sum_assignment instead.\n",
      "  FutureWarning)\n"
     ]
    },
    {
     "name": "stdout",
     "output_type": "stream",
     "text": [
      "Iter-44: ACC= 0.6793, NMI= 0.5963, ARI= 0.5989;  L= 2.50930, Lc= 0.09674,  Lr= 2.41255\n"
     ]
    },
    {
     "name": "stderr",
     "output_type": "stream",
     "text": [
      "/opt/conda/lib/python3.7/site-packages/sklearn/utils/linear_assignment_.py:128: FutureWarning: The linear_assignment function is deprecated in 0.21 and will be removed from 0.23. Use scipy.optimize.linear_sum_assignment instead.\n",
      "  FutureWarning)\n",
      "/opt/conda/lib/python3.7/site-packages/sklearn/utils/linear_assignment_.py:128: FutureWarning: The linear_assignment function is deprecated in 0.21 and will be removed from 0.23. Use scipy.optimize.linear_sum_assignment instead.\n",
      "  FutureWarning)\n"
     ]
    },
    {
     "name": "stdout",
     "output_type": "stream",
     "text": [
      "Iter-55: ACC= 0.6797, NMI= 0.5968, ARI= 0.5991;  L= 2.52255, Lc= 0.08560,  Lr= 2.43695\n",
      "delta_label  0.0003333333333333333 < tol  0.001\n",
      "Reached tolerance threshold. Stopping training.\n",
      "saving model to: scDeepCluster/scDeepCluster_model_final.h5\n",
      "Final: ACC= 0.6797, NMI= 0.5968, ARI= 0.5991\n",
      "Clustering time: 859 seconds.\n",
      ">>> Dataset data_0c8 \n",
      "### Autoencoder: Successfully preprocessed 2500 genes and 3000 cells.\n",
      "Sample size\n",
      "(3000, 2494)\n",
      "(3000,)\n",
      "...Pretraining autoencoder...\n",
      "Pretrained weights are saved to ./ae_weights.h5\n",
      "Update interval 11\n",
      "Save interval 55\n",
      "Initializing cluster centers with k-means.\n"
     ]
    },
    {
     "name": "stderr",
     "output_type": "stream",
     "text": [
      "/opt/conda/lib/python3.7/site-packages/sklearn/utils/linear_assignment_.py:128: FutureWarning: The linear_assignment function is deprecated in 0.21 and will be removed from 0.23. Use scipy.optimize.linear_sum_assignment instead.\n",
      "  FutureWarning)\n"
     ]
    },
    {
     "name": "stdout",
     "output_type": "stream",
     "text": [
      "Iter-0: ACC= 0.5030, NMI= 0.2976, ARI= 0.2150;  L= 0.00000, Lc= 0.00000,  Lr= 0.00000\n",
      "saving model to: scDeepCluster/scDeepCluster_model_0.h5\n"
     ]
    },
    {
     "name": "stderr",
     "output_type": "stream",
     "text": [
      "/opt/conda/lib/python3.7/site-packages/sklearn/utils/linear_assignment_.py:128: FutureWarning: The linear_assignment function is deprecated in 0.21 and will be removed from 0.23. Use scipy.optimize.linear_sum_assignment instead.\n",
      "  FutureWarning)\n"
     ]
    },
    {
     "name": "stdout",
     "output_type": "stream",
     "text": [
      "Iter-11: ACC= 0.5047, NMI= 0.3039, ARI= 0.2207;  L= 2.48218, Lc= 0.08824,  Lr= 2.39393\n"
     ]
    },
    {
     "name": "stderr",
     "output_type": "stream",
     "text": [
      "/opt/conda/lib/python3.7/site-packages/sklearn/utils/linear_assignment_.py:128: FutureWarning: The linear_assignment function is deprecated in 0.21 and will be removed from 0.23. Use scipy.optimize.linear_sum_assignment instead.\n",
      "  FutureWarning)\n"
     ]
    },
    {
     "name": "stdout",
     "output_type": "stream",
     "text": [
      "Iter-22: ACC= 0.5043, NMI= 0.3053, ARI= 0.2223;  L= 2.47419, Lc= 0.08162,  Lr= 2.39257\n"
     ]
    },
    {
     "name": "stderr",
     "output_type": "stream",
     "text": [
      "/opt/conda/lib/python3.7/site-packages/sklearn/utils/linear_assignment_.py:128: FutureWarning: The linear_assignment function is deprecated in 0.21 and will be removed from 0.23. Use scipy.optimize.linear_sum_assignment instead.\n",
      "  FutureWarning)\n"
     ]
    },
    {
     "name": "stdout",
     "output_type": "stream",
     "text": [
      "Iter-33: ACC= 0.5063, NMI= 0.3082, ARI= 0.2271;  L= 2.49339, Lc= 0.08593,  Lr= 2.40746\n"
     ]
    },
    {
     "name": "stderr",
     "output_type": "stream",
     "text": [
      "/opt/conda/lib/python3.7/site-packages/sklearn/utils/linear_assignment_.py:128: FutureWarning: The linear_assignment function is deprecated in 0.21 and will be removed from 0.23. Use scipy.optimize.linear_sum_assignment instead.\n",
      "  FutureWarning)\n"
     ]
    },
    {
     "name": "stdout",
     "output_type": "stream",
     "text": [
      "Iter-44: ACC= 0.5053, NMI= 0.3047, ARI= 0.2279;  L= 2.74124, Lc= 0.10067,  Lr= 2.64057\n"
     ]
    },
    {
     "name": "stderr",
     "output_type": "stream",
     "text": [
      "/opt/conda/lib/python3.7/site-packages/sklearn/utils/linear_assignment_.py:128: FutureWarning: The linear_assignment function is deprecated in 0.21 and will be removed from 0.23. Use scipy.optimize.linear_sum_assignment instead.\n",
      "  FutureWarning)\n"
     ]
    },
    {
     "name": "stdout",
     "output_type": "stream",
     "text": [
      "Iter-55: ACC= 0.5060, NMI= 0.3031, ARI= 0.2287;  L= 2.51285, Lc= 0.09283,  Lr= 2.42002\n",
      "saving model to: scDeepCluster/scDeepCluster_model_55.h5\n"
     ]
    },
    {
     "name": "stderr",
     "output_type": "stream",
     "text": [
      "/opt/conda/lib/python3.7/site-packages/sklearn/utils/linear_assignment_.py:128: FutureWarning: The linear_assignment function is deprecated in 0.21 and will be removed from 0.23. Use scipy.optimize.linear_sum_assignment instead.\n",
      "  FutureWarning)\n"
     ]
    },
    {
     "name": "stdout",
     "output_type": "stream",
     "text": [
      "Iter-66: ACC= 0.5063, NMI= 0.3025, ARI= 0.2288;  L= 2.62734, Lc= 0.09350,  Lr= 2.53384\n"
     ]
    },
    {
     "name": "stderr",
     "output_type": "stream",
     "text": [
      "/opt/conda/lib/python3.7/site-packages/sklearn/utils/linear_assignment_.py:128: FutureWarning: The linear_assignment function is deprecated in 0.21 and will be removed from 0.23. Use scipy.optimize.linear_sum_assignment instead.\n",
      "  FutureWarning)\n"
     ]
    },
    {
     "name": "stdout",
     "output_type": "stream",
     "text": [
      "Iter-77: ACC= 0.5083, NMI= 0.3034, ARI= 0.2318;  L= 2.54284, Lc= 0.09525,  Lr= 2.44759\n"
     ]
    },
    {
     "name": "stderr",
     "output_type": "stream",
     "text": [
      "/opt/conda/lib/python3.7/site-packages/sklearn/utils/linear_assignment_.py:128: FutureWarning: The linear_assignment function is deprecated in 0.21 and will be removed from 0.23. Use scipy.optimize.linear_sum_assignment instead.\n",
      "  FutureWarning)\n"
     ]
    },
    {
     "name": "stdout",
     "output_type": "stream",
     "text": [
      "Iter-88: ACC= 0.5083, NMI= 0.3032, ARI= 0.2325;  L= 2.58506, Lc= 0.09422,  Lr= 2.49084\n"
     ]
    },
    {
     "name": "stderr",
     "output_type": "stream",
     "text": [
      "/opt/conda/lib/python3.7/site-packages/sklearn/utils/linear_assignment_.py:128: FutureWarning: The linear_assignment function is deprecated in 0.21 and will be removed from 0.23. Use scipy.optimize.linear_sum_assignment instead.\n",
      "  FutureWarning)\n"
     ]
    },
    {
     "name": "stdout",
     "output_type": "stream",
     "text": [
      "Iter-99: ACC= 0.5090, NMI= 0.3036, ARI= 0.2329;  L= 2.56480, Lc= 0.08589,  Lr= 2.47890\n"
     ]
    },
    {
     "name": "stderr",
     "output_type": "stream",
     "text": [
      "/opt/conda/lib/python3.7/site-packages/sklearn/utils/linear_assignment_.py:128: FutureWarning: The linear_assignment function is deprecated in 0.21 and will be removed from 0.23. Use scipy.optimize.linear_sum_assignment instead.\n",
      "  FutureWarning)\n"
     ]
    },
    {
     "name": "stdout",
     "output_type": "stream",
     "text": [
      "Iter-110: ACC= 0.5093, NMI= 0.3023, ARI= 0.2334;  L= 2.55339, Lc= 0.08220,  Lr= 2.47119\n",
      "saving model to: scDeepCluster/scDeepCluster_model_110.h5\n"
     ]
    },
    {
     "name": "stderr",
     "output_type": "stream",
     "text": [
      "/opt/conda/lib/python3.7/site-packages/sklearn/utils/linear_assignment_.py:128: FutureWarning: The linear_assignment function is deprecated in 0.21 and will be removed from 0.23. Use scipy.optimize.linear_sum_assignment instead.\n",
      "  FutureWarning)\n",
      "/opt/conda/lib/python3.7/site-packages/sklearn/utils/linear_assignment_.py:128: FutureWarning: The linear_assignment function is deprecated in 0.21 and will be removed from 0.23. Use scipy.optimize.linear_sum_assignment instead.\n",
      "  FutureWarning)\n"
     ]
    },
    {
     "name": "stdout",
     "output_type": "stream",
     "text": [
      "Iter-121: ACC= 0.5090, NMI= 0.3016, ARI= 0.2329;  L= 2.54524, Lc= 0.07679,  Lr= 2.46845\n",
      "delta_label  0.0003333333333333333 < tol  0.001\n",
      "Reached tolerance threshold. Stopping training.\n",
      "saving model to: scDeepCluster/scDeepCluster_model_final.h5\n",
      "Final: ACC= 0.5090, NMI= 0.3016, ARI= 0.2329\n",
      "Clustering time: 850 seconds.\n",
      ">>> Dataset data_0c16 \n",
      "### Autoencoder: Successfully preprocessed 2500 genes and 3000 cells.\n",
      "Sample size\n",
      "(3000, 2489)\n",
      "(3000,)\n",
      "...Pretraining autoencoder...\n",
      "Pretrained weights are saved to ./ae_weights.h5\n",
      "Update interval 11\n",
      "Save interval 55\n",
      "Initializing cluster centers with k-means.\n"
     ]
    },
    {
     "name": "stderr",
     "output_type": "stream",
     "text": [
      "/opt/conda/lib/python3.7/site-packages/sklearn/utils/linear_assignment_.py:128: FutureWarning: The linear_assignment function is deprecated in 0.21 and will be removed from 0.23. Use scipy.optimize.linear_sum_assignment instead.\n",
      "  FutureWarning)\n"
     ]
    },
    {
     "name": "stdout",
     "output_type": "stream",
     "text": [
      "Iter-0: ACC= 0.1190, NMI= 0.0067, ARI= 0.0020;  L= 0.00000, Lc= 0.00000,  Lr= 0.00000\n",
      "saving model to: scDeepCluster/scDeepCluster_model_0.h5\n"
     ]
    },
    {
     "name": "stderr",
     "output_type": "stream",
     "text": [
      "/opt/conda/lib/python3.7/site-packages/sklearn/utils/linear_assignment_.py:128: FutureWarning: The linear_assignment function is deprecated in 0.21 and will be removed from 0.23. Use scipy.optimize.linear_sum_assignment instead.\n",
      "  FutureWarning)\n"
     ]
    },
    {
     "name": "stdout",
     "output_type": "stream",
     "text": [
      "Iter-11: ACC= 0.1193, NMI= 0.0067, ARI= 0.0019;  L= 2.48989, Lc= 0.08930,  Lr= 2.40059\n"
     ]
    },
    {
     "name": "stderr",
     "output_type": "stream",
     "text": [
      "/opt/conda/lib/python3.7/site-packages/sklearn/utils/linear_assignment_.py:128: FutureWarning: The linear_assignment function is deprecated in 0.21 and will be removed from 0.23. Use scipy.optimize.linear_sum_assignment instead.\n",
      "  FutureWarning)\n"
     ]
    },
    {
     "name": "stdout",
     "output_type": "stream",
     "text": [
      "Iter-22: ACC= 0.1183, NMI= 0.0062, ARI= 0.0015;  L= 2.49271, Lc= 0.09400,  Lr= 2.39871\n"
     ]
    },
    {
     "name": "stderr",
     "output_type": "stream",
     "text": [
      "/opt/conda/lib/python3.7/site-packages/sklearn/utils/linear_assignment_.py:128: FutureWarning: The linear_assignment function is deprecated in 0.21 and will be removed from 0.23. Use scipy.optimize.linear_sum_assignment instead.\n",
      "  FutureWarning)\n"
     ]
    },
    {
     "name": "stdout",
     "output_type": "stream",
     "text": [
      "Iter-33: ACC= 0.1177, NMI= 0.0059, ARI= 0.0013;  L= 2.51030, Lc= 0.09662,  Lr= 2.41368\n"
     ]
    },
    {
     "name": "stderr",
     "output_type": "stream",
     "text": [
      "/opt/conda/lib/python3.7/site-packages/sklearn/utils/linear_assignment_.py:128: FutureWarning: The linear_assignment function is deprecated in 0.21 and will be removed from 0.23. Use scipy.optimize.linear_sum_assignment instead.\n",
      "  FutureWarning)\n"
     ]
    },
    {
     "name": "stdout",
     "output_type": "stream",
     "text": [
      "Iter-44: ACC= 0.1177, NMI= 0.0058, ARI= 0.0013;  L= 2.56538, Lc= 0.10631,  Lr= 2.45907\n"
     ]
    },
    {
     "name": "stderr",
     "output_type": "stream",
     "text": [
      "/opt/conda/lib/python3.7/site-packages/sklearn/utils/linear_assignment_.py:128: FutureWarning: The linear_assignment function is deprecated in 0.21 and will be removed from 0.23. Use scipy.optimize.linear_sum_assignment instead.\n",
      "  FutureWarning)\n"
     ]
    },
    {
     "name": "stdout",
     "output_type": "stream",
     "text": [
      "Iter-55: ACC= 0.1170, NMI= 0.0056, ARI= 0.0011;  L= 2.53180, Lc= 0.08700,  Lr= 2.44480\n",
      "saving model to: scDeepCluster/scDeepCluster_model_55.h5\n"
     ]
    },
    {
     "name": "stderr",
     "output_type": "stream",
     "text": [
      "/opt/conda/lib/python3.7/site-packages/sklearn/utils/linear_assignment_.py:128: FutureWarning: The linear_assignment function is deprecated in 0.21 and will be removed from 0.23. Use scipy.optimize.linear_sum_assignment instead.\n",
      "  FutureWarning)\n"
     ]
    },
    {
     "name": "stdout",
     "output_type": "stream",
     "text": [
      "Iter-66: ACC= 0.1173, NMI= 0.0057, ARI= 0.0012;  L= 2.54611, Lc= 0.08897,  Lr= 2.45714\n"
     ]
    },
    {
     "name": "stderr",
     "output_type": "stream",
     "text": [
      "/opt/conda/lib/python3.7/site-packages/sklearn/utils/linear_assignment_.py:128: FutureWarning: The linear_assignment function is deprecated in 0.21 and will be removed from 0.23. Use scipy.optimize.linear_sum_assignment instead.\n",
      "  FutureWarning)\n"
     ]
    },
    {
     "name": "stdout",
     "output_type": "stream",
     "text": [
      "Iter-77: ACC= 0.1170, NMI= 0.0056, ARI= 0.0012;  L= 2.52259, Lc= 0.07529,  Lr= 2.44730\n"
     ]
    },
    {
     "name": "stderr",
     "output_type": "stream",
     "text": [
      "/opt/conda/lib/python3.7/site-packages/sklearn/utils/linear_assignment_.py:128: FutureWarning: The linear_assignment function is deprecated in 0.21 and will be removed from 0.23. Use scipy.optimize.linear_sum_assignment instead.\n",
      "  FutureWarning)\n",
      "/opt/conda/lib/python3.7/site-packages/sklearn/utils/linear_assignment_.py:128: FutureWarning: The linear_assignment function is deprecated in 0.21 and will be removed from 0.23. Use scipy.optimize.linear_sum_assignment instead.\n",
      "  FutureWarning)\n"
     ]
    },
    {
     "name": "stdout",
     "output_type": "stream",
     "text": [
      "Iter-88: ACC= 0.1173, NMI= 0.0057, ARI= 0.0012;  L= 2.53068, Lc= 0.08000,  Lr= 2.45068\n",
      "delta_label  0.0003333333333333333 < tol  0.001\n",
      "Reached tolerance threshold. Stopping training.\n",
      "saving model to: scDeepCluster/scDeepCluster_model_final.h5\n",
      "Final: ACC= 0.1173, NMI= 0.0057, ARI= 0.0012\n",
      "Clustering time: 873 seconds.\n",
      ">>> Dataset data_1.5c4 \n",
      "### Autoencoder: Successfully preprocessed 2500 genes and 3000 cells.\n",
      "Sample size\n",
      "(3000, 2480)\n",
      "(3000,)\n",
      "...Pretraining autoencoder...\n",
      "Pretrained weights are saved to ./ae_weights.h5\n",
      "Update interval 11\n",
      "Save interval 55\n",
      "Initializing cluster centers with k-means.\n"
     ]
    },
    {
     "name": "stderr",
     "output_type": "stream",
     "text": [
      "/opt/conda/lib/python3.7/site-packages/sklearn/utils/linear_assignment_.py:128: FutureWarning: The linear_assignment function is deprecated in 0.21 and will be removed from 0.23. Use scipy.optimize.linear_sum_assignment instead.\n",
      "  FutureWarning)\n"
     ]
    },
    {
     "name": "stdout",
     "output_type": "stream",
     "text": [
      "Iter-0: ACC= 0.3660, NMI= 0.0044, ARI= 0.0002;  L= 0.00000, Lc= 0.00000,  Lr= 0.00000\n",
      "saving model to: scDeepCluster/scDeepCluster_model_0.h5\n"
     ]
    },
    {
     "name": "stderr",
     "output_type": "stream",
     "text": [
      "/opt/conda/lib/python3.7/site-packages/sklearn/utils/linear_assignment_.py:128: FutureWarning: The linear_assignment function is deprecated in 0.21 and will be removed from 0.23. Use scipy.optimize.linear_sum_assignment instead.\n",
      "  FutureWarning)\n"
     ]
    },
    {
     "name": "stdout",
     "output_type": "stream",
     "text": [
      "Iter-11: ACC= 0.3600, NMI= 0.0046, ARI= 0.0015;  L= 2.14957, Lc= 0.09240,  Lr= 2.05717\n"
     ]
    },
    {
     "name": "stderr",
     "output_type": "stream",
     "text": [
      "/opt/conda/lib/python3.7/site-packages/sklearn/utils/linear_assignment_.py:128: FutureWarning: The linear_assignment function is deprecated in 0.21 and will be removed from 0.23. Use scipy.optimize.linear_sum_assignment instead.\n",
      "  FutureWarning)\n"
     ]
    },
    {
     "name": "stdout",
     "output_type": "stream",
     "text": [
      "Iter-22: ACC= 0.3530, NMI= 0.0045, ARI= 0.0019;  L= 2.14050, Lc= 0.08174,  Lr= 2.05876\n"
     ]
    },
    {
     "name": "stderr",
     "output_type": "stream",
     "text": [
      "/opt/conda/lib/python3.7/site-packages/sklearn/utils/linear_assignment_.py:128: FutureWarning: The linear_assignment function is deprecated in 0.21 and will be removed from 0.23. Use scipy.optimize.linear_sum_assignment instead.\n",
      "  FutureWarning)\n"
     ]
    },
    {
     "name": "stdout",
     "output_type": "stream",
     "text": [
      "Iter-33: ACC= 0.3527, NMI= 0.0044, ARI= 0.0018;  L= 2.35892, Lc= 0.10165,  Lr= 2.25728\n"
     ]
    },
    {
     "name": "stderr",
     "output_type": "stream",
     "text": [
      "/opt/conda/lib/python3.7/site-packages/sklearn/utils/linear_assignment_.py:128: FutureWarning: The linear_assignment function is deprecated in 0.21 and will be removed from 0.23. Use scipy.optimize.linear_sum_assignment instead.\n",
      "  FutureWarning)\n"
     ]
    },
    {
     "name": "stdout",
     "output_type": "stream",
     "text": [
      "Iter-44: ACC= 0.3520, NMI= 0.0044, ARI= 0.0023;  L= 2.15626, Lc= 0.08737,  Lr= 2.06888\n"
     ]
    },
    {
     "name": "stderr",
     "output_type": "stream",
     "text": [
      "/opt/conda/lib/python3.7/site-packages/sklearn/utils/linear_assignment_.py:128: FutureWarning: The linear_assignment function is deprecated in 0.21 and will be removed from 0.23. Use scipy.optimize.linear_sum_assignment instead.\n",
      "  FutureWarning)\n"
     ]
    },
    {
     "name": "stdout",
     "output_type": "stream",
     "text": [
      "Iter-55: ACC= 0.3503, NMI= 0.0045, ARI= 0.0024;  L= 2.21768, Lc= 0.09510,  Lr= 2.12258\n",
      "saving model to: scDeepCluster/scDeepCluster_model_55.h5\n"
     ]
    },
    {
     "name": "stderr",
     "output_type": "stream",
     "text": [
      "/opt/conda/lib/python3.7/site-packages/sklearn/utils/linear_assignment_.py:128: FutureWarning: The linear_assignment function is deprecated in 0.21 and will be removed from 0.23. Use scipy.optimize.linear_sum_assignment instead.\n",
      "  FutureWarning)\n"
     ]
    },
    {
     "name": "stdout",
     "output_type": "stream",
     "text": [
      "Iter-66: ACC= 0.3490, NMI= 0.0044, ARI= 0.0022;  L= 2.19893, Lc= 0.08838,  Lr= 2.11055\n"
     ]
    },
    {
     "name": "stderr",
     "output_type": "stream",
     "text": [
      "/opt/conda/lib/python3.7/site-packages/sklearn/utils/linear_assignment_.py:128: FutureWarning: The linear_assignment function is deprecated in 0.21 and will be removed from 0.23. Use scipy.optimize.linear_sum_assignment instead.\n",
      "  FutureWarning)\n"
     ]
    },
    {
     "name": "stdout",
     "output_type": "stream",
     "text": [
      "Iter-77: ACC= 0.3473, NMI= 0.0043, ARI= 0.0020;  L= 2.19176, Lc= 0.08353,  Lr= 2.10823\n"
     ]
    },
    {
     "name": "stderr",
     "output_type": "stream",
     "text": [
      "/opt/conda/lib/python3.7/site-packages/sklearn/utils/linear_assignment_.py:128: FutureWarning: The linear_assignment function is deprecated in 0.21 and will be removed from 0.23. Use scipy.optimize.linear_sum_assignment instead.\n",
      "  FutureWarning)\n"
     ]
    },
    {
     "name": "stdout",
     "output_type": "stream",
     "text": [
      "Iter-88: ACC= 0.3470, NMI= 0.0043, ARI= 0.0021;  L= 2.19566, Lc= 0.07939,  Lr= 2.11627\n"
     ]
    },
    {
     "name": "stderr",
     "output_type": "stream",
     "text": [
      "/opt/conda/lib/python3.7/site-packages/sklearn/utils/linear_assignment_.py:128: FutureWarning: The linear_assignment function is deprecated in 0.21 and will be removed from 0.23. Use scipy.optimize.linear_sum_assignment instead.\n",
      "  FutureWarning)\n",
      "/opt/conda/lib/python3.7/site-packages/sklearn/utils/linear_assignment_.py:128: FutureWarning: The linear_assignment function is deprecated in 0.21 and will be removed from 0.23. Use scipy.optimize.linear_sum_assignment instead.\n",
      "  FutureWarning)\n"
     ]
    },
    {
     "name": "stdout",
     "output_type": "stream",
     "text": [
      "Iter-99: ACC= 0.3470, NMI= 0.0043, ARI= 0.0021;  L= 2.19034, Lc= 0.07295,  Lr= 2.11739\n",
      "delta_label  0.0003333333333333333 < tol  0.001\n",
      "Reached tolerance threshold. Stopping training.\n",
      "saving model to: scDeepCluster/scDeepCluster_model_final.h5\n",
      "Final: ACC= 0.3470, NMI= 0.0043, ARI= 0.0021\n",
      "Clustering time: 868 seconds.\n",
      ">>> Dataset data_1c32 \n",
      "### Autoencoder: Successfully preprocessed 2500 genes and 3000 cells.\n",
      "Sample size\n",
      "(3000, 2483)\n",
      "(3000,)\n",
      "...Pretraining autoencoder...\n",
      "Pretrained weights are saved to ./ae_weights.h5\n",
      "Update interval 11\n",
      "Save interval 55\n",
      "Initializing cluster centers with k-means.\n"
     ]
    },
    {
     "name": "stderr",
     "output_type": "stream",
     "text": [
      "/opt/conda/lib/python3.7/site-packages/sklearn/utils/linear_assignment_.py:128: FutureWarning: The linear_assignment function is deprecated in 0.21 and will be removed from 0.23. Use scipy.optimize.linear_sum_assignment instead.\n",
      "  FutureWarning)\n"
     ]
    },
    {
     "name": "stdout",
     "output_type": "stream",
     "text": [
      "Iter-0: ACC= 0.0530, NMI= 0.0056, ARI= 0.0001;  L= 0.00000, Lc= 0.00000,  Lr= 0.00000\n",
      "saving model to: scDeepCluster/scDeepCluster_model_0.h5\n"
     ]
    },
    {
     "name": "stderr",
     "output_type": "stream",
     "text": [
      "/opt/conda/lib/python3.7/site-packages/sklearn/utils/linear_assignment_.py:128: FutureWarning: The linear_assignment function is deprecated in 0.21 and will be removed from 0.23. Use scipy.optimize.linear_sum_assignment instead.\n",
      "  FutureWarning)\n"
     ]
    },
    {
     "name": "stdout",
     "output_type": "stream",
     "text": [
      "Iter-11: ACC= 0.0530, NMI= 0.0056, ARI= 0.0002;  L= 2.29727, Lc= 0.08389,  Lr= 2.21338\n"
     ]
    },
    {
     "name": "stderr",
     "output_type": "stream",
     "text": [
      "/opt/conda/lib/python3.7/site-packages/sklearn/utils/linear_assignment_.py:128: FutureWarning: The linear_assignment function is deprecated in 0.21 and will be removed from 0.23. Use scipy.optimize.linear_sum_assignment instead.\n",
      "  FutureWarning)\n"
     ]
    },
    {
     "name": "stdout",
     "output_type": "stream",
     "text": [
      "Iter-22: ACC= 0.0527, NMI= 0.0053, ARI= 0.0002;  L= 2.32770, Lc= 0.08733,  Lr= 2.24037\n"
     ]
    },
    {
     "name": "stderr",
     "output_type": "stream",
     "text": [
      "/opt/conda/lib/python3.7/site-packages/sklearn/utils/linear_assignment_.py:128: FutureWarning: The linear_assignment function is deprecated in 0.21 and will be removed from 0.23. Use scipy.optimize.linear_sum_assignment instead.\n",
      "  FutureWarning)\n"
     ]
    },
    {
     "name": "stdout",
     "output_type": "stream",
     "text": [
      "Iter-33: ACC= 0.0523, NMI= 0.0054, ARI= 0.0002;  L= 2.33290, Lc= 0.09419,  Lr= 2.23871\n"
     ]
    },
    {
     "name": "stderr",
     "output_type": "stream",
     "text": [
      "/opt/conda/lib/python3.7/site-packages/sklearn/utils/linear_assignment_.py:128: FutureWarning: The linear_assignment function is deprecated in 0.21 and will be removed from 0.23. Use scipy.optimize.linear_sum_assignment instead.\n",
      "  FutureWarning)\n"
     ]
    },
    {
     "name": "stdout",
     "output_type": "stream",
     "text": [
      "Iter-44: ACC= 0.0527, NMI= 0.0056, ARI= 0.0002;  L= 2.32750, Lc= 0.09337,  Lr= 2.23414\n"
     ]
    },
    {
     "name": "stderr",
     "output_type": "stream",
     "text": [
      "/opt/conda/lib/python3.7/site-packages/sklearn/utils/linear_assignment_.py:128: FutureWarning: The linear_assignment function is deprecated in 0.21 and will be removed from 0.23. Use scipy.optimize.linear_sum_assignment instead.\n",
      "  FutureWarning)\n"
     ]
    },
    {
     "name": "stdout",
     "output_type": "stream",
     "text": [
      "Iter-55: ACC= 0.0533, NMI= 0.0058, ARI= 0.0003;  L= 2.32864, Lc= 0.08456,  Lr= 2.24408\n",
      "saving model to: scDeepCluster/scDeepCluster_model_55.h5\n"
     ]
    },
    {
     "name": "stderr",
     "output_type": "stream",
     "text": [
      "/opt/conda/lib/python3.7/site-packages/sklearn/utils/linear_assignment_.py:128: FutureWarning: The linear_assignment function is deprecated in 0.21 and will be removed from 0.23. Use scipy.optimize.linear_sum_assignment instead.\n",
      "  FutureWarning)\n"
     ]
    },
    {
     "name": "stdout",
     "output_type": "stream",
     "text": [
      "Iter-66: ACC= 0.0530, NMI= 0.0056, ARI= 0.0002;  L= 2.30919, Lc= 0.08860,  Lr= 2.22058\n"
     ]
    },
    {
     "name": "stderr",
     "output_type": "stream",
     "text": [
      "/opt/conda/lib/python3.7/site-packages/sklearn/utils/linear_assignment_.py:128: FutureWarning: The linear_assignment function is deprecated in 0.21 and will be removed from 0.23. Use scipy.optimize.linear_sum_assignment instead.\n",
      "  FutureWarning)\n"
     ]
    },
    {
     "name": "stdout",
     "output_type": "stream",
     "text": [
      "Iter-77: ACC= 0.0523, NMI= 0.0056, ARI= 0.0002;  L= 2.33576, Lc= 0.09501,  Lr= 2.24076\n"
     ]
    },
    {
     "name": "stderr",
     "output_type": "stream",
     "text": [
      "/opt/conda/lib/python3.7/site-packages/sklearn/utils/linear_assignment_.py:128: FutureWarning: The linear_assignment function is deprecated in 0.21 and will be removed from 0.23. Use scipy.optimize.linear_sum_assignment instead.\n",
      "  FutureWarning)\n"
     ]
    },
    {
     "name": "stdout",
     "output_type": "stream",
     "text": [
      "Iter-88: ACC= 0.0523, NMI= 0.0055, ARI= 0.0002;  L= 2.30290, Lc= 0.08588,  Lr= 2.21702\n"
     ]
    },
    {
     "name": "stderr",
     "output_type": "stream",
     "text": [
      "/opt/conda/lib/python3.7/site-packages/sklearn/utils/linear_assignment_.py:128: FutureWarning: The linear_assignment function is deprecated in 0.21 and will be removed from 0.23. Use scipy.optimize.linear_sum_assignment instead.\n",
      "  FutureWarning)\n"
     ]
    },
    {
     "name": "stdout",
     "output_type": "stream",
     "text": [
      "Iter-99: ACC= 0.0533, NMI= 0.0056, ARI= 0.0002;  L= 2.35002, Lc= 0.09379,  Lr= 2.25623\n"
     ]
    },
    {
     "name": "stderr",
     "output_type": "stream",
     "text": [
      "/opt/conda/lib/python3.7/site-packages/sklearn/utils/linear_assignment_.py:128: FutureWarning: The linear_assignment function is deprecated in 0.21 and will be removed from 0.23. Use scipy.optimize.linear_sum_assignment instead.\n",
      "  FutureWarning)\n",
      "/opt/conda/lib/python3.7/site-packages/sklearn/utils/linear_assignment_.py:128: FutureWarning: The linear_assignment function is deprecated in 0.21 and will be removed from 0.23. Use scipy.optimize.linear_sum_assignment instead.\n",
      "  FutureWarning)\n"
     ]
    },
    {
     "name": "stdout",
     "output_type": "stream",
     "text": [
      "Iter-110: ACC= 0.0533, NMI= 0.0055, ARI= 0.0002;  L= 2.32009, Lc= 0.09238,  Lr= 2.22771\n",
      "delta_label  0.0003333333333333333 < tol  0.001\n",
      "Reached tolerance threshold. Stopping training.\n",
      "saving model to: scDeepCluster/scDeepCluster_model_final.h5\n",
      "Final: ACC= 0.0533, NMI= 0.0055, ARI= 0.0002\n",
      "Clustering time: 883 seconds.\n",
      ">>> Dataset data_1c4 \n",
      "### Autoencoder: Successfully preprocessed 2500 genes and 3000 cells.\n",
      "Sample size\n",
      "(3000, 2487)\n",
      "(3000,)\n",
      "...Pretraining autoencoder...\n",
      "Pretrained weights are saved to ./ae_weights.h5\n",
      "Update interval 11\n",
      "Save interval 55\n",
      "Initializing cluster centers with k-means.\n"
     ]
    },
    {
     "name": "stderr",
     "output_type": "stream",
     "text": [
      "/opt/conda/lib/python3.7/site-packages/sklearn/utils/linear_assignment_.py:128: FutureWarning: The linear_assignment function is deprecated in 0.21 and will be removed from 0.23. Use scipy.optimize.linear_sum_assignment instead.\n",
      "  FutureWarning)\n"
     ]
    },
    {
     "name": "stdout",
     "output_type": "stream",
     "text": [
      "Iter-0: ACC= 0.4297, NMI= 0.0122, ARI= 0.0106;  L= 0.00000, Lc= 0.00000,  Lr= 0.00000\n",
      "saving model to: scDeepCluster/scDeepCluster_model_0.h5\n"
     ]
    },
    {
     "name": "stderr",
     "output_type": "stream",
     "text": [
      "/opt/conda/lib/python3.7/site-packages/sklearn/utils/linear_assignment_.py:128: FutureWarning: The linear_assignment function is deprecated in 0.21 and will be removed from 0.23. Use scipy.optimize.linear_sum_assignment instead.\n",
      "  FutureWarning)\n"
     ]
    },
    {
     "name": "stdout",
     "output_type": "stream",
     "text": [
      "Iter-11: ACC= 0.4040, NMI= 0.0098, ARI= 0.0064;  L= 2.28456, Lc= 0.07519,  Lr= 2.20936\n"
     ]
    },
    {
     "name": "stderr",
     "output_type": "stream",
     "text": [
      "/opt/conda/lib/python3.7/site-packages/sklearn/utils/linear_assignment_.py:128: FutureWarning: The linear_assignment function is deprecated in 0.21 and will be removed from 0.23. Use scipy.optimize.linear_sum_assignment instead.\n",
      "  FutureWarning)\n"
     ]
    },
    {
     "name": "stdout",
     "output_type": "stream",
     "text": [
      "Iter-22: ACC= 0.3927, NMI= 0.0086, ARI= 0.0064;  L= 2.27977, Lc= 0.07605,  Lr= 2.20372\n"
     ]
    },
    {
     "name": "stderr",
     "output_type": "stream",
     "text": [
      "/opt/conda/lib/python3.7/site-packages/sklearn/utils/linear_assignment_.py:128: FutureWarning: The linear_assignment function is deprecated in 0.21 and will be removed from 0.23. Use scipy.optimize.linear_sum_assignment instead.\n",
      "  FutureWarning)\n"
     ]
    },
    {
     "name": "stdout",
     "output_type": "stream",
     "text": [
      "Iter-33: ACC= 0.3817, NMI= 0.0082, ARI= 0.0065;  L= 2.38074, Lc= 0.08436,  Lr= 2.29638\n"
     ]
    },
    {
     "name": "stderr",
     "output_type": "stream",
     "text": [
      "/opt/conda/lib/python3.7/site-packages/sklearn/utils/linear_assignment_.py:128: FutureWarning: The linear_assignment function is deprecated in 0.21 and will be removed from 0.23. Use scipy.optimize.linear_sum_assignment instead.\n",
      "  FutureWarning)\n"
     ]
    },
    {
     "name": "stdout",
     "output_type": "stream",
     "text": [
      "Iter-44: ACC= 0.3780, NMI= 0.0091, ARI= 0.0073;  L= 2.30811, Lc= 0.09328,  Lr= 2.21483\n"
     ]
    },
    {
     "name": "stderr",
     "output_type": "stream",
     "text": [
      "/opt/conda/lib/python3.7/site-packages/sklearn/utils/linear_assignment_.py:128: FutureWarning: The linear_assignment function is deprecated in 0.21 and will be removed from 0.23. Use scipy.optimize.linear_sum_assignment instead.\n",
      "  FutureWarning)\n"
     ]
    },
    {
     "name": "stdout",
     "output_type": "stream",
     "text": [
      "Iter-55: ACC= 0.3750, NMI= 0.0089, ARI= 0.0069;  L= 2.33242, Lc= 0.09477,  Lr= 2.23765\n",
      "saving model to: scDeepCluster/scDeepCluster_model_55.h5\n"
     ]
    },
    {
     "name": "stderr",
     "output_type": "stream",
     "text": [
      "/opt/conda/lib/python3.7/site-packages/sklearn/utils/linear_assignment_.py:128: FutureWarning: The linear_assignment function is deprecated in 0.21 and will be removed from 0.23. Use scipy.optimize.linear_sum_assignment instead.\n",
      "  FutureWarning)\n"
     ]
    },
    {
     "name": "stdout",
     "output_type": "stream",
     "text": [
      "Iter-66: ACC= 0.3740, NMI= 0.0093, ARI= 0.0073;  L= 2.32547, Lc= 0.09343,  Lr= 2.23204\n"
     ]
    },
    {
     "name": "stderr",
     "output_type": "stream",
     "text": [
      "/opt/conda/lib/python3.7/site-packages/sklearn/utils/linear_assignment_.py:128: FutureWarning: The linear_assignment function is deprecated in 0.21 and will be removed from 0.23. Use scipy.optimize.linear_sum_assignment instead.\n",
      "  FutureWarning)\n"
     ]
    },
    {
     "name": "stdout",
     "output_type": "stream",
     "text": [
      "Iter-77: ACC= 0.3733, NMI= 0.0093, ARI= 0.0072;  L= 2.31744, Lc= 0.08872,  Lr= 2.22872\n"
     ]
    },
    {
     "name": "stderr",
     "output_type": "stream",
     "text": [
      "/opt/conda/lib/python3.7/site-packages/sklearn/utils/linear_assignment_.py:128: FutureWarning: The linear_assignment function is deprecated in 0.21 and will be removed from 0.23. Use scipy.optimize.linear_sum_assignment instead.\n",
      "  FutureWarning)\n"
     ]
    },
    {
     "name": "stdout",
     "output_type": "stream",
     "text": [
      "Iter-88: ACC= 0.3730, NMI= 0.0094, ARI= 0.0074;  L= 2.31526, Lc= 0.08259,  Lr= 2.23267\n"
     ]
    },
    {
     "name": "stderr",
     "output_type": "stream",
     "text": [
      "/opt/conda/lib/python3.7/site-packages/sklearn/utils/linear_assignment_.py:128: FutureWarning: The linear_assignment function is deprecated in 0.21 and will be removed from 0.23. Use scipy.optimize.linear_sum_assignment instead.\n",
      "  FutureWarning)\n"
     ]
    },
    {
     "name": "stdout",
     "output_type": "stream",
     "text": [
      "Iter-99: ACC= 0.3727, NMI= 0.0095, ARI= 0.0074;  L= 2.29935, Lc= 0.07434,  Lr= 2.22501\n"
     ]
    },
    {
     "name": "stderr",
     "output_type": "stream",
     "text": [
      "/opt/conda/lib/python3.7/site-packages/sklearn/utils/linear_assignment_.py:128: FutureWarning: The linear_assignment function is deprecated in 0.21 and will be removed from 0.23. Use scipy.optimize.linear_sum_assignment instead.\n",
      "  FutureWarning)\n",
      "/opt/conda/lib/python3.7/site-packages/sklearn/utils/linear_assignment_.py:128: FutureWarning: The linear_assignment function is deprecated in 0.21 and will be removed from 0.23. Use scipy.optimize.linear_sum_assignment instead.\n",
      "  FutureWarning)\n"
     ]
    },
    {
     "name": "stdout",
     "output_type": "stream",
     "text": [
      "Iter-110: ACC= 0.3723, NMI= 0.0095, ARI= 0.0073;  L= 2.30083, Lc= 0.06761,  Lr= 2.23322\n",
      "delta_label  0.0006666666666666666 < tol  0.001\n",
      "Reached tolerance threshold. Stopping training.\n",
      "saving model to: scDeepCluster/scDeepCluster_model_final.h5\n",
      "Final: ACC= 0.3723, NMI= 0.0095, ARI= 0.0073\n",
      "Clustering time: 882 seconds.\n",
      ">>> Dataset data_1.5c8 \n",
      "### Autoencoder: Successfully preprocessed 2500 genes and 3000 cells.\n",
      "Sample size\n",
      "(3000, 2482)\n",
      "(3000,)\n",
      "...Pretraining autoencoder...\n",
      "Pretrained weights are saved to ./ae_weights.h5\n",
      "Update interval 11\n",
      "Save interval 55\n",
      "Initializing cluster centers with k-means.\n"
     ]
    },
    {
     "name": "stderr",
     "output_type": "stream",
     "text": [
      "/opt/conda/lib/python3.7/site-packages/sklearn/utils/linear_assignment_.py:128: FutureWarning: The linear_assignment function is deprecated in 0.21 and will be removed from 0.23. Use scipy.optimize.linear_sum_assignment instead.\n",
      "  FutureWarning)\n"
     ]
    },
    {
     "name": "stdout",
     "output_type": "stream",
     "text": [
      "Iter-0: ACC= 0.2633, NMI= 0.0092, ARI= 0.0018;  L= 0.00000, Lc= 0.00000,  Lr= 0.00000\n",
      "saving model to: scDeepCluster/scDeepCluster_model_0.h5\n"
     ]
    },
    {
     "name": "stderr",
     "output_type": "stream",
     "text": [
      "/opt/conda/lib/python3.7/site-packages/sklearn/utils/linear_assignment_.py:128: FutureWarning: The linear_assignment function is deprecated in 0.21 and will be removed from 0.23. Use scipy.optimize.linear_sum_assignment instead.\n",
      "  FutureWarning)\n"
     ]
    },
    {
     "name": "stdout",
     "output_type": "stream",
     "text": [
      "Iter-11: ACC= 0.2613, NMI= 0.0082, ARI= 0.0025;  L= 2.15252, Lc= 0.09110,  Lr= 2.06142\n"
     ]
    },
    {
     "name": "stderr",
     "output_type": "stream",
     "text": [
      "/opt/conda/lib/python3.7/site-packages/sklearn/utils/linear_assignment_.py:128: FutureWarning: The linear_assignment function is deprecated in 0.21 and will be removed from 0.23. Use scipy.optimize.linear_sum_assignment instead.\n",
      "  FutureWarning)\n"
     ]
    },
    {
     "name": "stdout",
     "output_type": "stream",
     "text": [
      "Iter-22: ACC= 0.2607, NMI= 0.0079, ARI= 0.0029;  L= 2.15041, Lc= 0.08958,  Lr= 2.06082\n"
     ]
    },
    {
     "name": "stderr",
     "output_type": "stream",
     "text": [
      "/opt/conda/lib/python3.7/site-packages/sklearn/utils/linear_assignment_.py:128: FutureWarning: The linear_assignment function is deprecated in 0.21 and will be removed from 0.23. Use scipy.optimize.linear_sum_assignment instead.\n",
      "  FutureWarning)\n"
     ]
    },
    {
     "name": "stdout",
     "output_type": "stream",
     "text": [
      "Iter-33: ACC= 0.2600, NMI= 0.0080, ARI= 0.0034;  L= 2.30932, Lc= 0.09283,  Lr= 2.21649\n"
     ]
    },
    {
     "name": "stderr",
     "output_type": "stream",
     "text": [
      "/opt/conda/lib/python3.7/site-packages/sklearn/utils/linear_assignment_.py:128: FutureWarning: The linear_assignment function is deprecated in 0.21 and will be removed from 0.23. Use scipy.optimize.linear_sum_assignment instead.\n",
      "  FutureWarning)\n"
     ]
    },
    {
     "name": "stdout",
     "output_type": "stream",
     "text": [
      "Iter-44: ACC= 0.2590, NMI= 0.0078, ARI= 0.0033;  L= 2.17430, Lc= 0.09485,  Lr= 2.07945\n"
     ]
    },
    {
     "name": "stderr",
     "output_type": "stream",
     "text": [
      "/opt/conda/lib/python3.7/site-packages/sklearn/utils/linear_assignment_.py:128: FutureWarning: The linear_assignment function is deprecated in 0.21 and will be removed from 0.23. Use scipy.optimize.linear_sum_assignment instead.\n",
      "  FutureWarning)\n"
     ]
    },
    {
     "name": "stdout",
     "output_type": "stream",
     "text": [
      "Iter-55: ACC= 0.2583, NMI= 0.0076, ARI= 0.0032;  L= 2.22783, Lc= 0.09116,  Lr= 2.13666\n",
      "saving model to: scDeepCluster/scDeepCluster_model_55.h5\n"
     ]
    },
    {
     "name": "stderr",
     "output_type": "stream",
     "text": [
      "/opt/conda/lib/python3.7/site-packages/sklearn/utils/linear_assignment_.py:128: FutureWarning: The linear_assignment function is deprecated in 0.21 and will be removed from 0.23. Use scipy.optimize.linear_sum_assignment instead.\n",
      "  FutureWarning)\n"
     ]
    },
    {
     "name": "stdout",
     "output_type": "stream",
     "text": [
      "Iter-66: ACC= 0.2587, NMI= 0.0075, ARI= 0.0033;  L= 2.18459, Lc= 0.09289,  Lr= 2.09169\n"
     ]
    },
    {
     "name": "stderr",
     "output_type": "stream",
     "text": [
      "/opt/conda/lib/python3.7/site-packages/sklearn/utils/linear_assignment_.py:128: FutureWarning: The linear_assignment function is deprecated in 0.21 and will be removed from 0.23. Use scipy.optimize.linear_sum_assignment instead.\n",
      "  FutureWarning)\n"
     ]
    },
    {
     "name": "stdout",
     "output_type": "stream",
     "text": [
      "Iter-77: ACC= 0.2583, NMI= 0.0073, ARI= 0.0031;  L= 2.19639, Lc= 0.08274,  Lr= 2.11365\n"
     ]
    },
    {
     "name": "stderr",
     "output_type": "stream",
     "text": [
      "/opt/conda/lib/python3.7/site-packages/sklearn/utils/linear_assignment_.py:128: FutureWarning: The linear_assignment function is deprecated in 0.21 and will be removed from 0.23. Use scipy.optimize.linear_sum_assignment instead.\n",
      "  FutureWarning)\n"
     ]
    },
    {
     "name": "stdout",
     "output_type": "stream",
     "text": [
      "Iter-88: ACC= 0.2587, NMI= 0.0072, ARI= 0.0031;  L= 2.20630, Lc= 0.08287,  Lr= 2.12343\n"
     ]
    },
    {
     "name": "stderr",
     "output_type": "stream",
     "text": [
      "/opt/conda/lib/python3.7/site-packages/sklearn/utils/linear_assignment_.py:128: FutureWarning: The linear_assignment function is deprecated in 0.21 and will be removed from 0.23. Use scipy.optimize.linear_sum_assignment instead.\n",
      "  FutureWarning)\n",
      "/opt/conda/lib/python3.7/site-packages/sklearn/utils/linear_assignment_.py:128: FutureWarning: The linear_assignment function is deprecated in 0.21 and will be removed from 0.23. Use scipy.optimize.linear_sum_assignment instead.\n",
      "  FutureWarning)\n"
     ]
    },
    {
     "name": "stdout",
     "output_type": "stream",
     "text": [
      "Iter-99: ACC= 0.2587, NMI= 0.0072, ARI= 0.0031;  L= 2.18741, Lc= 0.07532,  Lr= 2.11208\n",
      "delta_label  0.0003333333333333333 < tol  0.001\n",
      "Reached tolerance threshold. Stopping training.\n",
      "saving model to: scDeepCluster/scDeepCluster_model_final.h5\n",
      "Final: ACC= 0.2587, NMI= 0.0072, ARI= 0.0031\n",
      "Clustering time: 886 seconds.\n",
      ">>> Dataset data_1.5c16 \n",
      "### Autoencoder: Successfully preprocessed 2500 genes and 3000 cells.\n",
      "Sample size\n",
      "(3000, 2483)\n",
      "(3000,)\n",
      "...Pretraining autoencoder...\n",
      "Pretrained weights are saved to ./ae_weights.h5\n",
      "Update interval 11\n",
      "Save interval 55\n",
      "Initializing cluster centers with k-means.\n"
     ]
    },
    {
     "name": "stderr",
     "output_type": "stream",
     "text": [
      "/opt/conda/lib/python3.7/site-packages/sklearn/utils/linear_assignment_.py:128: FutureWarning: The linear_assignment function is deprecated in 0.21 and will be removed from 0.23. Use scipy.optimize.linear_sum_assignment instead.\n",
      "  FutureWarning)\n"
     ]
    },
    {
     "name": "stdout",
     "output_type": "stream",
     "text": [
      "Iter-0: ACC= 0.1183, NMI= 0.0047, ARI= 0.0011;  L= 0.00000, Lc= 0.00000,  Lr= 0.00000\n",
      "saving model to: scDeepCluster/scDeepCluster_model_0.h5\n"
     ]
    },
    {
     "name": "stderr",
     "output_type": "stream",
     "text": [
      "/opt/conda/lib/python3.7/site-packages/sklearn/utils/linear_assignment_.py:128: FutureWarning: The linear_assignment function is deprecated in 0.21 and will be removed from 0.23. Use scipy.optimize.linear_sum_assignment instead.\n",
      "  FutureWarning)\n"
     ]
    },
    {
     "name": "stdout",
     "output_type": "stream",
     "text": [
      "Iter-11: ACC= 0.1193, NMI= 0.0049, ARI= 0.0011;  L= 2.15691, Lc= 0.09508,  Lr= 2.06183\n"
     ]
    },
    {
     "name": "stderr",
     "output_type": "stream",
     "text": [
      "/opt/conda/lib/python3.7/site-packages/sklearn/utils/linear_assignment_.py:128: FutureWarning: The linear_assignment function is deprecated in 0.21 and will be removed from 0.23. Use scipy.optimize.linear_sum_assignment instead.\n",
      "  FutureWarning)\n"
     ]
    },
    {
     "name": "stdout",
     "output_type": "stream",
     "text": [
      "Iter-22: ACC= 0.1197, NMI= 0.0048, ARI= 0.0009;  L= 2.14748, Lc= 0.08850,  Lr= 2.05898\n"
     ]
    },
    {
     "name": "stderr",
     "output_type": "stream",
     "text": [
      "/opt/conda/lib/python3.7/site-packages/sklearn/utils/linear_assignment_.py:128: FutureWarning: The linear_assignment function is deprecated in 0.21 and will be removed from 0.23. Use scipy.optimize.linear_sum_assignment instead.\n",
      "  FutureWarning)\n"
     ]
    },
    {
     "name": "stdout",
     "output_type": "stream",
     "text": [
      "Iter-33: ACC= 0.1193, NMI= 0.0046, ARI= 0.0007;  L= 2.24702, Lc= 0.09112,  Lr= 2.15590\n"
     ]
    },
    {
     "name": "stderr",
     "output_type": "stream",
     "text": [
      "/opt/conda/lib/python3.7/site-packages/sklearn/utils/linear_assignment_.py:128: FutureWarning: The linear_assignment function is deprecated in 0.21 and will be removed from 0.23. Use scipy.optimize.linear_sum_assignment instead.\n",
      "  FutureWarning)\n"
     ]
    },
    {
     "name": "stdout",
     "output_type": "stream",
     "text": [
      "Iter-44: ACC= 0.1193, NMI= 0.0046, ARI= 0.0006;  L= 2.17887, Lc= 0.09549,  Lr= 2.08338\n"
     ]
    },
    {
     "name": "stderr",
     "output_type": "stream",
     "text": [
      "/opt/conda/lib/python3.7/site-packages/sklearn/utils/linear_assignment_.py:128: FutureWarning: The linear_assignment function is deprecated in 0.21 and will be removed from 0.23. Use scipy.optimize.linear_sum_assignment instead.\n",
      "  FutureWarning)\n"
     ]
    },
    {
     "name": "stdout",
     "output_type": "stream",
     "text": [
      "Iter-55: ACC= 0.1200, NMI= 0.0047, ARI= 0.0007;  L= 2.22992, Lc= 0.09054,  Lr= 2.13938\n",
      "saving model to: scDeepCluster/scDeepCluster_model_55.h5\n"
     ]
    },
    {
     "name": "stderr",
     "output_type": "stream",
     "text": [
      "/opt/conda/lib/python3.7/site-packages/sklearn/utils/linear_assignment_.py:128: FutureWarning: The linear_assignment function is deprecated in 0.21 and will be removed from 0.23. Use scipy.optimize.linear_sum_assignment instead.\n",
      "  FutureWarning)\n"
     ]
    },
    {
     "name": "stdout",
     "output_type": "stream",
     "text": [
      "Iter-66: ACC= 0.1200, NMI= 0.0045, ARI= 0.0007;  L= 2.18094, Lc= 0.08960,  Lr= 2.09134\n"
     ]
    },
    {
     "name": "stderr",
     "output_type": "stream",
     "text": [
      "/opt/conda/lib/python3.7/site-packages/sklearn/utils/linear_assignment_.py:128: FutureWarning: The linear_assignment function is deprecated in 0.21 and will be removed from 0.23. Use scipy.optimize.linear_sum_assignment instead.\n",
      "  FutureWarning)\n"
     ]
    },
    {
     "name": "stdout",
     "output_type": "stream",
     "text": [
      "Iter-77: ACC= 0.1200, NMI= 0.0042, ARI= 0.0008;  L= 2.20948, Lc= 0.08206,  Lr= 2.12743\n"
     ]
    },
    {
     "name": "stderr",
     "output_type": "stream",
     "text": [
      "/opt/conda/lib/python3.7/site-packages/sklearn/utils/linear_assignment_.py:128: FutureWarning: The linear_assignment function is deprecated in 0.21 and will be removed from 0.23. Use scipy.optimize.linear_sum_assignment instead.\n",
      "  FutureWarning)\n"
     ]
    },
    {
     "name": "stdout",
     "output_type": "stream",
     "text": [
      "Iter-88: ACC= 0.1207, NMI= 0.0043, ARI= 0.0008;  L= 2.18162, Lc= 0.08294,  Lr= 2.09868\n"
     ]
    },
    {
     "name": "stderr",
     "output_type": "stream",
     "text": [
      "/opt/conda/lib/python3.7/site-packages/sklearn/utils/linear_assignment_.py:128: FutureWarning: The linear_assignment function is deprecated in 0.21 and will be removed from 0.23. Use scipy.optimize.linear_sum_assignment instead.\n",
      "  FutureWarning)\n"
     ]
    },
    {
     "name": "stdout",
     "output_type": "stream",
     "text": [
      "Iter-99: ACC= 0.1210, NMI= 0.0043, ARI= 0.0008;  L= 2.18236, Lc= 0.07593,  Lr= 2.10643\n"
     ]
    },
    {
     "name": "stderr",
     "output_type": "stream",
     "text": [
      "/opt/conda/lib/python3.7/site-packages/sklearn/utils/linear_assignment_.py:128: FutureWarning: The linear_assignment function is deprecated in 0.21 and will be removed from 0.23. Use scipy.optimize.linear_sum_assignment instead.\n",
      "  FutureWarning)\n"
     ]
    },
    {
     "name": "stdout",
     "output_type": "stream",
     "text": [
      "Iter-110: ACC= 0.1210, NMI= 0.0043, ARI= 0.0009;  L= 2.18288, Lc= 0.06637,  Lr= 2.11651\n",
      "saving model to: scDeepCluster/scDeepCluster_model_110.h5\n"
     ]
    },
    {
     "name": "stderr",
     "output_type": "stream",
     "text": [
      "/opt/conda/lib/python3.7/site-packages/sklearn/utils/linear_assignment_.py:128: FutureWarning: The linear_assignment function is deprecated in 0.21 and will be removed from 0.23. Use scipy.optimize.linear_sum_assignment instead.\n",
      "  FutureWarning)\n"
     ]
    },
    {
     "name": "stdout",
     "output_type": "stream",
     "text": [
      "Iter-121: ACC= 0.1203, NMI= 0.0043, ARI= 0.0008;  L= 2.17134, Lc= 0.06217,  Lr= 2.10917\n"
     ]
    },
    {
     "name": "stderr",
     "output_type": "stream",
     "text": [
      "/opt/conda/lib/python3.7/site-packages/sklearn/utils/linear_assignment_.py:128: FutureWarning: The linear_assignment function is deprecated in 0.21 and will be removed from 0.23. Use scipy.optimize.linear_sum_assignment instead.\n",
      "  FutureWarning)\n"
     ]
    },
    {
     "name": "stdout",
     "output_type": "stream",
     "text": [
      "Iter-132: ACC= 0.1207, NMI= 0.0042, ARI= 0.0008;  L= 2.15106, Lc= 0.05002,  Lr= 2.10104\n"
     ]
    },
    {
     "name": "stderr",
     "output_type": "stream",
     "text": [
      "/opt/conda/lib/python3.7/site-packages/sklearn/utils/linear_assignment_.py:128: FutureWarning: The linear_assignment function is deprecated in 0.21 and will be removed from 0.23. Use scipy.optimize.linear_sum_assignment instead.\n",
      "  FutureWarning)\n"
     ]
    },
    {
     "name": "stdout",
     "output_type": "stream",
     "text": [
      "Iter-143: ACC= 0.1203, NMI= 0.0042, ARI= 0.0008;  L= 2.16475, Lc= 0.05943,  Lr= 2.10531\n"
     ]
    },
    {
     "name": "stderr",
     "output_type": "stream",
     "text": [
      "/opt/conda/lib/python3.7/site-packages/sklearn/utils/linear_assignment_.py:128: FutureWarning: The linear_assignment function is deprecated in 0.21 and will be removed from 0.23. Use scipy.optimize.linear_sum_assignment instead.\n",
      "  FutureWarning)\n",
      "/opt/conda/lib/python3.7/site-packages/sklearn/utils/linear_assignment_.py:128: FutureWarning: The linear_assignment function is deprecated in 0.21 and will be removed from 0.23. Use scipy.optimize.linear_sum_assignment instead.\n",
      "  FutureWarning)\n"
     ]
    },
    {
     "name": "stdout",
     "output_type": "stream",
     "text": [
      "Iter-154: ACC= 0.1203, NMI= 0.0042, ARI= 0.0008;  L= 2.15938, Lc= 0.04983,  Lr= 2.10955\n",
      "delta_label  0.0 < tol  0.001\n",
      "Reached tolerance threshold. Stopping training.\n",
      "saving model to: scDeepCluster/scDeepCluster_model_final.h5\n",
      "Final: ACC= 0.1203, NMI= 0.0042, ARI= 0.0008\n",
      "Clustering time: 906 seconds.\n",
      ">>> Dataset data_0c32 \n",
      "### Autoencoder: Successfully preprocessed 2500 genes and 3000 cells.\n",
      "Sample size\n",
      "(3000, 2490)\n",
      "(3000,)\n",
      "...Pretraining autoencoder...\n",
      "Pretrained weights are saved to ./ae_weights.h5\n",
      "Update interval 11\n",
      "Save interval 55\n",
      "Initializing cluster centers with k-means.\n"
     ]
    },
    {
     "name": "stderr",
     "output_type": "stream",
     "text": [
      "/opt/conda/lib/python3.7/site-packages/sklearn/utils/linear_assignment_.py:128: FutureWarning: The linear_assignment function is deprecated in 0.21 and will be removed from 0.23. Use scipy.optimize.linear_sum_assignment instead.\n",
      "  FutureWarning)\n"
     ]
    },
    {
     "name": "stdout",
     "output_type": "stream",
     "text": [
      "Iter-0: ACC= 0.0533, NMI= 0.0068, ARI= 0.0005;  L= 0.00000, Lc= 0.00000,  Lr= 0.00000\n",
      "saving model to: scDeepCluster/scDeepCluster_model_0.h5\n"
     ]
    },
    {
     "name": "stderr",
     "output_type": "stream",
     "text": [
      "/opt/conda/lib/python3.7/site-packages/sklearn/utils/linear_assignment_.py:128: FutureWarning: The linear_assignment function is deprecated in 0.21 and will be removed from 0.23. Use scipy.optimize.linear_sum_assignment instead.\n",
      "  FutureWarning)\n"
     ]
    },
    {
     "name": "stdout",
     "output_type": "stream",
     "text": [
      "Iter-11: ACC= 0.0553, NMI= 0.0065, ARI= 0.0005;  L= 2.49637, Lc= 0.09568,  Lr= 2.40069\n"
     ]
    },
    {
     "name": "stderr",
     "output_type": "stream",
     "text": [
      "/opt/conda/lib/python3.7/site-packages/sklearn/utils/linear_assignment_.py:128: FutureWarning: The linear_assignment function is deprecated in 0.21 and will be removed from 0.23. Use scipy.optimize.linear_sum_assignment instead.\n",
      "  FutureWarning)\n"
     ]
    },
    {
     "name": "stdout",
     "output_type": "stream",
     "text": [
      "Iter-22: ACC= 0.0547, NMI= 0.0065, ARI= 0.0004;  L= 2.48738, Lc= 0.08945,  Lr= 2.39793\n"
     ]
    },
    {
     "name": "stderr",
     "output_type": "stream",
     "text": [
      "/opt/conda/lib/python3.7/site-packages/sklearn/utils/linear_assignment_.py:128: FutureWarning: The linear_assignment function is deprecated in 0.21 and will be removed from 0.23. Use scipy.optimize.linear_sum_assignment instead.\n",
      "  FutureWarning)\n"
     ]
    },
    {
     "name": "stdout",
     "output_type": "stream",
     "text": [
      "Iter-33: ACC= 0.0543, NMI= 0.0062, ARI= 0.0003;  L= 2.53955, Lc= 0.09366,  Lr= 2.44589\n"
     ]
    },
    {
     "name": "stderr",
     "output_type": "stream",
     "text": [
      "/opt/conda/lib/python3.7/site-packages/sklearn/utils/linear_assignment_.py:128: FutureWarning: The linear_assignment function is deprecated in 0.21 and will be removed from 0.23. Use scipy.optimize.linear_sum_assignment instead.\n",
      "  FutureWarning)\n"
     ]
    },
    {
     "name": "stdout",
     "output_type": "stream",
     "text": [
      "Iter-44: ACC= 0.0547, NMI= 0.0065, ARI= 0.0004;  L= 2.58564, Lc= 0.10712,  Lr= 2.47852\n"
     ]
    },
    {
     "name": "stderr",
     "output_type": "stream",
     "text": [
      "/opt/conda/lib/python3.7/site-packages/sklearn/utils/linear_assignment_.py:128: FutureWarning: The linear_assignment function is deprecated in 0.21 and will be removed from 0.23. Use scipy.optimize.linear_sum_assignment instead.\n",
      "  FutureWarning)\n"
     ]
    },
    {
     "name": "stdout",
     "output_type": "stream",
     "text": [
      "Iter-55: ACC= 0.0547, NMI= 0.0065, ARI= 0.0004;  L= 2.58921, Lc= 0.08983,  Lr= 2.49938\n",
      "saving model to: scDeepCluster/scDeepCluster_model_55.h5\n"
     ]
    },
    {
     "name": "stderr",
     "output_type": "stream",
     "text": [
      "/opt/conda/lib/python3.7/site-packages/sklearn/utils/linear_assignment_.py:128: FutureWarning: The linear_assignment function is deprecated in 0.21 and will be removed from 0.23. Use scipy.optimize.linear_sum_assignment instead.\n",
      "  FutureWarning)\n"
     ]
    },
    {
     "name": "stdout",
     "output_type": "stream",
     "text": [
      "Iter-66: ACC= 0.0550, NMI= 0.0066, ARI= 0.0004;  L= 2.55897, Lc= 0.09095,  Lr= 2.46803\n"
     ]
    },
    {
     "name": "stderr",
     "output_type": "stream",
     "text": [
      "/opt/conda/lib/python3.7/site-packages/sklearn/utils/linear_assignment_.py:128: FutureWarning: The linear_assignment function is deprecated in 0.21 and will be removed from 0.23. Use scipy.optimize.linear_sum_assignment instead.\n",
      "  FutureWarning)\n"
     ]
    },
    {
     "name": "stdout",
     "output_type": "stream",
     "text": [
      "Iter-77: ACC= 0.0550, NMI= 0.0066, ARI= 0.0004;  L= 2.57851, Lc= 0.08422,  Lr= 2.49429\n"
     ]
    },
    {
     "name": "stderr",
     "output_type": "stream",
     "text": [
      "/opt/conda/lib/python3.7/site-packages/sklearn/utils/linear_assignment_.py:128: FutureWarning: The linear_assignment function is deprecated in 0.21 and will be removed from 0.23. Use scipy.optimize.linear_sum_assignment instead.\n",
      "  FutureWarning)\n"
     ]
    },
    {
     "name": "stdout",
     "output_type": "stream",
     "text": [
      "Iter-88: ACC= 0.0553, NMI= 0.0065, ARI= 0.0004;  L= 2.55720, Lc= 0.07749,  Lr= 2.47970\n"
     ]
    },
    {
     "name": "stderr",
     "output_type": "stream",
     "text": [
      "/opt/conda/lib/python3.7/site-packages/sklearn/utils/linear_assignment_.py:128: FutureWarning: The linear_assignment function is deprecated in 0.21 and will be removed from 0.23. Use scipy.optimize.linear_sum_assignment instead.\n",
      "  FutureWarning)\n"
     ]
    },
    {
     "name": "stdout",
     "output_type": "stream",
     "text": [
      "Iter-99: ACC= 0.0553, NMI= 0.0066, ARI= 0.0004;  L= 2.56189, Lc= 0.07641,  Lr= 2.48549\n"
     ]
    },
    {
     "name": "stderr",
     "output_type": "stream",
     "text": [
      "/opt/conda/lib/python3.7/site-packages/sklearn/utils/linear_assignment_.py:128: FutureWarning: The linear_assignment function is deprecated in 0.21 and will be removed from 0.23. Use scipy.optimize.linear_sum_assignment instead.\n",
      "  FutureWarning)\n",
      "/opt/conda/lib/python3.7/site-packages/sklearn/utils/linear_assignment_.py:128: FutureWarning: The linear_assignment function is deprecated in 0.21 and will be removed from 0.23. Use scipy.optimize.linear_sum_assignment instead.\n",
      "  FutureWarning)\n"
     ]
    },
    {
     "name": "stdout",
     "output_type": "stream",
     "text": [
      "Iter-110: ACC= 0.0553, NMI= 0.0066, ARI= 0.0004;  L= 2.54357, Lc= 0.06935,  Lr= 2.47422\n",
      "delta_label  0.0006666666666666666 < tol  0.001\n",
      "Reached tolerance threshold. Stopping training.\n",
      "saving model to: scDeepCluster/scDeepCluster_model_final.h5\n",
      "Final: ACC= 0.0553, NMI= 0.0066, ARI= 0.0004\n",
      "Clustering time: 906 seconds.\n",
      ">>> Dataset data_1.5c32 \n",
      "### Autoencoder: Successfully preprocessed 2500 genes and 3000 cells.\n",
      "Sample size\n",
      "(3000, 2482)\n",
      "(3000,)\n",
      "...Pretraining autoencoder...\n",
      "Pretrained weights are saved to ./ae_weights.h5\n",
      "Update interval 11\n",
      "Save interval 55\n",
      "Initializing cluster centers with k-means.\n"
     ]
    },
    {
     "name": "stderr",
     "output_type": "stream",
     "text": [
      "/opt/conda/lib/python3.7/site-packages/sklearn/utils/linear_assignment_.py:128: FutureWarning: The linear_assignment function is deprecated in 0.21 and will be removed from 0.23. Use scipy.optimize.linear_sum_assignment instead.\n",
      "  FutureWarning)\n"
     ]
    },
    {
     "name": "stdout",
     "output_type": "stream",
     "text": [
      "Iter-0: ACC= 0.0533, NMI= 0.0050, ARI= 0.0002;  L= 0.00000, Lc= 0.00000,  Lr= 0.00000\n",
      "saving model to: scDeepCluster/scDeepCluster_model_0.h5\n"
     ]
    },
    {
     "name": "stderr",
     "output_type": "stream",
     "text": [
      "/opt/conda/lib/python3.7/site-packages/sklearn/utils/linear_assignment_.py:128: FutureWarning: The linear_assignment function is deprecated in 0.21 and will be removed from 0.23. Use scipy.optimize.linear_sum_assignment instead.\n",
      "  FutureWarning)\n"
     ]
    },
    {
     "name": "stdout",
     "output_type": "stream",
     "text": [
      "Iter-11: ACC= 0.0523, NMI= 0.0047, ARI= 0.0001;  L= 2.17351, Lc= 0.10479,  Lr= 2.06872\n"
     ]
    },
    {
     "name": "stderr",
     "output_type": "stream",
     "text": [
      "/opt/conda/lib/python3.7/site-packages/sklearn/utils/linear_assignment_.py:128: FutureWarning: The linear_assignment function is deprecated in 0.21 and will be removed from 0.23. Use scipy.optimize.linear_sum_assignment instead.\n",
      "  FutureWarning)\n"
     ]
    },
    {
     "name": "stdout",
     "output_type": "stream",
     "text": [
      "Iter-22: ACC= 0.0523, NMI= 0.0049, ARI= 0.0001;  L= 2.15515, Lc= 0.08839,  Lr= 2.06675\n"
     ]
    },
    {
     "name": "stderr",
     "output_type": "stream",
     "text": [
      "/opt/conda/lib/python3.7/site-packages/sklearn/utils/linear_assignment_.py:128: FutureWarning: The linear_assignment function is deprecated in 0.21 and will be removed from 0.23. Use scipy.optimize.linear_sum_assignment instead.\n",
      "  FutureWarning)\n"
     ]
    },
    {
     "name": "stdout",
     "output_type": "stream",
     "text": [
      "Iter-33: ACC= 0.0523, NMI= 0.0048, ARI= 0.0001;  L= 2.37700, Lc= 0.10824,  Lr= 2.26876\n"
     ]
    },
    {
     "name": "stderr",
     "output_type": "stream",
     "text": [
      "/opt/conda/lib/python3.7/site-packages/sklearn/utils/linear_assignment_.py:128: FutureWarning: The linear_assignment function is deprecated in 0.21 and will be removed from 0.23. Use scipy.optimize.linear_sum_assignment instead.\n",
      "  FutureWarning)\n"
     ]
    },
    {
     "name": "stdout",
     "output_type": "stream",
     "text": [
      "Iter-44: ACC= 0.0520, NMI= 0.0047, ARI= 0.0000;  L= 2.17740, Lc= 0.09178,  Lr= 2.08562\n"
     ]
    },
    {
     "name": "stderr",
     "output_type": "stream",
     "text": [
      "/opt/conda/lib/python3.7/site-packages/sklearn/utils/linear_assignment_.py:128: FutureWarning: The linear_assignment function is deprecated in 0.21 and will be removed from 0.23. Use scipy.optimize.linear_sum_assignment instead.\n",
      "  FutureWarning)\n"
     ]
    },
    {
     "name": "stdout",
     "output_type": "stream",
     "text": [
      "Iter-55: ACC= 0.0517, NMI= 0.0048, ARI= 0.0000;  L= 2.27160, Lc= 0.09339,  Lr= 2.17821\n",
      "saving model to: scDeepCluster/scDeepCluster_model_55.h5\n"
     ]
    },
    {
     "name": "stderr",
     "output_type": "stream",
     "text": [
      "/opt/conda/lib/python3.7/site-packages/sklearn/utils/linear_assignment_.py:128: FutureWarning: The linear_assignment function is deprecated in 0.21 and will be removed from 0.23. Use scipy.optimize.linear_sum_assignment instead.\n",
      "  FutureWarning)\n"
     ]
    },
    {
     "name": "stdout",
     "output_type": "stream",
     "text": [
      "Iter-66: ACC= 0.0520, NMI= 0.0049, ARI= 0.0000;  L= 2.22233, Lc= 0.09196,  Lr= 2.13036\n"
     ]
    },
    {
     "name": "stderr",
     "output_type": "stream",
     "text": [
      "/opt/conda/lib/python3.7/site-packages/sklearn/utils/linear_assignment_.py:128: FutureWarning: The linear_assignment function is deprecated in 0.21 and will be removed from 0.23. Use scipy.optimize.linear_sum_assignment instead.\n",
      "  FutureWarning)\n"
     ]
    },
    {
     "name": "stdout",
     "output_type": "stream",
     "text": [
      "Iter-77: ACC= 0.0520, NMI= 0.0050, ARI= 0.0001;  L= 2.23372, Lc= 0.09145,  Lr= 2.14227\n"
     ]
    },
    {
     "name": "stderr",
     "output_type": "stream",
     "text": [
      "/opt/conda/lib/python3.7/site-packages/sklearn/utils/linear_assignment_.py:128: FutureWarning: The linear_assignment function is deprecated in 0.21 and will be removed from 0.23. Use scipy.optimize.linear_sum_assignment instead.\n",
      "  FutureWarning)\n"
     ]
    },
    {
     "name": "stdout",
     "output_type": "stream",
     "text": [
      "Iter-88: ACC= 0.0523, NMI= 0.0051, ARI= 0.0001;  L= 2.23926, Lc= 0.08508,  Lr= 2.15417\n"
     ]
    },
    {
     "name": "stderr",
     "output_type": "stream",
     "text": [
      "/opt/conda/lib/python3.7/site-packages/sklearn/utils/linear_assignment_.py:128: FutureWarning: The linear_assignment function is deprecated in 0.21 and will be removed from 0.23. Use scipy.optimize.linear_sum_assignment instead.\n",
      "  FutureWarning)\n",
      "/opt/conda/lib/python3.7/site-packages/sklearn/utils/linear_assignment_.py:128: FutureWarning: The linear_assignment function is deprecated in 0.21 and will be removed from 0.23. Use scipy.optimize.linear_sum_assignment instead.\n",
      "  FutureWarning)\n"
     ]
    },
    {
     "name": "stdout",
     "output_type": "stream",
     "text": [
      "Iter-99: ACC= 0.0527, NMI= 0.0052, ARI= 0.0001;  L= 2.21949, Lc= 0.08095,  Lr= 2.13854\n",
      "delta_label  0.0006666666666666666 < tol  0.001\n",
      "Reached tolerance threshold. Stopping training.\n",
      "saving model to: scDeepCluster/scDeepCluster_model_final.h5\n",
      "Final: ACC= 0.0527, NMI= 0.0052, ARI= 0.0001\n",
      "Clustering time: 699 seconds.\n",
      ">>> Dataset data_-1c32 \n",
      "### Autoencoder: Successfully preprocessed 2500 genes and 3000 cells.\n",
      "Sample size\n",
      "(3000, 2493)\n",
      "(3000,)\n",
      "...Pretraining autoencoder...\n",
      "Pretrained weights are saved to ./ae_weights.h5\n",
      "Update interval 11\n",
      "Save interval 55\n",
      "Initializing cluster centers with k-means.\n"
     ]
    },
    {
     "name": "stderr",
     "output_type": "stream",
     "text": [
      "/opt/conda/lib/python3.7/site-packages/sklearn/utils/linear_assignment_.py:128: FutureWarning: The linear_assignment function is deprecated in 0.21 and will be removed from 0.23. Use scipy.optimize.linear_sum_assignment instead.\n",
      "  FutureWarning)\n"
     ]
    },
    {
     "name": "stdout",
     "output_type": "stream",
     "text": [
      "Iter-0: ACC= 0.0573, NMI= 0.0076, ARI= 0.0008;  L= 0.00000, Lc= 0.00000,  Lr= 0.00000\n",
      "saving model to: scDeepCluster/scDeepCluster_model_0.h5\n"
     ]
    },
    {
     "name": "stderr",
     "output_type": "stream",
     "text": [
      "/opt/conda/lib/python3.7/site-packages/sklearn/utils/linear_assignment_.py:128: FutureWarning: The linear_assignment function is deprecated in 0.21 and will be removed from 0.23. Use scipy.optimize.linear_sum_assignment instead.\n",
      "  FutureWarning)\n"
     ]
    },
    {
     "name": "stdout",
     "output_type": "stream",
     "text": [
      "Iter-11: ACC= 0.0567, NMI= 0.0068, ARI= 0.0007;  L= 2.56911, Lc= 0.08193,  Lr= 2.48718\n"
     ]
    },
    {
     "name": "stderr",
     "output_type": "stream",
     "text": [
      "/opt/conda/lib/python3.7/site-packages/sklearn/utils/linear_assignment_.py:128: FutureWarning: The linear_assignment function is deprecated in 0.21 and will be removed from 0.23. Use scipy.optimize.linear_sum_assignment instead.\n",
      "  FutureWarning)\n"
     ]
    },
    {
     "name": "stdout",
     "output_type": "stream",
     "text": [
      "Iter-22: ACC= 0.0567, NMI= 0.0067, ARI= 0.0007;  L= 2.59761, Lc= 0.08153,  Lr= 2.51608\n"
     ]
    },
    {
     "name": "stderr",
     "output_type": "stream",
     "text": [
      "/opt/conda/lib/python3.7/site-packages/sklearn/utils/linear_assignment_.py:128: FutureWarning: The linear_assignment function is deprecated in 0.21 and will be removed from 0.23. Use scipy.optimize.linear_sum_assignment instead.\n",
      "  FutureWarning)\n"
     ]
    },
    {
     "name": "stdout",
     "output_type": "stream",
     "text": [
      "Iter-33: ACC= 0.0573, NMI= 0.0067, ARI= 0.0007;  L= 2.66778, Lc= 0.09422,  Lr= 2.57356\n"
     ]
    },
    {
     "name": "stderr",
     "output_type": "stream",
     "text": [
      "/opt/conda/lib/python3.7/site-packages/sklearn/utils/linear_assignment_.py:128: FutureWarning: The linear_assignment function is deprecated in 0.21 and will be removed from 0.23. Use scipy.optimize.linear_sum_assignment instead.\n",
      "  FutureWarning)\n"
     ]
    },
    {
     "name": "stdout",
     "output_type": "stream",
     "text": [
      "Iter-44: ACC= 0.0573, NMI= 0.0066, ARI= 0.0007;  L= 2.62305, Lc= 0.09434,  Lr= 2.52871\n"
     ]
    },
    {
     "name": "stderr",
     "output_type": "stream",
     "text": [
      "/opt/conda/lib/python3.7/site-packages/sklearn/utils/linear_assignment_.py:128: FutureWarning: The linear_assignment function is deprecated in 0.21 and will be removed from 0.23. Use scipy.optimize.linear_sum_assignment instead.\n",
      "  FutureWarning)\n"
     ]
    },
    {
     "name": "stdout",
     "output_type": "stream",
     "text": [
      "Iter-55: ACC= 0.0573, NMI= 0.0067, ARI= 0.0007;  L= 2.66103, Lc= 0.10049,  Lr= 2.56053\n",
      "saving model to: scDeepCluster/scDeepCluster_model_55.h5\n"
     ]
    },
    {
     "name": "stderr",
     "output_type": "stream",
     "text": [
      "/opt/conda/lib/python3.7/site-packages/sklearn/utils/linear_assignment_.py:128: FutureWarning: The linear_assignment function is deprecated in 0.21 and will be removed from 0.23. Use scipy.optimize.linear_sum_assignment instead.\n",
      "  FutureWarning)\n"
     ]
    },
    {
     "name": "stdout",
     "output_type": "stream",
     "text": [
      "Iter-66: ACC= 0.0570, NMI= 0.0067, ARI= 0.0007;  L= 2.62246, Lc= 0.09771,  Lr= 2.52475\n"
     ]
    },
    {
     "name": "stderr",
     "output_type": "stream",
     "text": [
      "/opt/conda/lib/python3.7/site-packages/sklearn/utils/linear_assignment_.py:128: FutureWarning: The linear_assignment function is deprecated in 0.21 and will be removed from 0.23. Use scipy.optimize.linear_sum_assignment instead.\n",
      "  FutureWarning)\n"
     ]
    },
    {
     "name": "stdout",
     "output_type": "stream",
     "text": [
      "Iter-77: ACC= 0.0573, NMI= 0.0067, ARI= 0.0007;  L= 2.62901, Lc= 0.09359,  Lr= 2.53542\n"
     ]
    },
    {
     "name": "stderr",
     "output_type": "stream",
     "text": [
      "/opt/conda/lib/python3.7/site-packages/sklearn/utils/linear_assignment_.py:128: FutureWarning: The linear_assignment function is deprecated in 0.21 and will be removed from 0.23. Use scipy.optimize.linear_sum_assignment instead.\n",
      "  FutureWarning)\n"
     ]
    },
    {
     "name": "stdout",
     "output_type": "stream",
     "text": [
      "Iter-88: ACC= 0.0570, NMI= 0.0066, ARI= 0.0007;  L= 2.62653, Lc= 0.09220,  Lr= 2.53433\n"
     ]
    },
    {
     "name": "stderr",
     "output_type": "stream",
     "text": [
      "/opt/conda/lib/python3.7/site-packages/sklearn/utils/linear_assignment_.py:128: FutureWarning: The linear_assignment function is deprecated in 0.21 and will be removed from 0.23. Use scipy.optimize.linear_sum_assignment instead.\n",
      "  FutureWarning)\n"
     ]
    },
    {
     "name": "stdout",
     "output_type": "stream",
     "text": [
      "Iter-99: ACC= 0.0573, NMI= 0.0067, ARI= 0.0007;  L= 2.60721, Lc= 0.09934,  Lr= 2.50787\n"
     ]
    },
    {
     "name": "stderr",
     "output_type": "stream",
     "text": [
      "/opt/conda/lib/python3.7/site-packages/sklearn/utils/linear_assignment_.py:128: FutureWarning: The linear_assignment function is deprecated in 0.21 and will be removed from 0.23. Use scipy.optimize.linear_sum_assignment instead.\n",
      "  FutureWarning)\n",
      "/opt/conda/lib/python3.7/site-packages/sklearn/utils/linear_assignment_.py:128: FutureWarning: The linear_assignment function is deprecated in 0.21 and will be removed from 0.23. Use scipy.optimize.linear_sum_assignment instead.\n",
      "  FutureWarning)\n"
     ]
    },
    {
     "name": "stdout",
     "output_type": "stream",
     "text": [
      "Iter-110: ACC= 0.0573, NMI= 0.0067, ARI= 0.0007;  L= 2.64548, Lc= 0.11009,  Lr= 2.53539\n",
      "delta_label  0.0003333333333333333 < tol  0.001\n",
      "Reached tolerance threshold. Stopping training.\n",
      "saving model to: scDeepCluster/scDeepCluster_model_final.h5\n",
      "Final: ACC= 0.0573, NMI= 0.0067, ARI= 0.0007\n",
      "Clustering time: 689 seconds.\n",
      ">>> Dataset data_-1c16 \n",
      "### Autoencoder: Successfully preprocessed 2500 genes and 3000 cells.\n",
      "Sample size\n",
      "(3000, 2494)\n",
      "(3000,)\n",
      "...Pretraining autoencoder...\n",
      "Pretrained weights are saved to ./ae_weights.h5\n",
      "Update interval 11\n",
      "Save interval 55\n",
      "Initializing cluster centers with k-means.\n"
     ]
    },
    {
     "name": "stderr",
     "output_type": "stream",
     "text": [
      "/opt/conda/lib/python3.7/site-packages/sklearn/utils/linear_assignment_.py:128: FutureWarning: The linear_assignment function is deprecated in 0.21 and will be removed from 0.23. Use scipy.optimize.linear_sum_assignment instead.\n",
      "  FutureWarning)\n"
     ]
    },
    {
     "name": "stdout",
     "output_type": "stream",
     "text": [
      "Iter-0: ACC= 0.1317, NMI= 0.0131, ARI= 0.0049;  L= 0.00000, Lc= 0.00000,  Lr= 0.00000\n",
      "saving model to: scDeepCluster/scDeepCluster_model_0.h5\n"
     ]
    },
    {
     "name": "stderr",
     "output_type": "stream",
     "text": [
      "/opt/conda/lib/python3.7/site-packages/sklearn/utils/linear_assignment_.py:128: FutureWarning: The linear_assignment function is deprecated in 0.21 and will be removed from 0.23. Use scipy.optimize.linear_sum_assignment instead.\n",
      "  FutureWarning)\n"
     ]
    },
    {
     "name": "stdout",
     "output_type": "stream",
     "text": [
      "Iter-11: ACC= 0.1277, NMI= 0.0117, ARI= 0.0040;  L= 2.55844, Lc= 0.07765,  Lr= 2.48080\n"
     ]
    },
    {
     "name": "stderr",
     "output_type": "stream",
     "text": [
      "/opt/conda/lib/python3.7/site-packages/sklearn/utils/linear_assignment_.py:128: FutureWarning: The linear_assignment function is deprecated in 0.21 and will be removed from 0.23. Use scipy.optimize.linear_sum_assignment instead.\n",
      "  FutureWarning)\n"
     ]
    },
    {
     "name": "stdout",
     "output_type": "stream",
     "text": [
      "Iter-22: ACC= 0.1297, NMI= 0.0122, ARI= 0.0042;  L= 2.58026, Lc= 0.08082,  Lr= 2.49944\n"
     ]
    },
    {
     "name": "stderr",
     "output_type": "stream",
     "text": [
      "/opt/conda/lib/python3.7/site-packages/sklearn/utils/linear_assignment_.py:128: FutureWarning: The linear_assignment function is deprecated in 0.21 and will be removed from 0.23. Use scipy.optimize.linear_sum_assignment instead.\n",
      "  FutureWarning)\n"
     ]
    },
    {
     "name": "stdout",
     "output_type": "stream",
     "text": [
      "Iter-33: ACC= 0.1290, NMI= 0.0120, ARI= 0.0039;  L= 2.65793, Lc= 0.09514,  Lr= 2.56279\n"
     ]
    },
    {
     "name": "stderr",
     "output_type": "stream",
     "text": [
      "/opt/conda/lib/python3.7/site-packages/sklearn/utils/linear_assignment_.py:128: FutureWarning: The linear_assignment function is deprecated in 0.21 and will be removed from 0.23. Use scipy.optimize.linear_sum_assignment instead.\n",
      "  FutureWarning)\n"
     ]
    },
    {
     "name": "stdout",
     "output_type": "stream",
     "text": [
      "Iter-44: ACC= 0.1290, NMI= 0.0122, ARI= 0.0040;  L= 2.61843, Lc= 0.09707,  Lr= 2.52136\n"
     ]
    },
    {
     "name": "stderr",
     "output_type": "stream",
     "text": [
      "/opt/conda/lib/python3.7/site-packages/sklearn/utils/linear_assignment_.py:128: FutureWarning: The linear_assignment function is deprecated in 0.21 and will be removed from 0.23. Use scipy.optimize.linear_sum_assignment instead.\n",
      "  FutureWarning)\n"
     ]
    },
    {
     "name": "stdout",
     "output_type": "stream",
     "text": [
      "Iter-55: ACC= 0.1303, NMI= 0.0120, ARI= 0.0040;  L= 2.65496, Lc= 0.09977,  Lr= 2.55519\n",
      "saving model to: scDeepCluster/scDeepCluster_model_55.h5\n"
     ]
    },
    {
     "name": "stderr",
     "output_type": "stream",
     "text": [
      "/opt/conda/lib/python3.7/site-packages/sklearn/utils/linear_assignment_.py:128: FutureWarning: The linear_assignment function is deprecated in 0.21 and will be removed from 0.23. Use scipy.optimize.linear_sum_assignment instead.\n",
      "  FutureWarning)\n"
     ]
    },
    {
     "name": "stdout",
     "output_type": "stream",
     "text": [
      "Iter-66: ACC= 0.1300, NMI= 0.0119, ARI= 0.0040;  L= 2.61336, Lc= 0.09405,  Lr= 2.51930\n"
     ]
    },
    {
     "name": "stderr",
     "output_type": "stream",
     "text": [
      "/opt/conda/lib/python3.7/site-packages/sklearn/utils/linear_assignment_.py:128: FutureWarning: The linear_assignment function is deprecated in 0.21 and will be removed from 0.23. Use scipy.optimize.linear_sum_assignment instead.\n",
      "  FutureWarning)\n"
     ]
    },
    {
     "name": "stdout",
     "output_type": "stream",
     "text": [
      "Iter-77: ACC= 0.1300, NMI= 0.0119, ARI= 0.0040;  L= 2.64132, Lc= 0.08924,  Lr= 2.55208\n"
     ]
    },
    {
     "name": "stderr",
     "output_type": "stream",
     "text": [
      "/opt/conda/lib/python3.7/site-packages/sklearn/utils/linear_assignment_.py:128: FutureWarning: The linear_assignment function is deprecated in 0.21 and will be removed from 0.23. Use scipy.optimize.linear_sum_assignment instead.\n",
      "  FutureWarning)\n"
     ]
    },
    {
     "name": "stdout",
     "output_type": "stream",
     "text": [
      "Iter-88: ACC= 0.1297, NMI= 0.0119, ARI= 0.0040;  L= 2.60975, Lc= 0.08485,  Lr= 2.52490\n"
     ]
    },
    {
     "name": "stderr",
     "output_type": "stream",
     "text": [
      "/opt/conda/lib/python3.7/site-packages/sklearn/utils/linear_assignment_.py:128: FutureWarning: The linear_assignment function is deprecated in 0.21 and will be removed from 0.23. Use scipy.optimize.linear_sum_assignment instead.\n",
      "  FutureWarning)\n",
      "/opt/conda/lib/python3.7/site-packages/sklearn/utils/linear_assignment_.py:128: FutureWarning: The linear_assignment function is deprecated in 0.21 and will be removed from 0.23. Use scipy.optimize.linear_sum_assignment instead.\n",
      "  FutureWarning)\n"
     ]
    },
    {
     "name": "stdout",
     "output_type": "stream",
     "text": [
      "Iter-99: ACC= 0.1303, NMI= 0.0120, ARI= 0.0041;  L= 2.61426, Lc= 0.07963,  Lr= 2.53463\n",
      "delta_label  0.0006666666666666666 < tol  0.001\n",
      "Reached tolerance threshold. Stopping training.\n",
      "saving model to: scDeepCluster/scDeepCluster_model_final.h5\n",
      "Final: ACC= 0.1303, NMI= 0.0120, ARI= 0.0041\n",
      "Clustering time: 689 seconds.\n",
      ">>> Dataset data_1c16 \n",
      "### Autoencoder: Successfully preprocessed 2500 genes and 3000 cells.\n",
      "Sample size\n",
      "(3000, 2480)\n",
      "(3000,)\n",
      "...Pretraining autoencoder...\n",
      "Pretrained weights are saved to ./ae_weights.h5\n",
      "Update interval 11\n",
      "Save interval 55\n",
      "Initializing cluster centers with k-means.\n"
     ]
    },
    {
     "name": "stderr",
     "output_type": "stream",
     "text": [
      "/opt/conda/lib/python3.7/site-packages/sklearn/utils/linear_assignment_.py:128: FutureWarning: The linear_assignment function is deprecated in 0.21 and will be removed from 0.23. Use scipy.optimize.linear_sum_assignment instead.\n",
      "  FutureWarning)\n"
     ]
    },
    {
     "name": "stdout",
     "output_type": "stream",
     "text": [
      "Iter-0: ACC= 0.1207, NMI= 0.0069, ARI= 0.0019;  L= 0.00000, Lc= 0.00000,  Lr= 0.00000\n",
      "saving model to: scDeepCluster/scDeepCluster_model_0.h5\n"
     ]
    },
    {
     "name": "stderr",
     "output_type": "stream",
     "text": [
      "/opt/conda/lib/python3.7/site-packages/sklearn/utils/linear_assignment_.py:128: FutureWarning: The linear_assignment function is deprecated in 0.21 and will be removed from 0.23. Use scipy.optimize.linear_sum_assignment instead.\n",
      "  FutureWarning)\n"
     ]
    },
    {
     "name": "stdout",
     "output_type": "stream",
     "text": [
      "Iter-11: ACC= 0.1210, NMI= 0.0072, ARI= 0.0023;  L= 2.32256, Lc= 0.09974,  Lr= 2.22282\n"
     ]
    },
    {
     "name": "stderr",
     "output_type": "stream",
     "text": [
      "/opt/conda/lib/python3.7/site-packages/sklearn/utils/linear_assignment_.py:128: FutureWarning: The linear_assignment function is deprecated in 0.21 and will be removed from 0.23. Use scipy.optimize.linear_sum_assignment instead.\n",
      "  FutureWarning)\n"
     ]
    },
    {
     "name": "stdout",
     "output_type": "stream",
     "text": [
      "Iter-22: ACC= 0.1213, NMI= 0.0077, ARI= 0.0026;  L= 2.31763, Lc= 0.08907,  Lr= 2.22856\n"
     ]
    },
    {
     "name": "stderr",
     "output_type": "stream",
     "text": [
      "/opt/conda/lib/python3.7/site-packages/sklearn/utils/linear_assignment_.py:128: FutureWarning: The linear_assignment function is deprecated in 0.21 and will be removed from 0.23. Use scipy.optimize.linear_sum_assignment instead.\n",
      "  FutureWarning)\n"
     ]
    },
    {
     "name": "stdout",
     "output_type": "stream",
     "text": [
      "Iter-33: ACC= 0.1210, NMI= 0.0076, ARI= 0.0025;  L= 2.56822, Lc= 0.10389,  Lr= 2.46433\n"
     ]
    },
    {
     "name": "stderr",
     "output_type": "stream",
     "text": [
      "/opt/conda/lib/python3.7/site-packages/sklearn/utils/linear_assignment_.py:128: FutureWarning: The linear_assignment function is deprecated in 0.21 and will be removed from 0.23. Use scipy.optimize.linear_sum_assignment instead.\n",
      "  FutureWarning)\n"
     ]
    },
    {
     "name": "stdout",
     "output_type": "stream",
     "text": [
      "Iter-44: ACC= 0.1210, NMI= 0.0080, ARI= 0.0026;  L= 2.34127, Lc= 0.09715,  Lr= 2.24412\n"
     ]
    },
    {
     "name": "stderr",
     "output_type": "stream",
     "text": [
      "/opt/conda/lib/python3.7/site-packages/sklearn/utils/linear_assignment_.py:128: FutureWarning: The linear_assignment function is deprecated in 0.21 and will be removed from 0.23. Use scipy.optimize.linear_sum_assignment instead.\n",
      "  FutureWarning)\n"
     ]
    },
    {
     "name": "stdout",
     "output_type": "stream",
     "text": [
      "Iter-55: ACC= 0.1213, NMI= 0.0082, ARI= 0.0026;  L= 2.47726, Lc= 0.10168,  Lr= 2.37558\n",
      "saving model to: scDeepCluster/scDeepCluster_model_55.h5\n"
     ]
    },
    {
     "name": "stderr",
     "output_type": "stream",
     "text": [
      "/opt/conda/lib/python3.7/site-packages/sklearn/utils/linear_assignment_.py:128: FutureWarning: The linear_assignment function is deprecated in 0.21 and will be removed from 0.23. Use scipy.optimize.linear_sum_assignment instead.\n",
      "  FutureWarning)\n"
     ]
    },
    {
     "name": "stdout",
     "output_type": "stream",
     "text": [
      "Iter-66: ACC= 0.1210, NMI= 0.0080, ARI= 0.0024;  L= 2.36938, Lc= 0.09165,  Lr= 2.27773\n"
     ]
    },
    {
     "name": "stderr",
     "output_type": "stream",
     "text": [
      "/opt/conda/lib/python3.7/site-packages/sklearn/utils/linear_assignment_.py:128: FutureWarning: The linear_assignment function is deprecated in 0.21 and will be removed from 0.23. Use scipy.optimize.linear_sum_assignment instead.\n",
      "  FutureWarning)\n"
     ]
    },
    {
     "name": "stdout",
     "output_type": "stream",
     "text": [
      "Iter-77: ACC= 0.1203, NMI= 0.0080, ARI= 0.0024;  L= 2.39015, Lc= 0.09483,  Lr= 2.29532\n"
     ]
    },
    {
     "name": "stderr",
     "output_type": "stream",
     "text": [
      "/opt/conda/lib/python3.7/site-packages/sklearn/utils/linear_assignment_.py:128: FutureWarning: The linear_assignment function is deprecated in 0.21 and will be removed from 0.23. Use scipy.optimize.linear_sum_assignment instead.\n",
      "  FutureWarning)\n"
     ]
    },
    {
     "name": "stdout",
     "output_type": "stream",
     "text": [
      "Iter-88: ACC= 0.1207, NMI= 0.0082, ARI= 0.0026;  L= 2.40356, Lc= 0.08989,  Lr= 2.31367\n"
     ]
    },
    {
     "name": "stderr",
     "output_type": "stream",
     "text": [
      "/opt/conda/lib/python3.7/site-packages/sklearn/utils/linear_assignment_.py:128: FutureWarning: The linear_assignment function is deprecated in 0.21 and will be removed from 0.23. Use scipy.optimize.linear_sum_assignment instead.\n",
      "  FutureWarning)\n",
      "/opt/conda/lib/python3.7/site-packages/sklearn/utils/linear_assignment_.py:128: FutureWarning: The linear_assignment function is deprecated in 0.21 and will be removed from 0.23. Use scipy.optimize.linear_sum_assignment instead.\n",
      "  FutureWarning)\n"
     ]
    },
    {
     "name": "stdout",
     "output_type": "stream",
     "text": [
      "Iter-99: ACC= 0.1203, NMI= 0.0081, ARI= 0.0025;  L= 2.38640, Lc= 0.08391,  Lr= 2.30249\n",
      "delta_label  0.0006666666666666666 < tol  0.001\n",
      "Reached tolerance threshold. Stopping training.\n",
      "saving model to: scDeepCluster/scDeepCluster_model_final.h5\n",
      "Final: ACC= 0.1203, NMI= 0.0081, ARI= 0.0025\n",
      "Clustering time: 659 seconds.\n",
      ">>> Dataset data_1c8 \n",
      "### Autoencoder: Successfully preprocessed 2500 genes and 3000 cells.\n",
      "Sample size\n",
      "(3000, 2486)\n",
      "(3000,)\n",
      "...Pretraining autoencoder...\n",
      "Pretrained weights are saved to ./ae_weights.h5\n",
      "Update interval 11\n",
      "Save interval 55\n",
      "Initializing cluster centers with k-means.\n"
     ]
    },
    {
     "name": "stderr",
     "output_type": "stream",
     "text": [
      "/opt/conda/lib/python3.7/site-packages/sklearn/utils/linear_assignment_.py:128: FutureWarning: The linear_assignment function is deprecated in 0.21 and will be removed from 0.23. Use scipy.optimize.linear_sum_assignment instead.\n",
      "  FutureWarning)\n"
     ]
    },
    {
     "name": "stdout",
     "output_type": "stream",
     "text": [
      "Iter-0: ACC= 0.2517, NMI= 0.0081, ARI= 0.0018;  L= 0.00000, Lc= 0.00000,  Lr= 0.00000\n",
      "saving model to: scDeepCluster/scDeepCluster_model_0.h5\n"
     ]
    },
    {
     "name": "stderr",
     "output_type": "stream",
     "text": [
      "/opt/conda/lib/python3.7/site-packages/sklearn/utils/linear_assignment_.py:128: FutureWarning: The linear_assignment function is deprecated in 0.21 and will be removed from 0.23. Use scipy.optimize.linear_sum_assignment instead.\n",
      "  FutureWarning)\n"
     ]
    },
    {
     "name": "stdout",
     "output_type": "stream",
     "text": [
      "Iter-11: ACC= 0.2487, NMI= 0.0076, ARI= 0.0016;  L= 2.29869, Lc= 0.08905,  Lr= 2.20963\n"
     ]
    },
    {
     "name": "stderr",
     "output_type": "stream",
     "text": [
      "/opt/conda/lib/python3.7/site-packages/sklearn/utils/linear_assignment_.py:128: FutureWarning: The linear_assignment function is deprecated in 0.21 and will be removed from 0.23. Use scipy.optimize.linear_sum_assignment instead.\n",
      "  FutureWarning)\n"
     ]
    },
    {
     "name": "stdout",
     "output_type": "stream",
     "text": [
      "Iter-22: ACC= 0.2487, NMI= 0.0062, ARI= 0.0019;  L= 2.29816, Lc= 0.08933,  Lr= 2.20882\n"
     ]
    },
    {
     "name": "stderr",
     "output_type": "stream",
     "text": [
      "/opt/conda/lib/python3.7/site-packages/sklearn/utils/linear_assignment_.py:128: FutureWarning: The linear_assignment function is deprecated in 0.21 and will be removed from 0.23. Use scipy.optimize.linear_sum_assignment instead.\n",
      "  FutureWarning)\n"
     ]
    },
    {
     "name": "stdout",
     "output_type": "stream",
     "text": [
      "Iter-33: ACC= 0.2480, NMI= 0.0062, ARI= 0.0021;  L= 2.32314, Lc= 0.09273,  Lr= 2.23041\n"
     ]
    },
    {
     "name": "stderr",
     "output_type": "stream",
     "text": [
      "/opt/conda/lib/python3.7/site-packages/sklearn/utils/linear_assignment_.py:128: FutureWarning: The linear_assignment function is deprecated in 0.21 and will be removed from 0.23. Use scipy.optimize.linear_sum_assignment instead.\n",
      "  FutureWarning)\n"
     ]
    },
    {
     "name": "stdout",
     "output_type": "stream",
     "text": [
      "Iter-44: ACC= 0.2487, NMI= 0.0062, ARI= 0.0021;  L= 2.36367, Lc= 0.10974,  Lr= 2.25393\n"
     ]
    },
    {
     "name": "stderr",
     "output_type": "stream",
     "text": [
      "/opt/conda/lib/python3.7/site-packages/sklearn/utils/linear_assignment_.py:128: FutureWarning: The linear_assignment function is deprecated in 0.21 and will be removed from 0.23. Use scipy.optimize.linear_sum_assignment instead.\n",
      "  FutureWarning)\n"
     ]
    },
    {
     "name": "stdout",
     "output_type": "stream",
     "text": [
      "Iter-55: ACC= 0.2497, NMI= 0.0063, ARI= 0.0023;  L= 2.34477, Lc= 0.09249,  Lr= 2.25229\n",
      "saving model to: scDeepCluster/scDeepCluster_model_55.h5\n"
     ]
    },
    {
     "name": "stderr",
     "output_type": "stream",
     "text": [
      "/opt/conda/lib/python3.7/site-packages/sklearn/utils/linear_assignment_.py:128: FutureWarning: The linear_assignment function is deprecated in 0.21 and will be removed from 0.23. Use scipy.optimize.linear_sum_assignment instead.\n",
      "  FutureWarning)\n"
     ]
    },
    {
     "name": "stdout",
     "output_type": "stream",
     "text": [
      "Iter-66: ACC= 0.2490, NMI= 0.0062, ARI= 0.0022;  L= 2.36795, Lc= 0.10093,  Lr= 2.26702\n"
     ]
    },
    {
     "name": "stderr",
     "output_type": "stream",
     "text": [
      "/opt/conda/lib/python3.7/site-packages/sklearn/utils/linear_assignment_.py:128: FutureWarning: The linear_assignment function is deprecated in 0.21 and will be removed from 0.23. Use scipy.optimize.linear_sum_assignment instead.\n",
      "  FutureWarning)\n"
     ]
    },
    {
     "name": "stdout",
     "output_type": "stream",
     "text": [
      "Iter-77: ACC= 0.2490, NMI= 0.0062, ARI= 0.0023;  L= 2.39420, Lc= 0.09168,  Lr= 2.30252\n"
     ]
    },
    {
     "name": "stderr",
     "output_type": "stream",
     "text": [
      "/opt/conda/lib/python3.7/site-packages/sklearn/utils/linear_assignment_.py:128: FutureWarning: The linear_assignment function is deprecated in 0.21 and will be removed from 0.23. Use scipy.optimize.linear_sum_assignment instead.\n",
      "  FutureWarning)\n"
     ]
    },
    {
     "name": "stdout",
     "output_type": "stream",
     "text": [
      "Iter-88: ACC= 0.2483, NMI= 0.0059, ARI= 0.0021;  L= 2.36383, Lc= 0.08998,  Lr= 2.27385\n"
     ]
    },
    {
     "name": "stderr",
     "output_type": "stream",
     "text": [
      "/opt/conda/lib/python3.7/site-packages/sklearn/utils/linear_assignment_.py:128: FutureWarning: The linear_assignment function is deprecated in 0.21 and will be removed from 0.23. Use scipy.optimize.linear_sum_assignment instead.\n",
      "  FutureWarning)\n",
      "/opt/conda/lib/python3.7/site-packages/sklearn/utils/linear_assignment_.py:128: FutureWarning: The linear_assignment function is deprecated in 0.21 and will be removed from 0.23. Use scipy.optimize.linear_sum_assignment instead.\n",
      "  FutureWarning)\n"
     ]
    },
    {
     "name": "stdout",
     "output_type": "stream",
     "text": [
      "Iter-99: ACC= 0.2483, NMI= 0.0059, ARI= 0.0021;  L= 2.37285, Lc= 0.08320,  Lr= 2.28965\n",
      "delta_label  0.0006666666666666666 < tol  0.001\n",
      "Reached tolerance threshold. Stopping training.\n",
      "saving model to: scDeepCluster/scDeepCluster_model_final.h5\n",
      "Final: ACC= 0.2483, NMI= 0.0059, ARI= 0.0021\n",
      "Clustering time: 695 seconds.\n",
      ">>> Dataset data_-1c4 \n",
      "### Autoencoder: Successfully preprocessed 2500 genes and 3000 cells.\n",
      "Sample size\n",
      "(3000, 2492)\n",
      "(3000,)\n",
      "...Pretraining autoencoder...\n",
      "Pretrained weights are saved to ./ae_weights.h5\n",
      "Update interval 11\n",
      "Save interval 55\n",
      "Initializing cluster centers with k-means.\n"
     ]
    },
    {
     "name": "stderr",
     "output_type": "stream",
     "text": [
      "/opt/conda/lib/python3.7/site-packages/sklearn/utils/linear_assignment_.py:128: FutureWarning: The linear_assignment function is deprecated in 0.21 and will be removed from 0.23. Use scipy.optimize.linear_sum_assignment instead.\n",
      "  FutureWarning)\n"
     ]
    },
    {
     "name": "stdout",
     "output_type": "stream",
     "text": [
      "Iter-0: ACC= 0.6857, NMI= 0.6426, ARI= 0.6146;  L= 0.00000, Lc= 0.00000,  Lr= 0.00000\n",
      "saving model to: scDeepCluster/scDeepCluster_model_0.h5\n"
     ]
    },
    {
     "name": "stderr",
     "output_type": "stream",
     "text": [
      "/opt/conda/lib/python3.7/site-packages/sklearn/utils/linear_assignment_.py:128: FutureWarning: The linear_assignment function is deprecated in 0.21 and will be removed from 0.23. Use scipy.optimize.linear_sum_assignment instead.\n",
      "  FutureWarning)\n"
     ]
    },
    {
     "name": "stdout",
     "output_type": "stream",
     "text": [
      "Iter-11: ACC= 0.6910, NMI= 0.6439, ARI= 0.6145;  L= 2.56938, Lc= 0.09486,  Lr= 2.47453\n"
     ]
    },
    {
     "name": "stderr",
     "output_type": "stream",
     "text": [
      "/opt/conda/lib/python3.7/site-packages/sklearn/utils/linear_assignment_.py:128: FutureWarning: The linear_assignment function is deprecated in 0.21 and will be removed from 0.23. Use scipy.optimize.linear_sum_assignment instead.\n",
      "  FutureWarning)\n"
     ]
    },
    {
     "name": "stdout",
     "output_type": "stream",
     "text": [
      "Iter-22: ACC= 0.6960, NMI= 0.6456, ARI= 0.6167;  L= 2.56151, Lc= 0.08932,  Lr= 2.47220\n"
     ]
    },
    {
     "name": "stderr",
     "output_type": "stream",
     "text": [
      "/opt/conda/lib/python3.7/site-packages/sklearn/utils/linear_assignment_.py:128: FutureWarning: The linear_assignment function is deprecated in 0.21 and will be removed from 0.23. Use scipy.optimize.linear_sum_assignment instead.\n",
      "  FutureWarning)\n"
     ]
    },
    {
     "name": "stdout",
     "output_type": "stream",
     "text": [
      "Iter-33: ACC= 0.6960, NMI= 0.6458, ARI= 0.6159;  L= 2.75893, Lc= 0.09107,  Lr= 2.66786\n"
     ]
    },
    {
     "name": "stderr",
     "output_type": "stream",
     "text": [
      "/opt/conda/lib/python3.7/site-packages/sklearn/utils/linear_assignment_.py:128: FutureWarning: The linear_assignment function is deprecated in 0.21 and will be removed from 0.23. Use scipy.optimize.linear_sum_assignment instead.\n",
      "  FutureWarning)\n"
     ]
    },
    {
     "name": "stdout",
     "output_type": "stream",
     "text": [
      "Iter-44: ACC= 0.6993, NMI= 0.6496, ARI= 0.6181;  L= 2.57562, Lc= 0.08962,  Lr= 2.48600\n"
     ]
    },
    {
     "name": "stderr",
     "output_type": "stream",
     "text": [
      "/opt/conda/lib/python3.7/site-packages/sklearn/utils/linear_assignment_.py:128: FutureWarning: The linear_assignment function is deprecated in 0.21 and will be removed from 0.23. Use scipy.optimize.linear_sum_assignment instead.\n",
      "  FutureWarning)\n"
     ]
    },
    {
     "name": "stdout",
     "output_type": "stream",
     "text": [
      "Iter-55: ACC= 0.6993, NMI= 0.6485, ARI= 0.6182;  L= 2.62588, Lc= 0.08655,  Lr= 2.53933\n",
      "saving model to: scDeepCluster/scDeepCluster_model_55.h5\n"
     ]
    },
    {
     "name": "stderr",
     "output_type": "stream",
     "text": [
      "/opt/conda/lib/python3.7/site-packages/sklearn/utils/linear_assignment_.py:128: FutureWarning: The linear_assignment function is deprecated in 0.21 and will be removed from 0.23. Use scipy.optimize.linear_sum_assignment instead.\n",
      "  FutureWarning)\n"
     ]
    },
    {
     "name": "stdout",
     "output_type": "stream",
     "text": [
      "Iter-66: ACC= 0.6990, NMI= 0.6483, ARI= 0.6174;  L= 2.60213, Lc= 0.08271,  Lr= 2.51942\n"
     ]
    },
    {
     "name": "stderr",
     "output_type": "stream",
     "text": [
      "/opt/conda/lib/python3.7/site-packages/sklearn/utils/linear_assignment_.py:128: FutureWarning: The linear_assignment function is deprecated in 0.21 and will be removed from 0.23. Use scipy.optimize.linear_sum_assignment instead.\n",
      "  FutureWarning)\n"
     ]
    },
    {
     "name": "stdout",
     "output_type": "stream",
     "text": [
      "Iter-77: ACC= 0.7000, NMI= 0.6504, ARI= 0.6178;  L= 2.61344, Lc= 0.07868,  Lr= 2.53476\n"
     ]
    },
    {
     "name": "stderr",
     "output_type": "stream",
     "text": [
      "/opt/conda/lib/python3.7/site-packages/sklearn/utils/linear_assignment_.py:128: FutureWarning: The linear_assignment function is deprecated in 0.21 and will be removed from 0.23. Use scipy.optimize.linear_sum_assignment instead.\n",
      "  FutureWarning)\n"
     ]
    },
    {
     "name": "stdout",
     "output_type": "stream",
     "text": [
      "Iter-88: ACC= 0.7013, NMI= 0.6516, ARI= 0.6185;  L= 2.60478, Lc= 0.07411,  Lr= 2.53067\n"
     ]
    },
    {
     "name": "stderr",
     "output_type": "stream",
     "text": [
      "/opt/conda/lib/python3.7/site-packages/sklearn/utils/linear_assignment_.py:128: FutureWarning: The linear_assignment function is deprecated in 0.21 and will be removed from 0.23. Use scipy.optimize.linear_sum_assignment instead.\n",
      "  FutureWarning)\n",
      "/opt/conda/lib/python3.7/site-packages/sklearn/utils/linear_assignment_.py:128: FutureWarning: The linear_assignment function is deprecated in 0.21 and will be removed from 0.23. Use scipy.optimize.linear_sum_assignment instead.\n",
      "  FutureWarning)\n"
     ]
    },
    {
     "name": "stdout",
     "output_type": "stream",
     "text": [
      "Iter-99: ACC= 0.7007, NMI= 0.6510, ARI= 0.6183;  L= 2.59480, Lc= 0.06789,  Lr= 2.52691\n",
      "delta_label  0.0006666666666666666 < tol  0.001\n",
      "Reached tolerance threshold. Stopping training.\n",
      "saving model to: scDeepCluster/scDeepCluster_model_final.h5\n",
      "Final: ACC= 0.7007, NMI= 0.6510, ARI= 0.6183\n",
      "Clustering time: 697 seconds.\n",
      ">>> Dataset data_-1c8 \n",
      "### Autoencoder: Successfully preprocessed 2500 genes and 3000 cells.\n",
      "Sample size\n",
      "(3000, 2494)\n",
      "(3000,)\n",
      "...Pretraining autoencoder...\n",
      "Pretrained weights are saved to ./ae_weights.h5\n",
      "Update interval 11\n",
      "Save interval 55\n",
      "Initializing cluster centers with k-means.\n"
     ]
    },
    {
     "name": "stderr",
     "output_type": "stream",
     "text": [
      "/opt/conda/lib/python3.7/site-packages/sklearn/utils/linear_assignment_.py:128: FutureWarning: The linear_assignment function is deprecated in 0.21 and will be removed from 0.23. Use scipy.optimize.linear_sum_assignment instead.\n",
      "  FutureWarning)\n"
     ]
    },
    {
     "name": "stdout",
     "output_type": "stream",
     "text": [
      "Iter-0: ACC= 0.5067, NMI= 0.3629, ARI= 0.2513;  L= 0.00000, Lc= 0.00000,  Lr= 0.00000\n",
      "saving model to: scDeepCluster/scDeepCluster_model_0.h5\n"
     ]
    },
    {
     "name": "stderr",
     "output_type": "stream",
     "text": [
      "/opt/conda/lib/python3.7/site-packages/sklearn/utils/linear_assignment_.py:128: FutureWarning: The linear_assignment function is deprecated in 0.21 and will be removed from 0.23. Use scipy.optimize.linear_sum_assignment instead.\n",
      "  FutureWarning)\n"
     ]
    },
    {
     "name": "stdout",
     "output_type": "stream",
     "text": [
      "Iter-11: ACC= 0.5110, NMI= 0.3719, ARI= 0.2551;  L= 2.55448, Lc= 0.08210,  Lr= 2.47238\n"
     ]
    },
    {
     "name": "stderr",
     "output_type": "stream",
     "text": [
      "/opt/conda/lib/python3.7/site-packages/sklearn/utils/linear_assignment_.py:128: FutureWarning: The linear_assignment function is deprecated in 0.21 and will be removed from 0.23. Use scipy.optimize.linear_sum_assignment instead.\n",
      "  FutureWarning)\n"
     ]
    },
    {
     "name": "stdout",
     "output_type": "stream",
     "text": [
      "Iter-22: ACC= 0.5167, NMI= 0.3781, ARI= 0.2629;  L= 2.55304, Lc= 0.08248,  Lr= 2.47055\n"
     ]
    },
    {
     "name": "stderr",
     "output_type": "stream",
     "text": [
      "/opt/conda/lib/python3.7/site-packages/sklearn/utils/linear_assignment_.py:128: FutureWarning: The linear_assignment function is deprecated in 0.21 and will be removed from 0.23. Use scipy.optimize.linear_sum_assignment instead.\n",
      "  FutureWarning)\n"
     ]
    },
    {
     "name": "stdout",
     "output_type": "stream",
     "text": [
      "Iter-33: ACC= 0.5217, NMI= 0.3840, ARI= 0.2694;  L= 2.58298, Lc= 0.08323,  Lr= 2.49975\n"
     ]
    },
    {
     "name": "stderr",
     "output_type": "stream",
     "text": [
      "/opt/conda/lib/python3.7/site-packages/sklearn/utils/linear_assignment_.py:128: FutureWarning: The linear_assignment function is deprecated in 0.21 and will be removed from 0.23. Use scipy.optimize.linear_sum_assignment instead.\n",
      "  FutureWarning)\n"
     ]
    },
    {
     "name": "stdout",
     "output_type": "stream",
     "text": [
      "Iter-44: ACC= 0.5233, NMI= 0.3871, ARI= 0.2688;  L= 2.65644, Lc= 0.10499,  Lr= 2.55145\n"
     ]
    },
    {
     "name": "stderr",
     "output_type": "stream",
     "text": [
      "/opt/conda/lib/python3.7/site-packages/sklearn/utils/linear_assignment_.py:128: FutureWarning: The linear_assignment function is deprecated in 0.21 and will be removed from 0.23. Use scipy.optimize.linear_sum_assignment instead.\n",
      "  FutureWarning)\n"
     ]
    },
    {
     "name": "stdout",
     "output_type": "stream",
     "text": [
      "Iter-55: ACC= 0.5267, NMI= 0.3885, ARI= 0.2728;  L= 2.61014, Lc= 0.08506,  Lr= 2.52508\n",
      "saving model to: scDeepCluster/scDeepCluster_model_55.h5\n"
     ]
    },
    {
     "name": "stderr",
     "output_type": "stream",
     "text": [
      "/opt/conda/lib/python3.7/site-packages/sklearn/utils/linear_assignment_.py:128: FutureWarning: The linear_assignment function is deprecated in 0.21 and will be removed from 0.23. Use scipy.optimize.linear_sum_assignment instead.\n",
      "  FutureWarning)\n"
     ]
    },
    {
     "name": "stdout",
     "output_type": "stream",
     "text": [
      "Iter-66: ACC= 0.5263, NMI= 0.3913, ARI= 0.2716;  L= 2.68311, Lc= 0.09824,  Lr= 2.58487\n"
     ]
    },
    {
     "name": "stderr",
     "output_type": "stream",
     "text": [
      "/opt/conda/lib/python3.7/site-packages/sklearn/utils/linear_assignment_.py:128: FutureWarning: The linear_assignment function is deprecated in 0.21 and will be removed from 0.23. Use scipy.optimize.linear_sum_assignment instead.\n",
      "  FutureWarning)\n"
     ]
    },
    {
     "name": "stdout",
     "output_type": "stream",
     "text": [
      "Iter-77: ACC= 0.5303, NMI= 0.3939, ARI= 0.2758;  L= 2.61130, Lc= 0.08745,  Lr= 2.52384\n"
     ]
    },
    {
     "name": "stderr",
     "output_type": "stream",
     "text": [
      "/opt/conda/lib/python3.7/site-packages/sklearn/utils/linear_assignment_.py:128: FutureWarning: The linear_assignment function is deprecated in 0.21 and will be removed from 0.23. Use scipy.optimize.linear_sum_assignment instead.\n",
      "  FutureWarning)\n"
     ]
    },
    {
     "name": "stdout",
     "output_type": "stream",
     "text": [
      "Iter-88: ACC= 0.5313, NMI= 0.3956, ARI= 0.2774;  L= 2.69319, Lc= 0.09967,  Lr= 2.59352\n"
     ]
    },
    {
     "name": "stderr",
     "output_type": "stream",
     "text": [
      "/opt/conda/lib/python3.7/site-packages/sklearn/utils/linear_assignment_.py:128: FutureWarning: The linear_assignment function is deprecated in 0.21 and will be removed from 0.23. Use scipy.optimize.linear_sum_assignment instead.\n",
      "  FutureWarning)\n"
     ]
    },
    {
     "name": "stdout",
     "output_type": "stream",
     "text": [
      "Iter-99: ACC= 0.5310, NMI= 0.3953, ARI= 0.2769;  L= 2.64904, Lc= 0.09187,  Lr= 2.55717\n"
     ]
    },
    {
     "name": "stderr",
     "output_type": "stream",
     "text": [
      "/opt/conda/lib/python3.7/site-packages/sklearn/utils/linear_assignment_.py:128: FutureWarning: The linear_assignment function is deprecated in 0.21 and will be removed from 0.23. Use scipy.optimize.linear_sum_assignment instead.\n",
      "  FutureWarning)\n"
     ]
    },
    {
     "name": "stdout",
     "output_type": "stream",
     "text": [
      "Iter-110: ACC= 0.5323, NMI= 0.3959, ARI= 0.2792;  L= 2.63922, Lc= 0.08957,  Lr= 2.54965\n",
      "saving model to: scDeepCluster/scDeepCluster_model_110.h5\n"
     ]
    },
    {
     "name": "stderr",
     "output_type": "stream",
     "text": [
      "/opt/conda/lib/python3.7/site-packages/sklearn/utils/linear_assignment_.py:128: FutureWarning: The linear_assignment function is deprecated in 0.21 and will be removed from 0.23. Use scipy.optimize.linear_sum_assignment instead.\n",
      "  FutureWarning)\n"
     ]
    },
    {
     "name": "stdout",
     "output_type": "stream",
     "text": [
      "Iter-121: ACC= 0.5327, NMI= 0.3949, ARI= 0.2795;  L= 2.64746, Lc= 0.08957,  Lr= 2.55789\n"
     ]
    },
    {
     "name": "stderr",
     "output_type": "stream",
     "text": [
      "/opt/conda/lib/python3.7/site-packages/sklearn/utils/linear_assignment_.py:128: FutureWarning: The linear_assignment function is deprecated in 0.21 and will be removed from 0.23. Use scipy.optimize.linear_sum_assignment instead.\n",
      "  FutureWarning)\n"
     ]
    },
    {
     "name": "stdout",
     "output_type": "stream",
     "text": [
      "Iter-132: ACC= 0.5337, NMI= 0.3967, ARI= 0.2810;  L= 2.64468, Lc= 0.08042,  Lr= 2.56426\n"
     ]
    },
    {
     "name": "stderr",
     "output_type": "stream",
     "text": [
      "/opt/conda/lib/python3.7/site-packages/sklearn/utils/linear_assignment_.py:128: FutureWarning: The linear_assignment function is deprecated in 0.21 and will be removed from 0.23. Use scipy.optimize.linear_sum_assignment instead.\n",
      "  FutureWarning)\n",
      "/opt/conda/lib/python3.7/site-packages/sklearn/utils/linear_assignment_.py:128: FutureWarning: The linear_assignment function is deprecated in 0.21 and will be removed from 0.23. Use scipy.optimize.linear_sum_assignment instead.\n",
      "  FutureWarning)\n"
     ]
    },
    {
     "name": "stdout",
     "output_type": "stream",
     "text": [
      "Iter-143: ACC= 0.5337, NMI= 0.3955, ARI= 0.2810;  L= 2.64233, Lc= 0.07751,  Lr= 2.56482\n",
      "delta_label  0.0006666666666666666 < tol  0.001\n",
      "Reached tolerance threshold. Stopping training.\n",
      "saving model to: scDeepCluster/scDeepCluster_model_final.h5\n",
      "Final: ACC= 0.5337, NMI= 0.3955, ARI= 0.2810\n",
      "Clustering time: 712 seconds.\n",
      ">>> Dataset data_0c4 \n",
      "### Autoencoder: Successfully preprocessed 2500 genes and 3000 cells.\n",
      "Sample size\n",
      "(3000, 2494)\n",
      "(3000,)\n",
      "...Pretraining autoencoder...\n",
      "Pretrained weights are saved to ./ae_weights.h5\n",
      "Update interval 11\n",
      "Save interval 55\n",
      "Initializing cluster centers with k-means.\n"
     ]
    },
    {
     "name": "stderr",
     "output_type": "stream",
     "text": [
      "/opt/conda/lib/python3.7/site-packages/sklearn/utils/linear_assignment_.py:128: FutureWarning: The linear_assignment function is deprecated in 0.21 and will be removed from 0.23. Use scipy.optimize.linear_sum_assignment instead.\n",
      "  FutureWarning)\n"
     ]
    },
    {
     "name": "stdout",
     "output_type": "stream",
     "text": [
      "Iter-0: ACC= 0.6840, NMI= 0.5863, ARI= 0.5911;  L= 0.00000, Lc= 0.00000,  Lr= 0.00000\n",
      "saving model to: scDeepCluster/scDeepCluster_model_0.h5\n"
     ]
    },
    {
     "name": "stderr",
     "output_type": "stream",
     "text": [
      "/opt/conda/lib/python3.7/site-packages/sklearn/utils/linear_assignment_.py:128: FutureWarning: The linear_assignment function is deprecated in 0.21 and will be removed from 0.23. Use scipy.optimize.linear_sum_assignment instead.\n",
      "  FutureWarning)\n"
     ]
    },
    {
     "name": "stdout",
     "output_type": "stream",
     "text": [
      "Iter-11: ACC= 0.6847, NMI= 0.5910, ARI= 0.5939;  L= 2.48625, Lc= 0.09801,  Lr= 2.38824\n"
     ]
    },
    {
     "name": "stderr",
     "output_type": "stream",
     "text": [
      "/opt/conda/lib/python3.7/site-packages/sklearn/utils/linear_assignment_.py:128: FutureWarning: The linear_assignment function is deprecated in 0.21 and will be removed from 0.23. Use scipy.optimize.linear_sum_assignment instead.\n",
      "  FutureWarning)\n"
     ]
    },
    {
     "name": "stdout",
     "output_type": "stream",
     "text": [
      "Iter-22: ACC= 0.6803, NMI= 0.5933, ARI= 0.5963;  L= 2.48620, Lc= 0.09849,  Lr= 2.38771\n"
     ]
    },
    {
     "name": "stderr",
     "output_type": "stream",
     "text": [
      "/opt/conda/lib/python3.7/site-packages/sklearn/utils/linear_assignment_.py:128: FutureWarning: The linear_assignment function is deprecated in 0.21 and will be removed from 0.23. Use scipy.optimize.linear_sum_assignment instead.\n",
      "  FutureWarning)\n"
     ]
    },
    {
     "name": "stdout",
     "output_type": "stream",
     "text": [
      "Iter-33: ACC= 0.6797, NMI= 0.5935, ARI= 0.5966;  L= 2.49731, Lc= 0.09645,  Lr= 2.40086\n"
     ]
    },
    {
     "name": "stderr",
     "output_type": "stream",
     "text": [
      "/opt/conda/lib/python3.7/site-packages/sklearn/utils/linear_assignment_.py:128: FutureWarning: The linear_assignment function is deprecated in 0.21 and will be removed from 0.23. Use scipy.optimize.linear_sum_assignment instead.\n",
      "  FutureWarning)\n"
     ]
    },
    {
     "name": "stdout",
     "output_type": "stream",
     "text": [
      "Iter-44: ACC= 0.6803, NMI= 0.5998, ARI= 0.5979;  L= 2.88806, Lc= 0.09800,  Lr= 2.79006\n"
     ]
    },
    {
     "name": "stderr",
     "output_type": "stream",
     "text": [
      "/opt/conda/lib/python3.7/site-packages/sklearn/utils/linear_assignment_.py:128: FutureWarning: The linear_assignment function is deprecated in 0.21 and will be removed from 0.23. Use scipy.optimize.linear_sum_assignment instead.\n",
      "  FutureWarning)\n"
     ]
    },
    {
     "name": "stdout",
     "output_type": "stream",
     "text": [
      "Iter-55: ACC= 0.6803, NMI= 0.6008, ARI= 0.5981;  L= 2.52753, Lc= 0.10221,  Lr= 2.42532\n",
      "saving model to: scDeepCluster/scDeepCluster_model_55.h5\n"
     ]
    },
    {
     "name": "stderr",
     "output_type": "stream",
     "text": [
      "/opt/conda/lib/python3.7/site-packages/sklearn/utils/linear_assignment_.py:128: FutureWarning: The linear_assignment function is deprecated in 0.21 and will be removed from 0.23. Use scipy.optimize.linear_sum_assignment instead.\n",
      "  FutureWarning)\n"
     ]
    },
    {
     "name": "stdout",
     "output_type": "stream",
     "text": [
      "Iter-66: ACC= 0.6810, NMI= 0.6038, ARI= 0.5979;  L= 2.65285, Lc= 0.09872,  Lr= 2.55413\n"
     ]
    },
    {
     "name": "stderr",
     "output_type": "stream",
     "text": [
      "/opt/conda/lib/python3.7/site-packages/sklearn/utils/linear_assignment_.py:128: FutureWarning: The linear_assignment function is deprecated in 0.21 and will be removed from 0.23. Use scipy.optimize.linear_sum_assignment instead.\n",
      "  FutureWarning)\n"
     ]
    },
    {
     "name": "stdout",
     "output_type": "stream",
     "text": [
      "Iter-77: ACC= 0.6797, NMI= 0.6039, ARI= 0.5979;  L= 2.56821, Lc= 0.09365,  Lr= 2.47456\n"
     ]
    },
    {
     "name": "stderr",
     "output_type": "stream",
     "text": [
      "/opt/conda/lib/python3.7/site-packages/sklearn/utils/linear_assignment_.py:128: FutureWarning: The linear_assignment function is deprecated in 0.21 and will be removed from 0.23. Use scipy.optimize.linear_sum_assignment instead.\n",
      "  FutureWarning)\n"
     ]
    },
    {
     "name": "stdout",
     "output_type": "stream",
     "text": [
      "Iter-88: ACC= 0.6790, NMI= 0.6037, ARI= 0.5980;  L= 2.61944, Lc= 0.09407,  Lr= 2.52536\n"
     ]
    },
    {
     "name": "stderr",
     "output_type": "stream",
     "text": [
      "/opt/conda/lib/python3.7/site-packages/sklearn/utils/linear_assignment_.py:128: FutureWarning: The linear_assignment function is deprecated in 0.21 and will be removed from 0.23. Use scipy.optimize.linear_sum_assignment instead.\n",
      "  FutureWarning)\n",
      "/opt/conda/lib/python3.7/site-packages/sklearn/utils/linear_assignment_.py:128: FutureWarning: The linear_assignment function is deprecated in 0.21 and will be removed from 0.23. Use scipy.optimize.linear_sum_assignment instead.\n",
      "  FutureWarning)\n"
     ]
    },
    {
     "name": "stdout",
     "output_type": "stream",
     "text": [
      "Iter-99: ACC= 0.6783, NMI= 0.6037, ARI= 0.5980;  L= 2.57129, Lc= 0.08832,  Lr= 2.48298\n",
      "delta_label  0.0006666666666666666 < tol  0.001\n",
      "Reached tolerance threshold. Stopping training.\n",
      "saving model to: scDeepCluster/scDeepCluster_model_final.h5\n",
      "Final: ACC= 0.6783, NMI= 0.6037, ARI= 0.5980\n",
      "Clustering time: 704 seconds.\n",
      ">>> Dataset data_0c8 \n",
      "### Autoencoder: Successfully preprocessed 2500 genes and 3000 cells.\n",
      "Sample size\n",
      "(3000, 2494)\n",
      "(3000,)\n",
      "...Pretraining autoencoder...\n",
      "Pretrained weights are saved to ./ae_weights.h5\n",
      "Update interval 11\n",
      "Save interval 55\n",
      "Initializing cluster centers with k-means.\n"
     ]
    },
    {
     "name": "stderr",
     "output_type": "stream",
     "text": [
      "/opt/conda/lib/python3.7/site-packages/sklearn/utils/linear_assignment_.py:128: FutureWarning: The linear_assignment function is deprecated in 0.21 and will be removed from 0.23. Use scipy.optimize.linear_sum_assignment instead.\n",
      "  FutureWarning)\n"
     ]
    },
    {
     "name": "stdout",
     "output_type": "stream",
     "text": [
      "Iter-0: ACC= 0.2823, NMI= 0.0215, ARI= 0.0097;  L= 0.00000, Lc= 0.00000,  Lr= 0.00000\n",
      "saving model to: scDeepCluster/scDeepCluster_model_0.h5\n"
     ]
    },
    {
     "name": "stderr",
     "output_type": "stream",
     "text": [
      "/opt/conda/lib/python3.7/site-packages/sklearn/utils/linear_assignment_.py:128: FutureWarning: The linear_assignment function is deprecated in 0.21 and will be removed from 0.23. Use scipy.optimize.linear_sum_assignment instead.\n",
      "  FutureWarning)\n"
     ]
    },
    {
     "name": "stdout",
     "output_type": "stream",
     "text": [
      "Iter-11: ACC= 0.2837, NMI= 0.0209, ARI= 0.0109;  L= 2.46512, Lc= 0.07460,  Lr= 2.39052\n"
     ]
    },
    {
     "name": "stderr",
     "output_type": "stream",
     "text": [
      "/opt/conda/lib/python3.7/site-packages/sklearn/utils/linear_assignment_.py:128: FutureWarning: The linear_assignment function is deprecated in 0.21 and will be removed from 0.23. Use scipy.optimize.linear_sum_assignment instead.\n",
      "  FutureWarning)\n"
     ]
    },
    {
     "name": "stdout",
     "output_type": "stream",
     "text": [
      "Iter-22: ACC= 0.2850, NMI= 0.0197, ARI= 0.0120;  L= 2.46755, Lc= 0.07535,  Lr= 2.39221\n"
     ]
    },
    {
     "name": "stderr",
     "output_type": "stream",
     "text": [
      "/opt/conda/lib/python3.7/site-packages/sklearn/utils/linear_assignment_.py:128: FutureWarning: The linear_assignment function is deprecated in 0.21 and will be removed from 0.23. Use scipy.optimize.linear_sum_assignment instead.\n",
      "  FutureWarning)\n"
     ]
    },
    {
     "name": "stdout",
     "output_type": "stream",
     "text": [
      "Iter-33: ACC= 0.2880, NMI= 0.0202, ARI= 0.0130;  L= 2.48827, Lc= 0.08282,  Lr= 2.40545\n"
     ]
    },
    {
     "name": "stderr",
     "output_type": "stream",
     "text": [
      "/opt/conda/lib/python3.7/site-packages/sklearn/utils/linear_assignment_.py:128: FutureWarning: The linear_assignment function is deprecated in 0.21 and will be removed from 0.23. Use scipy.optimize.linear_sum_assignment instead.\n",
      "  FutureWarning)\n"
     ]
    },
    {
     "name": "stdout",
     "output_type": "stream",
     "text": [
      "Iter-44: ACC= 0.2850, NMI= 0.0192, ARI= 0.0121;  L= 2.96794, Lc= 0.09875,  Lr= 2.86919\n"
     ]
    },
    {
     "name": "stderr",
     "output_type": "stream",
     "text": [
      "/opt/conda/lib/python3.7/site-packages/sklearn/utils/linear_assignment_.py:128: FutureWarning: The linear_assignment function is deprecated in 0.21 and will be removed from 0.23. Use scipy.optimize.linear_sum_assignment instead.\n",
      "  FutureWarning)\n"
     ]
    },
    {
     "name": "stdout",
     "output_type": "stream",
     "text": [
      "Iter-55: ACC= 0.2873, NMI= 0.0199, ARI= 0.0129;  L= 2.53792, Lc= 0.09465,  Lr= 2.44327\n",
      "saving model to: scDeepCluster/scDeepCluster_model_55.h5\n"
     ]
    },
    {
     "name": "stderr",
     "output_type": "stream",
     "text": [
      "/opt/conda/lib/python3.7/site-packages/sklearn/utils/linear_assignment_.py:128: FutureWarning: The linear_assignment function is deprecated in 0.21 and will be removed from 0.23. Use scipy.optimize.linear_sum_assignment instead.\n",
      "  FutureWarning)\n"
     ]
    },
    {
     "name": "stdout",
     "output_type": "stream",
     "text": [
      "Iter-66: ACC= 0.2847, NMI= 0.0189, ARI= 0.0122;  L= 2.66003, Lc= 0.09862,  Lr= 2.56141\n"
     ]
    },
    {
     "name": "stderr",
     "output_type": "stream",
     "text": [
      "/opt/conda/lib/python3.7/site-packages/sklearn/utils/linear_assignment_.py:128: FutureWarning: The linear_assignment function is deprecated in 0.21 and will be removed from 0.23. Use scipy.optimize.linear_sum_assignment instead.\n",
      "  FutureWarning)\n"
     ]
    },
    {
     "name": "stdout",
     "output_type": "stream",
     "text": [
      "Iter-77: ACC= 0.2850, NMI= 0.0197, ARI= 0.0130;  L= 2.57346, Lc= 0.09871,  Lr= 2.47475\n"
     ]
    },
    {
     "name": "stderr",
     "output_type": "stream",
     "text": [
      "/opt/conda/lib/python3.7/site-packages/sklearn/utils/linear_assignment_.py:128: FutureWarning: The linear_assignment function is deprecated in 0.21 and will be removed from 0.23. Use scipy.optimize.linear_sum_assignment instead.\n",
      "  FutureWarning)\n"
     ]
    },
    {
     "name": "stdout",
     "output_type": "stream",
     "text": [
      "Iter-88: ACC= 0.2853, NMI= 0.0195, ARI= 0.0129;  L= 2.60864, Lc= 0.09867,  Lr= 2.50997\n"
     ]
    },
    {
     "name": "stderr",
     "output_type": "stream",
     "text": [
      "/opt/conda/lib/python3.7/site-packages/sklearn/utils/linear_assignment_.py:128: FutureWarning: The linear_assignment function is deprecated in 0.21 and will be removed from 0.23. Use scipy.optimize.linear_sum_assignment instead.\n",
      "  FutureWarning)\n"
     ]
    },
    {
     "name": "stdout",
     "output_type": "stream",
     "text": [
      "Iter-99: ACC= 0.2843, NMI= 0.0191, ARI= 0.0129;  L= 2.56350, Lc= 0.10324,  Lr= 2.46027\n"
     ]
    },
    {
     "name": "stderr",
     "output_type": "stream",
     "text": [
      "/opt/conda/lib/python3.7/site-packages/sklearn/utils/linear_assignment_.py:128: FutureWarning: The linear_assignment function is deprecated in 0.21 and will be removed from 0.23. Use scipy.optimize.linear_sum_assignment instead.\n",
      "  FutureWarning)\n"
     ]
    },
    {
     "name": "stdout",
     "output_type": "stream",
     "text": [
      "Iter-110: ACC= 0.2833, NMI= 0.0188, ARI= 0.0126;  L= 2.64252, Lc= 0.09887,  Lr= 2.54365\n",
      "saving model to: scDeepCluster/scDeepCluster_model_110.h5\n"
     ]
    },
    {
     "name": "stderr",
     "output_type": "stream",
     "text": [
      "/opt/conda/lib/python3.7/site-packages/sklearn/utils/linear_assignment_.py:128: FutureWarning: The linear_assignment function is deprecated in 0.21 and will be removed from 0.23. Use scipy.optimize.linear_sum_assignment instead.\n",
      "  FutureWarning)\n"
     ]
    },
    {
     "name": "stdout",
     "output_type": "stream",
     "text": [
      "Iter-121: ACC= 0.2843, NMI= 0.0192, ARI= 0.0130;  L= 2.56433, Lc= 0.09277,  Lr= 2.47156\n"
     ]
    },
    {
     "name": "stderr",
     "output_type": "stream",
     "text": [
      "/opt/conda/lib/python3.7/site-packages/sklearn/utils/linear_assignment_.py:128: FutureWarning: The linear_assignment function is deprecated in 0.21 and will be removed from 0.23. Use scipy.optimize.linear_sum_assignment instead.\n",
      "  FutureWarning)\n"
     ]
    },
    {
     "name": "stdout",
     "output_type": "stream",
     "text": [
      "Iter-132: ACC= 0.2833, NMI= 0.0188, ARI= 0.0126;  L= 2.60104, Lc= 0.08040,  Lr= 2.52063\n"
     ]
    },
    {
     "name": "stderr",
     "output_type": "stream",
     "text": [
      "/opt/conda/lib/python3.7/site-packages/sklearn/utils/linear_assignment_.py:128: FutureWarning: The linear_assignment function is deprecated in 0.21 and will be removed from 0.23. Use scipy.optimize.linear_sum_assignment instead.\n",
      "  FutureWarning)\n"
     ]
    },
    {
     "name": "stdout",
     "output_type": "stream",
     "text": [
      "Iter-143: ACC= 0.2830, NMI= 0.0186, ARI= 0.0124;  L= 2.56647, Lc= 0.08183,  Lr= 2.48464\n"
     ]
    },
    {
     "name": "stderr",
     "output_type": "stream",
     "text": [
      "/opt/conda/lib/python3.7/site-packages/sklearn/utils/linear_assignment_.py:128: FutureWarning: The linear_assignment function is deprecated in 0.21 and will be removed from 0.23. Use scipy.optimize.linear_sum_assignment instead.\n",
      "  FutureWarning)\n"
     ]
    },
    {
     "name": "stdout",
     "output_type": "stream",
     "text": [
      "Iter-154: ACC= 0.2827, NMI= 0.0183, ARI= 0.0124;  L= 2.58535, Lc= 0.07813,  Lr= 2.50722\n"
     ]
    },
    {
     "name": "stderr",
     "output_type": "stream",
     "text": [
      "/opt/conda/lib/python3.7/site-packages/sklearn/utils/linear_assignment_.py:128: FutureWarning: The linear_assignment function is deprecated in 0.21 and will be removed from 0.23. Use scipy.optimize.linear_sum_assignment instead.\n",
      "  FutureWarning)\n",
      "/opt/conda/lib/python3.7/site-packages/sklearn/utils/linear_assignment_.py:128: FutureWarning: The linear_assignment function is deprecated in 0.21 and will be removed from 0.23. Use scipy.optimize.linear_sum_assignment instead.\n",
      "  FutureWarning)\n"
     ]
    },
    {
     "name": "stdout",
     "output_type": "stream",
     "text": [
      "Iter-165: ACC= 0.2827, NMI= 0.0183, ARI= 0.0124;  L= 2.59143, Lc= 0.07507,  Lr= 2.51636\n",
      "delta_label  0.0006666666666666666 < tol  0.001\n",
      "Reached tolerance threshold. Stopping training.\n",
      "saving model to: scDeepCluster/scDeepCluster_model_final.h5\n",
      "Final: ACC= 0.2827, NMI= 0.0183, ARI= 0.0124\n",
      "Clustering time: 718 seconds.\n",
      ">>> Dataset data_0c16 \n",
      "### Autoencoder: Successfully preprocessed 2500 genes and 3000 cells.\n",
      "Sample size\n",
      "(3000, 2489)\n",
      "(3000,)\n",
      "...Pretraining autoencoder...\n",
      "Pretrained weights are saved to ./ae_weights.h5\n",
      "Update interval 11\n",
      "Save interval 55\n",
      "Initializing cluster centers with k-means.\n"
     ]
    },
    {
     "name": "stderr",
     "output_type": "stream",
     "text": [
      "/opt/conda/lib/python3.7/site-packages/sklearn/utils/linear_assignment_.py:128: FutureWarning: The linear_assignment function is deprecated in 0.21 and will be removed from 0.23. Use scipy.optimize.linear_sum_assignment instead.\n",
      "  FutureWarning)\n"
     ]
    },
    {
     "name": "stdout",
     "output_type": "stream",
     "text": [
      "Iter-0: ACC= 0.1253, NMI= 0.0069, ARI= 0.0019;  L= 0.00000, Lc= 0.00000,  Lr= 0.00000\n",
      "saving model to: scDeepCluster/scDeepCluster_model_0.h5\n"
     ]
    },
    {
     "name": "stderr",
     "output_type": "stream",
     "text": [
      "/opt/conda/lib/python3.7/site-packages/sklearn/utils/linear_assignment_.py:128: FutureWarning: The linear_assignment function is deprecated in 0.21 and will be removed from 0.23. Use scipy.optimize.linear_sum_assignment instead.\n",
      "  FutureWarning)\n"
     ]
    },
    {
     "name": "stdout",
     "output_type": "stream",
     "text": [
      "Iter-11: ACC= 0.1247, NMI= 0.0065, ARI= 0.0019;  L= 2.48477, Lc= 0.08674,  Lr= 2.39803\n"
     ]
    },
    {
     "name": "stderr",
     "output_type": "stream",
     "text": [
      "/opt/conda/lib/python3.7/site-packages/sklearn/utils/linear_assignment_.py:128: FutureWarning: The linear_assignment function is deprecated in 0.21 and will be removed from 0.23. Use scipy.optimize.linear_sum_assignment instead.\n",
      "  FutureWarning)\n"
     ]
    },
    {
     "name": "stdout",
     "output_type": "stream",
     "text": [
      "Iter-22: ACC= 0.1227, NMI= 0.0059, ARI= 0.0014;  L= 2.48513, Lc= 0.08771,  Lr= 2.39742\n"
     ]
    },
    {
     "name": "stderr",
     "output_type": "stream",
     "text": [
      "/opt/conda/lib/python3.7/site-packages/sklearn/utils/linear_assignment_.py:128: FutureWarning: The linear_assignment function is deprecated in 0.21 and will be removed from 0.23. Use scipy.optimize.linear_sum_assignment instead.\n",
      "  FutureWarning)\n"
     ]
    },
    {
     "name": "stdout",
     "output_type": "stream",
     "text": [
      "Iter-33: ACC= 0.1223, NMI= 0.0065, ARI= 0.0016;  L= 2.50655, Lc= 0.09470,  Lr= 2.41184\n"
     ]
    },
    {
     "name": "stderr",
     "output_type": "stream",
     "text": [
      "/opt/conda/lib/python3.7/site-packages/sklearn/utils/linear_assignment_.py:128: FutureWarning: The linear_assignment function is deprecated in 0.21 and will be removed from 0.23. Use scipy.optimize.linear_sum_assignment instead.\n",
      "  FutureWarning)\n"
     ]
    },
    {
     "name": "stdout",
     "output_type": "stream",
     "text": [
      "Iter-44: ACC= 0.1233, NMI= 0.0066, ARI= 0.0017;  L= 2.90262, Lc= 0.10677,  Lr= 2.79585\n"
     ]
    },
    {
     "name": "stderr",
     "output_type": "stream",
     "text": [
      "/opt/conda/lib/python3.7/site-packages/sklearn/utils/linear_assignment_.py:128: FutureWarning: The linear_assignment function is deprecated in 0.21 and will be removed from 0.23. Use scipy.optimize.linear_sum_assignment instead.\n",
      "  FutureWarning)\n"
     ]
    },
    {
     "name": "stdout",
     "output_type": "stream",
     "text": [
      "Iter-55: ACC= 0.1233, NMI= 0.0065, ARI= 0.0016;  L= 2.55792, Lc= 0.10049,  Lr= 2.45743\n",
      "saving model to: scDeepCluster/scDeepCluster_model_55.h5\n"
     ]
    },
    {
     "name": "stderr",
     "output_type": "stream",
     "text": [
      "/opt/conda/lib/python3.7/site-packages/sklearn/utils/linear_assignment_.py:128: FutureWarning: The linear_assignment function is deprecated in 0.21 and will be removed from 0.23. Use scipy.optimize.linear_sum_assignment instead.\n",
      "  FutureWarning)\n"
     ]
    },
    {
     "name": "stdout",
     "output_type": "stream",
     "text": [
      "Iter-66: ACC= 0.1240, NMI= 0.0067, ARI= 0.0018;  L= 2.65791, Lc= 0.10596,  Lr= 2.55195\n"
     ]
    },
    {
     "name": "stderr",
     "output_type": "stream",
     "text": [
      "/opt/conda/lib/python3.7/site-packages/sklearn/utils/linear_assignment_.py:128: FutureWarning: The linear_assignment function is deprecated in 0.21 and will be removed from 0.23. Use scipy.optimize.linear_sum_assignment instead.\n",
      "  FutureWarning)\n"
     ]
    },
    {
     "name": "stdout",
     "output_type": "stream",
     "text": [
      "Iter-77: ACC= 0.1240, NMI= 0.0067, ARI= 0.0018;  L= 2.63920, Lc= 0.10064,  Lr= 2.53856\n"
     ]
    },
    {
     "name": "stderr",
     "output_type": "stream",
     "text": [
      "/opt/conda/lib/python3.7/site-packages/sklearn/utils/linear_assignment_.py:128: FutureWarning: The linear_assignment function is deprecated in 0.21 and will be removed from 0.23. Use scipy.optimize.linear_sum_assignment instead.\n",
      "  FutureWarning)\n"
     ]
    },
    {
     "name": "stdout",
     "output_type": "stream",
     "text": [
      "Iter-88: ACC= 0.1240, NMI= 0.0067, ARI= 0.0018;  L= 2.62449, Lc= 0.09814,  Lr= 2.52635\n"
     ]
    },
    {
     "name": "stderr",
     "output_type": "stream",
     "text": [
      "/opt/conda/lib/python3.7/site-packages/sklearn/utils/linear_assignment_.py:128: FutureWarning: The linear_assignment function is deprecated in 0.21 and will be removed from 0.23. Use scipy.optimize.linear_sum_assignment instead.\n",
      "  FutureWarning)\n",
      "/opt/conda/lib/python3.7/site-packages/sklearn/utils/linear_assignment_.py:128: FutureWarning: The linear_assignment function is deprecated in 0.21 and will be removed from 0.23. Use scipy.optimize.linear_sum_assignment instead.\n",
      "  FutureWarning)\n"
     ]
    },
    {
     "name": "stdout",
     "output_type": "stream",
     "text": [
      "Iter-99: ACC= 0.1237, NMI= 0.0067, ARI= 0.0017;  L= 2.61414, Lc= 0.09221,  Lr= 2.52193\n",
      "delta_label  0.0006666666666666666 < tol  0.001\n",
      "Reached tolerance threshold. Stopping training.\n",
      "saving model to: scDeepCluster/scDeepCluster_model_final.h5\n",
      "Final: ACC= 0.1237, NMI= 0.0067, ARI= 0.0017\n",
      "Clustering time: 712 seconds.\n",
      ">>> Dataset data_1.5c4 \n",
      "### Autoencoder: Successfully preprocessed 2500 genes and 3000 cells.\n",
      "Sample size\n",
      "(3000, 2480)\n",
      "(3000,)\n",
      "...Pretraining autoencoder...\n",
      "Pretrained weights are saved to ./ae_weights.h5\n",
      "Update interval 11\n",
      "Save interval 55\n",
      "Initializing cluster centers with k-means.\n"
     ]
    },
    {
     "name": "stderr",
     "output_type": "stream",
     "text": [
      "/opt/conda/lib/python3.7/site-packages/sklearn/utils/linear_assignment_.py:128: FutureWarning: The linear_assignment function is deprecated in 0.21 and will be removed from 0.23. Use scipy.optimize.linear_sum_assignment instead.\n",
      "  FutureWarning)\n"
     ]
    },
    {
     "name": "stdout",
     "output_type": "stream",
     "text": [
      "Iter-0: ACC= 0.3817, NMI= 0.0096, ARI= 0.0045;  L= 0.00000, Lc= 0.00000,  Lr= 0.00000\n",
      "saving model to: scDeepCluster/scDeepCluster_model_0.h5\n"
     ]
    },
    {
     "name": "stderr",
     "output_type": "stream",
     "text": [
      "/opt/conda/lib/python3.7/site-packages/sklearn/utils/linear_assignment_.py:128: FutureWarning: The linear_assignment function is deprecated in 0.21 and will be removed from 0.23. Use scipy.optimize.linear_sum_assignment instead.\n",
      "  FutureWarning)\n"
     ]
    },
    {
     "name": "stdout",
     "output_type": "stream",
     "text": [
      "Iter-11: ACC= 0.3800, NMI= 0.0091, ARI= 0.0035;  L= 2.15076, Lc= 0.09064,  Lr= 2.06013\n"
     ]
    },
    {
     "name": "stderr",
     "output_type": "stream",
     "text": [
      "/opt/conda/lib/python3.7/site-packages/sklearn/utils/linear_assignment_.py:128: FutureWarning: The linear_assignment function is deprecated in 0.21 and will be removed from 0.23. Use scipy.optimize.linear_sum_assignment instead.\n",
      "  FutureWarning)\n"
     ]
    },
    {
     "name": "stdout",
     "output_type": "stream",
     "text": [
      "Iter-22: ACC= 0.3730, NMI= 0.0100, ARI= 0.0054;  L= 2.13829, Lc= 0.07962,  Lr= 2.05867\n"
     ]
    },
    {
     "name": "stderr",
     "output_type": "stream",
     "text": [
      "/opt/conda/lib/python3.7/site-packages/sklearn/utils/linear_assignment_.py:128: FutureWarning: The linear_assignment function is deprecated in 0.21 and will be removed from 0.23. Use scipy.optimize.linear_sum_assignment instead.\n",
      "  FutureWarning)\n"
     ]
    },
    {
     "name": "stdout",
     "output_type": "stream",
     "text": [
      "Iter-33: ACC= 0.3777, NMI= 0.0104, ARI= 0.0075;  L= 2.49412, Lc= 0.09684,  Lr= 2.39729\n"
     ]
    },
    {
     "name": "stderr",
     "output_type": "stream",
     "text": [
      "/opt/conda/lib/python3.7/site-packages/sklearn/utils/linear_assignment_.py:128: FutureWarning: The linear_assignment function is deprecated in 0.21 and will be removed from 0.23. Use scipy.optimize.linear_sum_assignment instead.\n",
      "  FutureWarning)\n"
     ]
    },
    {
     "name": "stdout",
     "output_type": "stream",
     "text": [
      "Iter-44: ACC= 0.3733, NMI= 0.0108, ARI= 0.0082;  L= 2.17050, Lc= 0.09760,  Lr= 2.07290\n"
     ]
    },
    {
     "name": "stderr",
     "output_type": "stream",
     "text": [
      "/opt/conda/lib/python3.7/site-packages/sklearn/utils/linear_assignment_.py:128: FutureWarning: The linear_assignment function is deprecated in 0.21 and will be removed from 0.23. Use scipy.optimize.linear_sum_assignment instead.\n",
      "  FutureWarning)\n"
     ]
    },
    {
     "name": "stdout",
     "output_type": "stream",
     "text": [
      "Iter-55: ACC= 0.3747, NMI= 0.0111, ARI= 0.0086;  L= 2.32074, Lc= 0.10434,  Lr= 2.21641\n",
      "saving model to: scDeepCluster/scDeepCluster_model_55.h5\n"
     ]
    },
    {
     "name": "stderr",
     "output_type": "stream",
     "text": [
      "/opt/conda/lib/python3.7/site-packages/sklearn/utils/linear_assignment_.py:128: FutureWarning: The linear_assignment function is deprecated in 0.21 and will be removed from 0.23. Use scipy.optimize.linear_sum_assignment instead.\n",
      "  FutureWarning)\n"
     ]
    },
    {
     "name": "stdout",
     "output_type": "stream",
     "text": [
      "Iter-66: ACC= 0.3737, NMI= 0.0114, ARI= 0.0095;  L= 2.18683, Lc= 0.09521,  Lr= 2.09162\n"
     ]
    },
    {
     "name": "stderr",
     "output_type": "stream",
     "text": [
      "/opt/conda/lib/python3.7/site-packages/sklearn/utils/linear_assignment_.py:128: FutureWarning: The linear_assignment function is deprecated in 0.21 and will be removed from 0.23. Use scipy.optimize.linear_sum_assignment instead.\n",
      "  FutureWarning)\n"
     ]
    },
    {
     "name": "stdout",
     "output_type": "stream",
     "text": [
      "Iter-77: ACC= 0.3740, NMI= 0.0115, ARI= 0.0095;  L= 2.24258, Lc= 0.10203,  Lr= 2.14055\n"
     ]
    },
    {
     "name": "stderr",
     "output_type": "stream",
     "text": [
      "/opt/conda/lib/python3.7/site-packages/sklearn/utils/linear_assignment_.py:128: FutureWarning: The linear_assignment function is deprecated in 0.21 and will be removed from 0.23. Use scipy.optimize.linear_sum_assignment instead.\n",
      "  FutureWarning)\n"
     ]
    },
    {
     "name": "stdout",
     "output_type": "stream",
     "text": [
      "Iter-88: ACC= 0.3730, NMI= 0.0114, ARI= 0.0095;  L= 2.25546, Lc= 0.09418,  Lr= 2.16128\n"
     ]
    },
    {
     "name": "stderr",
     "output_type": "stream",
     "text": [
      "/opt/conda/lib/python3.7/site-packages/sklearn/utils/linear_assignment_.py:128: FutureWarning: The linear_assignment function is deprecated in 0.21 and will be removed from 0.23. Use scipy.optimize.linear_sum_assignment instead.\n",
      "  FutureWarning)\n"
     ]
    },
    {
     "name": "stdout",
     "output_type": "stream",
     "text": [
      "Iter-99: ACC= 0.3723, NMI= 0.0115, ARI= 0.0097;  L= 2.21418, Lc= 0.09184,  Lr= 2.12234\n"
     ]
    },
    {
     "name": "stderr",
     "output_type": "stream",
     "text": [
      "/opt/conda/lib/python3.7/site-packages/sklearn/utils/linear_assignment_.py:128: FutureWarning: The linear_assignment function is deprecated in 0.21 and will be removed from 0.23. Use scipy.optimize.linear_sum_assignment instead.\n",
      "  FutureWarning)\n",
      "/opt/conda/lib/python3.7/site-packages/sklearn/utils/linear_assignment_.py:128: FutureWarning: The linear_assignment function is deprecated in 0.21 and will be removed from 0.23. Use scipy.optimize.linear_sum_assignment instead.\n",
      "  FutureWarning)\n"
     ]
    },
    {
     "name": "stdout",
     "output_type": "stream",
     "text": [
      "Iter-110: ACC= 0.3723, NMI= 0.0115, ARI= 0.0097;  L= 2.23766, Lc= 0.08736,  Lr= 2.15029\n",
      "delta_label  0.0003333333333333333 < tol  0.001\n",
      "Reached tolerance threshold. Stopping training.\n",
      "saving model to: scDeepCluster/scDeepCluster_model_final.h5\n",
      "Final: ACC= 0.3723, NMI= 0.0115, ARI= 0.0097\n",
      "Clustering time: 718 seconds.\n",
      ">>> Dataset data_1c32 \n",
      "### Autoencoder: Successfully preprocessed 2500 genes and 3000 cells.\n",
      "Sample size\n",
      "(3000, 2483)\n",
      "(3000,)\n",
      "...Pretraining autoencoder...\n",
      "Pretrained weights are saved to ./ae_weights.h5\n",
      "Update interval 11\n",
      "Save interval 55\n",
      "Initializing cluster centers with k-means.\n"
     ]
    },
    {
     "name": "stderr",
     "output_type": "stream",
     "text": [
      "/opt/conda/lib/python3.7/site-packages/sklearn/utils/linear_assignment_.py:128: FutureWarning: The linear_assignment function is deprecated in 0.21 and will be removed from 0.23. Use scipy.optimize.linear_sum_assignment instead.\n",
      "  FutureWarning)\n"
     ]
    },
    {
     "name": "stdout",
     "output_type": "stream",
     "text": [
      "Iter-0: ACC= 0.0550, NMI= 0.0055, ARI= 0.0001;  L= 0.00000, Lc= 0.00000,  Lr= 0.00000\n",
      "saving model to: scDeepCluster/scDeepCluster_model_0.h5\n"
     ]
    },
    {
     "name": "stderr",
     "output_type": "stream",
     "text": [
      "/opt/conda/lib/python3.7/site-packages/sklearn/utils/linear_assignment_.py:128: FutureWarning: The linear_assignment function is deprecated in 0.21 and will be removed from 0.23. Use scipy.optimize.linear_sum_assignment instead.\n",
      "  FutureWarning)\n"
     ]
    },
    {
     "name": "stdout",
     "output_type": "stream",
     "text": [
      "Iter-11: ACC= 0.0547, NMI= 0.0054, ARI= 0.0002;  L= 2.31551, Lc= 0.09028,  Lr= 2.22523\n"
     ]
    },
    {
     "name": "stderr",
     "output_type": "stream",
     "text": [
      "/opt/conda/lib/python3.7/site-packages/sklearn/utils/linear_assignment_.py:128: FutureWarning: The linear_assignment function is deprecated in 0.21 and will be removed from 0.23. Use scipy.optimize.linear_sum_assignment instead.\n",
      "  FutureWarning)\n"
     ]
    },
    {
     "name": "stdout",
     "output_type": "stream",
     "text": [
      "Iter-22: ACC= 0.0553, NMI= 0.0053, ARI= 0.0001;  L= 2.32704, Lc= 0.08368,  Lr= 2.24336\n"
     ]
    },
    {
     "name": "stderr",
     "output_type": "stream",
     "text": [
      "/opt/conda/lib/python3.7/site-packages/sklearn/utils/linear_assignment_.py:128: FutureWarning: The linear_assignment function is deprecated in 0.21 and will be removed from 0.23. Use scipy.optimize.linear_sum_assignment instead.\n",
      "  FutureWarning)\n"
     ]
    },
    {
     "name": "stdout",
     "output_type": "stream",
     "text": [
      "Iter-33: ACC= 0.0553, NMI= 0.0055, ARI= 0.0002;  L= 2.52892, Lc= 0.10205,  Lr= 2.42686\n"
     ]
    },
    {
     "name": "stderr",
     "output_type": "stream",
     "text": [
      "/opt/conda/lib/python3.7/site-packages/sklearn/utils/linear_assignment_.py:128: FutureWarning: The linear_assignment function is deprecated in 0.21 and will be removed from 0.23. Use scipy.optimize.linear_sum_assignment instead.\n",
      "  FutureWarning)\n"
     ]
    },
    {
     "name": "stdout",
     "output_type": "stream",
     "text": [
      "Iter-44: ACC= 0.0553, NMI= 0.0054, ARI= 0.0002;  L= 2.38530, Lc= 0.09760,  Lr= 2.28770\n"
     ]
    },
    {
     "name": "stderr",
     "output_type": "stream",
     "text": [
      "/opt/conda/lib/python3.7/site-packages/sklearn/utils/linear_assignment_.py:128: FutureWarning: The linear_assignment function is deprecated in 0.21 and will be removed from 0.23. Use scipy.optimize.linear_sum_assignment instead.\n",
      "  FutureWarning)\n"
     ]
    },
    {
     "name": "stdout",
     "output_type": "stream",
     "text": [
      "Iter-55: ACC= 0.0550, NMI= 0.0052, ARI= 0.0001;  L= 2.49819, Lc= 0.10142,  Lr= 2.39677\n",
      "saving model to: scDeepCluster/scDeepCluster_model_55.h5\n"
     ]
    },
    {
     "name": "stderr",
     "output_type": "stream",
     "text": [
      "/opt/conda/lib/python3.7/site-packages/sklearn/utils/linear_assignment_.py:128: FutureWarning: The linear_assignment function is deprecated in 0.21 and will be removed from 0.23. Use scipy.optimize.linear_sum_assignment instead.\n",
      "  FutureWarning)\n"
     ]
    },
    {
     "name": "stdout",
     "output_type": "stream",
     "text": [
      "Iter-66: ACC= 0.0550, NMI= 0.0052, ARI= 0.0001;  L= 2.39807, Lc= 0.09326,  Lr= 2.30481\n"
     ]
    },
    {
     "name": "stderr",
     "output_type": "stream",
     "text": [
      "/opt/conda/lib/python3.7/site-packages/sklearn/utils/linear_assignment_.py:128: FutureWarning: The linear_assignment function is deprecated in 0.21 and will be removed from 0.23. Use scipy.optimize.linear_sum_assignment instead.\n",
      "  FutureWarning)\n"
     ]
    },
    {
     "name": "stdout",
     "output_type": "stream",
     "text": [
      "Iter-77: ACC= 0.0553, NMI= 0.0052, ARI= 0.0002;  L= 2.41527, Lc= 0.09591,  Lr= 2.31936\n"
     ]
    },
    {
     "name": "stderr",
     "output_type": "stream",
     "text": [
      "/opt/conda/lib/python3.7/site-packages/sklearn/utils/linear_assignment_.py:128: FutureWarning: The linear_assignment function is deprecated in 0.21 and will be removed from 0.23. Use scipy.optimize.linear_sum_assignment instead.\n",
      "  FutureWarning)\n"
     ]
    },
    {
     "name": "stdout",
     "output_type": "stream",
     "text": [
      "Iter-88: ACC= 0.0550, NMI= 0.0052, ARI= 0.0002;  L= 2.42280, Lc= 0.09306,  Lr= 2.32975\n"
     ]
    },
    {
     "name": "stderr",
     "output_type": "stream",
     "text": [
      "/opt/conda/lib/python3.7/site-packages/sklearn/utils/linear_assignment_.py:128: FutureWarning: The linear_assignment function is deprecated in 0.21 and will be removed from 0.23. Use scipy.optimize.linear_sum_assignment instead.\n",
      "  FutureWarning)\n"
     ]
    },
    {
     "name": "stdout",
     "output_type": "stream",
     "text": [
      "Iter-99: ACC= 0.0550, NMI= 0.0051, ARI= 0.0001;  L= 2.38099, Lc= 0.08983,  Lr= 2.29116\n"
     ]
    },
    {
     "name": "stderr",
     "output_type": "stream",
     "text": [
      "/opt/conda/lib/python3.7/site-packages/sklearn/utils/linear_assignment_.py:128: FutureWarning: The linear_assignment function is deprecated in 0.21 and will be removed from 0.23. Use scipy.optimize.linear_sum_assignment instead.\n",
      "  FutureWarning)\n"
     ]
    },
    {
     "name": "stdout",
     "output_type": "stream",
     "text": [
      "Iter-110: ACC= 0.0547, NMI= 0.0051, ARI= 0.0001;  L= 2.42108, Lc= 0.08602,  Lr= 2.33506\n",
      "saving model to: scDeepCluster/scDeepCluster_model_110.h5\n"
     ]
    },
    {
     "name": "stderr",
     "output_type": "stream",
     "text": [
      "/opt/conda/lib/python3.7/site-packages/sklearn/utils/linear_assignment_.py:128: FutureWarning: The linear_assignment function is deprecated in 0.21 and will be removed from 0.23. Use scipy.optimize.linear_sum_assignment instead.\n",
      "  FutureWarning)\n",
      "/opt/conda/lib/python3.7/site-packages/sklearn/utils/linear_assignment_.py:128: FutureWarning: The linear_assignment function is deprecated in 0.21 and will be removed from 0.23. Use scipy.optimize.linear_sum_assignment instead.\n",
      "  FutureWarning)\n"
     ]
    },
    {
     "name": "stdout",
     "output_type": "stream",
     "text": [
      "Iter-121: ACC= 0.0547, NMI= 0.0051, ARI= 0.0001;  L= 2.38531, Lc= 0.07711,  Lr= 2.30820\n",
      "delta_label  0.0003333333333333333 < tol  0.001\n",
      "Reached tolerance threshold. Stopping training.\n",
      "saving model to: scDeepCluster/scDeepCluster_model_final.h5\n",
      "Final: ACC= 0.0547, NMI= 0.0051, ARI= 0.0001\n",
      "Clustering time: 722 seconds.\n",
      ">>> Dataset data_1c4 \n",
      "### Autoencoder: Successfully preprocessed 2500 genes and 3000 cells.\n",
      "Sample size\n",
      "(3000, 2487)\n",
      "(3000,)\n",
      "...Pretraining autoencoder...\n",
      "Pretrained weights are saved to ./ae_weights.h5\n",
      "Update interval 11\n",
      "Save interval 55\n",
      "Initializing cluster centers with k-means.\n"
     ]
    },
    {
     "name": "stderr",
     "output_type": "stream",
     "text": [
      "/opt/conda/lib/python3.7/site-packages/sklearn/utils/linear_assignment_.py:128: FutureWarning: The linear_assignment function is deprecated in 0.21 and will be removed from 0.23. Use scipy.optimize.linear_sum_assignment instead.\n",
      "  FutureWarning)\n"
     ]
    },
    {
     "name": "stdout",
     "output_type": "stream",
     "text": [
      "Iter-0: ACC= 0.3963, NMI= 0.0190, ARI= 0.0110;  L= 0.00000, Lc= 0.00000,  Lr= 0.00000\n",
      "saving model to: scDeepCluster/scDeepCluster_model_0.h5\n"
     ]
    },
    {
     "name": "stderr",
     "output_type": "stream",
     "text": [
      "/opt/conda/lib/python3.7/site-packages/sklearn/utils/linear_assignment_.py:128: FutureWarning: The linear_assignment function is deprecated in 0.21 and will be removed from 0.23. Use scipy.optimize.linear_sum_assignment instead.\n",
      "  FutureWarning)\n"
     ]
    },
    {
     "name": "stdout",
     "output_type": "stream",
     "text": [
      "Iter-11: ACC= 0.3863, NMI= 0.0194, ARI= 0.0142;  L= 2.29115, Lc= 0.08456,  Lr= 2.20660\n"
     ]
    },
    {
     "name": "stderr",
     "output_type": "stream",
     "text": [
      "/opt/conda/lib/python3.7/site-packages/sklearn/utils/linear_assignment_.py:128: FutureWarning: The linear_assignment function is deprecated in 0.21 and will be removed from 0.23. Use scipy.optimize.linear_sum_assignment instead.\n",
      "  FutureWarning)\n"
     ]
    },
    {
     "name": "stdout",
     "output_type": "stream",
     "text": [
      "Iter-22: ACC= 0.3773, NMI= 0.0180, ARI= 0.0146;  L= 2.28923, Lc= 0.08602,  Lr= 2.20321\n"
     ]
    },
    {
     "name": "stderr",
     "output_type": "stream",
     "text": [
      "/opt/conda/lib/python3.7/site-packages/sklearn/utils/linear_assignment_.py:128: FutureWarning: The linear_assignment function is deprecated in 0.21 and will be removed from 0.23. Use scipy.optimize.linear_sum_assignment instead.\n",
      "  FutureWarning)\n"
     ]
    },
    {
     "name": "stdout",
     "output_type": "stream",
     "text": [
      "Iter-33: ACC= 0.3760, NMI= 0.0181, ARI= 0.0159;  L= 2.30752, Lc= 0.09096,  Lr= 2.21656\n"
     ]
    },
    {
     "name": "stderr",
     "output_type": "stream",
     "text": [
      "/opt/conda/lib/python3.7/site-packages/sklearn/utils/linear_assignment_.py:128: FutureWarning: The linear_assignment function is deprecated in 0.21 and will be removed from 0.23. Use scipy.optimize.linear_sum_assignment instead.\n",
      "  FutureWarning)\n"
     ]
    },
    {
     "name": "stdout",
     "output_type": "stream",
     "text": [
      "Iter-44: ACC= 0.3750, NMI= 0.0177, ARI= 0.0151;  L= 2.51023, Lc= 0.10790,  Lr= 2.40233\n"
     ]
    },
    {
     "name": "stderr",
     "output_type": "stream",
     "text": [
      "/opt/conda/lib/python3.7/site-packages/sklearn/utils/linear_assignment_.py:128: FutureWarning: The linear_assignment function is deprecated in 0.21 and will be removed from 0.23. Use scipy.optimize.linear_sum_assignment instead.\n",
      "  FutureWarning)\n"
     ]
    },
    {
     "name": "stdout",
     "output_type": "stream",
     "text": [
      "Iter-55: ACC= 0.3727, NMI= 0.0173, ARI= 0.0154;  L= 2.30668, Lc= 0.08920,  Lr= 2.21748\n",
      "saving model to: scDeepCluster/scDeepCluster_model_55.h5\n"
     ]
    },
    {
     "name": "stderr",
     "output_type": "stream",
     "text": [
      "/opt/conda/lib/python3.7/site-packages/sklearn/utils/linear_assignment_.py:128: FutureWarning: The linear_assignment function is deprecated in 0.21 and will be removed from 0.23. Use scipy.optimize.linear_sum_assignment instead.\n",
      "  FutureWarning)\n"
     ]
    },
    {
     "name": "stdout",
     "output_type": "stream",
     "text": [
      "Iter-66: ACC= 0.3733, NMI= 0.0173, ARI= 0.0151;  L= 2.40082, Lc= 0.10249,  Lr= 2.29832\n"
     ]
    },
    {
     "name": "stderr",
     "output_type": "stream",
     "text": [
      "/opt/conda/lib/python3.7/site-packages/sklearn/utils/linear_assignment_.py:128: FutureWarning: The linear_assignment function is deprecated in 0.21 and will be removed from 0.23. Use scipy.optimize.linear_sum_assignment instead.\n",
      "  FutureWarning)\n"
     ]
    },
    {
     "name": "stdout",
     "output_type": "stream",
     "text": [
      "Iter-77: ACC= 0.3737, NMI= 0.0171, ARI= 0.0151;  L= 2.33360, Lc= 0.09066,  Lr= 2.24294\n"
     ]
    },
    {
     "name": "stderr",
     "output_type": "stream",
     "text": [
      "/opt/conda/lib/python3.7/site-packages/sklearn/utils/linear_assignment_.py:128: FutureWarning: The linear_assignment function is deprecated in 0.21 and will be removed from 0.23. Use scipy.optimize.linear_sum_assignment instead.\n",
      "  FutureWarning)\n"
     ]
    },
    {
     "name": "stdout",
     "output_type": "stream",
     "text": [
      "Iter-88: ACC= 0.3750, NMI= 0.0171, ARI= 0.0151;  L= 2.33780, Lc= 0.09108,  Lr= 2.24672\n"
     ]
    },
    {
     "name": "stderr",
     "output_type": "stream",
     "text": [
      "/opt/conda/lib/python3.7/site-packages/sklearn/utils/linear_assignment_.py:128: FutureWarning: The linear_assignment function is deprecated in 0.21 and will be removed from 0.23. Use scipy.optimize.linear_sum_assignment instead.\n",
      "  FutureWarning)\n"
     ]
    },
    {
     "name": "stdout",
     "output_type": "stream",
     "text": [
      "Iter-99: ACC= 0.3750, NMI= 0.0169, ARI= 0.0153;  L= 2.36085, Lc= 0.08024,  Lr= 2.28062\n"
     ]
    },
    {
     "name": "stderr",
     "output_type": "stream",
     "text": [
      "/opt/conda/lib/python3.7/site-packages/sklearn/utils/linear_assignment_.py:128: FutureWarning: The linear_assignment function is deprecated in 0.21 and will be removed from 0.23. Use scipy.optimize.linear_sum_assignment instead.\n",
      "  FutureWarning)\n"
     ]
    },
    {
     "name": "stdout",
     "output_type": "stream",
     "text": [
      "Iter-110: ACC= 0.3757, NMI= 0.0171, ARI= 0.0156;  L= 2.33231, Lc= 0.07509,  Lr= 2.25723\n",
      "saving model to: scDeepCluster/scDeepCluster_model_110.h5\n"
     ]
    },
    {
     "name": "stderr",
     "output_type": "stream",
     "text": [
      "/opt/conda/lib/python3.7/site-packages/sklearn/utils/linear_assignment_.py:128: FutureWarning: The linear_assignment function is deprecated in 0.21 and will be removed from 0.23. Use scipy.optimize.linear_sum_assignment instead.\n",
      "  FutureWarning)\n",
      "/opt/conda/lib/python3.7/site-packages/sklearn/utils/linear_assignment_.py:128: FutureWarning: The linear_assignment function is deprecated in 0.21 and will be removed from 0.23. Use scipy.optimize.linear_sum_assignment instead.\n",
      "  FutureWarning)\n"
     ]
    },
    {
     "name": "stdout",
     "output_type": "stream",
     "text": [
      "Iter-121: ACC= 0.3757, NMI= 0.0169, ARI= 0.0156;  L= 2.31089, Lc= 0.06723,  Lr= 2.24366\n",
      "delta_label  0.0006666666666666666 < tol  0.001\n",
      "Reached tolerance threshold. Stopping training.\n",
      "saving model to: scDeepCluster/scDeepCluster_model_final.h5\n",
      "Final: ACC= 0.3757, NMI= 0.0169, ARI= 0.0156\n",
      "Clustering time: 722 seconds.\n",
      ">>> Dataset data_1.5c8 \n",
      "### Autoencoder: Successfully preprocessed 2500 genes and 3000 cells.\n",
      "Sample size\n",
      "(3000, 2482)\n",
      "(3000,)\n",
      "...Pretraining autoencoder...\n",
      "Pretrained weights are saved to ./ae_weights.h5\n",
      "Update interval 11\n",
      "Save interval 55\n",
      "Initializing cluster centers with k-means.\n"
     ]
    },
    {
     "name": "stderr",
     "output_type": "stream",
     "text": [
      "/opt/conda/lib/python3.7/site-packages/sklearn/utils/linear_assignment_.py:128: FutureWarning: The linear_assignment function is deprecated in 0.21 and will be removed from 0.23. Use scipy.optimize.linear_sum_assignment instead.\n",
      "  FutureWarning)\n"
     ]
    },
    {
     "name": "stdout",
     "output_type": "stream",
     "text": [
      "Iter-0: ACC= 0.2600, NMI= 0.0075, ARI= 0.0021;  L= 0.00000, Lc= 0.00000,  Lr= 0.00000\n",
      "saving model to: scDeepCluster/scDeepCluster_model_0.h5\n"
     ]
    },
    {
     "name": "stderr",
     "output_type": "stream",
     "text": [
      "/opt/conda/lib/python3.7/site-packages/sklearn/utils/linear_assignment_.py:128: FutureWarning: The linear_assignment function is deprecated in 0.21 and will be removed from 0.23. Use scipy.optimize.linear_sum_assignment instead.\n",
      "  FutureWarning)\n"
     ]
    },
    {
     "name": "stdout",
     "output_type": "stream",
     "text": [
      "Iter-11: ACC= 0.2640, NMI= 0.0079, ARI= 0.0025;  L= 2.15561, Lc= 0.09304,  Lr= 2.06257\n"
     ]
    },
    {
     "name": "stderr",
     "output_type": "stream",
     "text": [
      "/opt/conda/lib/python3.7/site-packages/sklearn/utils/linear_assignment_.py:128: FutureWarning: The linear_assignment function is deprecated in 0.21 and will be removed from 0.23. Use scipy.optimize.linear_sum_assignment instead.\n",
      "  FutureWarning)\n"
     ]
    },
    {
     "name": "stdout",
     "output_type": "stream",
     "text": [
      "Iter-22: ACC= 0.2637, NMI= 0.0078, ARI= 0.0022;  L= 2.14448, Lc= 0.08307,  Lr= 2.06142\n"
     ]
    },
    {
     "name": "stderr",
     "output_type": "stream",
     "text": [
      "/opt/conda/lib/python3.7/site-packages/sklearn/utils/linear_assignment_.py:128: FutureWarning: The linear_assignment function is deprecated in 0.21 and will be removed from 0.23. Use scipy.optimize.linear_sum_assignment instead.\n",
      "  FutureWarning)\n"
     ]
    },
    {
     "name": "stdout",
     "output_type": "stream",
     "text": [
      "Iter-33: ACC= 0.2627, NMI= 0.0075, ARI= 0.0021;  L= 2.15862, Lc= 0.08577,  Lr= 2.07286\n"
     ]
    },
    {
     "name": "stderr",
     "output_type": "stream",
     "text": [
      "/opt/conda/lib/python3.7/site-packages/sklearn/utils/linear_assignment_.py:128: FutureWarning: The linear_assignment function is deprecated in 0.21 and will be removed from 0.23. Use scipy.optimize.linear_sum_assignment instead.\n",
      "  FutureWarning)\n"
     ]
    },
    {
     "name": "stdout",
     "output_type": "stream",
     "text": [
      "Iter-44: ACC= 0.2653, NMI= 0.0077, ARI= 0.0025;  L= 2.41900, Lc= 0.09024,  Lr= 2.32876\n"
     ]
    },
    {
     "name": "stderr",
     "output_type": "stream",
     "text": [
      "/opt/conda/lib/python3.7/site-packages/sklearn/utils/linear_assignment_.py:128: FutureWarning: The linear_assignment function is deprecated in 0.21 and will be removed from 0.23. Use scipy.optimize.linear_sum_assignment instead.\n",
      "  FutureWarning)\n"
     ]
    },
    {
     "name": "stdout",
     "output_type": "stream",
     "text": [
      "Iter-55: ACC= 0.2647, NMI= 0.0077, ARI= 0.0024;  L= 2.18223, Lc= 0.08857,  Lr= 2.09366\n",
      "saving model to: scDeepCluster/scDeepCluster_model_55.h5\n"
     ]
    },
    {
     "name": "stderr",
     "output_type": "stream",
     "text": [
      "/opt/conda/lib/python3.7/site-packages/sklearn/utils/linear_assignment_.py:128: FutureWarning: The linear_assignment function is deprecated in 0.21 and will be removed from 0.23. Use scipy.optimize.linear_sum_assignment instead.\n",
      "  FutureWarning)\n"
     ]
    },
    {
     "name": "stdout",
     "output_type": "stream",
     "text": [
      "Iter-66: ACC= 0.2647, NMI= 0.0073, ARI= 0.0027;  L= 2.23316, Lc= 0.08732,  Lr= 2.14585\n"
     ]
    },
    {
     "name": "stderr",
     "output_type": "stream",
     "text": [
      "/opt/conda/lib/python3.7/site-packages/sklearn/utils/linear_assignment_.py:128: FutureWarning: The linear_assignment function is deprecated in 0.21 and will be removed from 0.23. Use scipy.optimize.linear_sum_assignment instead.\n",
      "  FutureWarning)\n"
     ]
    },
    {
     "name": "stdout",
     "output_type": "stream",
     "text": [
      "Iter-77: ACC= 0.2640, NMI= 0.0073, ARI= 0.0027;  L= 2.18304, Lc= 0.08064,  Lr= 2.10241\n"
     ]
    },
    {
     "name": "stderr",
     "output_type": "stream",
     "text": [
      "/opt/conda/lib/python3.7/site-packages/sklearn/utils/linear_assignment_.py:128: FutureWarning: The linear_assignment function is deprecated in 0.21 and will be removed from 0.23. Use scipy.optimize.linear_sum_assignment instead.\n",
      "  FutureWarning)\n"
     ]
    },
    {
     "name": "stdout",
     "output_type": "stream",
     "text": [
      "Iter-88: ACC= 0.2647, NMI= 0.0075, ARI= 0.0028;  L= 2.19766, Lc= 0.07515,  Lr= 2.12251\n"
     ]
    },
    {
     "name": "stderr",
     "output_type": "stream",
     "text": [
      "/opt/conda/lib/python3.7/site-packages/sklearn/utils/linear_assignment_.py:128: FutureWarning: The linear_assignment function is deprecated in 0.21 and will be removed from 0.23. Use scipy.optimize.linear_sum_assignment instead.\n",
      "  FutureWarning)\n"
     ]
    },
    {
     "name": "stdout",
     "output_type": "stream",
     "text": [
      "Iter-99: ACC= 0.2647, NMI= 0.0075, ARI= 0.0029;  L= 2.18095, Lc= 0.07008,  Lr= 2.11087\n"
     ]
    },
    {
     "name": "stderr",
     "output_type": "stream",
     "text": [
      "/opt/conda/lib/python3.7/site-packages/sklearn/utils/linear_assignment_.py:128: FutureWarning: The linear_assignment function is deprecated in 0.21 and will be removed from 0.23. Use scipy.optimize.linear_sum_assignment instead.\n",
      "  FutureWarning)\n"
     ]
    },
    {
     "name": "stdout",
     "output_type": "stream",
     "text": [
      "Iter-110: ACC= 0.2647, NMI= 0.0076, ARI= 0.0029;  L= 2.18144, Lc= 0.06190,  Lr= 2.11954\n",
      "saving model to: scDeepCluster/scDeepCluster_model_110.h5\n"
     ]
    },
    {
     "name": "stderr",
     "output_type": "stream",
     "text": [
      "/opt/conda/lib/python3.7/site-packages/sklearn/utils/linear_assignment_.py:128: FutureWarning: The linear_assignment function is deprecated in 0.21 and will be removed from 0.23. Use scipy.optimize.linear_sum_assignment instead.\n",
      "  FutureWarning)\n",
      "/opt/conda/lib/python3.7/site-packages/sklearn/utils/linear_assignment_.py:128: FutureWarning: The linear_assignment function is deprecated in 0.21 and will be removed from 0.23. Use scipy.optimize.linear_sum_assignment instead.\n",
      "  FutureWarning)\n"
     ]
    },
    {
     "name": "stdout",
     "output_type": "stream",
     "text": [
      "Iter-121: ACC= 0.2647, NMI= 0.0076, ARI= 0.0029;  L= 2.16692, Lc= 0.05942,  Lr= 2.10750\n",
      "delta_label  0.0 < tol  0.001\n",
      "Reached tolerance threshold. Stopping training.\n",
      "saving model to: scDeepCluster/scDeepCluster_model_final.h5\n",
      "Final: ACC= 0.2647, NMI= 0.0076, ARI= 0.0029\n",
      "Clustering time: 725 seconds.\n",
      ">>> Dataset data_1.5c16 \n",
      "### Autoencoder: Successfully preprocessed 2500 genes and 3000 cells.\n",
      "Sample size\n",
      "(3000, 2483)\n",
      "(3000,)\n",
      "...Pretraining autoencoder...\n",
      "Pretrained weights are saved to ./ae_weights.h5\n",
      "Update interval 11\n",
      "Save interval 55\n",
      "Initializing cluster centers with k-means.\n"
     ]
    },
    {
     "name": "stderr",
     "output_type": "stream",
     "text": [
      "/opt/conda/lib/python3.7/site-packages/sklearn/utils/linear_assignment_.py:128: FutureWarning: The linear_assignment function is deprecated in 0.21 and will be removed from 0.23. Use scipy.optimize.linear_sum_assignment instead.\n",
      "  FutureWarning)\n"
     ]
    },
    {
     "name": "stdout",
     "output_type": "stream",
     "text": [
      "Iter-0: ACC= 0.1210, NMI= 0.0062, ARI= 0.0014;  L= 0.00000, Lc= 0.00000,  Lr= 0.00000\n",
      "saving model to: scDeepCluster/scDeepCluster_model_0.h5\n"
     ]
    },
    {
     "name": "stderr",
     "output_type": "stream",
     "text": [
      "/opt/conda/lib/python3.7/site-packages/sklearn/utils/linear_assignment_.py:128: FutureWarning: The linear_assignment function is deprecated in 0.21 and will be removed from 0.23. Use scipy.optimize.linear_sum_assignment instead.\n",
      "  FutureWarning)\n"
     ]
    },
    {
     "name": "stdout",
     "output_type": "stream",
     "text": [
      "Iter-11: ACC= 0.1213, NMI= 0.0055, ARI= 0.0011;  L= 2.16344, Lc= 0.09449,  Lr= 2.06895\n"
     ]
    },
    {
     "name": "stderr",
     "output_type": "stream",
     "text": [
      "/opt/conda/lib/python3.7/site-packages/sklearn/utils/linear_assignment_.py:128: FutureWarning: The linear_assignment function is deprecated in 0.21 and will be removed from 0.23. Use scipy.optimize.linear_sum_assignment instead.\n",
      "  FutureWarning)\n"
     ]
    },
    {
     "name": "stdout",
     "output_type": "stream",
     "text": [
      "Iter-22: ACC= 0.1193, NMI= 0.0050, ARI= 0.0008;  L= 2.16000, Lc= 0.08851,  Lr= 2.07149\n"
     ]
    },
    {
     "name": "stderr",
     "output_type": "stream",
     "text": [
      "/opt/conda/lib/python3.7/site-packages/sklearn/utils/linear_assignment_.py:128: FutureWarning: The linear_assignment function is deprecated in 0.21 and will be removed from 0.23. Use scipy.optimize.linear_sum_assignment instead.\n",
      "  FutureWarning)\n"
     ]
    },
    {
     "name": "stdout",
     "output_type": "stream",
     "text": [
      "Iter-33: ACC= 0.1197, NMI= 0.0051, ARI= 0.0007;  L= 2.30553, Lc= 0.09518,  Lr= 2.21035\n"
     ]
    },
    {
     "name": "stderr",
     "output_type": "stream",
     "text": [
      "/opt/conda/lib/python3.7/site-packages/sklearn/utils/linear_assignment_.py:128: FutureWarning: The linear_assignment function is deprecated in 0.21 and will be removed from 0.23. Use scipy.optimize.linear_sum_assignment instead.\n",
      "  FutureWarning)\n"
     ]
    },
    {
     "name": "stdout",
     "output_type": "stream",
     "text": [
      "Iter-44: ACC= 0.1197, NMI= 0.0053, ARI= 0.0009;  L= 2.19190, Lc= 0.09402,  Lr= 2.09788\n"
     ]
    },
    {
     "name": "stderr",
     "output_type": "stream",
     "text": [
      "/opt/conda/lib/python3.7/site-packages/sklearn/utils/linear_assignment_.py:128: FutureWarning: The linear_assignment function is deprecated in 0.21 and will be removed from 0.23. Use scipy.optimize.linear_sum_assignment instead.\n",
      "  FutureWarning)\n"
     ]
    },
    {
     "name": "stdout",
     "output_type": "stream",
     "text": [
      "Iter-55: ACC= 0.1193, NMI= 0.0052, ARI= 0.0008;  L= 2.24406, Lc= 0.09385,  Lr= 2.15021\n",
      "saving model to: scDeepCluster/scDeepCluster_model_55.h5\n"
     ]
    },
    {
     "name": "stderr",
     "output_type": "stream",
     "text": [
      "/opt/conda/lib/python3.7/site-packages/sklearn/utils/linear_assignment_.py:128: FutureWarning: The linear_assignment function is deprecated in 0.21 and will be removed from 0.23. Use scipy.optimize.linear_sum_assignment instead.\n",
      "  FutureWarning)\n"
     ]
    },
    {
     "name": "stdout",
     "output_type": "stream",
     "text": [
      "Iter-66: ACC= 0.1193, NMI= 0.0051, ARI= 0.0008;  L= 2.20328, Lc= 0.09205,  Lr= 2.11123\n"
     ]
    },
    {
     "name": "stderr",
     "output_type": "stream",
     "text": [
      "/opt/conda/lib/python3.7/site-packages/sklearn/utils/linear_assignment_.py:128: FutureWarning: The linear_assignment function is deprecated in 0.21 and will be removed from 0.23. Use scipy.optimize.linear_sum_assignment instead.\n",
      "  FutureWarning)\n"
     ]
    },
    {
     "name": "stdout",
     "output_type": "stream",
     "text": [
      "Iter-77: ACC= 0.1187, NMI= 0.0049, ARI= 0.0008;  L= 2.19023, Lc= 0.08383,  Lr= 2.10640\n"
     ]
    },
    {
     "name": "stderr",
     "output_type": "stream",
     "text": [
      "/opt/conda/lib/python3.7/site-packages/sklearn/utils/linear_assignment_.py:128: FutureWarning: The linear_assignment function is deprecated in 0.21 and will be removed from 0.23. Use scipy.optimize.linear_sum_assignment instead.\n",
      "  FutureWarning)\n"
     ]
    },
    {
     "name": "stdout",
     "output_type": "stream",
     "text": [
      "Iter-88: ACC= 0.1187, NMI= 0.0049, ARI= 0.0008;  L= 2.19207, Lc= 0.08418,  Lr= 2.10789\n"
     ]
    },
    {
     "name": "stderr",
     "output_type": "stream",
     "text": [
      "/opt/conda/lib/python3.7/site-packages/sklearn/utils/linear_assignment_.py:128: FutureWarning: The linear_assignment function is deprecated in 0.21 and will be removed from 0.23. Use scipy.optimize.linear_sum_assignment instead.\n",
      "  FutureWarning)\n"
     ]
    },
    {
     "name": "stdout",
     "output_type": "stream",
     "text": [
      "Iter-99: ACC= 0.1183, NMI= 0.0049, ARI= 0.0008;  L= 2.19363, Lc= 0.07540,  Lr= 2.11823\n"
     ]
    },
    {
     "name": "stderr",
     "output_type": "stream",
     "text": [
      "/opt/conda/lib/python3.7/site-packages/sklearn/utils/linear_assignment_.py:128: FutureWarning: The linear_assignment function is deprecated in 0.21 and will be removed from 0.23. Use scipy.optimize.linear_sum_assignment instead.\n",
      "  FutureWarning)\n"
     ]
    },
    {
     "name": "stdout",
     "output_type": "stream",
     "text": [
      "Iter-110: ACC= 0.1183, NMI= 0.0049, ARI= 0.0008;  L= 2.19440, Lc= 0.07161,  Lr= 2.12279\n",
      "saving model to: scDeepCluster/scDeepCluster_model_110.h5\n"
     ]
    },
    {
     "name": "stderr",
     "output_type": "stream",
     "text": [
      "/opt/conda/lib/python3.7/site-packages/sklearn/utils/linear_assignment_.py:128: FutureWarning: The linear_assignment function is deprecated in 0.21 and will be removed from 0.23. Use scipy.optimize.linear_sum_assignment instead.\n",
      "  FutureWarning)\n",
      "/opt/conda/lib/python3.7/site-packages/sklearn/utils/linear_assignment_.py:128: FutureWarning: The linear_assignment function is deprecated in 0.21 and will be removed from 0.23. Use scipy.optimize.linear_sum_assignment instead.\n",
      "  FutureWarning)\n"
     ]
    },
    {
     "name": "stdout",
     "output_type": "stream",
     "text": [
      "Iter-121: ACC= 0.1183, NMI= 0.0049, ARI= 0.0008;  L= 2.16788, Lc= 0.06392,  Lr= 2.10396\n",
      "delta_label  0.0003333333333333333 < tol  0.001\n",
      "Reached tolerance threshold. Stopping training.\n",
      "saving model to: scDeepCluster/scDeepCluster_model_final.h5\n",
      "Final: ACC= 0.1183, NMI= 0.0049, ARI= 0.0008\n",
      "Clustering time: 720 seconds.\n",
      ">>> Dataset data_0c32 \n",
      "### Autoencoder: Successfully preprocessed 2500 genes and 3000 cells.\n",
      "Sample size\n",
      "(3000, 2490)\n",
      "(3000,)\n",
      "...Pretraining autoencoder...\n",
      "Pretrained weights are saved to ./ae_weights.h5\n",
      "Update interval 11\n",
      "Save interval 55\n",
      "Initializing cluster centers with k-means.\n"
     ]
    },
    {
     "name": "stderr",
     "output_type": "stream",
     "text": [
      "/opt/conda/lib/python3.7/site-packages/sklearn/utils/linear_assignment_.py:128: FutureWarning: The linear_assignment function is deprecated in 0.21 and will be removed from 0.23. Use scipy.optimize.linear_sum_assignment instead.\n",
      "  FutureWarning)\n"
     ]
    },
    {
     "name": "stdout",
     "output_type": "stream",
     "text": [
      "Iter-0: ACC= 0.0533, NMI= 0.0065, ARI= 0.0004;  L= 0.00000, Lc= 0.00000,  Lr= 0.00000\n",
      "saving model to: scDeepCluster/scDeepCluster_model_0.h5\n"
     ]
    },
    {
     "name": "stderr",
     "output_type": "stream",
     "text": [
      "/opt/conda/lib/python3.7/site-packages/sklearn/utils/linear_assignment_.py:128: FutureWarning: The linear_assignment function is deprecated in 0.21 and will be removed from 0.23. Use scipy.optimize.linear_sum_assignment instead.\n",
      "  FutureWarning)\n"
     ]
    },
    {
     "name": "stdout",
     "output_type": "stream",
     "text": [
      "Iter-11: ACC= 0.0553, NMI= 0.0070, ARI= 0.0006;  L= 2.51157, Lc= 0.09492,  Lr= 2.41666\n"
     ]
    },
    {
     "name": "stderr",
     "output_type": "stream",
     "text": [
      "/opt/conda/lib/python3.7/site-packages/sklearn/utils/linear_assignment_.py:128: FutureWarning: The linear_assignment function is deprecated in 0.21 and will be removed from 0.23. Use scipy.optimize.linear_sum_assignment instead.\n",
      "  FutureWarning)\n"
     ]
    },
    {
     "name": "stdout",
     "output_type": "stream",
     "text": [
      "Iter-22: ACC= 0.0563, NMI= 0.0073, ARI= 0.0007;  L= 2.51526, Lc= 0.09118,  Lr= 2.42408\n"
     ]
    },
    {
     "name": "stderr",
     "output_type": "stream",
     "text": [
      "/opt/conda/lib/python3.7/site-packages/sklearn/utils/linear_assignment_.py:128: FutureWarning: The linear_assignment function is deprecated in 0.21 and will be removed from 0.23. Use scipy.optimize.linear_sum_assignment instead.\n",
      "  FutureWarning)\n"
     ]
    },
    {
     "name": "stdout",
     "output_type": "stream",
     "text": [
      "Iter-33: ACC= 0.0563, NMI= 0.0074, ARI= 0.0008;  L= 2.56764, Lc= 0.09724,  Lr= 2.47040\n"
     ]
    },
    {
     "name": "stderr",
     "output_type": "stream",
     "text": [
      "/opt/conda/lib/python3.7/site-packages/sklearn/utils/linear_assignment_.py:128: FutureWarning: The linear_assignment function is deprecated in 0.21 and will be removed from 0.23. Use scipy.optimize.linear_sum_assignment instead.\n",
      "  FutureWarning)\n"
     ]
    },
    {
     "name": "stdout",
     "output_type": "stream",
     "text": [
      "Iter-44: ACC= 0.0567, NMI= 0.0075, ARI= 0.0008;  L= 2.55378, Lc= 0.09678,  Lr= 2.45700\n"
     ]
    },
    {
     "name": "stderr",
     "output_type": "stream",
     "text": [
      "/opt/conda/lib/python3.7/site-packages/sklearn/utils/linear_assignment_.py:128: FutureWarning: The linear_assignment function is deprecated in 0.21 and will be removed from 0.23. Use scipy.optimize.linear_sum_assignment instead.\n",
      "  FutureWarning)\n"
     ]
    },
    {
     "name": "stdout",
     "output_type": "stream",
     "text": [
      "Iter-55: ACC= 0.0567, NMI= 0.0077, ARI= 0.0008;  L= 2.55233, Lc= 0.09337,  Lr= 2.45896\n",
      "saving model to: scDeepCluster/scDeepCluster_model_55.h5\n"
     ]
    },
    {
     "name": "stderr",
     "output_type": "stream",
     "text": [
      "/opt/conda/lib/python3.7/site-packages/sklearn/utils/linear_assignment_.py:128: FutureWarning: The linear_assignment function is deprecated in 0.21 and will be removed from 0.23. Use scipy.optimize.linear_sum_assignment instead.\n",
      "  FutureWarning)\n"
     ]
    },
    {
     "name": "stdout",
     "output_type": "stream",
     "text": [
      "Iter-66: ACC= 0.0570, NMI= 0.0076, ARI= 0.0009;  L= 2.54528, Lc= 0.09397,  Lr= 2.45130\n"
     ]
    },
    {
     "name": "stderr",
     "output_type": "stream",
     "text": [
      "/opt/conda/lib/python3.7/site-packages/sklearn/utils/linear_assignment_.py:128: FutureWarning: The linear_assignment function is deprecated in 0.21 and will be removed from 0.23. Use scipy.optimize.linear_sum_assignment instead.\n",
      "  FutureWarning)\n"
     ]
    },
    {
     "name": "stdout",
     "output_type": "stream",
     "text": [
      "Iter-77: ACC= 0.0570, NMI= 0.0077, ARI= 0.0009;  L= 2.55569, Lc= 0.08421,  Lr= 2.47148\n"
     ]
    },
    {
     "name": "stderr",
     "output_type": "stream",
     "text": [
      "/opt/conda/lib/python3.7/site-packages/sklearn/utils/linear_assignment_.py:128: FutureWarning: The linear_assignment function is deprecated in 0.21 and will be removed from 0.23. Use scipy.optimize.linear_sum_assignment instead.\n",
      "  FutureWarning)\n"
     ]
    },
    {
     "name": "stdout",
     "output_type": "stream",
     "text": [
      "Iter-88: ACC= 0.0570, NMI= 0.0077, ARI= 0.0009;  L= 2.54305, Lc= 0.08035,  Lr= 2.46270\n"
     ]
    },
    {
     "name": "stderr",
     "output_type": "stream",
     "text": [
      "/opt/conda/lib/python3.7/site-packages/sklearn/utils/linear_assignment_.py:128: FutureWarning: The linear_assignment function is deprecated in 0.21 and will be removed from 0.23. Use scipy.optimize.linear_sum_assignment instead.\n",
      "  FutureWarning)\n"
     ]
    },
    {
     "name": "stdout",
     "output_type": "stream",
     "text": [
      "Iter-99: ACC= 0.0570, NMI= 0.0076, ARI= 0.0008;  L= 2.53766, Lc= 0.07190,  Lr= 2.46575\n"
     ]
    },
    {
     "name": "stderr",
     "output_type": "stream",
     "text": [
      "/opt/conda/lib/python3.7/site-packages/sklearn/utils/linear_assignment_.py:128: FutureWarning: The linear_assignment function is deprecated in 0.21 and will be removed from 0.23. Use scipy.optimize.linear_sum_assignment instead.\n",
      "  FutureWarning)\n"
     ]
    },
    {
     "name": "stdout",
     "output_type": "stream",
     "text": [
      "Iter-110: ACC= 0.0570, NMI= 0.0076, ARI= 0.0009;  L= 2.52488, Lc= 0.06889,  Lr= 2.45598\n",
      "saving model to: scDeepCluster/scDeepCluster_model_110.h5\n"
     ]
    },
    {
     "name": "stderr",
     "output_type": "stream",
     "text": [
      "/opt/conda/lib/python3.7/site-packages/sklearn/utils/linear_assignment_.py:128: FutureWarning: The linear_assignment function is deprecated in 0.21 and will be removed from 0.23. Use scipy.optimize.linear_sum_assignment instead.\n",
      "  FutureWarning)\n",
      "/opt/conda/lib/python3.7/site-packages/sklearn/utils/linear_assignment_.py:128: FutureWarning: The linear_assignment function is deprecated in 0.21 and will be removed from 0.23. Use scipy.optimize.linear_sum_assignment instead.\n",
      "  FutureWarning)\n"
     ]
    },
    {
     "name": "stdout",
     "output_type": "stream",
     "text": [
      "Iter-121: ACC= 0.0570, NMI= 0.0076, ARI= 0.0009;  L= 2.50125, Lc= 0.06195,  Lr= 2.43930\n",
      "delta_label  0.0003333333333333333 < tol  0.001\n",
      "Reached tolerance threshold. Stopping training.\n",
      "saving model to: scDeepCluster/scDeepCluster_model_final.h5\n",
      "Final: ACC= 0.0570, NMI= 0.0076, ARI= 0.0009\n",
      "Clustering time: 687 seconds.\n",
      ">>> Dataset data_1.5c32 \n",
      "### Autoencoder: Successfully preprocessed 2500 genes and 3000 cells.\n",
      "Sample size\n",
      "(3000, 2482)\n",
      "(3000,)\n",
      "...Pretraining autoencoder...\n",
      "Pretrained weights are saved to ./ae_weights.h5\n",
      "Update interval 11\n",
      "Save interval 55\n",
      "Initializing cluster centers with k-means.\n"
     ]
    },
    {
     "name": "stderr",
     "output_type": "stream",
     "text": [
      "/opt/conda/lib/python3.7/site-packages/sklearn/utils/linear_assignment_.py:128: FutureWarning: The linear_assignment function is deprecated in 0.21 and will be removed from 0.23. Use scipy.optimize.linear_sum_assignment instead.\n",
      "  FutureWarning)\n"
     ]
    },
    {
     "name": "stdout",
     "output_type": "stream",
     "text": [
      "Iter-0: ACC= 0.0533, NMI= 0.0055, ARI= 0.0002;  L= 0.00000, Lc= 0.00000,  Lr= 0.00000\n",
      "saving model to: scDeepCluster/scDeepCluster_model_0.h5\n"
     ]
    },
    {
     "name": "stderr",
     "output_type": "stream",
     "text": [
      "/opt/conda/lib/python3.7/site-packages/sklearn/utils/linear_assignment_.py:128: FutureWarning: The linear_assignment function is deprecated in 0.21 and will be removed from 0.23. Use scipy.optimize.linear_sum_assignment instead.\n",
      "  FutureWarning)\n"
     ]
    },
    {
     "name": "stdout",
     "output_type": "stream",
     "text": [
      "Iter-11: ACC= 0.0540, NMI= 0.0054, ARI= 0.0002;  L= 2.15440, Lc= 0.09381,  Lr= 2.06060\n"
     ]
    },
    {
     "name": "stderr",
     "output_type": "stream",
     "text": [
      "/opt/conda/lib/python3.7/site-packages/sklearn/utils/linear_assignment_.py:128: FutureWarning: The linear_assignment function is deprecated in 0.21 and will be removed from 0.23. Use scipy.optimize.linear_sum_assignment instead.\n",
      "  FutureWarning)\n"
     ]
    },
    {
     "name": "stdout",
     "output_type": "stream",
     "text": [
      "Iter-22: ACC= 0.0533, NMI= 0.0053, ARI= 0.0002;  L= 2.15255, Lc= 0.09384,  Lr= 2.05872\n"
     ]
    },
    {
     "name": "stderr",
     "output_type": "stream",
     "text": [
      "/opt/conda/lib/python3.7/site-packages/sklearn/utils/linear_assignment_.py:128: FutureWarning: The linear_assignment function is deprecated in 0.21 and will be removed from 0.23. Use scipy.optimize.linear_sum_assignment instead.\n",
      "  FutureWarning)\n"
     ]
    },
    {
     "name": "stdout",
     "output_type": "stream",
     "text": [
      "Iter-33: ACC= 0.0543, NMI= 0.0056, ARI= 0.0002;  L= 2.17673, Lc= 0.09709,  Lr= 2.07964\n"
     ]
    },
    {
     "name": "stderr",
     "output_type": "stream",
     "text": [
      "/opt/conda/lib/python3.7/site-packages/sklearn/utils/linear_assignment_.py:128: FutureWarning: The linear_assignment function is deprecated in 0.21 and will be removed from 0.23. Use scipy.optimize.linear_sum_assignment instead.\n",
      "  FutureWarning)\n"
     ]
    },
    {
     "name": "stdout",
     "output_type": "stream",
     "text": [
      "Iter-44: ACC= 0.0547, NMI= 0.0055, ARI= 0.0002;  L= 2.33240, Lc= 0.11120,  Lr= 2.22120\n"
     ]
    },
    {
     "name": "stderr",
     "output_type": "stream",
     "text": [
      "/opt/conda/lib/python3.7/site-packages/sklearn/utils/linear_assignment_.py:128: FutureWarning: The linear_assignment function is deprecated in 0.21 and will be removed from 0.23. Use scipy.optimize.linear_sum_assignment instead.\n",
      "  FutureWarning)\n"
     ]
    },
    {
     "name": "stdout",
     "output_type": "stream",
     "text": [
      "Iter-55: ACC= 0.0543, NMI= 0.0055, ARI= 0.0002;  L= 2.21205, Lc= 0.09537,  Lr= 2.11668\n",
      "saving model to: scDeepCluster/scDeepCluster_model_55.h5\n"
     ]
    },
    {
     "name": "stderr",
     "output_type": "stream",
     "text": [
      "/opt/conda/lib/python3.7/site-packages/sklearn/utils/linear_assignment_.py:128: FutureWarning: The linear_assignment function is deprecated in 0.21 and will be removed from 0.23. Use scipy.optimize.linear_sum_assignment instead.\n",
      "  FutureWarning)\n"
     ]
    },
    {
     "name": "stdout",
     "output_type": "stream",
     "text": [
      "Iter-66: ACC= 0.0543, NMI= 0.0054, ARI= 0.0002;  L= 2.27449, Lc= 0.10347,  Lr= 2.17102\n"
     ]
    },
    {
     "name": "stderr",
     "output_type": "stream",
     "text": [
      "/opt/conda/lib/python3.7/site-packages/sklearn/utils/linear_assignment_.py:128: FutureWarning: The linear_assignment function is deprecated in 0.21 and will be removed from 0.23. Use scipy.optimize.linear_sum_assignment instead.\n",
      "  FutureWarning)\n"
     ]
    },
    {
     "name": "stdout",
     "output_type": "stream",
     "text": [
      "Iter-77: ACC= 0.0543, NMI= 0.0054, ARI= 0.0001;  L= 2.26602, Lc= 0.09497,  Lr= 2.17105\n"
     ]
    },
    {
     "name": "stderr",
     "output_type": "stream",
     "text": [
      "/opt/conda/lib/python3.7/site-packages/sklearn/utils/linear_assignment_.py:128: FutureWarning: The linear_assignment function is deprecated in 0.21 and will be removed from 0.23. Use scipy.optimize.linear_sum_assignment instead.\n",
      "  FutureWarning)\n",
      "/opt/conda/lib/python3.7/site-packages/sklearn/utils/linear_assignment_.py:128: FutureWarning: The linear_assignment function is deprecated in 0.21 and will be removed from 0.23. Use scipy.optimize.linear_sum_assignment instead.\n",
      "  FutureWarning)\n"
     ]
    },
    {
     "name": "stdout",
     "output_type": "stream",
     "text": [
      "Iter-88: ACC= 0.0543, NMI= 0.0054, ARI= 0.0001;  L= 2.25397, Lc= 0.09756,  Lr= 2.15641\n",
      "delta_label  0.0006666666666666666 < tol  0.001\n",
      "Reached tolerance threshold. Stopping training.\n",
      "saving model to: scDeepCluster/scDeepCluster_model_final.h5\n",
      "Final: ACC= 0.0543, NMI= 0.0054, ARI= 0.0001\n",
      "Clustering time: 681 seconds.\n",
      ">>> Dataset data_-1c32 \n",
      "### Autoencoder: Successfully preprocessed 2500 genes and 3000 cells.\n",
      "Sample size\n",
      "(3000, 2493)\n",
      "(3000,)\n",
      "...Pretraining autoencoder...\n",
      "Pretrained weights are saved to ./ae_weights.h5\n",
      "Update interval 11\n",
      "Save interval 55\n",
      "Initializing cluster centers with k-means.\n"
     ]
    },
    {
     "name": "stderr",
     "output_type": "stream",
     "text": [
      "/opt/conda/lib/python3.7/site-packages/sklearn/utils/linear_assignment_.py:128: FutureWarning: The linear_assignment function is deprecated in 0.21 and will be removed from 0.23. Use scipy.optimize.linear_sum_assignment instead.\n",
      "  FutureWarning)\n"
     ]
    },
    {
     "name": "stdout",
     "output_type": "stream",
     "text": [
      "Iter-0: ACC= 0.0570, NMI= 0.0079, ARI= 0.0008;  L= 0.00000, Lc= 0.00000,  Lr= 0.00000\n",
      "saving model to: scDeepCluster/scDeepCluster_model_0.h5\n"
     ]
    },
    {
     "name": "stderr",
     "output_type": "stream",
     "text": [
      "/opt/conda/lib/python3.7/site-packages/sklearn/utils/linear_assignment_.py:128: FutureWarning: The linear_assignment function is deprecated in 0.21 and will be removed from 0.23. Use scipy.optimize.linear_sum_assignment instead.\n",
      "  FutureWarning)\n"
     ]
    },
    {
     "name": "stdout",
     "output_type": "stream",
     "text": [
      "Iter-11: ACC= 0.0563, NMI= 0.0070, ARI= 0.0006;  L= 2.55907, Lc= 0.08207,  Lr= 2.47701\n"
     ]
    },
    {
     "name": "stderr",
     "output_type": "stream",
     "text": [
      "/opt/conda/lib/python3.7/site-packages/sklearn/utils/linear_assignment_.py:128: FutureWarning: The linear_assignment function is deprecated in 0.21 and will be removed from 0.23. Use scipy.optimize.linear_sum_assignment instead.\n",
      "  FutureWarning)\n"
     ]
    },
    {
     "name": "stdout",
     "output_type": "stream",
     "text": [
      "Iter-22: ACC= 0.0567, NMI= 0.0072, ARI= 0.0008;  L= 2.55187, Lc= 0.07537,  Lr= 2.47650\n"
     ]
    },
    {
     "name": "stderr",
     "output_type": "stream",
     "text": [
      "/opt/conda/lib/python3.7/site-packages/sklearn/utils/linear_assignment_.py:128: FutureWarning: The linear_assignment function is deprecated in 0.21 and will be removed from 0.23. Use scipy.optimize.linear_sum_assignment instead.\n",
      "  FutureWarning)\n"
     ]
    },
    {
     "name": "stdout",
     "output_type": "stream",
     "text": [
      "Iter-33: ACC= 0.0567, NMI= 0.0071, ARI= 0.0007;  L= 2.84123, Lc= 0.09132,  Lr= 2.74990\n"
     ]
    },
    {
     "name": "stderr",
     "output_type": "stream",
     "text": [
      "/opt/conda/lib/python3.7/site-packages/sklearn/utils/linear_assignment_.py:128: FutureWarning: The linear_assignment function is deprecated in 0.21 and will be removed from 0.23. Use scipy.optimize.linear_sum_assignment instead.\n",
      "  FutureWarning)\n"
     ]
    },
    {
     "name": "stdout",
     "output_type": "stream",
     "text": [
      "Iter-44: ACC= 0.0563, NMI= 0.0072, ARI= 0.0008;  L= 2.63002, Lc= 0.09353,  Lr= 2.53649\n"
     ]
    },
    {
     "name": "stderr",
     "output_type": "stream",
     "text": [
      "/opt/conda/lib/python3.7/site-packages/sklearn/utils/linear_assignment_.py:128: FutureWarning: The linear_assignment function is deprecated in 0.21 and will be removed from 0.23. Use scipy.optimize.linear_sum_assignment instead.\n",
      "  FutureWarning)\n"
     ]
    },
    {
     "name": "stdout",
     "output_type": "stream",
     "text": [
      "Iter-55: ACC= 0.0567, NMI= 0.0073, ARI= 0.0008;  L= 2.64240, Lc= 0.09763,  Lr= 2.54477\n",
      "saving model to: scDeepCluster/scDeepCluster_model_55.h5\n"
     ]
    },
    {
     "name": "stderr",
     "output_type": "stream",
     "text": [
      "/opt/conda/lib/python3.7/site-packages/sklearn/utils/linear_assignment_.py:128: FutureWarning: The linear_assignment function is deprecated in 0.21 and will be removed from 0.23. Use scipy.optimize.linear_sum_assignment instead.\n",
      "  FutureWarning)\n"
     ]
    },
    {
     "name": "stdout",
     "output_type": "stream",
     "text": [
      "Iter-66: ACC= 0.0567, NMI= 0.0071, ARI= 0.0007;  L= 2.64725, Lc= 0.09894,  Lr= 2.54830\n"
     ]
    },
    {
     "name": "stderr",
     "output_type": "stream",
     "text": [
      "/opt/conda/lib/python3.7/site-packages/sklearn/utils/linear_assignment_.py:128: FutureWarning: The linear_assignment function is deprecated in 0.21 and will be removed from 0.23. Use scipy.optimize.linear_sum_assignment instead.\n",
      "  FutureWarning)\n"
     ]
    },
    {
     "name": "stdout",
     "output_type": "stream",
     "text": [
      "Iter-77: ACC= 0.0567, NMI= 0.0069, ARI= 0.0007;  L= 2.64223, Lc= 0.09801,  Lr= 2.54421\n"
     ]
    },
    {
     "name": "stderr",
     "output_type": "stream",
     "text": [
      "/opt/conda/lib/python3.7/site-packages/sklearn/utils/linear_assignment_.py:128: FutureWarning: The linear_assignment function is deprecated in 0.21 and will be removed from 0.23. Use scipy.optimize.linear_sum_assignment instead.\n",
      "  FutureWarning)\n"
     ]
    },
    {
     "name": "stdout",
     "output_type": "stream",
     "text": [
      "Iter-88: ACC= 0.0570, NMI= 0.0070, ARI= 0.0007;  L= 2.64634, Lc= 0.09396,  Lr= 2.55238\n"
     ]
    },
    {
     "name": "stderr",
     "output_type": "stream",
     "text": [
      "/opt/conda/lib/python3.7/site-packages/sklearn/utils/linear_assignment_.py:128: FutureWarning: The linear_assignment function is deprecated in 0.21 and will be removed from 0.23. Use scipy.optimize.linear_sum_assignment instead.\n",
      "  FutureWarning)\n"
     ]
    },
    {
     "name": "stdout",
     "output_type": "stream",
     "text": [
      "Iter-99: ACC= 0.0570, NMI= 0.0069, ARI= 0.0007;  L= 2.63397, Lc= 0.08542,  Lr= 2.54855\n"
     ]
    },
    {
     "name": "stderr",
     "output_type": "stream",
     "text": [
      "/opt/conda/lib/python3.7/site-packages/sklearn/utils/linear_assignment_.py:128: FutureWarning: The linear_assignment function is deprecated in 0.21 and will be removed from 0.23. Use scipy.optimize.linear_sum_assignment instead.\n",
      "  FutureWarning)\n"
     ]
    },
    {
     "name": "stdout",
     "output_type": "stream",
     "text": [
      "Iter-110: ACC= 0.0570, NMI= 0.0069, ARI= 0.0007;  L= 2.62547, Lc= 0.09051,  Lr= 2.53496\n",
      "saving model to: scDeepCluster/scDeepCluster_model_110.h5\n"
     ]
    },
    {
     "name": "stderr",
     "output_type": "stream",
     "text": [
      "/opt/conda/lib/python3.7/site-packages/sklearn/utils/linear_assignment_.py:128: FutureWarning: The linear_assignment function is deprecated in 0.21 and will be removed from 0.23. Use scipy.optimize.linear_sum_assignment instead.\n",
      "  FutureWarning)\n"
     ]
    },
    {
     "name": "stdout",
     "output_type": "stream",
     "text": [
      "Iter-121: ACC= 0.0570, NMI= 0.0069, ARI= 0.0007;  L= 2.65182, Lc= 0.12174,  Lr= 2.53008\n"
     ]
    },
    {
     "name": "stderr",
     "output_type": "stream",
     "text": [
      "/opt/conda/lib/python3.7/site-packages/sklearn/utils/linear_assignment_.py:128: FutureWarning: The linear_assignment function is deprecated in 0.21 and will be removed from 0.23. Use scipy.optimize.linear_sum_assignment instead.\n",
      "  FutureWarning)\n",
      "/opt/conda/lib/python3.7/site-packages/sklearn/utils/linear_assignment_.py:128: FutureWarning: The linear_assignment function is deprecated in 0.21 and will be removed from 0.23. Use scipy.optimize.linear_sum_assignment instead.\n",
      "  FutureWarning)\n"
     ]
    },
    {
     "name": "stdout",
     "output_type": "stream",
     "text": [
      "Iter-132: ACC= 0.0570, NMI= 0.0069, ARI= 0.0007;  L= 2.61379, Lc= 0.08852,  Lr= 2.52527\n",
      "delta_label  0.0 < tol  0.001\n",
      "Reached tolerance threshold. Stopping training.\n",
      "saving model to: scDeepCluster/scDeepCluster_model_final.h5\n",
      "Final: ACC= 0.0570, NMI= 0.0069, ARI= 0.0007\n",
      "Clustering time: 698 seconds.\n",
      ">>> Dataset data_-1c16 \n",
      "### Autoencoder: Successfully preprocessed 2500 genes and 3000 cells.\n",
      "Sample size\n",
      "(3000, 2494)\n",
      "(3000,)\n",
      "...Pretraining autoencoder...\n",
      "Pretrained weights are saved to ./ae_weights.h5\n",
      "Update interval 11\n",
      "Save interval 55\n",
      "Initializing cluster centers with k-means.\n"
     ]
    },
    {
     "name": "stderr",
     "output_type": "stream",
     "text": [
      "/opt/conda/lib/python3.7/site-packages/sklearn/utils/linear_assignment_.py:128: FutureWarning: The linear_assignment function is deprecated in 0.21 and will be removed from 0.23. Use scipy.optimize.linear_sum_assignment instead.\n",
      "  FutureWarning)\n"
     ]
    },
    {
     "name": "stdout",
     "output_type": "stream",
     "text": [
      "Iter-0: ACC= 0.1343, NMI= 0.0168, ARI= 0.0065;  L= 0.00000, Lc= 0.00000,  Lr= 0.00000\n",
      "saving model to: scDeepCluster/scDeepCluster_model_0.h5\n"
     ]
    },
    {
     "name": "stderr",
     "output_type": "stream",
     "text": [
      "/opt/conda/lib/python3.7/site-packages/sklearn/utils/linear_assignment_.py:128: FutureWarning: The linear_assignment function is deprecated in 0.21 and will be removed from 0.23. Use scipy.optimize.linear_sum_assignment instead.\n",
      "  FutureWarning)\n"
     ]
    },
    {
     "name": "stdout",
     "output_type": "stream",
     "text": [
      "Iter-11: ACC= 0.1357, NMI= 0.0173, ARI= 0.0069;  L= 2.54933, Lc= 0.07681,  Lr= 2.47251\n"
     ]
    },
    {
     "name": "stderr",
     "output_type": "stream",
     "text": [
      "/opt/conda/lib/python3.7/site-packages/sklearn/utils/linear_assignment_.py:128: FutureWarning: The linear_assignment function is deprecated in 0.21 and will be removed from 0.23. Use scipy.optimize.linear_sum_assignment instead.\n",
      "  FutureWarning)\n"
     ]
    },
    {
     "name": "stdout",
     "output_type": "stream",
     "text": [
      "Iter-22: ACC= 0.1340, NMI= 0.0164, ARI= 0.0065;  L= 2.55479, Lc= 0.08173,  Lr= 2.47305\n"
     ]
    },
    {
     "name": "stderr",
     "output_type": "stream",
     "text": [
      "/opt/conda/lib/python3.7/site-packages/sklearn/utils/linear_assignment_.py:128: FutureWarning: The linear_assignment function is deprecated in 0.21 and will be removed from 0.23. Use scipy.optimize.linear_sum_assignment instead.\n",
      "  FutureWarning)\n"
     ]
    },
    {
     "name": "stdout",
     "output_type": "stream",
     "text": [
      "Iter-33: ACC= 0.1333, NMI= 0.0152, ARI= 0.0058;  L= 2.57880, Lc= 0.09121,  Lr= 2.48760\n"
     ]
    },
    {
     "name": "stderr",
     "output_type": "stream",
     "text": [
      "/opt/conda/lib/python3.7/site-packages/sklearn/utils/linear_assignment_.py:128: FutureWarning: The linear_assignment function is deprecated in 0.21 and will be removed from 0.23. Use scipy.optimize.linear_sum_assignment instead.\n",
      "  FutureWarning)\n"
     ]
    },
    {
     "name": "stdout",
     "output_type": "stream",
     "text": [
      "Iter-44: ACC= 0.1330, NMI= 0.0159, ARI= 0.0061;  L= 2.82497, Lc= 0.10777,  Lr= 2.71720\n"
     ]
    },
    {
     "name": "stderr",
     "output_type": "stream",
     "text": [
      "/opt/conda/lib/python3.7/site-packages/sklearn/utils/linear_assignment_.py:128: FutureWarning: The linear_assignment function is deprecated in 0.21 and will be removed from 0.23. Use scipy.optimize.linear_sum_assignment instead.\n",
      "  FutureWarning)\n"
     ]
    },
    {
     "name": "stdout",
     "output_type": "stream",
     "text": [
      "Iter-55: ACC= 0.1320, NMI= 0.0154, ARI= 0.0058;  L= 2.61702, Lc= 0.09657,  Lr= 2.52045\n",
      "saving model to: scDeepCluster/scDeepCluster_model_55.h5\n"
     ]
    },
    {
     "name": "stderr",
     "output_type": "stream",
     "text": [
      "/opt/conda/lib/python3.7/site-packages/sklearn/utils/linear_assignment_.py:128: FutureWarning: The linear_assignment function is deprecated in 0.21 and will be removed from 0.23. Use scipy.optimize.linear_sum_assignment instead.\n",
      "  FutureWarning)\n"
     ]
    },
    {
     "name": "stdout",
     "output_type": "stream",
     "text": [
      "Iter-66: ACC= 0.1330, NMI= 0.0153, ARI= 0.0058;  L= 2.71158, Lc= 0.09977,  Lr= 2.61181\n"
     ]
    },
    {
     "name": "stderr",
     "output_type": "stream",
     "text": [
      "/opt/conda/lib/python3.7/site-packages/sklearn/utils/linear_assignment_.py:128: FutureWarning: The linear_assignment function is deprecated in 0.21 and will be removed from 0.23. Use scipy.optimize.linear_sum_assignment instead.\n",
      "  FutureWarning)\n"
     ]
    },
    {
     "name": "stdout",
     "output_type": "stream",
     "text": [
      "Iter-77: ACC= 0.1320, NMI= 0.0151, ARI= 0.0056;  L= 2.64336, Lc= 0.09497,  Lr= 2.54839\n"
     ]
    },
    {
     "name": "stderr",
     "output_type": "stream",
     "text": [
      "/opt/conda/lib/python3.7/site-packages/sklearn/utils/linear_assignment_.py:128: FutureWarning: The linear_assignment function is deprecated in 0.21 and will be removed from 0.23. Use scipy.optimize.linear_sum_assignment instead.\n",
      "  FutureWarning)\n"
     ]
    },
    {
     "name": "stdout",
     "output_type": "stream",
     "text": [
      "Iter-88: ACC= 0.1320, NMI= 0.0152, ARI= 0.0057;  L= 2.67332, Lc= 0.09848,  Lr= 2.57485\n"
     ]
    },
    {
     "name": "stderr",
     "output_type": "stream",
     "text": [
      "/opt/conda/lib/python3.7/site-packages/sklearn/utils/linear_assignment_.py:128: FutureWarning: The linear_assignment function is deprecated in 0.21 and will be removed from 0.23. Use scipy.optimize.linear_sum_assignment instead.\n",
      "  FutureWarning)\n"
     ]
    },
    {
     "name": "stdout",
     "output_type": "stream",
     "text": [
      "Iter-99: ACC= 0.1323, NMI= 0.0153, ARI= 0.0058;  L= 2.63237, Lc= 0.09296,  Lr= 2.53942\n"
     ]
    },
    {
     "name": "stderr",
     "output_type": "stream",
     "text": [
      "/opt/conda/lib/python3.7/site-packages/sklearn/utils/linear_assignment_.py:128: FutureWarning: The linear_assignment function is deprecated in 0.21 and will be removed from 0.23. Use scipy.optimize.linear_sum_assignment instead.\n",
      "  FutureWarning)\n"
     ]
    },
    {
     "name": "stdout",
     "output_type": "stream",
     "text": [
      "Iter-110: ACC= 0.1320, NMI= 0.0151, ARI= 0.0056;  L= 2.64740, Lc= 0.09133,  Lr= 2.55608\n",
      "saving model to: scDeepCluster/scDeepCluster_model_110.h5\n"
     ]
    },
    {
     "name": "stderr",
     "output_type": "stream",
     "text": [
      "/opt/conda/lib/python3.7/site-packages/sklearn/utils/linear_assignment_.py:128: FutureWarning: The linear_assignment function is deprecated in 0.21 and will be removed from 0.23. Use scipy.optimize.linear_sum_assignment instead.\n",
      "  FutureWarning)\n"
     ]
    },
    {
     "name": "stdout",
     "output_type": "stream",
     "text": [
      "Iter-121: ACC= 0.1323, NMI= 0.0151, ARI= 0.0056;  L= 2.61745, Lc= 0.08716,  Lr= 2.53029\n"
     ]
    },
    {
     "name": "stderr",
     "output_type": "stream",
     "text": [
      "/opt/conda/lib/python3.7/site-packages/sklearn/utils/linear_assignment_.py:128: FutureWarning: The linear_assignment function is deprecated in 0.21 and will be removed from 0.23. Use scipy.optimize.linear_sum_assignment instead.\n",
      "  FutureWarning)\n"
     ]
    },
    {
     "name": "stdout",
     "output_type": "stream",
     "text": [
      "Iter-132: ACC= 0.1323, NMI= 0.0151, ARI= 0.0056;  L= 2.62711, Lc= 0.08180,  Lr= 2.54531\n"
     ]
    },
    {
     "name": "stderr",
     "output_type": "stream",
     "text": [
      "/opt/conda/lib/python3.7/site-packages/sklearn/utils/linear_assignment_.py:128: FutureWarning: The linear_assignment function is deprecated in 0.21 and will be removed from 0.23. Use scipy.optimize.linear_sum_assignment instead.\n",
      "  FutureWarning)\n"
     ]
    },
    {
     "name": "stdout",
     "output_type": "stream",
     "text": [
      "Iter-143: ACC= 0.1323, NMI= 0.0151, ARI= 0.0056;  L= 2.60119, Lc= 0.06487,  Lr= 2.53631\n"
     ]
    },
    {
     "name": "stderr",
     "output_type": "stream",
     "text": [
      "/opt/conda/lib/python3.7/site-packages/sklearn/utils/linear_assignment_.py:128: FutureWarning: The linear_assignment function is deprecated in 0.21 and will be removed from 0.23. Use scipy.optimize.linear_sum_assignment instead.\n",
      "  FutureWarning)\n",
      "/opt/conda/lib/python3.7/site-packages/sklearn/utils/linear_assignment_.py:128: FutureWarning: The linear_assignment function is deprecated in 0.21 and will be removed from 0.23. Use scipy.optimize.linear_sum_assignment instead.\n",
      "  FutureWarning)\n"
     ]
    },
    {
     "name": "stdout",
     "output_type": "stream",
     "text": [
      "Iter-154: ACC= 0.1327, NMI= 0.0151, ARI= 0.0057;  L= 2.60441, Lc= 0.06795,  Lr= 2.53646\n",
      "delta_label  0.0006666666666666666 < tol  0.001\n",
      "Reached tolerance threshold. Stopping training.\n",
      "saving model to: scDeepCluster/scDeepCluster_model_final.h5\n",
      "Final: ACC= 0.1327, NMI= 0.0151, ARI= 0.0057\n",
      "Clustering time: 708 seconds.\n",
      ">>> Dataset data_1c16 \n",
      "### Autoencoder: Successfully preprocessed 2500 genes and 3000 cells.\n",
      "Sample size\n",
      "(3000, 2480)\n",
      "(3000,)\n",
      "...Pretraining autoencoder...\n",
      "Pretrained weights are saved to ./ae_weights.h5\n",
      "Update interval 11\n",
      "Save interval 55\n",
      "Initializing cluster centers with k-means.\n"
     ]
    },
    {
     "name": "stderr",
     "output_type": "stream",
     "text": [
      "/opt/conda/lib/python3.7/site-packages/sklearn/utils/linear_assignment_.py:128: FutureWarning: The linear_assignment function is deprecated in 0.21 and will be removed from 0.23. Use scipy.optimize.linear_sum_assignment instead.\n",
      "  FutureWarning)\n"
     ]
    },
    {
     "name": "stdout",
     "output_type": "stream",
     "text": [
      "Iter-0: ACC= 0.1243, NMI= 0.0079, ARI= 0.0029;  L= 0.00000, Lc= 0.00000,  Lr= 0.00000\n",
      "saving model to: scDeepCluster/scDeepCluster_model_0.h5\n"
     ]
    },
    {
     "name": "stderr",
     "output_type": "stream",
     "text": [
      "/opt/conda/lib/python3.7/site-packages/sklearn/utils/linear_assignment_.py:128: FutureWarning: The linear_assignment function is deprecated in 0.21 and will be removed from 0.23. Use scipy.optimize.linear_sum_assignment instead.\n",
      "  FutureWarning)\n"
     ]
    },
    {
     "name": "stdout",
     "output_type": "stream",
     "text": [
      "Iter-11: ACC= 0.1230, NMI= 0.0082, ARI= 0.0030;  L= 2.32109, Lc= 0.09826,  Lr= 2.22283\n"
     ]
    },
    {
     "name": "stderr",
     "output_type": "stream",
     "text": [
      "/opt/conda/lib/python3.7/site-packages/sklearn/utils/linear_assignment_.py:128: FutureWarning: The linear_assignment function is deprecated in 0.21 and will be removed from 0.23. Use scipy.optimize.linear_sum_assignment instead.\n",
      "  FutureWarning)\n"
     ]
    },
    {
     "name": "stdout",
     "output_type": "stream",
     "text": [
      "Iter-22: ACC= 0.1243, NMI= 0.0089, ARI= 0.0031;  L= 2.33526, Lc= 0.08937,  Lr= 2.24590\n"
     ]
    },
    {
     "name": "stderr",
     "output_type": "stream",
     "text": [
      "/opt/conda/lib/python3.7/site-packages/sklearn/utils/linear_assignment_.py:128: FutureWarning: The linear_assignment function is deprecated in 0.21 and will be removed from 0.23. Use scipy.optimize.linear_sum_assignment instead.\n",
      "  FutureWarning)\n"
     ]
    },
    {
     "name": "stdout",
     "output_type": "stream",
     "text": [
      "Iter-33: ACC= 0.1237, NMI= 0.0089, ARI= 0.0031;  L= 2.43079, Lc= 0.10145,  Lr= 2.32935\n"
     ]
    },
    {
     "name": "stderr",
     "output_type": "stream",
     "text": [
      "/opt/conda/lib/python3.7/site-packages/sklearn/utils/linear_assignment_.py:128: FutureWarning: The linear_assignment function is deprecated in 0.21 and will be removed from 0.23. Use scipy.optimize.linear_sum_assignment instead.\n",
      "  FutureWarning)\n"
     ]
    },
    {
     "name": "stdout",
     "output_type": "stream",
     "text": [
      "Iter-44: ACC= 0.1230, NMI= 0.0089, ARI= 0.0030;  L= 2.36192, Lc= 0.09564,  Lr= 2.26628\n"
     ]
    },
    {
     "name": "stderr",
     "output_type": "stream",
     "text": [
      "/opt/conda/lib/python3.7/site-packages/sklearn/utils/linear_assignment_.py:128: FutureWarning: The linear_assignment function is deprecated in 0.21 and will be removed from 0.23. Use scipy.optimize.linear_sum_assignment instead.\n",
      "  FutureWarning)\n"
     ]
    },
    {
     "name": "stdout",
     "output_type": "stream",
     "text": [
      "Iter-55: ACC= 0.1233, NMI= 0.0090, ARI= 0.0030;  L= 2.40854, Lc= 0.09575,  Lr= 2.31279\n",
      "saving model to: scDeepCluster/scDeepCluster_model_55.h5\n"
     ]
    },
    {
     "name": "stderr",
     "output_type": "stream",
     "text": [
      "/opt/conda/lib/python3.7/site-packages/sklearn/utils/linear_assignment_.py:128: FutureWarning: The linear_assignment function is deprecated in 0.21 and will be removed from 0.23. Use scipy.optimize.linear_sum_assignment instead.\n",
      "  FutureWarning)\n"
     ]
    },
    {
     "name": "stdout",
     "output_type": "stream",
     "text": [
      "Iter-66: ACC= 0.1230, NMI= 0.0089, ARI= 0.0029;  L= 2.33748, Lc= 0.08804,  Lr= 2.24943\n"
     ]
    },
    {
     "name": "stderr",
     "output_type": "stream",
     "text": [
      "/opt/conda/lib/python3.7/site-packages/sklearn/utils/linear_assignment_.py:128: FutureWarning: The linear_assignment function is deprecated in 0.21 and will be removed from 0.23. Use scipy.optimize.linear_sum_assignment instead.\n",
      "  FutureWarning)\n"
     ]
    },
    {
     "name": "stdout",
     "output_type": "stream",
     "text": [
      "Iter-77: ACC= 0.1230, NMI= 0.0086, ARI= 0.0029;  L= 2.37373, Lc= 0.08942,  Lr= 2.28432\n",
      "Iter-88: ACC= 0.1230, NMI= 0.0087, ARI= 0.0029;  L= 2.35105, Lc= 0.08029,  Lr= 2.27076\n",
      "delta_label  0.0006666666666666666 < tol  0.001\n",
      "Reached tolerance threshold. Stopping training.\n",
      "saving model to: scDeepCluster/scDeepCluster_model_final.h5\n",
      "Final: ACC= 0.1230, NMI= 0.0087, ARI= 0.0029\n",
      "Clustering time: 696 seconds.\n"
     ]
    },
    {
     "name": "stderr",
     "output_type": "stream",
     "text": [
      "/opt/conda/lib/python3.7/site-packages/sklearn/utils/linear_assignment_.py:128: FutureWarning: The linear_assignment function is deprecated in 0.21 and will be removed from 0.23. Use scipy.optimize.linear_sum_assignment instead.\n",
      "  FutureWarning)\n",
      "/opt/conda/lib/python3.7/site-packages/sklearn/utils/linear_assignment_.py:128: FutureWarning: The linear_assignment function is deprecated in 0.21 and will be removed from 0.23. Use scipy.optimize.linear_sum_assignment instead.\n",
      "  FutureWarning)\n"
     ]
    }
   ],
   "source": [
    "df = pd.DataFrame(columns = [\"dataset\", \"scDeepCluster\", \"run\"])\n",
    "for run in range(3):\n",
    "    for dataset in files:\n",
    "        print(f\">>> Dataset {dataset} \")\n",
    "        data_mat = h5py.File(f\"{path}R/simulated_data/{category}/{dataset}.h5\", \"r\")\n",
    "        #### Run scDeepCluster on the simulated data\n",
    "\n",
    "        optimizer1 = Adam(amsgrad=True)\n",
    "        optimizer2 = 'adadelta'\n",
    "        x = np.array(data_mat['X'])\n",
    "        y = np.array(data_mat['Y'])\n",
    "\n",
    "        # preprocessing scRNA-seq read counts matrix\n",
    "        adata = sc.AnnData(x)\n",
    "        adata.obs['Group'] = y\n",
    "\n",
    "        adata = read_dataset(adata, transpose=False, test_split=False, copy=True)\n",
    "\n",
    "        adata = normalize(adata,\n",
    "                          size_factors=True,\n",
    "                          normalize_input=True,\n",
    "                          logtrans_input=True)\n",
    "\n",
    "        input_size = adata.n_vars\n",
    "\n",
    "        print('Sample size')\n",
    "        print(adata.X.shape)\n",
    "        print(y.shape)\n",
    "\n",
    "        x_sd = adata.X.std(0)\n",
    "        x_sd_median = np.median(x_sd)\n",
    "\n",
    "        update_interval = int(adata.X.shape[0] / 256)\n",
    "    \n",
    "        seed = run\n",
    "        np.random.seed(seed)\n",
    "        # Define scDeepCluster model\n",
    "        scDeepCluster = SCDeepCluster(dims=[input_size, 256, 64, 32],\n",
    "                                      n_clusters=3,\n",
    "                                      noise_sd=2.5)\n",
    "\n",
    "        t0 = time()\n",
    "\n",
    "        # Pretrain autoencoders before clustering\n",
    "        scDeepCluster.pretrain(x=[adata.X, adata.obs.size_factors],\n",
    "                               y=adata.raw.X,\n",
    "                               batch_size=256,\n",
    "                               epochs=600,\n",
    "                               optimizer=optimizer1,\n",
    "                               ae_file='ae_weights.h5')\n",
    "\n",
    "        # begin clustering, time not include pretraining part.\n",
    "\n",
    "        gamma = 1.  # set hyperparameter gamma\n",
    "        scDeepCluster.fit(x_counts=adata.X,\n",
    "                          sf=adata.obs.size_factors,\n",
    "                          y=y,\n",
    "                          raw_counts=adata.raw.X,\n",
    "                          batch_size=256,\n",
    "                          tol=0.001,\n",
    "                          maxiter=20000,\n",
    "                          update_interval=update_interval,\n",
    "                          ae_weights=None,\n",
    "                          save_dir='scDeepCluster',\n",
    "                          loss_weights=[gamma, 1],\n",
    "                          optimizer=optimizer2)\n",
    "\n",
    "        # Show the final results\n",
    "        y_pred = scDeepCluster.y_pred\n",
    "        acc = np.round(cluster_acc(y, scDeepCluster.y_pred), 5)\n",
    "        nmi = np.round(metrics.normalized_mutual_info_score(y, scDeepCluster.y_pred),\n",
    "                       5)\n",
    "        ari = np.round(metrics.adjusted_rand_score(y, scDeepCluster.y_pred), 5)\n",
    "        print('Final: ACC= %.4f, NMI= %.4f, ARI= %.4f' % (acc, nmi, ari))\n",
    "        print('Clustering time: %d seconds.' % int(time() - t0))\n",
    "        df.loc[df.shape[0]] = [dataset, ari, run]\n",
    "\n",
    "        df.to_pickle(f\"{path}output/pickle_results/{category}/{category}_scDeepCluster.pkl\")"
   ]
  },
  {
   "cell_type": "code",
   "execution_count": null,
   "metadata": {},
   "outputs": [],
   "source": []
  }
 ],
 "metadata": {
  "kernelspec": {
   "display_name": "Python 3",
   "language": "python",
   "name": "python3"
  },
  "language_info": {
   "codemirror_mode": {
    "name": "ipython",
    "version": 3
   },
   "file_extension": ".py",
   "mimetype": "text/x-python",
   "name": "python",
   "nbconvert_exporter": "python",
   "pygments_lexer": "ipython3",
   "version": "3.7.4"
  }
 },
 "nbformat": 4,
 "nbformat_minor": 2
}
