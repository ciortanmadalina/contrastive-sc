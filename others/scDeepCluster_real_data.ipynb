{
 "cells": [
  {
   "cell_type": "markdown",
   "metadata": {},
   "source": [
    "# Run scDeepCluster on the simulated data"
   ]
  },
  {
   "cell_type": "code",
   "execution_count": 1,
   "metadata": {
    "scrolled": false
   },
   "outputs": [
    {
     "name": "stderr",
     "output_type": "stream",
     "text": [
      "Using TensorFlow backend.\n",
      "/opt/conda/lib/python3.7/site-packages/scanpy/api/__init__.py:7: FutureWarning: \n",
      "\n",
      "In a future version of Scanpy, `scanpy.api` will be removed.\n",
      "Simply use `import scanpy as sc` and `import scanpy.external as sce` instead.\n",
      "\n",
      "  FutureWarning,\n"
     ]
    }
   ],
   "source": [
    "\"\"\"\n",
    "This part implements the scDeepCluster algoritm\n",
    "\"\"\"\n",
    "\n",
    "from time import time\n",
    "import numpy as np\n",
    "from keras.models import Model\n",
    "import keras.backend as K\n",
    "from keras.engine.topology import Layer, InputSpec\n",
    "from keras.layers import Dense, Input, GaussianNoise, Layer, Activation\n",
    "from keras.models import Model\n",
    "from keras.optimizers import SGD, Adam\n",
    "from keras.utils.vis_utils import plot_model\n",
    "from keras.callbacks import EarlyStopping\n",
    "import pandas as pd\n",
    "from sklearn.cluster import KMeans\n",
    "from sklearn import metrics\n",
    "\n",
    "import h5py\n",
    "import scanpy.api as sc\n",
    "from scDeepCluster_layers import ConstantDispersionLayer, SliceLayer, ColWiseMultLayer\n",
    "from scDeepCluster_loss import poisson_loss, NB, ZINB\n",
    "from scDeepCluster_preprocess import read_dataset, normalize\n",
    "import tensorflow as tf\n",
    "\n",
    "from numpy.random import seed\n",
    "seed(2211)\n",
    "from tensorflow import set_random_seed\n",
    "set_random_seed(2211)\n",
    "\n",
    "MeanAct = lambda x: tf.clip_by_value(K.exp(x), 1e-5, 1e6)\n",
    "DispAct = lambda x: tf.clip_by_value(tf.nn.softplus(x), 1e-4, 1e4)\n",
    "\n",
    "def cluster_acc(y_true, y_pred):\n",
    "    \"\"\"\n",
    "    Calculate clustering accuracy. Require scikit-learn installed\n",
    "    # Arguments\n",
    "        y: true labels, numpy.array with shape `(n_samples,)`\n",
    "        y_pred: predicted labels, numpy.array with shape `(n_samples,)`\n",
    "    # Return\n",
    "        accuracy, in [0,1]\n",
    "    \"\"\"\n",
    "    y_true = y_true.astype(np.int64)\n",
    "    assert y_pred.size == y_true.size\n",
    "    D = max(y_pred.max(), y_true.max()) + 1\n",
    "    w = np.zeros((D, D), dtype=np.int64)\n",
    "    for i in range(y_pred.size):\n",
    "        w[y_pred[i], y_true[i]] += 1\n",
    "    from sklearn.utils.linear_assignment_ import linear_assignment\n",
    "    ind = linear_assignment(w.max() - w)\n",
    "    return sum([w[i, j] for i, j in ind]) * 1.0 / y_pred.size\n",
    "\n",
    "\n",
    "def autoencoder(dims, noise_sd=0, init='glorot_uniform', act='relu'):\n",
    "    \"\"\"\n",
    "    Fully connected auto-encoder model, symmetric.\n",
    "    Arguments:\n",
    "        dims: list of number of units in each layer of encoder. dims[0] is input dim, dims[-1] is units in hidden layer.\n",
    "            The decoder is symmetric with encoder. So number of layers of the auto-encoder is 2*len(dims)-1\n",
    "        act: activation, not applied to Input, Hidden and Output layers\n",
    "    return:\n",
    "        Model of autoencoder\n",
    "    \"\"\"\n",
    "    n_stacks = len(dims) - 1\n",
    "    # input\n",
    "    sf_layer = Input(shape=(1,), name='size_factors')\n",
    "    x = Input(shape=(dims[0],), name='counts')\n",
    "    h = x\n",
    "    h = GaussianNoise(noise_sd, name='input_noise')(h)\n",
    " \n",
    "    # internal layers in encoder\n",
    "    for i in range(n_stacks-1):\n",
    "        h = Dense(dims[i + 1], kernel_initializer=init, name='encoder_%d' % i)(h)\n",
    "        h = GaussianNoise(noise_sd, name='noise_%d' % i)(h)    # add Gaussian noise\n",
    "        h = Activation(act)(h)\n",
    "    # hidden layer\n",
    "    h = Dense(dims[-1], kernel_initializer=init, name='encoder_hidden')(h)  # hidden layer, features are extracted from here\n",
    "\n",
    "    # internal layers in decoder\n",
    "    for i in range(n_stacks-1, 0, -1):\n",
    "        h = Dense(dims[i], activation=act, kernel_initializer=init, name='decoder_%d' % i)(h)\n",
    "\n",
    "    # output\n",
    " \n",
    "    pi = Dense(dims[0], activation='sigmoid', kernel_initializer=init, name='pi')(h)\n",
    "\n",
    "    disp = Dense(dims[0], activation=DispAct, kernel_initializer=init, name='dispersion')(h)\n",
    "\n",
    "    mean = Dense(dims[0], activation=MeanAct, kernel_initializer=init, name='mean')(h)\n",
    "\n",
    "    output = ColWiseMultLayer(name='output')([mean, sf_layer])\n",
    "    output = SliceLayer(0, name='slice')([output, disp, pi])\n",
    "\n",
    "    return Model(inputs=[x, sf_layer], outputs=output)\n",
    "\n",
    "\n",
    "class ClusteringLayer(Layer):\n",
    "    \"\"\"\n",
    "    Clustering layer converts input sample (feature) to soft label, i.e. a vector that represents the probability of the\n",
    "    sample belonging to each cluster. The probability is calculated with student's t-distribution.\n",
    "    # Example\n",
    "    ```\n",
    "        model.add(ClusteringLayer(n_clusters=10))\n",
    "    ```\n",
    "    # Arguments\n",
    "        n_clusters: number of clusters.\n",
    "        weights: list of Numpy array with shape `(n_clusters, n_features)` witch represents the initial cluster centers.\n",
    "        alpha: parameter in Student's t-distribution. Default to 1.0.\n",
    "    # Input shape\n",
    "        2D tensor with shape: `(n_samples, n_features)`.\n",
    "    # Output shape\n",
    "        2D tensor with shape: `(n_samples, n_clusters)`.\n",
    "    \"\"\"\n",
    "\n",
    "    def __init__(self, n_clusters, weights=None, alpha=1.0, **kwargs):\n",
    "        if 'input_shape' not in kwargs and 'input_dim' in kwargs:\n",
    "            kwargs['input_shape'] = (kwargs.pop('input_dim'),)\n",
    "        super(ClusteringLayer, self).__init__(**kwargs)\n",
    "        self.n_clusters = n_clusters\n",
    "        self.alpha = alpha\n",
    "        self.initial_weights = weights\n",
    "        self.input_spec = InputSpec(ndim=2)\n",
    "\n",
    "    def build(self, input_shape):\n",
    "        assert len(input_shape) == 2\n",
    "        input_dim = input_shape[1]\n",
    "        self.input_spec = InputSpec(dtype=K.floatx(), shape=(None, input_dim))\n",
    "        self.clusters = self.add_weight(shape = (self.n_clusters, input_dim), \n",
    "                                        initializer='glorot_uniform',\n",
    "                                        name='clusters')\n",
    "        if self.initial_weights is not None:\n",
    "            self.set_weights(self.initial_weights)\n",
    "            del self.initial_weights\n",
    "        self.built = True\n",
    "\n",
    "    def call(self, inputs, **kwargs):\n",
    "        \"\"\" student t-distribution, as same as used in t-SNE algorithm.\n",
    "                 q_ij = 1/(1+dist(x_i, u_j)^2), then normalize it.\n",
    "        Arguments:\n",
    "            inputs: the variable containing data, shape=(n_samples, n_features)\n",
    "        Return:\n",
    "            q: student's t-distribution, or soft labels for each sample. shape=(n_samples, n_clusters)\n",
    "        \"\"\"\n",
    "        q = 1.0 / (1.0 + (K.sum(K.square(K.expand_dims(inputs, axis=1) - self.clusters), axis=2) / self.alpha))\n",
    "        q **= (self.alpha + 1.0) / 2.0\n",
    "        q = K.transpose(K.transpose(q) / K.sum(q, axis=1))\n",
    "        return q\n",
    "\n",
    "    def compute_output_shape(self, input_shape):\n",
    "        assert input_shape and len(input_shape) == 2\n",
    "        return input_shape[0], self.n_clusters\n",
    "\n",
    "    def get_config(self):\n",
    "        config = {'n_clusters': self.n_clusters}\n",
    "        base_config = super(ClusteringLayer, self).get_config()\n",
    "        return dict(list(base_config.items()) + list(config.items()))\n",
    "\n",
    "\n",
    "\n",
    "class SCDeepCluster(object):\n",
    "    def __init__(self,\n",
    "                 dims,\n",
    "                 n_clusters=10,\n",
    "                 noise_sd=0,\n",
    "                 alpha=1.0,\n",
    "                 ridge=0,\n",
    "                 debug=False):\n",
    "\n",
    "        super(SCDeepCluster, self).__init__()\n",
    "\n",
    "        self.dims = dims\n",
    "        self.input_dim = dims[0]\n",
    "        self.n_stacks = len(self.dims) - 1\n",
    "\n",
    "        self.n_clusters = n_clusters\n",
    "        self.noise_sd = noise_sd\n",
    "        self.alpha = alpha\n",
    "        self.act = 'relu'\n",
    "        self.ridge = ridge\n",
    "        self.debug = debug\n",
    "        self.autoencoder = autoencoder(self.dims, noise_sd=self.noise_sd, act = self.act)\n",
    "        \n",
    "        # prepare clean encode model without Gaussian noise\n",
    "        ae_layers = [l for l in self.autoencoder.layers]\n",
    "        hidden = self.autoencoder.input[0]\n",
    "        for i in range(1, len(ae_layers)):\n",
    "            if \"noise\" in ae_layers[i].name:\n",
    "                next\n",
    "            elif \"dropout\" in ae_layers[i].name:\n",
    "                next\n",
    "            else:\n",
    "                hidden = ae_layers[i](hidden)\n",
    "            if \"encoder_hidden\" in ae_layers[i].name:  # only get encoder layers\n",
    "                break\n",
    "        self.encoder = Model(inputs=self.autoencoder.input, outputs=hidden)\n",
    "\n",
    "        pi = self.autoencoder.get_layer(name='pi').output\n",
    "        disp = self.autoencoder.get_layer(name='dispersion').output\n",
    "        mean = self.autoencoder.get_layer(name='mean').output\n",
    "        zinb = ZINB(pi, theta=disp, ridge_lambda=self.ridge, debug=self.debug)\n",
    "        self.loss = zinb.loss\n",
    "\n",
    "        clustering_layer = ClusteringLayer(self.n_clusters, alpha=self.alpha, name='clustering')(hidden)\n",
    "        self.model = Model(inputs=[self.autoencoder.input[0], self.autoencoder.input[1]],\n",
    "                           outputs=[clustering_layer, self.autoencoder.output])\n",
    "\n",
    "        self.pretrained = False\n",
    "        self.centers = []\n",
    "        self.y_pred = []\n",
    "\n",
    "    def pretrain(self, x, y, batch_size=256, epochs=200, optimizer='adam', ae_file='ae_weights.h5'):\n",
    "        print('...Pretraining autoencoder...')\n",
    "        self.autoencoder.compile(loss=self.loss, optimizer=optimizer)\n",
    "        es = EarlyStopping(monitor=\"loss\", patience=50, verbose=0)\n",
    "        self.autoencoder.fit(x=x, y=y, batch_size=batch_size, epochs=epochs, callbacks=[es], verbose = 0)\n",
    "        self.autoencoder.save_weights(ae_file)\n",
    "        print('Pretrained weights are saved to ./' + str(ae_file))\n",
    "        self.pretrained = True\n",
    "\n",
    "    def load_weights(self, weights_path):  # load weights of scDeepCluster model\n",
    "        self.model.load_weights(weights_path)\n",
    "\n",
    "    def extract_feature(self, x):  # extract features from before clustering layer\n",
    "        return self.encoder.predict(x)\n",
    "\n",
    "    def predict_clusters(self, x):  # predict cluster labels using the output of clustering layer\n",
    "        q, _ = self.model.predict(x, verbose=0)\n",
    "        return q.argmax(1)\n",
    "\n",
    "    @staticmethod\n",
    "    def target_distribution(q):  # target distribution P which enhances the discrimination of soft label Q\n",
    "        weight = q ** 2 / q.sum(0)\n",
    "        return (weight.T / weight.sum(1)).T\n",
    "\n",
    "    def fit(self, x_counts, sf, y, raw_counts, batch_size=256, maxiter=2e4, tol=1e-3, update_interval=140,\n",
    "            ae_weights=None, save_dir='./output/pickle_results/scDeepCluster', loss_weights=[1,1], optimizer='adadelta'):\n",
    "\n",
    "        self.model.compile(loss=['kld', self.loss], loss_weights=loss_weights, optimizer=optimizer)\n",
    "\n",
    "        print('Update interval', update_interval)\n",
    "        save_interval = int(x_counts.shape[0] / batch_size) * 5  # 5 epochs\n",
    "        print('Save interval', save_interval)\n",
    "\n",
    "        # Step 1: pretrain\n",
    "        if not self.pretrained and ae_weights is None:\n",
    "            print('...pretraining autoencoders using default hyper-parameters:')\n",
    "            print('   optimizer=\\'adam\\';   epochs=200')\n",
    "            self.pretrain(x, batch_size)\n",
    "            self.pretrained = True\n",
    "        elif ae_weights is not None:\n",
    "            self.autoencoder.load_weights(ae_weights)\n",
    "            print('ae_weights is loaded successfully.')\n",
    "\n",
    "        # Step 2: initialize cluster centers using k-means\n",
    "        print('Initializing cluster centers with k-means.')\n",
    "        kmeans = KMeans(n_clusters=self.n_clusters, n_init=20)\n",
    "        self.y_pred = kmeans.fit_predict(self.encoder.predict([x_counts, sf]))\n",
    "        y_pred_last = np.copy(self.y_pred)\n",
    "        self.model.get_layer(name='clustering').set_weights([kmeans.cluster_centers_])\n",
    "\n",
    "        # Step 3: deep clustering\n",
    "        # logging file\n",
    "        import csv, os\n",
    "        if not os.path.exists(save_dir):\n",
    "            os.makedirs(save_dir)\n",
    "        logfile = open(save_dir + '/scDeepCluster_log.csv', 'w')\n",
    "        logwriter = csv.DictWriter(logfile, fieldnames=['iter', 'acc', 'nmi', 'ari', 'L', 'Lc', 'Lr'])\n",
    "        logwriter.writeheader()\n",
    "\n",
    "        loss = [0, 0, 0]\n",
    "        index = 0\n",
    "        for ite in range(int(maxiter)):\n",
    "            if ite % update_interval == 0:\n",
    "                q, _ = self.model.predict([x_counts, sf], verbose=0)\n",
    "                p = self.target_distribution(q)  # update the auxiliary target distribution p\n",
    "\n",
    "                # evaluate the clustering performance\n",
    "                self.y_pred = q.argmax(1)\n",
    "                if y is not None:\n",
    "                    acc = np.round(cluster_acc(y, self.y_pred), 5)\n",
    "                    nmi = np.round(metrics.normalized_mutual_info_score(y, self.y_pred), 5)\n",
    "                    ari = np.round(metrics.adjusted_rand_score(y, self.y_pred), 5)\n",
    "                    loss = np.round(loss, 5)\n",
    "                    logwriter.writerow(dict(iter=ite, acc=acc, nmi=nmi, ari=ari, L=loss[0], Lc=loss[1], Lr=loss[2]))\n",
    "                    print('Iter-%d: ACC= %.4f, NMI= %.4f, ARI= %.4f;  L= %.5f, Lc= %.5f,  Lr= %.5f'\n",
    "                          % (ite, acc, nmi, ari, loss[0], loss[1], loss[2]))\n",
    "\n",
    "                # check stop criterion\n",
    "                delta_label = np.sum(self.y_pred != y_pred_last).astype(np.float32) / self.y_pred.shape[0]\n",
    "                y_pred_last = np.copy(self.y_pred)\n",
    "                if ite > 0 and delta_label < tol:\n",
    "                    print('delta_label ', delta_label, '< tol ', tol)\n",
    "                    print('Reached tolerance threshold. Stopping training.')\n",
    "                    logfile.close()\n",
    "                    break\n",
    "\n",
    "            # train on batch\n",
    "            if (index + 1) * batch_size > x_counts.shape[0]:\n",
    "                loss = self.model.train_on_batch(x=[x_counts[index * batch_size::], sf[index * batch_size:]],\n",
    "                                                 y=[p[index * batch_size::], raw_counts[index * batch_size::]])\n",
    "                index = 0\n",
    "            else:\n",
    "                loss = self.model.train_on_batch(x=[x_counts[index * batch_size:(index + 1) * batch_size], \n",
    "                                                    sf[index * batch_size:(index + 1) * batch_size]],\n",
    "                                                 y=[p[index * batch_size:(index + 1) * batch_size],\n",
    "                                                    raw_counts[index * batch_size:(index + 1) * batch_size]])\n",
    "                index += 1\n",
    "\n",
    "            # save intermediate model\n",
    "            if ite % save_interval == 0:\n",
    "                # save scDeepCluster model checkpoints\n",
    "                print('saving model to: ' + save_dir + '/scDeepCluster_model_' + str(ite) + '.h5')\n",
    "                self.model.save_weights(save_dir + '/scDeepCluster_model_' + str(ite) + '.h5')\n",
    "\n",
    "            ite += 1\n",
    "\n",
    "        # save the trained model\n",
    "        logfile.close()\n",
    "        print('saving model to: ' + save_dir + '/scDeepCluster_model_final.h5')\n",
    "        self.model.save_weights(save_dir + '/scDeepCluster_model_final.h5')\n",
    "        \n",
    "        return self.y_pred"
   ]
  },
  {
   "cell_type": "code",
   "execution_count": 2,
   "metadata": {},
   "outputs": [],
   "source": [
    "import glob2"
   ]
  },
  {
   "cell_type": "code",
   "execution_count": 3,
   "metadata": {},
   "outputs": [
    {
     "data": {
      "text/plain": [
       "['10X_PBMC_select_2100',\n",
       " 'mouse_ES_cell',\n",
       " 'worm_neuron_cell_select_2100',\n",
       " 'worm_neuron_cell',\n",
       " 'mouse_bladder_cell',\n",
       " 'mouse_ES_cell_select_2100',\n",
       " 'mouse_bladder_cell_select_2100',\n",
       " '10X_PBMC']"
      ]
     },
     "execution_count": 3,
     "metadata": {},
     "output_type": "execute_result"
    }
   ],
   "source": [
    "category = \"real_data\"# \"balanced\"#\"balanced_0.25\" #\n",
    "import glob2\n",
    "files = glob2.glob('../real_data/*.h5')\n",
    "files = [f[len(\"../real_data/\"):-3] for f in files]\n",
    "files"
   ]
  },
  {
   "cell_type": "code",
   "execution_count": null,
   "metadata": {},
   "outputs": [],
   "source": []
  },
  {
   "cell_type": "code",
   "execution_count": 7,
   "metadata": {
    "scrolled": true
   },
   "outputs": [
    {
     "name": "stdout",
     "output_type": "stream",
     "text": [
      ">>> Dataset mouse_ES_cell \n",
      "### Autoencoder: Successfully preprocessed 24175 genes and 2717 cells.\n",
      "Sample size\n",
      "(2717, 24047)\n",
      "(2717,)\n",
      "...Pretraining autoencoder...\n",
      "Pretrained weights are saved to ./ae_weights.h5\n",
      "Update interval 10\n",
      "Save interval 50\n",
      "Initializing cluster centers with k-means.\n"
     ]
    },
    {
     "name": "stderr",
     "output_type": "stream",
     "text": [
      "/opt/conda/lib/python3.7/site-packages/sklearn/utils/linear_assignment_.py:128: FutureWarning: The linear_assignment function is deprecated in 0.21 and will be removed from 0.23. Use scipy.optimize.linear_sum_assignment instead.\n",
      "  FutureWarning)\n"
     ]
    },
    {
     "name": "stdout",
     "output_type": "stream",
     "text": [
      "Iter-0: ACC= 0.8763, NMI= 0.8512, ARI= 0.8325;  L= 0.00000, Lc= 0.00000,  Lr= 0.00000\n",
      "saving model to: scDeepCluster/scDeepCluster_model_0.h5\n"
     ]
    },
    {
     "name": "stderr",
     "output_type": "stream",
     "text": [
      "/opt/conda/lib/python3.7/site-packages/sklearn/utils/linear_assignment_.py:128: FutureWarning: The linear_assignment function is deprecated in 0.21 and will be removed from 0.23. Use scipy.optimize.linear_sum_assignment instead.\n",
      "  FutureWarning)\n"
     ]
    },
    {
     "name": "stdout",
     "output_type": "stream",
     "text": [
      "Iter-10: ACC= 0.8771, NMI= 0.8561, ARI= 0.8349;  L= 1.00411, Lc= 0.06471,  Lr= 0.93941\n"
     ]
    },
    {
     "name": "stderr",
     "output_type": "stream",
     "text": [
      "/opt/conda/lib/python3.7/site-packages/sklearn/utils/linear_assignment_.py:128: FutureWarning: The linear_assignment function is deprecated in 0.21 and will be removed from 0.23. Use scipy.optimize.linear_sum_assignment instead.\n",
      "  FutureWarning)\n"
     ]
    },
    {
     "name": "stdout",
     "output_type": "stream",
     "text": [
      "Iter-20: ACC= 0.8778, NMI= 0.8595, ARI= 0.8370;  L= 1.02383, Lc= 0.07987,  Lr= 0.94396\n"
     ]
    },
    {
     "name": "stderr",
     "output_type": "stream",
     "text": [
      "/opt/conda/lib/python3.7/site-packages/sklearn/utils/linear_assignment_.py:128: FutureWarning: The linear_assignment function is deprecated in 0.21 and will be removed from 0.23. Use scipy.optimize.linear_sum_assignment instead.\n",
      "  FutureWarning)\n"
     ]
    },
    {
     "name": "stdout",
     "output_type": "stream",
     "text": [
      "Iter-30: ACC= 0.8778, NMI= 0.8592, ARI= 0.8370;  L= 0.71298, Lc= 0.10029,  Lr= 0.61270\n",
      "delta_label  0.000736105999263894 < tol  0.001\n",
      "Reached tolerance threshold. Stopping training.\n",
      "saving model to: scDeepCluster/scDeepCluster_model_final.h5\n"
     ]
    },
    {
     "name": "stderr",
     "output_type": "stream",
     "text": [
      "/opt/conda/lib/python3.7/site-packages/sklearn/utils/linear_assignment_.py:128: FutureWarning: The linear_assignment function is deprecated in 0.21 and will be removed from 0.23. Use scipy.optimize.linear_sum_assignment instead.\n",
      "  FutureWarning)\n"
     ]
    },
    {
     "name": "stdout",
     "output_type": "stream",
     "text": [
      "Final: ACC= 0.8778, NMI= 0.8592, ARI= 0.8370\n",
      "Clustering time: 4392 seconds.\n",
      ">>> Dataset worm_neuron_cell_select_2100 \n",
      "### Autoencoder: Successfully preprocessed 13488 genes and 2100 cells.\n",
      "Sample size\n",
      "(2100, 11955)\n",
      "(2100,)\n",
      "...Pretraining autoencoder...\n",
      "Pretrained weights are saved to ./ae_weights.h5\n",
      "Update interval 8\n",
      "Save interval 40\n",
      "Initializing cluster centers with k-means.\n"
     ]
    },
    {
     "name": "stderr",
     "output_type": "stream",
     "text": [
      "/opt/conda/lib/python3.7/site-packages/sklearn/utils/linear_assignment_.py:128: FutureWarning: The linear_assignment function is deprecated in 0.21 and will be removed from 0.23. Use scipy.optimize.linear_sum_assignment instead.\n",
      "  FutureWarning)\n"
     ]
    },
    {
     "name": "stdout",
     "output_type": "stream",
     "text": [
      "Iter-0: ACC= 0.3910, NMI= 0.3365, ARI= 0.1855;  L= 0.00000, Lc= 0.00000,  Lr= 0.00000\n",
      "saving model to: scDeepCluster/scDeepCluster_model_0.h5\n"
     ]
    },
    {
     "name": "stderr",
     "output_type": "stream",
     "text": [
      "/opt/conda/lib/python3.7/site-packages/sklearn/utils/linear_assignment_.py:128: FutureWarning: The linear_assignment function is deprecated in 0.21 and will be removed from 0.23. Use scipy.optimize.linear_sum_assignment instead.\n",
      "  FutureWarning)\n"
     ]
    },
    {
     "name": "stdout",
     "output_type": "stream",
     "text": [
      "Iter-8: ACC= 0.3914, NMI= 0.3346, ARI= 0.1859;  L= 0.06308, Lc= 0.02477,  Lr= 0.03831\n"
     ]
    },
    {
     "name": "stderr",
     "output_type": "stream",
     "text": [
      "/opt/conda/lib/python3.7/site-packages/sklearn/utils/linear_assignment_.py:128: FutureWarning: The linear_assignment function is deprecated in 0.21 and will be removed from 0.23. Use scipy.optimize.linear_sum_assignment instead.\n",
      "  FutureWarning)\n"
     ]
    },
    {
     "name": "stdout",
     "output_type": "stream",
     "text": [
      "Iter-16: ACC= 0.3924, NMI= 0.3376, ARI= 0.1887;  L= 0.07189, Lc= 0.03347,  Lr= 0.03842\n"
     ]
    },
    {
     "name": "stderr",
     "output_type": "stream",
     "text": [
      "/opt/conda/lib/python3.7/site-packages/sklearn/utils/linear_assignment_.py:128: FutureWarning: The linear_assignment function is deprecated in 0.21 and will be removed from 0.23. Use scipy.optimize.linear_sum_assignment instead.\n",
      "  FutureWarning)\n"
     ]
    },
    {
     "name": "stdout",
     "output_type": "stream",
     "text": [
      "Iter-24: ACC= 0.3943, NMI= 0.3375, ARI= 0.1908;  L= 0.07815, Lc= 0.04192,  Lr= 0.03623\n"
     ]
    },
    {
     "name": "stderr",
     "output_type": "stream",
     "text": [
      "/opt/conda/lib/python3.7/site-packages/sklearn/utils/linear_assignment_.py:128: FutureWarning: The linear_assignment function is deprecated in 0.21 and will be removed from 0.23. Use scipy.optimize.linear_sum_assignment instead.\n",
      "  FutureWarning)\n"
     ]
    },
    {
     "name": "stdout",
     "output_type": "stream",
     "text": [
      "Iter-32: ACC= 0.3943, NMI= 0.3338, ARI= 0.1904;  L= 0.08884, Lc= 0.04930,  Lr= 0.03954\n"
     ]
    },
    {
     "name": "stderr",
     "output_type": "stream",
     "text": [
      "/opt/conda/lib/python3.7/site-packages/sklearn/utils/linear_assignment_.py:128: FutureWarning: The linear_assignment function is deprecated in 0.21 and will be removed from 0.23. Use scipy.optimize.linear_sum_assignment instead.\n",
      "  FutureWarning)\n"
     ]
    },
    {
     "name": "stdout",
     "output_type": "stream",
     "text": [
      "Iter-40: ACC= 0.3948, NMI= 0.3331, ARI= 0.1915;  L= 0.08545, Lc= 0.04663,  Lr= 0.03882\n",
      "saving model to: scDeepCluster/scDeepCluster_model_40.h5\n"
     ]
    },
    {
     "name": "stderr",
     "output_type": "stream",
     "text": [
      "/opt/conda/lib/python3.7/site-packages/sklearn/utils/linear_assignment_.py:128: FutureWarning: The linear_assignment function is deprecated in 0.21 and will be removed from 0.23. Use scipy.optimize.linear_sum_assignment instead.\n",
      "  FutureWarning)\n"
     ]
    },
    {
     "name": "stdout",
     "output_type": "stream",
     "text": [
      "Iter-48: ACC= 0.3971, NMI= 0.3353, ARI= 0.1942;  L= 0.09174, Lc= 0.05003,  Lr= 0.04171\n"
     ]
    },
    {
     "name": "stderr",
     "output_type": "stream",
     "text": [
      "/opt/conda/lib/python3.7/site-packages/sklearn/utils/linear_assignment_.py:128: FutureWarning: The linear_assignment function is deprecated in 0.21 and will be removed from 0.23. Use scipy.optimize.linear_sum_assignment instead.\n",
      "  FutureWarning)\n"
     ]
    },
    {
     "name": "stdout",
     "output_type": "stream",
     "text": [
      "Iter-56: ACC= 0.3971, NMI= 0.3347, ARI= 0.1940;  L= 0.09754, Lc= 0.05709,  Lr= 0.04045\n"
     ]
    },
    {
     "name": "stderr",
     "output_type": "stream",
     "text": [
      "/opt/conda/lib/python3.7/site-packages/sklearn/utils/linear_assignment_.py:128: FutureWarning: The linear_assignment function is deprecated in 0.21 and will be removed from 0.23. Use scipy.optimize.linear_sum_assignment instead.\n",
      "  FutureWarning)\n"
     ]
    },
    {
     "name": "stdout",
     "output_type": "stream",
     "text": [
      "Iter-64: ACC= 0.3948, NMI= 0.3294, ARI= 0.1926;  L= 0.10109, Lc= 0.05861,  Lr= 0.04248\n"
     ]
    },
    {
     "name": "stderr",
     "output_type": "stream",
     "text": [
      "/opt/conda/lib/python3.7/site-packages/sklearn/utils/linear_assignment_.py:128: FutureWarning: The linear_assignment function is deprecated in 0.21 and will be removed from 0.23. Use scipy.optimize.linear_sum_assignment instead.\n",
      "  FutureWarning)\n"
     ]
    },
    {
     "name": "stdout",
     "output_type": "stream",
     "text": [
      "Iter-72: ACC= 0.3924, NMI= 0.3241, ARI= 0.1928;  L= 0.11596, Lc= 0.07082,  Lr= 0.04513\n"
     ]
    },
    {
     "name": "stderr",
     "output_type": "stream",
     "text": [
      "/opt/conda/lib/python3.7/site-packages/sklearn/utils/linear_assignment_.py:128: FutureWarning: The linear_assignment function is deprecated in 0.21 and will be removed from 0.23. Use scipy.optimize.linear_sum_assignment instead.\n",
      "  FutureWarning)\n"
     ]
    },
    {
     "name": "stdout",
     "output_type": "stream",
     "text": [
      "Iter-80: ACC= 0.3919, NMI= 0.3228, ARI= 0.1930;  L= 0.10675, Lc= 0.06075,  Lr= 0.04599\n",
      "saving model to: scDeepCluster/scDeepCluster_model_80.h5\n"
     ]
    },
    {
     "name": "stderr",
     "output_type": "stream",
     "text": [
      "/opt/conda/lib/python3.7/site-packages/sklearn/utils/linear_assignment_.py:128: FutureWarning: The linear_assignment function is deprecated in 0.21 and will be removed from 0.23. Use scipy.optimize.linear_sum_assignment instead.\n",
      "  FutureWarning)\n"
     ]
    },
    {
     "name": "stdout",
     "output_type": "stream",
     "text": [
      "Iter-88: ACC= 0.3933, NMI= 0.3241, ARI= 0.1941;  L= 0.11709, Lc= 0.06983,  Lr= 0.04726\n"
     ]
    },
    {
     "name": "stderr",
     "output_type": "stream",
     "text": [
      "/opt/conda/lib/python3.7/site-packages/sklearn/utils/linear_assignment_.py:128: FutureWarning: The linear_assignment function is deprecated in 0.21 and will be removed from 0.23. Use scipy.optimize.linear_sum_assignment instead.\n",
      "  FutureWarning)\n"
     ]
    },
    {
     "name": "stdout",
     "output_type": "stream",
     "text": [
      "Iter-96: ACC= 0.3943, NMI= 0.3234, ARI= 0.1944;  L= 0.11915, Lc= 0.07395,  Lr= 0.04520\n"
     ]
    },
    {
     "name": "stderr",
     "output_type": "stream",
     "text": [
      "/opt/conda/lib/python3.7/site-packages/sklearn/utils/linear_assignment_.py:128: FutureWarning: The linear_assignment function is deprecated in 0.21 and will be removed from 0.23. Use scipy.optimize.linear_sum_assignment instead.\n",
      "  FutureWarning)\n"
     ]
    },
    {
     "name": "stdout",
     "output_type": "stream",
     "text": [
      "Iter-104: ACC= 0.3938, NMI= 0.3219, ARI= 0.1939;  L= 0.13336, Lc= 0.08144,  Lr= 0.05192\n"
     ]
    },
    {
     "name": "stderr",
     "output_type": "stream",
     "text": [
      "/opt/conda/lib/python3.7/site-packages/sklearn/utils/linear_assignment_.py:128: FutureWarning: The linear_assignment function is deprecated in 0.21 and will be removed from 0.23. Use scipy.optimize.linear_sum_assignment instead.\n",
      "  FutureWarning)\n"
     ]
    },
    {
     "name": "stdout",
     "output_type": "stream",
     "text": [
      "Iter-112: ACC= 0.3952, NMI= 0.3230, ARI= 0.1963;  L= 0.12859, Lc= 0.07750,  Lr= 0.05109\n"
     ]
    },
    {
     "name": "stderr",
     "output_type": "stream",
     "text": [
      "/opt/conda/lib/python3.7/site-packages/sklearn/utils/linear_assignment_.py:128: FutureWarning: The linear_assignment function is deprecated in 0.21 and will be removed from 0.23. Use scipy.optimize.linear_sum_assignment instead.\n",
      "  FutureWarning)\n"
     ]
    },
    {
     "name": "stdout",
     "output_type": "stream",
     "text": [
      "Iter-120: ACC= 0.3957, NMI= 0.3250, ARI= 0.1976;  L= 0.13970, Lc= 0.08279,  Lr= 0.05691\n",
      "saving model to: scDeepCluster/scDeepCluster_model_120.h5\n"
     ]
    },
    {
     "name": "stderr",
     "output_type": "stream",
     "text": [
      "/opt/conda/lib/python3.7/site-packages/sklearn/utils/linear_assignment_.py:128: FutureWarning: The linear_assignment function is deprecated in 0.21 and will be removed from 0.23. Use scipy.optimize.linear_sum_assignment instead.\n",
      "  FutureWarning)\n"
     ]
    },
    {
     "name": "stdout",
     "output_type": "stream",
     "text": [
      "Iter-128: ACC= 0.3967, NMI= 0.3282, ARI= 0.1988;  L= 0.13356, Lc= 0.07992,  Lr= 0.05364\n"
     ]
    },
    {
     "name": "stderr",
     "output_type": "stream",
     "text": [
      "/opt/conda/lib/python3.7/site-packages/sklearn/utils/linear_assignment_.py:128: FutureWarning: The linear_assignment function is deprecated in 0.21 and will be removed from 0.23. Use scipy.optimize.linear_sum_assignment instead.\n",
      "  FutureWarning)\n"
     ]
    },
    {
     "name": "stdout",
     "output_type": "stream",
     "text": [
      "Iter-136: ACC= 0.3957, NMI= 0.3268, ARI= 0.1981;  L= 0.14410, Lc= 0.08509,  Lr= 0.05901\n"
     ]
    },
    {
     "name": "stderr",
     "output_type": "stream",
     "text": [
      "/opt/conda/lib/python3.7/site-packages/sklearn/utils/linear_assignment_.py:128: FutureWarning: The linear_assignment function is deprecated in 0.21 and will be removed from 0.23. Use scipy.optimize.linear_sum_assignment instead.\n",
      "  FutureWarning)\n"
     ]
    },
    {
     "name": "stdout",
     "output_type": "stream",
     "text": [
      "Iter-144: ACC= 0.3924, NMI= 0.3224, ARI= 0.1967;  L= 0.15325, Lc= 0.09291,  Lr= 0.06034\n"
     ]
    },
    {
     "name": "stderr",
     "output_type": "stream",
     "text": [
      "/opt/conda/lib/python3.7/site-packages/sklearn/utils/linear_assignment_.py:128: FutureWarning: The linear_assignment function is deprecated in 0.21 and will be removed from 0.23. Use scipy.optimize.linear_sum_assignment instead.\n",
      "  FutureWarning)\n"
     ]
    },
    {
     "name": "stdout",
     "output_type": "stream",
     "text": [
      "Iter-152: ACC= 0.3929, NMI= 0.3208, ARI= 0.1970;  L= 0.14473, Lc= 0.07979,  Lr= 0.06494\n"
     ]
    },
    {
     "name": "stderr",
     "output_type": "stream",
     "text": [
      "/opt/conda/lib/python3.7/site-packages/sklearn/utils/linear_assignment_.py:128: FutureWarning: The linear_assignment function is deprecated in 0.21 and will be removed from 0.23. Use scipy.optimize.linear_sum_assignment instead.\n",
      "  FutureWarning)\n"
     ]
    },
    {
     "name": "stdout",
     "output_type": "stream",
     "text": [
      "Iter-160: ACC= 0.3929, NMI= 0.3231, ARI= 0.1977;  L= 0.14851, Lc= 0.08297,  Lr= 0.06554\n",
      "saving model to: scDeepCluster/scDeepCluster_model_160.h5\n"
     ]
    },
    {
     "name": "stderr",
     "output_type": "stream",
     "text": [
      "/opt/conda/lib/python3.7/site-packages/sklearn/utils/linear_assignment_.py:128: FutureWarning: The linear_assignment function is deprecated in 0.21 and will be removed from 0.23. Use scipy.optimize.linear_sum_assignment instead.\n",
      "  FutureWarning)\n"
     ]
    },
    {
     "name": "stdout",
     "output_type": "stream",
     "text": [
      "Iter-168: ACC= 0.3924, NMI= 0.3186, ARI= 0.1968;  L= 0.14070, Lc= 0.08001,  Lr= 0.06070\n"
     ]
    },
    {
     "name": "stderr",
     "output_type": "stream",
     "text": [
      "/opt/conda/lib/python3.7/site-packages/sklearn/utils/linear_assignment_.py:128: FutureWarning: The linear_assignment function is deprecated in 0.21 and will be removed from 0.23. Use scipy.optimize.linear_sum_assignment instead.\n",
      "  FutureWarning)\n"
     ]
    },
    {
     "name": "stdout",
     "output_type": "stream",
     "text": [
      "Iter-176: ACC= 0.3924, NMI= 0.3184, ARI= 0.1966;  L= 0.14715, Lc= 0.07963,  Lr= 0.06752\n"
     ]
    },
    {
     "name": "stderr",
     "output_type": "stream",
     "text": [
      "/opt/conda/lib/python3.7/site-packages/sklearn/utils/linear_assignment_.py:128: FutureWarning: The linear_assignment function is deprecated in 0.21 and will be removed from 0.23. Use scipy.optimize.linear_sum_assignment instead.\n",
      "  FutureWarning)\n"
     ]
    },
    {
     "name": "stdout",
     "output_type": "stream",
     "text": [
      "Iter-184: ACC= 0.3914, NMI= 0.3181, ARI= 0.1960;  L= 0.14546, Lc= 0.07833,  Lr= 0.06713\n"
     ]
    },
    {
     "name": "stderr",
     "output_type": "stream",
     "text": [
      "/opt/conda/lib/python3.7/site-packages/sklearn/utils/linear_assignment_.py:128: FutureWarning: The linear_assignment function is deprecated in 0.21 and will be removed from 0.23. Use scipy.optimize.linear_sum_assignment instead.\n",
      "  FutureWarning)\n"
     ]
    },
    {
     "name": "stdout",
     "output_type": "stream",
     "text": [
      "Iter-192: ACC= 0.3929, NMI= 0.3168, ARI= 0.1965;  L= 0.15571, Lc= 0.08180,  Lr= 0.07391\n"
     ]
    },
    {
     "name": "stderr",
     "output_type": "stream",
     "text": [
      "/opt/conda/lib/python3.7/site-packages/sklearn/utils/linear_assignment_.py:128: FutureWarning: The linear_assignment function is deprecated in 0.21 and will be removed from 0.23. Use scipy.optimize.linear_sum_assignment instead.\n",
      "  FutureWarning)\n"
     ]
    },
    {
     "name": "stdout",
     "output_type": "stream",
     "text": [
      "Iter-200: ACC= 0.3929, NMI= 0.3185, ARI= 0.1974;  L= 0.13780, Lc= 0.07102,  Lr= 0.06678\n",
      "saving model to: scDeepCluster/scDeepCluster_model_200.h5\n"
     ]
    },
    {
     "name": "stderr",
     "output_type": "stream",
     "text": [
      "/opt/conda/lib/python3.7/site-packages/sklearn/utils/linear_assignment_.py:128: FutureWarning: The linear_assignment function is deprecated in 0.21 and will be removed from 0.23. Use scipy.optimize.linear_sum_assignment instead.\n",
      "  FutureWarning)\n"
     ]
    },
    {
     "name": "stdout",
     "output_type": "stream",
     "text": [
      "Iter-208: ACC= 0.3914, NMI= 0.3173, ARI= 0.1967;  L= 0.14898, Lc= 0.07725,  Lr= 0.07173\n"
     ]
    },
    {
     "name": "stderr",
     "output_type": "stream",
     "text": [
      "/opt/conda/lib/python3.7/site-packages/sklearn/utils/linear_assignment_.py:128: FutureWarning: The linear_assignment function is deprecated in 0.21 and will be removed from 0.23. Use scipy.optimize.linear_sum_assignment instead.\n",
      "  FutureWarning)\n"
     ]
    },
    {
     "name": "stdout",
     "output_type": "stream",
     "text": [
      "Iter-216: ACC= 0.3914, NMI= 0.3130, ARI= 0.1958;  L= 0.11872, Lc= 0.04613,  Lr= 0.07259\n"
     ]
    },
    {
     "name": "stderr",
     "output_type": "stream",
     "text": [
      "/opt/conda/lib/python3.7/site-packages/sklearn/utils/linear_assignment_.py:128: FutureWarning: The linear_assignment function is deprecated in 0.21 and will be removed from 0.23. Use scipy.optimize.linear_sum_assignment instead.\n",
      "  FutureWarning)\n"
     ]
    },
    {
     "name": "stdout",
     "output_type": "stream",
     "text": [
      "Iter-224: ACC= 0.3914, NMI= 0.3139, ARI= 0.1962;  L= 0.13847, Lc= 0.06405,  Lr= 0.07442\n"
     ]
    },
    {
     "name": "stderr",
     "output_type": "stream",
     "text": [
      "/opt/conda/lib/python3.7/site-packages/sklearn/utils/linear_assignment_.py:128: FutureWarning: The linear_assignment function is deprecated in 0.21 and will be removed from 0.23. Use scipy.optimize.linear_sum_assignment instead.\n",
      "  FutureWarning)\n"
     ]
    },
    {
     "name": "stdout",
     "output_type": "stream",
     "text": [
      "Iter-232: ACC= 0.3914, NMI= 0.3168, ARI= 0.1972;  L= 0.14076, Lc= 0.06673,  Lr= 0.07403\n"
     ]
    },
    {
     "name": "stderr",
     "output_type": "stream",
     "text": [
      "/opt/conda/lib/python3.7/site-packages/sklearn/utils/linear_assignment_.py:128: FutureWarning: The linear_assignment function is deprecated in 0.21 and will be removed from 0.23. Use scipy.optimize.linear_sum_assignment instead.\n",
      "  FutureWarning)\n"
     ]
    },
    {
     "name": "stdout",
     "output_type": "stream",
     "text": [
      "Iter-240: ACC= 0.3905, NMI= 0.3139, ARI= 0.1958;  L= 0.12941, Lc= 0.06334,  Lr= 0.06607\n",
      "saving model to: scDeepCluster/scDeepCluster_model_240.h5\n"
     ]
    },
    {
     "name": "stderr",
     "output_type": "stream",
     "text": [
      "/opt/conda/lib/python3.7/site-packages/sklearn/utils/linear_assignment_.py:128: FutureWarning: The linear_assignment function is deprecated in 0.21 and will be removed from 0.23. Use scipy.optimize.linear_sum_assignment instead.\n",
      "  FutureWarning)\n",
      "/opt/conda/lib/python3.7/site-packages/sklearn/utils/linear_assignment_.py:128: FutureWarning: The linear_assignment function is deprecated in 0.21 and will be removed from 0.23. Use scipy.optimize.linear_sum_assignment instead.\n",
      "  FutureWarning)\n"
     ]
    },
    {
     "name": "stdout",
     "output_type": "stream",
     "text": [
      "Iter-248: ACC= 0.3905, NMI= 0.3133, ARI= 0.1958;  L= 0.13421, Lc= 0.06139,  Lr= 0.07282\n",
      "delta_label  0.0009523809523809524 < tol  0.001\n",
      "Reached tolerance threshold. Stopping training.\n",
      "saving model to: scDeepCluster/scDeepCluster_model_final.h5\n",
      "Final: ACC= 0.3905, NMI= 0.3133, ARI= 0.1958\n",
      "Clustering time: 2087 seconds.\n",
      ">>> Dataset worm_neuron_cell \n",
      "### Autoencoder: Successfully preprocessed 13488 genes and 4186 cells.\n",
      "Sample size\n",
      "(4186, 13488)\n",
      "(4186,)\n",
      "...Pretraining autoencoder...\n",
      "Pretrained weights are saved to ./ae_weights.h5\n",
      "Update interval 16\n",
      "Save interval 80\n",
      "Initializing cluster centers with k-means.\n"
     ]
    },
    {
     "name": "stderr",
     "output_type": "stream",
     "text": [
      "/opt/conda/lib/python3.7/site-packages/sklearn/utils/linear_assignment_.py:128: FutureWarning: The linear_assignment function is deprecated in 0.21 and will be removed from 0.23. Use scipy.optimize.linear_sum_assignment instead.\n",
      "  FutureWarning)\n"
     ]
    },
    {
     "name": "stdout",
     "output_type": "stream",
     "text": [
      "Iter-0: ACC= 0.4417, NMI= 0.3463, ARI= 0.2392;  L= 0.00000, Lc= 0.00000,  Lr= 0.00000\n",
      "saving model to: scDeepCluster/scDeepCluster_model_0.h5\n"
     ]
    },
    {
     "name": "stderr",
     "output_type": "stream",
     "text": [
      "/opt/conda/lib/python3.7/site-packages/sklearn/utils/linear_assignment_.py:128: FutureWarning: The linear_assignment function is deprecated in 0.21 and will be removed from 0.23. Use scipy.optimize.linear_sum_assignment instead.\n",
      "  FutureWarning)\n"
     ]
    },
    {
     "name": "stdout",
     "output_type": "stream",
     "text": [
      "Iter-16: ACC= 0.4491, NMI= 0.3594, ARI= 0.2536;  L= 0.06220, Lc= 0.01934,  Lr= 0.04287\n"
     ]
    },
    {
     "name": "stderr",
     "output_type": "stream",
     "text": [
      "/opt/conda/lib/python3.7/site-packages/sklearn/utils/linear_assignment_.py:128: FutureWarning: The linear_assignment function is deprecated in 0.21 and will be removed from 0.23. Use scipy.optimize.linear_sum_assignment instead.\n",
      "  FutureWarning)\n"
     ]
    },
    {
     "name": "stdout",
     "output_type": "stream",
     "text": [
      "Iter-32: ACC= 0.4556, NMI= 0.3717, ARI= 0.2660;  L= 0.07172, Lc= 0.02766,  Lr= 0.04406\n"
     ]
    },
    {
     "name": "stderr",
     "output_type": "stream",
     "text": [
      "/opt/conda/lib/python3.7/site-packages/sklearn/utils/linear_assignment_.py:128: FutureWarning: The linear_assignment function is deprecated in 0.21 and will be removed from 0.23. Use scipy.optimize.linear_sum_assignment instead.\n",
      "  FutureWarning)\n"
     ]
    },
    {
     "name": "stdout",
     "output_type": "stream",
     "text": [
      "Iter-48: ACC= 0.4565, NMI= 0.3714, ARI= 0.2686;  L= 0.08010, Lc= 0.03371,  Lr= 0.04639\n"
     ]
    },
    {
     "name": "stderr",
     "output_type": "stream",
     "text": [
      "/opt/conda/lib/python3.7/site-packages/sklearn/utils/linear_assignment_.py:128: FutureWarning: The linear_assignment function is deprecated in 0.21 and will be removed from 0.23. Use scipy.optimize.linear_sum_assignment instead.\n",
      "  FutureWarning)\n"
     ]
    },
    {
     "name": "stdout",
     "output_type": "stream",
     "text": [
      "Iter-64: ACC= 0.4580, NMI= 0.3751, ARI= 0.2714;  L= 0.09433, Lc= 0.04731,  Lr= 0.04702\n"
     ]
    },
    {
     "name": "stderr",
     "output_type": "stream",
     "text": [
      "/opt/conda/lib/python3.7/site-packages/sklearn/utils/linear_assignment_.py:128: FutureWarning: The linear_assignment function is deprecated in 0.21 and will be removed from 0.23. Use scipy.optimize.linear_sum_assignment instead.\n",
      "  FutureWarning)\n"
     ]
    },
    {
     "name": "stdout",
     "output_type": "stream",
     "text": [
      "Iter-80: ACC= 0.4577, NMI= 0.3760, ARI= 0.2712;  L= 0.09740, Lc= 0.04893,  Lr= 0.04847\n",
      "saving model to: scDeepCluster/scDeepCluster_model_80.h5\n"
     ]
    },
    {
     "name": "stderr",
     "output_type": "stream",
     "text": [
      "/opt/conda/lib/python3.7/site-packages/sklearn/utils/linear_assignment_.py:128: FutureWarning: The linear_assignment function is deprecated in 0.21 and will be removed from 0.23. Use scipy.optimize.linear_sum_assignment instead.\n",
      "  FutureWarning)\n"
     ]
    },
    {
     "name": "stdout",
     "output_type": "stream",
     "text": [
      "Iter-96: ACC= 0.4587, NMI= 0.3804, ARI= 0.2731;  L= 0.11088, Lc= 0.05581,  Lr= 0.05507\n"
     ]
    },
    {
     "name": "stderr",
     "output_type": "stream",
     "text": [
      "/opt/conda/lib/python3.7/site-packages/sklearn/utils/linear_assignment_.py:128: FutureWarning: The linear_assignment function is deprecated in 0.21 and will be removed from 0.23. Use scipy.optimize.linear_sum_assignment instead.\n",
      "  FutureWarning)\n"
     ]
    },
    {
     "name": "stdout",
     "output_type": "stream",
     "text": [
      "Iter-112: ACC= 0.4601, NMI= 0.3841, ARI= 0.2754;  L= 0.10841, Lc= 0.05636,  Lr= 0.05205\n"
     ]
    },
    {
     "name": "stderr",
     "output_type": "stream",
     "text": [
      "/opt/conda/lib/python3.7/site-packages/sklearn/utils/linear_assignment_.py:128: FutureWarning: The linear_assignment function is deprecated in 0.21 and will be removed from 0.23. Use scipy.optimize.linear_sum_assignment instead.\n",
      "  FutureWarning)\n"
     ]
    },
    {
     "name": "stdout",
     "output_type": "stream",
     "text": [
      "Iter-128: ACC= 0.4603, NMI= 0.3858, ARI= 0.2760;  L= 0.12485, Lc= 0.06254,  Lr= 0.06231\n"
     ]
    },
    {
     "name": "stderr",
     "output_type": "stream",
     "text": [
      "/opt/conda/lib/python3.7/site-packages/sklearn/utils/linear_assignment_.py:128: FutureWarning: The linear_assignment function is deprecated in 0.21 and will be removed from 0.23. Use scipy.optimize.linear_sum_assignment instead.\n",
      "  FutureWarning)\n"
     ]
    },
    {
     "name": "stdout",
     "output_type": "stream",
     "text": [
      "Iter-144: ACC= 0.4560, NMI= 0.3841, ARI= 0.2723;  L= 0.12184, Lc= 0.06068,  Lr= 0.06116\n"
     ]
    },
    {
     "name": "stderr",
     "output_type": "stream",
     "text": [
      "/opt/conda/lib/python3.7/site-packages/sklearn/utils/linear_assignment_.py:128: FutureWarning: The linear_assignment function is deprecated in 0.21 and will be removed from 0.23. Use scipy.optimize.linear_sum_assignment instead.\n",
      "  FutureWarning)\n"
     ]
    },
    {
     "name": "stdout",
     "output_type": "stream",
     "text": [
      "Iter-160: ACC= 0.4575, NMI= 0.3900, ARI= 0.2745;  L= 0.12668, Lc= 0.06335,  Lr= 0.06333\n",
      "saving model to: scDeepCluster/scDeepCluster_model_160.h5\n"
     ]
    },
    {
     "name": "stderr",
     "output_type": "stream",
     "text": [
      "/opt/conda/lib/python3.7/site-packages/sklearn/utils/linear_assignment_.py:128: FutureWarning: The linear_assignment function is deprecated in 0.21 and will be removed from 0.23. Use scipy.optimize.linear_sum_assignment instead.\n",
      "  FutureWarning)\n"
     ]
    },
    {
     "name": "stdout",
     "output_type": "stream",
     "text": [
      "Iter-176: ACC= 0.4529, NMI= 0.3851, ARI= 0.2709;  L= 0.13555, Lc= 0.07050,  Lr= 0.06505\n"
     ]
    },
    {
     "name": "stderr",
     "output_type": "stream",
     "text": [
      "/opt/conda/lib/python3.7/site-packages/sklearn/utils/linear_assignment_.py:128: FutureWarning: The linear_assignment function is deprecated in 0.21 and will be removed from 0.23. Use scipy.optimize.linear_sum_assignment instead.\n",
      "  FutureWarning)\n"
     ]
    },
    {
     "name": "stdout",
     "output_type": "stream",
     "text": [
      "Iter-192: ACC= 0.4462, NMI= 0.3795, ARI= 0.2639;  L= 0.12834, Lc= 0.06454,  Lr= 0.06379\n"
     ]
    },
    {
     "name": "stderr",
     "output_type": "stream",
     "text": [
      "/opt/conda/lib/python3.7/site-packages/sklearn/utils/linear_assignment_.py:128: FutureWarning: The linear_assignment function is deprecated in 0.21 and will be removed from 0.23. Use scipy.optimize.linear_sum_assignment instead.\n",
      "  FutureWarning)\n"
     ]
    },
    {
     "name": "stdout",
     "output_type": "stream",
     "text": [
      "Iter-208: ACC= 0.4436, NMI= 0.3770, ARI= 0.2627;  L= 0.12152, Lc= 0.06884,  Lr= 0.05268\n"
     ]
    },
    {
     "name": "stderr",
     "output_type": "stream",
     "text": [
      "/opt/conda/lib/python3.7/site-packages/sklearn/utils/linear_assignment_.py:128: FutureWarning: The linear_assignment function is deprecated in 0.21 and will be removed from 0.23. Use scipy.optimize.linear_sum_assignment instead.\n",
      "  FutureWarning)\n"
     ]
    },
    {
     "name": "stdout",
     "output_type": "stream",
     "text": [
      "Iter-224: ACC= 0.4420, NMI= 0.3759, ARI= 0.2618;  L= 0.12069, Lc= 0.06855,  Lr= 0.05214\n"
     ]
    },
    {
     "name": "stderr",
     "output_type": "stream",
     "text": [
      "/opt/conda/lib/python3.7/site-packages/sklearn/utils/linear_assignment_.py:128: FutureWarning: The linear_assignment function is deprecated in 0.21 and will be removed from 0.23. Use scipy.optimize.linear_sum_assignment instead.\n",
      "  FutureWarning)\n"
     ]
    },
    {
     "name": "stdout",
     "output_type": "stream",
     "text": [
      "Iter-240: ACC= 0.4424, NMI= 0.3795, ARI= 0.2637;  L= 0.12245, Lc= 0.06817,  Lr= 0.05428\n",
      "saving model to: scDeepCluster/scDeepCluster_model_240.h5\n"
     ]
    },
    {
     "name": "stderr",
     "output_type": "stream",
     "text": [
      "/opt/conda/lib/python3.7/site-packages/sklearn/utils/linear_assignment_.py:128: FutureWarning: The linear_assignment function is deprecated in 0.21 and will be removed from 0.23. Use scipy.optimize.linear_sum_assignment instead.\n",
      "  FutureWarning)\n"
     ]
    },
    {
     "name": "stdout",
     "output_type": "stream",
     "text": [
      "Iter-256: ACC= 0.4398, NMI= 0.3786, ARI= 0.2609;  L= 0.12312, Lc= 0.06568,  Lr= 0.05744\n"
     ]
    },
    {
     "name": "stderr",
     "output_type": "stream",
     "text": [
      "/opt/conda/lib/python3.7/site-packages/sklearn/utils/linear_assignment_.py:128: FutureWarning: The linear_assignment function is deprecated in 0.21 and will be removed from 0.23. Use scipy.optimize.linear_sum_assignment instead.\n",
      "  FutureWarning)\n"
     ]
    },
    {
     "name": "stdout",
     "output_type": "stream",
     "text": [
      "Iter-272: ACC= 0.4427, NMI= 0.3873, ARI= 0.2660;  L= 0.13272, Lc= 0.05567,  Lr= 0.07705\n"
     ]
    },
    {
     "name": "stderr",
     "output_type": "stream",
     "text": [
      "/opt/conda/lib/python3.7/site-packages/sklearn/utils/linear_assignment_.py:128: FutureWarning: The linear_assignment function is deprecated in 0.21 and will be removed from 0.23. Use scipy.optimize.linear_sum_assignment instead.\n",
      "  FutureWarning)\n"
     ]
    },
    {
     "name": "stdout",
     "output_type": "stream",
     "text": [
      "Iter-288: ACC= 0.4424, NMI= 0.3863, ARI= 0.2656;  L= 0.12111, Lc= 0.05242,  Lr= 0.06869\n"
     ]
    },
    {
     "name": "stderr",
     "output_type": "stream",
     "text": [
      "/opt/conda/lib/python3.7/site-packages/sklearn/utils/linear_assignment_.py:128: FutureWarning: The linear_assignment function is deprecated in 0.21 and will be removed from 0.23. Use scipy.optimize.linear_sum_assignment instead.\n",
      "  FutureWarning)\n"
     ]
    },
    {
     "name": "stdout",
     "output_type": "stream",
     "text": [
      "Iter-304: ACC= 0.4415, NMI= 0.3888, ARI= 0.2655;  L= 0.12839, Lc= 0.05859,  Lr= 0.06980\n"
     ]
    },
    {
     "name": "stderr",
     "output_type": "stream",
     "text": [
      "/opt/conda/lib/python3.7/site-packages/sklearn/utils/linear_assignment_.py:128: FutureWarning: The linear_assignment function is deprecated in 0.21 and will be removed from 0.23. Use scipy.optimize.linear_sum_assignment instead.\n",
      "  FutureWarning)\n"
     ]
    },
    {
     "name": "stdout",
     "output_type": "stream",
     "text": [
      "Iter-320: ACC= 0.4417, NMI= 0.3893, ARI= 0.2659;  L= 0.12343, Lc= 0.05213,  Lr= 0.07131\n",
      "saving model to: scDeepCluster/scDeepCluster_model_320.h5\n"
     ]
    },
    {
     "name": "stderr",
     "output_type": "stream",
     "text": [
      "/opt/conda/lib/python3.7/site-packages/sklearn/utils/linear_assignment_.py:128: FutureWarning: The linear_assignment function is deprecated in 0.21 and will be removed from 0.23. Use scipy.optimize.linear_sum_assignment instead.\n",
      "  FutureWarning)\n"
     ]
    },
    {
     "name": "stdout",
     "output_type": "stream",
     "text": [
      "Iter-336: ACC= 0.4391, NMI= 0.3867, ARI= 0.2631;  L= 0.12813, Lc= 0.05777,  Lr= 0.07036\n"
     ]
    },
    {
     "name": "stderr",
     "output_type": "stream",
     "text": [
      "/opt/conda/lib/python3.7/site-packages/sklearn/utils/linear_assignment_.py:128: FutureWarning: The linear_assignment function is deprecated in 0.21 and will be removed from 0.23. Use scipy.optimize.linear_sum_assignment instead.\n",
      "  FutureWarning)\n"
     ]
    },
    {
     "name": "stdout",
     "output_type": "stream",
     "text": [
      "Iter-352: ACC= 0.4400, NMI= 0.3877, ARI= 0.2642;  L= 0.11605, Lc= 0.04818,  Lr= 0.06787\n"
     ]
    },
    {
     "name": "stderr",
     "output_type": "stream",
     "text": [
      "/opt/conda/lib/python3.7/site-packages/sklearn/utils/linear_assignment_.py:128: FutureWarning: The linear_assignment function is deprecated in 0.21 and will be removed from 0.23. Use scipy.optimize.linear_sum_assignment instead.\n",
      "  FutureWarning)\n"
     ]
    },
    {
     "name": "stdout",
     "output_type": "stream",
     "text": [
      "Iter-368: ACC= 0.4393, NMI= 0.3871, ARI= 0.2633;  L= 0.11685, Lc= 0.04610,  Lr= 0.07075\n"
     ]
    },
    {
     "name": "stderr",
     "output_type": "stream",
     "text": [
      "/opt/conda/lib/python3.7/site-packages/sklearn/utils/linear_assignment_.py:128: FutureWarning: The linear_assignment function is deprecated in 0.21 and will be removed from 0.23. Use scipy.optimize.linear_sum_assignment instead.\n",
      "  FutureWarning)\n"
     ]
    },
    {
     "name": "stdout",
     "output_type": "stream",
     "text": [
      "Iter-384: ACC= 0.4391, NMI= 0.3887, ARI= 0.2634;  L= 0.11418, Lc= 0.04907,  Lr= 0.06511\n"
     ]
    },
    {
     "name": "stderr",
     "output_type": "stream",
     "text": [
      "/opt/conda/lib/python3.7/site-packages/sklearn/utils/linear_assignment_.py:128: FutureWarning: The linear_assignment function is deprecated in 0.21 and will be removed from 0.23. Use scipy.optimize.linear_sum_assignment instead.\n",
      "  FutureWarning)\n"
     ]
    },
    {
     "name": "stdout",
     "output_type": "stream",
     "text": [
      "Iter-400: ACC= 0.4396, NMI= 0.3887, ARI= 0.2640;  L= 0.12301, Lc= 0.05057,  Lr= 0.07245\n",
      "saving model to: scDeepCluster/scDeepCluster_model_400.h5\n"
     ]
    },
    {
     "name": "stderr",
     "output_type": "stream",
     "text": [
      "/opt/conda/lib/python3.7/site-packages/sklearn/utils/linear_assignment_.py:128: FutureWarning: The linear_assignment function is deprecated in 0.21 and will be removed from 0.23. Use scipy.optimize.linear_sum_assignment instead.\n",
      "  FutureWarning)\n"
     ]
    },
    {
     "name": "stdout",
     "output_type": "stream",
     "text": [
      "Iter-416: ACC= 0.4386, NMI= 0.3886, ARI= 0.2629;  L= 0.11415, Lc= 0.04709,  Lr= 0.06707\n"
     ]
    },
    {
     "name": "stderr",
     "output_type": "stream",
     "text": [
      "/opt/conda/lib/python3.7/site-packages/sklearn/utils/linear_assignment_.py:128: FutureWarning: The linear_assignment function is deprecated in 0.21 and will be removed from 0.23. Use scipy.optimize.linear_sum_assignment instead.\n",
      "  FutureWarning)\n",
      "/opt/conda/lib/python3.7/site-packages/sklearn/utils/linear_assignment_.py:128: FutureWarning: The linear_assignment function is deprecated in 0.21 and will be removed from 0.23. Use scipy.optimize.linear_sum_assignment instead.\n",
      "  FutureWarning)\n"
     ]
    },
    {
     "name": "stdout",
     "output_type": "stream",
     "text": [
      "Iter-432: ACC= 0.4386, NMI= 0.3881, ARI= 0.2628;  L= 0.11140, Lc= 0.04280,  Lr= 0.06860\n",
      "delta_label  0.000716674629718108 < tol  0.001\n",
      "Reached tolerance threshold. Stopping training.\n",
      "saving model to: scDeepCluster/scDeepCluster_model_final.h5\n",
      "Final: ACC= 0.4386, NMI= 0.3881, ARI= 0.2628\n",
      "Clustering time: 4479 seconds.\n",
      ">>> Dataset mouse_bladder_cell \n",
      "### Autoencoder: Successfully preprocessed 20670 genes and 2746 cells.\n",
      "Sample size\n",
      "(2746, 19771)\n",
      "(2746,)\n",
      "...Pretraining autoencoder...\n",
      "Pretrained weights are saved to ./ae_weights.h5\n",
      "Update interval 10\n",
      "Save interval 50\n",
      "Initializing cluster centers with k-means.\n"
     ]
    },
    {
     "name": "stderr",
     "output_type": "stream",
     "text": [
      "/opt/conda/lib/python3.7/site-packages/sklearn/utils/linear_assignment_.py:128: FutureWarning: The linear_assignment function is deprecated in 0.21 and will be removed from 0.23. Use scipy.optimize.linear_sum_assignment instead.\n",
      "  FutureWarning)\n"
     ]
    },
    {
     "name": "stdout",
     "output_type": "stream",
     "text": [
      "Iter-0: ACC= 0.4232, NMI= 0.5046, ARI= 0.3697;  L= 0.00000, Lc= 0.00000,  Lr= 0.00000\n",
      "saving model to: scDeepCluster/scDeepCluster_model_0.h5\n"
     ]
    },
    {
     "name": "stderr",
     "output_type": "stream",
     "text": [
      "/opt/conda/lib/python3.7/site-packages/sklearn/utils/linear_assignment_.py:128: FutureWarning: The linear_assignment function is deprecated in 0.21 and will be removed from 0.23. Use scipy.optimize.linear_sum_assignment instead.\n",
      "  FutureWarning)\n"
     ]
    },
    {
     "name": "stdout",
     "output_type": "stream",
     "text": [
      "Iter-10: ACC= 0.4235, NMI= 0.5091, ARI= 0.3705;  L= 0.16110, Lc= 0.04234,  Lr= 0.11876\n"
     ]
    },
    {
     "name": "stderr",
     "output_type": "stream",
     "text": [
      "/opt/conda/lib/python3.7/site-packages/sklearn/utils/linear_assignment_.py:128: FutureWarning: The linear_assignment function is deprecated in 0.21 and will be removed from 0.23. Use scipy.optimize.linear_sum_assignment instead.\n",
      "  FutureWarning)\n"
     ]
    },
    {
     "name": "stdout",
     "output_type": "stream",
     "text": [
      "Iter-20: ACC= 0.4235, NMI= 0.5123, ARI= 0.3717;  L= 0.18853, Lc= 0.05958,  Lr= 0.12895\n"
     ]
    },
    {
     "name": "stderr",
     "output_type": "stream",
     "text": [
      "/opt/conda/lib/python3.7/site-packages/sklearn/utils/linear_assignment_.py:128: FutureWarning: The linear_assignment function is deprecated in 0.21 and will be removed from 0.23. Use scipy.optimize.linear_sum_assignment instead.\n",
      "  FutureWarning)\n"
     ]
    },
    {
     "name": "stdout",
     "output_type": "stream",
     "text": [
      "Iter-30: ACC= 0.4246, NMI= 0.5161, ARI= 0.3733;  L= 0.18714, Lc= 0.06851,  Lr= 0.11863\n"
     ]
    },
    {
     "name": "stderr",
     "output_type": "stream",
     "text": [
      "/opt/conda/lib/python3.7/site-packages/sklearn/utils/linear_assignment_.py:128: FutureWarning: The linear_assignment function is deprecated in 0.21 and will be removed from 0.23. Use scipy.optimize.linear_sum_assignment instead.\n",
      "  FutureWarning)\n"
     ]
    },
    {
     "name": "stdout",
     "output_type": "stream",
     "text": [
      "Iter-40: ACC= 0.4239, NMI= 0.5153, ARI= 0.3733;  L= 0.19807, Lc= 0.06866,  Lr= 0.12940\n"
     ]
    },
    {
     "name": "stderr",
     "output_type": "stream",
     "text": [
      "/opt/conda/lib/python3.7/site-packages/sklearn/utils/linear_assignment_.py:128: FutureWarning: The linear_assignment function is deprecated in 0.21 and will be removed from 0.23. Use scipy.optimize.linear_sum_assignment instead.\n",
      "  FutureWarning)\n"
     ]
    },
    {
     "name": "stdout",
     "output_type": "stream",
     "text": [
      "Iter-50: ACC= 0.4243, NMI= 0.5218, ARI= 0.3770;  L= 0.20901, Lc= 0.07515,  Lr= 0.13386\n",
      "saving model to: scDeepCluster/scDeepCluster_model_50.h5\n"
     ]
    },
    {
     "name": "stderr",
     "output_type": "stream",
     "text": [
      "/opt/conda/lib/python3.7/site-packages/sklearn/utils/linear_assignment_.py:128: FutureWarning: The linear_assignment function is deprecated in 0.21 and will be removed from 0.23. Use scipy.optimize.linear_sum_assignment instead.\n",
      "  FutureWarning)\n"
     ]
    },
    {
     "name": "stdout",
     "output_type": "stream",
     "text": [
      "Iter-60: ACC= 0.4264, NMI= 0.5208, ARI= 0.3777;  L= 0.22226, Lc= 0.07902,  Lr= 0.14324\n"
     ]
    },
    {
     "name": "stderr",
     "output_type": "stream",
     "text": [
      "/opt/conda/lib/python3.7/site-packages/sklearn/utils/linear_assignment_.py:128: FutureWarning: The linear_assignment function is deprecated in 0.21 and will be removed from 0.23. Use scipy.optimize.linear_sum_assignment instead.\n",
      "  FutureWarning)\n"
     ]
    },
    {
     "name": "stdout",
     "output_type": "stream",
     "text": [
      "Iter-70: ACC= 0.4323, NMI= 0.5242, ARI= 0.3812;  L= 0.22870, Lc= 0.08167,  Lr= 0.14703\n"
     ]
    },
    {
     "name": "stderr",
     "output_type": "stream",
     "text": [
      "/opt/conda/lib/python3.7/site-packages/sklearn/utils/linear_assignment_.py:128: FutureWarning: The linear_assignment function is deprecated in 0.21 and will be removed from 0.23. Use scipy.optimize.linear_sum_assignment instead.\n",
      "  FutureWarning)\n"
     ]
    },
    {
     "name": "stdout",
     "output_type": "stream",
     "text": [
      "Iter-80: ACC= 0.4366, NMI= 0.5268, ARI= 0.3854;  L= 0.22431, Lc= 0.07329,  Lr= 0.15102\n"
     ]
    },
    {
     "name": "stderr",
     "output_type": "stream",
     "text": [
      "/opt/conda/lib/python3.7/site-packages/sklearn/utils/linear_assignment_.py:128: FutureWarning: The linear_assignment function is deprecated in 0.21 and will be removed from 0.23. Use scipy.optimize.linear_sum_assignment instead.\n",
      "  FutureWarning)\n"
     ]
    },
    {
     "name": "stdout",
     "output_type": "stream",
     "text": [
      "Iter-90: ACC= 0.4435, NMI= 0.5328, ARI= 0.3901;  L= 0.23351, Lc= 0.07229,  Lr= 0.16121\n"
     ]
    },
    {
     "name": "stderr",
     "output_type": "stream",
     "text": [
      "/opt/conda/lib/python3.7/site-packages/sklearn/utils/linear_assignment_.py:128: FutureWarning: The linear_assignment function is deprecated in 0.21 and will be removed from 0.23. Use scipy.optimize.linear_sum_assignment instead.\n",
      "  FutureWarning)\n"
     ]
    },
    {
     "name": "stdout",
     "output_type": "stream",
     "text": [
      "Iter-100: ACC= 0.4461, NMI= 0.5345, ARI= 0.3937;  L= 0.24038, Lc= 0.07638,  Lr= 0.16401\n",
      "saving model to: scDeepCluster/scDeepCluster_model_100.h5\n"
     ]
    },
    {
     "name": "stderr",
     "output_type": "stream",
     "text": [
      "/opt/conda/lib/python3.7/site-packages/sklearn/utils/linear_assignment_.py:128: FutureWarning: The linear_assignment function is deprecated in 0.21 and will be removed from 0.23. Use scipy.optimize.linear_sum_assignment instead.\n",
      "  FutureWarning)\n"
     ]
    },
    {
     "name": "stdout",
     "output_type": "stream",
     "text": [
      "Iter-110: ACC= 0.4497, NMI= 0.5386, ARI= 0.3980;  L= 0.22358, Lc= 0.06527,  Lr= 0.15830\n"
     ]
    },
    {
     "name": "stderr",
     "output_type": "stream",
     "text": [
      "/opt/conda/lib/python3.7/site-packages/sklearn/utils/linear_assignment_.py:128: FutureWarning: The linear_assignment function is deprecated in 0.21 and will be removed from 0.23. Use scipy.optimize.linear_sum_assignment instead.\n",
      "  FutureWarning)\n"
     ]
    },
    {
     "name": "stdout",
     "output_type": "stream",
     "text": [
      "Iter-120: ACC= 0.4519, NMI= 0.5432, ARI= 0.4011;  L= 0.21834, Lc= 0.06431,  Lr= 0.15404\n"
     ]
    },
    {
     "name": "stderr",
     "output_type": "stream",
     "text": [
      "/opt/conda/lib/python3.7/site-packages/sklearn/utils/linear_assignment_.py:128: FutureWarning: The linear_assignment function is deprecated in 0.21 and will be removed from 0.23. Use scipy.optimize.linear_sum_assignment instead.\n",
      "  FutureWarning)\n"
     ]
    },
    {
     "name": "stdout",
     "output_type": "stream",
     "text": [
      "Iter-130: ACC= 0.4559, NMI= 0.5508, ARI= 0.4071;  L= 0.22528, Lc= 0.06254,  Lr= 0.16273\n"
     ]
    },
    {
     "name": "stderr",
     "output_type": "stream",
     "text": [
      "/opt/conda/lib/python3.7/site-packages/sklearn/utils/linear_assignment_.py:128: FutureWarning: The linear_assignment function is deprecated in 0.21 and will be removed from 0.23. Use scipy.optimize.linear_sum_assignment instead.\n",
      "  FutureWarning)\n"
     ]
    },
    {
     "name": "stdout",
     "output_type": "stream",
     "text": [
      "Iter-140: ACC= 0.4574, NMI= 0.5569, ARI= 0.4123;  L= 0.19843, Lc= 0.05121,  Lr= 0.14722\n"
     ]
    },
    {
     "name": "stderr",
     "output_type": "stream",
     "text": [
      "/opt/conda/lib/python3.7/site-packages/sklearn/utils/linear_assignment_.py:128: FutureWarning: The linear_assignment function is deprecated in 0.21 and will be removed from 0.23. Use scipy.optimize.linear_sum_assignment instead.\n",
      "  FutureWarning)\n"
     ]
    },
    {
     "name": "stdout",
     "output_type": "stream",
     "text": [
      "Iter-150: ACC= 0.4588, NMI= 0.5587, ARI= 0.4130;  L= 0.22144, Lc= 0.05624,  Lr= 0.16520\n",
      "saving model to: scDeepCluster/scDeepCluster_model_150.h5\n"
     ]
    },
    {
     "name": "stderr",
     "output_type": "stream",
     "text": [
      "/opt/conda/lib/python3.7/site-packages/sklearn/utils/linear_assignment_.py:128: FutureWarning: The linear_assignment function is deprecated in 0.21 and will be removed from 0.23. Use scipy.optimize.linear_sum_assignment instead.\n",
      "  FutureWarning)\n"
     ]
    },
    {
     "name": "stdout",
     "output_type": "stream",
     "text": [
      "Iter-160: ACC= 0.4603, NMI= 0.5612, ARI= 0.4152;  L= 0.21478, Lc= 0.04997,  Lr= 0.16481\n"
     ]
    },
    {
     "name": "stderr",
     "output_type": "stream",
     "text": [
      "/opt/conda/lib/python3.7/site-packages/sklearn/utils/linear_assignment_.py:128: FutureWarning: The linear_assignment function is deprecated in 0.21 and will be removed from 0.23. Use scipy.optimize.linear_sum_assignment instead.\n",
      "  FutureWarning)\n"
     ]
    },
    {
     "name": "stdout",
     "output_type": "stream",
     "text": [
      "Iter-170: ACC= 0.4607, NMI= 0.5606, ARI= 0.4150;  L= 0.21865, Lc= 0.04525,  Lr= 0.17340\n"
     ]
    },
    {
     "name": "stderr",
     "output_type": "stream",
     "text": [
      "/opt/conda/lib/python3.7/site-packages/sklearn/utils/linear_assignment_.py:128: FutureWarning: The linear_assignment function is deprecated in 0.21 and will be removed from 0.23. Use scipy.optimize.linear_sum_assignment instead.\n",
      "  FutureWarning)\n"
     ]
    },
    {
     "name": "stdout",
     "output_type": "stream",
     "text": [
      "Iter-180: ACC= 0.4614, NMI= 0.5603, ARI= 0.4149;  L= 0.21836, Lc= 0.04438,  Lr= 0.17398\n"
     ]
    },
    {
     "name": "stderr",
     "output_type": "stream",
     "text": [
      "/opt/conda/lib/python3.7/site-packages/sklearn/utils/linear_assignment_.py:128: FutureWarning: The linear_assignment function is deprecated in 0.21 and will be removed from 0.23. Use scipy.optimize.linear_sum_assignment instead.\n",
      "  FutureWarning)\n"
     ]
    },
    {
     "name": "stdout",
     "output_type": "stream",
     "text": [
      "Iter-190: ACC= 0.4618, NMI= 0.5616, ARI= 0.4161;  L= 0.20935, Lc= 0.04061,  Lr= 0.16874\n"
     ]
    },
    {
     "name": "stderr",
     "output_type": "stream",
     "text": [
      "/opt/conda/lib/python3.7/site-packages/sklearn/utils/linear_assignment_.py:128: FutureWarning: The linear_assignment function is deprecated in 0.21 and will be removed from 0.23. Use scipy.optimize.linear_sum_assignment instead.\n",
      "  FutureWarning)\n"
     ]
    },
    {
     "name": "stdout",
     "output_type": "stream",
     "text": [
      "Iter-200: ACC= 0.4618, NMI= 0.5605, ARI= 0.4151;  L= 0.21868, Lc= 0.04006,  Lr= 0.17862\n",
      "saving model to: scDeepCluster/scDeepCluster_model_200.h5\n"
     ]
    },
    {
     "name": "stderr",
     "output_type": "stream",
     "text": [
      "/opt/conda/lib/python3.7/site-packages/sklearn/utils/linear_assignment_.py:128: FutureWarning: The linear_assignment function is deprecated in 0.21 and will be removed from 0.23. Use scipy.optimize.linear_sum_assignment instead.\n",
      "  FutureWarning)\n"
     ]
    },
    {
     "name": "stdout",
     "output_type": "stream",
     "text": [
      "Iter-210: ACC= 0.4625, NMI= 0.5618, ARI= 0.4160;  L= 0.22392, Lc= 0.04459,  Lr= 0.17933\n"
     ]
    },
    {
     "name": "stderr",
     "output_type": "stream",
     "text": [
      "/opt/conda/lib/python3.7/site-packages/sklearn/utils/linear_assignment_.py:128: FutureWarning: The linear_assignment function is deprecated in 0.21 and will be removed from 0.23. Use scipy.optimize.linear_sum_assignment instead.\n",
      "  FutureWarning)\n"
     ]
    },
    {
     "name": "stdout",
     "output_type": "stream",
     "text": [
      "Iter-220: ACC= 0.4625, NMI= 0.5627, ARI= 0.4166;  L= 0.19937, Lc= 0.03199,  Lr= 0.16737\n"
     ]
    },
    {
     "name": "stderr",
     "output_type": "stream",
     "text": [
      "/opt/conda/lib/python3.7/site-packages/sklearn/utils/linear_assignment_.py:128: FutureWarning: The linear_assignment function is deprecated in 0.21 and will be removed from 0.23. Use scipy.optimize.linear_sum_assignment instead.\n",
      "  FutureWarning)\n"
     ]
    },
    {
     "name": "stdout",
     "output_type": "stream",
     "text": [
      "Iter-230: ACC= 0.4625, NMI= 0.5630, ARI= 0.4165;  L= 0.19987, Lc= 0.03767,  Lr= 0.16220\n"
     ]
    },
    {
     "name": "stderr",
     "output_type": "stream",
     "text": [
      "/opt/conda/lib/python3.7/site-packages/sklearn/utils/linear_assignment_.py:128: FutureWarning: The linear_assignment function is deprecated in 0.21 and will be removed from 0.23. Use scipy.optimize.linear_sum_assignment instead.\n",
      "  FutureWarning)\n"
     ]
    },
    {
     "name": "stdout",
     "output_type": "stream",
     "text": [
      "Iter-240: ACC= 0.4629, NMI= 0.5644, ARI= 0.4179;  L= 0.20222, Lc= 0.03374,  Lr= 0.16848\n"
     ]
    },
    {
     "name": "stderr",
     "output_type": "stream",
     "text": [
      "/opt/conda/lib/python3.7/site-packages/sklearn/utils/linear_assignment_.py:128: FutureWarning: The linear_assignment function is deprecated in 0.21 and will be removed from 0.23. Use scipy.optimize.linear_sum_assignment instead.\n",
      "  FutureWarning)\n"
     ]
    },
    {
     "name": "stdout",
     "output_type": "stream",
     "text": [
      "Iter-250: ACC= 0.4625, NMI= 0.5640, ARI= 0.4175;  L= 0.17897, Lc= 0.02874,  Lr= 0.15023\n",
      "saving model to: scDeepCluster/scDeepCluster_model_250.h5\n"
     ]
    },
    {
     "name": "stderr",
     "output_type": "stream",
     "text": [
      "/opt/conda/lib/python3.7/site-packages/sklearn/utils/linear_assignment_.py:128: FutureWarning: The linear_assignment function is deprecated in 0.21 and will be removed from 0.23. Use scipy.optimize.linear_sum_assignment instead.\n",
      "  FutureWarning)\n"
     ]
    },
    {
     "name": "stdout",
     "output_type": "stream",
     "text": [
      "Iter-260: ACC= 0.4625, NMI= 0.5630, ARI= 0.4165;  L= 0.20708, Lc= 0.03808,  Lr= 0.16900\n"
     ]
    },
    {
     "name": "stderr",
     "output_type": "stream",
     "text": [
      "/opt/conda/lib/python3.7/site-packages/sklearn/utils/linear_assignment_.py:128: FutureWarning: The linear_assignment function is deprecated in 0.21 and will be removed from 0.23. Use scipy.optimize.linear_sum_assignment instead.\n",
      "  FutureWarning)\n"
     ]
    },
    {
     "name": "stdout",
     "output_type": "stream",
     "text": [
      "Iter-270: ACC= 0.4632, NMI= 0.5660, ARI= 0.4184;  L= 0.19866, Lc= 0.03037,  Lr= 0.16828\n"
     ]
    },
    {
     "name": "stderr",
     "output_type": "stream",
     "text": [
      "/opt/conda/lib/python3.7/site-packages/sklearn/utils/linear_assignment_.py:128: FutureWarning: The linear_assignment function is deprecated in 0.21 and will be removed from 0.23. Use scipy.optimize.linear_sum_assignment instead.\n",
      "  FutureWarning)\n"
     ]
    },
    {
     "name": "stdout",
     "output_type": "stream",
     "text": [
      "Iter-280: ACC= 0.4629, NMI= 0.5625, ARI= 0.4167;  L= 0.20437, Lc= 0.02789,  Lr= 0.17649\n"
     ]
    },
    {
     "name": "stderr",
     "output_type": "stream",
     "text": [
      "/opt/conda/lib/python3.7/site-packages/sklearn/utils/linear_assignment_.py:128: FutureWarning: The linear_assignment function is deprecated in 0.21 and will be removed from 0.23. Use scipy.optimize.linear_sum_assignment instead.\n",
      "  FutureWarning)\n"
     ]
    },
    {
     "name": "stdout",
     "output_type": "stream",
     "text": [
      "Iter-290: ACC= 0.4639, NMI= 0.5649, ARI= 0.4179;  L= 0.20445, Lc= 0.02833,  Lr= 0.17612\n"
     ]
    },
    {
     "name": "stderr",
     "output_type": "stream",
     "text": [
      "/opt/conda/lib/python3.7/site-packages/sklearn/utils/linear_assignment_.py:128: FutureWarning: The linear_assignment function is deprecated in 0.21 and will be removed from 0.23. Use scipy.optimize.linear_sum_assignment instead.\n",
      "  FutureWarning)\n"
     ]
    },
    {
     "name": "stdout",
     "output_type": "stream",
     "text": [
      "Iter-300: ACC= 0.4636, NMI= 0.5635, ARI= 0.4173;  L= 0.20063, Lc= 0.03012,  Lr= 0.17052\n",
      "delta_label  0.0007283321194464676 < tol  0.001\n",
      "Reached tolerance threshold. Stopping training.\n",
      "saving model to: scDeepCluster/scDeepCluster_model_final.h5\n"
     ]
    },
    {
     "name": "stderr",
     "output_type": "stream",
     "text": [
      "/opt/conda/lib/python3.7/site-packages/sklearn/utils/linear_assignment_.py:128: FutureWarning: The linear_assignment function is deprecated in 0.21 and will be removed from 0.23. Use scipy.optimize.linear_sum_assignment instead.\n",
      "  FutureWarning)\n"
     ]
    },
    {
     "name": "stdout",
     "output_type": "stream",
     "text": [
      "Final: ACC= 0.4636, NMI= 0.5635, ARI= 0.4173\n",
      "Clustering time: 4229 seconds.\n",
      ">>> Dataset mouse_ES_cell_select_2100 \n",
      "### Autoencoder: Successfully preprocessed 24175 genes and 2100 cells.\n",
      "Sample size\n",
      "(2100, 24046)\n",
      "(2100,)\n",
      "...Pretraining autoencoder...\n",
      "Pretrained weights are saved to ./ae_weights.h5\n",
      "Update interval 8\n",
      "Save interval 40\n",
      "Initializing cluster centers with k-means.\n"
     ]
    },
    {
     "name": "stderr",
     "output_type": "stream",
     "text": [
      "/opt/conda/lib/python3.7/site-packages/sklearn/utils/linear_assignment_.py:128: FutureWarning: The linear_assignment function is deprecated in 0.21 and will be removed from 0.23. Use scipy.optimize.linear_sum_assignment instead.\n",
      "  FutureWarning)\n"
     ]
    },
    {
     "name": "stdout",
     "output_type": "stream",
     "text": [
      "Iter-0: ACC= 0.8814, NMI= 0.8476, ARI= 0.8286;  L= 0.00000, Lc= 0.00000,  Lr= 0.00000\n",
      "saving model to: scDeepCluster/scDeepCluster_model_0.h5\n"
     ]
    },
    {
     "name": "stderr",
     "output_type": "stream",
     "text": [
      "/opt/conda/lib/python3.7/site-packages/sklearn/utils/linear_assignment_.py:128: FutureWarning: The linear_assignment function is deprecated in 0.21 and will be removed from 0.23. Use scipy.optimize.linear_sum_assignment instead.\n",
      "  FutureWarning)\n"
     ]
    },
    {
     "name": "stdout",
     "output_type": "stream",
     "text": [
      "Iter-8: ACC= 0.8857, NMI= 0.8604, ARI= 0.8407;  L= 0.80938, Lc= 0.06196,  Lr= 0.74742\n"
     ]
    },
    {
     "name": "stderr",
     "output_type": "stream",
     "text": [
      "/opt/conda/lib/python3.7/site-packages/sklearn/utils/linear_assignment_.py:128: FutureWarning: The linear_assignment function is deprecated in 0.21 and will be removed from 0.23. Use scipy.optimize.linear_sum_assignment instead.\n",
      "  FutureWarning)\n"
     ]
    },
    {
     "name": "stdout",
     "output_type": "stream",
     "text": [
      "Iter-16: ACC= 0.8886, NMI= 0.8702, ARI= 0.8489;  L= 0.81613, Lc= 0.07372,  Lr= 0.74241\n"
     ]
    },
    {
     "name": "stderr",
     "output_type": "stream",
     "text": [
      "/opt/conda/lib/python3.7/site-packages/sklearn/utils/linear_assignment_.py:128: FutureWarning: The linear_assignment function is deprecated in 0.21 and will be removed from 0.23. Use scipy.optimize.linear_sum_assignment instead.\n",
      "  FutureWarning)\n"
     ]
    },
    {
     "name": "stdout",
     "output_type": "stream",
     "text": [
      "Iter-24: ACC= 0.8886, NMI= 0.8710, ARI= 0.8489;  L= 0.81625, Lc= 0.07053,  Lr= 0.74572\n",
      "delta_label  0.0004761904761904762 < tol  0.001\n",
      "Reached tolerance threshold. Stopping training.\n",
      "saving model to: scDeepCluster/scDeepCluster_model_final.h5\n"
     ]
    },
    {
     "name": "stderr",
     "output_type": "stream",
     "text": [
      "/opt/conda/lib/python3.7/site-packages/sklearn/utils/linear_assignment_.py:128: FutureWarning: The linear_assignment function is deprecated in 0.21 and will be removed from 0.23. Use scipy.optimize.linear_sum_assignment instead.\n",
      "  FutureWarning)\n"
     ]
    },
    {
     "name": "stdout",
     "output_type": "stream",
     "text": [
      "Final: ACC= 0.8886, NMI= 0.8710, ARI= 0.8489\n",
      "Clustering time: 3236 seconds.\n",
      ">>> Dataset mouse_bladder_cell_select_2100 \n",
      "### Autoencoder: Successfully preprocessed 20670 genes and 2100 cells.\n",
      "Sample size\n",
      "(2100, 19079)\n",
      "(2100,)\n",
      "...Pretraining autoencoder...\n",
      "Pretrained weights are saved to ./ae_weights.h5\n",
      "Update interval 8\n",
      "Save interval 40\n",
      "Initializing cluster centers with k-means.\n"
     ]
    },
    {
     "name": "stderr",
     "output_type": "stream",
     "text": [
      "/opt/conda/lib/python3.7/site-packages/sklearn/utils/linear_assignment_.py:128: FutureWarning: The linear_assignment function is deprecated in 0.21 and will be removed from 0.23. Use scipy.optimize.linear_sum_assignment instead.\n",
      "  FutureWarning)\n"
     ]
    },
    {
     "name": "stdout",
     "output_type": "stream",
     "text": [
      "Iter-0: ACC= 0.4419, NMI= 0.5010, ARI= 0.3797;  L= 0.00000, Lc= 0.00000,  Lr= 0.00000\n",
      "saving model to: scDeepCluster/scDeepCluster_model_0.h5\n"
     ]
    },
    {
     "name": "stderr",
     "output_type": "stream",
     "text": [
      "/opt/conda/lib/python3.7/site-packages/sklearn/utils/linear_assignment_.py:128: FutureWarning: The linear_assignment function is deprecated in 0.21 and will be removed from 0.23. Use scipy.optimize.linear_sum_assignment instead.\n",
      "  FutureWarning)\n"
     ]
    },
    {
     "name": "stdout",
     "output_type": "stream",
     "text": [
      "Iter-8: ACC= 0.4452, NMI= 0.5151, ARI= 0.3879;  L= 0.16304, Lc= 0.04278,  Lr= 0.12026\n"
     ]
    },
    {
     "name": "stderr",
     "output_type": "stream",
     "text": [
      "/opt/conda/lib/python3.7/site-packages/sklearn/utils/linear_assignment_.py:128: FutureWarning: The linear_assignment function is deprecated in 0.21 and will be removed from 0.23. Use scipy.optimize.linear_sum_assignment instead.\n",
      "  FutureWarning)\n"
     ]
    },
    {
     "name": "stdout",
     "output_type": "stream",
     "text": [
      "Iter-16: ACC= 0.4448, NMI= 0.5273, ARI= 0.3920;  L= 0.17735, Lc= 0.05791,  Lr= 0.11944\n"
     ]
    },
    {
     "name": "stderr",
     "output_type": "stream",
     "text": [
      "/opt/conda/lib/python3.7/site-packages/sklearn/utils/linear_assignment_.py:128: FutureWarning: The linear_assignment function is deprecated in 0.21 and will be removed from 0.23. Use scipy.optimize.linear_sum_assignment instead.\n",
      "  FutureWarning)\n"
     ]
    },
    {
     "name": "stdout",
     "output_type": "stream",
     "text": [
      "Iter-24: ACC= 0.4448, NMI= 0.5291, ARI= 0.3926;  L= 0.18673, Lc= 0.06516,  Lr= 0.12157\n"
     ]
    },
    {
     "name": "stderr",
     "output_type": "stream",
     "text": [
      "/opt/conda/lib/python3.7/site-packages/sklearn/utils/linear_assignment_.py:128: FutureWarning: The linear_assignment function is deprecated in 0.21 and will be removed from 0.23. Use scipy.optimize.linear_sum_assignment instead.\n",
      "  FutureWarning)\n"
     ]
    },
    {
     "name": "stdout",
     "output_type": "stream",
     "text": [
      "Iter-32: ACC= 0.4467, NMI= 0.5353, ARI= 0.3965;  L= 0.19445, Lc= 0.07184,  Lr= 0.12261\n"
     ]
    },
    {
     "name": "stderr",
     "output_type": "stream",
     "text": [
      "/opt/conda/lib/python3.7/site-packages/sklearn/utils/linear_assignment_.py:128: FutureWarning: The linear_assignment function is deprecated in 0.21 and will be removed from 0.23. Use scipy.optimize.linear_sum_assignment instead.\n",
      "  FutureWarning)\n"
     ]
    },
    {
     "name": "stdout",
     "output_type": "stream",
     "text": [
      "Iter-40: ACC= 0.4486, NMI= 0.5395, ARI= 0.3992;  L= 0.19956, Lc= 0.07523,  Lr= 0.12433\n",
      "saving model to: scDeepCluster/scDeepCluster_model_40.h5\n"
     ]
    },
    {
     "name": "stderr",
     "output_type": "stream",
     "text": [
      "/opt/conda/lib/python3.7/site-packages/sklearn/utils/linear_assignment_.py:128: FutureWarning: The linear_assignment function is deprecated in 0.21 and will be removed from 0.23. Use scipy.optimize.linear_sum_assignment instead.\n",
      "  FutureWarning)\n"
     ]
    },
    {
     "name": "stdout",
     "output_type": "stream",
     "text": [
      "Iter-48: ACC= 0.4505, NMI= 0.5422, ARI= 0.4010;  L= 0.21625, Lc= 0.08000,  Lr= 0.13626\n"
     ]
    },
    {
     "name": "stderr",
     "output_type": "stream",
     "text": [
      "/opt/conda/lib/python3.7/site-packages/sklearn/utils/linear_assignment_.py:128: FutureWarning: The linear_assignment function is deprecated in 0.21 and will be removed from 0.23. Use scipy.optimize.linear_sum_assignment instead.\n",
      "  FutureWarning)\n"
     ]
    },
    {
     "name": "stdout",
     "output_type": "stream",
     "text": [
      "Iter-56: ACC= 0.4514, NMI= 0.5451, ARI= 0.4026;  L= 0.21413, Lc= 0.08324,  Lr= 0.13089\n"
     ]
    },
    {
     "name": "stderr",
     "output_type": "stream",
     "text": [
      "/opt/conda/lib/python3.7/site-packages/sklearn/utils/linear_assignment_.py:128: FutureWarning: The linear_assignment function is deprecated in 0.21 and will be removed from 0.23. Use scipy.optimize.linear_sum_assignment instead.\n",
      "  FutureWarning)\n"
     ]
    },
    {
     "name": "stdout",
     "output_type": "stream",
     "text": [
      "Iter-64: ACC= 0.4533, NMI= 0.5455, ARI= 0.4020;  L= 0.23215, Lc= 0.08788,  Lr= 0.14427\n"
     ]
    },
    {
     "name": "stderr",
     "output_type": "stream",
     "text": [
      "/opt/conda/lib/python3.7/site-packages/sklearn/utils/linear_assignment_.py:128: FutureWarning: The linear_assignment function is deprecated in 0.21 and will be removed from 0.23. Use scipy.optimize.linear_sum_assignment instead.\n",
      "  FutureWarning)\n"
     ]
    },
    {
     "name": "stdout",
     "output_type": "stream",
     "text": [
      "Iter-72: ACC= 0.4576, NMI= 0.5536, ARI= 0.4083;  L= 0.24112, Lc= 0.08807,  Lr= 0.15305\n"
     ]
    },
    {
     "name": "stderr",
     "output_type": "stream",
     "text": [
      "/opt/conda/lib/python3.7/site-packages/sklearn/utils/linear_assignment_.py:128: FutureWarning: The linear_assignment function is deprecated in 0.21 and will be removed from 0.23. Use scipy.optimize.linear_sum_assignment instead.\n",
      "  FutureWarning)\n"
     ]
    },
    {
     "name": "stdout",
     "output_type": "stream",
     "text": [
      "Iter-80: ACC= 0.4591, NMI= 0.5568, ARI= 0.4090;  L= 0.23609, Lc= 0.08587,  Lr= 0.15022\n",
      "saving model to: scDeepCluster/scDeepCluster_model_80.h5\n"
     ]
    },
    {
     "name": "stderr",
     "output_type": "stream",
     "text": [
      "/opt/conda/lib/python3.7/site-packages/sklearn/utils/linear_assignment_.py:128: FutureWarning: The linear_assignment function is deprecated in 0.21 and will be removed from 0.23. Use scipy.optimize.linear_sum_assignment instead.\n",
      "  FutureWarning)\n"
     ]
    },
    {
     "name": "stdout",
     "output_type": "stream",
     "text": [
      "Iter-88: ACC= 0.4605, NMI= 0.5608, ARI= 0.4099;  L= 0.24050, Lc= 0.08656,  Lr= 0.15394\n"
     ]
    },
    {
     "name": "stderr",
     "output_type": "stream",
     "text": [
      "/opt/conda/lib/python3.7/site-packages/sklearn/utils/linear_assignment_.py:128: FutureWarning: The linear_assignment function is deprecated in 0.21 and will be removed from 0.23. Use scipy.optimize.linear_sum_assignment instead.\n",
      "  FutureWarning)\n"
     ]
    },
    {
     "name": "stdout",
     "output_type": "stream",
     "text": [
      "Iter-96: ACC= 0.4610, NMI= 0.5622, ARI= 0.4108;  L= 0.24202, Lc= 0.08439,  Lr= 0.15764\n",
      "delta_label  0.0009523809523809524 < tol  0.001\n",
      "Reached tolerance threshold. Stopping training.\n",
      "saving model to: scDeepCluster/scDeepCluster_model_final.h5\n"
     ]
    },
    {
     "name": "stderr",
     "output_type": "stream",
     "text": [
      "/opt/conda/lib/python3.7/site-packages/sklearn/utils/linear_assignment_.py:128: FutureWarning: The linear_assignment function is deprecated in 0.21 and will be removed from 0.23. Use scipy.optimize.linear_sum_assignment instead.\n",
      "  FutureWarning)\n"
     ]
    },
    {
     "name": "stdout",
     "output_type": "stream",
     "text": [
      "Final: ACC= 0.4610, NMI= 0.5622, ARI= 0.4108\n",
      "Clustering time: 2596 seconds.\n",
      ">>> Dataset 10X_PBMC \n",
      "### Autoencoder: Successfully preprocessed 16653 genes and 4271 cells.\n",
      "Sample size\n",
      "(4271, 16653)\n",
      "(4271,)\n",
      "...Pretraining autoencoder...\n",
      "Pretrained weights are saved to ./ae_weights.h5\n",
      "Update interval 16\n",
      "Save interval 80\n",
      "Initializing cluster centers with k-means.\n"
     ]
    },
    {
     "name": "stderr",
     "output_type": "stream",
     "text": [
      "/opt/conda/lib/python3.7/site-packages/sklearn/utils/linear_assignment_.py:128: FutureWarning: The linear_assignment function is deprecated in 0.21 and will be removed from 0.23. Use scipy.optimize.linear_sum_assignment instead.\n",
      "  FutureWarning)\n"
     ]
    },
    {
     "name": "stdout",
     "output_type": "stream",
     "text": [
      "Iter-0: ACC= 0.5692, NMI= 0.6051, ARI= 0.4823;  L= 0.00000, Lc= 0.00000,  Lr= 0.00000\n",
      "saving model to: scDeepCluster/scDeepCluster_model_0.h5\n"
     ]
    },
    {
     "name": "stderr",
     "output_type": "stream",
     "text": [
      "/opt/conda/lib/python3.7/site-packages/sklearn/utils/linear_assignment_.py:128: FutureWarning: The linear_assignment function is deprecated in 0.21 and will be removed from 0.23. Use scipy.optimize.linear_sum_assignment instead.\n",
      "  FutureWarning)\n"
     ]
    },
    {
     "name": "stdout",
     "output_type": "stream",
     "text": [
      "Iter-16: ACC= 0.5683, NMI= 0.6179, ARI= 0.4921;  L= 0.25252, Lc= 0.04577,  Lr= 0.20676\n"
     ]
    },
    {
     "name": "stderr",
     "output_type": "stream",
     "text": [
      "/opt/conda/lib/python3.7/site-packages/sklearn/utils/linear_assignment_.py:128: FutureWarning: The linear_assignment function is deprecated in 0.21 and will be removed from 0.23. Use scipy.optimize.linear_sum_assignment instead.\n",
      "  FutureWarning)\n"
     ]
    },
    {
     "name": "stdout",
     "output_type": "stream",
     "text": [
      "Iter-32: ACC= 0.5678, NMI= 0.6280, ARI= 0.5020;  L= 0.27521, Lc= 0.06456,  Lr= 0.21065\n"
     ]
    },
    {
     "name": "stderr",
     "output_type": "stream",
     "text": [
      "/opt/conda/lib/python3.7/site-packages/sklearn/utils/linear_assignment_.py:128: FutureWarning: The linear_assignment function is deprecated in 0.21 and will be removed from 0.23. Use scipy.optimize.linear_sum_assignment instead.\n",
      "  FutureWarning)\n"
     ]
    },
    {
     "name": "stdout",
     "output_type": "stream",
     "text": [
      "Iter-48: ACC= 0.5664, NMI= 0.6311, ARI= 0.5072;  L= 0.27894, Lc= 0.06484,  Lr= 0.21411\n"
     ]
    },
    {
     "name": "stderr",
     "output_type": "stream",
     "text": [
      "/opt/conda/lib/python3.7/site-packages/sklearn/utils/linear_assignment_.py:128: FutureWarning: The linear_assignment function is deprecated in 0.21 and will be removed from 0.23. Use scipy.optimize.linear_sum_assignment instead.\n",
      "  FutureWarning)\n"
     ]
    },
    {
     "name": "stdout",
     "output_type": "stream",
     "text": [
      "Iter-64: ACC= 0.5654, NMI= 0.6351, ARI= 0.5104;  L= 0.27765, Lc= 0.06400,  Lr= 0.21365\n"
     ]
    },
    {
     "name": "stderr",
     "output_type": "stream",
     "text": [
      "/opt/conda/lib/python3.7/site-packages/sklearn/utils/linear_assignment_.py:128: FutureWarning: The linear_assignment function is deprecated in 0.21 and will be removed from 0.23. Use scipy.optimize.linear_sum_assignment instead.\n",
      "  FutureWarning)\n"
     ]
    },
    {
     "name": "stdout",
     "output_type": "stream",
     "text": [
      "Iter-80: ACC= 0.5659, NMI= 0.6374, ARI= 0.5123;  L= 0.29123, Lc= 0.06838,  Lr= 0.22286\n",
      "saving model to: scDeepCluster/scDeepCluster_model_80.h5\n"
     ]
    },
    {
     "name": "stderr",
     "output_type": "stream",
     "text": [
      "/opt/conda/lib/python3.7/site-packages/sklearn/utils/linear_assignment_.py:128: FutureWarning: The linear_assignment function is deprecated in 0.21 and will be removed from 0.23. Use scipy.optimize.linear_sum_assignment instead.\n",
      "  FutureWarning)\n"
     ]
    },
    {
     "name": "stdout",
     "output_type": "stream",
     "text": [
      "Iter-96: ACC= 0.5612, NMI= 0.6362, ARI= 0.5100;  L= 0.28344, Lc= 0.06586,  Lr= 0.21758\n"
     ]
    },
    {
     "name": "stderr",
     "output_type": "stream",
     "text": [
      "/opt/conda/lib/python3.7/site-packages/sklearn/utils/linear_assignment_.py:128: FutureWarning: The linear_assignment function is deprecated in 0.21 and will be removed from 0.23. Use scipy.optimize.linear_sum_assignment instead.\n",
      "  FutureWarning)\n"
     ]
    },
    {
     "name": "stdout",
     "output_type": "stream",
     "text": [
      "Iter-112: ACC= 0.5643, NMI= 0.6398, ARI= 0.5126;  L= 0.28407, Lc= 0.06148,  Lr= 0.22258\n"
     ]
    },
    {
     "name": "stderr",
     "output_type": "stream",
     "text": [
      "/opt/conda/lib/python3.7/site-packages/sklearn/utils/linear_assignment_.py:128: FutureWarning: The linear_assignment function is deprecated in 0.21 and will be removed from 0.23. Use scipy.optimize.linear_sum_assignment instead.\n",
      "  FutureWarning)\n"
     ]
    },
    {
     "name": "stdout",
     "output_type": "stream",
     "text": [
      "Iter-128: ACC= 0.5610, NMI= 0.6388, ARI= 0.5096;  L= 0.29056, Lc= 0.06036,  Lr= 0.23021\n"
     ]
    },
    {
     "name": "stderr",
     "output_type": "stream",
     "text": [
      "/opt/conda/lib/python3.7/site-packages/sklearn/utils/linear_assignment_.py:128: FutureWarning: The linear_assignment function is deprecated in 0.21 and will be removed from 0.23. Use scipy.optimize.linear_sum_assignment instead.\n",
      "  FutureWarning)\n"
     ]
    },
    {
     "name": "stdout",
     "output_type": "stream",
     "text": [
      "Iter-144: ACC= 0.5591, NMI= 0.6382, ARI= 0.5072;  L= 0.27636, Lc= 0.05225,  Lr= 0.22410\n"
     ]
    },
    {
     "name": "stderr",
     "output_type": "stream",
     "text": [
      "/opt/conda/lib/python3.7/site-packages/sklearn/utils/linear_assignment_.py:128: FutureWarning: The linear_assignment function is deprecated in 0.21 and will be removed from 0.23. Use scipy.optimize.linear_sum_assignment instead.\n",
      "  FutureWarning)\n"
     ]
    },
    {
     "name": "stdout",
     "output_type": "stream",
     "text": [
      "Iter-160: ACC= 0.5596, NMI= 0.6431, ARI= 0.5095;  L= 0.28845, Lc= 0.05537,  Lr= 0.23308\n",
      "saving model to: scDeepCluster/scDeepCluster_model_160.h5\n"
     ]
    },
    {
     "name": "stderr",
     "output_type": "stream",
     "text": [
      "/opt/conda/lib/python3.7/site-packages/sklearn/utils/linear_assignment_.py:128: FutureWarning: The linear_assignment function is deprecated in 0.21 and will be removed from 0.23. Use scipy.optimize.linear_sum_assignment instead.\n",
      "  FutureWarning)\n"
     ]
    },
    {
     "name": "stdout",
     "output_type": "stream",
     "text": [
      "Iter-176: ACC= 0.5589, NMI= 0.6438, ARI= 0.5090;  L= 0.27605, Lc= 0.04524,  Lr= 0.23081\n"
     ]
    },
    {
     "name": "stderr",
     "output_type": "stream",
     "text": [
      "/opt/conda/lib/python3.7/site-packages/sklearn/utils/linear_assignment_.py:128: FutureWarning: The linear_assignment function is deprecated in 0.21 and will be removed from 0.23. Use scipy.optimize.linear_sum_assignment instead.\n",
      "  FutureWarning)\n"
     ]
    },
    {
     "name": "stdout",
     "output_type": "stream",
     "text": [
      "Iter-192: ACC= 0.5565, NMI= 0.6424, ARI= 0.5054;  L= 0.27805, Lc= 0.04665,  Lr= 0.23140\n"
     ]
    },
    {
     "name": "stderr",
     "output_type": "stream",
     "text": [
      "/opt/conda/lib/python3.7/site-packages/sklearn/utils/linear_assignment_.py:128: FutureWarning: The linear_assignment function is deprecated in 0.21 and will be removed from 0.23. Use scipy.optimize.linear_sum_assignment instead.\n",
      "  FutureWarning)\n"
     ]
    },
    {
     "name": "stdout",
     "output_type": "stream",
     "text": [
      "Iter-208: ACC= 0.5570, NMI= 0.6450, ARI= 0.5070;  L= 0.27245, Lc= 0.04105,  Lr= 0.23139\n"
     ]
    },
    {
     "name": "stderr",
     "output_type": "stream",
     "text": [
      "/opt/conda/lib/python3.7/site-packages/sklearn/utils/linear_assignment_.py:128: FutureWarning: The linear_assignment function is deprecated in 0.21 and will be removed from 0.23. Use scipy.optimize.linear_sum_assignment instead.\n",
      "  FutureWarning)\n"
     ]
    },
    {
     "name": "stdout",
     "output_type": "stream",
     "text": [
      "Iter-224: ACC= 0.5589, NMI= 0.6497, ARI= 0.5101;  L= 0.27943, Lc= 0.04374,  Lr= 0.23568\n"
     ]
    },
    {
     "name": "stderr",
     "output_type": "stream",
     "text": [
      "/opt/conda/lib/python3.7/site-packages/sklearn/utils/linear_assignment_.py:128: FutureWarning: The linear_assignment function is deprecated in 0.21 and will be removed from 0.23. Use scipy.optimize.linear_sum_assignment instead.\n",
      "  FutureWarning)\n"
     ]
    },
    {
     "name": "stdout",
     "output_type": "stream",
     "text": [
      "Iter-240: ACC= 0.5556, NMI= 0.6481, ARI= 0.5061;  L= 0.26967, Lc= 0.03759,  Lr= 0.23208\n",
      "saving model to: scDeepCluster/scDeepCluster_model_240.h5\n"
     ]
    },
    {
     "name": "stderr",
     "output_type": "stream",
     "text": [
      "/opt/conda/lib/python3.7/site-packages/sklearn/utils/linear_assignment_.py:128: FutureWarning: The linear_assignment function is deprecated in 0.21 and will be removed from 0.23. Use scipy.optimize.linear_sum_assignment instead.\n",
      "  FutureWarning)\n"
     ]
    },
    {
     "name": "stdout",
     "output_type": "stream",
     "text": [
      "Iter-256: ACC= 0.5558, NMI= 0.6514, ARI= 0.5072;  L= 0.27538, Lc= 0.04065,  Lr= 0.23473\n",
      "delta_label  0.0009365488176071178 < tol  0.001\n",
      "Reached tolerance threshold. Stopping training.\n",
      "saving model to: scDeepCluster/scDeepCluster_model_final.h5\n",
      "Final: ACC= 0.5558, NMI= 0.6514, ARI= 0.5072\n",
      "Clustering time: 4574 seconds.\n"
     ]
    },
    {
     "name": "stderr",
     "output_type": "stream",
     "text": [
      "/opt/conda/lib/python3.7/site-packages/sklearn/utils/linear_assignment_.py:128: FutureWarning: The linear_assignment function is deprecated in 0.21 and will be removed from 0.23. Use scipy.optimize.linear_sum_assignment instead.\n",
      "  FutureWarning)\n"
     ]
    }
   ],
   "source": [
    "df = pd.DataFrame(columns = [\"dataset\", \"scDeepCluster\", \"run\"])\n",
    "for dataset in files:\n",
    "    print(f\">>> Dataset {dataset} \")\n",
    "    data_mat = h5py.File(f\"{path}{category}/{dataset}.h5\", \"r\")\n",
    "    x = np.array(data_mat['X'])\n",
    "    y = np.array(data_mat['Y'])\n",
    "    #### Run scDeepCluster on the simulated data\n",
    "\n",
    "    optimizer1 = Adam(amsgrad=True)\n",
    "    optimizer2 = 'adadelta'\n",
    "\n",
    "\n",
    "    # preprocessing scRNA-seq read counts matrix\n",
    "    adata = sc.AnnData(x)\n",
    "    adata.obs['Group'] = y\n",
    "\n",
    "    adata = read_dataset(adata, transpose=False, test_split=False, copy=True)\n",
    "\n",
    "    adata = normalize(adata,\n",
    "                      size_factors=True,\n",
    "                      normalize_input=True,\n",
    "                      logtrans_input=True)\n",
    "\n",
    "    input_size = adata.n_vars\n",
    "\n",
    "    print('Sample size')\n",
    "    print(adata.X.shape)\n",
    "    print(y.shape)\n",
    "\n",
    "    x_sd = adata.X.std(0)\n",
    "    x_sd_median = np.median(x_sd)\n",
    "\n",
    "    update_interval = int(adata.X.shape[0] / 256)\n",
    "    for run in range(1):\n",
    "        seed = run\n",
    "        np.random.seed(seed)\n",
    "        # Define scDeepCluster model\n",
    "        scDeepCluster = SCDeepCluster(dims=[input_size, 256, 64, 32],\n",
    "                                      n_clusters=3,\n",
    "                                      noise_sd=2.5)\n",
    "\n",
    "        t0 = time()\n",
    "\n",
    "        # Pretrain autoencoders before clustering\n",
    "        scDeepCluster.pretrain(x=[adata.X, adata.obs.size_factors],\n",
    "                               y=adata.raw.X,\n",
    "                               batch_size=256,\n",
    "                               epochs=600,\n",
    "                               optimizer=optimizer1,\n",
    "                               ae_file='ae_weights.h5')\n",
    "\n",
    "        # begin clustering, time not include pretraining part.\n",
    "\n",
    "        gamma = 1.  # set hyperparameter gamma\n",
    "        scDeepCluster.fit(x_counts=adata.X,\n",
    "                          sf=adata.obs.size_factors,\n",
    "                          y=y,\n",
    "                          raw_counts=adata.raw.X,\n",
    "                          batch_size=256,\n",
    "                          tol=0.001,\n",
    "                          maxiter=20000,\n",
    "                          update_interval=update_interval,\n",
    "                          ae_weights=None,\n",
    "                          save_dir='scDeepCluster',\n",
    "                          loss_weights=[gamma, 1],\n",
    "                          optimizer=optimizer2)\n",
    "\n",
    "        # Show the final results\n",
    "        y_pred = scDeepCluster.y_pred\n",
    "        acc = np.round(cluster_acc(y, scDeepCluster.y_pred), 5)\n",
    "        nmi = np.round(metrics.normalized_mutual_info_score(y, scDeepCluster.y_pred),\n",
    "                       5)\n",
    "        ari = np.round(metrics.adjusted_rand_score(y, scDeepCluster.y_pred), 5)\n",
    "        print('Final: ACC= %.4f, NMI= %.4f, ARI= %.4f' % (acc, nmi, ari))\n",
    "        print('Clustering time: %d seconds.' % int(time() - t0))\n",
    "        df.loc[df.shape[0]] = [dataset, ari, run]\n",
    "\n",
    "        df.to_pickle(f\"{path}output/pickle_results/{category}_scDeepCluster.pkl\")"
   ]
  },
  {
   "cell_type": "code",
   "execution_count": null,
   "metadata": {},
   "outputs": [],
   "source": []
  }
 ],
 "metadata": {
  "kernelspec": {
   "display_name": "Python 3",
   "language": "python",
   "name": "python3"
  },
  "language_info": {
   "codemirror_mode": {
    "name": "ipython",
    "version": 3
   },
   "file_extension": ".py",
   "mimetype": "text/x-python",
   "name": "python",
   "nbconvert_exporter": "python",
   "pygments_lexer": "ipython3",
   "version": "3.7.4"
  }
 },
 "nbformat": 4,
 "nbformat_minor": 2
}
