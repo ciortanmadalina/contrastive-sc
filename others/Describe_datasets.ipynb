{
 "cells": [
  {
   "cell_type": "code",
   "execution_count": null,
   "metadata": {},
   "outputs": [],
   "source": [
    "import sys\n",
    "sys.path.append(\"..\")\n",
    "\n",
    "import matplotlib.pyplot as plt\n",
    "from scziDesk_preprocess import *\n",
    "from scziDesk_network import *\n",
    "from scziDesk_utils import *\n",
    "import argparse\n",
    "from sklearn.metrics import adjusted_rand_score, normalized_mutual_info_score\n",
    "from collections import Counter\n",
    "from sklearn.cluster import KMeans\n",
    "from sklearn.decomposition import PCA\n",
    "import glob2\n",
    "from tqdm.notebook import tqdm\n",
    "plt.ion()\n",
    "plt.show()\n",
    "%load_ext autoreload\n",
    "%autoreload 2\n"
   ]
  },
  {
   "cell_type": "code",
   "execution_count": null,
   "metadata": {},
   "outputs": [],
   "source": [
    "from scipy.stats import skew, kurtosis"
   ]
  },
  {
   "cell_type": "code",
   "execution_count": null,
   "metadata": {},
   "outputs": [],
   "source": [
    "category = \"real_data\"\n",
    "# category = \"imbalanced_data\"\n",
    "# category = \"balanced_data\"\n",
    "path= \"..\"\n",
    "if category in [\"balanced_data\", \"imbalanced_data\"]:\n",
    "    files = glob2.glob(f'{path}/R/simulated_data/{category}/*.h5')\n",
    "    files = [f[len(f\"{path}/R/simulated_data/{category}/\"):-3] for f in files]\n",
    "else:\n",
    "    files = glob2.glob(f'{path}/real_data/*.h5')\n",
    "    files = [f[len(f\"{path}/real_data/\"):-3] for f in files]\n",
    "print(files)"
   ]
  },
  {
   "cell_type": "code",
   "execution_count": null,
   "metadata": {
    "scrolled": false
   },
   "outputs": [],
   "source": [
    "df = pd.DataFrame(columns=[\"dataset\", \"size\", \"nb_clusters\",  \n",
    "                          \"sparsity\", \"max_value\", \"non_zero_mean\",\"non_zero_median\", \"non_zero_skew\", \n",
    "                           \"non_zero_kurosis\", \"cluster_sizes\",])\n",
    "\n",
    "for dataset in tqdm(files):\n",
    "    if category in [\"balanced_data\", \"imbalanced_data\"]:\n",
    "        data_mat = h5py.File(f\"{path}/R/simulated_data/{category}/{dataset}.h5\",\"r\")\n",
    "    else:\n",
    "        data_mat = h5py.File(f\"{path}/real_data/{dataset}.h5\",\"r\")\n",
    "        \n",
    "    Y = np.array(data_mat['Y'])\n",
    "    X = np.array(data_mat['X'])\n",
    "    print(f\">>>>dataset {dataset}\")\n",
    "\n",
    "    if category == \"real_data\" and X.shape[0] > 20000:\n",
    "        continue\n",
    "    n_clusters = np.unique(Y).shape[0]\n",
    "    sparsity = len(np.where(X == 0)[0])/(X.shape[0] *X.shape[1])\n",
    "    X = np.log1p(X)\n",
    "    max_value = int(np.max(X))\n",
    "    non_zero = X[np.where(X != 0)]\n",
    "    non_zero_mean = np.mean(non_zero)\n",
    "    non_zero_median= np.median(non_zero)\n",
    "    non_zero_skew=skew(non_zero)\n",
    "    non_zero_kurosis=kurtosis(non_zero)\n",
    "    df.loc[df.shape[0]] = [\n",
    "        dataset, f\"{X.shape[0]} x {X.shape[1]}\", n_clusters,\n",
    "        \n",
    "        sparsity, max_value, non_zero_mean, non_zero_median, non_zero_skew, non_zero_kurosis,\n",
    "        list(zip(*Counter(Y).most_common()))[1]\n",
    "    ]\n",
    "    plt.figure()\n",
    "    plt.hist(non_zero, bins = 30, log = True)\n",
    "    plt.xlabel(\"expression values\")\n",
    "    plt.ylabel(\"log counts\")\n",
    "    plt.title(dataset)\n",
    "    plt.show()\n",
    "\n",
    "# df.sort_values(by=\"nb_clusters\").reset_index(\n",
    "#     drop=True).to_excel(f\"../output/pickle_results/{category}/description.xlsx\")\n",
    "df.sort_values(by=\"nb_clusters\").reset_index(\n",
    "    drop=True).to_pickle(f\"../output/pickle_results/{category}/description.pkl\")"
   ]
  },
  {
   "cell_type": "code",
   "execution_count": null,
   "metadata": {},
   "outputs": [],
   "source": [
    "df"
   ]
  },
  {
   "cell_type": "code",
   "execution_count": null,
   "metadata": {},
   "outputs": [],
   "source": [
    "df.cluster_sizes.values[-5]"
   ]
  },
  {
   "cell_type": "code",
   "execution_count": null,
   "metadata": {},
   "outputs": [],
   "source": []
  }
 ],
 "metadata": {
  "kernelspec": {
   "display_name": "Python 3",
   "language": "python",
   "name": "python3"
  },
  "language_info": {
   "codemirror_mode": {
    "name": "ipython",
    "version": 3
   },
   "file_extension": ".py",
   "mimetype": "text/x-python",
   "name": "python",
   "nbconvert_exporter": "python",
   "pygments_lexer": "ipython3",
   "version": "3.7.4"
  }
 },
 "nbformat": 4,
 "nbformat_minor": 4
}
