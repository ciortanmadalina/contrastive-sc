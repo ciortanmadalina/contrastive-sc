{
 "cells": [
  {
   "cell_type": "code",
   "execution_count": 1,
   "metadata": {},
   "outputs": [
    {
     "name": "stderr",
     "output_type": "stream",
     "text": [
      "/opt/conda/lib/python3.7/site-packages/scanpy/api/__init__.py:7: FutureWarning: \n",
      "\n",
      "In a future version of Scanpy, `scanpy.api` will be removed.\n",
      "Simply use `import scanpy as sc` and `import scanpy.external as sce` instead.\n",
      "\n",
      "  FutureWarning,\n",
      "Using TensorFlow backend.\n"
     ]
    }
   ],
   "source": [
    "import matplotlib.pyplot as plt\n",
    "from scziDesk_preprocess import *\n",
    "from scziDesk_network import *\n",
    "from scziDesk_utils import *\n",
    "import argparse\n",
    "from sklearn.metrics import adjusted_rand_score, normalized_mutual_info_score\n",
    "from collections import Counter\n",
    "import glob2\n",
    "plt.ion()\n",
    "plt.show()\n",
    "%load_ext autoreload\n",
    "%autoreload 2"
   ]
  },
  {
   "cell_type": "code",
   "execution_count": 2,
   "metadata": {},
   "outputs": [],
   "source": [
    "def cluster_acc(y_true, y_pred):\n",
    "    y_true = y_true.astype(np.int64)\n",
    "    assert y_pred.size == y_true.size\n",
    "    D = max(y_pred.max(), y_true.max()) + 1\n",
    "    w = np.zeros((D, D), dtype=np.int64)\n",
    "    for i in range(y_pred.size):\n",
    "        w[y_pred[i], y_true[i]] += 1\n",
    "    from sklearn.utils.linear_assignment_ import linear_assignment\n",
    "    ind = linear_assignment(w.max() - w)\n",
    "    return sum([w[i, j] for i, j in ind]) * 1.0 / y_pred.size"
   ]
  },
  {
   "cell_type": "code",
   "execution_count": 3,
   "metadata": {},
   "outputs": [],
   "source": [
    "random_seed = [1111, 2222, 3333, 4444, 5555, 6666, 7777, 8888, 9999, 10000]\n",
    "\n",
    "parser = argparse.ArgumentParser(description=\"train\", formatter_class=argparse.ArgumentDefaultsHelpFormatter)\n",
    "# parser.add_argument(\"--dataname\", default = \"Quake_10x_Bladder\", type = str)\n",
    "parser.add_argument(\"--dataname\", default = \"data_-1.5c15\", type = str)\n",
    "\n",
    "parser.add_argument(\"--distribution\", default = \"ZINB\")\n",
    "parser.add_argument(\"--self_training\", default = True)\n",
    "parser.add_argument(\"--dims\", default = [499, 256, 64, 32])\n",
    "parser.add_argument(\"--highly_genes\", default = 500)\n",
    "parser.add_argument(\"--alpha\", default = 0.001, type = float)\n",
    "parser.add_argument(\"--gamma\", default = 0.001, type = float)\n",
    "parser.add_argument(\"--learning_rate\", default = 0.0001, type = float)\n",
    "parser.add_argument(\"--random_seed\", default = random_seed)\n",
    "parser.add_argument(\"--batch_size\", default = 256, type = int)\n",
    "parser.add_argument(\"--update_epoch\", default = 10, type = int)\n",
    "parser.add_argument(\"--pretrain_epoch\", default = 1000, type = int)\n",
    "parser.add_argument(\"--funetrain_epoch\", default = 2000, type = int)\n",
    "parser.add_argument(\"--t_alpha\", default = 1.0)\n",
    "parser.add_argument(\"--noise_sd\", default = 1.5)\n",
    "parser.add_argument(\"--error\", default = 0.001, type = float)\n",
    "parser.add_argument(\"--gpu_option\", default = \"0\")\n",
    "\n",
    "args = parser.parse_args(\"\")"
   ]
  },
  {
   "cell_type": "code",
   "execution_count": 7,
   "metadata": {},
   "outputs": [
    {
     "data": {
      "text/plain": [
       "['10X_PBMC_select_2100',\n",
       " 'mouse_ES_cell',\n",
       " 'worm_neuron_cell_select_2100',\n",
       " 'worm_neuron_cell',\n",
       " 'mouse_bladder_cell',\n",
       " 'mouse_ES_cell_select_2100',\n",
       " 'mouse_bladder_cell_select_2100',\n",
       " '10X_PBMC']"
      ]
     },
     "execution_count": 7,
     "metadata": {},
     "output_type": "execute_result"
    }
   ],
   "source": [
    "category = \"real_data\"\n",
    "import glob2\n",
    "files = glob2.glob('../real_data/*.h5')\n",
    "files = [f[len(\"../real_data/\"):-3] for f in files]\n",
    "files"
   ]
  },
  {
   "cell_type": "code",
   "execution_count": 9,
   "metadata": {},
   "outputs": [
    {
     "name": "stdout",
     "output_type": "stream",
     "text": [
      "0.922900120956327\n",
      "(2100, 16653) (2100, 16653)\n",
      "(2100, 16653) (2100, 16653)\n",
      "(2100, 499) (2100, 16653)\n",
      "WARNING:tensorflow:From /workspace/notebooks/deep_clustering/deep_clustering/others/scziDesk_network.py:25: The name tf.placeholder is deprecated. Please use tf.compat.v1.placeholder instead.\n",
      "\n",
      "WARNING:tensorflow:From /workspace/notebooks/deep_clustering/deep_clustering/others/scziDesk_network.py:29: The name tf.get_variable is deprecated. Please use tf.compat.v1.get_variable instead.\n",
      "\n",
      "WARNING:tensorflow:From /opt/conda/lib/python3.7/site-packages/tensorflow_core/python/ops/resource_variable_ops.py:1630: calling BaseResourceVariable.__init__ (from tensorflow.python.ops.resource_variable_ops) with constraint is deprecated and will be removed in a future version.\n",
      "Instructions for updating:\n",
      "If using Keras pass *_constraint arguments to layers.\n",
      "WARNING:tensorflow:From /workspace/notebooks/deep_clustering/deep_clustering/others/scziDesk_loss.py:32: The name tf.lgamma is deprecated. Please use tf.math.lgamma instead.\n",
      "\n",
      "WARNING:tensorflow:From /workspace/notebooks/deep_clustering/deep_clustering/others/scziDesk_loss.py:33: The name tf.log is deprecated. Please use tf.math.log instead.\n",
      "\n",
      "WARNING:tensorflow:From /workspace/notebooks/deep_clustering/deep_clustering/others/scziDesk_loss.py:12: The name tf.is_nan is deprecated. Please use tf.math.is_nan instead.\n",
      "\n",
      "WARNING:tensorflow:From /workspace/notebooks/deep_clustering/deep_clustering/others/scziDesk_loss.py:12: where (from tensorflow.python.ops.array_ops) is deprecated and will be removed in a future version.\n",
      "Instructions for updating:\n",
      "Use tf.where in 2.0, which has the same broadcast rule as np.where\n",
      "WARNING:tensorflow:From /workspace/notebooks/deep_clustering/deep_clustering/others/scziDesk_network.py:77: The name tf.train.AdamOptimizer is deprecated. Please use tf.compat.v1.train.AdamOptimizer instead.\n",
      "\n",
      "begin the pretraining\n",
      "WARNING:tensorflow:From /workspace/notebooks/deep_clustering/deep_clustering/others/scziDesk_network.py:83: The name tf.global_variables_initializer is deprecated. Please use tf.compat.v1.global_variables_initializer instead.\n",
      "\n",
      "WARNING:tensorflow:From /workspace/notebooks/deep_clustering/deep_clustering/others/scziDesk_network.py:83: The name tf.local_variables_initializer is deprecated. Please use tf.compat.v1.local_variables_initializer instead.\n",
      "\n",
      "WARNING:tensorflow:From /workspace/notebooks/deep_clustering/deep_clustering/others/scziDesk_network.py:86: The name tf.ConfigProto is deprecated. Please use tf.compat.v1.ConfigProto instead.\n",
      "\n",
      "WARNING:tensorflow:From /workspace/notebooks/deep_clustering/deep_clustering/others/scziDesk_network.py:89: The name tf.Session is deprecated. Please use tf.compat.v1.Session instead.\n",
      "\n",
      "WARNING:tensorflow:From /workspace/notebooks/deep_clustering/deep_clustering/others/scziDesk_network.py:126: The name tf.assign is deprecated. Please use tf.compat.v1.assign instead.\n",
      "\n",
      "begin the funetraining\n",
      "ARI 0.65355, NMI 0.71689\n",
      "0 ARI 0.65355, NMI 0.71689\n"
     ]
    },
    {
     "name": "stderr",
     "output_type": "stream",
     "text": [
      "/opt/conda/lib/python3.7/site-packages/sklearn/utils/linear_assignment_.py:22: FutureWarning: The linear_assignment_ module is deprecated in 0.21 and will be removed from 0.23. Use scipy.optimize.linear_sum_assignment instead.\n",
      "  FutureWarning)\n",
      "/opt/conda/lib/python3.7/site-packages/sklearn/utils/linear_assignment_.py:128: FutureWarning: The linear_assignment function is deprecated in 0.21 and will be removed from 0.23. Use scipy.optimize.linear_sum_assignment instead.\n",
      "  FutureWarning)\n",
      "/opt/conda/lib/python3.7/site-packages/sklearn/utils/linear_assignment_.py:128: FutureWarning: The linear_assignment function is deprecated in 0.21 and will be removed from 0.23. Use scipy.optimize.linear_sum_assignment instead.\n",
      "  FutureWarning)\n"
     ]
    },
    {
     "name": "stdout",
     "output_type": "stream",
     "text": [
      "begin the pretraining\n",
      "begin the funetraining\n",
      "ARI 0.517, NMI 0.67979\n",
      "0 ARI 0.517, NMI 0.67979\n"
     ]
    },
    {
     "name": "stderr",
     "output_type": "stream",
     "text": [
      "/opt/conda/lib/python3.7/site-packages/sklearn/utils/linear_assignment_.py:128: FutureWarning: The linear_assignment function is deprecated in 0.21 and will be removed from 0.23. Use scipy.optimize.linear_sum_assignment instead.\n",
      "  FutureWarning)\n",
      "/opt/conda/lib/python3.7/site-packages/sklearn/utils/linear_assignment_.py:128: FutureWarning: The linear_assignment function is deprecated in 0.21 and will be removed from 0.23. Use scipy.optimize.linear_sum_assignment instead.\n",
      "  FutureWarning)\n"
     ]
    },
    {
     "name": "stdout",
     "output_type": "stream",
     "text": [
      "begin the pretraining\n",
      "begin the funetraining\n",
      "ARI 0.64967, NMI 0.71946\n",
      "0 ARI 0.64967, NMI 0.71946\n"
     ]
    },
    {
     "name": "stderr",
     "output_type": "stream",
     "text": [
      "/opt/conda/lib/python3.7/site-packages/sklearn/utils/linear_assignment_.py:128: FutureWarning: The linear_assignment function is deprecated in 0.21 and will be removed from 0.23. Use scipy.optimize.linear_sum_assignment instead.\n",
      "  FutureWarning)\n",
      "/opt/conda/lib/python3.7/site-packages/sklearn/utils/linear_assignment_.py:128: FutureWarning: The linear_assignment function is deprecated in 0.21 and will be removed from 0.23. Use scipy.optimize.linear_sum_assignment instead.\n",
      "  FutureWarning)\n"
     ]
    },
    {
     "name": "stdout",
     "output_type": "stream",
     "text": [
      "0.6576444836391497\n",
      "(2717, 24175) (2717, 24175)\n",
      "(2717, 24175) (2717, 24175)\n",
      "(2717, 500) (2717, 24175)\n",
      "begin the pretraining\n",
      "begin the funetraining\n",
      "ARI 0.79327, NMI 0.76967\n",
      "0 ARI 0.79408, NMI 0.77008\n",
      "10 ARI 0.79477, NMI 0.77349\n",
      "20 ARI 0.79592, NMI 0.7747\n"
     ]
    },
    {
     "name": "stderr",
     "output_type": "stream",
     "text": [
      "/opt/conda/lib/python3.7/site-packages/sklearn/utils/linear_assignment_.py:128: FutureWarning: The linear_assignment function is deprecated in 0.21 and will be removed from 0.23. Use scipy.optimize.linear_sum_assignment instead.\n",
      "  FutureWarning)\n",
      "/opt/conda/lib/python3.7/site-packages/sklearn/utils/linear_assignment_.py:128: FutureWarning: The linear_assignment function is deprecated in 0.21 and will be removed from 0.23. Use scipy.optimize.linear_sum_assignment instead.\n",
      "  FutureWarning)\n"
     ]
    },
    {
     "name": "stdout",
     "output_type": "stream",
     "text": [
      "begin the pretraining\n",
      "begin the funetraining\n",
      "ARI 0.78887, NMI 0.76943\n",
      "0 ARI 0.78615, NMI 0.76973\n",
      "10 ARI 0.79273, NMI 0.77335\n",
      "20 ARI 0.79517, NMI 0.77568\n",
      "30 ARI 0.79517, NMI 0.77568\n"
     ]
    },
    {
     "name": "stderr",
     "output_type": "stream",
     "text": [
      "/opt/conda/lib/python3.7/site-packages/sklearn/utils/linear_assignment_.py:128: FutureWarning: The linear_assignment function is deprecated in 0.21 and will be removed from 0.23. Use scipy.optimize.linear_sum_assignment instead.\n",
      "  FutureWarning)\n",
      "/opt/conda/lib/python3.7/site-packages/sklearn/utils/linear_assignment_.py:128: FutureWarning: The linear_assignment function is deprecated in 0.21 and will be removed from 0.23. Use scipy.optimize.linear_sum_assignment instead.\n",
      "  FutureWarning)\n"
     ]
    },
    {
     "name": "stdout",
     "output_type": "stream",
     "text": [
      "begin the pretraining\n",
      "begin the funetraining\n",
      "ARI 0.81193, NMI 0.79711\n",
      "0 ARI 0.81031, NMI 0.79476\n",
      "10 ARI 0.81026, NMI 0.79181\n",
      "20 ARI 0.81026, NMI 0.79181\n"
     ]
    },
    {
     "name": "stderr",
     "output_type": "stream",
     "text": [
      "/opt/conda/lib/python3.7/site-packages/sklearn/utils/linear_assignment_.py:128: FutureWarning: The linear_assignment function is deprecated in 0.21 and will be removed from 0.23. Use scipy.optimize.linear_sum_assignment instead.\n",
      "  FutureWarning)\n",
      "/opt/conda/lib/python3.7/site-packages/sklearn/utils/linear_assignment_.py:128: FutureWarning: The linear_assignment function is deprecated in 0.21 and will be removed from 0.23. Use scipy.optimize.linear_sum_assignment instead.\n",
      "  FutureWarning)\n"
     ]
    },
    {
     "name": "stdout",
     "output_type": "stream",
     "text": [
      "0.9861758600237248\n",
      "(2100, 13488) (2100, 13488)\n",
      "(2100, 13488) (2100, 13488)\n",
      "(2100, 499) (2100, 13488)\n",
      "begin the pretraining\n",
      "begin the funetraining\n",
      "ARI 0.2323, NMI 0.40068\n",
      "0 ARI 0.23094, NMI 0.3996\n",
      "10 ARI 0.22639, NMI 0.39801\n",
      "20 ARI 0.21264, NMI 0.3972\n",
      "30 ARI 0.2014, NMI 0.39731\n",
      "40 ARI 0.19141, NMI 0.39164\n",
      "50 ARI 0.17826, NMI 0.38358\n",
      "60 ARI 0.15619, NMI 0.36692\n",
      "70 ARI 0.12913, NMI 0.34143\n",
      "80 ARI 0.12851, NMI 0.34082\n",
      "90 ARI 0.12801, NMI 0.34043\n",
      "100 ARI 0.12664, NMI 0.33932\n"
     ]
    },
    {
     "name": "stderr",
     "output_type": "stream",
     "text": [
      "/opt/conda/lib/python3.7/site-packages/sklearn/utils/linear_assignment_.py:128: FutureWarning: The linear_assignment function is deprecated in 0.21 and will be removed from 0.23. Use scipy.optimize.linear_sum_assignment instead.\n",
      "  FutureWarning)\n",
      "/opt/conda/lib/python3.7/site-packages/sklearn/utils/linear_assignment_.py:128: FutureWarning: The linear_assignment function is deprecated in 0.21 and will be removed from 0.23. Use scipy.optimize.linear_sum_assignment instead.\n",
      "  FutureWarning)\n"
     ]
    },
    {
     "name": "stdout",
     "output_type": "stream",
     "text": [
      "begin the pretraining\n",
      "begin the funetraining\n",
      "ARI 0.23122, NMI 0.40334\n",
      "0 ARI 0.23038, NMI 0.4027\n"
     ]
    },
    {
     "name": "stderr",
     "output_type": "stream",
     "text": [
      "/opt/conda/lib/python3.7/site-packages/sklearn/utils/linear_assignment_.py:128: FutureWarning: The linear_assignment function is deprecated in 0.21 and will be removed from 0.23. Use scipy.optimize.linear_sum_assignment instead.\n",
      "  FutureWarning)\n",
      "/opt/conda/lib/python3.7/site-packages/sklearn/utils/linear_assignment_.py:128: FutureWarning: The linear_assignment function is deprecated in 0.21 and will be removed from 0.23. Use scipy.optimize.linear_sum_assignment instead.\n",
      "  FutureWarning)\n"
     ]
    },
    {
     "name": "stdout",
     "output_type": "stream",
     "text": [
      "begin the pretraining\n",
      "begin the funetraining\n",
      "ARI 0.24394, NMI 0.40246\n",
      "0 ARI 0.24394, NMI 0.40246\n"
     ]
    },
    {
     "name": "stderr",
     "output_type": "stream",
     "text": [
      "/opt/conda/lib/python3.7/site-packages/sklearn/utils/linear_assignment_.py:128: FutureWarning: The linear_assignment function is deprecated in 0.21 and will be removed from 0.23. Use scipy.optimize.linear_sum_assignment instead.\n",
      "  FutureWarning)\n",
      "/opt/conda/lib/python3.7/site-packages/sklearn/utils/linear_assignment_.py:128: FutureWarning: The linear_assignment function is deprecated in 0.21 and will be removed from 0.23. Use scipy.optimize.linear_sum_assignment instead.\n",
      "  FutureWarning)\n"
     ]
    },
    {
     "name": "stdout",
     "output_type": "stream",
     "text": [
      "0.9861813427688408\n",
      "(4186, 13488) (4186, 13488)\n",
      "(4186, 13488) (4186, 13488)\n",
      "(4186, 499) (4186, 13488)\n",
      "begin the pretraining\n",
      "begin the funetraining\n",
      "ARI 0.23573, NMI 0.39892\n",
      "0 ARI 0.23577, NMI 0.39766\n",
      "10 ARI 0.16317, NMI 0.38028\n",
      "20 ARI 0.1062, NMI 0.31739\n",
      "30 ARI 0.08097, NMI 0.27711\n",
      "40 ARI 0.07816, NMI 0.27325\n",
      "50 ARI 0.07641, NMI 0.27082\n",
      "60 ARI 0.07487, NMI 0.26859\n",
      "70 ARI 0.07392, NMI 0.26712\n",
      "80 ARI 0.07326, NMI 0.2664\n",
      "90 ARI 0.07259, NMI 0.26525\n",
      "100 ARI 0.07251, NMI 0.26488\n"
     ]
    },
    {
     "name": "stderr",
     "output_type": "stream",
     "text": [
      "/opt/conda/lib/python3.7/site-packages/sklearn/utils/linear_assignment_.py:128: FutureWarning: The linear_assignment function is deprecated in 0.21 and will be removed from 0.23. Use scipy.optimize.linear_sum_assignment instead.\n",
      "  FutureWarning)\n",
      "/opt/conda/lib/python3.7/site-packages/sklearn/utils/linear_assignment_.py:128: FutureWarning: The linear_assignment function is deprecated in 0.21 and will be removed from 0.23. Use scipy.optimize.linear_sum_assignment instead.\n",
      "  FutureWarning)\n"
     ]
    },
    {
     "name": "stdout",
     "output_type": "stream",
     "text": [
      "begin the pretraining\n",
      "begin the funetraining\n",
      "ARI 0.18423, NMI 0.35369\n",
      "0 ARI 0.18441, NMI 0.35388\n",
      "10 ARI 0.08361, NMI 0.28927\n",
      "20 ARI 0.05511, NMI 0.21838\n",
      "30 ARI 0.05018, NMI 0.20995\n",
      "40 ARI 0.04466, NMI 0.20299\n",
      "50 ARI 0.04334, NMI 0.20237\n",
      "60 ARI 0.04369, NMI 0.20201\n",
      "70 ARI 0.04366, NMI 0.20187\n"
     ]
    },
    {
     "name": "stderr",
     "output_type": "stream",
     "text": [
      "/opt/conda/lib/python3.7/site-packages/sklearn/utils/linear_assignment_.py:128: FutureWarning: The linear_assignment function is deprecated in 0.21 and will be removed from 0.23. Use scipy.optimize.linear_sum_assignment instead.\n",
      "  FutureWarning)\n",
      "/opt/conda/lib/python3.7/site-packages/sklearn/utils/linear_assignment_.py:128: FutureWarning: The linear_assignment function is deprecated in 0.21 and will be removed from 0.23. Use scipy.optimize.linear_sum_assignment instead.\n",
      "  FutureWarning)\n"
     ]
    },
    {
     "name": "stdout",
     "output_type": "stream",
     "text": [
      "begin the pretraining\n",
      "begin the funetraining\n",
      "ARI 0.23702, NMI 0.40126\n",
      "0 ARI 0.23767, NMI 0.40234\n",
      "10 ARI 0.13182, NMI 0.3471\n",
      "20 ARI 0.0851, NMI 0.28654\n",
      "30 ARI 0.08049, NMI 0.28171\n",
      "40 ARI 0.0776, NMI 0.27871\n",
      "50 ARI 0.07703, NMI 0.27828\n",
      "60 ARI 0.07673, NMI 0.278\n",
      "70 ARI 0.07662, NMI 0.27793\n",
      "80 ARI 0.07602, NMI 0.27689\n",
      "90 ARI 0.07505, NMI 0.27536\n",
      "100 ARI 0.0745, NMI 0.27482\n"
     ]
    },
    {
     "name": "stderr",
     "output_type": "stream",
     "text": [
      "/opt/conda/lib/python3.7/site-packages/sklearn/utils/linear_assignment_.py:128: FutureWarning: The linear_assignment function is deprecated in 0.21 and will be removed from 0.23. Use scipy.optimize.linear_sum_assignment instead.\n",
      "  FutureWarning)\n",
      "/opt/conda/lib/python3.7/site-packages/sklearn/utils/linear_assignment_.py:128: FutureWarning: The linear_assignment function is deprecated in 0.21 and will be removed from 0.23. Use scipy.optimize.linear_sum_assignment instead.\n",
      "  FutureWarning)\n"
     ]
    },
    {
     "name": "stdout",
     "output_type": "stream",
     "text": [
      "0.9486727054455071\n",
      "(2746, 20670) (2746, 20670)\n",
      "(2746, 20670) (2746, 20670)\n",
      "(2746, 499) (2746, 20670)\n",
      "begin the pretraining\n",
      "begin the funetraining\n",
      "ARI 0.43659, NMI 0.64716\n",
      "0 ARI 0.43661, NMI 0.64724\n"
     ]
    },
    {
     "name": "stderr",
     "output_type": "stream",
     "text": [
      "/opt/conda/lib/python3.7/site-packages/sklearn/utils/linear_assignment_.py:128: FutureWarning: The linear_assignment function is deprecated in 0.21 and will be removed from 0.23. Use scipy.optimize.linear_sum_assignment instead.\n",
      "  FutureWarning)\n",
      "/opt/conda/lib/python3.7/site-packages/sklearn/utils/linear_assignment_.py:128: FutureWarning: The linear_assignment function is deprecated in 0.21 and will be removed from 0.23. Use scipy.optimize.linear_sum_assignment instead.\n",
      "  FutureWarning)\n"
     ]
    },
    {
     "name": "stdout",
     "output_type": "stream",
     "text": [
      "begin the pretraining\n",
      "begin the funetraining\n",
      "ARI 0.44207, NMI 0.657\n",
      "0 ARI 0.44232, NMI 0.65706\n"
     ]
    },
    {
     "name": "stderr",
     "output_type": "stream",
     "text": [
      "/opt/conda/lib/python3.7/site-packages/sklearn/utils/linear_assignment_.py:128: FutureWarning: The linear_assignment function is deprecated in 0.21 and will be removed from 0.23. Use scipy.optimize.linear_sum_assignment instead.\n",
      "  FutureWarning)\n",
      "/opt/conda/lib/python3.7/site-packages/sklearn/utils/linear_assignment_.py:128: FutureWarning: The linear_assignment function is deprecated in 0.21 and will be removed from 0.23. Use scipy.optimize.linear_sum_assignment instead.\n",
      "  FutureWarning)\n"
     ]
    },
    {
     "name": "stdout",
     "output_type": "stream",
     "text": [
      "begin the pretraining\n",
      "begin the funetraining\n",
      "ARI 0.45134, NMI 0.65228\n",
      "0 ARI 0.45163, NMI 0.65246\n"
     ]
    },
    {
     "name": "stderr",
     "output_type": "stream",
     "text": [
      "/opt/conda/lib/python3.7/site-packages/sklearn/utils/linear_assignment_.py:128: FutureWarning: The linear_assignment function is deprecated in 0.21 and will be removed from 0.23. Use scipy.optimize.linear_sum_assignment instead.\n",
      "  FutureWarning)\n",
      "/opt/conda/lib/python3.7/site-packages/sklearn/utils/linear_assignment_.py:128: FutureWarning: The linear_assignment function is deprecated in 0.21 and will be removed from 0.23. Use scipy.optimize.linear_sum_assignment instead.\n",
      "  FutureWarning)\n"
     ]
    },
    {
     "name": "stdout",
     "output_type": "stream",
     "text": [
      "0.6597349879351948\n",
      "(2100, 24175) (2100, 24175)\n",
      "(2100, 24175) (2100, 24175)\n",
      "(2100, 499) (2100, 24175)\n",
      "begin the pretraining\n",
      "begin the funetraining\n",
      "ARI 0.79723, NMI 0.78692\n",
      "0 ARI 0.79723, NMI 0.78692\n"
     ]
    },
    {
     "name": "stderr",
     "output_type": "stream",
     "text": [
      "/opt/conda/lib/python3.7/site-packages/sklearn/utils/linear_assignment_.py:128: FutureWarning: The linear_assignment function is deprecated in 0.21 and will be removed from 0.23. Use scipy.optimize.linear_sum_assignment instead.\n",
      "  FutureWarning)\n",
      "/opt/conda/lib/python3.7/site-packages/sklearn/utils/linear_assignment_.py:128: FutureWarning: The linear_assignment function is deprecated in 0.21 and will be removed from 0.23. Use scipy.optimize.linear_sum_assignment instead.\n",
      "  FutureWarning)\n"
     ]
    },
    {
     "name": "stdout",
     "output_type": "stream",
     "text": [
      "begin the pretraining\n",
      "begin the funetraining\n",
      "ARI 0.79833, NMI 0.78739\n",
      "0 ARI 0.79833, NMI 0.78739\n"
     ]
    },
    {
     "name": "stderr",
     "output_type": "stream",
     "text": [
      "/opt/conda/lib/python3.7/site-packages/sklearn/utils/linear_assignment_.py:128: FutureWarning: The linear_assignment function is deprecated in 0.21 and will be removed from 0.23. Use scipy.optimize.linear_sum_assignment instead.\n",
      "  FutureWarning)\n",
      "/opt/conda/lib/python3.7/site-packages/sklearn/utils/linear_assignment_.py:128: FutureWarning: The linear_assignment function is deprecated in 0.21 and will be removed from 0.23. Use scipy.optimize.linear_sum_assignment instead.\n",
      "  FutureWarning)\n"
     ]
    },
    {
     "name": "stdout",
     "output_type": "stream",
     "text": [
      "begin the pretraining\n",
      "begin the funetraining\n",
      "ARI 0.79605, NMI 0.77687\n",
      "0 ARI 0.79605, NMI 0.77687\n"
     ]
    },
    {
     "name": "stderr",
     "output_type": "stream",
     "text": [
      "/opt/conda/lib/python3.7/site-packages/sklearn/utils/linear_assignment_.py:128: FutureWarning: The linear_assignment function is deprecated in 0.21 and will be removed from 0.23. Use scipy.optimize.linear_sum_assignment instead.\n",
      "  FutureWarning)\n",
      "/opt/conda/lib/python3.7/site-packages/sklearn/utils/linear_assignment_.py:128: FutureWarning: The linear_assignment function is deprecated in 0.21 and will be removed from 0.23. Use scipy.optimize.linear_sum_assignment instead.\n",
      "  FutureWarning)\n"
     ]
    },
    {
     "name": "stdout",
     "output_type": "stream",
     "text": [
      "0.9489742437855645\n",
      "(2100, 20670) (2100, 20670)\n",
      "(2100, 20670) (2100, 20670)\n",
      "(2100, 499) (2100, 20670)\n",
      "begin the pretraining\n",
      "begin the funetraining\n",
      "ARI 0.54971, NMI 0.70163\n",
      "0 ARI 0.54877, NMI 0.70112\n"
     ]
    },
    {
     "name": "stderr",
     "output_type": "stream",
     "text": [
      "/opt/conda/lib/python3.7/site-packages/sklearn/utils/linear_assignment_.py:128: FutureWarning: The linear_assignment function is deprecated in 0.21 and will be removed from 0.23. Use scipy.optimize.linear_sum_assignment instead.\n",
      "  FutureWarning)\n",
      "/opt/conda/lib/python3.7/site-packages/sklearn/utils/linear_assignment_.py:128: FutureWarning: The linear_assignment function is deprecated in 0.21 and will be removed from 0.23. Use scipy.optimize.linear_sum_assignment instead.\n",
      "  FutureWarning)\n"
     ]
    },
    {
     "name": "stdout",
     "output_type": "stream",
     "text": [
      "begin the pretraining\n",
      "begin the funetraining\n",
      "ARI 0.49867, NMI 0.68393\n",
      "0 ARI 0.49864, NMI 0.68384\n"
     ]
    },
    {
     "name": "stderr",
     "output_type": "stream",
     "text": [
      "/opt/conda/lib/python3.7/site-packages/sklearn/utils/linear_assignment_.py:128: FutureWarning: The linear_assignment function is deprecated in 0.21 and will be removed from 0.23. Use scipy.optimize.linear_sum_assignment instead.\n",
      "  FutureWarning)\n",
      "/opt/conda/lib/python3.7/site-packages/sklearn/utils/linear_assignment_.py:128: FutureWarning: The linear_assignment function is deprecated in 0.21 and will be removed from 0.23. Use scipy.optimize.linear_sum_assignment instead.\n",
      "  FutureWarning)\n"
     ]
    },
    {
     "name": "stdout",
     "output_type": "stream",
     "text": [
      "begin the pretraining\n",
      "begin the funetraining\n",
      "ARI 0.4999, NMI 0.68446\n",
      "0 ARI 0.49931, NMI 0.68463\n"
     ]
    },
    {
     "name": "stderr",
     "output_type": "stream",
     "text": [
      "/opt/conda/lib/python3.7/site-packages/sklearn/utils/linear_assignment_.py:128: FutureWarning: The linear_assignment function is deprecated in 0.21 and will be removed from 0.23. Use scipy.optimize.linear_sum_assignment instead.\n",
      "  FutureWarning)\n",
      "/opt/conda/lib/python3.7/site-packages/sklearn/utils/linear_assignment_.py:128: FutureWarning: The linear_assignment function is deprecated in 0.21 and will be removed from 0.23. Use scipy.optimize.linear_sum_assignment instead.\n",
      "  FutureWarning)\n"
     ]
    },
    {
     "name": "stdout",
     "output_type": "stream",
     "text": [
      "0.9223690984556294\n",
      "(4271, 16653) (4271, 16653)\n",
      "(4271, 16653) (4271, 16653)\n",
      "(4271, 499) (4271, 16653)\n",
      "begin the pretraining\n",
      "begin the funetraining\n",
      "ARI 0.48458, NMI 0.66199\n",
      "0 ARI 0.48477, NMI 0.66206\n"
     ]
    },
    {
     "name": "stderr",
     "output_type": "stream",
     "text": [
      "/opt/conda/lib/python3.7/site-packages/sklearn/utils/linear_assignment_.py:128: FutureWarning: The linear_assignment function is deprecated in 0.21 and will be removed from 0.23. Use scipy.optimize.linear_sum_assignment instead.\n",
      "  FutureWarning)\n",
      "/opt/conda/lib/python3.7/site-packages/sklearn/utils/linear_assignment_.py:128: FutureWarning: The linear_assignment function is deprecated in 0.21 and will be removed from 0.23. Use scipy.optimize.linear_sum_assignment instead.\n",
      "  FutureWarning)\n"
     ]
    },
    {
     "name": "stdout",
     "output_type": "stream",
     "text": [
      "begin the pretraining\n",
      "begin the funetraining\n",
      "ARI 0.61549, NMI 0.71626\n",
      "0 ARI 0.61347, NMI 0.71594\n",
      "10 ARI 0.55222, NMI 0.71056\n",
      "20 ARI 0.61025, NMI 0.7247\n",
      "30 ARI 0.61312, NMI 0.72535\n",
      "40 ARI 0.61454, NMI 0.72682\n",
      "50 ARI 0.61441, NMI 0.72699\n",
      "60 ARI 0.6158, NMI 0.7281\n",
      "70 ARI 0.6171, NMI 0.72849\n",
      "80 ARI 0.61875, NMI 0.72984\n",
      "90 ARI 0.61875, NMI 0.72984\n"
     ]
    },
    {
     "name": "stderr",
     "output_type": "stream",
     "text": [
      "/opt/conda/lib/python3.7/site-packages/sklearn/utils/linear_assignment_.py:128: FutureWarning: The linear_assignment function is deprecated in 0.21 and will be removed from 0.23. Use scipy.optimize.linear_sum_assignment instead.\n",
      "  FutureWarning)\n",
      "/opt/conda/lib/python3.7/site-packages/sklearn/utils/linear_assignment_.py:128: FutureWarning: The linear_assignment function is deprecated in 0.21 and will be removed from 0.23. Use scipy.optimize.linear_sum_assignment instead.\n",
      "  FutureWarning)\n"
     ]
    },
    {
     "name": "stdout",
     "output_type": "stream",
     "text": [
      "begin the pretraining\n",
      "begin the funetraining\n",
      "ARI 0.66697, NMI 0.73201\n",
      "0 ARI 0.6673, NMI 0.7323\n"
     ]
    },
    {
     "name": "stderr",
     "output_type": "stream",
     "text": [
      "/opt/conda/lib/python3.7/site-packages/sklearn/utils/linear_assignment_.py:128: FutureWarning: The linear_assignment function is deprecated in 0.21 and will be removed from 0.23. Use scipy.optimize.linear_sum_assignment instead.\n",
      "  FutureWarning)\n",
      "/opt/conda/lib/python3.7/site-packages/sklearn/utils/linear_assignment_.py:128: FutureWarning: The linear_assignment function is deprecated in 0.21 and will be removed from 0.23. Use scipy.optimize.linear_sum_assignment instead.\n",
      "  FutureWarning)\n"
     ]
    }
   ],
   "source": [
    "df = pd.DataFrame(columns = [\"dataset\", \"sczi\", \"run\"])\n",
    "for dataset in files:\n",
    "    data_mat = h5py.File(f\"{path}{category}/{dataset}.h5\", \"r\")\n",
    "    X = np.array(data_mat['X'])\n",
    "    Y = np.array(data_mat['Y'])\n",
    "    print(np.where(X ==0)[0].shape[0]/(X.shape[0]*X.shape[1]))\n",
    "\n",
    "\n",
    "    X = np.ceil(X).astype(np.int)\n",
    "    count_X = X\n",
    "    print(X.shape, count_X.shape)\n",
    "    orig_X = X.copy()\n",
    "    adata = sc.AnnData(X)\n",
    "    adata.obs['Group'] = Y\n",
    "\n",
    "    X = np.ceil(X).astype(np.int)\n",
    "    count_X = X\n",
    "    print(X.shape, count_X.shape)\n",
    "\n",
    "    adata = sc.AnnData(X)\n",
    "    adata.obs['Group'] = Y\n",
    "    adata = normalize(adata,\n",
    "                      copy=True,\n",
    "                      highly_genes=args.highly_genes,\n",
    "                      size_factors=True,\n",
    "                      normalize_input=True,\n",
    "                      logtrans_input=True)\n",
    "    X = adata.X.astype(np.float32)\n",
    "    Y = np.array(adata.obs[\"Group\"])\n",
    "    print(X.shape, count_X.shape)\n",
    "\n",
    "    high_variable = np.array(adata.var.highly_variable.index, dtype=np.int)\n",
    "    count_X = count_X[:, high_variable]\n",
    "    size_factor = np.array(adata.obs.size_factors).reshape(-1,\n",
    "                                                           1).astype(np.float32)\n",
    "    cluster_number = int(max(Y) - min(Y) + 1)\n",
    "#         X.shape, count_X.shape\n",
    "    args.dims[0]=X.shape[1]\n",
    "    \n",
    "    for run in range(3):\n",
    "        seed = run#args.random_seed[0]\n",
    "        np.random.seed(seed)\n",
    "        tf.reset_default_graph()\n",
    "        chencluster = autoencoder(args.dataname, args.distribution,\n",
    "                                  args.self_training, args.dims, cluster_number,\n",
    "                                  args.t_alpha, args.alpha, args.gamma,\n",
    "                                  args.learning_rate, args.noise_sd)\n",
    "        chencluster.pretrain(X, count_X, size_factor, args.batch_size,\n",
    "                             args.pretrain_epoch, args.gpu_option)\n",
    "\n",
    "        chencluster.funetrain(X, count_X, size_factor, args.batch_size,\n",
    "                              args.funetrain_epoch, args.update_epoch, args.error, Y)\n",
    "\n",
    "        kmeans_accuracy = np.around(cluster_acc(Y, chencluster.kmeans_pred), 5)\n",
    "        kmeans_ARI = np.around(adjusted_rand_score(Y, chencluster.kmeans_pred), 5)\n",
    "        kmeans_NMI = np.around(\n",
    "            normalized_mutual_info_score(Y, chencluster.kmeans_pred), 5)\n",
    "        accuracy = np.around(cluster_acc(Y, chencluster.Y_pred), 5)\n",
    "        ARI = np.around(adjusted_rand_score(Y, chencluster.Y_pred), 5)\n",
    "        NMI = np.around(normalized_mutual_info_score(Y, chencluster.Y_pred), 5)\n",
    "\n",
    "        df.loc[df.shape[0]] = [dataset, ARI, run]\n",
    "\n",
    "        df.to_pickle(f\"{path}output/pickle_results/{category}_sczi.pkl\")"
   ]
  },
  {
   "cell_type": "code",
   "execution_count": 11,
   "metadata": {},
   "outputs": [
    {
     "data": {
      "text/html": [
       "<div>\n",
       "<style scoped>\n",
       "    .dataframe tbody tr th:only-of-type {\n",
       "        vertical-align: middle;\n",
       "    }\n",
       "\n",
       "    .dataframe tbody tr th {\n",
       "        vertical-align: top;\n",
       "    }\n",
       "\n",
       "    .dataframe thead th {\n",
       "        text-align: right;\n",
       "    }\n",
       "</style>\n",
       "<table border=\"1\" class=\"dataframe\">\n",
       "  <thead>\n",
       "    <tr style=\"text-align: right;\">\n",
       "      <th></th>\n",
       "      <th>dataset</th>\n",
       "      <th>sczi</th>\n",
       "      <th>run</th>\n",
       "    </tr>\n",
       "  </thead>\n",
       "  <tbody>\n",
       "    <tr>\n",
       "      <th>0</th>\n",
       "      <td>10X_PBMC_select_2100</td>\n",
       "      <td>0.65355</td>\n",
       "      <td>0</td>\n",
       "    </tr>\n",
       "    <tr>\n",
       "      <th>1</th>\n",
       "      <td>10X_PBMC_select_2100</td>\n",
       "      <td>0.51700</td>\n",
       "      <td>1</td>\n",
       "    </tr>\n",
       "    <tr>\n",
       "      <th>2</th>\n",
       "      <td>10X_PBMC_select_2100</td>\n",
       "      <td>0.64967</td>\n",
       "      <td>2</td>\n",
       "    </tr>\n",
       "    <tr>\n",
       "      <th>3</th>\n",
       "      <td>mouse_ES_cell</td>\n",
       "      <td>0.79592</td>\n",
       "      <td>0</td>\n",
       "    </tr>\n",
       "    <tr>\n",
       "      <th>4</th>\n",
       "      <td>mouse_ES_cell</td>\n",
       "      <td>0.79517</td>\n",
       "      <td>1</td>\n",
       "    </tr>\n",
       "    <tr>\n",
       "      <th>5</th>\n",
       "      <td>mouse_ES_cell</td>\n",
       "      <td>0.81026</td>\n",
       "      <td>2</td>\n",
       "    </tr>\n",
       "    <tr>\n",
       "      <th>6</th>\n",
       "      <td>worm_neuron_cell_select_2100</td>\n",
       "      <td>0.12664</td>\n",
       "      <td>0</td>\n",
       "    </tr>\n",
       "    <tr>\n",
       "      <th>7</th>\n",
       "      <td>worm_neuron_cell_select_2100</td>\n",
       "      <td>0.23038</td>\n",
       "      <td>1</td>\n",
       "    </tr>\n",
       "    <tr>\n",
       "      <th>8</th>\n",
       "      <td>worm_neuron_cell_select_2100</td>\n",
       "      <td>0.24394</td>\n",
       "      <td>2</td>\n",
       "    </tr>\n",
       "    <tr>\n",
       "      <th>9</th>\n",
       "      <td>worm_neuron_cell</td>\n",
       "      <td>0.07251</td>\n",
       "      <td>0</td>\n",
       "    </tr>\n",
       "    <tr>\n",
       "      <th>10</th>\n",
       "      <td>worm_neuron_cell</td>\n",
       "      <td>0.04366</td>\n",
       "      <td>1</td>\n",
       "    </tr>\n",
       "    <tr>\n",
       "      <th>11</th>\n",
       "      <td>worm_neuron_cell</td>\n",
       "      <td>0.07450</td>\n",
       "      <td>2</td>\n",
       "    </tr>\n",
       "    <tr>\n",
       "      <th>12</th>\n",
       "      <td>mouse_bladder_cell</td>\n",
       "      <td>0.43661</td>\n",
       "      <td>0</td>\n",
       "    </tr>\n",
       "    <tr>\n",
       "      <th>13</th>\n",
       "      <td>mouse_bladder_cell</td>\n",
       "      <td>0.44232</td>\n",
       "      <td>1</td>\n",
       "    </tr>\n",
       "    <tr>\n",
       "      <th>14</th>\n",
       "      <td>mouse_bladder_cell</td>\n",
       "      <td>0.45163</td>\n",
       "      <td>2</td>\n",
       "    </tr>\n",
       "    <tr>\n",
       "      <th>15</th>\n",
       "      <td>mouse_ES_cell_select_2100</td>\n",
       "      <td>0.79723</td>\n",
       "      <td>0</td>\n",
       "    </tr>\n",
       "    <tr>\n",
       "      <th>16</th>\n",
       "      <td>mouse_ES_cell_select_2100</td>\n",
       "      <td>0.79833</td>\n",
       "      <td>1</td>\n",
       "    </tr>\n",
       "    <tr>\n",
       "      <th>17</th>\n",
       "      <td>mouse_ES_cell_select_2100</td>\n",
       "      <td>0.79605</td>\n",
       "      <td>2</td>\n",
       "    </tr>\n",
       "    <tr>\n",
       "      <th>18</th>\n",
       "      <td>mouse_bladder_cell_select_2100</td>\n",
       "      <td>0.54877</td>\n",
       "      <td>0</td>\n",
       "    </tr>\n",
       "    <tr>\n",
       "      <th>19</th>\n",
       "      <td>mouse_bladder_cell_select_2100</td>\n",
       "      <td>0.49864</td>\n",
       "      <td>1</td>\n",
       "    </tr>\n",
       "    <tr>\n",
       "      <th>20</th>\n",
       "      <td>mouse_bladder_cell_select_2100</td>\n",
       "      <td>0.49931</td>\n",
       "      <td>2</td>\n",
       "    </tr>\n",
       "    <tr>\n",
       "      <th>21</th>\n",
       "      <td>10X_PBMC</td>\n",
       "      <td>0.48477</td>\n",
       "      <td>0</td>\n",
       "    </tr>\n",
       "    <tr>\n",
       "      <th>22</th>\n",
       "      <td>10X_PBMC</td>\n",
       "      <td>0.61875</td>\n",
       "      <td>1</td>\n",
       "    </tr>\n",
       "    <tr>\n",
       "      <th>23</th>\n",
       "      <td>10X_PBMC</td>\n",
       "      <td>0.66730</td>\n",
       "      <td>2</td>\n",
       "    </tr>\n",
       "  </tbody>\n",
       "</table>\n",
       "</div>"
      ],
      "text/plain": [
       "                           dataset     sczi run\n",
       "0             10X_PBMC_select_2100  0.65355   0\n",
       "1             10X_PBMC_select_2100  0.51700   1\n",
       "2             10X_PBMC_select_2100  0.64967   2\n",
       "3                    mouse_ES_cell  0.79592   0\n",
       "4                    mouse_ES_cell  0.79517   1\n",
       "5                    mouse_ES_cell  0.81026   2\n",
       "6     worm_neuron_cell_select_2100  0.12664   0\n",
       "7     worm_neuron_cell_select_2100  0.23038   1\n",
       "8     worm_neuron_cell_select_2100  0.24394   2\n",
       "9                 worm_neuron_cell  0.07251   0\n",
       "10                worm_neuron_cell  0.04366   1\n",
       "11                worm_neuron_cell  0.07450   2\n",
       "12              mouse_bladder_cell  0.43661   0\n",
       "13              mouse_bladder_cell  0.44232   1\n",
       "14              mouse_bladder_cell  0.45163   2\n",
       "15       mouse_ES_cell_select_2100  0.79723   0\n",
       "16       mouse_ES_cell_select_2100  0.79833   1\n",
       "17       mouse_ES_cell_select_2100  0.79605   2\n",
       "18  mouse_bladder_cell_select_2100  0.54877   0\n",
       "19  mouse_bladder_cell_select_2100  0.49864   1\n",
       "20  mouse_bladder_cell_select_2100  0.49931   2\n",
       "21                        10X_PBMC  0.48477   0\n",
       "22                        10X_PBMC  0.61875   1\n",
       "23                        10X_PBMC  0.66730   2"
      ]
     },
     "execution_count": 11,
     "metadata": {},
     "output_type": "execute_result"
    }
   ],
   "source": [
    "df\n"
   ]
  },
  {
   "cell_type": "code",
   "execution_count": 12,
   "metadata": {},
   "outputs": [
    {
     "data": {
      "text/html": [
       "<div>\n",
       "<style scoped>\n",
       "    .dataframe tbody tr th:only-of-type {\n",
       "        vertical-align: middle;\n",
       "    }\n",
       "\n",
       "    .dataframe tbody tr th {\n",
       "        vertical-align: top;\n",
       "    }\n",
       "\n",
       "    .dataframe thead th {\n",
       "        text-align: right;\n",
       "    }\n",
       "</style>\n",
       "<table border=\"1\" class=\"dataframe\">\n",
       "  <thead>\n",
       "    <tr style=\"text-align: right;\">\n",
       "      <th></th>\n",
       "      <th>sczi</th>\n",
       "    </tr>\n",
       "    <tr>\n",
       "      <th>dataset</th>\n",
       "      <th></th>\n",
       "    </tr>\n",
       "  </thead>\n",
       "  <tbody>\n",
       "    <tr>\n",
       "      <th>10X_PBMC</th>\n",
       "      <td>0.590273</td>\n",
       "    </tr>\n",
       "    <tr>\n",
       "      <th>10X_PBMC_select_2100</th>\n",
       "      <td>0.606740</td>\n",
       "    </tr>\n",
       "    <tr>\n",
       "      <th>mouse_ES_cell</th>\n",
       "      <td>0.800450</td>\n",
       "    </tr>\n",
       "    <tr>\n",
       "      <th>mouse_ES_cell_select_2100</th>\n",
       "      <td>0.797203</td>\n",
       "    </tr>\n",
       "    <tr>\n",
       "      <th>mouse_bladder_cell</th>\n",
       "      <td>0.443520</td>\n",
       "    </tr>\n",
       "    <tr>\n",
       "      <th>mouse_bladder_cell_select_2100</th>\n",
       "      <td>0.515573</td>\n",
       "    </tr>\n",
       "    <tr>\n",
       "      <th>worm_neuron_cell</th>\n",
       "      <td>0.063557</td>\n",
       "    </tr>\n",
       "    <tr>\n",
       "      <th>worm_neuron_cell_select_2100</th>\n",
       "      <td>0.200320</td>\n",
       "    </tr>\n",
       "  </tbody>\n",
       "</table>\n",
       "</div>"
      ],
      "text/plain": [
       "                                    sczi\n",
       "dataset                                 \n",
       "10X_PBMC                        0.590273\n",
       "10X_PBMC_select_2100            0.606740\n",
       "mouse_ES_cell                   0.800450\n",
       "mouse_ES_cell_select_2100       0.797203\n",
       "mouse_bladder_cell              0.443520\n",
       "mouse_bladder_cell_select_2100  0.515573\n",
       "worm_neuron_cell                0.063557\n",
       "worm_neuron_cell_select_2100    0.200320"
      ]
     },
     "execution_count": 12,
     "metadata": {},
     "output_type": "execute_result"
    }
   ],
   "source": [
    "df.groupby(\"dataset\").mean()"
   ]
  },
  {
   "cell_type": "code",
   "execution_count": null,
   "metadata": {},
   "outputs": [],
   "source": []
  },
  {
   "cell_type": "code",
   "execution_count": null,
   "metadata": {},
   "outputs": [],
   "source": []
  },
  {
   "cell_type": "code",
   "execution_count": null,
   "metadata": {},
   "outputs": [],
   "source": []
  },
  {
   "cell_type": "code",
   "execution_count": null,
   "metadata": {},
   "outputs": [],
   "source": []
  }
 ],
 "metadata": {
  "kernelspec": {
   "display_name": "Python 3",
   "language": "python",
   "name": "python3"
  },
  "language_info": {
   "codemirror_mode": {
    "name": "ipython",
    "version": 3
   },
   "file_extension": ".py",
   "mimetype": "text/x-python",
   "name": "python",
   "nbconvert_exporter": "python",
   "pygments_lexer": "ipython3",
   "version": "3.7.4"
  }
 },
 "nbformat": 4,
 "nbformat_minor": 4
}
