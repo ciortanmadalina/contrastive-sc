{
 "cells": [
  {
   "cell_type": "code",
   "execution_count": 1,
   "metadata": {},
   "outputs": [
    {
     "name": "stderr",
     "output_type": "stream",
     "text": [
      "/opt/conda/lib/python3.7/site-packages/scanpy/api/__init__.py:7: FutureWarning: \n",
      "\n",
      "In a future version of Scanpy, `scanpy.api` will be removed.\n",
      "Simply use `import scanpy as sc` and `import scanpy.external as sce` instead.\n",
      "\n",
      "  FutureWarning,\n"
     ]
    }
   ],
   "source": [
    "import sys\n",
    "sys.path.append(\"..\")\n",
    "from sklearn import metrics\n",
    "import torch\n",
    "import numpy as np\n",
    "import pandas as pd\n",
    "import matplotlib.pyplot as plt\n",
    "import h5py\n",
    "from collections import Counter\n",
    "import train\n",
    "import random\n",
    "run =0\n",
    "torch.manual_seed(run)\n",
    "torch.cuda.manual_seed_all(run)\n",
    "np.random.seed(run)\n",
    "random.seed(run)\n",
    "torch.backends.cudnn.deterministic = True\n",
    "torch.backends.cudnn.benchmark = False\n",
    "\n",
    "plt.ion()\n",
    "plt.show()\n",
    "%load_ext autoreload\n",
    "%autoreload 2\n",
    "\n",
    "import warnings\n",
    "warnings.filterwarnings(\"ignore\", category=FutureWarning)\n",
    "path= \"../\""
   ]
  },
  {
   "cell_type": "code",
   "execution_count": 2,
   "metadata": {},
   "outputs": [
    {
     "name": "stdout",
     "output_type": "stream",
     "text": [
      "data_-1c16.Rdata  data_0c16.Rdata  data_1.5c16.Rdata  data_1c16.Rdata\r\n",
      "data_-1c16.h5\t  data_0c16.h5\t   data_1.5c16.h5     data_1c16.h5\r\n",
      "data_-1c32.Rdata  data_0c32.Rdata  data_1.5c32.Rdata  data_1c32.Rdata\r\n",
      "data_-1c32.h5\t  data_0c32.h5\t   data_1.5c32.h5     data_1c32.h5\r\n",
      "data_-1c4.Rdata   data_0c4.Rdata   data_1.5c4.Rdata   data_1c4.Rdata\r\n",
      "data_-1c4.h5\t  data_0c4.h5\t   data_1.5c4.h5      data_1c4.h5\r\n",
      "data_-1c8.Rdata   data_0c8.Rdata   data_1.5c8.Rdata   data_1c8.Rdata\r\n",
      "data_-1c8.h5\t  data_0c8.h5\t   data_1.5c8.h5      data_1c8.h5\r\n"
     ]
    }
   ],
   "source": [
    "!ls ../R/simulated_data/balanced_data"
   ]
  },
  {
   "cell_type": "markdown",
   "metadata": {},
   "source": [
    "# Analyze simulated data"
   ]
  },
  {
   "cell_type": "markdown",
   "metadata": {},
   "source": [
    "## Load data"
   ]
  },
  {
   "cell_type": "code",
   "execution_count": 3,
   "metadata": {},
   "outputs": [
    {
     "name": "stdout",
     "output_type": "stream",
     "text": [
      "Dropout level 0.1697834482632689\n",
      "0.3634738\n",
      "(2000, 2500) (2000, 2500) keeping 500 genes\n"
     ]
    }
   ],
   "source": [
    "category = \"balanced_data\"\n",
    "dataset = \"data_0c8\"\n",
    "data_mat = h5py.File(f\"{path}R/simulated_data/{category}/{dataset}.h5\", \"r\")\n",
    "X = np.array(data_mat['X'])\n",
    "Y = np.array(data_mat['Y'])\n",
    "print(f\"Dropout level {data_mat['dropout'][0]}\")\n",
    "print(np.where(X ==0)[0].shape[0]/(X.shape[0]*X.shape[1]))\n",
    "nb_genes = 500\n",
    "X = train.preprocess(X, nb_genes = nb_genes)\n",
    "cluster_number = np.unique(Y).shape[0]"
   ]
  },
  {
   "cell_type": "code",
   "execution_count": 4,
   "metadata": {},
   "outputs": [
    {
     "name": "stdout",
     "output_type": "stream",
     "text": [
      "..................................................|..................................................|..................................................|"
     ]
    }
   ],
   "source": [
    "dresults = train.train(X,\n",
    "                       cluster_number,\n",
    "                       dataset,\n",
    "                       Y,\n",
    "                       n_ensemble=3,\n",
    "                       epochs=500,\n",
    "                       nb_zeros = \"random\",\n",
    "                       save_to=f\"{path}output/demo/{dataset}\")"
   ]
  },
  {
   "cell_type": "code",
   "execution_count": 5,
   "metadata": {},
   "outputs": [
    {
     "data": {
      "text/plain": [
       "{'kmeans_representation_0': 0.601293942417089,\n",
       " 'leiden_representation_0': 0.6360627455302457,\n",
       " 'kmeans_representation_1': 0.8421454307079843,\n",
       " 'leiden_representation_1': 0.772502154636717,\n",
       " 'kmeans_representation_2': 0.8761880287109794,\n",
       " 'leiden_representation_2': 0.7703863445268277,\n",
       " 'COMBINED_kmeans': 0.9280339385204789,\n",
       " 'COMBINED_leiden': 0.8678766236824088,\n",
       " 'network_0': 0.7455094991747439,\n",
       " 'network_1': 0.9043016333373203,\n",
       " 'network_2': 0.9265979982193975,\n",
       " 'dataset': 'data_0c8',\n",
       " 'cluster_number': 8}"
      ]
     },
     "execution_count": 5,
     "metadata": {},
     "output_type": "execute_result"
    }
   ],
   "source": [
    "dresults"
   ]
  },
  {
   "cell_type": "markdown",
   "metadata": {},
   "source": [
    "# Analyze real data"
   ]
  },
  {
   "cell_type": "code",
   "execution_count": 9,
   "metadata": {},
   "outputs": [],
   "source": [
    "dataset = '10X_PBMC'"
   ]
  },
  {
   "cell_type": "code",
   "execution_count": 11,
   "metadata": {},
   "outputs": [
    {
     "name": "stdout",
     "output_type": "stream",
     "text": [
      "0.9223690984556294\n",
      "(4271, 16653) (4271, 16653) keeping 1500 genes\n",
      "..........|..........|..........|"
     ]
    }
   ],
   "source": [
    "data_mat = h5py.File(f\"{path}real_data/{dataset}.h5\", \"r\")\n",
    "X = np.array(data_mat['X'])\n",
    "Y = np.array(data_mat['Y'])\n",
    "print(np.where(X ==0)[0].shape[0]/(X.shape[0]*X.shape[1]))\n",
    "cluster_number = np.unique(Y).shape[0]\n",
    "nb_genes = 1500\n",
    "data_mat = h5py.File(f\"{path}real_data/{dataset}.h5\", \"r\")\n",
    "X = np.array(data_mat['X'])\n",
    "Y = np.array(data_mat['Y'])\n",
    "\n",
    "\n",
    "X = train.preprocess(X, nb_genes = nb_genes)\n",
    "\n",
    "dresults = train.train(X,\n",
    "                       cluster_number,\n",
    "                       dataset,\n",
    "                       Y,\n",
    "                       n_ensemble=3,\n",
    "                       epochs=100,\n",
    "                       nb_zeros = \"random\",\n",
    "                       save_to=f\"{path}output/demo/{dataset}/\")"
   ]
  },
  {
   "cell_type": "code",
   "execution_count": 12,
   "metadata": {},
   "outputs": [
    {
     "data": {
      "text/plain": [
       "{'kmeans_representation_0': 0.4466518932821839,\n",
       " 'leiden_representation_0': 0.4830322616967395,\n",
       " 'kmeans_representation_1': 0.47981105848265326,\n",
       " 'leiden_representation_1': 0.4738449156504988,\n",
       " 'kmeans_representation_2': 0.4798548892802224,\n",
       " 'leiden_representation_2': 0.5010693516610626,\n",
       " 'COMBINED_kmeans': 0.5819980057812861,\n",
       " 'COMBINED_leiden': 0.7098463127490957,\n",
       " 'network_0': 0.48277201204297837,\n",
       " 'network_1': 0.506766961984818,\n",
       " 'network_2': 0.5019053432771821,\n",
       " 'dataset': '10X_PBMC',\n",
       " 'cluster_number': 8}"
      ]
     },
     "execution_count": 12,
     "metadata": {},
     "output_type": "execute_result"
    }
   ],
   "source": [
    "dresults"
   ]
  },
  {
   "cell_type": "code",
   "execution_count": null,
   "metadata": {},
   "outputs": [],
   "source": []
  }
 ],
 "metadata": {
  "kernelspec": {
   "display_name": "Python 3",
   "language": "python",
   "name": "python3"
  },
  "language_info": {
   "codemirror_mode": {
    "name": "ipython",
    "version": 3
   },
   "file_extension": ".py",
   "mimetype": "text/x-python",
   "name": "python",
   "nbconvert_exporter": "python",
   "pygments_lexer": "ipython3",
   "version": "3.7.4"
  }
 },
 "nbformat": 4,
 "nbformat_minor": 4
}
