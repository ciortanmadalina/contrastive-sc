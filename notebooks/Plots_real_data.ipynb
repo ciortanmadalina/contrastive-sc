{
 "cells": [
  {
   "cell_type": "code",
   "execution_count": 1,
   "metadata": {
    "ExecuteTime": {
     "end_time": "2020-10-14T07:51:24.989028Z",
     "start_time": "2020-10-14T07:51:24.961905Z"
    }
   },
   "outputs": [],
   "source": [
    "import sys\n",
    "sys.path.append(\"..\")\n",
    "path= \"../\"\n",
    "\n",
    "import argparse\n",
    "from sklearn.metrics import adjusted_rand_score, normalized_mutual_info_score\n",
    "from sklearn.cluster import KMeans\n",
    "from sklearn import metrics\n",
    "import seaborn as sns\n",
    "import copy\n",
    "import numpy as np\n",
    "import pandas as pd\n",
    "from sklearn.decomposition import PCA\n",
    "import matplotlib.pyplot as plt\n",
    "import h5py\n",
    "from collections import Counter\n",
    "import pickle\n",
    "import os\n",
    "plt.ion()\n",
    "plt.show()\n",
    "%load_ext autoreload\n",
    "%autoreload 2\n",
    "\n",
    "import warnings\n",
    "warnings.filterwarnings(\"ignore\", category=FutureWarning)\n",
    "plt.style.use(f'article.mplstyle')"
   ]
  },
  {
   "cell_type": "code",
   "execution_count": 2,
   "metadata": {},
   "outputs": [],
   "source": [
    "all_df= pd.read_pickle(f\"{path}output/pickle_results/real_data.pkl\")"
   ]
  },
  {
   "cell_type": "markdown",
   "metadata": {},
   "source": [
    "## Load results from competitors"
   ]
  },
  {
   "cell_type": "code",
   "execution_count": 3,
   "metadata": {
    "ExecuteTime": {
     "end_time": "2020-10-14T07:51:54.822680Z",
     "start_time": "2020-10-14T07:51:54.727019Z"
    }
   },
   "outputs": [],
   "source": [
    "sczi = pd.read_pickle(f\"{path}output/pickle_results/real_data_sczi.pkl\")\n",
    "all_df = pd.merge(all_df, sczi, on = [\"dataset\", \"run\"], how = \"left\")\n",
    "\n",
    "sczi = pd.read_pickle(f\"{path}output/pickle_results/real_data_scanpy.pkl\")\n",
    "all_df = pd.merge(all_df, sczi, on = [\"dataset\", \"run\"], how = \"left\")\n",
    "\n",
    "sczi = pd.read_pickle(f\"{path}output/pickle_results/real_data_scDeepCluster.pkl\")\n",
    "all_df = pd.merge(all_df, sczi, on = [\"dataset\", \"run\"], how = \"left\")\n",
    "all_df[\"cluster_number\"] = all_df[\"cluster_number\"].astype(int)"
   ]
  },
  {
   "cell_type": "code",
   "execution_count": 4,
   "metadata": {},
   "outputs": [
    {
     "data": {
      "text/plain": [
       "array(['10X_PBMC', '10X_PBMC_select_2100', 'mouse_ES_cell',\n",
       "       'mouse_ES_cell_select_2100', 'worm_neuron_cell_select_2100',\n",
       "       'worm_neuron_cell', 'mouse_bladder_cell',\n",
       "       'mouse_bladder_cell_select_2100'], dtype=object)"
      ]
     },
     "execution_count": 4,
     "metadata": {},
     "output_type": "execute_result"
    }
   ],
   "source": [
    "all_df[\"dataset\"].unique()"
   ]
  },
  {
   "cell_type": "code",
   "execution_count": 5,
   "metadata": {},
   "outputs": [],
   "source": [
    "dataset_names = {\n",
    "    '10X_PBMC': '10X PBMC',\n",
    "    '10X_PBMC_select_2100': '10X PBMC (2100)',\n",
    "    'mouse_ES_cell': 'Mouse ES\\nCell',\n",
    "    'mouse_ES_cell_select_2100': 'Mouse ES\\nCell (2100)',\n",
    "    'worm_neuron_cell_select_2100': 'Worm Neuron\\nCell (2100)',\n",
    "    'worm_neuron_cell': 'Worm Neuron\\nCell',\n",
    "    'mouse_bladder_cell': 'Mouse Bladder\\nCell',\n",
    "    'mouse_bladder_cell_select_2100': 'Mouse Bladder\\n Cell (2100)'\n",
    "}\n",
    "order_dataset ={'10X PBMC': 0,\n",
    " '10X PBMC (2100)': 1,\n",
    " 'Mouse ES\\nCell': 2,\n",
    " 'Mouse ES\\nCell (2100)': 3,\n",
    " 'Worm Neuron\\nCell (2100)': 4,\n",
    " 'Worm Neuron\\nCell': 5,\n",
    " 'Mouse Bladder\\nCell': 6,\n",
    " 'Mouse Bladder\\n Cell (2100)': 7}"
   ]
  },
  {
   "cell_type": "code",
   "execution_count": 6,
   "metadata": {},
   "outputs": [],
   "source": [
    "all_df[\"dataset\"] = all_df[\"dataset\"].apply(lambda x: dataset_names[x])"
   ]
  },
  {
   "cell_type": "code",
   "execution_count": 7,
   "metadata": {
    "ExecuteTime": {
     "end_time": "2020-10-14T07:52:00.824839Z",
     "start_time": "2020-10-14T07:51:57.954267Z"
    }
   },
   "outputs": [],
   "source": [
    "ours_basic = [\n",
    "    'kmeans_representation_0', 'kmeans_representation_1',\n",
    "    'kmeans_representation_2'\n",
    "]\n",
    "ours_clust = ['network_0', 'network_1', 'network_2']\n",
    "\n",
    "df1 = all_df.sort_values(by=\"cluster_number\")\n",
    "\n",
    "columns = [\n",
    "    'dataset', 'cluster_number', 'original', 'pca',\n",
    "    'kmeans_representation_0', 'kmeans_representation_1',\n",
    "    'kmeans_representation_2', 'network_0', 'network_1', 'network_2', 'sczi',\n",
    "    'scanpy', 'scDeepCluster', 'COMBINED_kmeans', 'COMBINED_leiden'\n",
    "]\n",
    "\n",
    "df1 = df1[columns]\n",
    "\n",
    "df1 = pd.melt(df1, id_vars=['dataset', 'cluster_number'])\n",
    "\n",
    "\n",
    "def rename(x):\n",
    "    if x in ours_basic:\n",
    "        return \"Ours: baseline k-means\"\n",
    "    if x in ours_clust:\n",
    "        return \"Ours: cluster NN\"\n",
    "    if x == 'COMBINED_kmeans':\n",
    "        return \"Ours: ensemble K-means\"\n",
    "    if x == 'COMBINED_leiden':\n",
    "        return \"Ours: ensemble Leiden\"\n",
    "    if x == \"pca\":\n",
    "        return \"PCA + KMeans\"\n",
    "    if x == \"original\":\n",
    "        return \"KMeans\"\n",
    "    return x\n",
    "\n",
    "def order(x):\n",
    "    if x == \"PCA + KMeans\":\n",
    "        return 0\n",
    "    if x == \"KMeans\":\n",
    "        return 1\n",
    "    if x == 'Seurat':\n",
    "        return 3\n",
    "    if x == 'scanpy':\n",
    "        return 4\n",
    "    if x == 'sczi':\n",
    "        return 5\n",
    "    if x == \"scDeepCluster\":\n",
    "        return 6\n",
    "    if x == \"Ours: baseline k-means\":\n",
    "        return 7\n",
    "    if x == \"Ours: cluster NN\":\n",
    "        return 8\n",
    "    if x == \"Ours: ensemble K-means\":\n",
    "        return 9\n",
    "    if x == \"Ours: ensemble Leiden\":\n",
    "        return 10\n",
    "\n",
    "    return x\n",
    "\n",
    "\n",
    "df1[\"variable\"] = df1[\"variable\"].apply(rename)\n",
    "df1 = df1[df1[\"variable\"] != \"remove\"]\n",
    "df1[\"order\"] = df1[\"variable\"].apply(order)"
   ]
  },
  {
   "cell_type": "code",
   "execution_count": 8,
   "metadata": {},
   "outputs": [],
   "source": [
    "df1[\"dataset_order\"] = df1[\"dataset\"].apply(lambda x: order_dataset[x])"
   ]
  },
  {
   "cell_type": "code",
   "execution_count": 9,
   "metadata": {
    "ExecuteTime": {
     "end_time": "2020-10-14T07:52:00.824839Z",
     "start_time": "2020-10-14T07:51:57.954267Z"
    }
   },
   "outputs": [],
   "source": [
    "df1 = df1.sort_values(by=[\"dataset_order\", \"order\"], ascending=True)"
   ]
  },
  {
   "cell_type": "code",
   "execution_count": 10,
   "metadata": {
    "ExecuteTime": {
     "end_time": "2020-10-14T07:52:00.824839Z",
     "start_time": "2020-10-14T07:51:57.954267Z"
    }
   },
   "outputs": [
    {
     "data": {
      "image/png": "[encoded data removed]",
      "text/plain": [
       "<Figure size 1080x252 with 1 Axes>"
      ]
     },
     "metadata": {
      "needs_background": "light"
     },
     "output_type": "display_data"
    }
   ],
   "source": [
    "plt.figure(figsize=(15, 3.5))\n",
    "ax = plt.gca()\n",
    "clrs = [\n",
    "    'navy', '#416ec5', 'deepskyblue', '#9acfea', \"#a897dd\", '#feb6aa',\n",
    "    '#fd5658', '#cc0001', \"darkred\"\n",
    "]\n",
    "sns.barplot(\n",
    "    data=df1,\n",
    "    x=\"dataset\",\n",
    "    y=\"value\",\n",
    "    hue=\"variable\",\n",
    "    palette=clrs,\n",
    "    ax=ax,\n",
    "    edgecolor='black',\n",
    "    linewidth=1.5,\n",
    ")\n",
    "plt.xlabel(\"Dataset Name\")\n",
    "plt.ylabel(\"ARI score\")\n",
    "plt.title(f\"Real data\")\n",
    "plt.legend(bbox_to_anchor=(1, 1))\n",
    "sns.despine()\n",
    "plt.savefig(f\"{path}diagrams/real.pdf\", bbox_inches='tight')"
   ]
  },
  {
   "cell_type": "code",
   "execution_count": 11,
   "metadata": {},
   "outputs": [],
   "source": [
    "df1.to_pickle(f\"{path}output/real.pkl\")"
   ]
  },
  {
   "cell_type": "code",
   "execution_count": null,
   "metadata": {},
   "outputs": [],
   "source": []
  }
 ],
 "metadata": {
  "kernelspec": {
   "display_name": "Python 3",
   "language": "python",
   "name": "python3"
  },
  "language_info": {
   "codemirror_mode": {
    "name": "ipython",
    "version": 3
   },
   "file_extension": ".py",
   "mimetype": "text/x-python",
   "name": "python",
   "nbconvert_exporter": "python",
   "pygments_lexer": "ipython3",
   "version": "3.7.4"
  }
 },
 "nbformat": 4,
 "nbformat_minor": 4
}
