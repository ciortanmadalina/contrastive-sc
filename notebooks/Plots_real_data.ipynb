{
 "cells": [
  {
   "cell_type": "markdown",
   "metadata": {},
   "source": [
    "Original implementation of Contrastive-sc method\n",
    "(https://github.com/ciortanmadalina/contrastive-sc)"
   ]
  },
  {
   "cell_type": "code",
   "execution_count": 1,
   "metadata": {
    "ExecuteTime": {
     "end_time": "2020-10-14T07:51:24.989028Z",
     "start_time": "2020-10-14T07:51:24.961905Z"
    }
   },
   "outputs": [],
   "source": [
    "import sys\n",
    "sys.path.append(\"..\")\n",
    "path= \"../\"\n",
    "\n",
    "import argparse\n",
    "from sklearn.metrics import adjusted_rand_score, normalized_mutual_info_score\n",
    "from sklearn.cluster import KMeans\n",
    "from sklearn import metrics\n",
    "import seaborn as sns\n",
    "import copy\n",
    "import numpy as np\n",
    "import pandas as pd\n",
    "from sklearn.decomposition import PCA\n",
    "import matplotlib.pyplot as plt\n",
    "import h5py\n",
    "from collections import Counter\n",
    "import pickle\n",
    "import os\n",
    "plt.ion()\n",
    "plt.show()\n",
    "%load_ext autoreload\n",
    "%autoreload 2\n",
    "\n",
    "import warnings\n",
    "warnings.filterwarnings(\"ignore\", category=FutureWarning)\n",
    "plt.style.use(f'article.mplstyle')"
   ]
  },
  {
   "cell_type": "code",
   "execution_count": 2,
   "metadata": {},
   "outputs": [],
   "source": [
    "all_df= pd.read_pickle(f\"{path}output/pickle_results/real_data.pkl\")"
   ]
  },
  {
   "cell_type": "markdown",
   "metadata": {},
   "source": [
    "## Load results from competitors"
   ]
  },
  {
   "cell_type": "code",
   "execution_count": 3,
   "metadata": {
    "ExecuteTime": {
     "end_time": "2020-10-14T07:51:54.822680Z",
     "start_time": "2020-10-14T07:51:54.727019Z"
    }
   },
   "outputs": [],
   "source": [
    "sczi = pd.read_pickle(f\"{path}output/pickle_results/real_data_sczi.pkl\")\n",
    "all_df = pd.merge(all_df, sczi, on = [\"dataset\", \"run\"], how = \"left\")\n",
    "\n",
    "sczi = pd.read_pickle(f\"{path}output/pickle_results/real_data_scanpy.pkl\")\n",
    "all_df = pd.merge(all_df, sczi, on = [\"dataset\", \"run\"], how = \"left\")\n",
    "\n",
    "sczi = pd.read_pickle(f\"{path}output/pickle_results/real_data_scDeepCluster.pkl\")\n",
    "all_df = pd.merge(all_df, sczi, on = [\"dataset\", \"run\"], how = \"left\")\n",
    "all_df[\"cluster_number\"] = all_df[\"cluster_number\"].astype(int)"
   ]
  },
  {
   "cell_type": "code",
   "execution_count": 4,
   "metadata": {},
   "outputs": [
    {
     "data": {
      "text/plain": [
       "array(['10X_PBMC', '10X_PBMC_select_2100', 'mouse_ES_cell',\n",
       "       'mouse_ES_cell_select_2100', 'worm_neuron_cell_select_2100',\n",
       "       'worm_neuron_cell', 'mouse_bladder_cell',\n",
       "       'mouse_bladder_cell_select_2100'], dtype=object)"
      ]
     },
     "execution_count": 4,
     "metadata": {},
     "output_type": "execute_result"
    }
   ],
   "source": [
    "all_df[\"dataset\"].unique()"
   ]
  },
  {
   "cell_type": "code",
   "execution_count": 5,
   "metadata": {},
   "outputs": [],
   "source": [
    "dataset_names = {\n",
    "    '10X_PBMC': '10X PBMC',\n",
    "    '10X_PBMC_select_2100': '10X PBMC (2100)',\n",
    "    'mouse_ES_cell': 'Mouse ES\\nCell',\n",
    "    'mouse_ES_cell_select_2100': 'Mouse ES\\nCell (2100)',\n",
    "    'worm_neuron_cell_select_2100': 'Worm Neuron\\nCell (2100)',\n",
    "    'worm_neuron_cell': 'Worm Neuron\\nCell',\n",
    "    'mouse_bladder_cell': 'Mouse Bladder\\nCell',\n",
    "    'mouse_bladder_cell_select_2100': 'Mouse Bladder\\n Cell (2100)'\n",
    "}\n",
    "order_dataset ={'10X PBMC': 0,\n",
    " '10X PBMC (2100)': 1,\n",
    " 'Mouse ES\\nCell': 2,\n",
    " 'Mouse ES\\nCell (2100)': 3,\n",
    " 'Worm Neuron\\nCell (2100)': 4,\n",
    " 'Worm Neuron\\nCell': 5,\n",
    " 'Mouse Bladder\\nCell': 6,\n",
    " 'Mouse Bladder\\n Cell (2100)': 7}"
   ]
  },
  {
   "cell_type": "code",
   "execution_count": 6,
   "metadata": {},
   "outputs": [],
   "source": [
    "all_df[\"dataset\"] = all_df[\"dataset\"].apply(lambda x: dataset_names[x])"
   ]
  },
  {
   "cell_type": "code",
   "execution_count": 7,
   "metadata": {
    "ExecuteTime": {
     "end_time": "2020-10-14T07:52:00.824839Z",
     "start_time": "2020-10-14T07:51:57.954267Z"
    }
   },
   "outputs": [],
   "source": [
    "ours_basic = [\n",
    "    'kmeans_representation_0', 'kmeans_representation_1',\n",
    "    'kmeans_representation_2'\n",
    "]\n",
    "ours_clust = ['network_0', 'network_1', 'network_2']\n",
    "\n",
    "df1 = all_df.sort_values(by=\"cluster_number\")\n",
    "\n",
    "columns = [\n",
    "    'dataset', 'cluster_number', 'original', 'pca',\n",
    "    'kmeans_representation_0', 'kmeans_representation_1',\n",
    "    'kmeans_representation_2', 'network_0', 'network_1', 'network_2', 'sczi',\n",
    "    'scanpy', 'scDeepCluster', 'COMBINED_kmeans', 'COMBINED_leiden'\n",
    "]\n",
    "\n",
    "df1 = df1[columns]\n",
    "\n",
    "df1 = pd.melt(df1, id_vars=['dataset', 'cluster_number'])\n",
    "\n",
    "\n",
    "def rename(x):\n",
    "    if x in ours_basic:\n",
    "        return \"Baseline k-means\"\n",
    "    if x in ours_clust:\n",
    "        return \"Cluster NN\"\n",
    "    if x == 'COMBINED_kmeans':\n",
    "        return \"Ensemble K-means\"\n",
    "    if x == 'COMBINED_leiden':\n",
    "        return \"contrastive-sc\"\n",
    "    if x == \"pca\":\n",
    "        return \"PCA + KMeans\"\n",
    "    if x == \"original\":\n",
    "        return \"KMeans\"\n",
    "    return x\n",
    "\n",
    "def order(x):\n",
    "    if x == \"PCA + KMeans\":\n",
    "        return 0\n",
    "    if x == \"KMeans\":\n",
    "        return 1\n",
    "    if x == 'Seurat':\n",
    "        return 3\n",
    "    if x == 'scanpy':\n",
    "        return 4\n",
    "    if x == 'sczi':\n",
    "        return 5\n",
    "    if x == \"scDeepCluster\":\n",
    "        return 6\n",
    "    if x == \"Baseline k-means\":\n",
    "        return 7\n",
    "    if x == \"Cluster NN\":\n",
    "        return 8\n",
    "    if x == \"Ensemble K-means\":\n",
    "        return 9\n",
    "    if x == \"contrastive-sc\":\n",
    "        return 10\n",
    "    if x == \"Ensemble Leiden (contrastive-sc)\":\n",
    "        return 10\n",
    "\n",
    "    return x\n",
    "\n",
    "\n",
    "df1[\"variable\"] = df1[\"variable\"].apply(rename)\n",
    "df1 = df1[df1[\"variable\"] != \"remove\"]\n",
    "df1[\"order\"] = df1[\"variable\"].apply(order)"
   ]
  },
  {
   "cell_type": "code",
   "execution_count": 8,
   "metadata": {},
   "outputs": [],
   "source": [
    "df1[\"dataset_order\"] = df1[\"dataset\"].apply(lambda x: order_dataset[x])"
   ]
  },
  {
   "cell_type": "code",
   "execution_count": 9,
   "metadata": {
    "ExecuteTime": {
     "end_time": "2020-10-14T07:52:00.824839Z",
     "start_time": "2020-10-14T07:51:57.954267Z"
    }
   },
   "outputs": [],
   "source": [
    "df1 = df1.sort_values(by=[\"dataset_order\", \"order\"], ascending=True)"
   ]
  },
  {
   "cell_type": "code",
   "execution_count": 10,
   "metadata": {},
   "outputs": [
    {
     "data": {
      "text/plain": [
       "array(['10X PBMC', '10X PBMC (2100)', 'Mouse ES\\nCell',\n",
       "       'Mouse ES\\nCell (2100)', 'Worm Neuron\\nCell (2100)',\n",
       "       'Worm Neuron\\nCell', 'Mouse Bladder\\nCell',\n",
       "       'Mouse Bladder\\n Cell (2100)'], dtype=object)"
      ]
     },
     "execution_count": 10,
     "metadata": {},
     "output_type": "execute_result"
    }
   ],
   "source": [
    "df1[\"dataset\"].unique()"
   ]
  },
  {
   "cell_type": "code",
   "execution_count": 15,
   "metadata": {},
   "outputs": [
    {
     "data": {
      "text/html": [
       "<div>\n",
       "<style scoped>\n",
       "    .dataframe tbody tr th:only-of-type {\n",
       "        vertical-align: middle;\n",
       "    }\n",
       "\n",
       "    .dataframe tbody tr th {\n",
       "        vertical-align: top;\n",
       "    }\n",
       "\n",
       "    .dataframe thead tr th {\n",
       "        text-align: left;\n",
       "    }\n",
       "\n",
       "    .dataframe thead tr:last-of-type th {\n",
       "        text-align: right;\n",
       "    }\n",
       "</style>\n",
       "<table border=\"1\" class=\"dataframe\">\n",
       "  <thead>\n",
       "    <tr>\n",
       "      <th></th>\n",
       "      <th colspan=\"9\" halign=\"left\">value</th>\n",
       "    </tr>\n",
       "    <tr>\n",
       "      <th>variable</th>\n",
       "      <th>Baseline k-means</th>\n",
       "      <th>Cluster NN</th>\n",
       "      <th>Ensemble K-means</th>\n",
       "      <th>KMeans</th>\n",
       "      <th>PCA + KMeans</th>\n",
       "      <th>contrastive-sc</th>\n",
       "      <th>scDeepCluster</th>\n",
       "      <th>scanpy</th>\n",
       "      <th>sczi</th>\n",
       "    </tr>\n",
       "    <tr>\n",
       "      <th>dataset</th>\n",
       "      <th></th>\n",
       "      <th></th>\n",
       "      <th></th>\n",
       "      <th></th>\n",
       "      <th></th>\n",
       "      <th></th>\n",
       "      <th></th>\n",
       "      <th></th>\n",
       "      <th></th>\n",
       "    </tr>\n",
       "  </thead>\n",
       "  <tbody>\n",
       "    <tr>\n",
       "      <th>10X PBMC</th>\n",
       "      <td>0.461221</td>\n",
       "      <td>0.488055</td>\n",
       "      <td>0.588540</td>\n",
       "      <td>0.57814</td>\n",
       "      <td>0.222070</td>\n",
       "      <td>0.627008</td>\n",
       "      <td>0.50718</td>\n",
       "      <td>0.558179</td>\n",
       "      <td>0.590273</td>\n",
       "    </tr>\n",
       "    <tr>\n",
       "      <th>10X PBMC (2100)</th>\n",
       "      <td>0.403460</td>\n",
       "      <td>0.427568</td>\n",
       "      <td>0.585675</td>\n",
       "      <td>0.62993</td>\n",
       "      <td>0.340020</td>\n",
       "      <td>0.677475</td>\n",
       "      <td>0.42047</td>\n",
       "      <td>0.575841</td>\n",
       "      <td>0.606740</td>\n",
       "    </tr>\n",
       "    <tr>\n",
       "      <th>Mouse Bladder\\n Cell (2100)</th>\n",
       "      <td>0.288842</td>\n",
       "      <td>0.318243</td>\n",
       "      <td>0.397222</td>\n",
       "      <td>0.36022</td>\n",
       "      <td>0.394420</td>\n",
       "      <td>0.576974</td>\n",
       "      <td>0.41084</td>\n",
       "      <td>0.616216</td>\n",
       "      <td>0.515573</td>\n",
       "    </tr>\n",
       "    <tr>\n",
       "      <th>Mouse Bladder\\nCell</th>\n",
       "      <td>0.297732</td>\n",
       "      <td>0.328283</td>\n",
       "      <td>0.383103</td>\n",
       "      <td>0.40146</td>\n",
       "      <td>0.366040</td>\n",
       "      <td>0.546637</td>\n",
       "      <td>0.41728</td>\n",
       "      <td>0.639034</td>\n",
       "      <td>0.443520</td>\n",
       "    </tr>\n",
       "    <tr>\n",
       "      <th>Mouse ES\\nCell</th>\n",
       "      <td>0.570297</td>\n",
       "      <td>0.016423</td>\n",
       "      <td>0.656451</td>\n",
       "      <td>0.72291</td>\n",
       "      <td>0.753120</td>\n",
       "      <td>0.657683</td>\n",
       "      <td>0.83705</td>\n",
       "      <td>0.776260</td>\n",
       "      <td>0.800450</td>\n",
       "    </tr>\n",
       "    <tr>\n",
       "      <th>Mouse ES\\nCell (2100)</th>\n",
       "      <td>0.647027</td>\n",
       "      <td>0.659912</td>\n",
       "      <td>0.740503</td>\n",
       "      <td>0.88681</td>\n",
       "      <td>0.747770</td>\n",
       "      <td>0.631700</td>\n",
       "      <td>0.84893</td>\n",
       "      <td>0.773215</td>\n",
       "      <td>0.797203</td>\n",
       "    </tr>\n",
       "    <tr>\n",
       "      <th>Worm Neuron\\nCell</th>\n",
       "      <td>0.303664</td>\n",
       "      <td>0.301926</td>\n",
       "      <td>0.429629</td>\n",
       "      <td>0.08392</td>\n",
       "      <td>0.190820</td>\n",
       "      <td>0.352147</td>\n",
       "      <td>0.26283</td>\n",
       "      <td>0.405174</td>\n",
       "      <td>0.063557</td>\n",
       "    </tr>\n",
       "    <tr>\n",
       "      <th>Worm Neuron\\nCell (2100)</th>\n",
       "      <td>0.218233</td>\n",
       "      <td>0.220345</td>\n",
       "      <td>0.438779</td>\n",
       "      <td>0.04622</td>\n",
       "      <td>0.185043</td>\n",
       "      <td>0.358964</td>\n",
       "      <td>0.19583</td>\n",
       "      <td>0.420854</td>\n",
       "      <td>0.200320</td>\n",
       "    </tr>\n",
       "  </tbody>\n",
       "</table>\n",
       "</div>"
      ],
      "text/plain": [
       "                                       value                              \\\n",
       "variable                    Baseline k-means Cluster NN Ensemble K-means   \n",
       "dataset                                                                    \n",
       "10X PBMC                            0.461221   0.488055         0.588540   \n",
       "10X PBMC (2100)                     0.403460   0.427568         0.585675   \n",
       "Mouse Bladder\\n Cell (2100)         0.288842   0.318243         0.397222   \n",
       "Mouse Bladder\\nCell                 0.297732   0.328283         0.383103   \n",
       "Mouse ES\\nCell                      0.570297   0.016423         0.656451   \n",
       "Mouse ES\\nCell (2100)               0.647027   0.659912         0.740503   \n",
       "Worm Neuron\\nCell                   0.303664   0.301926         0.429629   \n",
       "Worm Neuron\\nCell (2100)            0.218233   0.220345         0.438779   \n",
       "\n",
       "                                                                  \\\n",
       "variable                      KMeans PCA + KMeans contrastive-sc   \n",
       "dataset                                                            \n",
       "10X PBMC                     0.57814     0.222070       0.627008   \n",
       "10X PBMC (2100)              0.62993     0.340020       0.677475   \n",
       "Mouse Bladder\\n Cell (2100)  0.36022     0.394420       0.576974   \n",
       "Mouse Bladder\\nCell          0.40146     0.366040       0.546637   \n",
       "Mouse ES\\nCell               0.72291     0.753120       0.657683   \n",
       "Mouse ES\\nCell (2100)        0.88681     0.747770       0.631700   \n",
       "Worm Neuron\\nCell            0.08392     0.190820       0.352147   \n",
       "Worm Neuron\\nCell (2100)     0.04622     0.185043       0.358964   \n",
       "\n",
       "                                                               \n",
       "variable                    scDeepCluster    scanpy      sczi  \n",
       "dataset                                                        \n",
       "10X PBMC                          0.50718  0.558179  0.590273  \n",
       "10X PBMC (2100)                   0.42047  0.575841  0.606740  \n",
       "Mouse Bladder\\n Cell (2100)       0.41084  0.616216  0.515573  \n",
       "Mouse Bladder\\nCell               0.41728  0.639034  0.443520  \n",
       "Mouse ES\\nCell                    0.83705  0.776260  0.800450  \n",
       "Mouse ES\\nCell (2100)             0.84893  0.773215  0.797203  \n",
       "Worm Neuron\\nCell                 0.26283  0.405174  0.063557  \n",
       "Worm Neuron\\nCell (2100)          0.19583  0.420854  0.200320  "
      ]
     },
     "execution_count": 15,
     "metadata": {},
     "output_type": "execute_result"
    }
   ],
   "source": [
    "df1.groupby([\"dataset\", \"variable\"])[[\"value\"]].mean().unstack(\"variable\")"
   ]
  },
  {
   "cell_type": "code",
   "execution_count": 13,
   "metadata": {
    "ExecuteTime": {
     "end_time": "2020-10-14T07:52:00.824839Z",
     "start_time": "2020-10-14T07:51:57.954267Z"
    }
   },
   "outputs": [
    {
     "data": {
      "image/png": "[encoded data removed]",
      "text/plain": [
       "<Figure size 504x252 with 1 Axes>"
      ]
     },
     "metadata": {
      "needs_background": "light"
     },
     "output_type": "display_data"
    }
   ],
   "source": [
    "methods = [\n",
    "    'PCA + KMeans', 'KMeans', 'scanpy', 'sczi', 'scDeepCluster',\n",
    "    'contrastive-sc'\n",
    "]\n",
    "datasets = [\n",
    "    '10X PBMC', 'Mouse ES\\nCell', 'Worm Neuron\\nCell', 'Mouse Bladder\\nCell'\n",
    "]\n",
    "plt.figure(figsize=(7, 3.5))\n",
    "ax = plt.gca()\n",
    "clrs = ['navy', '#416ec5', 'deepskyblue', '#9acfea', \"#a897dd\", '#cc0001']\n",
    "sns.barplot(\n",
    "    data=df1[df1[\"variable\"].isin(methods) & df1[\"dataset\"].isin(datasets)],\n",
    "    x=\"dataset\",\n",
    "    y=\"value\",\n",
    "    hue=\"variable\",\n",
    "    palette=clrs,\n",
    "    ax=ax,\n",
    "    edgecolor='black',\n",
    "    linewidth=1.5,\n",
    ")\n",
    "plt.xlabel(\"Dataset Name\")\n",
    "plt.ylabel(\"ARI score\")\n",
    "plt.title(f\"Real data\")\n",
    "plt.legend(bbox_to_anchor=(1, 1))\n",
    "sns.despine()\n",
    "plt.savefig(f\"{path}diagrams/real.pdf\", bbox_inches='tight')"
   ]
  },
  {
   "cell_type": "code",
   "execution_count": 14,
   "metadata": {},
   "outputs": [
    {
     "data": {
      "image/png": "[encoded data removed]",
      "text/plain": [
       "<Figure size 504x252 with 1 Axes>"
      ]
     },
     "metadata": {
      "needs_background": "light"
     },
     "output_type": "display_data"
    }
   ],
   "source": [
    "methods = [\n",
    "    'PCA + KMeans', 'KMeans', 'scanpy', 'sczi', 'scDeepCluster',\n",
    "    'contrastive-sc'\n",
    "]\n",
    "datasets = [\n",
    "    '10X PBMC (2100)', \n",
    "       'Mouse ES\\nCell (2100)', 'Worm Neuron\\nCell (2100)',\n",
    "       'Mouse Bladder\\n Cell (2100)'\n",
    "]\n",
    "plt.figure(figsize=(7, 3.5))\n",
    "ax = plt.gca()\n",
    "clrs = ['navy', '#416ec5', 'deepskyblue', '#9acfea', \"#a897dd\", '#cc0001']\n",
    "sns.barplot(\n",
    "    data=df1[df1[\"variable\"].isin(methods) & df1[\"dataset\"].isin(datasets)],\n",
    "    x=\"dataset\",\n",
    "    y=\"value\",\n",
    "    hue=\"variable\",\n",
    "    palette=clrs,\n",
    "    ax=ax,\n",
    "    edgecolor='black',\n",
    "    linewidth=1.5,\n",
    ")\n",
    "plt.xlabel(\"Dataset Name\")\n",
    "plt.ylabel(\"ARI score\")\n",
    "plt.title(f\"Real data\")\n",
    "plt.legend(bbox_to_anchor=(1, 1))\n",
    "sns.despine()\n",
    "plt.savefig(f\"{path}diagrams/real_2100.pdf\", bbox_inches='tight')"
   ]
  },
  {
   "cell_type": "code",
   "execution_count": 14,
   "metadata": {},
   "outputs": [],
   "source": [
    "df1.to_pickle(f\"{path}output/real.pkl\")"
   ]
  },
  {
   "cell_type": "code",
   "execution_count": null,
   "metadata": {},
   "outputs": [],
   "source": []
  }
 ],
 "metadata": {
  "kernelspec": {
   "display_name": "Python 3",
   "language": "python",
   "name": "python3"
  },
  "language_info": {
   "codemirror_mode": {
    "name": "ipython",
    "version": 3
   },
   "file_extension": ".py",
   "mimetype": "text/x-python",
   "name": "python",
   "nbconvert_exporter": "python",
   "pygments_lexer": "ipython3",
   "version": "3.7.4"
  }
 },
 "nbformat": 4,
 "nbformat_minor": 4
}
