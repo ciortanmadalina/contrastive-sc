{
 "cells": [
  {
   "cell_type": "markdown",
   "metadata": {},
   "source": [
    "Original implementation of Contrastive-sc method\n",
    "(https://github.com/ciortanmadalina/contrastive-sc)"
   ]
  },
  {
   "cell_type": "code",
   "execution_count": null,
   "metadata": {},
   "outputs": [],
   "source": [
    "import sys\n",
    "sys.path.append(\"..\")\n",
    "import argparse\n",
    "from sklearn.metrics import adjusted_rand_score, normalized_mutual_info_score\n",
    "from sklearn.cluster import KMeans\n",
    "from sklearn import metrics\n",
    "\n",
    "import torch\n",
    "import torch.nn as nn\n",
    "import copy\n",
    "from tqdm.notebook import tqdm\n",
    "import models\n",
    "import numpy as np\n",
    "import pandas as pd\n",
    "from sklearn.decomposition import PCA\n",
    "import matplotlib.pyplot as plt\n",
    "import st_loss\n",
    "import time\n",
    "import h5py\n",
    "import scipy as sp\n",
    "import scanpy.api as sc\n",
    "from collections import Counter\n",
    "import random\n",
    "import utils\n",
    "\n",
    "import pickle\n",
    "\n",
    "import train\n",
    "import os\n",
    "import glob2\n",
    "plt.ion()\n",
    "plt.show()\n",
    "%load_ext autoreload\n",
    "%autoreload 2\n",
    "\n",
    "import warnings\n",
    "warnings.filterwarnings(\"ignore\", category=FutureWarning)"
   ]
  },
  {
   "cell_type": "code",
   "execution_count": null,
   "metadata": {},
   "outputs": [],
   "source": [
    "path = \"../\"\n",
    "category = \"real_data\"\n",
    "files = glob2.glob(f'{path}{category}/*.h5')\n",
    "files = [f[len(f\"'{path}{category}\"):-3] for f in files]\n",
    "files"
   ]
  },
  {
   "cell_type": "code",
   "execution_count": null,
   "metadata": {},
   "outputs": [],
   "source": [
    "sczi = pd.read_pickle(f\"../output/pickle_results/real_data/real_data_sczi.pkl\")\n",
    "# load the grid search result having the optimal nb of genes per dataset\n",
    "optimal = pd.read_pickle(f\"{path}output/pickle_results/real_data/optimal_input_size.pkl\")\n",
    "optimal.head()"
   ]
  },
  {
   "cell_type": "code",
   "execution_count": null,
   "metadata": {},
   "outputs": [],
   "source": [
    "df = pd.DataFrame()\n",
    "dropout = 0.9\n",
    "lr = 0.4\n",
    "layers = [200, 40, 60]\n",
    "temperature = 0.07\n",
    "for dataset in files:\n",
    "\n",
    "    print(f\">>>>> Data {dataset}\")\n",
    "    print(\"SCZI \", sczi[sczi[\"dataset\"] == dataset][\"ARI\"].mean())\n",
    "    t0 = time.time()\n",
    "    data_mat = h5py.File(f\"{path}real_data/{dataset}.h5\", \"r\")\n",
    "    X = np.array(data_mat['X'])\n",
    "    Y = np.array(data_mat['Y'])\n",
    "\n",
    "    cluster_number = np.unique(Y).shape[0]\n",
    "    nb_genes = optimal[optimal[\"dataset\"] == dataset][\"nb_genes\"].values[0]\n",
    "    data_mat = h5py.File(f\"{path}real_data/{dataset}.h5\", \"r\")\n",
    "    X = np.array(data_mat['X'])\n",
    "    Y = np.array(data_mat['Y'])\n",
    "\n",
    "    X = train.preprocess(X, nb_genes=nb_genes)\n",
    "    preprocess_time = time.time()-t0\n",
    "    for run in range(3):\n",
    "        torch.manual_seed(run)\n",
    "        torch.cuda.manual_seed_all(run)\n",
    "        np.random.seed(run)\n",
    "        random.seed(run)\n",
    "        torch.backends.cudnn.deterministic = True\n",
    "        torch.backends.cudnn.benchmark = False\n",
    "        start = time.time()\n",
    "        dresults = train.run(X,\n",
    "                             cluster_number,\n",
    "                             dataset,\n",
    "                             Y=Y,\n",
    "                             nb_epochs=30,\n",
    "                             lr=lr,\n",
    "                             temperature=temperature,\n",
    "                             dropout=dropout,\n",
    "                             layers=layers,\n",
    "                             save_to=f\"{path}output/{category}/{run}/\",\n",
    "                             save_pred = True)\n",
    "        time_k = (dresults[\"t_k\"] - start) + preprocess_time\n",
    "        time_l = (dresults[\"t_clust\"] - start) + (dresults[\"t_l\"] -dresults[\"t_k\"]) +preprocess_time\n",
    "        dresults[\"temperature\"] = temperature\n",
    "        dresults[\"dropout\"] = dropout\n",
    "        dresults[\"nb_genes\"] = nb_genes\n",
    "        dresults[\"layers\"] = str(layers)\n",
    "        dresults[\"run\"] = run\n",
    "        dresults[\"t_k\"] = time_k\n",
    "        dresults[\"t_l\"] = time_l\n",
    "        df = df.append(dresults, ignore_index=True)\n",
    "\n",
    "        df.to_pickle(f\"{path}output/pickle_results/{category}/{category}_baseline.pkl\")"
   ]
  },
  {
   "cell_type": "code",
   "execution_count": null,
   "metadata": {},
   "outputs": [],
   "source": [
    "df.mean() #0.347519, # 0.499074# 0.520911"
   ]
  },
  {
   "cell_type": "markdown",
   "metadata": {},
   "source": [
    "# Train on cpu"
   ]
  },
  {
   "cell_type": "code",
   "execution_count": null,
   "metadata": {},
   "outputs": [],
   "source": [
    "df = pd.DataFrame()\n",
    "dropout = 0.9\n",
    "lr = 0.4\n",
    "layers = [200, 40, 60]\n",
    "temperature = 0.07\n",
    "for dataset in files:\n",
    "\n",
    "    print(f\">>>>> Data {dataset}\")\n",
    "    print(\"SCZI \", sczi[sczi[\"dataset\"] == dataset][\"ARI\"].mean())\n",
    "    t0 = time.time()\n",
    "    data_mat = h5py.File(f\"{path}real_data/{dataset}.h5\", \"r\")\n",
    "    X = np.array(data_mat['X'])\n",
    "    Y = np.array(data_mat['Y'])\n",
    "\n",
    "    cluster_number = np.unique(Y).shape[0]\n",
    "    nb_genes = optimal[optimal[\"dataset\"] == dataset][\"nb_genes\"].values[0]\n",
    "    data_mat = h5py.File(f\"{path}real_data/{dataset}.h5\", \"r\")\n",
    "    X = np.array(data_mat['X'])\n",
    "    Y = np.array(data_mat['Y'])\n",
    "\n",
    "    X = train.preprocess(X, nb_genes=nb_genes)\n",
    "    preprocess_time = time.time()-t0\n",
    "    for run in range(3):\n",
    "        torch.manual_seed(run)\n",
    "        torch.cuda.manual_seed_all(run)\n",
    "        np.random.seed(run)\n",
    "        random.seed(run)\n",
    "        torch.backends.cudnn.deterministic = True\n",
    "        torch.backends.cudnn.benchmark = False\n",
    "        start = time.time()\n",
    "        dresults = train.run(X,\n",
    "                             cluster_number,\n",
    "                             dataset,\n",
    "                             Y=Y,\n",
    "                             nb_epochs=30,\n",
    "                             lr=lr,\n",
    "                             temperature=temperature,\n",
    "                             dropout=dropout,\n",
    "                             layers=layers,\n",
    "                             save_to=f\"{path}output/{category}/{run}/\",\n",
    "                             save_pred = False,\n",
    "                             use_cpu= True\n",
    "                            )\n",
    "        time_k = (dresults[\"t_k\"] - start) + preprocess_time\n",
    "        time_l = (dresults[\"t_clust\"] - start) + (dresults[\"t_l\"] -dresults[\"t_k\"]) +preprocess_time\n",
    "        dresults[\"temperature\"] = temperature\n",
    "        dresults[\"dropout\"] = dropout\n",
    "        dresults[\"nb_genes\"] = nb_genes\n",
    "        dresults[\"layers\"] = str(layers)\n",
    "        dresults[\"run\"] = run\n",
    "        dresults[\"t_k\"] = time_k\n",
    "        dresults[\"t_l\"] = time_l\n",
    "        df = df.append(dresults, ignore_index=True)\n",
    "\n",
    "        df.to_pickle(f\"{path}output/pickle_results/{category}/{category}_baseline_cpu.pkl\")"
   ]
  },
  {
   "cell_type": "code",
   "execution_count": null,
   "metadata": {},
   "outputs": [],
   "source": [
    "df.mean()"
   ]
  },
  {
   "cell_type": "code",
   "execution_count": null,
   "metadata": {},
   "outputs": [],
   "source": []
  },
  {
   "cell_type": "markdown",
   "metadata": {},
   "source": [
    "# Debug"
   ]
  },
  {
   "cell_type": "code",
   "execution_count": null,
   "metadata": {},
   "outputs": [],
   "source": [
    "dataset = 'Quake_Smart-seq2_Diaphragm'"
   ]
  },
  {
   "cell_type": "code",
   "execution_count": null,
   "metadata": {},
   "outputs": [],
   "source": [
    "x =df[df[\"dataset\"] == dataset]\n",
    "x"
   ]
  },
  {
   "cell_type": "code",
   "execution_count": null,
   "metadata": {},
   "outputs": [],
   "source": [
    "data_mat = h5py.File(f\"{path}real_data/{dataset}.h5\", \"r\")\n",
    "X = np.array(data_mat['X'])\n",
    "Y = np.array(data_mat['Y'])\n",
    "X.shape, Y.shape"
   ]
  },
  {
   "cell_type": "code",
   "execution_count": null,
   "metadata": {},
   "outputs": [],
   "source": [
    "\n",
    "cluster_number = np.unique(Y).shape[0]\n",
    "cluster_number"
   ]
  },
  {
   "cell_type": "code",
   "execution_count": null,
   "metadata": {},
   "outputs": [],
   "source": [
    "f = x[\"features_0\"].values[0]"
   ]
  },
  {
   "cell_type": "code",
   "execution_count": null,
   "metadata": {},
   "outputs": [],
   "source": [
    "kmeans = KMeans(n_clusters=cluster_number,\n",
    "                init=\"k-means++\",\n",
    "                random_state=0)\n",
    "pred = kmeans.fit_predict(f)"
   ]
  },
  {
   "cell_type": "code",
   "execution_count": null,
   "metadata": {},
   "outputs": [],
   "source": [
    "adjusted_rand_score(Y, pred)"
   ]
  },
  {
   "cell_type": "code",
   "execution_count": null,
   "metadata": {},
   "outputs": [],
   "source": [
    "from sklearn.manifold import TSNE"
   ]
  },
  {
   "cell_type": "code",
   "execution_count": null,
   "metadata": {},
   "outputs": [],
   "source": [
    "X_embedded = TSNE(n_components=2).fit_transform(f)"
   ]
  },
  {
   "cell_type": "code",
   "execution_count": null,
   "metadata": {},
   "outputs": [],
   "source": [
    "n_neighbors=200\n",
    "n_pcs=0\n",
    "\n",
    "adata = sc.AnnData(f)\n",
    "sc.pp.neighbors(adata, n_neighbors=n_neighbors, n_pcs=n_pcs, use_rep='X'\n",
    "           )\n",
    "sc.tl.leiden(adata)\n",
    "pred = adata.obs['leiden'].to_list()\n",
    "pred = [int(x) for x in pred]\n",
    "print(np.unique(pred).shape)\n",
    "adjusted_rand_score(Y, pred)"
   ]
  },
  {
   "cell_type": "code",
   "execution_count": null,
   "metadata": {},
   "outputs": [],
   "source": [
    "plt.scatter(X_embedded[:, 0], X_embedded[:, 1], c = pred)"
   ]
  },
  {
   "cell_type": "code",
   "execution_count": null,
   "metadata": {},
   "outputs": [],
   "source": []
  }
 ],
 "metadata": {
  "kernelspec": {
   "display_name": "Python 3",
   "language": "python",
   "name": "python3"
  },
  "language_info": {
   "codemirror_mode": {
    "name": "ipython",
    "version": 3
   },
   "file_extension": ".py",
   "mimetype": "text/x-python",
   "name": "python",
   "nbconvert_exporter": "python",
   "pygments_lexer": "ipython3",
   "version": "3.7.4"
  }
 },
 "nbformat": 4,
 "nbformat_minor": 4
}
