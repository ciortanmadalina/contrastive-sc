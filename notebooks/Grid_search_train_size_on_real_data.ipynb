{
 "cells": [
  {
   "cell_type": "markdown",
   "metadata": {},
   "source": [
    "Original implementation of Contrastive-sc method\n",
    "(https://github.com/ciortanmadalina/contrastive-sc)"
   ]
  },
  {
   "cell_type": "code",
   "execution_count": null,
   "metadata": {},
   "outputs": [],
   "source": [
    "import sys\n",
    "sys.path.append(\"..\")\n",
    "import argparse\n",
    "from sklearn.metrics import adjusted_rand_score, normalized_mutual_info_score\n",
    "from sklearn.cluster import KMeans\n",
    "from sklearn import metrics\n",
    "\n",
    "import torch\n",
    "import torch.nn as nn\n",
    "import copy\n",
    "from tqdm.notebook import tqdm\n",
    "import models\n",
    "import numpy as np\n",
    "import pandas as pd\n",
    "from sklearn.decomposition import PCA\n",
    "import matplotlib.pyplot as plt\n",
    "from sklearn.model_selection import train_test_split\n",
    "import st_loss\n",
    "import time\n",
    "import h5py\n",
    "import scipy as sp\n",
    "import scanpy.api as sc\n",
    "from collections import Counter\n",
    "import random\n",
    "import utils\n",
    "import loop\n",
    "import pickle\n",
    "\n",
    "import train\n",
    "import os\n",
    "import glob2\n",
    "plt.ion()\n",
    "plt.show()\n",
    "%load_ext autoreload\n",
    "%autoreload 2\n",
    "\n",
    "import warnings\n",
    "warnings.filterwarnings(\"ignore\", category=FutureWarning)"
   ]
  },
  {
   "cell_type": "code",
   "execution_count": null,
   "metadata": {},
   "outputs": [],
   "source": [
    "path = \"../\"\n",
    "category = \"real_data\"\n",
    "files = glob2.glob(f'{path}{category}/*.h5')\n",
    "files = [f[len(f\"'{path}{category}\"):-3] for f in files]\n",
    "files"
   ]
  },
  {
   "cell_type": "code",
   "execution_count": null,
   "metadata": {},
   "outputs": [],
   "source": [
    "sczi = pd.read_pickle(f\"../output/pickle_results/real_data/real_data_sczi.pkl\")"
   ]
  },
  {
   "cell_type": "code",
   "execution_count": null,
   "metadata": {},
   "outputs": [],
   "source": [
    "df = pd.DataFrame()\n",
    "dropout = 0.9\n",
    "lr = 1e-5\n",
    "layers = [200, 40, 60]\n",
    "temperature = 0.07\n",
    "for dataset in files:\n",
    "\n",
    "    print(f\">>>>> Data {dataset}\")\n",
    "    print(\"SCZI \", sczi[sczi[\"dataset\"] == dataset][\"ARI\"].mean())\n",
    "    data_mat = h5py.File(f\"{path}real_data/{dataset}.h5\", \"r\")\n",
    "\n",
    "    \n",
    "    nb_genes = 500\n",
    "    data_mat = h5py.File(f\"{path}real_data/{dataset}.h5\", \"r\")\n",
    "    X = np.array(data_mat['X'])\n",
    "    Y = np.array(data_mat['Y'])\n",
    "    cluster_number = np.unique(Y).shape[0]\n",
    "\n",
    "    X = train.preprocess(X, nb_genes=nb_genes)\n",
    "    for train_size in [ 1, 0.8, 0.6, 0.4, 0.2\n",
    "    ]:\n",
    "        for run in range(3):\n",
    "            torch.manual_seed(run)\n",
    "            torch.cuda.manual_seed_all(run)\n",
    "            np.random.seed(run)\n",
    "            random.seed(run)\n",
    "            if train_size == 1:\n",
    "                X_train = X\n",
    "                y_train = Y\n",
    "            else:\n",
    "                X_train, X_test, y_train, y_test = train_test_split(\n",
    "                    X, Y, train_size=train_size, random_state=run)\n",
    "            torch.backends.cudnn.deterministic = True\n",
    "            torch.backends.cudnn.benchmark = False\n",
    "            start = time.time()\n",
    "            dresults = train.run(X_train,\n",
    "                                 cluster_number,\n",
    "                                 dataset,\n",
    "                                 Y=y_train,\n",
    "                                 nb_epochs=30,\n",
    "                                 lr=lr,\n",
    "                                 temperature=temperature,\n",
    "                                 dropout=dropout,\n",
    "                                 evaluate=False,\n",
    "                                 n_ensemble=1,\n",
    "                                 layers=layers,\n",
    "                                 save_to=f\"{path}output/{category}/{run}/\",\n",
    "                                 save_pred=True)\n",
    "            elapsed = time.time() - start\n",
    "            dresults[\"temperature\"] = temperature\n",
    "            dresults[\"dropout\"] = dropout\n",
    "            dresults[\"train_size\"] = train_size\n",
    "            dresults[\"layers\"] = str(layers)\n",
    "            dresults[\"run\"] = run\n",
    "            dresults[\"time\"] = elapsed\n",
    "            #         print(f\".\", end = \"\")\n",
    "            #         print(f\"# {temperature}, {dropout}, {lr}, {layers}\",\n",
    "            #               dresults.get('COMBINED_kmeans_ari', \"\"),\n",
    "            #               dresults.get('COMBINED_leiden_ari', \"\"), dresults.get('kmeans_ari_0',\"\"),\n",
    "            #               dresults.get('leiden_ari_0', \"\"))\n",
    "            df = df.append(dresults, ignore_index=True)\n",
    "\n",
    "            df.to_pickle(\n",
    "                f\"{path}output/pickle_results/{category}/{category}_train_size.pkl\"\n",
    "            )"
   ]
  },
  {
   "cell_type": "code",
   "execution_count": null,
   "metadata": {},
   "outputs": [],
   "source": [
    "X_train.shape"
   ]
  },
  {
   "cell_type": "code",
   "execution_count": null,
   "metadata": {},
   "outputs": [],
   "source": [
    "df.groupby(\"train_size\").mean()"
   ]
  },
  {
   "cell_type": "code",
   "execution_count": null,
   "metadata": {},
   "outputs": [],
   "source": [
    "df.mean()#0.686020 20 # 0.631504:10 # 0.693487 : 30 #0.685507"
   ]
  },
  {
   "cell_type": "code",
   "execution_count": null,
   "metadata": {},
   "outputs": [],
   "source": []
  },
  {
   "cell_type": "code",
   "execution_count": null,
   "metadata": {},
   "outputs": [],
   "source": []
  },
  {
   "cell_type": "code",
   "execution_count": null,
   "metadata": {},
   "outputs": [],
   "source": []
  }
 ],
 "metadata": {
  "kernelspec": {
   "display_name": "Python 3",
   "language": "python",
   "name": "python3"
  },
  "language_info": {
   "codemirror_mode": {
    "name": "ipython",
    "version": 3
   },
   "file_extension": ".py",
   "mimetype": "text/x-python",
   "name": "python",
   "nbconvert_exporter": "python",
   "pygments_lexer": "ipython3",
   "version": "3.7.4"
  }
 },
 "nbformat": 4,
 "nbformat_minor": 4
}
