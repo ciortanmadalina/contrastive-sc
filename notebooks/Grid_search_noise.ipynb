{
 "cells": [
  {
   "cell_type": "markdown",
   "metadata": {},
   "source": [
    "Original implementation of Contrastive-sc method\n",
    "(https://github.com/ciortanmadalina/contrastive-sc)"
   ]
  },
  {
   "cell_type": "code",
   "execution_count": 1,
   "metadata": {},
   "outputs": [
    {
     "name": "stderr",
     "output_type": "stream",
     "text": [
      "/opt/conda/lib/python3.7/site-packages/scanpy/api/__init__.py:7: FutureWarning: \n",
      "\n",
      "In a future version of Scanpy, `scanpy.api` will be removed.\n",
      "Simply use `import scanpy as sc` and `import scanpy.external as sce` instead.\n",
      "\n",
      "  FutureWarning,\n"
     ]
    }
   ],
   "source": [
    "import sys\n",
    "sys.path.append(\"..\")\n",
    "import argparse\n",
    "from sklearn.metrics import adjusted_rand_score, normalized_mutual_info_score\n",
    "from sklearn.cluster import KMeans\n",
    "from sklearn import metrics\n",
    "\n",
    "import torch\n",
    "import torch.nn as nn\n",
    "import copy\n",
    "from tqdm.notebook import tqdm\n",
    "import models\n",
    "import numpy as np\n",
    "import pandas as pd\n",
    "from sklearn.decomposition import PCA\n",
    "import matplotlib.pyplot as plt\n",
    "import st_loss\n",
    "\n",
    "import h5py\n",
    "import scipy as sp\n",
    "import scanpy.api as sc\n",
    "from collections import Counter\n",
    "import random\n",
    "import utils\n",
    "import loop\n",
    "import pickle\n",
    "\n",
    "import train\n",
    "import os\n",
    "import glob2\n",
    "plt.ion()\n",
    "plt.show()\n",
    "%load_ext autoreload\n",
    "%autoreload 2\n",
    "\n",
    "import warnings\n",
    "warnings.filterwarnings(\"ignore\", category=FutureWarning)"
   ]
  },
  {
   "cell_type": "code",
   "execution_count": 2,
   "metadata": {},
   "outputs": [
    {
     "data": {
      "text/plain": [
       "['Quake_Smart-seq2_Trachea',\n",
       " 'Quake_Smart-seq2_Diaphragm',\n",
       " 'Quake_10x_Spleen',\n",
       " 'Young',\n",
       " 'mouse_ES_cell',\n",
       " 'Adam',\n",
       " 'Quake_10x_Bladder',\n",
       " 'Quake_Smart-seq2_Lung',\n",
       " 'Quake_10x_Limb_Muscle',\n",
       " 'worm_neuron_cell',\n",
       " 'mouse_bladder_cell',\n",
       " 'Romanov',\n",
       " 'Quake_Smart-seq2_Limb_Muscle',\n",
       " 'Muraro',\n",
       " '10X_PBMC']"
      ]
     },
     "execution_count": 2,
     "metadata": {},
     "output_type": "execute_result"
    }
   ],
   "source": [
    "path = \"../\"\n",
    "files = glob2.glob(f'{path}real_data/*.h5')\n",
    "files = [f[len(f\"'{path}real_data\"):-3] for f in files]\n",
    "files"
   ]
  },
  {
   "cell_type": "code",
   "execution_count": 3,
   "metadata": {},
   "outputs": [],
   "source": [
    "sczi = pd.read_pickle(f\"../output/pickle_results/real_data/real_data_sczi.pkl\")"
   ]
  },
  {
   "cell_type": "code",
   "execution_count": 4,
   "metadata": {
    "scrolled": true
   },
   "outputs": [
    {
     "name": "stdout",
     "output_type": "stream",
     "text": [
      ">>>>> Data Quake_Smart-seq2_Trachea\n",
      "SCZI  0.8291128219663276\n",
      "(1350, 23341) (1350, 23341) keeping 500 genes\n"
     ]
    },
    {
     "data": {
      "application/vnd.jupyter.widget-view+json": {
       "model_id": "f89351c21ba24cb4adc45f7c77f0974e",
       "version_major": 2,
       "version_minor": 0
      },
      "text/plain": [
       "HBox(children=(IntProgress(value=0, max=1), HTML(value='')))"
      ]
     },
     "metadata": {},
     "output_type": "display_data"
    },
    {
     "name": "stdout",
     "output_type": "stream",
     "text": [
      ".# 0.07, 0.9, 1e-05, [200, 40, 60]   0.8757419746828033 0.18813728466297122\n",
      ".# 0.07, 0.9, 1e-05, [200, 40, 60]   0.8231397433913237 0.1741258162593457\n",
      ".# 0.07, 0.9, 1e-05, [200, 40, 60]   0.8804301360194373 0.17054375955346077\n",
      ".# 0.07, 0.9, 1e-05, [200, 40, 60]   0.8312820445723751 0.20125822480581984\n",
      ".# 0.07, 0.9, 1e-05, [200, 40, 60]   0.8625107505389255 0.181046818927349\n",
      ".# 0.07, 0.9, 1e-05, [200, 40, 60]   0.8832595550526786 0.20281936397504144\n",
      ".# 0.07, 0.9, 1e-05, [200, 40, 60]   0.8096524278000525 0.1873295303767348\n",
      ".# 0.07, 0.9, 1e-05, [200, 40, 60]   0.8600485254309981 0.18645554277253612\n",
      ".# 0.07, 0.9, 1e-05, [200, 40, 60]   0.8272110945798262 0.1781162525838478\n",
      ".# 0.07, 0.9, 1e-05, [200, 40, 60]   0.6893990113800084 0.17431489355449595\n",
      ".# 0.07, 0.9, 1e-05, [200, 40, 60]   0.6891170725807442 0.19037254779769372\n",
      ".# 0.07, 0.9, 1e-05, [200, 40, 60]   0.7026631411080548 0.1986611610276998\n",
      "\n",
      ">>>>> Data Quake_Smart-seq2_Diaphragm\n",
      "SCZI  0.9596701189611787\n",
      "(870, 23341) (870, 23341) keeping 500 genes\n"
     ]
    },
    {
     "data": {
      "application/vnd.jupyter.widget-view+json": {
       "model_id": "663d4059e9124eb4a007076af16bf3d1",
       "version_major": 2,
       "version_minor": 0
      },
      "text/plain": [
       "HBox(children=(IntProgress(value=0, max=1), HTML(value='')))"
      ]
     },
     "metadata": {},
     "output_type": "display_data"
    },
    {
     "name": "stdout",
     "output_type": "stream",
     "text": [
      ".# 0.07, 0.9, 1e-05, [200, 40, 60]   0.9697968135271604 0.3499212283088658\n",
      ".# 0.07, 0.9, 1e-05, [200, 40, 60]   0.9660890110636096 0.38953113201131523\n",
      ".# 0.07, 0.9, 1e-05, [200, 40, 60]   0.966116503913852 0.28111962100728\n",
      ".# 0.07, 0.9, 1e-05, [200, 40, 60]   0.9815350470962564 0.34473765055160915\n",
      ".# 0.07, 0.9, 1e-05, [200, 40, 60]   0.9799145967962042 0.3413454780632075\n",
      ".# 0.07, 0.9, 1e-05, [200, 40, 60]   0.9762682613429001 0.3361930630622387\n",
      ".# 0.07, 0.9, 1e-05, [200, 40, 60]   0.9671067930123277 0.3210503998920907\n",
      ".# 0.07, 0.9, 1e-05, [200, 40, 60]   0.9816971648981092 0.3072719861724049\n",
      ".# 0.07, 0.9, 1e-05, [200, 40, 60]   0.9676047817831751 0.33941183702965533\n",
      ".# 0.07, 0.9, 1e-05, [200, 40, 60]   0.9138256289398574 0.3197802751332067\n",
      ".# 0.07, 0.9, 1e-05, [200, 40, 60]   0.4526373764458337 0.2893523502442978\n",
      ".# 0.07, 0.9, 1e-05, [200, 40, 60]   0.9022120281211342 0.36384316503781766\n",
      "\n",
      ">>>>> Data Quake_10x_Spleen\n",
      "SCZI  0.909534824400645\n",
      "(9552, 23341) (9552, 23341) keeping 500 genes\n"
     ]
    },
    {
     "data": {
      "application/vnd.jupyter.widget-view+json": {
       "model_id": "26037f1dd34e493a98dfd0fd0421116d",
       "version_major": 2,
       "version_minor": 0
      },
      "text/plain": [
       "HBox(children=(IntProgress(value=0, max=1), HTML(value='')))"
      ]
     },
     "metadata": {},
     "output_type": "display_data"
    },
    {
     "name": "stdout",
     "output_type": "stream",
     "text": [
      ".# 0.07, 0.9, 1e-05, [200, 40, 60]   0.9179554666263199 0.10285435216195174\n",
      ".# 0.07, 0.9, 1e-05, [200, 40, 60]   0.9058783786676112 0.093658663050477\n",
      ".# 0.07, 0.9, 1e-05, [200, 40, 60]   0.8935893555591153 0.08174096312730321\n",
      ".# 0.07, 0.9, 1e-05, [200, 40, 60]   0.5393296881135834 0.09510186266113792\n",
      ".# 0.07, 0.9, 1e-05, [200, 40, 60]   0.9180586807842281 0.09200141870909279\n",
      ".# 0.07, 0.9, 1e-05, [200, 40, 60]   0.9134964286384969 0.1067318634092067\n",
      ".# 0.07, 0.9, 1e-05, [200, 40, 60]   0.9036412870786968 0.09870121643689628\n",
      ".# 0.07, 0.9, 1e-05, [200, 40, 60]   0.9157860190334813 0.09606894113108683\n",
      ".# 0.07, 0.9, 1e-05, [200, 40, 60]   0.9267398926019649 0.07827918539826322\n",
      ".# 0.07, 0.9, 1e-05, [200, 40, 60]   0.9318820141298187 0.09328187781597455\n",
      ".# 0.07, 0.9, 1e-05, [200, 40, 60]   0.9404004820561515 0.08868294261426181\n",
      ".# 0.07, 0.9, 1e-05, [200, 40, 60]   0.9356784445375036 0.1032637392535893\n",
      "\n",
      ">>>>> Data Young\n",
      "SCZI  0.6629811886776039\n",
      "(5685, 33658) (5685, 33658) keeping 500 genes\n"
     ]
    },
    {
     "data": {
      "application/vnd.jupyter.widget-view+json": {
       "model_id": "24064eba94614e24a04ce3afb17bf4ca",
       "version_major": 2,
       "version_minor": 0
      },
      "text/plain": [
       "HBox(children=(IntProgress(value=0, max=1), HTML(value='')))"
      ]
     },
     "metadata": {},
     "output_type": "display_data"
    },
    {
     "name": "stdout",
     "output_type": "stream",
     "text": [
      ".# 0.07, 0.9, 1e-05, [200, 40, 60]   0.6119281116035161 0.4743239647406442\n",
      ".# 0.07, 0.9, 1e-05, [200, 40, 60]   0.5908839137673562 0.4423540102052737\n",
      ".# 0.07, 0.9, 1e-05, [200, 40, 60]   0.5842727421250747 0.43005019653166804\n",
      ".# 0.07, 0.9, 1e-05, [200, 40, 60]   0.6001641972918926 0.44869875805177617\n",
      ".# 0.07, 0.9, 1e-05, [200, 40, 60]   0.5913627010685464 0.4190265454070551\n",
      ".# 0.07, 0.9, 1e-05, [200, 40, 60]   0.6069854881850048 0.44520084078863825\n",
      ".# 0.07, 0.9, 1e-05, [200, 40, 60]   0.6071546234110726 0.4356931369468819\n",
      ".# 0.07, 0.9, 1e-05, [200, 40, 60]   0.5962769125034093 0.4261110915020897\n",
      ".# 0.07, 0.9, 1e-05, [200, 40, 60]   0.6160817205365662 0.454908282837452\n",
      ".# 0.07, 0.9, 1e-05, [200, 40, 60]   0.45987958976612797 0.33231677504492724\n",
      ".# 0.07, 0.9, 1e-05, [200, 40, 60]   0.3999283027256634 0.3133025399660646\n",
      ".# 0.07, 0.9, 1e-05, [200, 40, 60]   0.5651000881564101 0.37037658060689543\n",
      "\n",
      ">>>>> Data mouse_ES_cell\n",
      "SCZI  0.800376096099337\n",
      "(2717, 24175) (2717, 24175) keeping 500 genes\n"
     ]
    },
    {
     "data": {
      "application/vnd.jupyter.widget-view+json": {
       "model_id": "5f2b55c7c2d7465ab9e702366a5658b6",
       "version_major": 2,
       "version_minor": 0
      },
      "text/plain": [
       "HBox(children=(IntProgress(value=0, max=1), HTML(value='')))"
      ]
     },
     "metadata": {},
     "output_type": "display_data"
    },
    {
     "name": "stdout",
     "output_type": "stream",
     "text": [
      ".# 0.07, 0.9, 1e-05, [200, 40, 60]   0.6584585719676491 0.3627030003811571\n",
      ".# 0.07, 0.9, 1e-05, [200, 40, 60]   0.6888141323045498 0.34691024060924647\n",
      ".# 0.07, 0.9, 1e-05, [200, 40, 60]   0.6526275238655855 0.3848350904185723\n",
      ".# 0.07, 0.9, 1e-05, [200, 40, 60]   0.6659323879583176 0.36845304586197064\n",
      ".# 0.07, 0.9, 1e-05, [200, 40, 60]   0.678801656986918 0.32984427462926497\n",
      ".# 0.07, 0.9, 1e-05, [200, 40, 60]   0.6541488694025804 0.3508568423829745\n",
      ".# 0.07, 0.9, 1e-05, [200, 40, 60]   0.66860115530323 0.34701966551048974\n",
      ".# 0.07, 0.9, 1e-05, [200, 40, 60]   0.6686636697307153 0.3240105286182328\n",
      ".# 0.07, 0.9, 1e-05, [200, 40, 60]   0.664986113780541 0.365328879686113\n",
      ".# 0.07, 0.9, 1e-05, [200, 40, 60]   0.5365218418550304 0.30011318586137814\n",
      ".# 0.07, 0.9, 1e-05, [200, 40, 60]   0.5144771307080249 0.31431823131949\n",
      ".# 0.07, 0.9, 1e-05, [200, 40, 60]   0.5387080736156729 0.3063567075273461\n",
      "\n",
      ">>>>> Data Adam\n",
      "SCZI  0.8634561030635544\n",
      "(3660, 23797) (3660, 23797) keeping 500 genes\n"
     ]
    },
    {
     "data": {
      "application/vnd.jupyter.widget-view+json": {
       "model_id": "5dfabf2e78e14fc488a30ba1f3463e94",
       "version_major": 2,
       "version_minor": 0
      },
      "text/plain": [
       "HBox(children=(IntProgress(value=0, max=1), HTML(value='')))"
      ]
     },
     "metadata": {},
     "output_type": "display_data"
    },
    {
     "name": "stdout",
     "output_type": "stream",
     "text": [
      ".# 0.07, 0.9, 1e-05, [200, 40, 60]   0.84153663148546 0.45405047639574525\n",
      ".# 0.07, 0.9, 1e-05, [200, 40, 60]   0.8280738051513036 0.48333798185789084\n",
      ".# 0.07, 0.9, 1e-05, [200, 40, 60]   0.8162506730523417 0.47882900300764303\n",
      ".# 0.07, 0.9, 1e-05, [200, 40, 60]   0.7860767737325683 0.4673612985051813\n",
      ".# 0.07, 0.9, 1e-05, [200, 40, 60]   0.776497202215505 0.5033365206509106\n",
      ".# 0.07, 0.9, 1e-05, [200, 40, 60]   0.6982291885176668 0.47466595691592883\n",
      ".# 0.07, 0.9, 1e-05, [200, 40, 60]   0.781003447181273 0.49328652314773225\n",
      ".# 0.07, 0.9, 1e-05, [200, 40, 60]   0.6699138546893509 0.475688601911206\n",
      ".# 0.07, 0.9, 1e-05, [200, 40, 60]   0.7997900296880416 0.49570190198061825\n",
      ".# 0.07, 0.9, 1e-05, [200, 40, 60]   0.5078519719702577 0.40599842683268295\n",
      ".# 0.07, 0.9, 1e-05, [200, 40, 60]   0.5561745277111062 0.39029416956798113\n",
      ".# 0.07, 0.9, 1e-05, [200, 40, 60]   0.5107742007072502 0.4284669260403484\n",
      "\n",
      ">>>>> Data Quake_10x_Bladder\n",
      "SCZI  0.983095549108186\n",
      "(2500, 23341) (2500, 23341) keeping 500 genes\n"
     ]
    },
    {
     "data": {
      "application/vnd.jupyter.widget-view+json": {
       "model_id": "bea7366386394039a161dd81f4b587a1",
       "version_major": 2,
       "version_minor": 0
      },
      "text/plain": [
       "HBox(children=(IntProgress(value=0, max=1), HTML(value='')))"
      ]
     },
     "metadata": {},
     "output_type": "display_data"
    },
    {
     "name": "stdout",
     "output_type": "stream",
     "text": [
      ".# 0.07, 0.9, 1e-05, [200, 40, 60]   0.75563775474786 0.19587319466067027\n",
      ".# 0.07, 0.9, 1e-05, [200, 40, 60]   0.7529313603861219 0.16887979450001553\n",
      ".# 0.07, 0.9, 1e-05, [200, 40, 60]   0.7547311258263837 0.17067556678774398\n",
      ".# 0.07, 0.9, 1e-05, [200, 40, 60]   0.75537489274776 0.2064054093702396\n",
      ".# 0.07, 0.9, 1e-05, [200, 40, 60]   0.7554980952469117 0.1945767255607439\n",
      ".# 0.07, 0.9, 1e-05, [200, 40, 60]   0.7564686183921313 0.17233042657084874\n",
      ".# 0.07, 0.9, 1e-05, [200, 40, 60]   0.75476390790869 0.1765807420400684\n",
      ".# 0.07, 0.9, 1e-05, [200, 40, 60]   0.7561091781354802 0.1888071329625017\n",
      ".# 0.07, 0.9, 1e-05, [200, 40, 60]   0.755992069321681 0.19956953915991804\n",
      ".# 0.07, 0.9, 1e-05, [200, 40, 60]   0.7646162630962334 0.14560433725529012\n",
      ".# 0.07, 0.9, 1e-05, [200, 40, 60]   0.7611111783519817 0.13416536726830597\n",
      ".# 0.07, 0.9, 1e-05, [200, 40, 60]   0.7626049995253122 0.14576290017159788\n",
      "\n",
      ">>>>> Data Quake_Smart-seq2_Lung\n",
      "SCZI  0.7134055445020913\n",
      "(1676, 23341) (1676, 23341) keeping 500 genes\n"
     ]
    },
    {
     "data": {
      "application/vnd.jupyter.widget-view+json": {
       "model_id": "351b94d4763d464298eff93f3b300442",
       "version_major": 2,
       "version_minor": 0
      },
      "text/plain": [
       "HBox(children=(IntProgress(value=0, max=1), HTML(value='')))"
      ]
     },
     "metadata": {},
     "output_type": "display_data"
    },
    {
     "name": "stdout",
     "output_type": "stream",
     "text": [
      ".# 0.07, 0.9, 1e-05, [200, 40, 60]   0.613425346037264 0.34456964576177795\n",
      ".# 0.07, 0.9, 1e-05, [200, 40, 60]   0.7743684865889761 0.3442837723565648\n",
      ".# 0.07, 0.9, 1e-05, [200, 40, 60]   0.7315983320715403 0.36041955943000686\n",
      ".# 0.07, 0.9, 1e-05, [200, 40, 60]   0.6043378455782731 0.39145116403632857\n",
      ".# 0.07, 0.9, 1e-05, [200, 40, 60]   0.5831053883802172 0.34228699507386584\n",
      ".# 0.07, 0.9, 1e-05, [200, 40, 60]   0.5907005355472654 0.37807362559768387\n",
      ".# 0.07, 0.9, 1e-05, [200, 40, 60]   0.5967384576514586 0.40146266060960956\n",
      ".# 0.07, 0.9, 1e-05, [200, 40, 60]   0.5903833734454662 0.34791234618606814\n",
      ".# 0.07, 0.9, 1e-05, [200, 40, 60]   0.5906473943331598 0.33672603164357107\n",
      ".# 0.07, 0.9, 1e-05, [200, 40, 60]   0.789043196981183 0.3080792782552621\n",
      ".# 0.07, 0.9, 1e-05, [200, 40, 60]   0.7245435710058082 0.3081870647094023\n",
      ".# 0.07, 0.9, 1e-05, [200, 40, 60]   0.7607121146615695 0.30854519903153593\n",
      "\n",
      ">>>>> Data Quake_10x_Limb_Muscle\n",
      "SCZI  0.9610559204789085\n",
      "(3909, 23341) (3909, 23341) keeping 500 genes\n"
     ]
    },
    {
     "data": {
      "application/vnd.jupyter.widget-view+json": {
       "model_id": "a9515f31440e4e5daeaeaa0bff575af9",
       "version_major": 2,
       "version_minor": 0
      },
      "text/plain": [
       "HBox(children=(IntProgress(value=0, max=1), HTML(value='')))"
      ]
     },
     "metadata": {},
     "output_type": "display_data"
    },
    {
     "name": "stdout",
     "output_type": "stream",
     "text": [
      ".# 0.07, 0.9, 1e-05, [200, 40, 60]   0.9859366810067276 0.43843405821986214\n",
      ".# 0.07, 0.9, 1e-05, [200, 40, 60]   0.9864205650844761 0.46538844595655726\n",
      ".# 0.07, 0.9, 1e-05, [200, 40, 60]   0.9882007959213549 0.39960572437772685\n",
      ".# 0.07, 0.9, 1e-05, [200, 40, 60]   0.9880406192741052 0.4080253375375906\n",
      ".# 0.07, 0.9, 1e-05, [200, 40, 60]   0.9862836945527966 0.4335526006909136\n",
      ".# 0.07, 0.9, 1e-05, [200, 40, 60]   0.9863097804522805 0.36516962291577043\n",
      ".# 0.07, 0.9, 1e-05, [200, 40, 60]   0.9877054380910034 0.40667994181583067\n",
      ".# 0.07, 0.9, 1e-05, [200, 40, 60]   0.9894596421767563 0.42544864411318833\n",
      ".# 0.07, 0.9, 1e-05, [200, 40, 60]   0.9882540131801502 0.4100889800319956\n",
      ".# 0.07, 0.9, 1e-05, [200, 40, 60]   0.970511888922083 0.3640626950566793\n",
      ".# 0.07, 0.9, 1e-05, [200, 40, 60]   0.9707171313847841 0.37194394921500834\n",
      ".# 0.07, 0.9, 1e-05, [200, 40, 60]   0.969577258546541 0.3367612909479767\n",
      "\n",
      ">>>>> Data worm_neuron_cell\n",
      "SCZI  0.05077670288621814\n",
      "(4186, 13488) (4186, 13488) keeping 500 genes\n"
     ]
    },
    {
     "data": {
      "application/vnd.jupyter.widget-view+json": {
       "model_id": "8ccb47affe4f457482ddf3289c9d8f0b",
       "version_major": 2,
       "version_minor": 0
      },
      "text/plain": [
       "HBox(children=(IntProgress(value=0, max=1), HTML(value='')))"
      ]
     },
     "metadata": {},
     "output_type": "display_data"
    },
    {
     "name": "stdout",
     "output_type": "stream",
     "text": [
      ".# 0.07, 0.9, 1e-05, [200, 40, 60]   0.11097338059816517 0.08935411871918521\n",
      ".# 0.07, 0.9, 1e-05, [200, 40, 60]   0.15056913992510973 0.13217762685619394\n",
      ".# 0.07, 0.9, 1e-05, [200, 40, 60]   0.15568991402297688 0.1341618541737891\n",
      ".# 0.07, 0.9, 1e-05, [200, 40, 60]   0.14906167877889467 0.12355008083552517\n",
      ".# 0.07, 0.9, 1e-05, [200, 40, 60]   0.15879220366463484 0.14873186585841996\n",
      ".# 0.07, 0.9, 1e-05, [200, 40, 60]   0.1848727546260002 0.18129290088845074\n",
      ".# 0.07, 0.9, 1e-05, [200, 40, 60]   0.13557070707567168 0.116121916609073\n",
      ".# 0.07, 0.9, 1e-05, [200, 40, 60]   0.16460123096890206 0.117349500076001\n",
      ".# 0.07, 0.9, 1e-05, [200, 40, 60]   0.168609745805939 0.16520270629628583\n",
      ".# 0.07, 0.9, 1e-05, [200, 40, 60]   0.09731718742117808 0.113832241545223\n",
      ".# 0.07, 0.9, 1e-05, [200, 40, 60]   0.10853955555452006 0.1310524158260271\n",
      ".# 0.07, 0.9, 1e-05, [200, 40, 60]   0.11213585345392076 0.1234013470039801\n",
      "\n",
      ">>>>> Data mouse_bladder_cell\n",
      "SCZI  0.4148792388055975\n",
      "(2746, 20670) (2746, 20670) keeping 500 genes\n"
     ]
    },
    {
     "data": {
      "application/vnd.jupyter.widget-view+json": {
       "model_id": "38656d8464834559b3aee9b93f5c5c6e",
       "version_major": 2,
       "version_minor": 0
      },
      "text/plain": [
       "HBox(children=(IntProgress(value=0, max=1), HTML(value='')))"
      ]
     },
     "metadata": {},
     "output_type": "display_data"
    },
    {
     "name": "stdout",
     "output_type": "stream",
     "text": [
      ".# 0.07, 0.9, 1e-05, [200, 40, 60]   0.4159062548119207 0.3630343188812175\n",
      ".# 0.07, 0.9, 1e-05, [200, 40, 60]   0.33583684457862745 0.3376944609658503\n",
      ".# 0.07, 0.9, 1e-05, [200, 40, 60]   0.36819192256785693 0.33873315844672597\n",
      ".# 0.07, 0.9, 1e-05, [200, 40, 60]   0.32595268125942745 0.3279410476248205\n",
      ".# 0.07, 0.9, 1e-05, [200, 40, 60]   0.33473527548112636 0.32639346089431276\n",
      ".# 0.07, 0.9, 1e-05, [200, 40, 60]   0.335603149317031 0.3438785298929182\n",
      ".# 0.07, 0.9, 1e-05, [200, 40, 60]   0.33273859851347704 0.31607791598744794\n",
      ".# 0.07, 0.9, 1e-05, [200, 40, 60]   0.34635781042382857 0.3728423171598815\n",
      ".# 0.07, 0.9, 1e-05, [200, 40, 60]   0.3636946201541781 0.28874055732097426\n",
      ".# 0.07, 0.9, 1e-05, [200, 40, 60]   0.29222179650246033 0.2642150609165803\n",
      ".# 0.07, 0.9, 1e-05, [200, 40, 60]   0.3451851590167957 0.27949433486766306\n",
      ".# 0.07, 0.9, 1e-05, [200, 40, 60]   0.3407840596250408 0.2764328928458733\n",
      "\n",
      ">>>>> Data Romanov\n",
      "SCZI  0.75405351856634\n",
      "(2881, 21143) (2881, 21143) keeping 500 genes\n"
     ]
    },
    {
     "data": {
      "application/vnd.jupyter.widget-view+json": {
       "model_id": "71edb2104c4b4bf7b100265b3ba1f29c",
       "version_major": 2,
       "version_minor": 0
      },
      "text/plain": [
       "HBox(children=(IntProgress(value=0, max=1), HTML(value='')))"
      ]
     },
     "metadata": {},
     "output_type": "display_data"
    },
    {
     "name": "stdout",
     "output_type": "stream",
     "text": [
      ".# 0.07, 0.9, 1e-05, [200, 40, 60]   0.7284388899982704 0.2824650881563508\n",
      ".# 0.07, 0.9, 1e-05, [200, 40, 60]   0.7354186431860008 0.28504750448831334\n",
      ".# 0.07, 0.9, 1e-05, [200, 40, 60]   0.7289856480038408 0.2581196957117909\n",
      ".# 0.07, 0.9, 1e-05, [200, 40, 60]   0.6965691391904091 0.23094782044211934\n",
      ".# 0.07, 0.9, 1e-05, [200, 40, 60]   0.7058386454845831 0.28705975831105485\n",
      ".# 0.07, 0.9, 1e-05, [200, 40, 60]   0.7327421896398879 0.2999857416831402\n",
      ".# 0.07, 0.9, 1e-05, [200, 40, 60]   0.7383805621333666 0.27238033501440134\n",
      ".# 0.07, 0.9, 1e-05, [200, 40, 60]   0.734201428225214 0.27205001678014096\n",
      ".# 0.07, 0.9, 1e-05, [200, 40, 60]   0.6617031128163018 0.28435314483144003\n",
      ".# 0.07, 0.9, 1e-05, [200, 40, 60]   0.39882392806401096 0.16386843181549643\n",
      ".# 0.07, 0.9, 1e-05, [200, 40, 60]   0.3867689578142621 0.20866726546293157\n",
      ".# 0.07, 0.9, 1e-05, [200, 40, 60]   0.3874333198839162 0.21649286140337484\n",
      "\n",
      ">>>>> Data Quake_Smart-seq2_Limb_Muscle\n",
      "SCZI  0.9736759009464299\n",
      "(1090, 23341) (1090, 23341) keeping 500 genes\n"
     ]
    },
    {
     "data": {
      "application/vnd.jupyter.widget-view+json": {
       "model_id": "96c9ebae62f242b3a9c63b24e97a9451",
       "version_major": 2,
       "version_minor": 0
      },
      "text/plain": [
       "HBox(children=(IntProgress(value=0, max=1), HTML(value='')))"
      ]
     },
     "metadata": {},
     "output_type": "display_data"
    },
    {
     "name": "stdout",
     "output_type": "stream",
     "text": [
      ".# 0.07, 0.9, 1e-05, [200, 40, 60]   0.9722957002915682 0.35379376911093435\n",
      ".# 0.07, 0.9, 1e-05, [200, 40, 60]   0.9733778655307548 0.31004603378308343\n",
      ".# 0.07, 0.9, 1e-05, [200, 40, 60]   0.9739575927457615 0.3618604627919782\n",
      ".# 0.07, 0.9, 1e-05, [200, 40, 60]   0.968832897043171 0.3815898184333683\n",
      ".# 0.07, 0.9, 1e-05, [200, 40, 60]   0.9758813374991732 0.31057102294381056\n",
      ".# 0.07, 0.9, 1e-05, [200, 40, 60]   0.9714047000561042 0.345643647933032\n",
      ".# 0.07, 0.9, 1e-05, [200, 40, 60]   0.9707162109190607 0.36030094208591035\n",
      ".# 0.07, 0.9, 1e-05, [200, 40, 60]   0.9765941773588556 0.35571967982882674\n",
      ".# 0.07, 0.9, 1e-05, [200, 40, 60]   0.9736885752148925 0.2755242336194279\n",
      ".# 0.07, 0.9, 1e-05, [200, 40, 60]   0.9335013636218884 0.32421023250909164\n",
      ".# 0.07, 0.9, 1e-05, [200, 40, 60]   0.5172909135496863 0.31160206602117774\n",
      ".# 0.07, 0.9, 1e-05, [200, 40, 60]   0.9156352209707112 0.31080144358559764\n",
      "\n",
      ">>>>> Data Muraro\n",
      "SCZI  0.7246271034758398\n",
      "(2122, 19046) (2122, 19046) keeping 500 genes\n"
     ]
    },
    {
     "data": {
      "application/vnd.jupyter.widget-view+json": {
       "model_id": "ddc173114b60440cadc759169c365671",
       "version_major": 2,
       "version_minor": 0
      },
      "text/plain": [
       "HBox(children=(IntProgress(value=0, max=1), HTML(value='')))"
      ]
     },
     "metadata": {},
     "output_type": "display_data"
    },
    {
     "name": "stdout",
     "output_type": "stream",
     "text": [
      ".# 0.07, 0.9, 1e-05, [200, 40, 60]   0.8522487093977664 0.3774794154209196\n",
      ".# 0.07, 0.9, 1e-05, [200, 40, 60]   0.8610519908167902 0.37833295995145977\n",
      ".# 0.07, 0.9, 1e-05, [200, 40, 60]   0.878946946231079 0.372726984708388\n",
      ".# 0.07, 0.9, 1e-05, [200, 40, 60]   0.8356180405479354 0.3501495439749779\n",
      ".# 0.07, 0.9, 1e-05, [200, 40, 60]   0.840017554672249 0.3449483840837134\n",
      ".# 0.07, 0.9, 1e-05, [200, 40, 60]   0.6613934943934656 0.36377261063807736\n",
      ".# 0.07, 0.9, 1e-05, [200, 40, 60]   0.8693392050017619 0.3886752383776422\n",
      ".# 0.07, 0.9, 1e-05, [200, 40, 60]   0.7512850030771876 0.31572325638080606\n",
      ".# 0.07, 0.9, 1e-05, [200, 40, 60]   0.7082351735371902 0.3904935579832978\n",
      ".# 0.07, 0.9, 1e-05, [200, 40, 60]   0.34188728023035464 0.2529884481096396\n",
      ".# 0.07, 0.9, 1e-05, [200, 40, 60]   0.33698299619770833 0.2302584951700248\n",
      ".# 0.07, 0.9, 1e-05, [200, 40, 60]   0.33860258460499276 0.20568018926696174\n",
      "\n",
      ">>>>> Data 10X_PBMC\n",
      "SCZI  0.5845649506030623\n",
      "(4271, 16653) (4271, 16653) keeping 500 genes\n"
     ]
    },
    {
     "data": {
      "application/vnd.jupyter.widget-view+json": {
       "model_id": "3ecd54535be947159f81c76373db2b57",
       "version_major": 2,
       "version_minor": 0
      },
      "text/plain": [
       "HBox(children=(IntProgress(value=0, max=1), HTML(value='')))"
      ]
     },
     "metadata": {},
     "output_type": "display_data"
    },
    {
     "name": "stdout",
     "output_type": "stream",
     "text": [
      ".# 0.07, 0.9, 1e-05, [200, 40, 60]   0.7000465730202853 0.38195140087809054\n",
      ".# 0.07, 0.9, 1e-05, [200, 40, 60]   0.7012140678789418 0.39608507554978317\n",
      ".# 0.07, 0.9, 1e-05, [200, 40, 60]   0.703442341359809 0.44127981801223143\n",
      ".# 0.07, 0.9, 1e-05, [200, 40, 60]   0.6975008154164312 0.38706377606690073\n",
      ".# 0.07, 0.9, 1e-05, [200, 40, 60]   0.6915768652596332 0.3825626090357679\n",
      ".# 0.07, 0.9, 1e-05, [200, 40, 60]   0.7111128897658276 0.3583043963452998\n",
      ".# 0.07, 0.9, 1e-05, [200, 40, 60]   0.6874305088375064 0.3990753568162678\n",
      ".# 0.07, 0.9, 1e-05, [200, 40, 60]   0.7096820493178939 0.40231870569670625\n",
      ".# 0.07, 0.9, 1e-05, [200, 40, 60]   0.7129863799367051 0.3863111738067699\n",
      ".# 0.07, 0.9, 1e-05, [200, 40, 60]   0.6072964659002577 0.3357633149277467\n",
      ".# 0.07, 0.9, 1e-05, [200, 40, 60]   0.6027552872583546 0.2992224650110242\n",
      ".# 0.07, 0.9, 1e-05, [200, 40, 60]   0.6516874386050853 0.31638920550065214\n",
      "\n"
     ]
    }
   ],
   "source": [
    "df = pd.DataFrame()\n",
    "lr =0.4\n",
    "for dataset in files:\n",
    "\n",
    "    print(f\">>>>> Data {dataset}\")\n",
    "    print(\"SCZI \", sczi[sczi[\"dataset\"] == dataset][\"ARI\"].mean())\n",
    "    data_mat = h5py.File(f\"{path}real_data/{dataset}.h5\", \"r\")\n",
    "    X = np.array(data_mat['X'])\n",
    "    Y = np.array(data_mat['Y'])\n",
    "\n",
    "    cluster_number = np.unique(Y).shape[0]\n",
    "    nb_genes = 500\n",
    "    data_mat = h5py.File(f\"{path}real_data/{dataset}.h5\", \"r\")\n",
    "    X = np.array(data_mat['X'])\n",
    "    Y = np.array(data_mat['Y'])\n",
    "\n",
    "    X = train.preprocess(X, nb_genes=nb_genes)\n",
    "    for temperature in tqdm([0.07]):\n",
    "        for dropout in [ 0.9\n",
    "                       ]:\n",
    "            for noise in [0, 0.01, 0.1, 1\n",
    "                      ]:\n",
    "                for layers in [\n",
    "                    [200, 40, 60]\n",
    "                              ]:\n",
    "                    for run in range(3):\n",
    "                        torch.manual_seed(run)\n",
    "                        torch.cuda.manual_seed_all(run)\n",
    "                        np.random.seed(run)\n",
    "                        random.seed(run)\n",
    "                        torch.backends.cudnn.deterministic = True\n",
    "                        torch.backends.cudnn.benchmark = False\n",
    "                        dresults = train.run(X,\n",
    "                                             cluster_number,\n",
    "                                             dataset,\n",
    "                                             Y=Y,\n",
    "                                             nb_epochs=30,\n",
    "                                             lr=lr,\n",
    "                                             noise = noise,\n",
    "                                             temperature=temperature,\n",
    "                                             dropout=dropout,\n",
    "                                             evaluate=False,\n",
    "                                             n_ensemble=1,\n",
    "                                             layers=layers,\n",
    "                                             save_to=f\"{path}output/real_data/{run}/\",\n",
    "                                             save_pred = False)\n",
    "                        dresults[\"temperature\"] = temperature\n",
    "                        dresults[\"dropout\"] = dropout\n",
    "                        dresults[\"noise\"] = noise\n",
    "                        dresults[\"layers\"] = str(layers)\n",
    "                        dresults[\"run\"] = run\n",
    "                        print(f\".\", end = \"\")\n",
    "                        print(f\"# {temperature}, {dropout}, {lr}, {layers}\", \n",
    "                              dresults.get('COMBINED_kmeans_ari', \"\"),\n",
    "                              dresults.get('COMBINED_leiden_ari', \"\"), dresults.get('kmeans_ari_0',\"\"),\n",
    "                              dresults.get('leiden_ari_0', \"\"))\n",
    "                        df = df.append(dresults, ignore_index=True)\n",
    "\n",
    "                        df.to_pickle(f\"{path}output/pickle_results/real_data/real_data_noise.pkl\")"
   ]
  },
  {
   "cell_type": "code",
   "execution_count": null,
   "metadata": {},
   "outputs": [],
   "source": [
    "df"
   ]
  },
  {
   "cell_type": "code",
   "execution_count": null,
   "metadata": {},
   "outputs": [],
   "source": [
    "sczi = pd.read_pickle(f\"../output/pickle_results/real_data/real_data_sczi.pkl\")\n",
    "sczi = sczi[sczi[\"dataset\"].isin(files)]\n",
    "sczi.mean()"
   ]
  },
  {
   "cell_type": "code",
   "execution_count": null,
   "metadata": {},
   "outputs": [],
   "source": [
    "df = pd.read_pickle(f\"../output/pickle_results/real_data/real_data_noise.pkl\")\n",
    "df = df.fillna(0)\n",
    "df = df[df[\"dataset\"].isin(files)]\n",
    "df.groupby([\"temperature\", \"layers\", \"dropout\", \"noise\"])[\"kmeans_ari_0\"].mean().unstack([\"layers\", \"noise\"]).T"
   ]
  },
  {
   "cell_type": "code",
   "execution_count": null,
   "metadata": {},
   "outputs": [],
   "source": [
    "# df = pd.read_pickle(f\"../output/pickle_results/real_data/real_data_1model.pkl\")\n",
    "df.groupby([\"temperature\", \"layers\", \"dropout\", \"lr\"])[\"kmeans_ari_0\"].mean().unstack([\"layers\", \"noise\"]).max()"
   ]
  },
  {
   "cell_type": "code",
   "execution_count": null,
   "metadata": {},
   "outputs": [],
   "source": [
    "# r = df[(df[\"layers\"]==\"[40]\")\n",
    "#        &(df[\"temperature\"]==0.01)\n",
    "#        &(df[\"lr\"]==1e-5)\n",
    "#        &(df[\"dropout\"]==0.9)\n",
    "#       ]\n",
    "r = df[(df[\"layers\"]==\"[200, 100, 30, 30]\")\n",
    "       &(df[\"temperature\"]==0.07)\n",
    "       &(df[\"lr\"]==1e-5)\n",
    "       &(df[\"dropout\"]==0.9)\n",
    "      ]\n",
    "\n",
    "\n",
    "r.mean()"
   ]
  },
  {
   "cell_type": "code",
   "execution_count": null,
   "metadata": {},
   "outputs": [],
   "source": [
    "comb = pd.merge(r, sczi, on=[\"dataset\", \"run\"])[[\n",
    "    \"dataset\", \"kmeans_ari_0\", \"ARI\", \"kmeans_nmi_0\", \"NMI\"\n",
    "]].rename(columns = {\"kmeans_ari_0\": \"contrative-sc\", \"ARI\": \"sczi\"})\n",
    "comb"
   ]
  },
  {
   "cell_type": "code",
   "execution_count": null,
   "metadata": {},
   "outputs": [],
   "source": [
    "comb =pd.melt(comb, id_vars=[\"dataset\"], value_vars=[\"contrative-sc\", \"sczi\"])"
   ]
  },
  {
   "cell_type": "code",
   "execution_count": null,
   "metadata": {},
   "outputs": [],
   "source": [
    "comb.head()"
   ]
  },
  {
   "cell_type": "code",
   "execution_count": null,
   "metadata": {},
   "outputs": [],
   "source": []
  },
  {
   "cell_type": "code",
   "execution_count": null,
   "metadata": {},
   "outputs": [],
   "source": [
    "import seaborn as sns"
   ]
  },
  {
   "cell_type": "code",
   "execution_count": null,
   "metadata": {},
   "outputs": [],
   "source": [
    "sns.boxplot( data = comb, y=\"value\", x = \"variable\")\n",
    "plt.xticks(rotation = 90)"
   ]
  },
  {
   "cell_type": "code",
   "execution_count": null,
   "metadata": {
    "scrolled": true
   },
   "outputs": [],
   "source": [
    "sns.barplot(x = \"dataset\", data = comb, y=\"value\", hue = \"variable\")\n",
    "plt.xticks(rotation = 90)"
   ]
  },
  {
   "cell_type": "code",
   "execution_count": null,
   "metadata": {},
   "outputs": [],
   "source": []
  },
  {
   "cell_type": "code",
   "execution_count": null,
   "metadata": {},
   "outputs": [],
   "source": []
  },
  {
   "cell_type": "code",
   "execution_count": null,
   "metadata": {},
   "outputs": [],
   "source": [
    "df.groupby(\"dataset\").mean()"
   ]
  },
  {
   "cell_type": "markdown",
   "metadata": {},
   "source": [
    "# Importance of input size"
   ]
  },
  {
   "cell_type": "code",
   "execution_count": null,
   "metadata": {},
   "outputs": [],
   "source": [
    "df = pd.DataFrame(\n",
    "    columns=[\"dataset\", \"perc0\", \"nb_genes\", \"exp\", \"ari\", \"run\"])\n",
    "print(df.shape)\n",
    "for dataset in files:\n",
    "\n",
    "    print(f\">>>>> Data {dataset}\")\n",
    "\n",
    "    data_mat = h5py.File(f\"{path}real_data/{dataset}.h5\", \"r\")\n",
    "    for run in range(2):\n",
    "        torch.manual_seed(run)\n",
    "        torch.cuda.manual_seed_all(run)\n",
    "        np.random.seed(run)\n",
    "        random.seed(run)\n",
    "        torch.backends.cudnn.deterministic = True\n",
    "        torch.backends.cudnn.benchmark = False\n",
    "        for nb_genes in [100, 200, 500, 1000, 1500, 2000, 5000, 8000]:\n",
    "\n",
    "            X = np.array(data_mat['X'])\n",
    "            Y = np.array(data_mat['Y'])\n",
    "            perc_0 = np.where(X == 0)[0].shape[0] / (X.shape[0] * X.shape[1])\n",
    "            print(f\"Perc 0 {perc_0}\")\n",
    "            cluster_number = np.unique(Y).shape[0]\n",
    "\n",
    "            X = train.preprocess(X, nb_genes=nb_genes)\n",
    "            nb_zeros = int(0.8 * nb_genes)\n",
    "            dresults = train.train(\n",
    "                X,\n",
    "                cluster_number,\n",
    "                dataset,\n",
    "                Y,\n",
    "                n_ensemble=1,\n",
    "                epochs=100,\n",
    "                nb_zeros=nb_zeros,\n",
    "                save_to=f\"{path}output/real_data/inputs/{dataset}_{nb_genes}/\")\n",
    "\n",
    "            #         df.loc[df.shape[0]] = [\n",
    "            #                 dataset, perc_0, nb_genes, 'kmeans_representation_0',dresults['kmeans_representation_0']\n",
    "            #             ]\n",
    "            df.loc[df.shape[0]] = [\n",
    "                dataset, perc_0, nb_genes, 'leiden_representation_0',\n",
    "                dresults['leiden_representation_0'], run]\n",
    "\n",
    "#             pxt = PCA(2).fit_transform(X)\n",
    "#             dresults[\"original\"] = utils.evaluate(X, Y, cluster_number)[1]\n",
    "#             dresults[\"pca\"] = utils.evaluate(pxt, Y, cluster_number)[1]\n",
    "            print(dresults)\n",
    "    df.to_pickle(f\"{path}output/pickle_results/real_data_input_size.pkl\")"
   ]
  },
  {
   "cell_type": "code",
   "execution_count": null,
   "metadata": {},
   "outputs": [],
   "source": [
    "df = pd.read_pickle(f\"{path}output/pickle_results/real_data_input_size.pkl\")"
   ]
  },
  {
   "cell_type": "code",
   "execution_count": null,
   "metadata": {},
   "outputs": [],
   "source": [
    "df.groupby([\"nb_genes\"]).mean()"
   ]
  },
  {
   "cell_type": "code",
   "execution_count": null,
   "metadata": {},
   "outputs": [],
   "source": [
    "dataset_names = {\n",
    "    '10X_PBMC': '10X PBMC',\n",
    "    '10X_PBMC_select_2100': '10X PBMC (2100)',\n",
    "    'mouse_ES_cell': 'Mouse ES\\nCell',\n",
    "    'mouse_ES_cell_select_2100': 'Mouse ES\\nCell (2100)',\n",
    "    'worm_neuron_cell_select_2100': 'Worm Neuron\\nCell (2100)',\n",
    "    'worm_neuron_cell': 'Worm Neuron\\nCell',\n",
    "    'mouse_bladder_cell': 'Mouse Bladder\\nCell',\n",
    "    'mouse_bladder_cell_select_2100': 'Mouse Bladder\\n Cell (2100)'\n",
    "}\n",
    "\n",
    "df[\"dataset\"] = df[\"dataset\"].apply(lambda x: dataset_names[x])\n",
    "\n",
    "df = df.rename(columns = {\"nb_genes\": \"Nb input genes\"})"
   ]
  },
  {
   "cell_type": "code",
   "execution_count": null,
   "metadata": {},
   "outputs": [],
   "source": [
    "df[\"dataset\"].unique()\n"
   ]
  },
  {
   "cell_type": "code",
   "execution_count": null,
   "metadata": {},
   "outputs": [],
   "source": [
    "import seaborn as sns\n",
    "datasets = ['10X PBMC',  'Mouse ES\\nCell','Worm Neuron\\nCell', 'Mouse Bladder\\nCell']\n",
    "plt.figure(figsize=(10, 3.3))\n",
    "ax = plt.subplot(111)\n",
    "sns.barplot(\n",
    "    hue=\"Nb input genes\",\n",
    "    y=\"ari\",\n",
    "    x=\"dataset\",\n",
    "    data=df[df[\"dataset\"].isin(datasets)],\n",
    "    ax=ax,\n",
    "    edgecolor='black',\n",
    "    linewidth=1.5,\n",
    ")\n",
    "plt.ylabel(\"ARI\")\n",
    "plt.xlabel(\"\")\n",
    "plt.legend(title= \"Nb input genes\",bbox_to_anchor=(1, 1))\n",
    "sns.despine()\n",
    "plt.tight_layout()\n",
    "\n",
    "plt.savefig(f\"{path}diagrams/real_input_size.pdf\", bbox_inches='tight')"
   ]
  },
  {
   "cell_type": "code",
   "execution_count": null,
   "metadata": {},
   "outputs": [],
   "source": [
    "datasets = ['10X PBMC (2100)',\n",
    "       'Mouse ES\\nCell (2100)', 'Worm Neuron\\nCell (2100)',\n",
    "       'Mouse Bladder\\n Cell (2100)']\n",
    "plt.figure(figsize=(10, 3.3))\n",
    "ax = plt.subplot(111)\n",
    "sns.barplot(\n",
    "    hue=\"Nb input genes\",\n",
    "    y=\"ari\",\n",
    "    x=\"dataset\",\n",
    "    data=df[df[\"dataset\"].isin(datasets)],\n",
    "    ax=ax,\n",
    "    edgecolor='black',\n",
    "    linewidth=1.5,\n",
    ")\n",
    "plt.ylabel(\"ARI\")\n",
    "plt.xlabel(\"\")\n",
    "plt.legend(title= \"Nb input genes\",bbox_to_anchor=(1, 1))\n",
    "sns.despine()\n",
    "plt.tight_layout()\n",
    "\n",
    "plt.savefig(f\"{path}diagrams/real_input_size_2100.pdf\", bbox_inches='tight')"
   ]
  },
  {
   "cell_type": "code",
   "execution_count": null,
   "metadata": {},
   "outputs": [],
   "source": []
  },
  {
   "cell_type": "markdown",
   "metadata": {},
   "source": [
    "# Importance of the number of epochs"
   ]
  },
  {
   "cell_type": "code",
   "execution_count": null,
   "metadata": {},
   "outputs": [],
   "source": [
    "df = pd.DataFrame(\n",
    "    columns=[\"dataset\", \"perc0\", \"nb_epochs\", \"exp\", \"ari\", \"run\"])\n",
    "print(df.shape)\n",
    "for dataset in files:\n",
    "\n",
    "    print(f\">>>>> Data {dataset}\")\n",
    "\n",
    "    data_mat = h5py.File(f\"{path}real_data/{dataset}.h5\", \"r\")\n",
    "    nb_genes = 1500\n",
    "    for epochs in [5, 50, 100, 300]:\n",
    "\n",
    "        X = np.array(data_mat['X'])\n",
    "        Y = np.array(data_mat['Y'])\n",
    "        perc_0 = np.where(X == 0)[0].shape[0] / (X.shape[0] * X.shape[1])\n",
    "        print(f\"Perc 0 {perc_0}\")\n",
    "        cluster_number = np.unique(Y).shape[0]\n",
    "\n",
    "        X = train.preprocess(X, nb_genes=nb_genes)\n",
    "        nb_zeros = int(0.8 * nb_genes)\n",
    "        for run in range(2):\n",
    "            torch.manual_seed(run)\n",
    "            torch.cuda.manual_seed_all(run)\n",
    "            np.random.seed(run)\n",
    "            random.seed(run)\n",
    "            torch.backends.cudnn.deterministic = True\n",
    "            torch.backends.cudnn.benchmark = False\n",
    "\n",
    "            dresults = train.train(\n",
    "                X,\n",
    "                cluster_number,\n",
    "                dataset,\n",
    "                Y,\n",
    "                n_ensemble=1,\n",
    "                epochs=epochs,\n",
    "                nb_zeros=nb_zeros,\n",
    "                save_to=f\"{path}output/real_data/epochs/{dataset}_{epochs}/\")\n",
    "\n",
    "            df.loc[df.shape[0]] = [\n",
    "                dataset, perc_0, epochs, 'kmeans_representation_0',\n",
    "                dresults['kmeans_representation_0'], run\n",
    "            ]\n",
    "            df.loc[df.shape[0]] = [\n",
    "                dataset, perc_0, epochs, 'leiden_representation_0',\n",
    "                dresults['leiden_representation_0'], run\n",
    "            ]\n",
    "\n",
    "            print(dresults)\n",
    "            df.to_pickle(f\"{path}output/pickle_results/real_data_epochs.pkl\")"
   ]
  },
  {
   "cell_type": "code",
   "execution_count": null,
   "metadata": {},
   "outputs": [],
   "source": [
    "df = pd.read_pickle(f\"{path}output/pickle_results/real_data_epochs.pkl\")"
   ]
  },
  {
   "cell_type": "code",
   "execution_count": null,
   "metadata": {},
   "outputs": [],
   "source": [
    "dataset_names = {\n",
    "    '10X_PBMC': '10X PBMC',\n",
    "    '10X_PBMC_select_2100': '10X PBMC (2100)',\n",
    "    'mouse_ES_cell': 'Mouse ES\\nCell',\n",
    "    'mouse_ES_cell_select_2100': 'Mouse ES\\nCell (2100)',\n",
    "    'worm_neuron_cell_select_2100': 'Worm Neuron\\nCell (2100)',\n",
    "    'worm_neuron_cell': 'Worm Neuron\\nCell',\n",
    "    'mouse_bladder_cell': 'Mouse Bladder\\nCell',\n",
    "    'mouse_bladder_cell_select_2100': 'Mouse Bladder\\n Cell (2100)'\n",
    "}\n",
    "\n",
    "df[\"dataset\"] = df[\"dataset\"].apply(lambda x: dataset_names[x])\n",
    "\n",
    "df = df.rename(columns = {\"nb_epochs\": \"Nb epochs\"})"
   ]
  },
  {
   "cell_type": "code",
   "execution_count": null,
   "metadata": {},
   "outputs": [],
   "source": [
    "import seaborn as sns\n",
    "datasets = ['10X PBMC',  'Mouse ES\\nCell','Worm Neuron\\nCell', 'Mouse Bladder\\nCell']\n",
    "plt.figure(figsize=(7, 3))\n",
    "ax = plt.subplot(111)\n",
    "sns.barplot(\n",
    "    hue=\"Nb epochs\",\n",
    "    y=\"ari\",\n",
    "    x=\"dataset\",\n",
    "    data=df[df[\"dataset\"].isin(datasets)],\n",
    "    ax=ax,\n",
    "    edgecolor='black',\n",
    "    linewidth=1.5,\n",
    ")\n",
    "plt.ylabel(\"ARI\")\n",
    "plt.xlabel(\"\")\n",
    "plt.legend(title =\"Number of epochs\",bbox_to_anchor=(1, 1))\n",
    "sns.despine()\n",
    "plt.tight_layout()\n",
    "\n",
    "plt.savefig(f\"{path}diagrams/real_nb_epochs.pdf\", bbox_inches='tight')"
   ]
  },
  {
   "cell_type": "code",
   "execution_count": null,
   "metadata": {},
   "outputs": [],
   "source": []
  },
  {
   "cell_type": "code",
   "execution_count": null,
   "metadata": {},
   "outputs": [],
   "source": []
  }
 ],
 "metadata": {
  "kernelspec": {
   "display_name": "Python 3",
   "language": "python",
   "name": "python3"
  },
  "language_info": {
   "codemirror_mode": {
    "name": "ipython",
    "version": 3
   },
   "file_extension": ".py",
   "mimetype": "text/x-python",
   "name": "python",
   "nbconvert_exporter": "python",
   "pygments_lexer": "ipython3",
   "version": "3.7.4"
  }
 },
 "nbformat": 4,
 "nbformat_minor": 4
}
