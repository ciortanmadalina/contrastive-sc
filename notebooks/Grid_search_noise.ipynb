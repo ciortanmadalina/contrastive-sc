{
 "cells": [
  {
   "cell_type": "markdown",
   "metadata": {},
   "source": [
    "Original implementation of Contrastive-sc method\n",
    "(https://github.com/ciortanmadalina/contrastive-sc)"
   ]
  },
  {
   "cell_type": "code",
   "execution_count": 1,
   "metadata": {},
   "outputs": [
    {
     "name": "stderr",
     "output_type": "stream",
     "text": [
      "/opt/conda/lib/python3.7/site-packages/scanpy/api/__init__.py:7: FutureWarning: \n",
      "\n",
      "In a future version of Scanpy, `scanpy.api` will be removed.\n",
      "Simply use `import scanpy as sc` and `import scanpy.external as sce` instead.\n",
      "\n",
      "  FutureWarning,\n"
     ]
    }
   ],
   "source": [
    "import sys\n",
    "sys.path.append(\"..\")\n",
    "import argparse\n",
    "from sklearn.metrics import adjusted_rand_score, normalized_mutual_info_score\n",
    "from sklearn.cluster import KMeans\n",
    "from sklearn import metrics\n",
    "\n",
    "import torch\n",
    "import torch.nn as nn\n",
    "import copy\n",
    "from tqdm.notebook import tqdm\n",
    "import models\n",
    "import numpy as np\n",
    "import pandas as pd\n",
    "from sklearn.decomposition import PCA\n",
    "import matplotlib.pyplot as plt\n",
    "import st_loss\n",
    "\n",
    "import h5py\n",
    "import scipy as sp\n",
    "import scanpy.api as sc\n",
    "from collections import Counter\n",
    "import random\n",
    "import utils\n",
    "import loop\n",
    "import pickle\n",
    "\n",
    "import train\n",
    "import os\n",
    "import glob2\n",
    "plt.ion()\n",
    "plt.show()\n",
    "%load_ext autoreload\n",
    "%autoreload 2\n",
    "\n",
    "import warnings\n",
    "warnings.filterwarnings(\"ignore\", category=FutureWarning)"
   ]
  },
  {
   "cell_type": "code",
   "execution_count": 2,
   "metadata": {},
   "outputs": [
    {
     "data": {
      "text/plain": [
       "['Quake_Smart-seq2_Trachea',\n",
       " 'Quake_Smart-seq2_Diaphragm',\n",
       " 'Quake_10x_Spleen',\n",
       " 'Young',\n",
       " 'mouse_ES_cell',\n",
       " 'Adam',\n",
       " 'Quake_10x_Bladder',\n",
       " 'Quake_Smart-seq2_Lung',\n",
       " 'Quake_10x_Limb_Muscle',\n",
       " 'worm_neuron_cell',\n",
       " 'mouse_bladder_cell',\n",
       " 'Romanov',\n",
       " 'Quake_Smart-seq2_Limb_Muscle',\n",
       " 'Muraro',\n",
       " '10X_PBMC']"
      ]
     },
     "execution_count": 2,
     "metadata": {},
     "output_type": "execute_result"
    }
   ],
   "source": [
    "path = \"../\"\n",
    "files = glob2.glob(f'{path}real_data/*.h5')\n",
    "files = [f[len(f\"'{path}real_data\"):-3] for f in files]\n",
    "files"
   ]
  },
  {
   "cell_type": "code",
   "execution_count": 3,
   "metadata": {},
   "outputs": [],
   "source": [
    "sczi = pd.read_pickle(f\"../output/pickle_results/real_data/real_data_sczi.pkl\")"
   ]
  },
  {
   "cell_type": "code",
   "execution_count": 9,
   "metadata": {
    "scrolled": true
   },
   "outputs": [
    {
     "name": "stdout",
     "output_type": "stream",
     "text": [
      ">>>>> Data Quake_Smart-seq2_Trachea\n",
      "SCZI  0.8291128219663276\n",
      "(1350, 23341) (1350, 23341) keeping 1500 genes\n"
     ]
    },
    {
     "data": {
      "application/vnd.jupyter.widget-view+json": {
       "model_id": "389775527848441cb7fba676de679aaa",
       "version_major": 2,
       "version_minor": 0
      },
      "text/plain": [
       "HBox(children=(IntProgress(value=0, max=1), HTML(value='')))"
      ]
     },
     "metadata": {},
     "output_type": "display_data"
    },
    {
     "name": "stdout",
     "output_type": "stream",
     "text": [
      ".# 0.07, 0.9, 1e-05, [200, 60, 40]   0.3733386683665321 0.17547831242110537\n",
      ".# 0.07, 0.9, 1e-05, [200, 60, 40]   0.3927191844802994 0.19557531316963656\n",
      "\n",
      ">>>>> Data Quake_Smart-seq2_Diaphragm\n",
      "SCZI  0.9596701189611787\n",
      "(870, 23341) (870, 23341) keeping 1500 genes\n"
     ]
    },
    {
     "data": {
      "application/vnd.jupyter.widget-view+json": {
       "model_id": "a5eb0a8b424f467f81cabb9030be0922",
       "version_major": 2,
       "version_minor": 0
      },
      "text/plain": [
       "HBox(children=(IntProgress(value=0, max=1), HTML(value='')))"
      ]
     },
     "metadata": {},
     "output_type": "display_data"
    },
    {
     "name": "stdout",
     "output_type": "stream",
     "text": [
      ".# 0.07, 0.9, 1e-05, [200, 60, 40]   0.43840336032404603 0.1920853841223912\n",
      ".# 0.07, 0.9, 1e-05, [200, 60, 40]   0.4337800546438553 0.1349003310549292\n",
      "\n",
      ">>>>> Data Young\n",
      "SCZI  0.6629811886776039\n",
      "(5685, 33658) (5685, 33658) keeping 1500 genes\n"
     ]
    },
    {
     "data": {
      "application/vnd.jupyter.widget-view+json": {
       "model_id": "7b3d7fbd5f3941bda749516f297a499a",
       "version_major": 2,
       "version_minor": 0
      },
      "text/plain": [
       "HBox(children=(IntProgress(value=0, max=1), HTML(value='')))"
      ]
     },
     "metadata": {},
     "output_type": "display_data"
    },
    {
     "name": "stdout",
     "output_type": "stream",
     "text": [
      ".# 0.07, 0.9, 1e-05, [200, 60, 40]   0.3834273256851357 0.26857456509113997\n",
      ".# 0.07, 0.9, 1e-05, [200, 60, 40]   0.38013749633203253 0.24514046890430685\n",
      "\n",
      ">>>>> Data mouse_ES_cell\n",
      "SCZI  0.800376096099337\n",
      "(2717, 24175) (2717, 24175) keeping 1500 genes\n"
     ]
    },
    {
     "data": {
      "application/vnd.jupyter.widget-view+json": {
       "model_id": "be48a306b9f74d1f9bab4f00aac5ca89",
       "version_major": 2,
       "version_minor": 0
      },
      "text/plain": [
       "HBox(children=(IntProgress(value=0, max=1), HTML(value='')))"
      ]
     },
     "metadata": {},
     "output_type": "display_data"
    },
    {
     "name": "stdout",
     "output_type": "stream",
     "text": [
      ".# 0.07, 0.9, 1e-05, [200, 60, 40]   0.3964622674651312 0.30094329381546053\n",
      ".# 0.07, 0.9, 1e-05, [200, 60, 40]   0.7399979641130798 0.27617450354604284\n",
      "\n",
      ">>>>> Data Adam\n",
      "SCZI  0.8634561030635544\n",
      "(3660, 23797) (3660, 23797) keeping 1500 genes\n"
     ]
    },
    {
     "data": {
      "application/vnd.jupyter.widget-view+json": {
       "model_id": "195e641d445245a99819c4efe35a5542",
       "version_major": 2,
       "version_minor": 0
      },
      "text/plain": [
       "HBox(children=(IntProgress(value=0, max=1), HTML(value='')))"
      ]
     },
     "metadata": {},
     "output_type": "display_data"
    },
    {
     "name": "stdout",
     "output_type": "stream",
     "text": [
      ".# 0.07, 0.9, 1e-05, [200, 60, 40]   0.3242986595325362 0.25664667996170476\n",
      ".# 0.07, 0.9, 1e-05, [200, 60, 40]   0.3650631967706478 0.2599603044041965\n",
      "\n",
      ">>>>> Data Quake_10x_Bladder\n",
      "SCZI  0.983095549108186\n",
      "(2500, 23341) (2500, 23341) keeping 1500 genes\n"
     ]
    },
    {
     "data": {
      "application/vnd.jupyter.widget-view+json": {
       "model_id": "87c5840d4ff845a7b4208da7f4a30025",
       "version_major": 2,
       "version_minor": 0
      },
      "text/plain": [
       "HBox(children=(IntProgress(value=0, max=1), HTML(value='')))"
      ]
     },
     "metadata": {},
     "output_type": "display_data"
    },
    {
     "name": "stdout",
     "output_type": "stream",
     "text": [
      ".# 0.07, 0.9, 1e-05, [200, 60, 40]   0.7544092790563725 0.1602890088597341\n",
      ".# 0.07, 0.9, 1e-05, [200, 60, 40]   0.7553054613959104 0.1502525516113939\n",
      "\n",
      ">>>>> Data Quake_Smart-seq2_Lung\n",
      "SCZI  0.7134055445020913\n",
      "(1676, 23341) (1676, 23341) keeping 1500 genes\n"
     ]
    },
    {
     "data": {
      "application/vnd.jupyter.widget-view+json": {
       "model_id": "7b08874d5f42456cb839bbb35984992c",
       "version_major": 2,
       "version_minor": 0
      },
      "text/plain": [
       "HBox(children=(IntProgress(value=0, max=1), HTML(value='')))"
      ]
     },
     "metadata": {},
     "output_type": "display_data"
    },
    {
     "name": "stdout",
     "output_type": "stream",
     "text": [
      ".# 0.07, 0.9, 1e-05, [200, 60, 40]   0.5795576984622787 0.29694762483875775\n",
      ".# 0.07, 0.9, 1e-05, [200, 60, 40]   0.5880056495920799 0.26910544173738504\n",
      "\n",
      ">>>>> Data Quake_10x_Limb_Muscle\n",
      "SCZI  0.9610559204789085\n",
      "(3909, 23341) (3909, 23341) keeping 1500 genes\n"
     ]
    },
    {
     "data": {
      "application/vnd.jupyter.widget-view+json": {
       "model_id": "ed150b8c615049e9bb61af473825fcd5",
       "version_major": 2,
       "version_minor": 0
      },
      "text/plain": [
       "HBox(children=(IntProgress(value=0, max=1), HTML(value='')))"
      ]
     },
     "metadata": {},
     "output_type": "display_data"
    },
    {
     "name": "stdout",
     "output_type": "stream",
     "text": [
      ".# 0.07, 0.9, 1e-05, [200, 60, 40]   0.8528195446015232 0.3905476669474993\n",
      ".# 0.07, 0.9, 1e-05, [200, 60, 40]   0.8905776489219384 0.3201251117954504\n",
      "\n",
      ">>>>> Data worm_neuron_cell\n",
      "SCZI  0.05077670288621814\n",
      "(4186, 13488) (4186, 13488) keeping 1500 genes\n"
     ]
    },
    {
     "data": {
      "application/vnd.jupyter.widget-view+json": {
       "model_id": "c3adac29a6b546f189904ce3cbb9c115",
       "version_major": 2,
       "version_minor": 0
      },
      "text/plain": [
       "HBox(children=(IntProgress(value=0, max=1), HTML(value='')))"
      ]
     },
     "metadata": {},
     "output_type": "display_data"
    },
    {
     "name": "stdout",
     "output_type": "stream",
     "text": [
      ".# 0.07, 0.9, 1e-05, [200, 60, 40]   0.0135592521944494 0.018211507757506875\n",
      ".# 0.07, 0.9, 1e-05, [200, 60, 40]   0.01821420038089895 0.01968467624936934\n",
      "\n",
      ">>>>> Data mouse_bladder_cell\n",
      "SCZI  0.4148792388055975\n",
      "(2746, 20670) (2746, 20670) keeping 1500 genes\n"
     ]
    },
    {
     "data": {
      "application/vnd.jupyter.widget-view+json": {
       "model_id": "74e0e713c57c4f4d8f2f3d347ac60b56",
       "version_major": 2,
       "version_minor": 0
      },
      "text/plain": [
       "HBox(children=(IntProgress(value=0, max=1), HTML(value='')))"
      ]
     },
     "metadata": {},
     "output_type": "display_data"
    },
    {
     "name": "stdout",
     "output_type": "stream",
     "text": [
      ".# 0.07, 0.9, 1e-05, [200, 60, 40]   0.35661155310272913 0.26058406595566636\n",
      ".# 0.07, 0.9, 1e-05, [200, 60, 40]   0.3130935755029779 0.23026193417402252\n",
      "\n",
      ">>>>> Data Romanov\n",
      "SCZI  0.75405351856634\n",
      "(2881, 21143) (2881, 21143) keeping 1500 genes\n"
     ]
    },
    {
     "data": {
      "application/vnd.jupyter.widget-view+json": {
       "model_id": "22aa2af760844220907a4f73a2a13ea1",
       "version_major": 2,
       "version_minor": 0
      },
      "text/plain": [
       "HBox(children=(IntProgress(value=0, max=1), HTML(value='')))"
      ]
     },
     "metadata": {},
     "output_type": "display_data"
    },
    {
     "name": "stdout",
     "output_type": "stream",
     "text": [
      ".# 0.07, 0.9, 1e-05, [200, 60, 40]   0.3381384388111813 0.18114072229000497\n",
      ".# 0.07, 0.9, 1e-05, [200, 60, 40]   0.3400006490315689 0.17863919282768748\n",
      "\n",
      ">>>>> Data Quake_Smart-seq2_Limb_Muscle\n",
      "SCZI  0.9736759009464299\n",
      "(1090, 23341) (1090, 23341) keeping 1500 genes\n"
     ]
    },
    {
     "data": {
      "application/vnd.jupyter.widget-view+json": {
       "model_id": "112092f11128402abd56ecefd06aaaf7",
       "version_major": 2,
       "version_minor": 0
      },
      "text/plain": [
       "HBox(children=(IntProgress(value=0, max=1), HTML(value='')))"
      ]
     },
     "metadata": {},
     "output_type": "display_data"
    },
    {
     "name": "stdout",
     "output_type": "stream",
     "text": [
      ".# 0.07, 0.9, 1e-05, [200, 60, 40]   0.4666807624804577 0.20425864829256615\n",
      ".# 0.07, 0.9, 1e-05, [200, 60, 40]   0.5057790938671209 0.2447794473558372\n",
      "\n",
      ">>>>> Data Muraro\n",
      "SCZI  0.7246271034758398\n",
      "(2122, 19046) (2122, 19046) keeping 1500 genes\n"
     ]
    },
    {
     "data": {
      "application/vnd.jupyter.widget-view+json": {
       "model_id": "a0bdf6a8b7ca4d70965a95e49da1881b",
       "version_major": 2,
       "version_minor": 0
      },
      "text/plain": [
       "HBox(children=(IntProgress(value=0, max=1), HTML(value='')))"
      ]
     },
     "metadata": {},
     "output_type": "display_data"
    },
    {
     "name": "stdout",
     "output_type": "stream",
     "text": [
      ".# 0.07, 0.9, 1e-05, [200, 60, 40]   0.34039238746545913 0.3096167611835686\n",
      ".# 0.07, 0.9, 1e-05, [200, 60, 40]   0.3371618746262583 0.3724735948757382\n",
      "\n",
      ">>>>> Data 10X_PBMC\n",
      "SCZI  0.5845649506030623\n",
      "(4271, 16653) (4271, 16653) keeping 1500 genes\n"
     ]
    },
    {
     "data": {
      "application/vnd.jupyter.widget-view+json": {
       "model_id": "94cf797cbac440d78c9b745ffe18932c",
       "version_major": 2,
       "version_minor": 0
      },
      "text/plain": [
       "HBox(children=(IntProgress(value=0, max=1), HTML(value='')))"
      ]
     },
     "metadata": {},
     "output_type": "display_data"
    },
    {
     "name": "stdout",
     "output_type": "stream",
     "text": [
      ".# 0.07, 0.9, 1e-05, [200, 60, 40]   0.6023327957929326 0.3245569509567099\n",
      ".# 0.07, 0.9, 1e-05, [200, 60, 40]   0.5817326873324631 0.3495034494585895\n",
      "\n",
      ">>>>> Data Quake_10x_Spleen\n",
      "SCZI  0.909534824400645\n",
      "(9552, 23341) (9552, 23341) keeping 1500 genes\n"
     ]
    },
    {
     "data": {
      "application/vnd.jupyter.widget-view+json": {
       "model_id": "444fd84086aa40429424329d13a81fb5",
       "version_major": 2,
       "version_minor": 0
      },
      "text/plain": [
       "HBox(children=(IntProgress(value=0, max=1), HTML(value='')))"
      ]
     },
     "metadata": {},
     "output_type": "display_data"
    },
    {
     "name": "stdout",
     "output_type": "stream",
     "text": [
      ".# 0.07, 0.9, 1e-05, [200, 60, 40]   0.9207997641429191 0.1477805126275091\n",
      ".# 0.07, 0.9, 1e-05, [200, 60, 40]   0.9347112534536195 0.11190415314054325\n",
      "\n"
     ]
    }
   ],
   "source": [
    "# df = pd.DataFrame()\n",
    "lr =1e-5\n",
    "for dataset in files:\n",
    "\n",
    "    print(f\">>>>> Data {dataset}\")\n",
    "    print(\"SCZI \", sczi[sczi[\"dataset\"] == dataset][\"ARI\"].mean())\n",
    "    data_mat = h5py.File(f\"{path}real_data/{dataset}.h5\", \"r\")\n",
    "    X = np.array(data_mat['X'])\n",
    "    Y = np.array(data_mat['Y'])\n",
    "\n",
    "    cluster_number = np.unique(Y).shape[0]\n",
    "    nb_genes = 1500\n",
    "    data_mat = h5py.File(f\"{path}real_data/{dataset}.h5\", \"r\")\n",
    "    X = np.array(data_mat['X'])\n",
    "    Y = np.array(data_mat['Y'])\n",
    "\n",
    "    X = train.preprocess(X, nb_genes=nb_genes)\n",
    "    for temperature in tqdm([0.07,#0.01,\n",
    "                            ]):\n",
    "        for dropout in [ 0.9\n",
    "                       ]:\n",
    "            for noise in [0.5#None, 100,10, 1, \n",
    "                      ]:\n",
    "                for layers in [\n",
    "                    [200, 60, 40]\n",
    "                              ]:\n",
    "                    for run in range(2):\n",
    "                        torch.manual_seed(run)\n",
    "                        torch.cuda.manual_seed_all(run)\n",
    "                        np.random.seed(run)\n",
    "                        random.seed(run)\n",
    "                        torch.backends.cudnn.deterministic = True\n",
    "                        torch.backends.cudnn.benchmark = False\n",
    "                        dresults = train.run(X,\n",
    "                                             cluster_number,\n",
    "                                             dataset,\n",
    "                                             Y=Y,\n",
    "                                             nb_epochs=30,\n",
    "                                             lr=lr,\n",
    "                                             noise = noise,\n",
    "                                             temperature=temperature,\n",
    "                                             dropout=dropout,\n",
    "                                             evaluate=False,\n",
    "                                             n_ensemble=1,\n",
    "                                             layers=layers,\n",
    "                                             save_to=f\"{path}output/real_data/{run}/\",\n",
    "                                             save_pred = False)\n",
    "                        dresults[\"temperature\"] = temperature\n",
    "                        dresults[\"dropout\"] = dropout\n",
    "                        dresults[\"noise\"] = noise\n",
    "                        dresults[\"layers\"] = str(layers)\n",
    "                        dresults[\"run\"] = run\n",
    "                        print(f\".\", end = \"\")\n",
    "                        print(f\"# {temperature}, {dropout}, {lr}, {layers}\", \n",
    "                              dresults.get('COMBINED_kmeans_ari', \"\"),\n",
    "                              dresults.get('COMBINED_leiden_ari', \"\"), dresults.get('kmeans_ari_0',\"\"),\n",
    "                              dresults.get('leiden_ari_0', \"\"))\n",
    "                        df = df.append(dresults, ignore_index=True)\n",
    "\n",
    "                        df.to_pickle(f\"{path}output/pickle_results/real_data/real_data_noise.pkl\")"
   ]
  },
  {
   "cell_type": "code",
   "execution_count": 21,
   "metadata": {},
   "outputs": [
    {
     "data": {
      "text/html": [
       "<div>\n",
       "<style scoped>\n",
       "    .dataframe tbody tr th:only-of-type {\n",
       "        vertical-align: middle;\n",
       "    }\n",
       "\n",
       "    .dataframe tbody tr th {\n",
       "        vertical-align: top;\n",
       "    }\n",
       "\n",
       "    .dataframe thead th {\n",
       "        text-align: right;\n",
       "    }\n",
       "</style>\n",
       "<table border=\"1\" class=\"dataframe\">\n",
       "  <thead>\n",
       "    <tr style=\"text-align: right;\">\n",
       "      <th></th>\n",
       "      <th>dataset</th>\n",
       "      <th>dropout</th>\n",
       "      <th>kmeans_ari_0</th>\n",
       "      <th>kmeans_nmi_0</th>\n",
       "      <th>layers</th>\n",
       "      <th>leiden_ari_0</th>\n",
       "      <th>leiden_nmi_0</th>\n",
       "      <th>noise</th>\n",
       "      <th>run</th>\n",
       "      <th>temperature</th>\n",
       "      <th>time</th>\n",
       "    </tr>\n",
       "  </thead>\n",
       "  <tbody>\n",
       "    <tr>\n",
       "      <th>0</th>\n",
       "      <td>Quake_Smart-seq2_Trachea</td>\n",
       "      <td>0.9</td>\n",
       "      <td>0.502064</td>\n",
       "      <td>0.580774</td>\n",
       "      <td>[200, 60, 40]</td>\n",
       "      <td>0.162580</td>\n",
       "      <td>0.524239</td>\n",
       "      <td>0.0</td>\n",
       "      <td>0.0</td>\n",
       "      <td>0.07</td>\n",
       "      <td>3.333200</td>\n",
       "    </tr>\n",
       "    <tr>\n",
       "      <th>1</th>\n",
       "      <td>Quake_Smart-seq2_Trachea</td>\n",
       "      <td>0.9</td>\n",
       "      <td>0.469278</td>\n",
       "      <td>0.542781</td>\n",
       "      <td>[200, 60, 40]</td>\n",
       "      <td>0.149636</td>\n",
       "      <td>0.521240</td>\n",
       "      <td>0.0</td>\n",
       "      <td>1.0</td>\n",
       "      <td>0.07</td>\n",
       "      <td>0.948018</td>\n",
       "    </tr>\n",
       "    <tr>\n",
       "      <th>2</th>\n",
       "      <td>Quake_Smart-seq2_Trachea</td>\n",
       "      <td>0.9</td>\n",
       "      <td>0.544113</td>\n",
       "      <td>0.652487</td>\n",
       "      <td>[200, 60, 40]</td>\n",
       "      <td>0.168990</td>\n",
       "      <td>0.536053</td>\n",
       "      <td>100.0</td>\n",
       "      <td>0.0</td>\n",
       "      <td>0.07</td>\n",
       "      <td>7.421674</td>\n",
       "    </tr>\n",
       "    <tr>\n",
       "      <th>3</th>\n",
       "      <td>Quake_Smart-seq2_Trachea</td>\n",
       "      <td>0.9</td>\n",
       "      <td>0.525129</td>\n",
       "      <td>0.620246</td>\n",
       "      <td>[200, 60, 40]</td>\n",
       "      <td>0.167856</td>\n",
       "      <td>0.524643</td>\n",
       "      <td>100.0</td>\n",
       "      <td>1.0</td>\n",
       "      <td>0.07</td>\n",
       "      <td>7.789366</td>\n",
       "    </tr>\n",
       "    <tr>\n",
       "      <th>4</th>\n",
       "      <td>Quake_Smart-seq2_Trachea</td>\n",
       "      <td>0.9</td>\n",
       "      <td>0.547560</td>\n",
       "      <td>0.655237</td>\n",
       "      <td>[200, 60, 40]</td>\n",
       "      <td>0.173692</td>\n",
       "      <td>0.535682</td>\n",
       "      <td>10.0</td>\n",
       "      <td>0.0</td>\n",
       "      <td>0.07</td>\n",
       "      <td>7.665721</td>\n",
       "    </tr>\n",
       "    <tr>\n",
       "      <th>...</th>\n",
       "      <td>...</td>\n",
       "      <td>...</td>\n",
       "      <td>...</td>\n",
       "      <td>...</td>\n",
       "      <td>...</td>\n",
       "      <td>...</td>\n",
       "      <td>...</td>\n",
       "      <td>...</td>\n",
       "      <td>...</td>\n",
       "      <td>...</td>\n",
       "      <td>...</td>\n",
       "    </tr>\n",
       "    <tr>\n",
       "      <th>145</th>\n",
       "      <td>Muraro</td>\n",
       "      <td>0.9</td>\n",
       "      <td>0.337162</td>\n",
       "      <td>0.583480</td>\n",
       "      <td>[200, 60, 40]</td>\n",
       "      <td>0.372474</td>\n",
       "      <td>0.616124</td>\n",
       "      <td>0.5</td>\n",
       "      <td>1.0</td>\n",
       "      <td>0.07</td>\n",
       "      <td>13.110404</td>\n",
       "    </tr>\n",
       "    <tr>\n",
       "      <th>146</th>\n",
       "      <td>10X_PBMC</td>\n",
       "      <td>0.9</td>\n",
       "      <td>0.602333</td>\n",
       "      <td>0.687042</td>\n",
       "      <td>[200, 60, 40]</td>\n",
       "      <td>0.324557</td>\n",
       "      <td>0.581020</td>\n",
       "      <td>0.5</td>\n",
       "      <td>0.0</td>\n",
       "      <td>0.07</td>\n",
       "      <td>26.184781</td>\n",
       "    </tr>\n",
       "    <tr>\n",
       "      <th>147</th>\n",
       "      <td>10X_PBMC</td>\n",
       "      <td>0.9</td>\n",
       "      <td>0.581733</td>\n",
       "      <td>0.664460</td>\n",
       "      <td>[200, 60, 40]</td>\n",
       "      <td>0.349503</td>\n",
       "      <td>0.575826</td>\n",
       "      <td>0.5</td>\n",
       "      <td>1.0</td>\n",
       "      <td>0.07</td>\n",
       "      <td>26.130707</td>\n",
       "    </tr>\n",
       "    <tr>\n",
       "      <th>148</th>\n",
       "      <td>Quake_10x_Spleen</td>\n",
       "      <td>0.9</td>\n",
       "      <td>0.920800</td>\n",
       "      <td>0.829668</td>\n",
       "      <td>[200, 60, 40]</td>\n",
       "      <td>0.147781</td>\n",
       "      <td>0.443619</td>\n",
       "      <td>0.5</td>\n",
       "      <td>0.0</td>\n",
       "      <td>0.07</td>\n",
       "      <td>59.152132</td>\n",
       "    </tr>\n",
       "    <tr>\n",
       "      <th>149</th>\n",
       "      <td>Quake_10x_Spleen</td>\n",
       "      <td>0.9</td>\n",
       "      <td>0.934711</td>\n",
       "      <td>0.850017</td>\n",
       "      <td>[200, 60, 40]</td>\n",
       "      <td>0.111904</td>\n",
       "      <td>0.418203</td>\n",
       "      <td>0.5</td>\n",
       "      <td>1.0</td>\n",
       "      <td>0.07</td>\n",
       "      <td>58.582179</td>\n",
       "    </tr>\n",
       "  </tbody>\n",
       "</table>\n",
       "<p>150 rows × 11 columns</p>\n",
       "</div>"
      ],
      "text/plain": [
       "                      dataset  dropout  kmeans_ari_0  kmeans_nmi_0  \\\n",
       "0    Quake_Smart-seq2_Trachea      0.9      0.502064      0.580774   \n",
       "1    Quake_Smart-seq2_Trachea      0.9      0.469278      0.542781   \n",
       "2    Quake_Smart-seq2_Trachea      0.9      0.544113      0.652487   \n",
       "3    Quake_Smart-seq2_Trachea      0.9      0.525129      0.620246   \n",
       "4    Quake_Smart-seq2_Trachea      0.9      0.547560      0.655237   \n",
       "..                        ...      ...           ...           ...   \n",
       "145                    Muraro      0.9      0.337162      0.583480   \n",
       "146                  10X_PBMC      0.9      0.602333      0.687042   \n",
       "147                  10X_PBMC      0.9      0.581733      0.664460   \n",
       "148          Quake_10x_Spleen      0.9      0.920800      0.829668   \n",
       "149          Quake_10x_Spleen      0.9      0.934711      0.850017   \n",
       "\n",
       "            layers  leiden_ari_0  leiden_nmi_0  noise  run  temperature  \\\n",
       "0    [200, 60, 40]      0.162580      0.524239    0.0  0.0         0.07   \n",
       "1    [200, 60, 40]      0.149636      0.521240    0.0  1.0         0.07   \n",
       "2    [200, 60, 40]      0.168990      0.536053  100.0  0.0         0.07   \n",
       "3    [200, 60, 40]      0.167856      0.524643  100.0  1.0         0.07   \n",
       "4    [200, 60, 40]      0.173692      0.535682   10.0  0.0         0.07   \n",
       "..             ...           ...           ...    ...  ...          ...   \n",
       "145  [200, 60, 40]      0.372474      0.616124    0.5  1.0         0.07   \n",
       "146  [200, 60, 40]      0.324557      0.581020    0.5  0.0         0.07   \n",
       "147  [200, 60, 40]      0.349503      0.575826    0.5  1.0         0.07   \n",
       "148  [200, 60, 40]      0.147781      0.443619    0.5  0.0         0.07   \n",
       "149  [200, 60, 40]      0.111904      0.418203    0.5  1.0         0.07   \n",
       "\n",
       "          time  \n",
       "0     3.333200  \n",
       "1     0.948018  \n",
       "2     7.421674  \n",
       "3     7.789366  \n",
       "4     7.665721  \n",
       "..         ...  \n",
       "145  13.110404  \n",
       "146  26.184781  \n",
       "147  26.130707  \n",
       "148  59.152132  \n",
       "149  58.582179  \n",
       "\n",
       "[150 rows x 11 columns]"
      ]
     },
     "execution_count": 21,
     "metadata": {},
     "output_type": "execute_result"
    }
   ],
   "source": [
    "df"
   ]
  },
  {
   "cell_type": "code",
   "execution_count": 20,
   "metadata": {},
   "outputs": [],
   "source": [
    "df = df.fillna(0)"
   ]
  },
  {
   "cell_type": "code",
   "execution_count": 22,
   "metadata": {},
   "outputs": [],
   "source": [
    "files = [\n",
    "    'Quake_Smart-seq2_Trachea',\n",
    "    'Quake_Smart-seq2_Diaphragm',\n",
    "    'Young',\n",
    "#     '10X_PBMC_select_2100',\n",
    "    'mouse_ES_cell',\n",
    "    'Adam',\n",
    "    'Quake_10x_Bladder',\n",
    "    'Quake_Smart-seq2_Lung',\n",
    "#     'worm_neuron_cell_select_2100',\n",
    "    'Quake_10x_Limb_Muscle',\n",
    "    'worm_neuron_cell',\n",
    "    'mouse_bladder_cell',\n",
    "#     'mouse_ES_cell_select_2100',\n",
    "    'Romanov',\n",
    "    'Quake_Smart-seq2_Limb_Muscle',\n",
    "    'Muraro',\n",
    "#     'mouse_bladder_cell_select_2100',\n",
    "    '10X_PBMC',\n",
    "    'Quake_10x_Spleen',\n",
    "]"
   ]
  },
  {
   "cell_type": "code",
   "execution_count": 23,
   "metadata": {},
   "outputs": [
    {
     "data": {
      "text/plain": [
       "ARI       0.745684\n",
       "NMI       0.777119\n",
       "sil       0.070277\n",
       "run       1.000000\n",
       "time    195.854597\n",
       "dtype: float64"
      ]
     },
     "execution_count": 23,
     "metadata": {},
     "output_type": "execute_result"
    }
   ],
   "source": [
    "sczi = pd.read_pickle(f\"../output/pickle_results/real_data/real_data_sczi.pkl\")\n",
    "sczi = sczi[sczi[\"dataset\"].isin(files)]\n",
    "sczi.mean()"
   ]
  },
  {
   "cell_type": "code",
   "execution_count": 25,
   "metadata": {},
   "outputs": [
    {
     "data": {
      "text/html": [
       "<div>\n",
       "<style scoped>\n",
       "    .dataframe tbody tr th:only-of-type {\n",
       "        vertical-align: middle;\n",
       "    }\n",
       "\n",
       "    .dataframe tbody tr th {\n",
       "        vertical-align: top;\n",
       "    }\n",
       "\n",
       "    .dataframe thead tr th {\n",
       "        text-align: left;\n",
       "    }\n",
       "\n",
       "    .dataframe thead tr:last-of-type th {\n",
       "        text-align: right;\n",
       "    }\n",
       "</style>\n",
       "<table border=\"1\" class=\"dataframe\">\n",
       "  <thead>\n",
       "    <tr>\n",
       "      <th></th>\n",
       "      <th>temperature</th>\n",
       "      <th>0.07</th>\n",
       "    </tr>\n",
       "    <tr>\n",
       "      <th></th>\n",
       "      <th>dropout</th>\n",
       "      <th>0.9</th>\n",
       "    </tr>\n",
       "    <tr>\n",
       "      <th>layers</th>\n",
       "      <th>noise</th>\n",
       "      <th></th>\n",
       "    </tr>\n",
       "  </thead>\n",
       "  <tbody>\n",
       "    <tr>\n",
       "      <th rowspan=\"5\" valign=\"top\">[200, 60, 40]</th>\n",
       "      <th>0.0</th>\n",
       "      <td>0.692095</td>\n",
       "    </tr>\n",
       "    <tr>\n",
       "      <th>0.5</th>\n",
       "      <td>0.490584</td>\n",
       "    </tr>\n",
       "    <tr>\n",
       "      <th>1.0</th>\n",
       "      <td>0.704022</td>\n",
       "    </tr>\n",
       "    <tr>\n",
       "      <th>10.0</th>\n",
       "      <td>0.693709</td>\n",
       "    </tr>\n",
       "    <tr>\n",
       "      <th>100.0</th>\n",
       "      <td>0.688343</td>\n",
       "    </tr>\n",
       "  </tbody>\n",
       "</table>\n",
       "</div>"
      ],
      "text/plain": [
       "temperature              0.07\n",
       "dropout                   0.9\n",
       "layers        noise          \n",
       "[200, 60, 40] 0.0    0.692095\n",
       "              0.5    0.490584\n",
       "              1.0    0.704022\n",
       "              10.0   0.693709\n",
       "              100.0  0.688343"
      ]
     },
     "execution_count": 25,
     "metadata": {},
     "output_type": "execute_result"
    }
   ],
   "source": [
    "df = pd.read_pickle(f\"../output/pickle_results/real_data/real_data_noise.pkl\")\n",
    "df = df.fillna(0)\n",
    "df = df[df[\"dataset\"].isin(files)]\n",
    "df.groupby([\"temperature\", \"layers\", \"dropout\", \"noise\"])[\"kmeans_ari_0\"].mean().unstack([\"layers\", \"noise\"]).T"
   ]
  },
  {
   "cell_type": "code",
   "execution_count": 18,
   "metadata": {},
   "outputs": [
    {
     "ename": "KeyError",
     "evalue": "'lr'",
     "output_type": "error",
     "traceback": [
      "\u001b[0;31m---------------------------------------------------------------------------\u001b[0m",
      "\u001b[0;31mKeyError\u001b[0m                                  Traceback (most recent call last)",
      "\u001b[0;32m<ipython-input-18-56471f6dc524>\u001b[0m in \u001b[0;36m<module>\u001b[0;34m\u001b[0m\n\u001b[1;32m      1\u001b[0m \u001b[0;31m# df = pd.read_pickle(f\"../output/pickle_results/real_data/real_data_1model.pkl\")\u001b[0m\u001b[0;34m\u001b[0m\u001b[0;34m\u001b[0m\u001b[0;34m\u001b[0m\u001b[0m\n\u001b[0;32m----> 2\u001b[0;31m \u001b[0mdf\u001b[0m\u001b[0;34m.\u001b[0m\u001b[0mgroupby\u001b[0m\u001b[0;34m(\u001b[0m\u001b[0;34m[\u001b[0m\u001b[0;34m\"temperature\"\u001b[0m\u001b[0;34m,\u001b[0m \u001b[0;34m\"layers\"\u001b[0m\u001b[0;34m,\u001b[0m \u001b[0;34m\"dropout\"\u001b[0m\u001b[0;34m,\u001b[0m \u001b[0;34m\"lr\"\u001b[0m\u001b[0;34m]\u001b[0m\u001b[0;34m)\u001b[0m\u001b[0;34m[\u001b[0m\u001b[0;34m\"kmeans_ari_0\"\u001b[0m\u001b[0;34m]\u001b[0m\u001b[0;34m.\u001b[0m\u001b[0mmean\u001b[0m\u001b[0;34m(\u001b[0m\u001b[0;34m)\u001b[0m\u001b[0;34m.\u001b[0m\u001b[0munstack\u001b[0m\u001b[0;34m(\u001b[0m\u001b[0;34m[\u001b[0m\u001b[0;34m\"layers\"\u001b[0m\u001b[0;34m,\u001b[0m \u001b[0;34m\"noise\"\u001b[0m\u001b[0;34m]\u001b[0m\u001b[0;34m)\u001b[0m\u001b[0;34m.\u001b[0m\u001b[0mmax\u001b[0m\u001b[0;34m(\u001b[0m\u001b[0;34m)\u001b[0m\u001b[0;34m\u001b[0m\u001b[0;34m\u001b[0m\u001b[0m\n\u001b[0m",
      "\u001b[0;32m/opt/conda/lib/python3.7/site-packages/pandas/core/frame.py\u001b[0m in \u001b[0;36mgroupby\u001b[0;34m(self, by, axis, level, as_index, sort, group_keys, squeeze, observed)\u001b[0m\n\u001b[1;32m   5808\u001b[0m             \u001b[0mgroup_keys\u001b[0m\u001b[0;34m=\u001b[0m\u001b[0mgroup_keys\u001b[0m\u001b[0;34m,\u001b[0m\u001b[0;34m\u001b[0m\u001b[0;34m\u001b[0m\u001b[0m\n\u001b[1;32m   5809\u001b[0m             \u001b[0msqueeze\u001b[0m\u001b[0;34m=\u001b[0m\u001b[0msqueeze\u001b[0m\u001b[0;34m,\u001b[0m\u001b[0;34m\u001b[0m\u001b[0;34m\u001b[0m\u001b[0m\n\u001b[0;32m-> 5810\u001b[0;31m             \u001b[0mobserved\u001b[0m\u001b[0;34m=\u001b[0m\u001b[0mobserved\u001b[0m\u001b[0;34m,\u001b[0m\u001b[0;34m\u001b[0m\u001b[0;34m\u001b[0m\u001b[0m\n\u001b[0m\u001b[1;32m   5811\u001b[0m         )\n\u001b[1;32m   5812\u001b[0m \u001b[0;34m\u001b[0m\u001b[0m\n",
      "\u001b[0;32m/opt/conda/lib/python3.7/site-packages/pandas/core/groupby/groupby.py\u001b[0m in \u001b[0;36m__init__\u001b[0;34m(self, obj, keys, axis, level, grouper, exclusions, selection, as_index, sort, group_keys, squeeze, observed, mutated)\u001b[0m\n\u001b[1;32m    408\u001b[0m                 \u001b[0msort\u001b[0m\u001b[0;34m=\u001b[0m\u001b[0msort\u001b[0m\u001b[0;34m,\u001b[0m\u001b[0;34m\u001b[0m\u001b[0;34m\u001b[0m\u001b[0m\n\u001b[1;32m    409\u001b[0m                 \u001b[0mobserved\u001b[0m\u001b[0;34m=\u001b[0m\u001b[0mobserved\u001b[0m\u001b[0;34m,\u001b[0m\u001b[0;34m\u001b[0m\u001b[0;34m\u001b[0m\u001b[0m\n\u001b[0;32m--> 410\u001b[0;31m                 \u001b[0mmutated\u001b[0m\u001b[0;34m=\u001b[0m\u001b[0mself\u001b[0m\u001b[0;34m.\u001b[0m\u001b[0mmutated\u001b[0m\u001b[0;34m,\u001b[0m\u001b[0;34m\u001b[0m\u001b[0;34m\u001b[0m\u001b[0m\n\u001b[0m\u001b[1;32m    411\u001b[0m             )\n\u001b[1;32m    412\u001b[0m \u001b[0;34m\u001b[0m\u001b[0m\n",
      "\u001b[0;32m/opt/conda/lib/python3.7/site-packages/pandas/core/groupby/grouper.py\u001b[0m in \u001b[0;36mget_grouper\u001b[0;34m(obj, key, axis, level, sort, observed, mutated, validate)\u001b[0m\n\u001b[1;32m    598\u001b[0m                 \u001b[0min_axis\u001b[0m\u001b[0;34m,\u001b[0m \u001b[0mname\u001b[0m\u001b[0;34m,\u001b[0m \u001b[0mlevel\u001b[0m\u001b[0;34m,\u001b[0m \u001b[0mgpr\u001b[0m \u001b[0;34m=\u001b[0m \u001b[0;32mFalse\u001b[0m\u001b[0;34m,\u001b[0m \u001b[0;32mNone\u001b[0m\u001b[0;34m,\u001b[0m \u001b[0mgpr\u001b[0m\u001b[0;34m,\u001b[0m \u001b[0;32mNone\u001b[0m\u001b[0;34m\u001b[0m\u001b[0;34m\u001b[0m\u001b[0m\n\u001b[1;32m    599\u001b[0m             \u001b[0;32melse\u001b[0m\u001b[0;34m:\u001b[0m\u001b[0;34m\u001b[0m\u001b[0;34m\u001b[0m\u001b[0m\n\u001b[0;32m--> 600\u001b[0;31m                 \u001b[0;32mraise\u001b[0m \u001b[0mKeyError\u001b[0m\u001b[0;34m(\u001b[0m\u001b[0mgpr\u001b[0m\u001b[0;34m)\u001b[0m\u001b[0;34m\u001b[0m\u001b[0;34m\u001b[0m\u001b[0m\n\u001b[0m\u001b[1;32m    601\u001b[0m         \u001b[0;32melif\u001b[0m \u001b[0misinstance\u001b[0m\u001b[0;34m(\u001b[0m\u001b[0mgpr\u001b[0m\u001b[0;34m,\u001b[0m \u001b[0mGrouper\u001b[0m\u001b[0;34m)\u001b[0m \u001b[0;32mand\u001b[0m \u001b[0mgpr\u001b[0m\u001b[0;34m.\u001b[0m\u001b[0mkey\u001b[0m \u001b[0;32mis\u001b[0m \u001b[0;32mnot\u001b[0m \u001b[0;32mNone\u001b[0m\u001b[0;34m:\u001b[0m\u001b[0;34m\u001b[0m\u001b[0;34m\u001b[0m\u001b[0m\n\u001b[1;32m    602\u001b[0m             \u001b[0;31m# Add key to exclusions\u001b[0m\u001b[0;34m\u001b[0m\u001b[0;34m\u001b[0m\u001b[0;34m\u001b[0m\u001b[0m\n",
      "\u001b[0;31mKeyError\u001b[0m: 'lr'"
     ]
    }
   ],
   "source": [
    "# df = pd.read_pickle(f\"../output/pickle_results/real_data/real_data_1model.pkl\")\n",
    "df.groupby([\"temperature\", \"layers\", \"dropout\", \"lr\"])[\"kmeans_ari_0\"].mean().unstack([\"layers\", \"noise\"]).max()"
   ]
  },
  {
   "cell_type": "code",
   "execution_count": null,
   "metadata": {},
   "outputs": [],
   "source": [
    "# r = df[(df[\"layers\"]==\"[40]\")\n",
    "#        &(df[\"temperature\"]==0.01)\n",
    "#        &(df[\"lr\"]==1e-5)\n",
    "#        &(df[\"dropout\"]==0.9)\n",
    "#       ]\n",
    "r = df[(df[\"layers\"]==\"[200, 100, 30, 30]\")\n",
    "       &(df[\"temperature\"]==0.07)\n",
    "       &(df[\"lr\"]==1e-5)\n",
    "       &(df[\"dropout\"]==0.9)\n",
    "      ]\n",
    "\n",
    "\n",
    "r.mean()"
   ]
  },
  {
   "cell_type": "code",
   "execution_count": null,
   "metadata": {},
   "outputs": [],
   "source": [
    "comb = pd.merge(r, sczi, on=[\"dataset\", \"run\"])[[\n",
    "    \"dataset\", \"kmeans_ari_0\", \"ARI\", \"kmeans_nmi_0\", \"NMI\"\n",
    "]].rename(columns = {\"kmeans_ari_0\": \"contrative-sc\", \"ARI\": \"sczi\"})\n",
    "comb"
   ]
  },
  {
   "cell_type": "code",
   "execution_count": null,
   "metadata": {},
   "outputs": [],
   "source": [
    "comb =pd.melt(comb, id_vars=[\"dataset\"], value_vars=[\"contrative-sc\", \"sczi\"])"
   ]
  },
  {
   "cell_type": "code",
   "execution_count": null,
   "metadata": {},
   "outputs": [],
   "source": [
    "comb.head()"
   ]
  },
  {
   "cell_type": "code",
   "execution_count": null,
   "metadata": {},
   "outputs": [],
   "source": []
  },
  {
   "cell_type": "code",
   "execution_count": null,
   "metadata": {},
   "outputs": [],
   "source": [
    "import seaborn as sns"
   ]
  },
  {
   "cell_type": "code",
   "execution_count": null,
   "metadata": {},
   "outputs": [],
   "source": [
    "sns.boxplot( data = comb, y=\"value\", x = \"variable\")\n",
    "plt.xticks(rotation = 90)"
   ]
  },
  {
   "cell_type": "code",
   "execution_count": null,
   "metadata": {
    "scrolled": true
   },
   "outputs": [],
   "source": [
    "sns.barplot(x = \"dataset\", data = comb, y=\"value\", hue = \"variable\")\n",
    "plt.xticks(rotation = 90)"
   ]
  },
  {
   "cell_type": "code",
   "execution_count": null,
   "metadata": {},
   "outputs": [],
   "source": []
  },
  {
   "cell_type": "code",
   "execution_count": null,
   "metadata": {},
   "outputs": [],
   "source": []
  },
  {
   "cell_type": "code",
   "execution_count": null,
   "metadata": {},
   "outputs": [],
   "source": [
    "df.groupby(\"dataset\").mean()"
   ]
  },
  {
   "cell_type": "markdown",
   "metadata": {},
   "source": [
    "# Importance of input size"
   ]
  },
  {
   "cell_type": "code",
   "execution_count": null,
   "metadata": {},
   "outputs": [],
   "source": [
    "df = pd.DataFrame(\n",
    "    columns=[\"dataset\", \"perc0\", \"nb_genes\", \"exp\", \"ari\", \"run\"])\n",
    "print(df.shape)\n",
    "for dataset in files:\n",
    "\n",
    "    print(f\">>>>> Data {dataset}\")\n",
    "\n",
    "    data_mat = h5py.File(f\"{path}real_data/{dataset}.h5\", \"r\")\n",
    "    for run in range(2):\n",
    "        torch.manual_seed(run)\n",
    "        torch.cuda.manual_seed_all(run)\n",
    "        np.random.seed(run)\n",
    "        random.seed(run)\n",
    "        torch.backends.cudnn.deterministic = True\n",
    "        torch.backends.cudnn.benchmark = False\n",
    "        for nb_genes in [100, 200, 500, 1000, 1500, 2000, 5000, 8000]:\n",
    "\n",
    "            X = np.array(data_mat['X'])\n",
    "            Y = np.array(data_mat['Y'])\n",
    "            perc_0 = np.where(X == 0)[0].shape[0] / (X.shape[0] * X.shape[1])\n",
    "            print(f\"Perc 0 {perc_0}\")\n",
    "            cluster_number = np.unique(Y).shape[0]\n",
    "\n",
    "            X = train.preprocess(X, nb_genes=nb_genes)\n",
    "            nb_zeros = int(0.8 * nb_genes)\n",
    "            dresults = train.train(\n",
    "                X,\n",
    "                cluster_number,\n",
    "                dataset,\n",
    "                Y,\n",
    "                n_ensemble=1,\n",
    "                epochs=100,\n",
    "                nb_zeros=nb_zeros,\n",
    "                save_to=f\"{path}output/real_data/inputs/{dataset}_{nb_genes}/\")\n",
    "\n",
    "            #         df.loc[df.shape[0]] = [\n",
    "            #                 dataset, perc_0, nb_genes, 'kmeans_representation_0',dresults['kmeans_representation_0']\n",
    "            #             ]\n",
    "            df.loc[df.shape[0]] = [\n",
    "                dataset, perc_0, nb_genes, 'leiden_representation_0',\n",
    "                dresults['leiden_representation_0'], run]\n",
    "\n",
    "#             pxt = PCA(2).fit_transform(X)\n",
    "#             dresults[\"original\"] = utils.evaluate(X, Y, cluster_number)[1]\n",
    "#             dresults[\"pca\"] = utils.evaluate(pxt, Y, cluster_number)[1]\n",
    "            print(dresults)\n",
    "    df.to_pickle(f\"{path}output/pickle_results/real_data_input_size.pkl\")"
   ]
  },
  {
   "cell_type": "code",
   "execution_count": null,
   "metadata": {},
   "outputs": [],
   "source": [
    "df = pd.read_pickle(f\"{path}output/pickle_results/real_data_input_size.pkl\")"
   ]
  },
  {
   "cell_type": "code",
   "execution_count": null,
   "metadata": {},
   "outputs": [],
   "source": [
    "df.groupby([\"nb_genes\"]).mean()"
   ]
  },
  {
   "cell_type": "code",
   "execution_count": null,
   "metadata": {},
   "outputs": [],
   "source": [
    "dataset_names = {\n",
    "    '10X_PBMC': '10X PBMC',\n",
    "    '10X_PBMC_select_2100': '10X PBMC (2100)',\n",
    "    'mouse_ES_cell': 'Mouse ES\\nCell',\n",
    "    'mouse_ES_cell_select_2100': 'Mouse ES\\nCell (2100)',\n",
    "    'worm_neuron_cell_select_2100': 'Worm Neuron\\nCell (2100)',\n",
    "    'worm_neuron_cell': 'Worm Neuron\\nCell',\n",
    "    'mouse_bladder_cell': 'Mouse Bladder\\nCell',\n",
    "    'mouse_bladder_cell_select_2100': 'Mouse Bladder\\n Cell (2100)'\n",
    "}\n",
    "\n",
    "df[\"dataset\"] = df[\"dataset\"].apply(lambda x: dataset_names[x])\n",
    "\n",
    "df = df.rename(columns = {\"nb_genes\": \"Nb input genes\"})"
   ]
  },
  {
   "cell_type": "code",
   "execution_count": null,
   "metadata": {},
   "outputs": [],
   "source": [
    "df[\"dataset\"].unique()\n"
   ]
  },
  {
   "cell_type": "code",
   "execution_count": null,
   "metadata": {},
   "outputs": [],
   "source": [
    "import seaborn as sns\n",
    "datasets = ['10X PBMC',  'Mouse ES\\nCell','Worm Neuron\\nCell', 'Mouse Bladder\\nCell']\n",
    "plt.figure(figsize=(10, 3.3))\n",
    "ax = plt.subplot(111)\n",
    "sns.barplot(\n",
    "    hue=\"Nb input genes\",\n",
    "    y=\"ari\",\n",
    "    x=\"dataset\",\n",
    "    data=df[df[\"dataset\"].isin(datasets)],\n",
    "    ax=ax,\n",
    "    edgecolor='black',\n",
    "    linewidth=1.5,\n",
    ")\n",
    "plt.ylabel(\"ARI\")\n",
    "plt.xlabel(\"\")\n",
    "plt.legend(title= \"Nb input genes\",bbox_to_anchor=(1, 1))\n",
    "sns.despine()\n",
    "plt.tight_layout()\n",
    "\n",
    "plt.savefig(f\"{path}diagrams/real_input_size.pdf\", bbox_inches='tight')"
   ]
  },
  {
   "cell_type": "code",
   "execution_count": null,
   "metadata": {},
   "outputs": [],
   "source": [
    "datasets = ['10X PBMC (2100)',\n",
    "       'Mouse ES\\nCell (2100)', 'Worm Neuron\\nCell (2100)',\n",
    "       'Mouse Bladder\\n Cell (2100)']\n",
    "plt.figure(figsize=(10, 3.3))\n",
    "ax = plt.subplot(111)\n",
    "sns.barplot(\n",
    "    hue=\"Nb input genes\",\n",
    "    y=\"ari\",\n",
    "    x=\"dataset\",\n",
    "    data=df[df[\"dataset\"].isin(datasets)],\n",
    "    ax=ax,\n",
    "    edgecolor='black',\n",
    "    linewidth=1.5,\n",
    ")\n",
    "plt.ylabel(\"ARI\")\n",
    "plt.xlabel(\"\")\n",
    "plt.legend(title= \"Nb input genes\",bbox_to_anchor=(1, 1))\n",
    "sns.despine()\n",
    "plt.tight_layout()\n",
    "\n",
    "plt.savefig(f\"{path}diagrams/real_input_size_2100.pdf\", bbox_inches='tight')"
   ]
  },
  {
   "cell_type": "code",
   "execution_count": null,
   "metadata": {},
   "outputs": [],
   "source": []
  },
  {
   "cell_type": "markdown",
   "metadata": {},
   "source": [
    "# Importance of the number of epochs"
   ]
  },
  {
   "cell_type": "code",
   "execution_count": null,
   "metadata": {},
   "outputs": [],
   "source": [
    "df = pd.DataFrame(\n",
    "    columns=[\"dataset\", \"perc0\", \"nb_epochs\", \"exp\", \"ari\", \"run\"])\n",
    "print(df.shape)\n",
    "for dataset in files:\n",
    "\n",
    "    print(f\">>>>> Data {dataset}\")\n",
    "\n",
    "    data_mat = h5py.File(f\"{path}real_data/{dataset}.h5\", \"r\")\n",
    "    nb_genes = 1500\n",
    "    for epochs in [5, 50, 100, 300]:\n",
    "\n",
    "        X = np.array(data_mat['X'])\n",
    "        Y = np.array(data_mat['Y'])\n",
    "        perc_0 = np.where(X == 0)[0].shape[0] / (X.shape[0] * X.shape[1])\n",
    "        print(f\"Perc 0 {perc_0}\")\n",
    "        cluster_number = np.unique(Y).shape[0]\n",
    "\n",
    "        X = train.preprocess(X, nb_genes=nb_genes)\n",
    "        nb_zeros = int(0.8 * nb_genes)\n",
    "        for run in range(2):\n",
    "            torch.manual_seed(run)\n",
    "            torch.cuda.manual_seed_all(run)\n",
    "            np.random.seed(run)\n",
    "            random.seed(run)\n",
    "            torch.backends.cudnn.deterministic = True\n",
    "            torch.backends.cudnn.benchmark = False\n",
    "\n",
    "            dresults = train.train(\n",
    "                X,\n",
    "                cluster_number,\n",
    "                dataset,\n",
    "                Y,\n",
    "                n_ensemble=1,\n",
    "                epochs=epochs,\n",
    "                nb_zeros=nb_zeros,\n",
    "                save_to=f\"{path}output/real_data/epochs/{dataset}_{epochs}/\")\n",
    "\n",
    "            df.loc[df.shape[0]] = [\n",
    "                dataset, perc_0, epochs, 'kmeans_representation_0',\n",
    "                dresults['kmeans_representation_0'], run\n",
    "            ]\n",
    "            df.loc[df.shape[0]] = [\n",
    "                dataset, perc_0, epochs, 'leiden_representation_0',\n",
    "                dresults['leiden_representation_0'], run\n",
    "            ]\n",
    "\n",
    "            print(dresults)\n",
    "            df.to_pickle(f\"{path}output/pickle_results/real_data_epochs.pkl\")"
   ]
  },
  {
   "cell_type": "code",
   "execution_count": null,
   "metadata": {},
   "outputs": [],
   "source": [
    "df = pd.read_pickle(f\"{path}output/pickle_results/real_data_epochs.pkl\")"
   ]
  },
  {
   "cell_type": "code",
   "execution_count": null,
   "metadata": {},
   "outputs": [],
   "source": [
    "dataset_names = {\n",
    "    '10X_PBMC': '10X PBMC',\n",
    "    '10X_PBMC_select_2100': '10X PBMC (2100)',\n",
    "    'mouse_ES_cell': 'Mouse ES\\nCell',\n",
    "    'mouse_ES_cell_select_2100': 'Mouse ES\\nCell (2100)',\n",
    "    'worm_neuron_cell_select_2100': 'Worm Neuron\\nCell (2100)',\n",
    "    'worm_neuron_cell': 'Worm Neuron\\nCell',\n",
    "    'mouse_bladder_cell': 'Mouse Bladder\\nCell',\n",
    "    'mouse_bladder_cell_select_2100': 'Mouse Bladder\\n Cell (2100)'\n",
    "}\n",
    "\n",
    "df[\"dataset\"] = df[\"dataset\"].apply(lambda x: dataset_names[x])\n",
    "\n",
    "df = df.rename(columns = {\"nb_epochs\": \"Nb epochs\"})"
   ]
  },
  {
   "cell_type": "code",
   "execution_count": null,
   "metadata": {},
   "outputs": [],
   "source": [
    "import seaborn as sns\n",
    "datasets = ['10X PBMC',  'Mouse ES\\nCell','Worm Neuron\\nCell', 'Mouse Bladder\\nCell']\n",
    "plt.figure(figsize=(7, 3))\n",
    "ax = plt.subplot(111)\n",
    "sns.barplot(\n",
    "    hue=\"Nb epochs\",\n",
    "    y=\"ari\",\n",
    "    x=\"dataset\",\n",
    "    data=df[df[\"dataset\"].isin(datasets)],\n",
    "    ax=ax,\n",
    "    edgecolor='black',\n",
    "    linewidth=1.5,\n",
    ")\n",
    "plt.ylabel(\"ARI\")\n",
    "plt.xlabel(\"\")\n",
    "plt.legend(title =\"Number of epochs\",bbox_to_anchor=(1, 1))\n",
    "sns.despine()\n",
    "plt.tight_layout()\n",
    "\n",
    "plt.savefig(f\"{path}diagrams/real_nb_epochs.pdf\", bbox_inches='tight')"
   ]
  },
  {
   "cell_type": "code",
   "execution_count": null,
   "metadata": {},
   "outputs": [],
   "source": []
  },
  {
   "cell_type": "code",
   "execution_count": null,
   "metadata": {},
   "outputs": [],
   "source": []
  }
 ],
 "metadata": {
  "kernelspec": {
   "display_name": "Python 3",
   "language": "python",
   "name": "python3"
  },
  "language_info": {
   "codemirror_mode": {
    "name": "ipython",
    "version": 3
   },
   "file_extension": ".py",
   "mimetype": "text/x-python",
   "name": "python",
   "nbconvert_exporter": "python",
   "pygments_lexer": "ipython3",
   "version": "3.7.4"
  }
 },
 "nbformat": 4,
 "nbformat_minor": 4
}
