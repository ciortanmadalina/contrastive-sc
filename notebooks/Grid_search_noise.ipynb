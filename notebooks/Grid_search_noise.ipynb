{
 "cells": [
  {
   "cell_type": "markdown",
   "metadata": {},
   "source": [
    "Original implementation of Contrastive-sc method\n",
    "(https://github.com/ciortanmadalina/contrastive-sc)"
   ]
  },
  {
   "cell_type": "code",
   "execution_count": 1,
   "metadata": {},
   "outputs": [
    {
     "name": "stderr",
     "output_type": "stream",
     "text": [
      "/opt/conda/lib/python3.7/site-packages/scanpy/api/__init__.py:7: FutureWarning: \n",
      "\n",
      "In a future version of Scanpy, `scanpy.api` will be removed.\n",
      "Simply use `import scanpy as sc` and `import scanpy.external as sce` instead.\n",
      "\n",
      "  FutureWarning,\n"
     ]
    }
   ],
   "source": [
    "import sys\n",
    "sys.path.append(\"..\")\n",
    "import argparse\n",
    "from sklearn.metrics import adjusted_rand_score, normalized_mutual_info_score\n",
    "from sklearn.cluster import KMeans\n",
    "from sklearn import metrics\n",
    "\n",
    "import torch\n",
    "import torch.nn as nn\n",
    "import copy\n",
    "from tqdm.notebook import tqdm\n",
    "import models\n",
    "import numpy as np\n",
    "import pandas as pd\n",
    "from sklearn.decomposition import PCA\n",
    "import matplotlib.pyplot as plt\n",
    "import st_loss\n",
    "\n",
    "import h5py\n",
    "import scipy as sp\n",
    "import scanpy.api as sc\n",
    "from collections import Counter\n",
    "import random\n",
    "import utils\n",
    "\n",
    "import pickle\n",
    "\n",
    "import train\n",
    "import os\n",
    "import glob2\n",
    "plt.ion()\n",
    "plt.show()\n",
    "%load_ext autoreload\n",
    "%autoreload 2\n",
    "\n",
    "import warnings\n",
    "warnings.filterwarnings(\"ignore\", category=FutureWarning)"
   ]
  },
  {
   "cell_type": "code",
   "execution_count": 2,
   "metadata": {},
   "outputs": [
    {
     "data": {
      "text/plain": [
       "['Quake_Smart-seq2_Trachea',\n",
       " 'Quake_Smart-seq2_Diaphragm',\n",
       " 'Quake_10x_Spleen',\n",
       " 'Young',\n",
       " 'mouse_ES_cell',\n",
       " 'Adam',\n",
       " 'Quake_10x_Bladder',\n",
       " 'Quake_Smart-seq2_Lung',\n",
       " 'Quake_10x_Limb_Muscle',\n",
       " 'worm_neuron_cell',\n",
       " 'mouse_bladder_cell',\n",
       " 'Romanov',\n",
       " 'Quake_Smart-seq2_Limb_Muscle',\n",
       " 'Muraro',\n",
       " '10X_PBMC']"
      ]
     },
     "execution_count": 2,
     "metadata": {},
     "output_type": "execute_result"
    }
   ],
   "source": [
    "path = \"../\"\n",
    "files = glob2.glob(f'{path}real_data/*.h5')\n",
    "files = [f[len(f\"'{path}real_data\"):-3] for f in files]\n",
    "files"
   ]
  },
  {
   "cell_type": "code",
   "execution_count": 3,
   "metadata": {},
   "outputs": [
    {
     "data": {
      "text/html": [
       "<div>\n",
       "<style scoped>\n",
       "    .dataframe tbody tr th:only-of-type {\n",
       "        vertical-align: middle;\n",
       "    }\n",
       "\n",
       "    .dataframe tbody tr th {\n",
       "        vertical-align: top;\n",
       "    }\n",
       "\n",
       "    .dataframe thead th {\n",
       "        text-align: right;\n",
       "    }\n",
       "</style>\n",
       "<table border=\"1\" class=\"dataframe\">\n",
       "  <thead>\n",
       "    <tr style=\"text-align: right;\">\n",
       "      <th></th>\n",
       "      <th>dataset</th>\n",
       "      <th>nb_genes</th>\n",
       "    </tr>\n",
       "  </thead>\n",
       "  <tbody>\n",
       "    <tr>\n",
       "      <th>0</th>\n",
       "      <td>Quake_Smart-seq2_Trachea</td>\n",
       "      <td>500</td>\n",
       "    </tr>\n",
       "    <tr>\n",
       "      <th>1</th>\n",
       "      <td>Quake_Smart-seq2_Diaphragm</td>\n",
       "      <td>1000</td>\n",
       "    </tr>\n",
       "    <tr>\n",
       "      <th>2</th>\n",
       "      <td>Quake_10x_Spleen</td>\n",
       "      <td>500</td>\n",
       "    </tr>\n",
       "    <tr>\n",
       "      <th>3</th>\n",
       "      <td>Young</td>\n",
       "      <td>1000</td>\n",
       "    </tr>\n",
       "    <tr>\n",
       "      <th>4</th>\n",
       "      <td>mouse_ES_cell</td>\n",
       "      <td>1000</td>\n",
       "    </tr>\n",
       "  </tbody>\n",
       "</table>\n",
       "</div>"
      ],
      "text/plain": [
       "                      dataset nb_genes\n",
       "0    Quake_Smart-seq2_Trachea      500\n",
       "1  Quake_Smart-seq2_Diaphragm     1000\n",
       "2            Quake_10x_Spleen      500\n",
       "3                       Young     1000\n",
       "4               mouse_ES_cell     1000"
      ]
     },
     "execution_count": 3,
     "metadata": {},
     "output_type": "execute_result"
    }
   ],
   "source": [
    "optimal = pd.read_pickle(f\"{path}output/pickle_results/real_data/optimal_input_size.pkl\")\n",
    "optimal.head()"
   ]
  },
  {
   "cell_type": "code",
   "execution_count": 4,
   "metadata": {},
   "outputs": [],
   "source": [
    "sczi = pd.read_pickle(f\"../output/pickle_results/real_data/real_data_sczi.pkl\")"
   ]
  },
  {
   "cell_type": "code",
   "execution_count": 5,
   "metadata": {
    "scrolled": true
   },
   "outputs": [
    {
     "name": "stdout",
     "output_type": "stream",
     "text": [
      ">>>>> Data Quake_Smart-seq2_Trachea\n",
      "SCZI  0.8258284521205065\n",
      "(1350, 23341) (1350, 23341) keeping 500 genes\n"
     ]
    },
    {
     "data": {
      "application/vnd.jupyter.widget-view+json": {
       "model_id": "e0c02d86f26541c192bcc750168378db",
       "version_major": 2,
       "version_minor": 0
      },
      "text/plain": [
       "HBox(children=(IntProgress(value=0, max=1), HTML(value='')))"
      ]
     },
     "metadata": {},
     "output_type": "display_data"
    },
    {
     "name": "stdout",
     "output_type": "stream",
     "text": [
      ".# 0.07, 0.9, 0.4, [200, 40, 60]    \n",
      ".# 0.07, 0.9, 0.4, [200, 40, 60]    \n",
      ".# 0.07, 0.9, 0.4, [200, 40, 60]    \n",
      ".# 0.07, 0.9, 0.4, [200, 40, 60]    \n",
      ".# 0.07, 0.9, 0.4, [200, 40, 60]    \n",
      ".# 0.07, 0.9, 0.4, [200, 40, 60]    \n",
      ".# 0.07, 0.9, 0.4, [200, 40, 60]    \n",
      ".# 0.07, 0.9, 0.4, [200, 40, 60]    \n",
      ".# 0.07, 0.9, 0.4, [200, 40, 60]    \n",
      ".# 0.07, 0.9, 0.4, [200, 40, 60]    \n",
      ".# 0.07, 0.9, 0.4, [200, 40, 60]    \n",
      ".# 0.07, 0.9, 0.4, [200, 40, 60]    \n",
      "\n",
      ">>>>> Data Quake_Smart-seq2_Diaphragm\n",
      "SCZI  0.9596701189611787\n",
      "(870, 23341) (870, 23341) keeping 1000 genes\n"
     ]
    },
    {
     "data": {
      "application/vnd.jupyter.widget-view+json": {
       "model_id": "8ccd14223ed640e399eb5f6321776918",
       "version_major": 2,
       "version_minor": 0
      },
      "text/plain": [
       "HBox(children=(IntProgress(value=0, max=1), HTML(value='')))"
      ]
     },
     "metadata": {},
     "output_type": "display_data"
    },
    {
     "name": "stdout",
     "output_type": "stream",
     "text": [
      ".# 0.07, 0.9, 0.4, [200, 40, 60]    \n",
      ".# 0.07, 0.9, 0.4, [200, 40, 60]    \n",
      ".# 0.07, 0.9, 0.4, [200, 40, 60]    \n",
      ".# 0.07, 0.9, 0.4, [200, 40, 60]    \n",
      ".# 0.07, 0.9, 0.4, [200, 40, 60]    \n",
      ".# 0.07, 0.9, 0.4, [200, 40, 60]    \n",
      ".# 0.07, 0.9, 0.4, [200, 40, 60]    \n",
      ".# 0.07, 0.9, 0.4, [200, 40, 60]    \n",
      ".# 0.07, 0.9, 0.4, [200, 40, 60]    \n",
      ".# 0.07, 0.9, 0.4, [200, 40, 60]    \n",
      ".# 0.07, 0.9, 0.4, [200, 40, 60]    \n",
      ".# 0.07, 0.9, 0.4, [200, 40, 60]    \n",
      "\n",
      ">>>>> Data Quake_10x_Spleen\n",
      "SCZI  0.9207243162607069\n",
      "(9552, 23341) (9552, 23341) keeping 500 genes\n"
     ]
    },
    {
     "data": {
      "application/vnd.jupyter.widget-view+json": {
       "model_id": "2144c9f5889247179bc42dba8a42522f",
       "version_major": 2,
       "version_minor": 0
      },
      "text/plain": [
       "HBox(children=(IntProgress(value=0, max=1), HTML(value='')))"
      ]
     },
     "metadata": {},
     "output_type": "display_data"
    },
    {
     "name": "stdout",
     "output_type": "stream",
     "text": [
      ".# 0.07, 0.9, 0.4, [200, 40, 60]    \n",
      ".# 0.07, 0.9, 0.4, [200, 40, 60]    \n",
      ".# 0.07, 0.9, 0.4, [200, 40, 60]    \n",
      ".# 0.07, 0.9, 0.4, [200, 40, 60]    \n",
      ".# 0.07, 0.9, 0.4, [200, 40, 60]    \n",
      ".# 0.07, 0.9, 0.4, [200, 40, 60]    \n",
      ".# 0.07, 0.9, 0.4, [200, 40, 60]    \n",
      ".# 0.07, 0.9, 0.4, [200, 40, 60]    \n",
      ".# 0.07, 0.9, 0.4, [200, 40, 60]    \n",
      ".# 0.07, 0.9, 0.4, [200, 40, 60]    \n",
      ".# 0.07, 0.9, 0.4, [200, 40, 60]    \n",
      ".# 0.07, 0.9, 0.4, [200, 40, 60]    \n",
      "\n",
      ">>>>> Data Young\n",
      "SCZI  0.6966379900869195\n",
      "(5685, 33658) (5685, 33658) keeping 1000 genes\n"
     ]
    },
    {
     "data": {
      "application/vnd.jupyter.widget-view+json": {
       "model_id": "92496d08635a49f1bf6335bfc35a1c51",
       "version_major": 2,
       "version_minor": 0
      },
      "text/plain": [
       "HBox(children=(IntProgress(value=0, max=1), HTML(value='')))"
      ]
     },
     "metadata": {},
     "output_type": "display_data"
    },
    {
     "name": "stdout",
     "output_type": "stream",
     "text": [
      ".# 0.07, 0.9, 0.4, [200, 40, 60]    \n",
      ".# 0.07, 0.9, 0.4, [200, 40, 60]    \n",
      ".# 0.07, 0.9, 0.4, [200, 40, 60]    \n",
      ".# 0.07, 0.9, 0.4, [200, 40, 60]    \n",
      ".# 0.07, 0.9, 0.4, [200, 40, 60]    \n",
      ".# 0.07, 0.9, 0.4, [200, 40, 60]    \n",
      ".# 0.07, 0.9, 0.4, [200, 40, 60]    \n",
      ".# 0.07, 0.9, 0.4, [200, 40, 60]    \n",
      ".# 0.07, 0.9, 0.4, [200, 40, 60]    \n",
      ".# 0.07, 0.9, 0.4, [200, 40, 60]    \n",
      ".# 0.07, 0.9, 0.4, [200, 40, 60]    \n",
      ".# 0.07, 0.9, 0.4, [200, 40, 60]    \n",
      "\n",
      ">>>>> Data mouse_ES_cell\n",
      "SCZI  0.8004502714264402\n",
      "(2717, 24175) (2717, 24175) keeping 1000 genes\n"
     ]
    },
    {
     "data": {
      "application/vnd.jupyter.widget-view+json": {
       "model_id": "5b32365337f448f981f4c0397f637a76",
       "version_major": 2,
       "version_minor": 0
      },
      "text/plain": [
       "HBox(children=(IntProgress(value=0, max=1), HTML(value='')))"
      ]
     },
     "metadata": {},
     "output_type": "display_data"
    },
    {
     "name": "stdout",
     "output_type": "stream",
     "text": [
      ".# 0.07, 0.9, 0.4, [200, 40, 60]    \n",
      ".# 0.07, 0.9, 0.4, [200, 40, 60]    \n",
      ".# 0.07, 0.9, 0.4, [200, 40, 60]    \n",
      ".# 0.07, 0.9, 0.4, [200, 40, 60]    \n",
      ".# 0.07, 0.9, 0.4, [200, 40, 60]    \n",
      ".# 0.07, 0.9, 0.4, [200, 40, 60]    \n",
      ".# 0.07, 0.9, 0.4, [200, 40, 60]    \n",
      ".# 0.07, 0.9, 0.4, [200, 40, 60]    \n",
      ".# 0.07, 0.9, 0.4, [200, 40, 60]    \n",
      ".# 0.07, 0.9, 0.4, [200, 40, 60]    \n",
      ".# 0.07, 0.9, 0.4, [200, 40, 60]    \n",
      ".# 0.07, 0.9, 0.4, [200, 40, 60]    \n",
      "\n",
      ">>>>> Data Adam\n",
      "SCZI  0.8632277666545504\n",
      "(3660, 23797) (3660, 23797) keeping 500 genes\n"
     ]
    },
    {
     "data": {
      "application/vnd.jupyter.widget-view+json": {
       "model_id": "d86ff50f0b444db3b7ec545d02e869fa",
       "version_major": 2,
       "version_minor": 0
      },
      "text/plain": [
       "HBox(children=(IntProgress(value=0, max=1), HTML(value='')))"
      ]
     },
     "metadata": {},
     "output_type": "display_data"
    },
    {
     "name": "stdout",
     "output_type": "stream",
     "text": [
      ".# 0.07, 0.9, 0.4, [200, 40, 60]    \n",
      ".# 0.07, 0.9, 0.4, [200, 40, 60]    \n",
      ".# 0.07, 0.9, 0.4, [200, 40, 60]    \n",
      ".# 0.07, 0.9, 0.4, [200, 40, 60]    \n",
      ".# 0.07, 0.9, 0.4, [200, 40, 60]    \n",
      ".# 0.07, 0.9, 0.4, [200, 40, 60]    \n",
      ".# 0.07, 0.9, 0.4, [200, 40, 60]    \n",
      ".# 0.07, 0.9, 0.4, [200, 40, 60]    \n",
      ".# 0.07, 0.9, 0.4, [200, 40, 60]    \n",
      ".# 0.07, 0.9, 0.4, [200, 40, 60]    \n",
      ".# 0.07, 0.9, 0.4, [200, 40, 60]    \n",
      ".# 0.07, 0.9, 0.4, [200, 40, 60]    \n",
      "\n",
      ">>>>> Data Quake_10x_Bladder\n",
      "SCZI  0.9828247498197693\n",
      "(2500, 23341) (2500, 23341) keeping 500 genes\n"
     ]
    },
    {
     "data": {
      "application/vnd.jupyter.widget-view+json": {
       "model_id": "686663765f274ca8b2fd5a4437cdaf3e",
       "version_major": 2,
       "version_minor": 0
      },
      "text/plain": [
       "HBox(children=(IntProgress(value=0, max=1), HTML(value='')))"
      ]
     },
     "metadata": {},
     "output_type": "display_data"
    },
    {
     "name": "stdout",
     "output_type": "stream",
     "text": [
      ".# 0.07, 0.9, 0.4, [200, 40, 60]    \n",
      ".# 0.07, 0.9, 0.4, [200, 40, 60]    \n",
      ".# 0.07, 0.9, 0.4, [200, 40, 60]    \n",
      ".# 0.07, 0.9, 0.4, [200, 40, 60]    \n",
      ".# 0.07, 0.9, 0.4, [200, 40, 60]    \n",
      ".# 0.07, 0.9, 0.4, [200, 40, 60]    \n",
      ".# 0.07, 0.9, 0.4, [200, 40, 60]    \n",
      ".# 0.07, 0.9, 0.4, [200, 40, 60]    \n",
      ".# 0.07, 0.9, 0.4, [200, 40, 60]    \n",
      ".# 0.07, 0.9, 0.4, [200, 40, 60]    \n",
      ".# 0.07, 0.9, 0.4, [200, 40, 60]    \n",
      ".# 0.07, 0.9, 0.4, [200, 40, 60]    \n",
      "\n",
      ">>>>> Data Quake_Smart-seq2_Lung\n",
      "SCZI  0.754207987444416\n",
      "(1676, 23341) (1676, 23341) keeping 1000 genes\n"
     ]
    },
    {
     "data": {
      "application/vnd.jupyter.widget-view+json": {
       "model_id": "f366e0c0a4ad42f08336e9ce2c70019e",
       "version_major": 2,
       "version_minor": 0
      },
      "text/plain": [
       "HBox(children=(IntProgress(value=0, max=1), HTML(value='')))"
      ]
     },
     "metadata": {},
     "output_type": "display_data"
    },
    {
     "name": "stdout",
     "output_type": "stream",
     "text": [
      ".# 0.07, 0.9, 0.4, [200, 40, 60]    \n",
      ".# 0.07, 0.9, 0.4, [200, 40, 60]    \n",
      ".# 0.07, 0.9, 0.4, [200, 40, 60]    \n",
      ".# 0.07, 0.9, 0.4, [200, 40, 60]    \n",
      ".# 0.07, 0.9, 0.4, [200, 40, 60]    \n",
      ".# 0.07, 0.9, 0.4, [200, 40, 60]    \n",
      ".# 0.07, 0.9, 0.4, [200, 40, 60]    \n",
      ".# 0.07, 0.9, 0.4, [200, 40, 60]    \n",
      ".# 0.07, 0.9, 0.4, [200, 40, 60]    \n",
      ".# 0.07, 0.9, 0.4, [200, 40, 60]    \n",
      ".# 0.07, 0.9, 0.4, [200, 40, 60]    \n",
      ".# 0.07, 0.9, 0.4, [200, 40, 60]    \n",
      "\n",
      ">>>>> Data Quake_10x_Limb_Muscle\n",
      "SCZI  0.9609079013375856\n",
      "(3909, 23341) (3909, 23341) keeping 500 genes\n"
     ]
    },
    {
     "data": {
      "application/vnd.jupyter.widget-view+json": {
       "model_id": "bcd05da72ee9419d87a3dcb2e90210e8",
       "version_major": 2,
       "version_minor": 0
      },
      "text/plain": [
       "HBox(children=(IntProgress(value=0, max=1), HTML(value='')))"
      ]
     },
     "metadata": {},
     "output_type": "display_data"
    },
    {
     "name": "stdout",
     "output_type": "stream",
     "text": [
      ".# 0.07, 0.9, 0.4, [200, 40, 60]    \n",
      ".# 0.07, 0.9, 0.4, [200, 40, 60]    \n",
      ".# 0.07, 0.9, 0.4, [200, 40, 60]    \n",
      ".# 0.07, 0.9, 0.4, [200, 40, 60]    \n",
      ".# 0.07, 0.9, 0.4, [200, 40, 60]    \n",
      ".# 0.07, 0.9, 0.4, [200, 40, 60]    \n",
      ".# 0.07, 0.9, 0.4, [200, 40, 60]    \n",
      ".# 0.07, 0.9, 0.4, [200, 40, 60]    \n",
      ".# 0.07, 0.9, 0.4, [200, 40, 60]    \n",
      ".# 0.07, 0.9, 0.4, [200, 40, 60]    \n",
      ".# 0.07, 0.9, 0.4, [200, 40, 60]    \n",
      ".# 0.07, 0.9, 0.4, [200, 40, 60]    \n",
      "\n",
      ">>>>> Data worm_neuron_cell\n",
      "SCZI  0.06355801295995496\n",
      "(4186, 13488) (4186, 13488) keeping 5000 genes\n"
     ]
    },
    {
     "data": {
      "application/vnd.jupyter.widget-view+json": {
       "model_id": "03aae7fe589340f2b1b7e990fe32399c",
       "version_major": 2,
       "version_minor": 0
      },
      "text/plain": [
       "HBox(children=(IntProgress(value=0, max=1), HTML(value='')))"
      ]
     },
     "metadata": {},
     "output_type": "display_data"
    },
    {
     "name": "stdout",
     "output_type": "stream",
     "text": [
      ".# 0.07, 0.9, 0.4, [200, 40, 60]    \n",
      ".# 0.07, 0.9, 0.4, [200, 40, 60]    \n",
      ".# 0.07, 0.9, 0.4, [200, 40, 60]    \n",
      ".# 0.07, 0.9, 0.4, [200, 40, 60]    \n",
      ".# 0.07, 0.9, 0.4, [200, 40, 60]    \n",
      ".# 0.07, 0.9, 0.4, [200, 40, 60]    \n",
      ".# 0.07, 0.9, 0.4, [200, 40, 60]    \n",
      ".# 0.07, 0.9, 0.4, [200, 40, 60]    \n",
      ".# 0.07, 0.9, 0.4, [200, 40, 60]    \n",
      ".# 0.07, 0.9, 0.4, [200, 40, 60]    \n",
      ".# 0.07, 0.9, 0.4, [200, 40, 60]    \n",
      ".# 0.07, 0.9, 0.4, [200, 40, 60]    \n",
      "\n",
      ">>>>> Data mouse_bladder_cell\n",
      "SCZI  0.44351906948034386\n",
      "(2746, 20670) (2746, 20670) keeping 1500 genes\n"
     ]
    },
    {
     "data": {
      "application/vnd.jupyter.widget-view+json": {
       "model_id": "393ebc0a78a248bf97f16853b3cb5648",
       "version_major": 2,
       "version_minor": 0
      },
      "text/plain": [
       "HBox(children=(IntProgress(value=0, max=1), HTML(value='')))"
      ]
     },
     "metadata": {},
     "output_type": "display_data"
    },
    {
     "name": "stdout",
     "output_type": "stream",
     "text": [
      ".# 0.07, 0.9, 0.4, [200, 40, 60]    \n",
      ".# 0.07, 0.9, 0.4, [200, 40, 60]    \n",
      ".# 0.07, 0.9, 0.4, [200, 40, 60]    \n",
      ".# 0.07, 0.9, 0.4, [200, 40, 60]    \n",
      ".# 0.07, 0.9, 0.4, [200, 40, 60]    \n",
      ".# 0.07, 0.9, 0.4, [200, 40, 60]    \n",
      ".# 0.07, 0.9, 0.4, [200, 40, 60]    \n",
      ".# 0.07, 0.9, 0.4, [200, 40, 60]    \n",
      ".# 0.07, 0.9, 0.4, [200, 40, 60]    \n",
      ".# 0.07, 0.9, 0.4, [200, 40, 60]    \n",
      ".# 0.07, 0.9, 0.4, [200, 40, 60]    \n",
      ".# 0.07, 0.9, 0.4, [200, 40, 60]    \n",
      "\n",
      ">>>>> Data Romanov\n",
      "SCZI  0.7211879386643121\n",
      "(2881, 21143) (2881, 21143) keeping 500 genes\n"
     ]
    },
    {
     "data": {
      "application/vnd.jupyter.widget-view+json": {
       "model_id": "ddbb6334a61949afaf1d73a4951c3221",
       "version_major": 2,
       "version_minor": 0
      },
      "text/plain": [
       "HBox(children=(IntProgress(value=0, max=1), HTML(value='')))"
      ]
     },
     "metadata": {},
     "output_type": "display_data"
    },
    {
     "name": "stdout",
     "output_type": "stream",
     "text": [
      ".# 0.07, 0.9, 0.4, [200, 40, 60]    \n",
      ".# 0.07, 0.9, 0.4, [200, 40, 60]    \n",
      ".# 0.07, 0.9, 0.4, [200, 40, 60]    \n",
      ".# 0.07, 0.9, 0.4, [200, 40, 60]    \n",
      ".# 0.07, 0.9, 0.4, [200, 40, 60]    \n",
      ".# 0.07, 0.9, 0.4, [200, 40, 60]    \n",
      ".# 0.07, 0.9, 0.4, [200, 40, 60]    \n",
      ".# 0.07, 0.9, 0.4, [200, 40, 60]    \n",
      ".# 0.07, 0.9, 0.4, [200, 40, 60]    \n",
      ".# 0.07, 0.9, 0.4, [200, 40, 60]    \n",
      ".# 0.07, 0.9, 0.4, [200, 40, 60]    \n",
      ".# 0.07, 0.9, 0.4, [200, 40, 60]    \n",
      "\n",
      ">>>>> Data Quake_Smart-seq2_Limb_Muscle\n",
      "SCZI  0.9738741466572893\n",
      "(1090, 23341) (1090, 23341) keeping 1000 genes\n"
     ]
    },
    {
     "data": {
      "application/vnd.jupyter.widget-view+json": {
       "model_id": "7fb90eb6b7c841b2ba67358810bcf8b7",
       "version_major": 2,
       "version_minor": 0
      },
      "text/plain": [
       "HBox(children=(IntProgress(value=0, max=1), HTML(value='')))"
      ]
     },
     "metadata": {},
     "output_type": "display_data"
    },
    {
     "name": "stdout",
     "output_type": "stream",
     "text": [
      ".# 0.07, 0.9, 0.4, [200, 40, 60]    \n",
      ".# 0.07, 0.9, 0.4, [200, 40, 60]    \n",
      ".# 0.07, 0.9, 0.4, [200, 40, 60]    \n",
      ".# 0.07, 0.9, 0.4, [200, 40, 60]    \n",
      ".# 0.07, 0.9, 0.4, [200, 40, 60]    \n",
      ".# 0.07, 0.9, 0.4, [200, 40, 60]    \n",
      ".# 0.07, 0.9, 0.4, [200, 40, 60]    \n",
      ".# 0.07, 0.9, 0.4, [200, 40, 60]    \n",
      ".# 0.07, 0.9, 0.4, [200, 40, 60]    \n",
      ".# 0.07, 0.9, 0.4, [200, 40, 60]    \n",
      ".# 0.07, 0.9, 0.4, [200, 40, 60]    \n",
      ".# 0.07, 0.9, 0.4, [200, 40, 60]    \n",
      "\n",
      ">>>>> Data Muraro\n",
      "SCZI  0.7263895607362582\n",
      "(2122, 19046) (2122, 19046) keeping 1000 genes\n"
     ]
    },
    {
     "data": {
      "application/vnd.jupyter.widget-view+json": {
       "model_id": "a19f3b79d6594e34ade6dff1d110861d",
       "version_major": 2,
       "version_minor": 0
      },
      "text/plain": [
       "HBox(children=(IntProgress(value=0, max=1), HTML(value='')))"
      ]
     },
     "metadata": {},
     "output_type": "display_data"
    },
    {
     "name": "stdout",
     "output_type": "stream",
     "text": [
      ".# 0.07, 0.9, 0.4, [200, 40, 60]    \n",
      ".# 0.07, 0.9, 0.4, [200, 40, 60]    \n",
      ".# 0.07, 0.9, 0.4, [200, 40, 60]    \n",
      ".# 0.07, 0.9, 0.4, [200, 40, 60]    \n",
      ".# 0.07, 0.9, 0.4, [200, 40, 60]    \n",
      ".# 0.07, 0.9, 0.4, [200, 40, 60]    \n",
      ".# 0.07, 0.9, 0.4, [200, 40, 60]    \n",
      ".# 0.07, 0.9, 0.4, [200, 40, 60]    \n",
      ".# 0.07, 0.9, 0.4, [200, 40, 60]    \n",
      ".# 0.07, 0.9, 0.4, [200, 40, 60]    \n",
      ".# 0.07, 0.9, 0.4, [200, 40, 60]    \n",
      ".# 0.07, 0.9, 0.4, [200, 40, 60]    \n",
      "\n",
      ">>>>> Data 10X_PBMC\n",
      "SCZI  0.5902722091957062\n",
      "(4271, 16653) (4271, 16653) keeping 500 genes\n"
     ]
    },
    {
     "data": {
      "application/vnd.jupyter.widget-view+json": {
       "model_id": "78a84c7b81b547c8bb0cf5547bfea697",
       "version_major": 2,
       "version_minor": 0
      },
      "text/plain": [
       "HBox(children=(IntProgress(value=0, max=1), HTML(value='')))"
      ]
     },
     "metadata": {},
     "output_type": "display_data"
    },
    {
     "name": "stdout",
     "output_type": "stream",
     "text": [
      ".# 0.07, 0.9, 0.4, [200, 40, 60]    \n",
      ".# 0.07, 0.9, 0.4, [200, 40, 60]    \n",
      ".# 0.07, 0.9, 0.4, [200, 40, 60]    \n",
      ".# 0.07, 0.9, 0.4, [200, 40, 60]    \n",
      ".# 0.07, 0.9, 0.4, [200, 40, 60]    \n",
      ".# 0.07, 0.9, 0.4, [200, 40, 60]    \n",
      ".# 0.07, 0.9, 0.4, [200, 40, 60]    \n",
      ".# 0.07, 0.9, 0.4, [200, 40, 60]    \n",
      ".# 0.07, 0.9, 0.4, [200, 40, 60]    \n",
      ".# 0.07, 0.9, 0.4, [200, 40, 60]    \n",
      ".# 0.07, 0.9, 0.4, [200, 40, 60]    \n",
      ".# 0.07, 0.9, 0.4, [200, 40, 60]    \n",
      "\n"
     ]
    }
   ],
   "source": [
    "df = pd.DataFrame()\n",
    "lr =0.4\n",
    "for dataset in files:\n",
    "\n",
    "    print(f\">>>>> Data {dataset}\")\n",
    "    print(\"SCZI \", sczi[sczi[\"dataset\"] == dataset][\"ARI\"].mean())\n",
    "    data_mat = h5py.File(f\"{path}real_data/{dataset}.h5\", \"r\")\n",
    "    X = np.array(data_mat['X'])\n",
    "    Y = np.array(data_mat['Y'])\n",
    "\n",
    "    cluster_number = np.unique(Y).shape[0]\n",
    "    nb_genes = optimal[optimal[\"dataset\"] == dataset][\"nb_genes\"].values[0]\n",
    "    data_mat = h5py.File(f\"{path}real_data/{dataset}.h5\", \"r\")\n",
    "    X = np.array(data_mat['X'])\n",
    "    Y = np.array(data_mat['Y'])\n",
    "\n",
    "    X = train.preprocess(X, nb_genes=nb_genes)\n",
    "    for temperature in tqdm([0.07]):\n",
    "        for dropout in [ 0.9\n",
    "                       ]:\n",
    "            for noise in [0, 0.01, 0.1, 1\n",
    "                      ]:\n",
    "                for layers in [\n",
    "                    [200, 40, 60]\n",
    "                              ]:\n",
    "                    for run in range(3):\n",
    "                        torch.manual_seed(run)\n",
    "                        torch.cuda.manual_seed_all(run)\n",
    "                        np.random.seed(run)\n",
    "                        random.seed(run)\n",
    "                        torch.backends.cudnn.deterministic = True\n",
    "                        torch.backends.cudnn.benchmark = False\n",
    "                        dresults = train.run(X,\n",
    "                                             cluster_number,\n",
    "                                             dataset,\n",
    "                                             Y=Y,\n",
    "                                             nb_epochs=30,\n",
    "                                             lr=lr,\n",
    "                                             noise = noise,\n",
    "                                             temperature=temperature,\n",
    "                                             dropout=dropout,\n",
    "                                             \n",
    "                                             \n",
    "                                             layers=layers,\n",
    "                                             save_to=f\"{path}output/real_data/{run}/\",\n",
    "                                             save_pred = False)\n",
    "                        dresults[\"temperature\"] = temperature\n",
    "                        dresults[\"dropout\"] = dropout\n",
    "                        dresults[\"noise\"] = noise\n",
    "                        dresults[\"layers\"] = str(layers)\n",
    "                        dresults[\"run\"] = run\n",
    "                        print(f\".\", end = \"\")\n",
    "                        print(f\"# {temperature}, {dropout}, {lr}, {layers}\", \n",
    "                              dresults.get('COMBINED_kmeans_ari', \"\"),\n",
    "                              dresults.get('COMBINED_leiden_ari', \"\"), dresults.get('kmeans_ari_0',\"\"),\n",
    "                              dresults.get('leiden_ari_0', \"\"))\n",
    "                        df = df.append(dresults, ignore_index=True)\n",
    "\n",
    "                        df.to_pickle(f\"{path}output/pickle_results/real_data/real_data_noise.pkl\")"
   ]
  },
  {
   "cell_type": "code",
   "execution_count": null,
   "metadata": {},
   "outputs": [],
   "source": [
    "df"
   ]
  },
  {
   "cell_type": "code",
   "execution_count": null,
   "metadata": {},
   "outputs": [],
   "source": [
    "sczi = pd.read_pickle(f\"../output/pickle_results/real_data/real_data_sczi.pkl\")\n",
    "sczi = sczi[sczi[\"dataset\"].isin(files)]\n",
    "sczi.mean()"
   ]
  },
  {
   "cell_type": "code",
   "execution_count": null,
   "metadata": {},
   "outputs": [],
   "source": [
    "df = pd.read_pickle(f\"../output/pickle_results/real_data/real_data_noise.pkl\")\n",
    "df = df.fillna(0)\n",
    "df = df[df[\"dataset\"].isin(files)]\n",
    "df.groupby([\"temperature\", \"layers\", \"dropout\", \"noise\"])[\"kmeans_ari_0\"].mean().unstack([\"layers\", \"noise\"]).T"
   ]
  },
  {
   "cell_type": "code",
   "execution_count": null,
   "metadata": {},
   "outputs": [],
   "source": [
    "# df = pd.read_pickle(f\"../output/pickle_results/real_data/real_data_1model.pkl\")\n",
    "df.groupby([\"temperature\", \"layers\", \"dropout\", \"lr\"])[\"kmeans_ari_0\"].mean().unstack([\"layers\", \"noise\"]).max()"
   ]
  },
  {
   "cell_type": "code",
   "execution_count": null,
   "metadata": {},
   "outputs": [],
   "source": [
    "# r = df[(df[\"layers\"]==\"[40]\")\n",
    "#        &(df[\"temperature\"]==0.01)\n",
    "#        &(df[\"lr\"]==1e-5)\n",
    "#        &(df[\"dropout\"]==0.9)\n",
    "#       ]\n",
    "r = df[(df[\"layers\"]==\"[200, 100, 30, 30]\")\n",
    "       &(df[\"temperature\"]==0.07)\n",
    "       &(df[\"lr\"]==1e-5)\n",
    "       &(df[\"dropout\"]==0.9)\n",
    "      ]\n",
    "\n",
    "\n",
    "r.mean()"
   ]
  },
  {
   "cell_type": "code",
   "execution_count": null,
   "metadata": {},
   "outputs": [],
   "source": [
    "comb = pd.merge(r, sczi, on=[\"dataset\", \"run\"])[[\n",
    "    \"dataset\", \"kmeans_ari_0\", \"ARI\", \"kmeans_nmi_0\", \"NMI\"\n",
    "]].rename(columns = {\"kmeans_ari_0\": \"contrative-sc\", \"ARI\": \"sczi\"})\n",
    "comb"
   ]
  },
  {
   "cell_type": "code",
   "execution_count": null,
   "metadata": {},
   "outputs": [],
   "source": [
    "comb =pd.melt(comb, id_vars=[\"dataset\"], value_vars=[\"contrative-sc\", \"sczi\"])"
   ]
  },
  {
   "cell_type": "code",
   "execution_count": null,
   "metadata": {},
   "outputs": [],
   "source": [
    "comb.head()"
   ]
  },
  {
   "cell_type": "code",
   "execution_count": null,
   "metadata": {},
   "outputs": [],
   "source": []
  },
  {
   "cell_type": "code",
   "execution_count": null,
   "metadata": {},
   "outputs": [],
   "source": [
    "import seaborn as sns"
   ]
  },
  {
   "cell_type": "code",
   "execution_count": null,
   "metadata": {},
   "outputs": [],
   "source": [
    "sns.boxplot( data = comb, y=\"value\", x = \"variable\")\n",
    "plt.xticks(rotation = 90)"
   ]
  },
  {
   "cell_type": "code",
   "execution_count": null,
   "metadata": {
    "scrolled": true
   },
   "outputs": [],
   "source": [
    "sns.barplot(x = \"dataset\", data = comb, y=\"value\", hue = \"variable\")\n",
    "plt.xticks(rotation = 90)"
   ]
  },
  {
   "cell_type": "code",
   "execution_count": null,
   "metadata": {},
   "outputs": [],
   "source": []
  },
  {
   "cell_type": "code",
   "execution_count": null,
   "metadata": {},
   "outputs": [],
   "source": []
  },
  {
   "cell_type": "code",
   "execution_count": null,
   "metadata": {},
   "outputs": [],
   "source": [
    "df.groupby(\"dataset\").mean()"
   ]
  },
  {
   "cell_type": "markdown",
   "metadata": {},
   "source": [
    "# Importance of input size"
   ]
  },
  {
   "cell_type": "code",
   "execution_count": null,
   "metadata": {},
   "outputs": [],
   "source": [
    "df = pd.DataFrame(\n",
    "    columns=[\"dataset\", \"perc0\", \"nb_genes\", \"exp\", \"ari\", \"run\"])\n",
    "print(df.shape)\n",
    "for dataset in files:\n",
    "\n",
    "    print(f\">>>>> Data {dataset}\")\n",
    "\n",
    "    data_mat = h5py.File(f\"{path}real_data/{dataset}.h5\", \"r\")\n",
    "    for run in range(2):\n",
    "        torch.manual_seed(run)\n",
    "        torch.cuda.manual_seed_all(run)\n",
    "        np.random.seed(run)\n",
    "        random.seed(run)\n",
    "        torch.backends.cudnn.deterministic = True\n",
    "        torch.backends.cudnn.benchmark = False\n",
    "        for nb_genes in [100, 200, 500, 1000, 1500, 2000, 5000, 8000]:\n",
    "\n",
    "            X = np.array(data_mat['X'])\n",
    "            Y = np.array(data_mat['Y'])\n",
    "            perc_0 = np.where(X == 0)[0].shape[0] / (X.shape[0] * X.shape[1])\n",
    "            print(f\"Perc 0 {perc_0}\")\n",
    "            cluster_number = np.unique(Y).shape[0]\n",
    "\n",
    "            X = train.preprocess(X, nb_genes=nb_genes)\n",
    "            nb_zeros = int(0.8 * nb_genes)\n",
    "            dresults = train.train(\n",
    "                X,\n",
    "                cluster_number,\n",
    "                dataset,\n",
    "                Y,\n",
    "                \n",
    "                epochs=100,\n",
    "                nb_zeros=nb_zeros,\n",
    "                save_to=f\"{path}output/real_data/inputs/{dataset}_{nb_genes}/\")\n",
    "\n",
    "            #         df.loc[df.shape[0]] = [\n",
    "            #                 dataset, perc_0, nb_genes, 'kmeans_representation_0',dresults['kmeans_representation_0']\n",
    "            #             ]\n",
    "            df.loc[df.shape[0]] = [\n",
    "                dataset, perc_0, nb_genes, 'leiden_representation_0',\n",
    "                dresults['leiden_representation_0'], run]\n",
    "\n",
    "#             pxt = PCA(2).fit_transform(X)\n",
    "#             dresults[\"original\"] = utils.evaluate(X, Y, cluster_number)[1]\n",
    "#             dresults[\"pca\"] = utils.evaluate(pxt, Y, cluster_number)[1]\n",
    "            print(dresults)\n",
    "    df.to_pickle(f\"{path}output/pickle_results/real_data_input_size.pkl\")"
   ]
  },
  {
   "cell_type": "code",
   "execution_count": null,
   "metadata": {},
   "outputs": [],
   "source": [
    "df = pd.read_pickle(f\"{path}output/pickle_results/real_data_input_size.pkl\")"
   ]
  },
  {
   "cell_type": "code",
   "execution_count": null,
   "metadata": {},
   "outputs": [],
   "source": [
    "df.groupby([\"nb_genes\"]).mean()"
   ]
  },
  {
   "cell_type": "code",
   "execution_count": null,
   "metadata": {},
   "outputs": [],
   "source": [
    "dataset_names = {\n",
    "    '10X_PBMC': '10X PBMC',\n",
    "    '10X_PBMC_select_2100': '10X PBMC (2100)',\n",
    "    'mouse_ES_cell': 'Mouse ES\\nCell',\n",
    "    'mouse_ES_cell_select_2100': 'Mouse ES\\nCell (2100)',\n",
    "    'worm_neuron_cell_select_2100': 'Worm Neuron\\nCell (2100)',\n",
    "    'worm_neuron_cell': 'Worm Neuron\\nCell',\n",
    "    'mouse_bladder_cell': 'Mouse Bladder\\nCell',\n",
    "    'mouse_bladder_cell_select_2100': 'Mouse Bladder\\n Cell (2100)'\n",
    "}\n",
    "\n",
    "df[\"dataset\"] = df[\"dataset\"].apply(lambda x: dataset_names[x])\n",
    "\n",
    "df = df.rename(columns = {\"nb_genes\": \"Nb input genes\"})"
   ]
  },
  {
   "cell_type": "code",
   "execution_count": null,
   "metadata": {},
   "outputs": [],
   "source": [
    "df[\"dataset\"].unique()\n"
   ]
  },
  {
   "cell_type": "code",
   "execution_count": null,
   "metadata": {},
   "outputs": [],
   "source": [
    "import seaborn as sns\n",
    "datasets = ['10X PBMC',  'Mouse ES\\nCell','Worm Neuron\\nCell', 'Mouse Bladder\\nCell']\n",
    "plt.figure(figsize=(10, 3.3))\n",
    "ax = plt.subplot(111)\n",
    "sns.barplot(\n",
    "    hue=\"Nb input genes\",\n",
    "    y=\"ari\",\n",
    "    x=\"dataset\",\n",
    "    data=df[df[\"dataset\"].isin(datasets)],\n",
    "    ax=ax,\n",
    "    edgecolor='black',\n",
    "    linewidth=1.5,\n",
    ")\n",
    "plt.ylabel(\"ARI\")\n",
    "plt.xlabel(\"\")\n",
    "plt.legend(title= \"Nb input genes\",bbox_to_anchor=(1, 1))\n",
    "sns.despine()\n",
    "plt.tight_layout()\n",
    "\n",
    "plt.savefig(f\"{path}diagrams/real_input_size.pdf\", bbox_inches='tight')"
   ]
  },
  {
   "cell_type": "code",
   "execution_count": null,
   "metadata": {},
   "outputs": [],
   "source": [
    "datasets = ['10X PBMC (2100)',\n",
    "       'Mouse ES\\nCell (2100)', 'Worm Neuron\\nCell (2100)',\n",
    "       'Mouse Bladder\\n Cell (2100)']\n",
    "plt.figure(figsize=(10, 3.3))\n",
    "ax = plt.subplot(111)\n",
    "sns.barplot(\n",
    "    hue=\"Nb input genes\",\n",
    "    y=\"ari\",\n",
    "    x=\"dataset\",\n",
    "    data=df[df[\"dataset\"].isin(datasets)],\n",
    "    ax=ax,\n",
    "    edgecolor='black',\n",
    "    linewidth=1.5,\n",
    ")\n",
    "plt.ylabel(\"ARI\")\n",
    "plt.xlabel(\"\")\n",
    "plt.legend(title= \"Nb input genes\",bbox_to_anchor=(1, 1))\n",
    "sns.despine()\n",
    "plt.tight_layout()\n",
    "\n",
    "plt.savefig(f\"{path}diagrams/real_input_size_2100.pdf\", bbox_inches='tight')"
   ]
  },
  {
   "cell_type": "code",
   "execution_count": null,
   "metadata": {},
   "outputs": [],
   "source": []
  },
  {
   "cell_type": "markdown",
   "metadata": {},
   "source": [
    "# Importance of the number of epochs"
   ]
  },
  {
   "cell_type": "code",
   "execution_count": null,
   "metadata": {},
   "outputs": [],
   "source": [
    "df = pd.DataFrame(\n",
    "    columns=[\"dataset\", \"perc0\", \"nb_epochs\", \"exp\", \"ari\", \"run\"])\n",
    "print(df.shape)\n",
    "for dataset in files:\n",
    "\n",
    "    print(f\">>>>> Data {dataset}\")\n",
    "\n",
    "    data_mat = h5py.File(f\"{path}real_data/{dataset}.h5\", \"r\")\n",
    "    nb_genes = 1500\n",
    "    for epochs in [5, 50, 100, 300]:\n",
    "\n",
    "        X = np.array(data_mat['X'])\n",
    "        Y = np.array(data_mat['Y'])\n",
    "        perc_0 = np.where(X == 0)[0].shape[0] / (X.shape[0] * X.shape[1])\n",
    "        print(f\"Perc 0 {perc_0}\")\n",
    "        cluster_number = np.unique(Y).shape[0]\n",
    "\n",
    "        X = train.preprocess(X, nb_genes=nb_genes)\n",
    "        nb_zeros = int(0.8 * nb_genes)\n",
    "        for run in range(2):\n",
    "            torch.manual_seed(run)\n",
    "            torch.cuda.manual_seed_all(run)\n",
    "            np.random.seed(run)\n",
    "            random.seed(run)\n",
    "            torch.backends.cudnn.deterministic = True\n",
    "            torch.backends.cudnn.benchmark = False\n",
    "\n",
    "            dresults = train.train(\n",
    "                X,\n",
    "                cluster_number,\n",
    "                dataset,\n",
    "                Y,\n",
    "                \n",
    "                epochs=epochs,\n",
    "                nb_zeros=nb_zeros,\n",
    "                save_to=f\"{path}output/real_data/epochs/{dataset}_{epochs}/\")\n",
    "\n",
    "            df.loc[df.shape[0]] = [\n",
    "                dataset, perc_0, epochs, 'kmeans_representation_0',\n",
    "                dresults['kmeans_representation_0'], run\n",
    "            ]\n",
    "            df.loc[df.shape[0]] = [\n",
    "                dataset, perc_0, epochs, 'leiden_representation_0',\n",
    "                dresults['leiden_representation_0'], run\n",
    "            ]\n",
    "\n",
    "            print(dresults)\n",
    "            df.to_pickle(f\"{path}output/pickle_results/real_data_epochs.pkl\")"
   ]
  },
  {
   "cell_type": "code",
   "execution_count": null,
   "metadata": {},
   "outputs": [],
   "source": [
    "df = pd.read_pickle(f\"{path}output/pickle_results/real_data_epochs.pkl\")"
   ]
  },
  {
   "cell_type": "code",
   "execution_count": null,
   "metadata": {},
   "outputs": [],
   "source": [
    "dataset_names = {\n",
    "    '10X_PBMC': '10X PBMC',\n",
    "    '10X_PBMC_select_2100': '10X PBMC (2100)',\n",
    "    'mouse_ES_cell': 'Mouse ES\\nCell',\n",
    "    'mouse_ES_cell_select_2100': 'Mouse ES\\nCell (2100)',\n",
    "    'worm_neuron_cell_select_2100': 'Worm Neuron\\nCell (2100)',\n",
    "    'worm_neuron_cell': 'Worm Neuron\\nCell',\n",
    "    'mouse_bladder_cell': 'Mouse Bladder\\nCell',\n",
    "    'mouse_bladder_cell_select_2100': 'Mouse Bladder\\n Cell (2100)'\n",
    "}\n",
    "\n",
    "df[\"dataset\"] = df[\"dataset\"].apply(lambda x: dataset_names[x])\n",
    "\n",
    "df = df.rename(columns = {\"nb_epochs\": \"Nb epochs\"})"
   ]
  },
  {
   "cell_type": "code",
   "execution_count": null,
   "metadata": {},
   "outputs": [],
   "source": [
    "import seaborn as sns\n",
    "datasets = ['10X PBMC',  'Mouse ES\\nCell','Worm Neuron\\nCell', 'Mouse Bladder\\nCell']\n",
    "plt.figure(figsize=(7, 3))\n",
    "ax = plt.subplot(111)\n",
    "sns.barplot(\n",
    "    hue=\"Nb epochs\",\n",
    "    y=\"ari\",\n",
    "    x=\"dataset\",\n",
    "    data=df[df[\"dataset\"].isin(datasets)],\n",
    "    ax=ax,\n",
    "    edgecolor='black',\n",
    "    linewidth=1.5,\n",
    ")\n",
    "plt.ylabel(\"ARI\")\n",
    "plt.xlabel(\"\")\n",
    "plt.legend(title =\"Number of epochs\",bbox_to_anchor=(1, 1))\n",
    "sns.despine()\n",
    "plt.tight_layout()\n",
    "\n",
    "plt.savefig(f\"{path}diagrams/real_nb_epochs.pdf\", bbox_inches='tight')"
   ]
  },
  {
   "cell_type": "code",
   "execution_count": null,
   "metadata": {},
   "outputs": [],
   "source": []
  },
  {
   "cell_type": "code",
   "execution_count": null,
   "metadata": {},
   "outputs": [],
   "source": []
  }
 ],
 "metadata": {
  "kernelspec": {
   "display_name": "Python 3",
   "language": "python",
   "name": "python3"
  },
  "language_info": {
   "codemirror_mode": {
    "name": "ipython",
    "version": 3
   },
   "file_extension": ".py",
   "mimetype": "text/x-python",
   "name": "python",
   "nbconvert_exporter": "python",
   "pygments_lexer": "ipython3",
   "version": "3.7.4"
  }
 },
 "nbformat": 4,
 "nbformat_minor": 4
}
