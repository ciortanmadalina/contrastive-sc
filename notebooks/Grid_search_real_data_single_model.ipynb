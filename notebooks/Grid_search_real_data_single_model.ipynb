{
 "cells": [
  {
   "cell_type": "markdown",
   "metadata": {},
   "source": [
    "Original implementation of Contrastive-sc method\n",
    "(https://github.com/ciortanmadalina/contrastive-sc)"
   ]
  },
  {
   "cell_type": "code",
   "execution_count": 1,
   "metadata": {},
   "outputs": [
    {
     "name": "stderr",
     "output_type": "stream",
     "text": [
      "/opt/conda/lib/python3.7/site-packages/scanpy/api/__init__.py:7: FutureWarning: \n",
      "\n",
      "In a future version of Scanpy, `scanpy.api` will be removed.\n",
      "Simply use `import scanpy as sc` and `import scanpy.external as sce` instead.\n",
      "\n",
      "  FutureWarning,\n"
     ]
    }
   ],
   "source": [
    "import sys\n",
    "sys.path.append(\"..\")\n",
    "import argparse\n",
    "from sklearn.metrics import adjusted_rand_score, normalized_mutual_info_score\n",
    "from sklearn.cluster import KMeans\n",
    "from sklearn import metrics\n",
    "\n",
    "import torch\n",
    "import torch.nn as nn\n",
    "import copy\n",
    "from tqdm.notebook import tqdm\n",
    "import models\n",
    "import numpy as np\n",
    "import pandas as pd\n",
    "from sklearn.decomposition import PCA\n",
    "import matplotlib.pyplot as plt\n",
    "import st_loss\n",
    "\n",
    "import h5py\n",
    "import scipy as sp\n",
    "import scanpy.api as sc\n",
    "from collections import Counter\n",
    "import random\n",
    "import utils\n",
    "import loop\n",
    "import pickle\n",
    "\n",
    "import train\n",
    "import os\n",
    "import glob2\n",
    "plt.ion()\n",
    "plt.show()\n",
    "%load_ext autoreload\n",
    "%autoreload 2\n",
    "\n",
    "import warnings\n",
    "warnings.filterwarnings(\"ignore\", category=FutureWarning)"
   ]
  },
  {
   "cell_type": "code",
   "execution_count": 2,
   "metadata": {},
   "outputs": [
    {
     "data": {
      "text/plain": [
       "['Quake_Smart-seq2_Trachea',\n",
       " 'Quake_Smart-seq2_Diaphragm',\n",
       " 'Quake_10x_Spleen',\n",
       " 'Young',\n",
       " '10X_PBMC_select_2100',\n",
       " 'mouse_ES_cell',\n",
       " 'Adam',\n",
       " 'Quake_10x_Bladder',\n",
       " 'Quake_Smart-seq2_Lung',\n",
       " 'worm_neuron_cell_select_2100',\n",
       " 'Quake_10x_Limb_Muscle',\n",
       " 'worm_neuron_cell',\n",
       " 'mouse_bladder_cell',\n",
       " 'mouse_ES_cell_select_2100',\n",
       " 'Romanov',\n",
       " 'Quake_Smart-seq2_Limb_Muscle',\n",
       " 'Muraro',\n",
       " 'mouse_bladder_cell_select_2100',\n",
       " '10X_PBMC']"
      ]
     },
     "execution_count": 2,
     "metadata": {},
     "output_type": "execute_result"
    }
   ],
   "source": [
    "path = \"../\"\n",
    "files = glob2.glob(f'{path}real_data/*.h5')\n",
    "files = [f[len(f\"'{path}real_data\"):-3] for f in files]\n",
    "files"
   ]
  },
  {
   "cell_type": "code",
   "execution_count": 58,
   "metadata": {},
   "outputs": [],
   "source": [
    "files = [\n",
    "#     'Quake_Smart-seq2_Trachea',\n",
    "#     'Quake_Smart-seq2_Diaphragm',\n",
    "    'Young',\n",
    "    '10X_PBMC_select_2100',\n",
    "    'mouse_ES_cell',\n",
    "    'Adam',\n",
    "    'Quake_10x_Bladder',\n",
    "    'Quake_Smart-seq2_Lung',\n",
    "    'worm_neuron_cell_select_2100',\n",
    "    'Quake_10x_Limb_Muscle',\n",
    "    'worm_neuron_cell',\n",
    "    'mouse_bladder_cell',\n",
    "    'mouse_ES_cell_select_2100',\n",
    "    'Romanov',\n",
    "    'Quake_Smart-seq2_Limb_Muscle',\n",
    "    'Muraro',\n",
    "    'mouse_bladder_cell_select_2100',\n",
    "    '10X_PBMC',\n",
    "    'Quake_10x_Spleen',\n",
    "]"
   ]
  },
  {
   "cell_type": "code",
   "execution_count": 59,
   "metadata": {},
   "outputs": [],
   "source": [
    "sczi = pd.read_pickle(f\"../output/pickle_results/real_data/real_data_sczi.pkl\")"
   ]
  },
  {
   "cell_type": "code",
   "execution_count": 73,
   "metadata": {},
   "outputs": [],
   "source": [
    "df = pd.read_pickle(f\"{path}output/pickle_results/real_data/real_data_1model.pkl\")"
   ]
  },
  {
   "cell_type": "code",
   "execution_count": 74,
   "metadata": {},
   "outputs": [],
   "source": [
    "df =df[df[\"temperature\"]!= 0.008]"
   ]
  },
  {
   "cell_type": "code",
   "execution_count": 82,
   "metadata": {
    "scrolled": true
   },
   "outputs": [
    {
     "name": "stdout",
     "output_type": "stream",
     "text": [
      ">>>>> Data Quake_Smart-seq2_Trachea\n",
      "SCZI  0.8291128219663276\n",
      "(1350, 23341) (1350, 23341) keeping 1500 genes\n"
     ]
    },
    {
     "data": {
      "application/vnd.jupyter.widget-view+json": {
       "model_id": "5bfd0b800bed4c0080a455d30e62d127",
       "version_major": 2,
       "version_minor": 0
      },
      "text/plain": [
       "HBox(children=(IntProgress(value=0, max=1), HTML(value='')))"
      ]
     },
     "metadata": {},
     "output_type": "display_data"
    },
    {
     "name": "stdout",
     "output_type": "stream",
     "text": [
      ".# 0.07, 0.9, 1e-05, [200, 50, 30, 30]   0.5321803785156608 0.15516362414247803\n",
      ".# 0.07, 0.9, 1e-05, [200, 50, 30, 30]   0.5427142440098075 0.15955710774780912\n",
      "\n",
      ">>>>> Data Quake_Smart-seq2_Diaphragm\n",
      "SCZI  0.9596701189611787\n",
      "(870, 23341) (870, 23341) keeping 1500 genes\n"
     ]
    },
    {
     "data": {
      "application/vnd.jupyter.widget-view+json": {
       "model_id": "39c5b8c26a674685a0a28e748dba46f2",
       "version_major": 2,
       "version_minor": 0
      },
      "text/plain": [
       "HBox(children=(IntProgress(value=0, max=1), HTML(value='')))"
      ]
     },
     "metadata": {},
     "output_type": "display_data"
    },
    {
     "name": "stdout",
     "output_type": "stream",
     "text": [
      ".# 0.07, 0.9, 1e-05, [200, 50, 30, 30]   0.9800670274259542 0.2932696849118014\n",
      ".# 0.07, 0.9, 1e-05, [200, 50, 30, 30]   0.9571855710666292 0.2568275802256321\n",
      "\n",
      ">>>>> Data Young\n",
      "SCZI  0.6629811886776039\n",
      "(5685, 33658) (5685, 33658) keeping 1500 genes\n"
     ]
    },
    {
     "data": {
      "application/vnd.jupyter.widget-view+json": {
       "model_id": "c7a93382d226492da8b03bd4d66a4c3b",
       "version_major": 2,
       "version_minor": 0
      },
      "text/plain": [
       "HBox(children=(IntProgress(value=0, max=1), HTML(value='')))"
      ]
     },
     "metadata": {},
     "output_type": "display_data"
    },
    {
     "name": "stdout",
     "output_type": "stream",
     "text": [
      ".# 0.07, 0.9, 1e-05, [200, 50, 30, 30]   0.46685509947599385 0.3517276256505846\n",
      ".# 0.07, 0.9, 1e-05, [200, 50, 30, 30]   0.5832610486915973 0.4159938560338416\n",
      "\n",
      ">>>>> Data mouse_ES_cell\n",
      "SCZI  0.800376096099337\n",
      "(2717, 24175) (2717, 24175) keeping 1500 genes\n"
     ]
    },
    {
     "data": {
      "application/vnd.jupyter.widget-view+json": {
       "model_id": "023084ee98294dc38a6741c6e062d94e",
       "version_major": 2,
       "version_minor": 0
      },
      "text/plain": [
       "HBox(children=(IntProgress(value=0, max=1), HTML(value='')))"
      ]
     },
     "metadata": {},
     "output_type": "display_data"
    },
    {
     "name": "stdout",
     "output_type": "stream",
     "text": [
      ".# 0.07, 0.9, 1e-05, [200, 50, 30, 30]   0.744818640547231 0.21369800840326214\n",
      ".# 0.07, 0.9, 1e-05, [200, 50, 30, 30]   0.7570515685445278 0.2450379308892879\n",
      "\n",
      ">>>>> Data Adam\n",
      "SCZI  0.8634561030635544\n",
      "(3660, 23797) (3660, 23797) keeping 1500 genes\n"
     ]
    },
    {
     "data": {
      "application/vnd.jupyter.widget-view+json": {
       "model_id": "d3cd4e61e20643bca54ae685ef5624fc",
       "version_major": 2,
       "version_minor": 0
      },
      "text/plain": [
       "HBox(children=(IntProgress(value=0, max=1), HTML(value='')))"
      ]
     },
     "metadata": {},
     "output_type": "display_data"
    },
    {
     "name": "stdout",
     "output_type": "stream",
     "text": [
      ".# 0.07, 0.9, 1e-05, [200, 50, 30, 30]   0.7883977843204116 0.4747855270139449\n",
      ".# 0.07, 0.9, 1e-05, [200, 50, 30, 30]   0.6355977244550978 0.44238575938068014\n",
      "\n",
      ">>>>> Data Quake_10x_Bladder\n",
      "SCZI  0.983095549108186\n",
      "(2500, 23341) (2500, 23341) keeping 1500 genes\n"
     ]
    },
    {
     "data": {
      "application/vnd.jupyter.widget-view+json": {
       "model_id": "4d0c7c2daec6480eb1c0c3d8e324cd8b",
       "version_major": 2,
       "version_minor": 0
      },
      "text/plain": [
       "HBox(children=(IntProgress(value=0, max=1), HTML(value='')))"
      ]
     },
     "metadata": {},
     "output_type": "display_data"
    },
    {
     "name": "stdout",
     "output_type": "stream",
     "text": [
      ".# 0.07, 0.9, 1e-05, [200, 50, 30, 30]   0.7579046398454113 0.13305616985702348\n",
      ".# 0.07, 0.9, 1e-05, [200, 50, 30, 30]   0.75252693820091 0.1344766975939746\n",
      "\n",
      ">>>>> Data Quake_Smart-seq2_Lung\n",
      "SCZI  0.7134055445020913\n",
      "(1676, 23341) (1676, 23341) keeping 1500 genes\n"
     ]
    },
    {
     "data": {
      "application/vnd.jupyter.widget-view+json": {
       "model_id": "00bed70059c245b186e0feeefc949d25",
       "version_major": 2,
       "version_minor": 0
      },
      "text/plain": [
       "HBox(children=(IntProgress(value=0, max=1), HTML(value='')))"
      ]
     },
     "metadata": {},
     "output_type": "display_data"
    },
    {
     "name": "stdout",
     "output_type": "stream",
     "text": [
      ".# 0.07, 0.9, 1e-05, [200, 50, 30, 30]   0.7132844517520516 0.2444164820052426\n",
      ".# 0.07, 0.9, 1e-05, [200, 50, 30, 30]   0.6101115961860657 0.27089494710912176\n",
      "\n",
      ">>>>> Data Quake_10x_Limb_Muscle\n",
      "SCZI  0.9610559204789085\n",
      "(3909, 23341) (3909, 23341) keeping 1500 genes\n"
     ]
    },
    {
     "data": {
      "application/vnd.jupyter.widget-view+json": {
       "model_id": "2ef6f2270baa479595d6bf11bcb58ef8",
       "version_major": 2,
       "version_minor": 0
      },
      "text/plain": [
       "HBox(children=(IntProgress(value=0, max=1), HTML(value='')))"
      ]
     },
     "metadata": {},
     "output_type": "display_data"
    },
    {
     "name": "stdout",
     "output_type": "stream",
     "text": [
      ".# 0.07, 0.9, 1e-05, [200, 50, 30, 30]   0.9782620245729247 0.34377713000255644\n",
      ".# 0.07, 0.9, 1e-05, [200, 50, 30, 30]   0.9560158252460624 0.31618603269438667\n",
      "\n",
      ">>>>> Data worm_neuron_cell\n",
      "SCZI  0.05077670288621814\n",
      "(4186, 13488) (4186, 13488) keeping 1500 genes\n"
     ]
    },
    {
     "data": {
      "application/vnd.jupyter.widget-view+json": {
       "model_id": "1b7712491dda40cfb4d74886d155db63",
       "version_major": 2,
       "version_minor": 0
      },
      "text/plain": [
       "HBox(children=(IntProgress(value=0, max=1), HTML(value='')))"
      ]
     },
     "metadata": {},
     "output_type": "display_data"
    },
    {
     "name": "stdout",
     "output_type": "stream",
     "text": [
      ".# 0.07, 0.9, 1e-05, [200, 50, 30, 30]   0.254885330644983 0.18423611634410286\n",
      ".# 0.07, 0.9, 1e-05, [200, 50, 30, 30]   0.3438261558589851 0.22372968424093237\n",
      "\n",
      ">>>>> Data mouse_bladder_cell\n",
      "SCZI  0.4148792388055975\n",
      "(2746, 20670) (2746, 20670) keeping 1500 genes\n"
     ]
    },
    {
     "data": {
      "application/vnd.jupyter.widget-view+json": {
       "model_id": "43f6c18682364a718565d35f8284aa70",
       "version_major": 2,
       "version_minor": 0
      },
      "text/plain": [
       "HBox(children=(IntProgress(value=0, max=1), HTML(value='')))"
      ]
     },
     "metadata": {},
     "output_type": "display_data"
    },
    {
     "name": "stdout",
     "output_type": "stream",
     "text": [
      ".# 0.07, 0.9, 1e-05, [200, 50, 30, 30]   0.3971957327897449 0.2961385893109968\n",
      ".# 0.07, 0.9, 1e-05, [200, 50, 30, 30]   0.40125062678002493 0.3872774040642503\n",
      "\n",
      ">>>>> Data Romanov\n",
      "SCZI  0.75405351856634\n",
      "(2881, 21143) (2881, 21143) keeping 1500 genes\n"
     ]
    },
    {
     "data": {
      "application/vnd.jupyter.widget-view+json": {
       "model_id": "ab2324fe61474743b022b2ab145ec0ac",
       "version_major": 2,
       "version_minor": 0
      },
      "text/plain": [
       "HBox(children=(IntProgress(value=0, max=1), HTML(value='')))"
      ]
     },
     "metadata": {},
     "output_type": "display_data"
    },
    {
     "name": "stdout",
     "output_type": "stream",
     "text": [
      ".# 0.07, 0.9, 1e-05, [200, 50, 30, 30]   0.6418633217393935 0.2544621471507065\n",
      ".# 0.07, 0.9, 1e-05, [200, 50, 30, 30]   0.6468437363139586 0.2616669139330125\n",
      "\n",
      ">>>>> Data Quake_Smart-seq2_Limb_Muscle\n",
      "SCZI  0.9736759009464299\n",
      "(1090, 23341) (1090, 23341) keeping 1500 genes\n"
     ]
    },
    {
     "data": {
      "application/vnd.jupyter.widget-view+json": {
       "model_id": "5f258072b66846d0b1145be1539c4352",
       "version_major": 2,
       "version_minor": 0
      },
      "text/plain": [
       "HBox(children=(IntProgress(value=0, max=1), HTML(value='')))"
      ]
     },
     "metadata": {},
     "output_type": "display_data"
    },
    {
     "name": "stdout",
     "output_type": "stream",
     "text": [
      ".# 0.07, 0.9, 1e-05, [200, 50, 30, 30]   0.8971998615975685 0.2615504501965677\n",
      ".# 0.07, 0.9, 1e-05, [200, 50, 30, 30]   0.8467805781508748 0.25396643961433846\n",
      "\n",
      ">>>>> Data Muraro\n",
      "SCZI  0.7246271034758398\n",
      "(2122, 19046) (2122, 19046) keeping 1500 genes\n"
     ]
    },
    {
     "data": {
      "application/vnd.jupyter.widget-view+json": {
       "model_id": "48290eb59aee4ca4baa4584f8c2ee782",
       "version_major": 2,
       "version_minor": 0
      },
      "text/plain": [
       "HBox(children=(IntProgress(value=0, max=1), HTML(value='')))"
      ]
     },
     "metadata": {},
     "output_type": "display_data"
    },
    {
     "name": "stdout",
     "output_type": "stream",
     "text": [
      ".# 0.07, 0.9, 1e-05, [200, 50, 30, 30]   0.9076301114466601 0.3535336455360845\n",
      ".# 0.07, 0.9, 1e-05, [200, 50, 30, 30]   0.7109867368774339 0.2935005548445889\n",
      "\n",
      ">>>>> Data 10X_PBMC\n",
      "SCZI  0.5845649506030623\n",
      "(4271, 16653) (4271, 16653) keeping 1500 genes\n"
     ]
    },
    {
     "data": {
      "application/vnd.jupyter.widget-view+json": {
       "model_id": "988203331bb3423fb33466b408032021",
       "version_major": 2,
       "version_minor": 0
      },
      "text/plain": [
       "HBox(children=(IntProgress(value=0, max=1), HTML(value='')))"
      ]
     },
     "metadata": {},
     "output_type": "display_data"
    },
    {
     "name": "stdout",
     "output_type": "stream",
     "text": [
      ".# 0.07, 0.9, 1e-05, [200, 50, 30, 30]   0.7409118792627759 0.3522846724823673\n",
      ".# 0.07, 0.9, 1e-05, [200, 50, 30, 30]   0.7464812091597185 0.3759828741365159\n",
      "\n",
      ">>>>> Data Quake_10x_Spleen\n",
      "SCZI  0.909534824400645\n",
      "(9552, 23341) (9552, 23341) keeping 1500 genes\n"
     ]
    },
    {
     "data": {
      "application/vnd.jupyter.widget-view+json": {
       "model_id": "92ba1828c3a040f6a29fcd8734297aed",
       "version_major": 2,
       "version_minor": 0
      },
      "text/plain": [
       "HBox(children=(IntProgress(value=0, max=1), HTML(value='')))"
      ]
     },
     "metadata": {},
     "output_type": "display_data"
    },
    {
     "name": "stdout",
     "output_type": "stream",
     "text": [
      ".# 0.07, 0.9, 1e-05, [200, 50, 30, 30]   0.32400752059297894 0.07602743914339455\n",
      ".# 0.07, 0.9, 1e-05, [200, 50, 30, 30]   0.49399426540475305 0.07878759558253717\n",
      "\n"
     ]
    }
   ],
   "source": [
    "# df = pd.DataFrame()\n",
    "\n",
    "for dataset in files:\n",
    "\n",
    "    print(f\">>>>> Data {dataset}\")\n",
    "    print(\"SCZI \", sczi[sczi[\"dataset\"] == dataset][\"ARI\"].mean())\n",
    "    data_mat = h5py.File(f\"{path}real_data/{dataset}.h5\", \"r\")\n",
    "    X = np.array(data_mat['X'])\n",
    "    Y = np.array(data_mat['Y'])\n",
    "\n",
    "    cluster_number = np.unique(Y).shape[0]\n",
    "    nb_genes = 1500\n",
    "    data_mat = h5py.File(f\"{path}real_data/{dataset}.h5\", \"r\")\n",
    "    X = np.array(data_mat['X'])\n",
    "    Y = np.array(data_mat['Y'])\n",
    "\n",
    "    X = train.preprocess(X, nb_genes=nb_genes)\n",
    "    for temperature in tqdm([0.07,#0.01,\n",
    "                             #  0.5,\n",
    "                            ]):\n",
    "        for dropout in [ 0.9,\n",
    "#                         0.8, 0.2, 0.5 \n",
    "                       ]:\n",
    "            for lr in [1e-5\n",
    "                       #, 1e-4, 1e-6\n",
    "                      ]:\n",
    "                for layers in [\n",
    "                    [200, 50, 30, 30]\n",
    "                    #[40], [50], [100, 10]\n",
    "                    #[60], [50, 50], [150, 50]\n",
    "#                     [15], [30]\n",
    "                   # [100], [200]\n",
    "#                     [50],[100, 30],  [200, 100, 30],  [200, 100, 30, 30]\n",
    "                              ]:\n",
    "                    for run in range(2):\n",
    "                        torch.manual_seed(run)\n",
    "                        torch.cuda.manual_seed_all(run)\n",
    "                        np.random.seed(run)\n",
    "                        random.seed(run)\n",
    "                        torch.backends.cudnn.deterministic = True\n",
    "                        torch.backends.cudnn.benchmark = False\n",
    "                        dresults = train.run(X,\n",
    "                                             cluster_number,\n",
    "                                             dataset,\n",
    "                                             Y=Y,\n",
    "                                             nb_epochs=20,\n",
    "                                             lr=lr,\n",
    "                                             temperature=temperature,\n",
    "                                             dropout=dropout,\n",
    "                                             evaluate=False,\n",
    "                                             n_ensemble=1,\n",
    "                                             layers=layers,\n",
    "                                             save_to=f\"{path}output/real_data/{run}/\",\n",
    "                                             save_pred = False)\n",
    "                        dresults[\"temperature\"] = temperature\n",
    "                        dresults[\"dropout\"] = dropout\n",
    "                        dresults[\"lr\"] = lr\n",
    "                        dresults[\"layers\"] = str(layers)\n",
    "                        dresults[\"run\"] = run\n",
    "                        print(f\".\", end = \"\")\n",
    "                        print(f\"# {temperature}, {dropout}, {lr}, {layers}\", \n",
    "                              dresults.get('COMBINED_kmeans_ari', \"\"),\n",
    "                              dresults.get('COMBINED_leiden_ari', \"\"), dresults.get('kmeans_ari_0',\"\"),\n",
    "                              dresults.get('leiden_ari_0', \"\"))\n",
    "                        df = df.append(dresults, ignore_index=True)\n",
    "\n",
    "                        df.to_pickle(f\"{path}output/pickle_results/real_data/real_data_1model.pkl\")"
   ]
  },
  {
   "cell_type": "code",
   "execution_count": 83,
   "metadata": {},
   "outputs": [],
   "source": [
    "files = [\n",
    "    'Quake_Smart-seq2_Trachea',\n",
    "    'Quake_Smart-seq2_Diaphragm',\n",
    "    'Young',\n",
    "#     '10X_PBMC_select_2100',\n",
    "    'mouse_ES_cell',\n",
    "    'Adam',\n",
    "    'Quake_10x_Bladder',\n",
    "    'Quake_Smart-seq2_Lung',\n",
    "#     'worm_neuron_cell_select_2100',\n",
    "    'Quake_10x_Limb_Muscle',\n",
    "    'worm_neuron_cell',\n",
    "    'mouse_bladder_cell',\n",
    "#     'mouse_ES_cell_select_2100',\n",
    "    'Romanov',\n",
    "    'Quake_Smart-seq2_Limb_Muscle',\n",
    "    'Muraro',\n",
    "#     'mouse_bladder_cell_select_2100',\n",
    "    '10X_PBMC',\n",
    "    'Quake_10x_Spleen',\n",
    "]"
   ]
  },
  {
   "cell_type": "code",
   "execution_count": 84,
   "metadata": {},
   "outputs": [
    {
     "data": {
      "text/plain": [
       "ARI       0.745684\n",
       "NMI       0.777119\n",
       "sil       0.070277\n",
       "run       1.000000\n",
       "time    195.854597\n",
       "dtype: float64"
      ]
     },
     "execution_count": 84,
     "metadata": {},
     "output_type": "execute_result"
    }
   ],
   "source": [
    "sczi = pd.read_pickle(f\"../output/pickle_results/real_data/real_data_sczi.pkl\")\n",
    "sczi = sczi[sczi[\"dataset\"].isin(files)]\n",
    "sczi.mean()"
   ]
  },
  {
   "cell_type": "code",
   "execution_count": 85,
   "metadata": {},
   "outputs": [
    {
     "data": {
      "text/html": [
       "<div>\n",
       "<style scoped>\n",
       "    .dataframe tbody tr th:only-of-type {\n",
       "        vertical-align: middle;\n",
       "    }\n",
       "\n",
       "    .dataframe tbody tr th {\n",
       "        vertical-align: top;\n",
       "    }\n",
       "\n",
       "    .dataframe thead tr th {\n",
       "        text-align: left;\n",
       "    }\n",
       "\n",
       "    .dataframe thead tr:last-of-type th {\n",
       "        text-align: right;\n",
       "    }\n",
       "</style>\n",
       "<table border=\"1\" class=\"dataframe\">\n",
       "  <thead>\n",
       "    <tr>\n",
       "      <th></th>\n",
       "      <th>layers</th>\n",
       "      <th colspan=\"3\" halign=\"left\">[100, 30]</th>\n",
       "      <th>[100]</th>\n",
       "      <th>[150, 50]</th>\n",
       "      <th>[15]</th>\n",
       "      <th colspan=\"3\" halign=\"left\">[200, 100, 30, 30]</th>\n",
       "      <th colspan=\"3\" halign=\"left\">[200, 100, 30]</th>\n",
       "      <th>[200]</th>\n",
       "      <th>[30]</th>\n",
       "      <th>[40]</th>\n",
       "      <th>[50, 50]</th>\n",
       "      <th colspan=\"3\" halign=\"left\">[50]</th>\n",
       "      <th>[60]</th>\n",
       "      <th>[200, 50, 30, 30]</th>\n",
       "    </tr>\n",
       "    <tr>\n",
       "      <th></th>\n",
       "      <th>lr</th>\n",
       "      <th>0.000001</th>\n",
       "      <th>0.000010</th>\n",
       "      <th>0.000100</th>\n",
       "      <th>0.000010</th>\n",
       "      <th>0.000010</th>\n",
       "      <th>0.000010</th>\n",
       "      <th>0.000001</th>\n",
       "      <th>0.000010</th>\n",
       "      <th>0.000100</th>\n",
       "      <th>0.000001</th>\n",
       "      <th>...</th>\n",
       "      <th>0.000100</th>\n",
       "      <th>0.000010</th>\n",
       "      <th>0.000010</th>\n",
       "      <th>0.000010</th>\n",
       "      <th>0.000010</th>\n",
       "      <th>0.000001</th>\n",
       "      <th>0.000010</th>\n",
       "      <th>0.000100</th>\n",
       "      <th>0.000010</th>\n",
       "      <th>0.000010</th>\n",
       "    </tr>\n",
       "    <tr>\n",
       "      <th>temperature</th>\n",
       "      <th>dropout</th>\n",
       "      <th></th>\n",
       "      <th></th>\n",
       "      <th></th>\n",
       "      <th></th>\n",
       "      <th></th>\n",
       "      <th></th>\n",
       "      <th></th>\n",
       "      <th></th>\n",
       "      <th></th>\n",
       "      <th></th>\n",
       "      <th></th>\n",
       "      <th></th>\n",
       "      <th></th>\n",
       "      <th></th>\n",
       "      <th></th>\n",
       "      <th></th>\n",
       "      <th></th>\n",
       "      <th></th>\n",
       "      <th></th>\n",
       "      <th></th>\n",
       "      <th></th>\n",
       "    </tr>\n",
       "  </thead>\n",
       "  <tbody>\n",
       "    <tr>\n",
       "      <th rowspan=\"4\" valign=\"top\">0.01</th>\n",
       "      <th>0.2</th>\n",
       "      <td>0.524274</td>\n",
       "      <td>0.524274</td>\n",
       "      <td>0.524274</td>\n",
       "      <td>NaN</td>\n",
       "      <td>NaN</td>\n",
       "      <td>NaN</td>\n",
       "      <td>0.451915</td>\n",
       "      <td>0.451915</td>\n",
       "      <td>0.451915</td>\n",
       "      <td>0.481480</td>\n",
       "      <td>...</td>\n",
       "      <td>0.481480</td>\n",
       "      <td>NaN</td>\n",
       "      <td>NaN</td>\n",
       "      <td>NaN</td>\n",
       "      <td>NaN</td>\n",
       "      <td>0.567312</td>\n",
       "      <td>0.567312</td>\n",
       "      <td>0.567312</td>\n",
       "      <td>NaN</td>\n",
       "      <td>NaN</td>\n",
       "    </tr>\n",
       "    <tr>\n",
       "      <th>0.5</th>\n",
       "      <td>0.570251</td>\n",
       "      <td>0.570251</td>\n",
       "      <td>0.570251</td>\n",
       "      <td>NaN</td>\n",
       "      <td>NaN</td>\n",
       "      <td>NaN</td>\n",
       "      <td>0.534844</td>\n",
       "      <td>0.534844</td>\n",
       "      <td>0.534844</td>\n",
       "      <td>0.529357</td>\n",
       "      <td>...</td>\n",
       "      <td>0.529357</td>\n",
       "      <td>NaN</td>\n",
       "      <td>NaN</td>\n",
       "      <td>NaN</td>\n",
       "      <td>NaN</td>\n",
       "      <td>0.615307</td>\n",
       "      <td>0.615307</td>\n",
       "      <td>0.615307</td>\n",
       "      <td>NaN</td>\n",
       "      <td>NaN</td>\n",
       "    </tr>\n",
       "    <tr>\n",
       "      <th>0.8</th>\n",
       "      <td>0.674296</td>\n",
       "      <td>0.674296</td>\n",
       "      <td>0.674296</td>\n",
       "      <td>NaN</td>\n",
       "      <td>NaN</td>\n",
       "      <td>NaN</td>\n",
       "      <td>0.654329</td>\n",
       "      <td>0.654329</td>\n",
       "      <td>0.654329</td>\n",
       "      <td>0.661415</td>\n",
       "      <td>...</td>\n",
       "      <td>0.661415</td>\n",
       "      <td>NaN</td>\n",
       "      <td>NaN</td>\n",
       "      <td>NaN</td>\n",
       "      <td>NaN</td>\n",
       "      <td>0.698723</td>\n",
       "      <td>0.698723</td>\n",
       "      <td>0.698723</td>\n",
       "      <td>NaN</td>\n",
       "      <td>NaN</td>\n",
       "    </tr>\n",
       "    <tr>\n",
       "      <th>0.9</th>\n",
       "      <td>0.677789</td>\n",
       "      <td>0.677789</td>\n",
       "      <td>0.677789</td>\n",
       "      <td>0.680657</td>\n",
       "      <td>0.663639</td>\n",
       "      <td>0.689687</td>\n",
       "      <td>0.643847</td>\n",
       "      <td>0.643847</td>\n",
       "      <td>0.643847</td>\n",
       "      <td>0.667104</td>\n",
       "      <td>...</td>\n",
       "      <td>0.667104</td>\n",
       "      <td>0.682787</td>\n",
       "      <td>0.7129</td>\n",
       "      <td>0.727612</td>\n",
       "      <td>0.65751</td>\n",
       "      <td>0.727378</td>\n",
       "      <td>0.727378</td>\n",
       "      <td>0.727378</td>\n",
       "      <td>0.717785</td>\n",
       "      <td>NaN</td>\n",
       "    </tr>\n",
       "    <tr>\n",
       "      <th rowspan=\"4\" valign=\"top\">0.07</th>\n",
       "      <th>0.2</th>\n",
       "      <td>0.264483</td>\n",
       "      <td>0.264483</td>\n",
       "      <td>0.264483</td>\n",
       "      <td>NaN</td>\n",
       "      <td>NaN</td>\n",
       "      <td>NaN</td>\n",
       "      <td>0.204349</td>\n",
       "      <td>0.204349</td>\n",
       "      <td>0.204349</td>\n",
       "      <td>0.215987</td>\n",
       "      <td>...</td>\n",
       "      <td>0.215987</td>\n",
       "      <td>NaN</td>\n",
       "      <td>NaN</td>\n",
       "      <td>NaN</td>\n",
       "      <td>NaN</td>\n",
       "      <td>0.296180</td>\n",
       "      <td>0.296180</td>\n",
       "      <td>0.296180</td>\n",
       "      <td>NaN</td>\n",
       "      <td>NaN</td>\n",
       "    </tr>\n",
       "    <tr>\n",
       "      <th>0.5</th>\n",
       "      <td>0.477184</td>\n",
       "      <td>0.477184</td>\n",
       "      <td>0.477184</td>\n",
       "      <td>NaN</td>\n",
       "      <td>NaN</td>\n",
       "      <td>NaN</td>\n",
       "      <td>0.404540</td>\n",
       "      <td>0.404540</td>\n",
       "      <td>0.404540</td>\n",
       "      <td>0.417108</td>\n",
       "      <td>...</td>\n",
       "      <td>0.417108</td>\n",
       "      <td>NaN</td>\n",
       "      <td>NaN</td>\n",
       "      <td>NaN</td>\n",
       "      <td>NaN</td>\n",
       "      <td>0.496578</td>\n",
       "      <td>0.496578</td>\n",
       "      <td>0.496578</td>\n",
       "      <td>NaN</td>\n",
       "      <td>NaN</td>\n",
       "    </tr>\n",
       "    <tr>\n",
       "      <th>0.8</th>\n",
       "      <td>0.629684</td>\n",
       "      <td>0.629684</td>\n",
       "      <td>0.629684</td>\n",
       "      <td>NaN</td>\n",
       "      <td>NaN</td>\n",
       "      <td>NaN</td>\n",
       "      <td>0.652421</td>\n",
       "      <td>0.652421</td>\n",
       "      <td>0.652421</td>\n",
       "      <td>0.646977</td>\n",
       "      <td>...</td>\n",
       "      <td>0.646977</td>\n",
       "      <td>NaN</td>\n",
       "      <td>NaN</td>\n",
       "      <td>NaN</td>\n",
       "      <td>NaN</td>\n",
       "      <td>0.608322</td>\n",
       "      <td>0.608322</td>\n",
       "      <td>0.608322</td>\n",
       "      <td>NaN</td>\n",
       "      <td>NaN</td>\n",
       "    </tr>\n",
       "    <tr>\n",
       "      <th>0.9</th>\n",
       "      <td>0.681896</td>\n",
       "      <td>0.681896</td>\n",
       "      <td>0.681896</td>\n",
       "      <td>NaN</td>\n",
       "      <td>NaN</td>\n",
       "      <td>NaN</td>\n",
       "      <td>0.692540</td>\n",
       "      <td>0.692540</td>\n",
       "      <td>0.692540</td>\n",
       "      <td>0.669458</td>\n",
       "      <td>...</td>\n",
       "      <td>0.669458</td>\n",
       "      <td>NaN</td>\n",
       "      <td>NaN</td>\n",
       "      <td>NaN</td>\n",
       "      <td>NaN</td>\n",
       "      <td>0.674843</td>\n",
       "      <td>0.674843</td>\n",
       "      <td>0.674843</td>\n",
       "      <td>NaN</td>\n",
       "      <td>0.670336</td>\n",
       "    </tr>\n",
       "    <tr>\n",
       "      <th rowspan=\"4\" valign=\"top\">0.50</th>\n",
       "      <th>0.2</th>\n",
       "      <td>0.432845</td>\n",
       "      <td>0.432845</td>\n",
       "      <td>0.432845</td>\n",
       "      <td>NaN</td>\n",
       "      <td>NaN</td>\n",
       "      <td>NaN</td>\n",
       "      <td>0.390310</td>\n",
       "      <td>0.390310</td>\n",
       "      <td>0.390310</td>\n",
       "      <td>0.423810</td>\n",
       "      <td>...</td>\n",
       "      <td>0.423810</td>\n",
       "      <td>NaN</td>\n",
       "      <td>NaN</td>\n",
       "      <td>NaN</td>\n",
       "      <td>NaN</td>\n",
       "      <td>0.512382</td>\n",
       "      <td>0.512382</td>\n",
       "      <td>0.512382</td>\n",
       "      <td>NaN</td>\n",
       "      <td>NaN</td>\n",
       "    </tr>\n",
       "    <tr>\n",
       "      <th>0.5</th>\n",
       "      <td>0.489099</td>\n",
       "      <td>0.489099</td>\n",
       "      <td>0.489099</td>\n",
       "      <td>NaN</td>\n",
       "      <td>NaN</td>\n",
       "      <td>NaN</td>\n",
       "      <td>0.469344</td>\n",
       "      <td>0.469344</td>\n",
       "      <td>0.469344</td>\n",
       "      <td>0.497755</td>\n",
       "      <td>...</td>\n",
       "      <td>0.497755</td>\n",
       "      <td>NaN</td>\n",
       "      <td>NaN</td>\n",
       "      <td>NaN</td>\n",
       "      <td>NaN</td>\n",
       "      <td>0.574819</td>\n",
       "      <td>0.574819</td>\n",
       "      <td>0.574819</td>\n",
       "      <td>NaN</td>\n",
       "      <td>NaN</td>\n",
       "    </tr>\n",
       "    <tr>\n",
       "      <th>0.8</th>\n",
       "      <td>0.568992</td>\n",
       "      <td>0.568992</td>\n",
       "      <td>0.568992</td>\n",
       "      <td>NaN</td>\n",
       "      <td>NaN</td>\n",
       "      <td>NaN</td>\n",
       "      <td>0.558698</td>\n",
       "      <td>0.558698</td>\n",
       "      <td>0.558698</td>\n",
       "      <td>0.572472</td>\n",
       "      <td>...</td>\n",
       "      <td>0.572472</td>\n",
       "      <td>NaN</td>\n",
       "      <td>NaN</td>\n",
       "      <td>NaN</td>\n",
       "      <td>NaN</td>\n",
       "      <td>0.650896</td>\n",
       "      <td>0.650896</td>\n",
       "      <td>0.650896</td>\n",
       "      <td>NaN</td>\n",
       "      <td>NaN</td>\n",
       "    </tr>\n",
       "    <tr>\n",
       "      <th>0.9</th>\n",
       "      <td>0.657019</td>\n",
       "      <td>0.657019</td>\n",
       "      <td>0.657019</td>\n",
       "      <td>NaN</td>\n",
       "      <td>NaN</td>\n",
       "      <td>NaN</td>\n",
       "      <td>0.655065</td>\n",
       "      <td>0.655065</td>\n",
       "      <td>0.655065</td>\n",
       "      <td>0.646682</td>\n",
       "      <td>...</td>\n",
       "      <td>0.646682</td>\n",
       "      <td>NaN</td>\n",
       "      <td>NaN</td>\n",
       "      <td>NaN</td>\n",
       "      <td>NaN</td>\n",
       "      <td>0.682317</td>\n",
       "      <td>0.682317</td>\n",
       "      <td>0.682317</td>\n",
       "      <td>NaN</td>\n",
       "      <td>NaN</td>\n",
       "    </tr>\n",
       "  </tbody>\n",
       "</table>\n",
       "<p>12 rows × 21 columns</p>\n",
       "</div>"
      ],
      "text/plain": [
       "layers              [100, 30]                         [100] [150, 50]  \\\n",
       "lr                   0.000001  0.000010  0.000100  0.000010  0.000010   \n",
       "temperature dropout                                                     \n",
       "0.01        0.2      0.524274  0.524274  0.524274       NaN       NaN   \n",
       "            0.5      0.570251  0.570251  0.570251       NaN       NaN   \n",
       "            0.8      0.674296  0.674296  0.674296       NaN       NaN   \n",
       "            0.9      0.677789  0.677789  0.677789  0.680657  0.663639   \n",
       "0.07        0.2      0.264483  0.264483  0.264483       NaN       NaN   \n",
       "            0.5      0.477184  0.477184  0.477184       NaN       NaN   \n",
       "            0.8      0.629684  0.629684  0.629684       NaN       NaN   \n",
       "            0.9      0.681896  0.681896  0.681896       NaN       NaN   \n",
       "0.50        0.2      0.432845  0.432845  0.432845       NaN       NaN   \n",
       "            0.5      0.489099  0.489099  0.489099       NaN       NaN   \n",
       "            0.8      0.568992  0.568992  0.568992       NaN       NaN   \n",
       "            0.9      0.657019  0.657019  0.657019       NaN       NaN   \n",
       "\n",
       "layers                   [15] [200, 100, 30, 30]                      \\\n",
       "lr                   0.000010           0.000001  0.000010  0.000100   \n",
       "temperature dropout                                                    \n",
       "0.01        0.2           NaN           0.451915  0.451915  0.451915   \n",
       "            0.5           NaN           0.534844  0.534844  0.534844   \n",
       "            0.8           NaN           0.654329  0.654329  0.654329   \n",
       "            0.9      0.689687           0.643847  0.643847  0.643847   \n",
       "0.07        0.2           NaN           0.204349  0.204349  0.204349   \n",
       "            0.5           NaN           0.404540  0.404540  0.404540   \n",
       "            0.8           NaN           0.652421  0.652421  0.652421   \n",
       "            0.9           NaN           0.692540  0.692540  0.692540   \n",
       "0.50        0.2           NaN           0.390310  0.390310  0.390310   \n",
       "            0.5           NaN           0.469344  0.469344  0.469344   \n",
       "            0.8           NaN           0.558698  0.558698  0.558698   \n",
       "            0.9           NaN           0.655065  0.655065  0.655065   \n",
       "\n",
       "layers              [200, 100, 30]  ...               [200]     [30]  \\\n",
       "lr                        0.000001  ...  0.000100  0.000010 0.000010   \n",
       "temperature dropout                 ...                                \n",
       "0.01        0.2           0.481480  ...  0.481480       NaN      NaN   \n",
       "            0.5           0.529357  ...  0.529357       NaN      NaN   \n",
       "            0.8           0.661415  ...  0.661415       NaN      NaN   \n",
       "            0.9           0.667104  ...  0.667104  0.682787   0.7129   \n",
       "0.07        0.2           0.215987  ...  0.215987       NaN      NaN   \n",
       "            0.5           0.417108  ...  0.417108       NaN      NaN   \n",
       "            0.8           0.646977  ...  0.646977       NaN      NaN   \n",
       "            0.9           0.669458  ...  0.669458       NaN      NaN   \n",
       "0.50        0.2           0.423810  ...  0.423810       NaN      NaN   \n",
       "            0.5           0.497755  ...  0.497755       NaN      NaN   \n",
       "            0.8           0.572472  ...  0.572472       NaN      NaN   \n",
       "            0.9           0.646682  ...  0.646682       NaN      NaN   \n",
       "\n",
       "layers                   [40] [50, 50]      [50]                      \\\n",
       "lr                   0.000010 0.000010  0.000001  0.000010  0.000100   \n",
       "temperature dropout                                                    \n",
       "0.01        0.2           NaN      NaN  0.567312  0.567312  0.567312   \n",
       "            0.5           NaN      NaN  0.615307  0.615307  0.615307   \n",
       "            0.8           NaN      NaN  0.698723  0.698723  0.698723   \n",
       "            0.9      0.727612  0.65751  0.727378  0.727378  0.727378   \n",
       "0.07        0.2           NaN      NaN  0.296180  0.296180  0.296180   \n",
       "            0.5           NaN      NaN  0.496578  0.496578  0.496578   \n",
       "            0.8           NaN      NaN  0.608322  0.608322  0.608322   \n",
       "            0.9           NaN      NaN  0.674843  0.674843  0.674843   \n",
       "0.50        0.2           NaN      NaN  0.512382  0.512382  0.512382   \n",
       "            0.5           NaN      NaN  0.574819  0.574819  0.574819   \n",
       "            0.8           NaN      NaN  0.650896  0.650896  0.650896   \n",
       "            0.9           NaN      NaN  0.682317  0.682317  0.682317   \n",
       "\n",
       "layers                   [60] [200, 50, 30, 30]  \n",
       "lr                   0.000010          0.000010  \n",
       "temperature dropout                              \n",
       "0.01        0.2           NaN               NaN  \n",
       "            0.5           NaN               NaN  \n",
       "            0.8           NaN               NaN  \n",
       "            0.9      0.717785               NaN  \n",
       "0.07        0.2           NaN               NaN  \n",
       "            0.5           NaN               NaN  \n",
       "            0.8           NaN               NaN  \n",
       "            0.9           NaN          0.670336  \n",
       "0.50        0.2           NaN               NaN  \n",
       "            0.5           NaN               NaN  \n",
       "            0.8           NaN               NaN  \n",
       "            0.9           NaN               NaN  \n",
       "\n",
       "[12 rows x 21 columns]"
      ]
     },
     "execution_count": 85,
     "metadata": {},
     "output_type": "execute_result"
    }
   ],
   "source": [
    "df = pd.read_pickle(f\"../output/pickle_results/real_data/real_data_1model.pkl\")\n",
    "df = df[df[\"dataset\"].isin(files)]\n",
    "df.groupby([\"temperature\", \"layers\", \"dropout\", \"lr\"])[\"kmeans_ari_0\"].mean().unstack([\"layers\", \"lr\"])"
   ]
  },
  {
   "cell_type": "code",
   "execution_count": 86,
   "metadata": {},
   "outputs": [
    {
     "data": {
      "text/plain": [
       "layers              lr      \n",
       "[100, 30]           0.000001    0.681896\n",
       "                    0.000010    0.681896\n",
       "                    0.000100    0.681896\n",
       "[100]               0.000010    0.680657\n",
       "[150, 50]           0.000010    0.663639\n",
       "[15]                0.000010    0.689687\n",
       "[200, 100, 30, 30]  0.000001    0.692540\n",
       "                    0.000010    0.692540\n",
       "                    0.000100    0.692540\n",
       "[200, 100, 30]      0.000001    0.669458\n",
       "                    0.000010    0.669458\n",
       "                    0.000100    0.669458\n",
       "[200]               0.000010    0.682787\n",
       "[30]                0.000010    0.712900\n",
       "[40]                0.000010    0.727612\n",
       "[50, 50]            0.000010    0.657510\n",
       "[50]                0.000001    0.727378\n",
       "                    0.000010    0.727378\n",
       "                    0.000100    0.727378\n",
       "[60]                0.000010    0.717785\n",
       "[200, 50, 30, 30]   0.000010    0.670336\n",
       "dtype: float64"
      ]
     },
     "execution_count": 86,
     "metadata": {},
     "output_type": "execute_result"
    }
   ],
   "source": [
    "# df = pd.read_pickle(f\"../output/pickle_results/real_data/real_data_1model.pkl\")\n",
    "df.groupby([\"temperature\", \"layers\", \"dropout\", \"lr\"])[\"kmeans_ari_0\"].mean().unstack([\"layers\", \"lr\"]).max()"
   ]
  },
  {
   "cell_type": "code",
   "execution_count": 87,
   "metadata": {},
   "outputs": [
    {
     "data": {
      "text/plain": [
       "dropout         0.900000\n",
       "kmeans_ari_0    0.727612\n",
       "kmeans_nmi_0    0.766092\n",
       "leiden_ari_0    0.496925\n",
       "leiden_nmi_0    0.686117\n",
       "lr              0.000010\n",
       "run             0.500000\n",
       "temperature     0.010000\n",
       "dtype: float64"
      ]
     },
     "execution_count": 87,
     "metadata": {},
     "output_type": "execute_result"
    }
   ],
   "source": [
    "r = df[(df[\"layers\"]==\"[40]\")\n",
    "       &(df[\"temperature\"]==0.01)\n",
    "       &(df[\"lr\"]==1e-5)\n",
    "       &(df[\"dropout\"]==0.9)\n",
    "      ]\n",
    "\n",
    "\n",
    "r.mean()"
   ]
  },
  {
   "cell_type": "code",
   "execution_count": 110,
   "metadata": {},
   "outputs": [
    {
     "data": {
      "text/html": [
       "<div>\n",
       "<style scoped>\n",
       "    .dataframe tbody tr th:only-of-type {\n",
       "        vertical-align: middle;\n",
       "    }\n",
       "\n",
       "    .dataframe tbody tr th {\n",
       "        vertical-align: top;\n",
       "    }\n",
       "\n",
       "    .dataframe thead th {\n",
       "        text-align: right;\n",
       "    }\n",
       "</style>\n",
       "<table border=\"1\" class=\"dataframe\">\n",
       "  <thead>\n",
       "    <tr style=\"text-align: right;\">\n",
       "      <th></th>\n",
       "      <th>dataset</th>\n",
       "      <th>contrative-sc</th>\n",
       "      <th>sczi</th>\n",
       "      <th>kmeans_nmi_0</th>\n",
       "      <th>NMI</th>\n",
       "    </tr>\n",
       "  </thead>\n",
       "  <tbody>\n",
       "    <tr>\n",
       "      <th>0</th>\n",
       "      <td>Quake_Smart-seq2_Trachea</td>\n",
       "      <td>0.864633</td>\n",
       "      <td>0.826206</td>\n",
       "      <td>0.820732</td>\n",
       "      <td>0.73851</td>\n",
       "    </tr>\n",
       "    <tr>\n",
       "      <th>1</th>\n",
       "      <td>Quake_Smart-seq2_Trachea</td>\n",
       "      <td>0.885417</td>\n",
       "      <td>0.845888</td>\n",
       "      <td>0.848186</td>\n",
       "      <td>0.73748</td>\n",
       "    </tr>\n",
       "    <tr>\n",
       "      <th>2</th>\n",
       "      <td>Quake_Smart-seq2_Diaphragm</td>\n",
       "      <td>0.975859</td>\n",
       "      <td>0.961073</td>\n",
       "      <td>0.950715</td>\n",
       "      <td>0.93895</td>\n",
       "    </tr>\n",
       "    <tr>\n",
       "      <th>3</th>\n",
       "      <td>Quake_Smart-seq2_Diaphragm</td>\n",
       "      <td>0.877166</td>\n",
       "      <td>0.956542</td>\n",
       "      <td>0.855770</td>\n",
       "      <td>0.93237</td>\n",
       "    </tr>\n",
       "    <tr>\n",
       "      <th>4</th>\n",
       "      <td>Young</td>\n",
       "      <td>0.604013</td>\n",
       "      <td>0.646177</td>\n",
       "      <td>0.744630</td>\n",
       "      <td>0.75032</td>\n",
       "    </tr>\n",
       "    <tr>\n",
       "      <th>5</th>\n",
       "      <td>Young</td>\n",
       "      <td>0.605698</td>\n",
       "      <td>0.703424</td>\n",
       "      <td>0.742031</td>\n",
       "      <td>0.79146</td>\n",
       "    </tr>\n",
       "    <tr>\n",
       "      <th>6</th>\n",
       "      <td>mouse_ES_cell</td>\n",
       "      <td>0.776183</td>\n",
       "      <td>0.795678</td>\n",
       "      <td>0.770708</td>\n",
       "      <td>0.77456</td>\n",
       "    </tr>\n",
       "    <tr>\n",
       "      <th>7</th>\n",
       "      <td>mouse_ES_cell</td>\n",
       "      <td>0.756015</td>\n",
       "      <td>0.795172</td>\n",
       "      <td>0.753456</td>\n",
       "      <td>0.77568</td>\n",
       "    </tr>\n",
       "    <tr>\n",
       "      <th>8</th>\n",
       "      <td>Adam</td>\n",
       "      <td>0.690094</td>\n",
       "      <td>0.866586</td>\n",
       "      <td>0.757804</td>\n",
       "      <td>0.85485</td>\n",
       "    </tr>\n",
       "    <tr>\n",
       "      <th>9</th>\n",
       "      <td>Adam</td>\n",
       "      <td>0.686803</td>\n",
       "      <td>0.870227</td>\n",
       "      <td>0.753074</td>\n",
       "      <td>0.86695</td>\n",
       "    </tr>\n",
       "    <tr>\n",
       "      <th>10</th>\n",
       "      <td>Quake_10x_Bladder</td>\n",
       "      <td>0.759248</td>\n",
       "      <td>0.986829</td>\n",
       "      <td>0.811447</td>\n",
       "      <td>0.97206</td>\n",
       "    </tr>\n",
       "    <tr>\n",
       "      <th>11</th>\n",
       "      <td>Quake_10x_Bladder</td>\n",
       "      <td>0.759373</td>\n",
       "      <td>0.983091</td>\n",
       "      <td>0.810778</td>\n",
       "      <td>0.96614</td>\n",
       "    </tr>\n",
       "    <tr>\n",
       "      <th>12</th>\n",
       "      <td>Quake_Smart-seq2_Lung</td>\n",
       "      <td>0.614422</td>\n",
       "      <td>0.630662</td>\n",
       "      <td>0.765387</td>\n",
       "      <td>0.78781</td>\n",
       "    </tr>\n",
       "    <tr>\n",
       "      <th>13</th>\n",
       "      <td>Quake_Smart-seq2_Lung</td>\n",
       "      <td>0.610107</td>\n",
       "      <td>0.757242</td>\n",
       "      <td>0.764367</td>\n",
       "      <td>0.82762</td>\n",
       "    </tr>\n",
       "    <tr>\n",
       "      <th>14</th>\n",
       "      <td>Quake_10x_Limb_Muscle</td>\n",
       "      <td>0.894087</td>\n",
       "      <td>0.972444</td>\n",
       "      <td>0.889618</td>\n",
       "      <td>0.94381</td>\n",
       "    </tr>\n",
       "    <tr>\n",
       "      <th>15</th>\n",
       "      <td>Quake_10x_Limb_Muscle</td>\n",
       "      <td>0.895542</td>\n",
       "      <td>0.971937</td>\n",
       "      <td>0.893221</td>\n",
       "      <td>0.94853</td>\n",
       "    </tr>\n",
       "    <tr>\n",
       "      <th>16</th>\n",
       "      <td>worm_neuron_cell</td>\n",
       "      <td>0.241306</td>\n",
       "      <td>0.061056</td>\n",
       "      <td>0.388805</td>\n",
       "      <td>0.26656</td>\n",
       "    </tr>\n",
       "    <tr>\n",
       "      <th>17</th>\n",
       "      <td>worm_neuron_cell</td>\n",
       "      <td>0.281925</td>\n",
       "      <td>0.043886</td>\n",
       "      <td>0.404526</td>\n",
       "      <td>0.19960</td>\n",
       "    </tr>\n",
       "    <tr>\n",
       "      <th>18</th>\n",
       "      <td>mouse_bladder_cell</td>\n",
       "      <td>0.397821</td>\n",
       "      <td>0.425457</td>\n",
       "      <td>0.646084</td>\n",
       "      <td>0.65129</td>\n",
       "    </tr>\n",
       "    <tr>\n",
       "      <th>19</th>\n",
       "      <td>mouse_bladder_cell</td>\n",
       "      <td>0.407436</td>\n",
       "      <td>0.383521</td>\n",
       "      <td>0.654463</td>\n",
       "      <td>0.63764</td>\n",
       "    </tr>\n",
       "    <tr>\n",
       "      <th>20</th>\n",
       "      <td>Romanov</td>\n",
       "      <td>0.785600</td>\n",
       "      <td>0.758256</td>\n",
       "      <td>0.754108</td>\n",
       "      <td>0.73362</td>\n",
       "    </tr>\n",
       "    <tr>\n",
       "      <th>21</th>\n",
       "      <td>Romanov</td>\n",
       "      <td>0.762823</td>\n",
       "      <td>0.761952</td>\n",
       "      <td>0.723953</td>\n",
       "      <td>0.73178</td>\n",
       "    </tr>\n",
       "    <tr>\n",
       "      <th>22</th>\n",
       "      <td>Quake_Smart-seq2_Limb_Muscle</td>\n",
       "      <td>0.919167</td>\n",
       "      <td>0.971716</td>\n",
       "      <td>0.891268</td>\n",
       "      <td>0.94401</td>\n",
       "    </tr>\n",
       "    <tr>\n",
       "      <th>23</th>\n",
       "      <td>Quake_Smart-seq2_Limb_Muscle</td>\n",
       "      <td>0.903208</td>\n",
       "      <td>0.978862</td>\n",
       "      <td>0.864067</td>\n",
       "      <td>0.96309</td>\n",
       "    </tr>\n",
       "    <tr>\n",
       "      <th>24</th>\n",
       "      <td>Muraro</td>\n",
       "      <td>0.914971</td>\n",
       "      <td>0.666218</td>\n",
       "      <td>0.859534</td>\n",
       "      <td>0.76423</td>\n",
       "    </tr>\n",
       "    <tr>\n",
       "      <th>25</th>\n",
       "      <td>Muraro</td>\n",
       "      <td>0.917631</td>\n",
       "      <td>0.860999</td>\n",
       "      <td>0.865687</td>\n",
       "      <td>0.81546</td>\n",
       "    </tr>\n",
       "    <tr>\n",
       "      <th>26</th>\n",
       "      <td>10X_PBMC</td>\n",
       "      <td>0.652225</td>\n",
       "      <td>0.463359</td>\n",
       "      <td>0.722727</td>\n",
       "      <td>0.65566</td>\n",
       "    </tr>\n",
       "    <tr>\n",
       "      <th>27</th>\n",
       "      <td>10X_PBMC</td>\n",
       "      <td>0.612020</td>\n",
       "      <td>0.618748</td>\n",
       "      <td>0.713554</td>\n",
       "      <td>0.72984</td>\n",
       "    </tr>\n",
       "    <tr>\n",
       "      <th>28</th>\n",
       "      <td>Quake_10x_Spleen</td>\n",
       "      <td>0.907042</td>\n",
       "      <td>0.888779</td>\n",
       "      <td>0.793860</td>\n",
       "      <td>0.81614</td>\n",
       "    </tr>\n",
       "    <tr>\n",
       "      <th>29</th>\n",
       "      <td>Quake_10x_Spleen</td>\n",
       "      <td>0.870532</td>\n",
       "      <td>0.912999</td>\n",
       "      <td>0.768186</td>\n",
       "      <td>0.85188</td>\n",
       "    </tr>\n",
       "  </tbody>\n",
       "</table>\n",
       "</div>"
      ],
      "text/plain": [
       "                         dataset  contrative-sc      sczi  kmeans_nmi_0  \\\n",
       "0       Quake_Smart-seq2_Trachea       0.864633  0.826206      0.820732   \n",
       "1       Quake_Smart-seq2_Trachea       0.885417  0.845888      0.848186   \n",
       "2     Quake_Smart-seq2_Diaphragm       0.975859  0.961073      0.950715   \n",
       "3     Quake_Smart-seq2_Diaphragm       0.877166  0.956542      0.855770   \n",
       "4                          Young       0.604013  0.646177      0.744630   \n",
       "5                          Young       0.605698  0.703424      0.742031   \n",
       "6                  mouse_ES_cell       0.776183  0.795678      0.770708   \n",
       "7                  mouse_ES_cell       0.756015  0.795172      0.753456   \n",
       "8                           Adam       0.690094  0.866586      0.757804   \n",
       "9                           Adam       0.686803  0.870227      0.753074   \n",
       "10             Quake_10x_Bladder       0.759248  0.986829      0.811447   \n",
       "11             Quake_10x_Bladder       0.759373  0.983091      0.810778   \n",
       "12         Quake_Smart-seq2_Lung       0.614422  0.630662      0.765387   \n",
       "13         Quake_Smart-seq2_Lung       0.610107  0.757242      0.764367   \n",
       "14         Quake_10x_Limb_Muscle       0.894087  0.972444      0.889618   \n",
       "15         Quake_10x_Limb_Muscle       0.895542  0.971937      0.893221   \n",
       "16              worm_neuron_cell       0.241306  0.061056      0.388805   \n",
       "17              worm_neuron_cell       0.281925  0.043886      0.404526   \n",
       "18            mouse_bladder_cell       0.397821  0.425457      0.646084   \n",
       "19            mouse_bladder_cell       0.407436  0.383521      0.654463   \n",
       "20                       Romanov       0.785600  0.758256      0.754108   \n",
       "21                       Romanov       0.762823  0.761952      0.723953   \n",
       "22  Quake_Smart-seq2_Limb_Muscle       0.919167  0.971716      0.891268   \n",
       "23  Quake_Smart-seq2_Limb_Muscle       0.903208  0.978862      0.864067   \n",
       "24                        Muraro       0.914971  0.666218      0.859534   \n",
       "25                        Muraro       0.917631  0.860999      0.865687   \n",
       "26                      10X_PBMC       0.652225  0.463359      0.722727   \n",
       "27                      10X_PBMC       0.612020  0.618748      0.713554   \n",
       "28              Quake_10x_Spleen       0.907042  0.888779      0.793860   \n",
       "29              Quake_10x_Spleen       0.870532  0.912999      0.768186   \n",
       "\n",
       "        NMI  \n",
       "0   0.73851  \n",
       "1   0.73748  \n",
       "2   0.93895  \n",
       "3   0.93237  \n",
       "4   0.75032  \n",
       "5   0.79146  \n",
       "6   0.77456  \n",
       "7   0.77568  \n",
       "8   0.85485  \n",
       "9   0.86695  \n",
       "10  0.97206  \n",
       "11  0.96614  \n",
       "12  0.78781  \n",
       "13  0.82762  \n",
       "14  0.94381  \n",
       "15  0.94853  \n",
       "16  0.26656  \n",
       "17  0.19960  \n",
       "18  0.65129  \n",
       "19  0.63764  \n",
       "20  0.73362  \n",
       "21  0.73178  \n",
       "22  0.94401  \n",
       "23  0.96309  \n",
       "24  0.76423  \n",
       "25  0.81546  \n",
       "26  0.65566  \n",
       "27  0.72984  \n",
       "28  0.81614  \n",
       "29  0.85188  "
      ]
     },
     "execution_count": 110,
     "metadata": {},
     "output_type": "execute_result"
    }
   ],
   "source": [
    "comb = pd.merge(r, sczi, on=[\"dataset\", \"run\"])[[\n",
    "    \"dataset\", \"kmeans_ari_0\", \"ARI\", \"kmeans_nmi_0\", \"NMI\"\n",
    "]].rename(columns = {\"kmeans_ari_0\": \"contrative-sc\", \"ARI\": \"sczi\"})\n",
    "comb"
   ]
  },
  {
   "cell_type": "code",
   "execution_count": 111,
   "metadata": {},
   "outputs": [],
   "source": [
    "comb =pd.melt(comb, id_vars=[\"dataset\"], value_vars=[\"contrative-sc\", \"sczi\"])"
   ]
  },
  {
   "cell_type": "code",
   "execution_count": 112,
   "metadata": {},
   "outputs": [
    {
     "data": {
      "text/html": [
       "<div>\n",
       "<style scoped>\n",
       "    .dataframe tbody tr th:only-of-type {\n",
       "        vertical-align: middle;\n",
       "    }\n",
       "\n",
       "    .dataframe tbody tr th {\n",
       "        vertical-align: top;\n",
       "    }\n",
       "\n",
       "    .dataframe thead th {\n",
       "        text-align: right;\n",
       "    }\n",
       "</style>\n",
       "<table border=\"1\" class=\"dataframe\">\n",
       "  <thead>\n",
       "    <tr style=\"text-align: right;\">\n",
       "      <th></th>\n",
       "      <th>dataset</th>\n",
       "      <th>variable</th>\n",
       "      <th>value</th>\n",
       "    </tr>\n",
       "  </thead>\n",
       "  <tbody>\n",
       "    <tr>\n",
       "      <th>0</th>\n",
       "      <td>Quake_Smart-seq2_Trachea</td>\n",
       "      <td>contrative-sc</td>\n",
       "      <td>0.864633</td>\n",
       "    </tr>\n",
       "    <tr>\n",
       "      <th>1</th>\n",
       "      <td>Quake_Smart-seq2_Trachea</td>\n",
       "      <td>contrative-sc</td>\n",
       "      <td>0.885417</td>\n",
       "    </tr>\n",
       "    <tr>\n",
       "      <th>2</th>\n",
       "      <td>Quake_Smart-seq2_Diaphragm</td>\n",
       "      <td>contrative-sc</td>\n",
       "      <td>0.975859</td>\n",
       "    </tr>\n",
       "    <tr>\n",
       "      <th>3</th>\n",
       "      <td>Quake_Smart-seq2_Diaphragm</td>\n",
       "      <td>contrative-sc</td>\n",
       "      <td>0.877166</td>\n",
       "    </tr>\n",
       "    <tr>\n",
       "      <th>4</th>\n",
       "      <td>Young</td>\n",
       "      <td>contrative-sc</td>\n",
       "      <td>0.604013</td>\n",
       "    </tr>\n",
       "  </tbody>\n",
       "</table>\n",
       "</div>"
      ],
      "text/plain": [
       "                      dataset       variable     value\n",
       "0    Quake_Smart-seq2_Trachea  contrative-sc  0.864633\n",
       "1    Quake_Smart-seq2_Trachea  contrative-sc  0.885417\n",
       "2  Quake_Smart-seq2_Diaphragm  contrative-sc  0.975859\n",
       "3  Quake_Smart-seq2_Diaphragm  contrative-sc  0.877166\n",
       "4                       Young  contrative-sc  0.604013"
      ]
     },
     "execution_count": 112,
     "metadata": {},
     "output_type": "execute_result"
    }
   ],
   "source": [
    "comb.head()"
   ]
  },
  {
   "cell_type": "code",
   "execution_count": 113,
   "metadata": {},
   "outputs": [],
   "source": [
    "import seaborn as sns"
   ]
  },
  {
   "cell_type": "code",
   "execution_count": 114,
   "metadata": {
    "scrolled": true
   },
   "outputs": [
    {
     "data": {
      "text/plain": [
       "(array([ 0,  1,  2,  3,  4,  5,  6,  7,  8,  9, 10, 11, 12, 13, 14]),\n",
       " <a list of 15 Text xticklabel objects>)"
      ]
     },
     "execution_count": 114,
     "metadata": {},
     "output_type": "execute_result"
    },
    {
     "data": {
      "image/png": "[encoded data removed]",
      "text/plain": [
       "<Figure size 432x288 with 1 Axes>"
      ]
     },
     "metadata": {
      "needs_background": "light"
     },
     "output_type": "display_data"
    }
   ],
   "source": [
    "sns.barplot(x = \"dataset\", data = comb, y=\"value\", hue = \"variable\")\n",
    "plt.xticks(rotation = 90)"
   ]
  },
  {
   "cell_type": "code",
   "execution_count": null,
   "metadata": {},
   "outputs": [],
   "source": []
  },
  {
   "cell_type": "code",
   "execution_count": null,
   "metadata": {},
   "outputs": [],
   "source": []
  },
  {
   "cell_type": "code",
   "execution_count": null,
   "metadata": {},
   "outputs": [],
   "source": [
    "df.groupby(\"dataset\").mean()"
   ]
  },
  {
   "cell_type": "markdown",
   "metadata": {},
   "source": [
    "# Importance of input size"
   ]
  },
  {
   "cell_type": "code",
   "execution_count": null,
   "metadata": {},
   "outputs": [],
   "source": [
    "df = pd.DataFrame(\n",
    "    columns=[\"dataset\", \"perc0\", \"nb_genes\", \"exp\", \"ari\", \"run\"])\n",
    "print(df.shape)\n",
    "for dataset in files:\n",
    "\n",
    "    print(f\">>>>> Data {dataset}\")\n",
    "\n",
    "    data_mat = h5py.File(f\"{path}real_data/{dataset}.h5\", \"r\")\n",
    "    for run in range(2):\n",
    "        torch.manual_seed(run)\n",
    "        torch.cuda.manual_seed_all(run)\n",
    "        np.random.seed(run)\n",
    "        random.seed(run)\n",
    "        torch.backends.cudnn.deterministic = True\n",
    "        torch.backends.cudnn.benchmark = False\n",
    "        for nb_genes in [100, 200, 500, 1000, 1500, 2000, 5000, 8000]:\n",
    "\n",
    "            X = np.array(data_mat['X'])\n",
    "            Y = np.array(data_mat['Y'])\n",
    "            perc_0 = np.where(X == 0)[0].shape[0] / (X.shape[0] * X.shape[1])\n",
    "            print(f\"Perc 0 {perc_0}\")\n",
    "            cluster_number = np.unique(Y).shape[0]\n",
    "\n",
    "            X = train.preprocess(X, nb_genes=nb_genes)\n",
    "            nb_zeros = int(0.8 * nb_genes)\n",
    "            dresults = train.train(\n",
    "                X,\n",
    "                cluster_number,\n",
    "                dataset,\n",
    "                Y,\n",
    "                n_ensemble=1,\n",
    "                epochs=100,\n",
    "                nb_zeros=nb_zeros,\n",
    "                save_to=f\"{path}output/real_data/inputs/{dataset}_{nb_genes}/\")\n",
    "\n",
    "            #         df.loc[df.shape[0]] = [\n",
    "            #                 dataset, perc_0, nb_genes, 'kmeans_representation_0',dresults['kmeans_representation_0']\n",
    "            #             ]\n",
    "            df.loc[df.shape[0]] = [\n",
    "                dataset, perc_0, nb_genes, 'leiden_representation_0',\n",
    "                dresults['leiden_representation_0'], run]\n",
    "\n",
    "#             pxt = PCA(2).fit_transform(X)\n",
    "#             dresults[\"original\"] = utils.evaluate(X, Y, cluster_number)[1]\n",
    "#             dresults[\"pca\"] = utils.evaluate(pxt, Y, cluster_number)[1]\n",
    "            print(dresults)\n",
    "    df.to_pickle(f\"{path}output/pickle_results/real_data_input_size.pkl\")"
   ]
  },
  {
   "cell_type": "code",
   "execution_count": null,
   "metadata": {},
   "outputs": [],
   "source": [
    "df = pd.read_pickle(f\"{path}output/pickle_results/real_data_input_size.pkl\")"
   ]
  },
  {
   "cell_type": "code",
   "execution_count": null,
   "metadata": {},
   "outputs": [],
   "source": [
    "df.groupby([\"nb_genes\"]).mean()"
   ]
  },
  {
   "cell_type": "code",
   "execution_count": null,
   "metadata": {},
   "outputs": [],
   "source": [
    "dataset_names = {\n",
    "    '10X_PBMC': '10X PBMC',\n",
    "    '10X_PBMC_select_2100': '10X PBMC (2100)',\n",
    "    'mouse_ES_cell': 'Mouse ES\\nCell',\n",
    "    'mouse_ES_cell_select_2100': 'Mouse ES\\nCell (2100)',\n",
    "    'worm_neuron_cell_select_2100': 'Worm Neuron\\nCell (2100)',\n",
    "    'worm_neuron_cell': 'Worm Neuron\\nCell',\n",
    "    'mouse_bladder_cell': 'Mouse Bladder\\nCell',\n",
    "    'mouse_bladder_cell_select_2100': 'Mouse Bladder\\n Cell (2100)'\n",
    "}\n",
    "\n",
    "df[\"dataset\"] = df[\"dataset\"].apply(lambda x: dataset_names[x])\n",
    "\n",
    "df = df.rename(columns = {\"nb_genes\": \"Nb input genes\"})"
   ]
  },
  {
   "cell_type": "code",
   "execution_count": null,
   "metadata": {},
   "outputs": [],
   "source": [
    "df[\"dataset\"].unique()\n"
   ]
  },
  {
   "cell_type": "code",
   "execution_count": null,
   "metadata": {},
   "outputs": [],
   "source": [
    "import seaborn as sns\n",
    "datasets = ['10X PBMC',  'Mouse ES\\nCell','Worm Neuron\\nCell', 'Mouse Bladder\\nCell']\n",
    "plt.figure(figsize=(10, 3.3))\n",
    "ax = plt.subplot(111)\n",
    "sns.barplot(\n",
    "    hue=\"Nb input genes\",\n",
    "    y=\"ari\",\n",
    "    x=\"dataset\",\n",
    "    data=df[df[\"dataset\"].isin(datasets)],\n",
    "    ax=ax,\n",
    "    edgecolor='black',\n",
    "    linewidth=1.5,\n",
    ")\n",
    "plt.ylabel(\"ARI\")\n",
    "plt.xlabel(\"\")\n",
    "plt.legend(title= \"Nb input genes\",bbox_to_anchor=(1, 1))\n",
    "sns.despine()\n",
    "plt.tight_layout()\n",
    "\n",
    "plt.savefig(f\"{path}diagrams/real_input_size.pdf\", bbox_inches='tight')"
   ]
  },
  {
   "cell_type": "code",
   "execution_count": null,
   "metadata": {},
   "outputs": [],
   "source": [
    "datasets = ['10X PBMC (2100)',\n",
    "       'Mouse ES\\nCell (2100)', 'Worm Neuron\\nCell (2100)',\n",
    "       'Mouse Bladder\\n Cell (2100)']\n",
    "plt.figure(figsize=(10, 3.3))\n",
    "ax = plt.subplot(111)\n",
    "sns.barplot(\n",
    "    hue=\"Nb input genes\",\n",
    "    y=\"ari\",\n",
    "    x=\"dataset\",\n",
    "    data=df[df[\"dataset\"].isin(datasets)],\n",
    "    ax=ax,\n",
    "    edgecolor='black',\n",
    "    linewidth=1.5,\n",
    ")\n",
    "plt.ylabel(\"ARI\")\n",
    "plt.xlabel(\"\")\n",
    "plt.legend(title= \"Nb input genes\",bbox_to_anchor=(1, 1))\n",
    "sns.despine()\n",
    "plt.tight_layout()\n",
    "\n",
    "plt.savefig(f\"{path}diagrams/real_input_size_2100.pdf\", bbox_inches='tight')"
   ]
  },
  {
   "cell_type": "code",
   "execution_count": null,
   "metadata": {},
   "outputs": [],
   "source": []
  },
  {
   "cell_type": "markdown",
   "metadata": {},
   "source": [
    "# Importance of the number of epochs"
   ]
  },
  {
   "cell_type": "code",
   "execution_count": null,
   "metadata": {},
   "outputs": [],
   "source": [
    "df = pd.DataFrame(\n",
    "    columns=[\"dataset\", \"perc0\", \"nb_epochs\", \"exp\", \"ari\", \"run\"])\n",
    "print(df.shape)\n",
    "for dataset in files:\n",
    "\n",
    "    print(f\">>>>> Data {dataset}\")\n",
    "\n",
    "    data_mat = h5py.File(f\"{path}real_data/{dataset}.h5\", \"r\")\n",
    "    nb_genes = 1500\n",
    "    for epochs in [5, 50, 100, 300]:\n",
    "\n",
    "        X = np.array(data_mat['X'])\n",
    "        Y = np.array(data_mat['Y'])\n",
    "        perc_0 = np.where(X == 0)[0].shape[0] / (X.shape[0] * X.shape[1])\n",
    "        print(f\"Perc 0 {perc_0}\")\n",
    "        cluster_number = np.unique(Y).shape[0]\n",
    "\n",
    "        X = train.preprocess(X, nb_genes=nb_genes)\n",
    "        nb_zeros = int(0.8 * nb_genes)\n",
    "        for run in range(2):\n",
    "            torch.manual_seed(run)\n",
    "            torch.cuda.manual_seed_all(run)\n",
    "            np.random.seed(run)\n",
    "            random.seed(run)\n",
    "            torch.backends.cudnn.deterministic = True\n",
    "            torch.backends.cudnn.benchmark = False\n",
    "\n",
    "            dresults = train.train(\n",
    "                X,\n",
    "                cluster_number,\n",
    "                dataset,\n",
    "                Y,\n",
    "                n_ensemble=1,\n",
    "                epochs=epochs,\n",
    "                nb_zeros=nb_zeros,\n",
    "                save_to=f\"{path}output/real_data/epochs/{dataset}_{epochs}/\")\n",
    "\n",
    "            df.loc[df.shape[0]] = [\n",
    "                dataset, perc_0, epochs, 'kmeans_representation_0',\n",
    "                dresults['kmeans_representation_0'], run\n",
    "            ]\n",
    "            df.loc[df.shape[0]] = [\n",
    "                dataset, perc_0, epochs, 'leiden_representation_0',\n",
    "                dresults['leiden_representation_0'], run\n",
    "            ]\n",
    "\n",
    "            print(dresults)\n",
    "            df.to_pickle(f\"{path}output/pickle_results/real_data_epochs.pkl\")"
   ]
  },
  {
   "cell_type": "code",
   "execution_count": null,
   "metadata": {},
   "outputs": [],
   "source": [
    "df = pd.read_pickle(f\"{path}output/pickle_results/real_data_epochs.pkl\")"
   ]
  },
  {
   "cell_type": "code",
   "execution_count": null,
   "metadata": {},
   "outputs": [],
   "source": [
    "dataset_names = {\n",
    "    '10X_PBMC': '10X PBMC',\n",
    "    '10X_PBMC_select_2100': '10X PBMC (2100)',\n",
    "    'mouse_ES_cell': 'Mouse ES\\nCell',\n",
    "    'mouse_ES_cell_select_2100': 'Mouse ES\\nCell (2100)',\n",
    "    'worm_neuron_cell_select_2100': 'Worm Neuron\\nCell (2100)',\n",
    "    'worm_neuron_cell': 'Worm Neuron\\nCell',\n",
    "    'mouse_bladder_cell': 'Mouse Bladder\\nCell',\n",
    "    'mouse_bladder_cell_select_2100': 'Mouse Bladder\\n Cell (2100)'\n",
    "}\n",
    "\n",
    "df[\"dataset\"] = df[\"dataset\"].apply(lambda x: dataset_names[x])\n",
    "\n",
    "df = df.rename(columns = {\"nb_epochs\": \"Nb epochs\"})"
   ]
  },
  {
   "cell_type": "code",
   "execution_count": null,
   "metadata": {},
   "outputs": [],
   "source": [
    "import seaborn as sns\n",
    "datasets = ['10X PBMC',  'Mouse ES\\nCell','Worm Neuron\\nCell', 'Mouse Bladder\\nCell']\n",
    "plt.figure(figsize=(7, 3))\n",
    "ax = plt.subplot(111)\n",
    "sns.barplot(\n",
    "    hue=\"Nb epochs\",\n",
    "    y=\"ari\",\n",
    "    x=\"dataset\",\n",
    "    data=df[df[\"dataset\"].isin(datasets)],\n",
    "    ax=ax,\n",
    "    edgecolor='black',\n",
    "    linewidth=1.5,\n",
    ")\n",
    "plt.ylabel(\"ARI\")\n",
    "plt.xlabel(\"\")\n",
    "plt.legend(title =\"Number of epochs\",bbox_to_anchor=(1, 1))\n",
    "sns.despine()\n",
    "plt.tight_layout()\n",
    "\n",
    "plt.savefig(f\"{path}diagrams/real_nb_epochs.pdf\", bbox_inches='tight')"
   ]
  },
  {
   "cell_type": "code",
   "execution_count": null,
   "metadata": {},
   "outputs": [],
   "source": []
  },
  {
   "cell_type": "code",
   "execution_count": null,
   "metadata": {},
   "outputs": [],
   "source": []
  }
 ],
 "metadata": {
  "kernelspec": {
   "display_name": "Python 3",
   "language": "python",
   "name": "python3"
  },
  "language_info": {
   "codemirror_mode": {
    "name": "ipython",
    "version": 3
   },
   "file_extension": ".py",
   "mimetype": "text/x-python",
   "name": "python",
   "nbconvert_exporter": "python",
   "pygments_lexer": "ipython3",
   "version": "3.7.4"
  }
 },
 "nbformat": 4,
 "nbformat_minor": 4
}
