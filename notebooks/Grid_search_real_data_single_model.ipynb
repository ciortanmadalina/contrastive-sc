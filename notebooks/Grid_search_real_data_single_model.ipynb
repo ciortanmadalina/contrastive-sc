{
 "cells": [
  {
   "cell_type": "markdown",
   "metadata": {},
   "source": [
    "Original implementation of Contrastive-sc method\n",
    "(https://github.com/ciortanmadalina/contrastive-sc)"
   ]
  },
  {
   "cell_type": "code",
   "execution_count": 1,
   "metadata": {},
   "outputs": [
    {
     "name": "stderr",
     "output_type": "stream",
     "text": [
      "/opt/conda/lib/python3.7/site-packages/scanpy/api/__init__.py:7: FutureWarning: \n",
      "\n",
      "In a future version of Scanpy, `scanpy.api` will be removed.\n",
      "Simply use `import scanpy as sc` and `import scanpy.external as sce` instead.\n",
      "\n",
      "  FutureWarning,\n"
     ]
    }
   ],
   "source": [
    "import sys\n",
    "sys.path.append(\"..\")\n",
    "import argparse\n",
    "from sklearn.metrics import adjusted_rand_score, normalized_mutual_info_score\n",
    "from sklearn.cluster import KMeans\n",
    "from sklearn import metrics\n",
    "\n",
    "import torch\n",
    "import torch.nn as nn\n",
    "import copy\n",
    "from tqdm.notebook import tqdm\n",
    "import models\n",
    "import numpy as np\n",
    "import pandas as pd\n",
    "from sklearn.decomposition import PCA\n",
    "import matplotlib.pyplot as plt\n",
    "import st_loss\n",
    "\n",
    "import h5py\n",
    "import scipy as sp\n",
    "import scanpy.api as sc\n",
    "from collections import Counter\n",
    "import random\n",
    "import utils\n",
    "import loop\n",
    "import pickle\n",
    "\n",
    "import train\n",
    "import os\n",
    "import glob2\n",
    "plt.ion()\n",
    "plt.show()\n",
    "%load_ext autoreload\n",
    "%autoreload 2\n",
    "\n",
    "import warnings\n",
    "warnings.filterwarnings(\"ignore\", category=FutureWarning)"
   ]
  },
  {
   "cell_type": "code",
   "execution_count": 2,
   "metadata": {},
   "outputs": [
    {
     "data": {
      "text/plain": [
       "['Quake_Smart-seq2_Trachea',\n",
       " 'Quake_Smart-seq2_Diaphragm',\n",
       " 'Quake_10x_Spleen',\n",
       " 'Young',\n",
       " '10X_PBMC_select_2100',\n",
       " 'mouse_ES_cell',\n",
       " 'Adam',\n",
       " 'Quake_10x_Bladder',\n",
       " 'Quake_Smart-seq2_Lung',\n",
       " 'worm_neuron_cell_select_2100',\n",
       " 'Quake_10x_Limb_Muscle',\n",
       " 'worm_neuron_cell',\n",
       " 'mouse_bladder_cell',\n",
       " 'mouse_ES_cell_select_2100',\n",
       " 'Romanov',\n",
       " 'Quake_Smart-seq2_Limb_Muscle',\n",
       " 'Muraro',\n",
       " 'mouse_bladder_cell_select_2100',\n",
       " '10X_PBMC']"
      ]
     },
     "execution_count": 2,
     "metadata": {},
     "output_type": "execute_result"
    }
   ],
   "source": [
    "path = \"../\"\n",
    "files = glob2.glob(f'{path}real_data/*.h5')\n",
    "files = [f[len(f\"'{path}real_data\"):-3] for f in files]\n",
    "files"
   ]
  },
  {
   "cell_type": "code",
   "execution_count": 58,
   "metadata": {},
   "outputs": [],
   "source": [
    "files = [\n",
    "#     'Quake_Smart-seq2_Trachea',\n",
    "#     'Quake_Smart-seq2_Diaphragm',\n",
    "    'Young',\n",
    "    '10X_PBMC_select_2100',\n",
    "    'mouse_ES_cell',\n",
    "    'Adam',\n",
    "    'Quake_10x_Bladder',\n",
    "    'Quake_Smart-seq2_Lung',\n",
    "    'worm_neuron_cell_select_2100',\n",
    "    'Quake_10x_Limb_Muscle',\n",
    "    'worm_neuron_cell',\n",
    "    'mouse_bladder_cell',\n",
    "    'mouse_ES_cell_select_2100',\n",
    "    'Romanov',\n",
    "    'Quake_Smart-seq2_Limb_Muscle',\n",
    "    'Muraro',\n",
    "    'mouse_bladder_cell_select_2100',\n",
    "    '10X_PBMC',\n",
    "    'Quake_10x_Spleen',\n",
    "]"
   ]
  },
  {
   "cell_type": "code",
   "execution_count": 59,
   "metadata": {},
   "outputs": [],
   "source": [
    "sczi = pd.read_pickle(f\"../output/pickle_results/real_data/real_data_sczi.pkl\")"
   ]
  },
  {
   "cell_type": "code",
   "execution_count": 134,
   "metadata": {},
   "outputs": [],
   "source": [
    "df = pd.read_pickle(f\"{path}output/pickle_results/real_data/real_data_1model.pkl\")"
   ]
  },
  {
   "cell_type": "code",
   "execution_count": 135,
   "metadata": {},
   "outputs": [],
   "source": [
    "# df =df[df[\"temperature\"]!= 0.008]"
   ]
  },
  {
   "cell_type": "code",
   "execution_count": 152,
   "metadata": {
    "scrolled": true
   },
   "outputs": [
    {
     "name": "stdout",
     "output_type": "stream",
     "text": [
      ">>>>> Data Quake_Smart-seq2_Trachea\n",
      "SCZI  0.8291128219663276\n",
      "(1350, 23341) (1350, 23341) keeping 1500 genes\n"
     ]
    },
    {
     "data": {
      "application/vnd.jupyter.widget-view+json": {
       "model_id": "7b62945876bc4554a33eff45e3739bcb",
       "version_major": 2,
       "version_minor": 0
      },
      "text/plain": [
       "HBox(children=(IntProgress(value=0, max=1), HTML(value='')))"
      ]
     },
     "metadata": {},
     "output_type": "display_data"
    },
    {
     "name": "stdout",
     "output_type": "stream",
     "text": [
      ".# 0.07, 0.9, 1e-05, [60, 40]   0.5203736252469471 0.185223235504813\n",
      ".# 0.07, 0.9, 1e-05, [60, 40]   0.5431377462688824 0.1819195181636625\n",
      "\n",
      ">>>>> Data Quake_Smart-seq2_Diaphragm\n",
      "SCZI  0.9596701189611787\n",
      "(870, 23341) (870, 23341) keeping 1500 genes\n"
     ]
    },
    {
     "data": {
      "application/vnd.jupyter.widget-view+json": {
       "model_id": "f5bb52ca0bba4af4a4918426e70a1144",
       "version_major": 2,
       "version_minor": 0
      },
      "text/plain": [
       "HBox(children=(IntProgress(value=0, max=1), HTML(value='')))"
      ]
     },
     "metadata": {},
     "output_type": "display_data"
    },
    {
     "name": "stdout",
     "output_type": "stream",
     "text": [
      ".# 0.07, 0.9, 1e-05, [60, 40]   0.9762649454656344 0.46713049139998675\n",
      ".# 0.07, 0.9, 1e-05, [60, 40]   0.974101462768209 0.5078758712695742\n",
      "\n",
      ">>>>> Data Young\n",
      "SCZI  0.6629811886776039\n",
      "(5685, 33658) (5685, 33658) keeping 1500 genes\n"
     ]
    },
    {
     "data": {
      "application/vnd.jupyter.widget-view+json": {
       "model_id": "cd24f5f6b5464c22888b48974dfdcf88",
       "version_major": 2,
       "version_minor": 0
      },
      "text/plain": [
       "HBox(children=(IntProgress(value=0, max=1), HTML(value='')))"
      ]
     },
     "metadata": {},
     "output_type": "display_data"
    },
    {
     "name": "stdout",
     "output_type": "stream",
     "text": [
      ".# 0.07, 0.9, 1e-05, [60, 40]   0.6807205703523858 0.5701730549600935\n",
      ".# 0.07, 0.9, 1e-05, [60, 40]   0.6786810273846207 0.5675811080770206\n",
      "\n",
      ">>>>> Data mouse_ES_cell\n",
      "SCZI  0.800376096099337\n",
      "(2717, 24175) (2717, 24175) keeping 1500 genes\n"
     ]
    },
    {
     "data": {
      "application/vnd.jupyter.widget-view+json": {
       "model_id": "2cb568ebbdd74ad4a804677874195c26",
       "version_major": 2,
       "version_minor": 0
      },
      "text/plain": [
       "HBox(children=(IntProgress(value=0, max=1), HTML(value='')))"
      ]
     },
     "metadata": {},
     "output_type": "display_data"
    },
    {
     "name": "stdout",
     "output_type": "stream",
     "text": [
      ".# 0.07, 0.9, 1e-05, [60, 40]   0.6989640766488893 0.6152727928415068\n",
      ".# 0.07, 0.9, 1e-05, [60, 40]   0.7015455574236529 0.6427232425699337\n",
      "\n",
      ">>>>> Data Adam\n",
      "SCZI  0.8634561030635544\n",
      "(3660, 23797) (3660, 23797) keeping 1500 genes\n"
     ]
    },
    {
     "data": {
      "application/vnd.jupyter.widget-view+json": {
       "model_id": "4f455986c19e45198bcff4d20f09ae57",
       "version_major": 2,
       "version_minor": 0
      },
      "text/plain": [
       "HBox(children=(IntProgress(value=0, max=1), HTML(value='')))"
      ]
     },
     "metadata": {},
     "output_type": "display_data"
    },
    {
     "name": "stdout",
     "output_type": "stream",
     "text": [
      ".# 0.07, 0.9, 1e-05, [60, 40]   0.6603498274382733 0.5407039514913096\n",
      ".# 0.07, 0.9, 1e-05, [60, 40]   0.658201092331937 0.5004869598635687\n",
      "\n",
      ">>>>> Data Quake_10x_Bladder\n",
      "SCZI  0.983095549108186\n",
      "(2500, 23341) (2500, 23341) keeping 1500 genes\n"
     ]
    },
    {
     "data": {
      "application/vnd.jupyter.widget-view+json": {
       "model_id": "1aba1673156d4eab8e5c50f7bba51393",
       "version_major": 2,
       "version_minor": 0
      },
      "text/plain": [
       "HBox(children=(IntProgress(value=0, max=1), HTML(value='')))"
      ]
     },
     "metadata": {},
     "output_type": "display_data"
    },
    {
     "name": "stdout",
     "output_type": "stream",
     "text": [
      ".# 0.07, 0.9, 1e-05, [60, 40]   0.7563420391513298 0.17115158717431195\n",
      ".# 0.07, 0.9, 1e-05, [60, 40]   0.7545717662012915 0.16461714211742712\n",
      "\n",
      ">>>>> Data Quake_Smart-seq2_Lung\n",
      "SCZI  0.7134055445020913\n",
      "(1676, 23341) (1676, 23341) keeping 1500 genes\n"
     ]
    },
    {
     "data": {
      "application/vnd.jupyter.widget-view+json": {
       "model_id": "24904cc0917542ba9a66f73440978cd6",
       "version_major": 2,
       "version_minor": 0
      },
      "text/plain": [
       "HBox(children=(IntProgress(value=0, max=1), HTML(value='')))"
      ]
     },
     "metadata": {},
     "output_type": "display_data"
    },
    {
     "name": "stdout",
     "output_type": "stream",
     "text": [
      ".# 0.07, 0.9, 1e-05, [60, 40]   0.6010450646873715 0.3769609291700726\n",
      ".# 0.07, 0.9, 1e-05, [60, 40]   0.5904255697192201 0.4773036553217032\n",
      "\n",
      ">>>>> Data Quake_10x_Limb_Muscle\n",
      "SCZI  0.9610559204789085\n",
      "(3909, 23341) (3909, 23341) keeping 1500 genes\n"
     ]
    },
    {
     "data": {
      "application/vnd.jupyter.widget-view+json": {
       "model_id": "e97cf820dc2a46d698fe209edc751f4d",
       "version_major": 2,
       "version_minor": 0
      },
      "text/plain": [
       "HBox(children=(IntProgress(value=0, max=1), HTML(value='')))"
      ]
     },
     "metadata": {},
     "output_type": "display_data"
    },
    {
     "name": "stdout",
     "output_type": "stream",
     "text": [
      ".# 0.07, 0.9, 1e-05, [60, 40]   0.8072174247537952 0.44048813186172797\n",
      ".# 0.07, 0.9, 1e-05, [60, 40]   0.9854972372120675 0.3795336196142518\n",
      "\n",
      ">>>>> Data worm_neuron_cell\n",
      "SCZI  0.05077670288621814\n",
      "(4186, 13488) (4186, 13488) keeping 1500 genes\n"
     ]
    },
    {
     "data": {
      "application/vnd.jupyter.widget-view+json": {
       "model_id": "2d54df8f82b14ac7bcccdda4792dc3ea",
       "version_major": 2,
       "version_minor": 0
      },
      "text/plain": [
       "HBox(children=(IntProgress(value=0, max=1), HTML(value='')))"
      ]
     },
     "metadata": {},
     "output_type": "display_data"
    },
    {
     "name": "stdout",
     "output_type": "stream",
     "text": [
      ".# 0.07, 0.9, 1e-05, [60, 40]   0.3671450137210982 0.360732934422958\n",
      ".# 0.07, 0.9, 1e-05, [60, 40]   0.41283859540287227 0.3479040384194774\n",
      "\n",
      ">>>>> Data mouse_bladder_cell\n",
      "SCZI  0.4148792388055975\n",
      "(2746, 20670) (2746, 20670) keeping 1500 genes\n"
     ]
    },
    {
     "data": {
      "application/vnd.jupyter.widget-view+json": {
       "model_id": "e810fba994614afc87e070880c2b594f",
       "version_major": 2,
       "version_minor": 0
      },
      "text/plain": [
       "HBox(children=(IntProgress(value=0, max=1), HTML(value='')))"
      ]
     },
     "metadata": {},
     "output_type": "display_data"
    },
    {
     "name": "stdout",
     "output_type": "stream",
     "text": [
      ".# 0.07, 0.9, 1e-05, [60, 40]   0.45991574854662404 0.5958699572814183\n",
      ".# 0.07, 0.9, 1e-05, [60, 40]   0.43407020907116145 0.5678587845328297\n",
      "\n",
      ">>>>> Data Romanov\n",
      "SCZI  0.75405351856634\n",
      "(2881, 21143) (2881, 21143) keeping 1500 genes\n"
     ]
    },
    {
     "data": {
      "application/vnd.jupyter.widget-view+json": {
       "model_id": "ae44ff8fc37342dcabeb0d57878ec5ae",
       "version_major": 2,
       "version_minor": 0
      },
      "text/plain": [
       "HBox(children=(IntProgress(value=0, max=1), HTML(value='')))"
      ]
     },
     "metadata": {},
     "output_type": "display_data"
    },
    {
     "name": "stdout",
     "output_type": "stream",
     "text": [
      ".# 0.07, 0.9, 1e-05, [60, 40]   0.6814013207116049 0.4183656545873458\n",
      ".# 0.07, 0.9, 1e-05, [60, 40]   0.6839707117267042 0.3965025568444238\n",
      "\n",
      ">>>>> Data Quake_Smart-seq2_Limb_Muscle\n",
      "SCZI  0.9736759009464299\n",
      "(1090, 23341) (1090, 23341) keeping 1500 genes\n"
     ]
    },
    {
     "data": {
      "application/vnd.jupyter.widget-view+json": {
       "model_id": "f39d38838f8f473dae6eee2f6a8bee98",
       "version_major": 2,
       "version_minor": 0
      },
      "text/plain": [
       "HBox(children=(IntProgress(value=0, max=1), HTML(value='')))"
      ]
     },
     "metadata": {},
     "output_type": "display_data"
    },
    {
     "name": "stdout",
     "output_type": "stream",
     "text": [
      ".# 0.07, 0.9, 1e-05, [60, 40]   0.6725551820689375 0.4378452895813866\n",
      ".# 0.07, 0.9, 1e-05, [60, 40]   0.6846688249005248 0.4051119087481306\n",
      "\n",
      ">>>>> Data Muraro\n",
      "SCZI  0.7246271034758398\n",
      "(2122, 19046) (2122, 19046) keeping 1500 genes\n"
     ]
    },
    {
     "data": {
      "application/vnd.jupyter.widget-view+json": {
       "model_id": "acfa220d4197418a917802d601985f5b",
       "version_major": 2,
       "version_minor": 0
      },
      "text/plain": [
       "HBox(children=(IntProgress(value=0, max=1), HTML(value='')))"
      ]
     },
     "metadata": {},
     "output_type": "display_data"
    },
    {
     "name": "stdout",
     "output_type": "stream",
     "text": [
      ".# 0.07, 0.9, 1e-05, [60, 40]   0.8987427028794729 0.44045638623953587\n",
      ".# 0.07, 0.9, 1e-05, [60, 40]   0.7103536524415346 0.4517428608894596\n",
      "\n",
      ">>>>> Data 10X_PBMC\n",
      "SCZI  0.5845649506030623\n",
      "(4271, 16653) (4271, 16653) keeping 1500 genes\n"
     ]
    },
    {
     "data": {
      "application/vnd.jupyter.widget-view+json": {
       "model_id": "612425d4a34843ac9ae3150d3c3ad794",
       "version_major": 2,
       "version_minor": 0
      },
      "text/plain": [
       "HBox(children=(IntProgress(value=0, max=1), HTML(value='')))"
      ]
     },
     "metadata": {},
     "output_type": "display_data"
    },
    {
     "name": "stdout",
     "output_type": "stream",
     "text": [
      ".# 0.07, 0.9, 1e-05, [60, 40]   0.7682299603322437 0.5321240883963461\n",
      ".# 0.07, 0.9, 1e-05, [60, 40]   0.7685260167774186 0.5108508456925807\n",
      "\n",
      ">>>>> Data Quake_10x_Spleen\n",
      "SCZI  0.909534824400645\n",
      "(9552, 23341) (9552, 23341) keeping 1500 genes\n"
     ]
    },
    {
     "data": {
      "application/vnd.jupyter.widget-view+json": {
       "model_id": "3cb0c54f782a44b9b17ca1e10aac151e",
       "version_major": 2,
       "version_minor": 0
      },
      "text/plain": [
       "HBox(children=(IntProgress(value=0, max=1), HTML(value='')))"
      ]
     },
     "metadata": {},
     "output_type": "display_data"
    },
    {
     "name": "stdout",
     "output_type": "stream",
     "text": [
      ".# 0.07, 0.9, 1e-05, [60, 40]   0.5079016120607546 0.1490293156786814\n",
      ".# 0.07, 0.9, 1e-05, [60, 40]   0.5126430065592567 0.15169490171935085\n",
      "\n"
     ]
    }
   ],
   "source": [
    "# df = pd.DataFrame()\n",
    "\n",
    "for dataset in files:\n",
    "\n",
    "    print(f\">>>>> Data {dataset}\")\n",
    "    print(\"SCZI \", sczi[sczi[\"dataset\"] == dataset][\"ARI\"].mean())\n",
    "    data_mat = h5py.File(f\"{path}real_data/{dataset}.h5\", \"r\")\n",
    "    X = np.array(data_mat['X'])\n",
    "    Y = np.array(data_mat['Y'])\n",
    "\n",
    "    cluster_number = np.unique(Y).shape[0]\n",
    "    nb_genes = 1500\n",
    "    data_mat = h5py.File(f\"{path}real_data/{dataset}.h5\", \"r\")\n",
    "    X = np.array(data_mat['X'])\n",
    "    Y = np.array(data_mat['Y'])\n",
    "\n",
    "    X = train.preprocess(X, nb_genes=nb_genes)\n",
    "    for temperature in tqdm([0.07,#0.01,\n",
    "                             #  0.5,\n",
    "                            ]):\n",
    "        for dropout in [ 0.9\n",
    "#                         0.8, 0.2, 0.5 \n",
    "                       ]:\n",
    "            for lr in [1e-5\n",
    "                       #, 1e-4, 1e-6\n",
    "                      ]:\n",
    "                for layers in [\n",
    "                    [60, 40]\n",
    "#                     [200, 60, 40]\n",
    "#                     [200, 100, 30, 30, 30]\n",
    "#                     [200, 100, 30, 30]\n",
    "#                     [200, 50, 30, 30]\n",
    "                    #[40], [50], [100, 10]\n",
    "                    #[60], [50, 50], [150, 50]\n",
    "#                     [15], [30]\n",
    "                   # [100], [200]\n",
    "#                     [50],[100, 30],  [200, 100, 30],  \n",
    "                              ]:\n",
    "                    for run in range(2):\n",
    "                        torch.manual_seed(run)\n",
    "                        torch.cuda.manual_seed_all(run)\n",
    "                        np.random.seed(run)\n",
    "                        random.seed(run)\n",
    "                        torch.backends.cudnn.deterministic = True\n",
    "                        torch.backends.cudnn.benchmark = False\n",
    "                        dresults = train.run(X,\n",
    "                                             cluster_number,\n",
    "                                             dataset,\n",
    "                                             Y=Y,\n",
    "                                             nb_epochs=30,\n",
    "                                             lr=lr,\n",
    "                                             temperature=temperature,\n",
    "                                             dropout=dropout,\n",
    "                                             evaluate=False,\n",
    "                                             n_ensemble=1,\n",
    "                                             layers=layers,\n",
    "                                             save_to=f\"{path}output/real_data/{run}/\",\n",
    "                                             save_pred = False)\n",
    "                        dresults[\"temperature\"] = temperature\n",
    "                        dresults[\"dropout\"] = dropout\n",
    "                        dresults[\"lr\"] = lr\n",
    "                        dresults[\"layers\"] = str(layers)\n",
    "                        dresults[\"run\"] = run\n",
    "                        print(f\".\", end = \"\")\n",
    "                        print(f\"# {temperature}, {dropout}, {lr}, {layers}\", \n",
    "                              dresults.get('COMBINED_kmeans_ari', \"\"),\n",
    "                              dresults.get('COMBINED_leiden_ari', \"\"), dresults.get('kmeans_ari_0',\"\"),\n",
    "                              dresults.get('leiden_ari_0', \"\"))\n",
    "                        df = df.append(dresults, ignore_index=True)\n",
    "\n",
    "                        df.to_pickle(f\"{path}output/pickle_results/real_data/real_data_1model.pkl\")"
   ]
  },
  {
   "cell_type": "code",
   "execution_count": 153,
   "metadata": {},
   "outputs": [],
   "source": [
    "files = [\n",
    "    'Quake_Smart-seq2_Trachea',\n",
    "    'Quake_Smart-seq2_Diaphragm',\n",
    "    'Young',\n",
    "#     '10X_PBMC_select_2100',\n",
    "    'mouse_ES_cell',\n",
    "    'Adam',\n",
    "    'Quake_10x_Bladder',\n",
    "    'Quake_Smart-seq2_Lung',\n",
    "#     'worm_neuron_cell_select_2100',\n",
    "    'Quake_10x_Limb_Muscle',\n",
    "    'worm_neuron_cell',\n",
    "    'mouse_bladder_cell',\n",
    "#     'mouse_ES_cell_select_2100',\n",
    "    'Romanov',\n",
    "    'Quake_Smart-seq2_Limb_Muscle',\n",
    "    'Muraro',\n",
    "#     'mouse_bladder_cell_select_2100',\n",
    "    '10X_PBMC',\n",
    "    'Quake_10x_Spleen',\n",
    "]"
   ]
  },
  {
   "cell_type": "code",
   "execution_count": 154,
   "metadata": {},
   "outputs": [
    {
     "data": {
      "text/plain": [
       "ARI       0.745684\n",
       "NMI       0.777119\n",
       "sil       0.070277\n",
       "run       1.000000\n",
       "time    195.854597\n",
       "dtype: float64"
      ]
     },
     "execution_count": 154,
     "metadata": {},
     "output_type": "execute_result"
    }
   ],
   "source": [
    "sczi = pd.read_pickle(f\"../output/pickle_results/real_data/real_data_sczi.pkl\")\n",
    "sczi = sczi[sczi[\"dataset\"].isin(files)]\n",
    "sczi.mean()"
   ]
  },
  {
   "cell_type": "code",
   "execution_count": 155,
   "metadata": {},
   "outputs": [
    {
     "data": {
      "text/html": [
       "<div>\n",
       "<style scoped>\n",
       "    .dataframe tbody tr th:only-of-type {\n",
       "        vertical-align: middle;\n",
       "    }\n",
       "\n",
       "    .dataframe tbody tr th {\n",
       "        vertical-align: top;\n",
       "    }\n",
       "\n",
       "    .dataframe thead tr th {\n",
       "        text-align: left;\n",
       "    }\n",
       "\n",
       "    .dataframe thead tr:last-of-type th {\n",
       "        text-align: right;\n",
       "    }\n",
       "</style>\n",
       "<table border=\"1\" class=\"dataframe\">\n",
       "  <thead>\n",
       "    <tr>\n",
       "      <th></th>\n",
       "      <th>temperature</th>\n",
       "      <th colspan=\"4\" halign=\"left\">0.01</th>\n",
       "      <th colspan=\"5\" halign=\"left\">0.07</th>\n",
       "      <th colspan=\"4\" halign=\"left\">0.50</th>\n",
       "    </tr>\n",
       "    <tr>\n",
       "      <th></th>\n",
       "      <th>dropout</th>\n",
       "      <th>0.20</th>\n",
       "      <th>0.50</th>\n",
       "      <th>0.80</th>\n",
       "      <th>0.90</th>\n",
       "      <th>0.20</th>\n",
       "      <th>0.50</th>\n",
       "      <th>0.80</th>\n",
       "      <th>0.90</th>\n",
       "      <th>0.95</th>\n",
       "      <th>0.20</th>\n",
       "      <th>0.50</th>\n",
       "      <th>0.80</th>\n",
       "      <th>0.90</th>\n",
       "    </tr>\n",
       "    <tr>\n",
       "      <th>layers</th>\n",
       "      <th>lr</th>\n",
       "      <th></th>\n",
       "      <th></th>\n",
       "      <th></th>\n",
       "      <th></th>\n",
       "      <th></th>\n",
       "      <th></th>\n",
       "      <th></th>\n",
       "      <th></th>\n",
       "      <th></th>\n",
       "      <th></th>\n",
       "      <th></th>\n",
       "      <th></th>\n",
       "      <th></th>\n",
       "    </tr>\n",
       "  </thead>\n",
       "  <tbody>\n",
       "    <tr>\n",
       "      <th rowspan=\"3\" valign=\"top\">[100, 30]</th>\n",
       "      <th>0.000001</th>\n",
       "      <td>0.524274</td>\n",
       "      <td>0.570251</td>\n",
       "      <td>0.674296</td>\n",
       "      <td>0.677789</td>\n",
       "      <td>0.264483</td>\n",
       "      <td>0.477184</td>\n",
       "      <td>0.629684</td>\n",
       "      <td>0.681896</td>\n",
       "      <td>NaN</td>\n",
       "      <td>0.432845</td>\n",
       "      <td>0.489099</td>\n",
       "      <td>0.568992</td>\n",
       "      <td>0.657019</td>\n",
       "    </tr>\n",
       "    <tr>\n",
       "      <th>0.000010</th>\n",
       "      <td>0.524274</td>\n",
       "      <td>0.570251</td>\n",
       "      <td>0.674296</td>\n",
       "      <td>0.677789</td>\n",
       "      <td>0.264483</td>\n",
       "      <td>0.477184</td>\n",
       "      <td>0.629684</td>\n",
       "      <td>0.681896</td>\n",
       "      <td>NaN</td>\n",
       "      <td>0.432845</td>\n",
       "      <td>0.489099</td>\n",
       "      <td>0.568992</td>\n",
       "      <td>0.657019</td>\n",
       "    </tr>\n",
       "    <tr>\n",
       "      <th>0.000100</th>\n",
       "      <td>0.524274</td>\n",
       "      <td>0.570251</td>\n",
       "      <td>0.674296</td>\n",
       "      <td>0.677789</td>\n",
       "      <td>0.264483</td>\n",
       "      <td>0.477184</td>\n",
       "      <td>0.629684</td>\n",
       "      <td>0.681896</td>\n",
       "      <td>NaN</td>\n",
       "      <td>0.432845</td>\n",
       "      <td>0.489099</td>\n",
       "      <td>0.568992</td>\n",
       "      <td>0.657019</td>\n",
       "    </tr>\n",
       "    <tr>\n",
       "      <th>[100]</th>\n",
       "      <th>0.000010</th>\n",
       "      <td>NaN</td>\n",
       "      <td>NaN</td>\n",
       "      <td>NaN</td>\n",
       "      <td>0.680657</td>\n",
       "      <td>NaN</td>\n",
       "      <td>NaN</td>\n",
       "      <td>NaN</td>\n",
       "      <td>NaN</td>\n",
       "      <td>NaN</td>\n",
       "      <td>NaN</td>\n",
       "      <td>NaN</td>\n",
       "      <td>NaN</td>\n",
       "      <td>NaN</td>\n",
       "    </tr>\n",
       "    <tr>\n",
       "      <th>[150, 50]</th>\n",
       "      <th>0.000010</th>\n",
       "      <td>NaN</td>\n",
       "      <td>NaN</td>\n",
       "      <td>NaN</td>\n",
       "      <td>0.663639</td>\n",
       "      <td>NaN</td>\n",
       "      <td>NaN</td>\n",
       "      <td>NaN</td>\n",
       "      <td>NaN</td>\n",
       "      <td>NaN</td>\n",
       "      <td>NaN</td>\n",
       "      <td>NaN</td>\n",
       "      <td>NaN</td>\n",
       "      <td>NaN</td>\n",
       "    </tr>\n",
       "    <tr>\n",
       "      <th>[15]</th>\n",
       "      <th>0.000010</th>\n",
       "      <td>NaN</td>\n",
       "      <td>NaN</td>\n",
       "      <td>NaN</td>\n",
       "      <td>0.689687</td>\n",
       "      <td>NaN</td>\n",
       "      <td>NaN</td>\n",
       "      <td>NaN</td>\n",
       "      <td>NaN</td>\n",
       "      <td>NaN</td>\n",
       "      <td>NaN</td>\n",
       "      <td>NaN</td>\n",
       "      <td>NaN</td>\n",
       "      <td>NaN</td>\n",
       "    </tr>\n",
       "    <tr>\n",
       "      <th rowspan=\"3\" valign=\"top\">[200, 100, 30, 30]</th>\n",
       "      <th>0.000001</th>\n",
       "      <td>0.451915</td>\n",
       "      <td>0.534844</td>\n",
       "      <td>0.654329</td>\n",
       "      <td>0.643847</td>\n",
       "      <td>0.204349</td>\n",
       "      <td>0.404540</td>\n",
       "      <td>0.652421</td>\n",
       "      <td>0.692540</td>\n",
       "      <td>NaN</td>\n",
       "      <td>0.390310</td>\n",
       "      <td>0.469344</td>\n",
       "      <td>0.558698</td>\n",
       "      <td>0.655065</td>\n",
       "    </tr>\n",
       "    <tr>\n",
       "      <th>0.000010</th>\n",
       "      <td>0.451915</td>\n",
       "      <td>0.534844</td>\n",
       "      <td>0.654329</td>\n",
       "      <td>0.643847</td>\n",
       "      <td>0.204349</td>\n",
       "      <td>0.404540</td>\n",
       "      <td>0.652421</td>\n",
       "      <td>0.693108</td>\n",
       "      <td>0.649335</td>\n",
       "      <td>0.390310</td>\n",
       "      <td>0.469344</td>\n",
       "      <td>0.558698</td>\n",
       "      <td>0.655065</td>\n",
       "    </tr>\n",
       "    <tr>\n",
       "      <th>0.000100</th>\n",
       "      <td>0.451915</td>\n",
       "      <td>0.534844</td>\n",
       "      <td>0.654329</td>\n",
       "      <td>0.643847</td>\n",
       "      <td>0.204349</td>\n",
       "      <td>0.404540</td>\n",
       "      <td>0.652421</td>\n",
       "      <td>0.692540</td>\n",
       "      <td>NaN</td>\n",
       "      <td>0.390310</td>\n",
       "      <td>0.469344</td>\n",
       "      <td>0.558698</td>\n",
       "      <td>0.655065</td>\n",
       "    </tr>\n",
       "    <tr>\n",
       "      <th rowspan=\"3\" valign=\"top\">[200, 100, 30]</th>\n",
       "      <th>0.000001</th>\n",
       "      <td>0.481480</td>\n",
       "      <td>0.529357</td>\n",
       "      <td>0.661415</td>\n",
       "      <td>0.667104</td>\n",
       "      <td>0.215987</td>\n",
       "      <td>0.417108</td>\n",
       "      <td>0.646977</td>\n",
       "      <td>0.669458</td>\n",
       "      <td>NaN</td>\n",
       "      <td>0.423810</td>\n",
       "      <td>0.497755</td>\n",
       "      <td>0.572472</td>\n",
       "      <td>0.646682</td>\n",
       "    </tr>\n",
       "    <tr>\n",
       "      <th>0.000010</th>\n",
       "      <td>0.481480</td>\n",
       "      <td>0.529357</td>\n",
       "      <td>0.661415</td>\n",
       "      <td>0.667104</td>\n",
       "      <td>0.215987</td>\n",
       "      <td>0.417108</td>\n",
       "      <td>0.646977</td>\n",
       "      <td>0.669458</td>\n",
       "      <td>NaN</td>\n",
       "      <td>0.423810</td>\n",
       "      <td>0.497755</td>\n",
       "      <td>0.572472</td>\n",
       "      <td>0.646682</td>\n",
       "    </tr>\n",
       "    <tr>\n",
       "      <th>0.000100</th>\n",
       "      <td>0.481480</td>\n",
       "      <td>0.529357</td>\n",
       "      <td>0.661415</td>\n",
       "      <td>0.667104</td>\n",
       "      <td>0.215987</td>\n",
       "      <td>0.417108</td>\n",
       "      <td>0.646977</td>\n",
       "      <td>0.669458</td>\n",
       "      <td>NaN</td>\n",
       "      <td>0.423810</td>\n",
       "      <td>0.497755</td>\n",
       "      <td>0.572472</td>\n",
       "      <td>0.646682</td>\n",
       "    </tr>\n",
       "    <tr>\n",
       "      <th>[200]</th>\n",
       "      <th>0.000010</th>\n",
       "      <td>NaN</td>\n",
       "      <td>NaN</td>\n",
       "      <td>NaN</td>\n",
       "      <td>0.682787</td>\n",
       "      <td>NaN</td>\n",
       "      <td>NaN</td>\n",
       "      <td>NaN</td>\n",
       "      <td>NaN</td>\n",
       "      <td>NaN</td>\n",
       "      <td>NaN</td>\n",
       "      <td>NaN</td>\n",
       "      <td>NaN</td>\n",
       "      <td>NaN</td>\n",
       "    </tr>\n",
       "    <tr>\n",
       "      <th>[30]</th>\n",
       "      <th>0.000010</th>\n",
       "      <td>NaN</td>\n",
       "      <td>NaN</td>\n",
       "      <td>NaN</td>\n",
       "      <td>0.712900</td>\n",
       "      <td>NaN</td>\n",
       "      <td>NaN</td>\n",
       "      <td>NaN</td>\n",
       "      <td>NaN</td>\n",
       "      <td>NaN</td>\n",
       "      <td>NaN</td>\n",
       "      <td>NaN</td>\n",
       "      <td>NaN</td>\n",
       "      <td>NaN</td>\n",
       "    </tr>\n",
       "    <tr>\n",
       "      <th>[40]</th>\n",
       "      <th>0.000010</th>\n",
       "      <td>NaN</td>\n",
       "      <td>NaN</td>\n",
       "      <td>NaN</td>\n",
       "      <td>0.727612</td>\n",
       "      <td>NaN</td>\n",
       "      <td>NaN</td>\n",
       "      <td>NaN</td>\n",
       "      <td>NaN</td>\n",
       "      <td>NaN</td>\n",
       "      <td>NaN</td>\n",
       "      <td>NaN</td>\n",
       "      <td>NaN</td>\n",
       "      <td>NaN</td>\n",
       "    </tr>\n",
       "    <tr>\n",
       "      <th>[50, 50]</th>\n",
       "      <th>0.000010</th>\n",
       "      <td>NaN</td>\n",
       "      <td>NaN</td>\n",
       "      <td>NaN</td>\n",
       "      <td>0.657510</td>\n",
       "      <td>NaN</td>\n",
       "      <td>NaN</td>\n",
       "      <td>NaN</td>\n",
       "      <td>NaN</td>\n",
       "      <td>NaN</td>\n",
       "      <td>NaN</td>\n",
       "      <td>NaN</td>\n",
       "      <td>NaN</td>\n",
       "      <td>NaN</td>\n",
       "    </tr>\n",
       "    <tr>\n",
       "      <th rowspan=\"3\" valign=\"top\">[50]</th>\n",
       "      <th>0.000001</th>\n",
       "      <td>0.567312</td>\n",
       "      <td>0.615307</td>\n",
       "      <td>0.698723</td>\n",
       "      <td>0.727378</td>\n",
       "      <td>0.296180</td>\n",
       "      <td>0.496578</td>\n",
       "      <td>0.608322</td>\n",
       "      <td>0.674843</td>\n",
       "      <td>NaN</td>\n",
       "      <td>0.512382</td>\n",
       "      <td>0.574819</td>\n",
       "      <td>0.650896</td>\n",
       "      <td>0.682317</td>\n",
       "    </tr>\n",
       "    <tr>\n",
       "      <th>0.000010</th>\n",
       "      <td>0.567312</td>\n",
       "      <td>0.615307</td>\n",
       "      <td>0.698723</td>\n",
       "      <td>0.727378</td>\n",
       "      <td>0.296180</td>\n",
       "      <td>0.496578</td>\n",
       "      <td>0.608322</td>\n",
       "      <td>0.674843</td>\n",
       "      <td>NaN</td>\n",
       "      <td>0.512382</td>\n",
       "      <td>0.574819</td>\n",
       "      <td>0.650896</td>\n",
       "      <td>0.682317</td>\n",
       "    </tr>\n",
       "    <tr>\n",
       "      <th>0.000100</th>\n",
       "      <td>0.567312</td>\n",
       "      <td>0.615307</td>\n",
       "      <td>0.698723</td>\n",
       "      <td>0.727378</td>\n",
       "      <td>0.296180</td>\n",
       "      <td>0.496578</td>\n",
       "      <td>0.608322</td>\n",
       "      <td>0.674843</td>\n",
       "      <td>NaN</td>\n",
       "      <td>0.512382</td>\n",
       "      <td>0.574819</td>\n",
       "      <td>0.650896</td>\n",
       "      <td>0.682317</td>\n",
       "    </tr>\n",
       "    <tr>\n",
       "      <th>[60]</th>\n",
       "      <th>0.000010</th>\n",
       "      <td>NaN</td>\n",
       "      <td>NaN</td>\n",
       "      <td>NaN</td>\n",
       "      <td>0.717785</td>\n",
       "      <td>NaN</td>\n",
       "      <td>NaN</td>\n",
       "      <td>NaN</td>\n",
       "      <td>NaN</td>\n",
       "      <td>NaN</td>\n",
       "      <td>NaN</td>\n",
       "      <td>NaN</td>\n",
       "      <td>NaN</td>\n",
       "      <td>NaN</td>\n",
       "    </tr>\n",
       "    <tr>\n",
       "      <th>[200, 100, 30, 30, 30]</th>\n",
       "      <th>0.000010</th>\n",
       "      <td>NaN</td>\n",
       "      <td>NaN</td>\n",
       "      <td>NaN</td>\n",
       "      <td>NaN</td>\n",
       "      <td>NaN</td>\n",
       "      <td>NaN</td>\n",
       "      <td>NaN</td>\n",
       "      <td>0.677926</td>\n",
       "      <td>NaN</td>\n",
       "      <td>NaN</td>\n",
       "      <td>NaN</td>\n",
       "      <td>NaN</td>\n",
       "      <td>NaN</td>\n",
       "    </tr>\n",
       "    <tr>\n",
       "      <th>[200, 40]</th>\n",
       "      <th>0.000010</th>\n",
       "      <td>NaN</td>\n",
       "      <td>NaN</td>\n",
       "      <td>NaN</td>\n",
       "      <td>NaN</td>\n",
       "      <td>NaN</td>\n",
       "      <td>NaN</td>\n",
       "      <td>NaN</td>\n",
       "      <td>0.689996</td>\n",
       "      <td>NaN</td>\n",
       "      <td>NaN</td>\n",
       "      <td>NaN</td>\n",
       "      <td>NaN</td>\n",
       "      <td>NaN</td>\n",
       "    </tr>\n",
       "    <tr>\n",
       "      <th>[200, 50, 30, 30]</th>\n",
       "      <th>0.000010</th>\n",
       "      <td>NaN</td>\n",
       "      <td>NaN</td>\n",
       "      <td>NaN</td>\n",
       "      <td>NaN</td>\n",
       "      <td>NaN</td>\n",
       "      <td>NaN</td>\n",
       "      <td>NaN</td>\n",
       "      <td>0.670336</td>\n",
       "      <td>NaN</td>\n",
       "      <td>NaN</td>\n",
       "      <td>NaN</td>\n",
       "      <td>NaN</td>\n",
       "      <td>NaN</td>\n",
       "    </tr>\n",
       "    <tr>\n",
       "      <th>[200, 60, 40]</th>\n",
       "      <th>0.000010</th>\n",
       "      <td>NaN</td>\n",
       "      <td>NaN</td>\n",
       "      <td>NaN</td>\n",
       "      <td>NaN</td>\n",
       "      <td>NaN</td>\n",
       "      <td>NaN</td>\n",
       "      <td>NaN</td>\n",
       "      <td>0.692095</td>\n",
       "      <td>NaN</td>\n",
       "      <td>NaN</td>\n",
       "      <td>NaN</td>\n",
       "      <td>NaN</td>\n",
       "      <td>NaN</td>\n",
       "    </tr>\n",
       "    <tr>\n",
       "      <th>[60, 40]</th>\n",
       "      <th>0.000010</th>\n",
       "      <td>NaN</td>\n",
       "      <td>NaN</td>\n",
       "      <td>NaN</td>\n",
       "      <td>NaN</td>\n",
       "      <td>NaN</td>\n",
       "      <td>NaN</td>\n",
       "      <td>NaN</td>\n",
       "      <td>0.671680</td>\n",
       "      <td>NaN</td>\n",
       "      <td>NaN</td>\n",
       "      <td>NaN</td>\n",
       "      <td>NaN</td>\n",
       "      <td>NaN</td>\n",
       "    </tr>\n",
       "  </tbody>\n",
       "</table>\n",
       "</div>"
      ],
      "text/plain": [
       "temperature                          0.01                                \\\n",
       "dropout                              0.20      0.50      0.80      0.90   \n",
       "layers                 lr                                                 \n",
       "[100, 30]              0.000001  0.524274  0.570251  0.674296  0.677789   \n",
       "                       0.000010  0.524274  0.570251  0.674296  0.677789   \n",
       "                       0.000100  0.524274  0.570251  0.674296  0.677789   \n",
       "[100]                  0.000010       NaN       NaN       NaN  0.680657   \n",
       "[150, 50]              0.000010       NaN       NaN       NaN  0.663639   \n",
       "[15]                   0.000010       NaN       NaN       NaN  0.689687   \n",
       "[200, 100, 30, 30]     0.000001  0.451915  0.534844  0.654329  0.643847   \n",
       "                       0.000010  0.451915  0.534844  0.654329  0.643847   \n",
       "                       0.000100  0.451915  0.534844  0.654329  0.643847   \n",
       "[200, 100, 30]         0.000001  0.481480  0.529357  0.661415  0.667104   \n",
       "                       0.000010  0.481480  0.529357  0.661415  0.667104   \n",
       "                       0.000100  0.481480  0.529357  0.661415  0.667104   \n",
       "[200]                  0.000010       NaN       NaN       NaN  0.682787   \n",
       "[30]                   0.000010       NaN       NaN       NaN  0.712900   \n",
       "[40]                   0.000010       NaN       NaN       NaN  0.727612   \n",
       "[50, 50]               0.000010       NaN       NaN       NaN  0.657510   \n",
       "[50]                   0.000001  0.567312  0.615307  0.698723  0.727378   \n",
       "                       0.000010  0.567312  0.615307  0.698723  0.727378   \n",
       "                       0.000100  0.567312  0.615307  0.698723  0.727378   \n",
       "[60]                   0.000010       NaN       NaN       NaN  0.717785   \n",
       "[200, 100, 30, 30, 30] 0.000010       NaN       NaN       NaN       NaN   \n",
       "[200, 40]              0.000010       NaN       NaN       NaN       NaN   \n",
       "[200, 50, 30, 30]      0.000010       NaN       NaN       NaN       NaN   \n",
       "[200, 60, 40]          0.000010       NaN       NaN       NaN       NaN   \n",
       "[60, 40]               0.000010       NaN       NaN       NaN       NaN   \n",
       "\n",
       "temperature                          0.07                                \\\n",
       "dropout                              0.20      0.50      0.80      0.90   \n",
       "layers                 lr                                                 \n",
       "[100, 30]              0.000001  0.264483  0.477184  0.629684  0.681896   \n",
       "                       0.000010  0.264483  0.477184  0.629684  0.681896   \n",
       "                       0.000100  0.264483  0.477184  0.629684  0.681896   \n",
       "[100]                  0.000010       NaN       NaN       NaN       NaN   \n",
       "[150, 50]              0.000010       NaN       NaN       NaN       NaN   \n",
       "[15]                   0.000010       NaN       NaN       NaN       NaN   \n",
       "[200, 100, 30, 30]     0.000001  0.204349  0.404540  0.652421  0.692540   \n",
       "                       0.000010  0.204349  0.404540  0.652421  0.693108   \n",
       "                       0.000100  0.204349  0.404540  0.652421  0.692540   \n",
       "[200, 100, 30]         0.000001  0.215987  0.417108  0.646977  0.669458   \n",
       "                       0.000010  0.215987  0.417108  0.646977  0.669458   \n",
       "                       0.000100  0.215987  0.417108  0.646977  0.669458   \n",
       "[200]                  0.000010       NaN       NaN       NaN       NaN   \n",
       "[30]                   0.000010       NaN       NaN       NaN       NaN   \n",
       "[40]                   0.000010       NaN       NaN       NaN       NaN   \n",
       "[50, 50]               0.000010       NaN       NaN       NaN       NaN   \n",
       "[50]                   0.000001  0.296180  0.496578  0.608322  0.674843   \n",
       "                       0.000010  0.296180  0.496578  0.608322  0.674843   \n",
       "                       0.000100  0.296180  0.496578  0.608322  0.674843   \n",
       "[60]                   0.000010       NaN       NaN       NaN       NaN   \n",
       "[200, 100, 30, 30, 30] 0.000010       NaN       NaN       NaN  0.677926   \n",
       "[200, 40]              0.000010       NaN       NaN       NaN  0.689996   \n",
       "[200, 50, 30, 30]      0.000010       NaN       NaN       NaN  0.670336   \n",
       "[200, 60, 40]          0.000010       NaN       NaN       NaN  0.692095   \n",
       "[60, 40]               0.000010       NaN       NaN       NaN  0.671680   \n",
       "\n",
       "temperature                                    0.50                      \\\n",
       "dropout                              0.95      0.20      0.50      0.80   \n",
       "layers                 lr                                                 \n",
       "[100, 30]              0.000001       NaN  0.432845  0.489099  0.568992   \n",
       "                       0.000010       NaN  0.432845  0.489099  0.568992   \n",
       "                       0.000100       NaN  0.432845  0.489099  0.568992   \n",
       "[100]                  0.000010       NaN       NaN       NaN       NaN   \n",
       "[150, 50]              0.000010       NaN       NaN       NaN       NaN   \n",
       "[15]                   0.000010       NaN       NaN       NaN       NaN   \n",
       "[200, 100, 30, 30]     0.000001       NaN  0.390310  0.469344  0.558698   \n",
       "                       0.000010  0.649335  0.390310  0.469344  0.558698   \n",
       "                       0.000100       NaN  0.390310  0.469344  0.558698   \n",
       "[200, 100, 30]         0.000001       NaN  0.423810  0.497755  0.572472   \n",
       "                       0.000010       NaN  0.423810  0.497755  0.572472   \n",
       "                       0.000100       NaN  0.423810  0.497755  0.572472   \n",
       "[200]                  0.000010       NaN       NaN       NaN       NaN   \n",
       "[30]                   0.000010       NaN       NaN       NaN       NaN   \n",
       "[40]                   0.000010       NaN       NaN       NaN       NaN   \n",
       "[50, 50]               0.000010       NaN       NaN       NaN       NaN   \n",
       "[50]                   0.000001       NaN  0.512382  0.574819  0.650896   \n",
       "                       0.000010       NaN  0.512382  0.574819  0.650896   \n",
       "                       0.000100       NaN  0.512382  0.574819  0.650896   \n",
       "[60]                   0.000010       NaN       NaN       NaN       NaN   \n",
       "[200, 100, 30, 30, 30] 0.000010       NaN       NaN       NaN       NaN   \n",
       "[200, 40]              0.000010       NaN       NaN       NaN       NaN   \n",
       "[200, 50, 30, 30]      0.000010       NaN       NaN       NaN       NaN   \n",
       "[200, 60, 40]          0.000010       NaN       NaN       NaN       NaN   \n",
       "[60, 40]               0.000010       NaN       NaN       NaN       NaN   \n",
       "\n",
       "temperature                                \n",
       "dropout                              0.90  \n",
       "layers                 lr                  \n",
       "[100, 30]              0.000001  0.657019  \n",
       "                       0.000010  0.657019  \n",
       "                       0.000100  0.657019  \n",
       "[100]                  0.000010       NaN  \n",
       "[150, 50]              0.000010       NaN  \n",
       "[15]                   0.000010       NaN  \n",
       "[200, 100, 30, 30]     0.000001  0.655065  \n",
       "                       0.000010  0.655065  \n",
       "                       0.000100  0.655065  \n",
       "[200, 100, 30]         0.000001  0.646682  \n",
       "                       0.000010  0.646682  \n",
       "                       0.000100  0.646682  \n",
       "[200]                  0.000010       NaN  \n",
       "[30]                   0.000010       NaN  \n",
       "[40]                   0.000010       NaN  \n",
       "[50, 50]               0.000010       NaN  \n",
       "[50]                   0.000001  0.682317  \n",
       "                       0.000010  0.682317  \n",
       "                       0.000100  0.682317  \n",
       "[60]                   0.000010       NaN  \n",
       "[200, 100, 30, 30, 30] 0.000010       NaN  \n",
       "[200, 40]              0.000010       NaN  \n",
       "[200, 50, 30, 30]      0.000010       NaN  \n",
       "[200, 60, 40]          0.000010       NaN  \n",
       "[60, 40]               0.000010       NaN  "
      ]
     },
     "execution_count": 155,
     "metadata": {},
     "output_type": "execute_result"
    }
   ],
   "source": [
    "df = pd.read_pickle(f\"../output/pickle_results/real_data/real_data_1model.pkl\")\n",
    "df = df[df[\"dataset\"].isin(files)]\n",
    "df.groupby([\"temperature\", \"layers\", \"dropout\", \"lr\"])[\"kmeans_ari_0\"].mean().unstack([\"layers\", \"lr\"]).T"
   ]
  },
  {
   "cell_type": "code",
   "execution_count": 156,
   "metadata": {},
   "outputs": [
    {
     "data": {
      "text/plain": [
       "layers                  lr      \n",
       "[100, 30]               0.000001    0.681896\n",
       "                        0.000010    0.681896\n",
       "                        0.000100    0.681896\n",
       "[100]                   0.000010    0.680657\n",
       "[150, 50]               0.000010    0.663639\n",
       "[15]                    0.000010    0.689687\n",
       "[200, 100, 30, 30]      0.000001    0.692540\n",
       "                        0.000010    0.693108\n",
       "                        0.000100    0.692540\n",
       "[200, 100, 30]          0.000001    0.669458\n",
       "                        0.000010    0.669458\n",
       "                        0.000100    0.669458\n",
       "[200]                   0.000010    0.682787\n",
       "[30]                    0.000010    0.712900\n",
       "[40]                    0.000010    0.727612\n",
       "[50, 50]                0.000010    0.657510\n",
       "[50]                    0.000001    0.727378\n",
       "                        0.000010    0.727378\n",
       "                        0.000100    0.727378\n",
       "[60]                    0.000010    0.717785\n",
       "[200, 100, 30, 30, 30]  0.000010    0.677926\n",
       "[200, 40]               0.000010    0.689996\n",
       "[200, 50, 30, 30]       0.000010    0.670336\n",
       "[200, 60, 40]           0.000010    0.692095\n",
       "[60, 40]                0.000010    0.671680\n",
       "dtype: float64"
      ]
     },
     "execution_count": 156,
     "metadata": {},
     "output_type": "execute_result"
    }
   ],
   "source": [
    "# df = pd.read_pickle(f\"../output/pickle_results/real_data/real_data_1model.pkl\")\n",
    "df.groupby([\"temperature\", \"layers\", \"dropout\", \"lr\"])[\"kmeans_ari_0\"].mean().unstack([\"layers\", \"lr\"]).max()"
   ]
  },
  {
   "cell_type": "code",
   "execution_count": 146,
   "metadata": {},
   "outputs": [
    {
     "data": {
      "text/plain": [
       "dropout         0.900000\n",
       "kmeans_ari_0    0.693108\n",
       "kmeans_nmi_0    0.755896\n",
       "leiden_ari_0    0.283322\n",
       "leiden_nmi_0    0.596367\n",
       "lr              0.000010\n",
       "run             0.800000\n",
       "temperature     0.070000\n",
       "time                 NaN\n",
       "dtype: float64"
      ]
     },
     "execution_count": 146,
     "metadata": {},
     "output_type": "execute_result"
    }
   ],
   "source": [
    "# r = df[(df[\"layers\"]==\"[40]\")\n",
    "#        &(df[\"temperature\"]==0.01)\n",
    "#        &(df[\"lr\"]==1e-5)\n",
    "#        &(df[\"dropout\"]==0.9)\n",
    "#       ]\n",
    "r = df[(df[\"layers\"]==\"[200, 100, 30, 30]\")\n",
    "       &(df[\"temperature\"]==0.07)\n",
    "       &(df[\"lr\"]==1e-5)\n",
    "       &(df[\"dropout\"]==0.9)\n",
    "      ]\n",
    "\n",
    "\n",
    "r.mean()"
   ]
  },
  {
   "cell_type": "code",
   "execution_count": 127,
   "metadata": {},
   "outputs": [
    {
     "data": {
      "text/html": [
       "<div>\n",
       "<style scoped>\n",
       "    .dataframe tbody tr th:only-of-type {\n",
       "        vertical-align: middle;\n",
       "    }\n",
       "\n",
       "    .dataframe tbody tr th {\n",
       "        vertical-align: top;\n",
       "    }\n",
       "\n",
       "    .dataframe thead th {\n",
       "        text-align: right;\n",
       "    }\n",
       "</style>\n",
       "<table border=\"1\" class=\"dataframe\">\n",
       "  <thead>\n",
       "    <tr style=\"text-align: right;\">\n",
       "      <th></th>\n",
       "      <th>dataset</th>\n",
       "      <th>contrative-sc</th>\n",
       "      <th>sczi</th>\n",
       "      <th>kmeans_nmi_0</th>\n",
       "      <th>NMI</th>\n",
       "    </tr>\n",
       "  </thead>\n",
       "  <tbody>\n",
       "    <tr>\n",
       "      <th>0</th>\n",
       "      <td>Quake_Smart-seq2_Trachea</td>\n",
       "      <td>0.515871</td>\n",
       "      <td>0.826206</td>\n",
       "      <td>0.607704</td>\n",
       "      <td>0.73851</td>\n",
       "    </tr>\n",
       "    <tr>\n",
       "      <th>1</th>\n",
       "      <td>Quake_Smart-seq2_Trachea</td>\n",
       "      <td>0.500860</td>\n",
       "      <td>0.826206</td>\n",
       "      <td>0.593372</td>\n",
       "      <td>0.73851</td>\n",
       "    </tr>\n",
       "    <tr>\n",
       "      <th>2</th>\n",
       "      <td>Quake_Smart-seq2_Trachea</td>\n",
       "      <td>0.526177</td>\n",
       "      <td>0.845888</td>\n",
       "      <td>0.594374</td>\n",
       "      <td>0.73748</td>\n",
       "    </tr>\n",
       "    <tr>\n",
       "      <th>3</th>\n",
       "      <td>Quake_Smart-seq2_Trachea</td>\n",
       "      <td>0.518294</td>\n",
       "      <td>0.845888</td>\n",
       "      <td>0.626403</td>\n",
       "      <td>0.73748</td>\n",
       "    </tr>\n",
       "    <tr>\n",
       "      <th>4</th>\n",
       "      <td>Quake_Smart-seq2_Diaphragm</td>\n",
       "      <td>0.960758</td>\n",
       "      <td>0.961073</td>\n",
       "      <td>0.916762</td>\n",
       "      <td>0.93895</td>\n",
       "    </tr>\n",
       "    <tr>\n",
       "      <th>...</th>\n",
       "      <td>...</td>\n",
       "      <td>...</td>\n",
       "      <td>...</td>\n",
       "      <td>...</td>\n",
       "      <td>...</td>\n",
       "    </tr>\n",
       "    <tr>\n",
       "      <th>70</th>\n",
       "      <td>Romanov</td>\n",
       "      <td>0.670400</td>\n",
       "      <td>0.741953</td>\n",
       "      <td>0.702789</td>\n",
       "      <td>0.72576</td>\n",
       "    </tr>\n",
       "    <tr>\n",
       "      <th>71</th>\n",
       "      <td>Quake_Smart-seq2_Limb_Muscle</td>\n",
       "      <td>0.978044</td>\n",
       "      <td>0.970449</td>\n",
       "      <td>0.955893</td>\n",
       "      <td>0.94661</td>\n",
       "    </tr>\n",
       "    <tr>\n",
       "      <th>72</th>\n",
       "      <td>Muraro</td>\n",
       "      <td>0.876243</td>\n",
       "      <td>0.646664</td>\n",
       "      <td>0.845930</td>\n",
       "      <td>0.75219</td>\n",
       "    </tr>\n",
       "    <tr>\n",
       "      <th>73</th>\n",
       "      <td>10X_PBMC</td>\n",
       "      <td>0.758829</td>\n",
       "      <td>0.671588</td>\n",
       "      <td>0.760859</td>\n",
       "      <td>0.73350</td>\n",
       "    </tr>\n",
       "    <tr>\n",
       "      <th>74</th>\n",
       "      <td>Quake_10x_Spleen</td>\n",
       "      <td>0.325754</td>\n",
       "      <td>0.926827</td>\n",
       "      <td>0.566811</td>\n",
       "      <td>0.86302</td>\n",
       "    </tr>\n",
       "  </tbody>\n",
       "</table>\n",
       "<p>75 rows × 5 columns</p>\n",
       "</div>"
      ],
      "text/plain": [
       "                         dataset  contrative-sc      sczi  kmeans_nmi_0  \\\n",
       "0       Quake_Smart-seq2_Trachea       0.515871  0.826206      0.607704   \n",
       "1       Quake_Smart-seq2_Trachea       0.500860  0.826206      0.593372   \n",
       "2       Quake_Smart-seq2_Trachea       0.526177  0.845888      0.594374   \n",
       "3       Quake_Smart-seq2_Trachea       0.518294  0.845888      0.626403   \n",
       "4     Quake_Smart-seq2_Diaphragm       0.960758  0.961073      0.916762   \n",
       "..                           ...            ...       ...           ...   \n",
       "70                       Romanov       0.670400  0.741953      0.702789   \n",
       "71  Quake_Smart-seq2_Limb_Muscle       0.978044  0.970449      0.955893   \n",
       "72                        Muraro       0.876243  0.646664      0.845930   \n",
       "73                      10X_PBMC       0.758829  0.671588      0.760859   \n",
       "74              Quake_10x_Spleen       0.325754  0.926827      0.566811   \n",
       "\n",
       "        NMI  \n",
       "0   0.73851  \n",
       "1   0.73851  \n",
       "2   0.73748  \n",
       "3   0.73748  \n",
       "4   0.93895  \n",
       "..      ...  \n",
       "70  0.72576  \n",
       "71  0.94661  \n",
       "72  0.75219  \n",
       "73  0.73350  \n",
       "74  0.86302  \n",
       "\n",
       "[75 rows x 5 columns]"
      ]
     },
     "execution_count": 127,
     "metadata": {},
     "output_type": "execute_result"
    }
   ],
   "source": [
    "comb = pd.merge(r, sczi, on=[\"dataset\", \"run\"])[[\n",
    "    \"dataset\", \"kmeans_ari_0\", \"ARI\", \"kmeans_nmi_0\", \"NMI\"\n",
    "]].rename(columns = {\"kmeans_ari_0\": \"contrative-sc\", \"ARI\": \"sczi\"})\n",
    "comb"
   ]
  },
  {
   "cell_type": "code",
   "execution_count": 128,
   "metadata": {},
   "outputs": [],
   "source": [
    "comb =pd.melt(comb, id_vars=[\"dataset\"], value_vars=[\"contrative-sc\", \"sczi\"])"
   ]
  },
  {
   "cell_type": "code",
   "execution_count": 129,
   "metadata": {},
   "outputs": [
    {
     "data": {
      "text/html": [
       "<div>\n",
       "<style scoped>\n",
       "    .dataframe tbody tr th:only-of-type {\n",
       "        vertical-align: middle;\n",
       "    }\n",
       "\n",
       "    .dataframe tbody tr th {\n",
       "        vertical-align: top;\n",
       "    }\n",
       "\n",
       "    .dataframe thead th {\n",
       "        text-align: right;\n",
       "    }\n",
       "</style>\n",
       "<table border=\"1\" class=\"dataframe\">\n",
       "  <thead>\n",
       "    <tr style=\"text-align: right;\">\n",
       "      <th></th>\n",
       "      <th>dataset</th>\n",
       "      <th>variable</th>\n",
       "      <th>value</th>\n",
       "    </tr>\n",
       "  </thead>\n",
       "  <tbody>\n",
       "    <tr>\n",
       "      <th>0</th>\n",
       "      <td>Quake_Smart-seq2_Trachea</td>\n",
       "      <td>contrative-sc</td>\n",
       "      <td>0.515871</td>\n",
       "    </tr>\n",
       "    <tr>\n",
       "      <th>1</th>\n",
       "      <td>Quake_Smart-seq2_Trachea</td>\n",
       "      <td>contrative-sc</td>\n",
       "      <td>0.500860</td>\n",
       "    </tr>\n",
       "    <tr>\n",
       "      <th>2</th>\n",
       "      <td>Quake_Smart-seq2_Trachea</td>\n",
       "      <td>contrative-sc</td>\n",
       "      <td>0.526177</td>\n",
       "    </tr>\n",
       "    <tr>\n",
       "      <th>3</th>\n",
       "      <td>Quake_Smart-seq2_Trachea</td>\n",
       "      <td>contrative-sc</td>\n",
       "      <td>0.518294</td>\n",
       "    </tr>\n",
       "    <tr>\n",
       "      <th>4</th>\n",
       "      <td>Quake_Smart-seq2_Diaphragm</td>\n",
       "      <td>contrative-sc</td>\n",
       "      <td>0.960758</td>\n",
       "    </tr>\n",
       "  </tbody>\n",
       "</table>\n",
       "</div>"
      ],
      "text/plain": [
       "                      dataset       variable     value\n",
       "0    Quake_Smart-seq2_Trachea  contrative-sc  0.515871\n",
       "1    Quake_Smart-seq2_Trachea  contrative-sc  0.500860\n",
       "2    Quake_Smart-seq2_Trachea  contrative-sc  0.526177\n",
       "3    Quake_Smart-seq2_Trachea  contrative-sc  0.518294\n",
       "4  Quake_Smart-seq2_Diaphragm  contrative-sc  0.960758"
      ]
     },
     "execution_count": 129,
     "metadata": {},
     "output_type": "execute_result"
    }
   ],
   "source": [
    "comb.head()"
   ]
  },
  {
   "cell_type": "code",
   "execution_count": null,
   "metadata": {},
   "outputs": [],
   "source": []
  },
  {
   "cell_type": "code",
   "execution_count": 130,
   "metadata": {},
   "outputs": [],
   "source": [
    "import seaborn as sns"
   ]
  },
  {
   "cell_type": "code",
   "execution_count": 131,
   "metadata": {},
   "outputs": [
    {
     "data": {
      "text/plain": [
       "(array([0, 1]), <a list of 2 Text xticklabel objects>)"
      ]
     },
     "execution_count": 131,
     "metadata": {},
     "output_type": "execute_result"
    },
    {
     "data": {
      "image/png": "[encoded data removed]",
      "text/plain": [
       "<Figure size 432x288 with 1 Axes>"
      ]
     },
     "metadata": {
      "needs_background": "light"
     },
     "output_type": "display_data"
    }
   ],
   "source": [
    "sns.boxplot( data = comb, y=\"value\", x = \"variable\")\n",
    "plt.xticks(rotation = 90)"
   ]
  },
  {
   "cell_type": "code",
   "execution_count": 114,
   "metadata": {
    "scrolled": true
   },
   "outputs": [
    {
     "data": {
      "text/plain": [
       "(array([ 0,  1,  2,  3,  4,  5,  6,  7,  8,  9, 10, 11, 12, 13, 14]),\n",
       " <a list of 15 Text xticklabel objects>)"
      ]
     },
     "execution_count": 114,
     "metadata": {},
     "output_type": "execute_result"
    },
    {
     "data": {
      "image/png": "[encoded data removed]",
      "text/plain": [
       "<Figure size 432x288 with 1 Axes>"
      ]
     },
     "metadata": {
      "needs_background": "light"
     },
     "output_type": "display_data"
    }
   ],
   "source": [
    "sns.barplot(x = \"dataset\", data = comb, y=\"value\", hue = \"variable\")\n",
    "plt.xticks(rotation = 90)"
   ]
  },
  {
   "cell_type": "code",
   "execution_count": null,
   "metadata": {},
   "outputs": [],
   "source": []
  },
  {
   "cell_type": "code",
   "execution_count": null,
   "metadata": {},
   "outputs": [],
   "source": []
  },
  {
   "cell_type": "code",
   "execution_count": null,
   "metadata": {},
   "outputs": [],
   "source": [
    "df.groupby(\"dataset\").mean()"
   ]
  },
  {
   "cell_type": "markdown",
   "metadata": {},
   "source": [
    "# Importance of input size"
   ]
  },
  {
   "cell_type": "code",
   "execution_count": null,
   "metadata": {},
   "outputs": [],
   "source": [
    "df = pd.DataFrame(\n",
    "    columns=[\"dataset\", \"perc0\", \"nb_genes\", \"exp\", \"ari\", \"run\"])\n",
    "print(df.shape)\n",
    "for dataset in files:\n",
    "\n",
    "    print(f\">>>>> Data {dataset}\")\n",
    "\n",
    "    data_mat = h5py.File(f\"{path}real_data/{dataset}.h5\", \"r\")\n",
    "    for run in range(2):\n",
    "        torch.manual_seed(run)\n",
    "        torch.cuda.manual_seed_all(run)\n",
    "        np.random.seed(run)\n",
    "        random.seed(run)\n",
    "        torch.backends.cudnn.deterministic = True\n",
    "        torch.backends.cudnn.benchmark = False\n",
    "        for nb_genes in [100, 200, 500, 1000, 1500, 2000, 5000, 8000]:\n",
    "\n",
    "            X = np.array(data_mat['X'])\n",
    "            Y = np.array(data_mat['Y'])\n",
    "            perc_0 = np.where(X == 0)[0].shape[0] / (X.shape[0] * X.shape[1])\n",
    "            print(f\"Perc 0 {perc_0}\")\n",
    "            cluster_number = np.unique(Y).shape[0]\n",
    "\n",
    "            X = train.preprocess(X, nb_genes=nb_genes)\n",
    "            nb_zeros = int(0.8 * nb_genes)\n",
    "            dresults = train.train(\n",
    "                X,\n",
    "                cluster_number,\n",
    "                dataset,\n",
    "                Y,\n",
    "                n_ensemble=1,\n",
    "                epochs=100,\n",
    "                nb_zeros=nb_zeros,\n",
    "                save_to=f\"{path}output/real_data/inputs/{dataset}_{nb_genes}/\")\n",
    "\n",
    "            #         df.loc[df.shape[0]] = [\n",
    "            #                 dataset, perc_0, nb_genes, 'kmeans_representation_0',dresults['kmeans_representation_0']\n",
    "            #             ]\n",
    "            df.loc[df.shape[0]] = [\n",
    "                dataset, perc_0, nb_genes, 'leiden_representation_0',\n",
    "                dresults['leiden_representation_0'], run]\n",
    "\n",
    "#             pxt = PCA(2).fit_transform(X)\n",
    "#             dresults[\"original\"] = utils.evaluate(X, Y, cluster_number)[1]\n",
    "#             dresults[\"pca\"] = utils.evaluate(pxt, Y, cluster_number)[1]\n",
    "            print(dresults)\n",
    "    df.to_pickle(f\"{path}output/pickle_results/real_data_input_size.pkl\")"
   ]
  },
  {
   "cell_type": "code",
   "execution_count": null,
   "metadata": {},
   "outputs": [],
   "source": [
    "df = pd.read_pickle(f\"{path}output/pickle_results/real_data_input_size.pkl\")"
   ]
  },
  {
   "cell_type": "code",
   "execution_count": null,
   "metadata": {},
   "outputs": [],
   "source": [
    "df.groupby([\"nb_genes\"]).mean()"
   ]
  },
  {
   "cell_type": "code",
   "execution_count": null,
   "metadata": {},
   "outputs": [],
   "source": [
    "dataset_names = {\n",
    "    '10X_PBMC': '10X PBMC',\n",
    "    '10X_PBMC_select_2100': '10X PBMC (2100)',\n",
    "    'mouse_ES_cell': 'Mouse ES\\nCell',\n",
    "    'mouse_ES_cell_select_2100': 'Mouse ES\\nCell (2100)',\n",
    "    'worm_neuron_cell_select_2100': 'Worm Neuron\\nCell (2100)',\n",
    "    'worm_neuron_cell': 'Worm Neuron\\nCell',\n",
    "    'mouse_bladder_cell': 'Mouse Bladder\\nCell',\n",
    "    'mouse_bladder_cell_select_2100': 'Mouse Bladder\\n Cell (2100)'\n",
    "}\n",
    "\n",
    "df[\"dataset\"] = df[\"dataset\"].apply(lambda x: dataset_names[x])\n",
    "\n",
    "df = df.rename(columns = {\"nb_genes\": \"Nb input genes\"})"
   ]
  },
  {
   "cell_type": "code",
   "execution_count": null,
   "metadata": {},
   "outputs": [],
   "source": [
    "df[\"dataset\"].unique()\n"
   ]
  },
  {
   "cell_type": "code",
   "execution_count": null,
   "metadata": {},
   "outputs": [],
   "source": [
    "import seaborn as sns\n",
    "datasets = ['10X PBMC',  'Mouse ES\\nCell','Worm Neuron\\nCell', 'Mouse Bladder\\nCell']\n",
    "plt.figure(figsize=(10, 3.3))\n",
    "ax = plt.subplot(111)\n",
    "sns.barplot(\n",
    "    hue=\"Nb input genes\",\n",
    "    y=\"ari\",\n",
    "    x=\"dataset\",\n",
    "    data=df[df[\"dataset\"].isin(datasets)],\n",
    "    ax=ax,\n",
    "    edgecolor='black',\n",
    "    linewidth=1.5,\n",
    ")\n",
    "plt.ylabel(\"ARI\")\n",
    "plt.xlabel(\"\")\n",
    "plt.legend(title= \"Nb input genes\",bbox_to_anchor=(1, 1))\n",
    "sns.despine()\n",
    "plt.tight_layout()\n",
    "\n",
    "plt.savefig(f\"{path}diagrams/real_input_size.pdf\", bbox_inches='tight')"
   ]
  },
  {
   "cell_type": "code",
   "execution_count": null,
   "metadata": {},
   "outputs": [],
   "source": [
    "datasets = ['10X PBMC (2100)',\n",
    "       'Mouse ES\\nCell (2100)', 'Worm Neuron\\nCell (2100)',\n",
    "       'Mouse Bladder\\n Cell (2100)']\n",
    "plt.figure(figsize=(10, 3.3))\n",
    "ax = plt.subplot(111)\n",
    "sns.barplot(\n",
    "    hue=\"Nb input genes\",\n",
    "    y=\"ari\",\n",
    "    x=\"dataset\",\n",
    "    data=df[df[\"dataset\"].isin(datasets)],\n",
    "    ax=ax,\n",
    "    edgecolor='black',\n",
    "    linewidth=1.5,\n",
    ")\n",
    "plt.ylabel(\"ARI\")\n",
    "plt.xlabel(\"\")\n",
    "plt.legend(title= \"Nb input genes\",bbox_to_anchor=(1, 1))\n",
    "sns.despine()\n",
    "plt.tight_layout()\n",
    "\n",
    "plt.savefig(f\"{path}diagrams/real_input_size_2100.pdf\", bbox_inches='tight')"
   ]
  },
  {
   "cell_type": "code",
   "execution_count": null,
   "metadata": {},
   "outputs": [],
   "source": []
  },
  {
   "cell_type": "markdown",
   "metadata": {},
   "source": [
    "# Importance of the number of epochs"
   ]
  },
  {
   "cell_type": "code",
   "execution_count": null,
   "metadata": {},
   "outputs": [],
   "source": [
    "df = pd.DataFrame(\n",
    "    columns=[\"dataset\", \"perc0\", \"nb_epochs\", \"exp\", \"ari\", \"run\"])\n",
    "print(df.shape)\n",
    "for dataset in files:\n",
    "\n",
    "    print(f\">>>>> Data {dataset}\")\n",
    "\n",
    "    data_mat = h5py.File(f\"{path}real_data/{dataset}.h5\", \"r\")\n",
    "    nb_genes = 1500\n",
    "    for epochs in [5, 50, 100, 300]:\n",
    "\n",
    "        X = np.array(data_mat['X'])\n",
    "        Y = np.array(data_mat['Y'])\n",
    "        perc_0 = np.where(X == 0)[0].shape[0] / (X.shape[0] * X.shape[1])\n",
    "        print(f\"Perc 0 {perc_0}\")\n",
    "        cluster_number = np.unique(Y).shape[0]\n",
    "\n",
    "        X = train.preprocess(X, nb_genes=nb_genes)\n",
    "        nb_zeros = int(0.8 * nb_genes)\n",
    "        for run in range(2):\n",
    "            torch.manual_seed(run)\n",
    "            torch.cuda.manual_seed_all(run)\n",
    "            np.random.seed(run)\n",
    "            random.seed(run)\n",
    "            torch.backends.cudnn.deterministic = True\n",
    "            torch.backends.cudnn.benchmark = False\n",
    "\n",
    "            dresults = train.train(\n",
    "                X,\n",
    "                cluster_number,\n",
    "                dataset,\n",
    "                Y,\n",
    "                n_ensemble=1,\n",
    "                epochs=epochs,\n",
    "                nb_zeros=nb_zeros,\n",
    "                save_to=f\"{path}output/real_data/epochs/{dataset}_{epochs}/\")\n",
    "\n",
    "            df.loc[df.shape[0]] = [\n",
    "                dataset, perc_0, epochs, 'kmeans_representation_0',\n",
    "                dresults['kmeans_representation_0'], run\n",
    "            ]\n",
    "            df.loc[df.shape[0]] = [\n",
    "                dataset, perc_0, epochs, 'leiden_representation_0',\n",
    "                dresults['leiden_representation_0'], run\n",
    "            ]\n",
    "\n",
    "            print(dresults)\n",
    "            df.to_pickle(f\"{path}output/pickle_results/real_data_epochs.pkl\")"
   ]
  },
  {
   "cell_type": "code",
   "execution_count": null,
   "metadata": {},
   "outputs": [],
   "source": [
    "df = pd.read_pickle(f\"{path}output/pickle_results/real_data_epochs.pkl\")"
   ]
  },
  {
   "cell_type": "code",
   "execution_count": null,
   "metadata": {},
   "outputs": [],
   "source": [
    "dataset_names = {\n",
    "    '10X_PBMC': '10X PBMC',\n",
    "    '10X_PBMC_select_2100': '10X PBMC (2100)',\n",
    "    'mouse_ES_cell': 'Mouse ES\\nCell',\n",
    "    'mouse_ES_cell_select_2100': 'Mouse ES\\nCell (2100)',\n",
    "    'worm_neuron_cell_select_2100': 'Worm Neuron\\nCell (2100)',\n",
    "    'worm_neuron_cell': 'Worm Neuron\\nCell',\n",
    "    'mouse_bladder_cell': 'Mouse Bladder\\nCell',\n",
    "    'mouse_bladder_cell_select_2100': 'Mouse Bladder\\n Cell (2100)'\n",
    "}\n",
    "\n",
    "df[\"dataset\"] = df[\"dataset\"].apply(lambda x: dataset_names[x])\n",
    "\n",
    "df = df.rename(columns = {\"nb_epochs\": \"Nb epochs\"})"
   ]
  },
  {
   "cell_type": "code",
   "execution_count": null,
   "metadata": {},
   "outputs": [],
   "source": [
    "import seaborn as sns\n",
    "datasets = ['10X PBMC',  'Mouse ES\\nCell','Worm Neuron\\nCell', 'Mouse Bladder\\nCell']\n",
    "plt.figure(figsize=(7, 3))\n",
    "ax = plt.subplot(111)\n",
    "sns.barplot(\n",
    "    hue=\"Nb epochs\",\n",
    "    y=\"ari\",\n",
    "    x=\"dataset\",\n",
    "    data=df[df[\"dataset\"].isin(datasets)],\n",
    "    ax=ax,\n",
    "    edgecolor='black',\n",
    "    linewidth=1.5,\n",
    ")\n",
    "plt.ylabel(\"ARI\")\n",
    "plt.xlabel(\"\")\n",
    "plt.legend(title =\"Number of epochs\",bbox_to_anchor=(1, 1))\n",
    "sns.despine()\n",
    "plt.tight_layout()\n",
    "\n",
    "plt.savefig(f\"{path}diagrams/real_nb_epochs.pdf\", bbox_inches='tight')"
   ]
  },
  {
   "cell_type": "code",
   "execution_count": null,
   "metadata": {},
   "outputs": [],
   "source": []
  },
  {
   "cell_type": "code",
   "execution_count": null,
   "metadata": {},
   "outputs": [],
   "source": []
  }
 ],
 "metadata": {
  "kernelspec": {
   "display_name": "Python 3",
   "language": "python",
   "name": "python3"
  },
  "language_info": {
   "codemirror_mode": {
    "name": "ipython",
    "version": 3
   },
   "file_extension": ".py",
   "mimetype": "text/x-python",
   "name": "python",
   "nbconvert_exporter": "python",
   "pygments_lexer": "ipython3",
   "version": "3.7.4"
  }
 },
 "nbformat": 4,
 "nbformat_minor": 4
}
