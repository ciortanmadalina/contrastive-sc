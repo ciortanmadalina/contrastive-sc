{
 "cells": [
  {
   "cell_type": "markdown",
   "metadata": {},
   "source": [
    "Original implementation of Contrastive-sc method\n",
    "(https://github.com/ciortanmadalina/contrastive-sc)"
   ]
  },
  {
   "cell_type": "code",
   "execution_count": 1,
   "metadata": {},
   "outputs": [
    {
     "name": "stderr",
     "output_type": "stream",
     "text": [
      "/opt/conda/lib/python3.7/site-packages/scanpy/api/__init__.py:7: FutureWarning: \n",
      "\n",
      "In a future version of Scanpy, `scanpy.api` will be removed.\n",
      "Simply use `import scanpy as sc` and `import scanpy.external as sce` instead.\n",
      "\n",
      "  FutureWarning,\n"
     ]
    }
   ],
   "source": [
    "import sys\n",
    "sys.path.append(\"..\")\n",
    "import argparse\n",
    "from sklearn.metrics import adjusted_rand_score, normalized_mutual_info_score\n",
    "from sklearn.cluster import KMeans\n",
    "from sklearn import metrics\n",
    "\n",
    "import torch\n",
    "import torch.nn as nn\n",
    "import copy\n",
    "from tqdm.notebook import tqdm\n",
    "import models\n",
    "import numpy as np\n",
    "import pandas as pd\n",
    "from sklearn.decomposition import PCA\n",
    "import matplotlib.pyplot as plt\n",
    "import st_loss\n",
    "\n",
    "import h5py\n",
    "import scipy as sp\n",
    "import scanpy.api as sc\n",
    "from collections import Counter\n",
    "import random\n",
    "import utils\n",
    "import loop\n",
    "import pickle\n",
    "\n",
    "import train\n",
    "import os\n",
    "import glob2\n",
    "plt.ion()\n",
    "plt.show()\n",
    "%load_ext autoreload\n",
    "%autoreload 2\n",
    "\n",
    "import warnings\n",
    "warnings.filterwarnings(\"ignore\", category=FutureWarning)"
   ]
  },
  {
   "cell_type": "code",
   "execution_count": 2,
   "metadata": {},
   "outputs": [
    {
     "data": {
      "text/plain": [
       "['Quake_Smart-seq2_Trachea',\n",
       " 'Quake_Smart-seq2_Diaphragm',\n",
       " 'Quake_10x_Spleen',\n",
       " 'Young',\n",
       " '10X_PBMC_select_2100',\n",
       " 'mouse_ES_cell',\n",
       " 'Adam',\n",
       " 'Quake_10x_Bladder',\n",
       " 'Quake_Smart-seq2_Lung',\n",
       " 'worm_neuron_cell_select_2100',\n",
       " 'Quake_10x_Limb_Muscle',\n",
       " 'worm_neuron_cell',\n",
       " 'mouse_bladder_cell',\n",
       " 'mouse_ES_cell_select_2100',\n",
       " 'Romanov',\n",
       " 'Quake_Smart-seq2_Limb_Muscle',\n",
       " 'Muraro',\n",
       " 'mouse_bladder_cell_select_2100',\n",
       " '10X_PBMC']"
      ]
     },
     "execution_count": 2,
     "metadata": {},
     "output_type": "execute_result"
    }
   ],
   "source": [
    "path = \"../\"\n",
    "files = glob2.glob(f'{path}real_data/*.h5')\n",
    "files = [f[len(f\"'{path}real_data\"):-3] for f in files]\n",
    "files"
   ]
  },
  {
   "cell_type": "code",
   "execution_count": 3,
   "metadata": {},
   "outputs": [],
   "source": [
    "sczi = pd.read_pickle(f\"../output/pickle_results/real_data/real_data_sczi.pkl\")"
   ]
  },
  {
   "cell_type": "code",
   "execution_count": 4,
   "metadata": {},
   "outputs": [],
   "source": [
    "df = pd.read_pickle(f\"{path}output/pickle_results/real_data_1model.pkl\")"
   ]
  },
  {
   "cell_type": "code",
   "execution_count": 9,
   "metadata": {},
   "outputs": [
    {
     "name": "stdout",
     "output_type": "stream",
     "text": [
      ">>>>> Data Quake_Smart-seq2_Trachea\n",
      "SCZI  0.8291128219663276\n",
      "(1350, 23341) (1350, 23341) keeping 1500 genes\n"
     ]
    },
    {
     "data": {
      "application/vnd.jupyter.widget-view+json": {
       "model_id": "e401b20a35c4473eb4fa3918b5df885a",
       "version_major": 2,
       "version_minor": 0
      },
      "text/plain": [
       "HBox(children=(IntProgress(value=0, max=1), HTML(value='')))"
      ]
     },
     "metadata": {},
     "output_type": "display_data"
    },
    {
     "name": "stdout",
     "output_type": "stream",
     "text": [
      "....\n",
      ">>>>> Data Quake_Smart-seq2_Diaphragm\n",
      "SCZI  0.9596701189611787\n",
      "(870, 23341) (870, 23341) keeping 1500 genes\n"
     ]
    },
    {
     "data": {
      "application/vnd.jupyter.widget-view+json": {
       "model_id": "b9af11af24a942af87c19efdd7a119ab",
       "version_major": 2,
       "version_minor": 0
      },
      "text/plain": [
       "HBox(children=(IntProgress(value=0, max=1), HTML(value='')))"
      ]
     },
     "metadata": {},
     "output_type": "display_data"
    },
    {
     "name": "stdout",
     "output_type": "stream",
     "text": [
      "....\n",
      ">>>>> Data Quake_10x_Spleen\n",
      "SCZI  0.909534824400645\n",
      "(9552, 23341) (9552, 23341) keeping 1500 genes\n"
     ]
    },
    {
     "data": {
      "application/vnd.jupyter.widget-view+json": {
       "model_id": "a70ca28bd82a4baf943e25c4d1f80ddc",
       "version_major": 2,
       "version_minor": 0
      },
      "text/plain": [
       "HBox(children=(IntProgress(value=0, max=1), HTML(value='')))"
      ]
     },
     "metadata": {},
     "output_type": "display_data"
    },
    {
     "name": "stdout",
     "output_type": "stream",
     "text": [
      "....\n",
      ">>>>> Data Young\n",
      "SCZI  0.6629811886776039\n",
      "(5685, 33658) (5685, 33658) keeping 1500 genes\n"
     ]
    },
    {
     "data": {
      "application/vnd.jupyter.widget-view+json": {
       "model_id": "7c348208ba154191b205c41a07c23016",
       "version_major": 2,
       "version_minor": 0
      },
      "text/plain": [
       "HBox(children=(IntProgress(value=0, max=1), HTML(value='')))"
      ]
     },
     "metadata": {},
     "output_type": "display_data"
    },
    {
     "name": "stdout",
     "output_type": "stream",
     "text": [
      "....\n",
      ">>>>> Data 10X_PBMC_select_2100\n",
      "SCZI  0.597949963742046\n",
      "(2100, 16653) (2100, 16653) keeping 1500 genes\n"
     ]
    },
    {
     "data": {
      "application/vnd.jupyter.widget-view+json": {
       "model_id": "ad2cb572197d402d92e4f5f7df5a14dd",
       "version_major": 2,
       "version_minor": 0
      },
      "text/plain": [
       "HBox(children=(IntProgress(value=0, max=1), HTML(value='')))"
      ]
     },
     "metadata": {},
     "output_type": "display_data"
    },
    {
     "name": "stdout",
     "output_type": "stream",
     "text": [
      "....\n",
      ">>>>> Data mouse_ES_cell\n",
      "SCZI  0.800376096099337\n",
      "(2717, 24175) (2717, 24175) keeping 1500 genes\n"
     ]
    },
    {
     "data": {
      "application/vnd.jupyter.widget-view+json": {
       "model_id": "55dee61dcc72475fa4b8ba0f4ea9c8f1",
       "version_major": 2,
       "version_minor": 0
      },
      "text/plain": [
       "HBox(children=(IntProgress(value=0, max=1), HTML(value='')))"
      ]
     },
     "metadata": {},
     "output_type": "display_data"
    },
    {
     "name": "stdout",
     "output_type": "stream",
     "text": [
      "....\n",
      ">>>>> Data Adam\n",
      "SCZI  0.8634561030635544\n",
      "(3660, 23797) (3660, 23797) keeping 1500 genes\n"
     ]
    },
    {
     "data": {
      "application/vnd.jupyter.widget-view+json": {
       "model_id": "4ef2b065dc4446648c2d45a6c0ec1ad0",
       "version_major": 2,
       "version_minor": 0
      },
      "text/plain": [
       "HBox(children=(IntProgress(value=0, max=1), HTML(value='')))"
      ]
     },
     "metadata": {},
     "output_type": "display_data"
    },
    {
     "name": "stdout",
     "output_type": "stream",
     "text": [
      "....\n",
      ">>>>> Data Quake_10x_Bladder\n",
      "SCZI  0.983095549108186\n",
      "(2500, 23341) (2500, 23341) keeping 1500 genes\n"
     ]
    },
    {
     "data": {
      "application/vnd.jupyter.widget-view+json": {
       "model_id": "e0b86edb389a4dc0a30a4fbefd305794",
       "version_major": 2,
       "version_minor": 0
      },
      "text/plain": [
       "HBox(children=(IntProgress(value=0, max=1), HTML(value='')))"
      ]
     },
     "metadata": {},
     "output_type": "display_data"
    },
    {
     "name": "stdout",
     "output_type": "stream",
     "text": [
      "....\n",
      ">>>>> Data Quake_Smart-seq2_Lung\n",
      "SCZI  0.7134055445020913\n",
      "(1676, 23341) (1676, 23341) keeping 1500 genes\n"
     ]
    },
    {
     "data": {
      "application/vnd.jupyter.widget-view+json": {
       "model_id": "61a6e4bdb3c14b7e9b280d12d72e8b48",
       "version_major": 2,
       "version_minor": 0
      },
      "text/plain": [
       "HBox(children=(IntProgress(value=0, max=1), HTML(value='')))"
      ]
     },
     "metadata": {},
     "output_type": "display_data"
    },
    {
     "name": "stdout",
     "output_type": "stream",
     "text": [
      "....\n",
      ">>>>> Data worm_neuron_cell_select_2100\n",
      "SCZI  0.23000707094427983\n",
      "(2100, 13488) (2100, 13488) keeping 1500 genes\n"
     ]
    },
    {
     "data": {
      "application/vnd.jupyter.widget-view+json": {
       "model_id": "c44f8d12a2264c6494e7b933f0f03e17",
       "version_major": 2,
       "version_minor": 0
      },
      "text/plain": [
       "HBox(children=(IntProgress(value=0, max=1), HTML(value='')))"
      ]
     },
     "metadata": {},
     "output_type": "display_data"
    },
    {
     "name": "stdout",
     "output_type": "stream",
     "text": [
      "....\n",
      ">>>>> Data Quake_10x_Limb_Muscle\n",
      "SCZI  0.9610559204789085\n",
      "(3909, 23341) (3909, 23341) keeping 1500 genes\n"
     ]
    },
    {
     "data": {
      "application/vnd.jupyter.widget-view+json": {
       "model_id": "f24c53aa522b4b61a37c1a3fb9cc7fbd",
       "version_major": 2,
       "version_minor": 0
      },
      "text/plain": [
       "HBox(children=(IntProgress(value=0, max=1), HTML(value='')))"
      ]
     },
     "metadata": {},
     "output_type": "display_data"
    },
    {
     "name": "stdout",
     "output_type": "stream",
     "text": [
      "....\n",
      ">>>>> Data worm_neuron_cell\n",
      "SCZI  0.05077670288621814\n",
      "(4186, 13488) (4186, 13488) keeping 1500 genes\n"
     ]
    },
    {
     "data": {
      "application/vnd.jupyter.widget-view+json": {
       "model_id": "d3776e27bd4a46b4998d01b6aa0817ee",
       "version_major": 2,
       "version_minor": 0
      },
      "text/plain": [
       "HBox(children=(IntProgress(value=0, max=1), HTML(value='')))"
      ]
     },
     "metadata": {},
     "output_type": "display_data"
    },
    {
     "name": "stdout",
     "output_type": "stream",
     "text": [
      "....\n",
      ">>>>> Data mouse_bladder_cell\n",
      "SCZI  0.4148792388055975\n",
      "(2746, 20670) (2746, 20670) keeping 1500 genes\n"
     ]
    },
    {
     "data": {
      "application/vnd.jupyter.widget-view+json": {
       "model_id": "19b23e10e7044fcda38a6b0107b3df0e",
       "version_major": 2,
       "version_minor": 0
      },
      "text/plain": [
       "HBox(children=(IntProgress(value=0, max=1), HTML(value='')))"
      ]
     },
     "metadata": {},
     "output_type": "display_data"
    },
    {
     "name": "stdout",
     "output_type": "stream",
     "text": [
      "....\n",
      ">>>>> Data mouse_ES_cell_select_2100\n",
      "SCZI  0.797259962070681\n",
      "(2100, 24175) (2100, 24175) keeping 1500 genes\n"
     ]
    },
    {
     "data": {
      "application/vnd.jupyter.widget-view+json": {
       "model_id": "a102df146de546549025ebd13c82a21b",
       "version_major": 2,
       "version_minor": 0
      },
      "text/plain": [
       "HBox(children=(IntProgress(value=0, max=1), HTML(value='')))"
      ]
     },
     "metadata": {},
     "output_type": "display_data"
    },
    {
     "name": "stdout",
     "output_type": "stream",
     "text": [
      "....\n",
      ">>>>> Data Romanov\n",
      "SCZI  0.75405351856634\n",
      "(2881, 21143) (2881, 21143) keeping 1500 genes\n"
     ]
    },
    {
     "data": {
      "application/vnd.jupyter.widget-view+json": {
       "model_id": "20ed8fef28c54f229eaefb998bb065c7",
       "version_major": 2,
       "version_minor": 0
      },
      "text/plain": [
       "HBox(children=(IntProgress(value=0, max=1), HTML(value='')))"
      ]
     },
     "metadata": {},
     "output_type": "display_data"
    },
    {
     "name": "stdout",
     "output_type": "stream",
     "text": [
      "....\n",
      ">>>>> Data Quake_Smart-seq2_Limb_Muscle\n",
      "SCZI  0.9736759009464299\n",
      "(1090, 23341) (1090, 23341) keeping 1500 genes\n"
     ]
    },
    {
     "data": {
      "application/vnd.jupyter.widget-view+json": {
       "model_id": "b936fbe607f040a287f05551eb4cfa3a",
       "version_major": 2,
       "version_minor": 0
      },
      "text/plain": [
       "HBox(children=(IntProgress(value=0, max=1), HTML(value='')))"
      ]
     },
     "metadata": {},
     "output_type": "display_data"
    },
    {
     "name": "stdout",
     "output_type": "stream",
     "text": [
      "....\n",
      ">>>>> Data Muraro\n",
      "SCZI  0.7246271034758398\n",
      "(2122, 19046) (2122, 19046) keeping 1500 genes\n"
     ]
    },
    {
     "data": {
      "application/vnd.jupyter.widget-view+json": {
       "model_id": "fb7f456f685747c89d969259ffdef374",
       "version_major": 2,
       "version_minor": 0
      },
      "text/plain": [
       "HBox(children=(IntProgress(value=0, max=1), HTML(value='')))"
      ]
     },
     "metadata": {},
     "output_type": "display_data"
    },
    {
     "name": "stdout",
     "output_type": "stream",
     "text": [
      "....\n",
      ">>>>> Data mouse_bladder_cell_select_2100\n",
      "SCZI  0.521167400509594\n",
      "(2100, 20670) (2100, 20670) keeping 1500 genes\n"
     ]
    },
    {
     "data": {
      "application/vnd.jupyter.widget-view+json": {
       "model_id": "72026adf8d9949ff85b716722d371da6",
       "version_major": 2,
       "version_minor": 0
      },
      "text/plain": [
       "HBox(children=(IntProgress(value=0, max=1), HTML(value='')))"
      ]
     },
     "metadata": {},
     "output_type": "display_data"
    },
    {
     "name": "stdout",
     "output_type": "stream",
     "text": [
      "....\n",
      ">>>>> Data 10X_PBMC\n",
      "SCZI  0.5845649506030623\n",
      "(4271, 16653) (4271, 16653) keeping 1500 genes\n"
     ]
    },
    {
     "data": {
      "application/vnd.jupyter.widget-view+json": {
       "model_id": "9a24e9a5605e4069b7ff89b28a32bc55",
       "version_major": 2,
       "version_minor": 0
      },
      "text/plain": [
       "HBox(children=(IntProgress(value=0, max=1), HTML(value='')))"
      ]
     },
     "metadata": {},
     "output_type": "display_data"
    },
    {
     "name": "stdout",
     "output_type": "stream",
     "text": [
      "....\n"
     ]
    }
   ],
   "source": [
    "# df = pd.DataFrame()\n",
    "\n",
    "for dataset in files:\n",
    "\n",
    "    print(f\">>>>> Data {dataset}\")\n",
    "    print(\"SCZI \", sczi[sczi[\"dataset\"] == dataset][\"ARI\"].mean())\n",
    "    data_mat = h5py.File(f\"{path}real_data/{dataset}.h5\", \"r\")\n",
    "    X = np.array(data_mat['X'])\n",
    "    Y = np.array(data_mat['Y'])\n",
    "\n",
    "    cluster_number = np.unique(Y).shape[0]\n",
    "    nb_genes = 1500\n",
    "    data_mat = h5py.File(f\"{path}real_data/{dataset}.h5\", \"r\")\n",
    "    X = np.array(data_mat['X'])\n",
    "    Y = np.array(data_mat['Y'])\n",
    "\n",
    "    X = train.preprocess(X, nb_genes=nb_genes)\n",
    "    for temperature in tqdm([ 0.01,\n",
    "                             # 0.07, 0.5,\n",
    "                            ]):\n",
    "        for dropout in [ 0.9,\n",
    "#                         0.8, 0.2, 0.5 \n",
    "                       ]:\n",
    "            for lr in [1e-5\n",
    "                       #, 1e-4, 1e-6\n",
    "                      ]:\n",
    "                for layers in [\n",
    "                    [15], [30]\n",
    "                   # [100], [200]\n",
    "#                     [50],[100, 30],  [200, 100, 30],  [200, 100, 30, 30]\n",
    "                              ]:\n",
    "                    for run in range(2):\n",
    "                        torch.manual_seed(run)\n",
    "                        torch.cuda.manual_seed_all(run)\n",
    "                        np.random.seed(run)\n",
    "                        random.seed(run)\n",
    "                        torch.backends.cudnn.deterministic = True\n",
    "                        torch.backends.cudnn.benchmark = False\n",
    "                        dresults = train.run(X,\n",
    "                                             cluster_number,\n",
    "                                             dataset,\n",
    "                                             Y=Y,\n",
    "                                             nb_epochs=20,\n",
    "                                             lr=lr,\n",
    "                                             temperature=temperature,\n",
    "                                             dropout=dropout,\n",
    "                                             evaluate=False,\n",
    "                                             n_ensemble=1,\n",
    "                                             layers=layers,\n",
    "                                             save_to=f\"{path}output/real_data/{run}/\",\n",
    "                                             save_pred = False)\n",
    "                        dresults[\"temperature\"] = temperature\n",
    "                        dresults[\"dropout\"] = dropout\n",
    "                        dresults[\"lr\"] = lr\n",
    "                        dresults[\"layers\"] = str(layers)\n",
    "                        dresults[\"run\"] = run\n",
    "                        print(f\".\", end = \"\")\n",
    "#                         print(f\"# {temperature}, {dropout}, {lr}, {layers}\", \n",
    "#                               dresults.get('COMBINED_kmeans_ari', \"\"),\n",
    "#                               dresults.get('COMBINED_leiden_ari', \"\"), dresults.get('kmeans_ari_0',\"\"),\n",
    "#                               dresults.get('leiden_ari_0', \"\"))\n",
    "                        df = df.append(dresults, ignore_index=True)\n",
    "\n",
    "                        df.to_pickle(f\"{path}output/pickle_results/real_data/real_data_1model.pkl\")"
   ]
  },
  {
   "cell_type": "code",
   "execution_count": 11,
   "metadata": {},
   "outputs": [
    {
     "data": {
      "text/html": [
       "<div>\n",
       "<style scoped>\n",
       "    .dataframe tbody tr th:only-of-type {\n",
       "        vertical-align: middle;\n",
       "    }\n",
       "\n",
       "    .dataframe tbody tr th {\n",
       "        vertical-align: top;\n",
       "    }\n",
       "\n",
       "    .dataframe thead tr th {\n",
       "        text-align: left;\n",
       "    }\n",
       "\n",
       "    .dataframe thead tr:last-of-type th {\n",
       "        text-align: right;\n",
       "    }\n",
       "</style>\n",
       "<table border=\"1\" class=\"dataframe\">\n",
       "  <thead>\n",
       "    <tr>\n",
       "      <th></th>\n",
       "      <th>layers</th>\n",
       "      <th colspan=\"3\" halign=\"left\">[100, 30]</th>\n",
       "      <th>[100]</th>\n",
       "      <th>[15]</th>\n",
       "      <th colspan=\"3\" halign=\"left\">[200, 100, 30, 30]</th>\n",
       "      <th colspan=\"3\" halign=\"left\">[200, 100, 30]</th>\n",
       "      <th>[200]</th>\n",
       "      <th>[30]</th>\n",
       "      <th colspan=\"3\" halign=\"left\">[50]</th>\n",
       "    </tr>\n",
       "    <tr>\n",
       "      <th></th>\n",
       "      <th>lr</th>\n",
       "      <th>0.000001</th>\n",
       "      <th>0.000010</th>\n",
       "      <th>0.000100</th>\n",
       "      <th>0.000010</th>\n",
       "      <th>0.000010</th>\n",
       "      <th>0.000001</th>\n",
       "      <th>0.000010</th>\n",
       "      <th>0.000100</th>\n",
       "      <th>0.000001</th>\n",
       "      <th>0.000010</th>\n",
       "      <th>0.000100</th>\n",
       "      <th>0.000010</th>\n",
       "      <th>0.000010</th>\n",
       "      <th>0.000001</th>\n",
       "      <th>0.000010</th>\n",
       "      <th>0.000100</th>\n",
       "    </tr>\n",
       "    <tr>\n",
       "      <th>temperature</th>\n",
       "      <th>dropout</th>\n",
       "      <th></th>\n",
       "      <th></th>\n",
       "      <th></th>\n",
       "      <th></th>\n",
       "      <th></th>\n",
       "      <th></th>\n",
       "      <th></th>\n",
       "      <th></th>\n",
       "      <th></th>\n",
       "      <th></th>\n",
       "      <th></th>\n",
       "      <th></th>\n",
       "      <th></th>\n",
       "      <th></th>\n",
       "      <th></th>\n",
       "      <th></th>\n",
       "    </tr>\n",
       "  </thead>\n",
       "  <tbody>\n",
       "    <tr>\n",
       "      <th rowspan=\"4\" valign=\"top\">0.01</th>\n",
       "      <th>0.2</th>\n",
       "      <td>0.511959</td>\n",
       "      <td>0.511959</td>\n",
       "      <td>0.511959</td>\n",
       "      <td>NaN</td>\n",
       "      <td>NaN</td>\n",
       "      <td>0.449366</td>\n",
       "      <td>0.449366</td>\n",
       "      <td>0.449366</td>\n",
       "      <td>0.472721</td>\n",
       "      <td>0.472721</td>\n",
       "      <td>0.472721</td>\n",
       "      <td>NaN</td>\n",
       "      <td>NaN</td>\n",
       "      <td>0.555164</td>\n",
       "      <td>0.555164</td>\n",
       "      <td>0.555164</td>\n",
       "    </tr>\n",
       "    <tr>\n",
       "      <th>0.5</th>\n",
       "      <td>0.561639</td>\n",
       "      <td>0.561639</td>\n",
       "      <td>0.561639</td>\n",
       "      <td>NaN</td>\n",
       "      <td>NaN</td>\n",
       "      <td>0.530522</td>\n",
       "      <td>0.530522</td>\n",
       "      <td>0.530522</td>\n",
       "      <td>0.522939</td>\n",
       "      <td>0.522939</td>\n",
       "      <td>0.522939</td>\n",
       "      <td>NaN</td>\n",
       "      <td>NaN</td>\n",
       "      <td>0.604148</td>\n",
       "      <td>0.604148</td>\n",
       "      <td>0.604148</td>\n",
       "    </tr>\n",
       "    <tr>\n",
       "      <th>0.8</th>\n",
       "      <td>0.638963</td>\n",
       "      <td>0.638963</td>\n",
       "      <td>0.638963</td>\n",
       "      <td>NaN</td>\n",
       "      <td>NaN</td>\n",
       "      <td>0.625792</td>\n",
       "      <td>0.625792</td>\n",
       "      <td>0.625792</td>\n",
       "      <td>0.637956</td>\n",
       "      <td>0.637956</td>\n",
       "      <td>0.637956</td>\n",
       "      <td>NaN</td>\n",
       "      <td>NaN</td>\n",
       "      <td>0.673766</td>\n",
       "      <td>0.673766</td>\n",
       "      <td>0.673766</td>\n",
       "    </tr>\n",
       "    <tr>\n",
       "      <th>0.9</th>\n",
       "      <td>0.627648</td>\n",
       "      <td>0.627648</td>\n",
       "      <td>0.627648</td>\n",
       "      <td>0.654767</td>\n",
       "      <td>0.64641</td>\n",
       "      <td>0.602669</td>\n",
       "      <td>0.602669</td>\n",
       "      <td>0.602669</td>\n",
       "      <td>0.623157</td>\n",
       "      <td>0.623157</td>\n",
       "      <td>0.623157</td>\n",
       "      <td>0.656382</td>\n",
       "      <td>0.677728</td>\n",
       "      <td>0.692151</td>\n",
       "      <td>0.692151</td>\n",
       "      <td>0.692151</td>\n",
       "    </tr>\n",
       "    <tr>\n",
       "      <th rowspan=\"4\" valign=\"top\">0.07</th>\n",
       "      <th>0.2</th>\n",
       "      <td>0.277751</td>\n",
       "      <td>0.277751</td>\n",
       "      <td>0.277751</td>\n",
       "      <td>NaN</td>\n",
       "      <td>NaN</td>\n",
       "      <td>0.228623</td>\n",
       "      <td>0.228623</td>\n",
       "      <td>0.228623</td>\n",
       "      <td>0.236237</td>\n",
       "      <td>0.236237</td>\n",
       "      <td>0.236237</td>\n",
       "      <td>NaN</td>\n",
       "      <td>NaN</td>\n",
       "      <td>0.320988</td>\n",
       "      <td>0.320988</td>\n",
       "      <td>0.320988</td>\n",
       "    </tr>\n",
       "    <tr>\n",
       "      <th>0.5</th>\n",
       "      <td>0.484438</td>\n",
       "      <td>0.484438</td>\n",
       "      <td>0.484438</td>\n",
       "      <td>NaN</td>\n",
       "      <td>NaN</td>\n",
       "      <td>0.422648</td>\n",
       "      <td>0.422648</td>\n",
       "      <td>0.422648</td>\n",
       "      <td>0.438549</td>\n",
       "      <td>0.438549</td>\n",
       "      <td>0.438549</td>\n",
       "      <td>NaN</td>\n",
       "      <td>NaN</td>\n",
       "      <td>0.506122</td>\n",
       "      <td>0.506122</td>\n",
       "      <td>0.506122</td>\n",
       "    </tr>\n",
       "    <tr>\n",
       "      <th>0.8</th>\n",
       "      <td>0.618134</td>\n",
       "      <td>0.618134</td>\n",
       "      <td>0.618134</td>\n",
       "      <td>NaN</td>\n",
       "      <td>NaN</td>\n",
       "      <td>0.636183</td>\n",
       "      <td>0.636183</td>\n",
       "      <td>0.636183</td>\n",
       "      <td>0.634162</td>\n",
       "      <td>0.634162</td>\n",
       "      <td>0.634162</td>\n",
       "      <td>NaN</td>\n",
       "      <td>NaN</td>\n",
       "      <td>0.598195</td>\n",
       "      <td>0.598195</td>\n",
       "      <td>0.598195</td>\n",
       "    </tr>\n",
       "    <tr>\n",
       "      <th>0.9</th>\n",
       "      <td>0.648517</td>\n",
       "      <td>0.648517</td>\n",
       "      <td>0.648517</td>\n",
       "      <td>NaN</td>\n",
       "      <td>NaN</td>\n",
       "      <td>0.654658</td>\n",
       "      <td>0.654658</td>\n",
       "      <td>0.654658</td>\n",
       "      <td>0.635984</td>\n",
       "      <td>0.635984</td>\n",
       "      <td>0.635984</td>\n",
       "      <td>NaN</td>\n",
       "      <td>NaN</td>\n",
       "      <td>0.652793</td>\n",
       "      <td>0.652793</td>\n",
       "      <td>0.652793</td>\n",
       "    </tr>\n",
       "    <tr>\n",
       "      <th rowspan=\"4\" valign=\"top\">0.50</th>\n",
       "      <th>0.2</th>\n",
       "      <td>0.433748</td>\n",
       "      <td>0.433748</td>\n",
       "      <td>0.433748</td>\n",
       "      <td>NaN</td>\n",
       "      <td>NaN</td>\n",
       "      <td>0.401195</td>\n",
       "      <td>0.401195</td>\n",
       "      <td>0.401195</td>\n",
       "      <td>0.430879</td>\n",
       "      <td>0.430879</td>\n",
       "      <td>0.430879</td>\n",
       "      <td>NaN</td>\n",
       "      <td>NaN</td>\n",
       "      <td>0.529359</td>\n",
       "      <td>0.529359</td>\n",
       "      <td>0.529359</td>\n",
       "    </tr>\n",
       "    <tr>\n",
       "      <th>0.5</th>\n",
       "      <td>0.493075</td>\n",
       "      <td>0.493075</td>\n",
       "      <td>0.493075</td>\n",
       "      <td>NaN</td>\n",
       "      <td>NaN</td>\n",
       "      <td>0.468168</td>\n",
       "      <td>0.468168</td>\n",
       "      <td>0.468168</td>\n",
       "      <td>0.501659</td>\n",
       "      <td>0.501659</td>\n",
       "      <td>0.501659</td>\n",
       "      <td>NaN</td>\n",
       "      <td>NaN</td>\n",
       "      <td>0.573374</td>\n",
       "      <td>0.573374</td>\n",
       "      <td>0.573374</td>\n",
       "    </tr>\n",
       "    <tr>\n",
       "      <th>0.8</th>\n",
       "      <td>0.571350</td>\n",
       "      <td>0.571350</td>\n",
       "      <td>0.571350</td>\n",
       "      <td>NaN</td>\n",
       "      <td>NaN</td>\n",
       "      <td>0.562717</td>\n",
       "      <td>0.562717</td>\n",
       "      <td>0.562717</td>\n",
       "      <td>0.574581</td>\n",
       "      <td>0.574581</td>\n",
       "      <td>0.574581</td>\n",
       "      <td>NaN</td>\n",
       "      <td>NaN</td>\n",
       "      <td>0.641304</td>\n",
       "      <td>0.641304</td>\n",
       "      <td>0.641304</td>\n",
       "    </tr>\n",
       "    <tr>\n",
       "      <th>0.9</th>\n",
       "      <td>0.632408</td>\n",
       "      <td>0.632408</td>\n",
       "      <td>0.632408</td>\n",
       "      <td>NaN</td>\n",
       "      <td>NaN</td>\n",
       "      <td>0.634288</td>\n",
       "      <td>0.634288</td>\n",
       "      <td>0.634288</td>\n",
       "      <td>0.624716</td>\n",
       "      <td>0.624716</td>\n",
       "      <td>0.624716</td>\n",
       "      <td>NaN</td>\n",
       "      <td>NaN</td>\n",
       "      <td>0.665398</td>\n",
       "      <td>0.665398</td>\n",
       "      <td>0.665398</td>\n",
       "    </tr>\n",
       "  </tbody>\n",
       "</table>\n",
       "</div>"
      ],
      "text/plain": [
       "layers              [100, 30]                         [100]     [15]  \\\n",
       "lr                   0.000001  0.000010  0.000100  0.000010 0.000010   \n",
       "temperature dropout                                                    \n",
       "0.01        0.2      0.511959  0.511959  0.511959       NaN      NaN   \n",
       "            0.5      0.561639  0.561639  0.561639       NaN      NaN   \n",
       "            0.8      0.638963  0.638963  0.638963       NaN      NaN   \n",
       "            0.9      0.627648  0.627648  0.627648  0.654767  0.64641   \n",
       "0.07        0.2      0.277751  0.277751  0.277751       NaN      NaN   \n",
       "            0.5      0.484438  0.484438  0.484438       NaN      NaN   \n",
       "            0.8      0.618134  0.618134  0.618134       NaN      NaN   \n",
       "            0.9      0.648517  0.648517  0.648517       NaN      NaN   \n",
       "0.50        0.2      0.433748  0.433748  0.433748       NaN      NaN   \n",
       "            0.5      0.493075  0.493075  0.493075       NaN      NaN   \n",
       "            0.8      0.571350  0.571350  0.571350       NaN      NaN   \n",
       "            0.9      0.632408  0.632408  0.632408       NaN      NaN   \n",
       "\n",
       "layers              [200, 100, 30, 30]                     [200, 100, 30]  \\\n",
       "lr                            0.000001  0.000010  0.000100       0.000001   \n",
       "temperature dropout                                                         \n",
       "0.01        0.2               0.449366  0.449366  0.449366       0.472721   \n",
       "            0.5               0.530522  0.530522  0.530522       0.522939   \n",
       "            0.8               0.625792  0.625792  0.625792       0.637956   \n",
       "            0.9               0.602669  0.602669  0.602669       0.623157   \n",
       "0.07        0.2               0.228623  0.228623  0.228623       0.236237   \n",
       "            0.5               0.422648  0.422648  0.422648       0.438549   \n",
       "            0.8               0.636183  0.636183  0.636183       0.634162   \n",
       "            0.9               0.654658  0.654658  0.654658       0.635984   \n",
       "0.50        0.2               0.401195  0.401195  0.401195       0.430879   \n",
       "            0.5               0.468168  0.468168  0.468168       0.501659   \n",
       "            0.8               0.562717  0.562717  0.562717       0.574581   \n",
       "            0.9               0.634288  0.634288  0.634288       0.624716   \n",
       "\n",
       "layers                                      [200]      [30]      [50]  \\\n",
       "lr                   0.000010  0.000100  0.000010  0.000010  0.000001   \n",
       "temperature dropout                                                     \n",
       "0.01        0.2      0.472721  0.472721       NaN       NaN  0.555164   \n",
       "            0.5      0.522939  0.522939       NaN       NaN  0.604148   \n",
       "            0.8      0.637956  0.637956       NaN       NaN  0.673766   \n",
       "            0.9      0.623157  0.623157  0.656382  0.677728  0.692151   \n",
       "0.07        0.2      0.236237  0.236237       NaN       NaN  0.320988   \n",
       "            0.5      0.438549  0.438549       NaN       NaN  0.506122   \n",
       "            0.8      0.634162  0.634162       NaN       NaN  0.598195   \n",
       "            0.9      0.635984  0.635984       NaN       NaN  0.652793   \n",
       "0.50        0.2      0.430879  0.430879       NaN       NaN  0.529359   \n",
       "            0.5      0.501659  0.501659       NaN       NaN  0.573374   \n",
       "            0.8      0.574581  0.574581       NaN       NaN  0.641304   \n",
       "            0.9      0.624716  0.624716       NaN       NaN  0.665398   \n",
       "\n",
       "layers                                   \n",
       "lr                   0.000010  0.000100  \n",
       "temperature dropout                      \n",
       "0.01        0.2      0.555164  0.555164  \n",
       "            0.5      0.604148  0.604148  \n",
       "            0.8      0.673766  0.673766  \n",
       "            0.9      0.692151  0.692151  \n",
       "0.07        0.2      0.320988  0.320988  \n",
       "            0.5      0.506122  0.506122  \n",
       "            0.8      0.598195  0.598195  \n",
       "            0.9      0.652793  0.652793  \n",
       "0.50        0.2      0.529359  0.529359  \n",
       "            0.5      0.573374  0.573374  \n",
       "            0.8      0.641304  0.641304  \n",
       "            0.9      0.665398  0.665398  "
      ]
     },
     "execution_count": 11,
     "metadata": {},
     "output_type": "execute_result"
    }
   ],
   "source": [
    "df = pd.read_pickle(f\"../output/pickle_results/real_data_1model.pkl\")\n",
    "df.groupby([\"temperature\", \"layers\", \"dropout\", \"lr\"])[\"kmeans_ari_0\"].mean().unstack([\"layers\", \"lr\"])"
   ]
  },
  {
   "cell_type": "code",
   "execution_count": 12,
   "metadata": {},
   "outputs": [
    {
     "data": {
      "text/plain": [
       "layers              lr      \n",
       "[100, 30]           0.000001    0.648517\n",
       "                    0.000010    0.648517\n",
       "                    0.000100    0.648517\n",
       "[100]               0.000010    0.654767\n",
       "[15]                0.000010    0.646410\n",
       "[200, 100, 30, 30]  0.000001    0.654658\n",
       "                    0.000010    0.654658\n",
       "                    0.000100    0.654658\n",
       "[200, 100, 30]      0.000001    0.637956\n",
       "                    0.000010    0.637956\n",
       "                    0.000100    0.637956\n",
       "[200]               0.000010    0.656382\n",
       "[30]                0.000010    0.677728\n",
       "[50]                0.000001    0.692151\n",
       "                    0.000010    0.692151\n",
       "                    0.000100    0.692151\n",
       "dtype: float64"
      ]
     },
     "execution_count": 12,
     "metadata": {},
     "output_type": "execute_result"
    }
   ],
   "source": [
    "df = pd.read_pickle(f\"../output/pickle_results/real_data_1model.pkl\")\n",
    "df.groupby([\"temperature\", \"layers\", \"dropout\", \"lr\"])[\"kmeans_ari_0\"].mean().unstack([\"layers\", \"lr\"]).max()"
   ]
  },
  {
   "cell_type": "code",
   "execution_count": null,
   "metadata": {},
   "outputs": [],
   "source": []
  },
  {
   "cell_type": "code",
   "execution_count": null,
   "metadata": {},
   "outputs": [],
   "source": [
    "df.groupby(\"dataset\").mean()"
   ]
  },
  {
   "cell_type": "markdown",
   "metadata": {},
   "source": [
    "# Importance of input size"
   ]
  },
  {
   "cell_type": "code",
   "execution_count": null,
   "metadata": {},
   "outputs": [],
   "source": [
    "df = pd.DataFrame(\n",
    "    columns=[\"dataset\", \"perc0\", \"nb_genes\", \"exp\", \"ari\", \"run\"])\n",
    "print(df.shape)\n",
    "for dataset in files:\n",
    "\n",
    "    print(f\">>>>> Data {dataset}\")\n",
    "\n",
    "    data_mat = h5py.File(f\"{path}real_data/{dataset}.h5\", \"r\")\n",
    "    for run in range(2):\n",
    "        torch.manual_seed(run)\n",
    "        torch.cuda.manual_seed_all(run)\n",
    "        np.random.seed(run)\n",
    "        random.seed(run)\n",
    "        torch.backends.cudnn.deterministic = True\n",
    "        torch.backends.cudnn.benchmark = False\n",
    "        for nb_genes in [100, 200, 500, 1000, 1500, 2000, 5000, 8000]:\n",
    "\n",
    "            X = np.array(data_mat['X'])\n",
    "            Y = np.array(data_mat['Y'])\n",
    "            perc_0 = np.where(X == 0)[0].shape[0] / (X.shape[0] * X.shape[1])\n",
    "            print(f\"Perc 0 {perc_0}\")\n",
    "            cluster_number = np.unique(Y).shape[0]\n",
    "\n",
    "            X = train.preprocess(X, nb_genes=nb_genes)\n",
    "            nb_zeros = int(0.8 * nb_genes)\n",
    "            dresults = train.train(\n",
    "                X,\n",
    "                cluster_number,\n",
    "                dataset,\n",
    "                Y,\n",
    "                n_ensemble=1,\n",
    "                epochs=100,\n",
    "                nb_zeros=nb_zeros,\n",
    "                save_to=f\"{path}output/real_data/inputs/{dataset}_{nb_genes}/\")\n",
    "\n",
    "            #         df.loc[df.shape[0]] = [\n",
    "            #                 dataset, perc_0, nb_genes, 'kmeans_representation_0',dresults['kmeans_representation_0']\n",
    "            #             ]\n",
    "            df.loc[df.shape[0]] = [\n",
    "                dataset, perc_0, nb_genes, 'leiden_representation_0',\n",
    "                dresults['leiden_representation_0'], run]\n",
    "\n",
    "#             pxt = PCA(2).fit_transform(X)\n",
    "#             dresults[\"original\"] = utils.evaluate(X, Y, cluster_number)[1]\n",
    "#             dresults[\"pca\"] = utils.evaluate(pxt, Y, cluster_number)[1]\n",
    "            print(dresults)\n",
    "    df.to_pickle(f\"{path}output/pickle_results/real_data_input_size.pkl\")"
   ]
  },
  {
   "cell_type": "code",
   "execution_count": null,
   "metadata": {},
   "outputs": [],
   "source": [
    "df = pd.read_pickle(f\"{path}output/pickle_results/real_data_input_size.pkl\")"
   ]
  },
  {
   "cell_type": "code",
   "execution_count": null,
   "metadata": {},
   "outputs": [],
   "source": [
    "df.groupby([\"nb_genes\"]).mean()"
   ]
  },
  {
   "cell_type": "code",
   "execution_count": null,
   "metadata": {},
   "outputs": [],
   "source": [
    "dataset_names = {\n",
    "    '10X_PBMC': '10X PBMC',\n",
    "    '10X_PBMC_select_2100': '10X PBMC (2100)',\n",
    "    'mouse_ES_cell': 'Mouse ES\\nCell',\n",
    "    'mouse_ES_cell_select_2100': 'Mouse ES\\nCell (2100)',\n",
    "    'worm_neuron_cell_select_2100': 'Worm Neuron\\nCell (2100)',\n",
    "    'worm_neuron_cell': 'Worm Neuron\\nCell',\n",
    "    'mouse_bladder_cell': 'Mouse Bladder\\nCell',\n",
    "    'mouse_bladder_cell_select_2100': 'Mouse Bladder\\n Cell (2100)'\n",
    "}\n",
    "\n",
    "df[\"dataset\"] = df[\"dataset\"].apply(lambda x: dataset_names[x])\n",
    "\n",
    "df = df.rename(columns = {\"nb_genes\": \"Nb input genes\"})"
   ]
  },
  {
   "cell_type": "code",
   "execution_count": null,
   "metadata": {},
   "outputs": [],
   "source": [
    "df[\"dataset\"].unique()\n"
   ]
  },
  {
   "cell_type": "code",
   "execution_count": null,
   "metadata": {},
   "outputs": [],
   "source": [
    "import seaborn as sns\n",
    "datasets = ['10X PBMC',  'Mouse ES\\nCell','Worm Neuron\\nCell', 'Mouse Bladder\\nCell']\n",
    "plt.figure(figsize=(10, 3.3))\n",
    "ax = plt.subplot(111)\n",
    "sns.barplot(\n",
    "    hue=\"Nb input genes\",\n",
    "    y=\"ari\",\n",
    "    x=\"dataset\",\n",
    "    data=df[df[\"dataset\"].isin(datasets)],\n",
    "    ax=ax,\n",
    "    edgecolor='black',\n",
    "    linewidth=1.5,\n",
    ")\n",
    "plt.ylabel(\"ARI\")\n",
    "plt.xlabel(\"\")\n",
    "plt.legend(title= \"Nb input genes\",bbox_to_anchor=(1, 1))\n",
    "sns.despine()\n",
    "plt.tight_layout()\n",
    "\n",
    "plt.savefig(f\"{path}diagrams/real_input_size.pdf\", bbox_inches='tight')"
   ]
  },
  {
   "cell_type": "code",
   "execution_count": null,
   "metadata": {},
   "outputs": [],
   "source": [
    "datasets = ['10X PBMC (2100)',\n",
    "       'Mouse ES\\nCell (2100)', 'Worm Neuron\\nCell (2100)',\n",
    "       'Mouse Bladder\\n Cell (2100)']\n",
    "plt.figure(figsize=(10, 3.3))\n",
    "ax = plt.subplot(111)\n",
    "sns.barplot(\n",
    "    hue=\"Nb input genes\",\n",
    "    y=\"ari\",\n",
    "    x=\"dataset\",\n",
    "    data=df[df[\"dataset\"].isin(datasets)],\n",
    "    ax=ax,\n",
    "    edgecolor='black',\n",
    "    linewidth=1.5,\n",
    ")\n",
    "plt.ylabel(\"ARI\")\n",
    "plt.xlabel(\"\")\n",
    "plt.legend(title= \"Nb input genes\",bbox_to_anchor=(1, 1))\n",
    "sns.despine()\n",
    "plt.tight_layout()\n",
    "\n",
    "plt.savefig(f\"{path}diagrams/real_input_size_2100.pdf\", bbox_inches='tight')"
   ]
  },
  {
   "cell_type": "code",
   "execution_count": null,
   "metadata": {},
   "outputs": [],
   "source": []
  },
  {
   "cell_type": "markdown",
   "metadata": {},
   "source": [
    "# Importance of the number of epochs"
   ]
  },
  {
   "cell_type": "code",
   "execution_count": null,
   "metadata": {},
   "outputs": [],
   "source": [
    "df = pd.DataFrame(\n",
    "    columns=[\"dataset\", \"perc0\", \"nb_epochs\", \"exp\", \"ari\", \"run\"])\n",
    "print(df.shape)\n",
    "for dataset in files:\n",
    "\n",
    "    print(f\">>>>> Data {dataset}\")\n",
    "\n",
    "    data_mat = h5py.File(f\"{path}real_data/{dataset}.h5\", \"r\")\n",
    "    nb_genes = 1500\n",
    "    for epochs in [5, 50, 100, 300]:\n",
    "\n",
    "        X = np.array(data_mat['X'])\n",
    "        Y = np.array(data_mat['Y'])\n",
    "        perc_0 = np.where(X == 0)[0].shape[0] / (X.shape[0] * X.shape[1])\n",
    "        print(f\"Perc 0 {perc_0}\")\n",
    "        cluster_number = np.unique(Y).shape[0]\n",
    "\n",
    "        X = train.preprocess(X, nb_genes=nb_genes)\n",
    "        nb_zeros = int(0.8 * nb_genes)\n",
    "        for run in range(2):\n",
    "            torch.manual_seed(run)\n",
    "            torch.cuda.manual_seed_all(run)\n",
    "            np.random.seed(run)\n",
    "            random.seed(run)\n",
    "            torch.backends.cudnn.deterministic = True\n",
    "            torch.backends.cudnn.benchmark = False\n",
    "\n",
    "            dresults = train.train(\n",
    "                X,\n",
    "                cluster_number,\n",
    "                dataset,\n",
    "                Y,\n",
    "                n_ensemble=1,\n",
    "                epochs=epochs,\n",
    "                nb_zeros=nb_zeros,\n",
    "                save_to=f\"{path}output/real_data/epochs/{dataset}_{epochs}/\")\n",
    "\n",
    "            df.loc[df.shape[0]] = [\n",
    "                dataset, perc_0, epochs, 'kmeans_representation_0',\n",
    "                dresults['kmeans_representation_0'], run\n",
    "            ]\n",
    "            df.loc[df.shape[0]] = [\n",
    "                dataset, perc_0, epochs, 'leiden_representation_0',\n",
    "                dresults['leiden_representation_0'], run\n",
    "            ]\n",
    "\n",
    "            print(dresults)\n",
    "            df.to_pickle(f\"{path}output/pickle_results/real_data_epochs.pkl\")"
   ]
  },
  {
   "cell_type": "code",
   "execution_count": null,
   "metadata": {},
   "outputs": [],
   "source": [
    "df = pd.read_pickle(f\"{path}output/pickle_results/real_data_epochs.pkl\")"
   ]
  },
  {
   "cell_type": "code",
   "execution_count": null,
   "metadata": {},
   "outputs": [],
   "source": [
    "dataset_names = {\n",
    "    '10X_PBMC': '10X PBMC',\n",
    "    '10X_PBMC_select_2100': '10X PBMC (2100)',\n",
    "    'mouse_ES_cell': 'Mouse ES\\nCell',\n",
    "    'mouse_ES_cell_select_2100': 'Mouse ES\\nCell (2100)',\n",
    "    'worm_neuron_cell_select_2100': 'Worm Neuron\\nCell (2100)',\n",
    "    'worm_neuron_cell': 'Worm Neuron\\nCell',\n",
    "    'mouse_bladder_cell': 'Mouse Bladder\\nCell',\n",
    "    'mouse_bladder_cell_select_2100': 'Mouse Bladder\\n Cell (2100)'\n",
    "}\n",
    "\n",
    "df[\"dataset\"] = df[\"dataset\"].apply(lambda x: dataset_names[x])\n",
    "\n",
    "df = df.rename(columns = {\"nb_epochs\": \"Nb epochs\"})"
   ]
  },
  {
   "cell_type": "code",
   "execution_count": null,
   "metadata": {},
   "outputs": [],
   "source": [
    "import seaborn as sns\n",
    "datasets = ['10X PBMC',  'Mouse ES\\nCell','Worm Neuron\\nCell', 'Mouse Bladder\\nCell']\n",
    "plt.figure(figsize=(7, 3))\n",
    "ax = plt.subplot(111)\n",
    "sns.barplot(\n",
    "    hue=\"Nb epochs\",\n",
    "    y=\"ari\",\n",
    "    x=\"dataset\",\n",
    "    data=df[df[\"dataset\"].isin(datasets)],\n",
    "    ax=ax,\n",
    "    edgecolor='black',\n",
    "    linewidth=1.5,\n",
    ")\n",
    "plt.ylabel(\"ARI\")\n",
    "plt.xlabel(\"\")\n",
    "plt.legend(title =\"Number of epochs\",bbox_to_anchor=(1, 1))\n",
    "sns.despine()\n",
    "plt.tight_layout()\n",
    "\n",
    "plt.savefig(f\"{path}diagrams/real_nb_epochs.pdf\", bbox_inches='tight')"
   ]
  },
  {
   "cell_type": "code",
   "execution_count": null,
   "metadata": {},
   "outputs": [],
   "source": []
  },
  {
   "cell_type": "code",
   "execution_count": null,
   "metadata": {},
   "outputs": [],
   "source": []
  }
 ],
 "metadata": {
  "kernelspec": {
   "display_name": "Python 3",
   "language": "python",
   "name": "python3"
  },
  "language_info": {
   "codemirror_mode": {
    "name": "ipython",
    "version": 3
   },
   "file_extension": ".py",
   "mimetype": "text/x-python",
   "name": "python",
   "nbconvert_exporter": "python",
   "pygments_lexer": "ipython3",
   "version": "3.7.4"
  }
 },
 "nbformat": 4,
 "nbformat_minor": 4
}
