{
 "cells": [
  {
   "cell_type": "markdown",
   "metadata": {},
   "source": [
    "Original implementation of Contrastive-sc method\n",
    "(https://github.com/ciortanmadalina/contrastive-sc)"
   ]
  },
  {
   "cell_type": "code",
   "execution_count": 4,
   "metadata": {},
   "outputs": [
    {
     "name": "stdout",
     "output_type": "stream",
     "text": [
      "The autoreload extension is already loaded. To reload it, use:\n",
      "  %reload_ext autoreload\n"
     ]
    }
   ],
   "source": [
    "import sys\n",
    "sys.path.append(\"..\")\n",
    "import argparse\n",
    "from sklearn.metrics import adjusted_rand_score, normalized_mutual_info_score\n",
    "from sklearn.cluster import KMeans\n",
    "from sklearn import metrics\n",
    "\n",
    "import torch\n",
    "import torch.nn as nn\n",
    "import copy\n",
    "from tqdm.notebook import tqdm\n",
    "import models\n",
    "import numpy as np\n",
    "import pandas as pd\n",
    "from sklearn.decomposition import PCA\n",
    "import matplotlib.pyplot as plt\n",
    "import st_loss\n",
    "import time\n",
    "import h5py\n",
    "import scipy as sp\n",
    "import scanpy.api as sc\n",
    "from collections import Counter\n",
    "import random\n",
    "import utils\n",
    "import loop\n",
    "import pickle\n",
    "\n",
    "import train\n",
    "import os\n",
    "import glob2\n",
    "plt.ion()\n",
    "plt.show()\n",
    "%load_ext autoreload\n",
    "%autoreload 2\n",
    "\n",
    "import warnings\n",
    "warnings.filterwarnings(\"ignore\", category=FutureWarning)"
   ]
  },
  {
   "cell_type": "code",
   "execution_count": 5,
   "metadata": {},
   "outputs": [
    {
     "data": {
      "text/plain": [
       "['Quake_Smart-seq2_Trachea',\n",
       " 'Quake_Smart-seq2_Diaphragm',\n",
       " 'Quake_10x_Spleen',\n",
       " 'Young',\n",
       " 'mouse_ES_cell',\n",
       " 'Adam',\n",
       " 'Quake_10x_Bladder',\n",
       " 'Quake_Smart-seq2_Lung',\n",
       " 'Quake_10x_Limb_Muscle',\n",
       " 'worm_neuron_cell',\n",
       " 'mouse_bladder_cell',\n",
       " 'Romanov',\n",
       " 'Quake_Smart-seq2_Limb_Muscle',\n",
       " 'Muraro',\n",
       " '10X_PBMC']"
      ]
     },
     "execution_count": 5,
     "metadata": {},
     "output_type": "execute_result"
    }
   ],
   "source": [
    "path = \"../\"\n",
    "category = \"real_data\"\n",
    "files = glob2.glob(f'{path}{category}/*.h5')\n",
    "files = [f[len(f\"'{path}{category}\"):-3] for f in files]\n",
    "files"
   ]
  },
  {
   "cell_type": "code",
   "execution_count": 21,
   "metadata": {},
   "outputs": [],
   "source": [
    "dataset = 'data_-1c4'\n",
    "category = \"balanced_data\""
   ]
  },
  {
   "cell_type": "code",
   "execution_count": 26,
   "metadata": {},
   "outputs": [],
   "source": [
    "X = np.arange(10).reshape(2, 5)"
   ]
  },
  {
   "cell_type": "code",
   "execution_count": 31,
   "metadata": {},
   "outputs": [
    {
     "name": "stdout",
     "output_type": "stream",
     "text": [
      "(1000, 2500) (1000, 2500) keeping 500 genes\n",
      ">>  (1000, 500) (1000, 500)\n",
      "0.7961325645446777 >>  (1000, 500) (5000, 500)\n",
      "4.042118310928345 >>  (1000, 500) (10000, 500)\n",
      "8.111743688583374 >>  (1000, 500) (50000, 500)\n",
      "41.13520407676697 >>  (1000, 500) (100000, 500)\n",
      "84.65198707580566 >>  (1000, 500) (150000, 500)\n",
      "124.66856002807617 "
     ]
    }
   ],
   "source": [
    "df = pd.DataFrame()\n",
    "dropout = 0.9\n",
    "lr = 1e-5\n",
    "layers = [200, 40, 60]\n",
    "temperature = 0.07\n",
    "nb_genes = 500\n",
    "data_mat = h5py.File(f\"{path}R/simulated_data/{category}/{dataset}.h5\", \"r\")\n",
    "X_o = np.array(data_mat['X'])\n",
    "Y_o = np.array(data_mat['Y'])\n",
    "cluster_number = np.unique(Y_o).shape[0]\n",
    "\n",
    "X_o = train.preprocess(X_o, nb_genes=nb_genes)\n",
    "for factor in [1, 5, 10, 50, 100, 150]:\n",
    "    X = np.tile(X_o.T, factor).T\n",
    "    Y= np.tile(Y_o.T, factor).T\n",
    "    print(\">> \",X_o.shape, X.shape)\n",
    "    for run in range(3):\n",
    "        torch.manual_seed(run)\n",
    "        torch.cuda.manual_seed_all(run)\n",
    "        np.random.seed(run)\n",
    "        random.seed(run)\n",
    "        torch.backends.cudnn.deterministic = True\n",
    "        torch.backends.cudnn.benchmark = False\n",
    "        start = time.time()\n",
    "        dresults = train.run(X,\n",
    "                             cluster_number,\n",
    "                             dataset,\n",
    "                             Y=Y,\n",
    "                             nb_epochs=30,\n",
    "                             lr=lr,\n",
    "                             temperature=temperature,\n",
    "                             dropout=dropout,\n",
    "                             evaluate=False,\n",
    "                             n_ensemble=1,\n",
    "                             layers=layers,\n",
    "                             save_to=f\"{path}output/{category}/{run}/\",\n",
    "                             save_pred = True)\n",
    "        elapsed = time.time()-start\n",
    "        dresults[\"nb_cells\"] = X.shape[0]\n",
    "        dresults[\"time\"] = elapsed\n",
    "    print(f\"{elapsed}\", end = \" \")\n",
    "#         print(f\"# {temperature}, {dropout}, {lr}, {layers}\", \n",
    "#               dresults.get('COMBINED_kmeans_ari', \"\"),\n",
    "#               dresults.get('COMBINED_leiden_ari', \"\"), dresults.get('kmeans_ari_0',\"\"),\n",
    "#               dresults.get('leiden_ari_0', \"\"))\n",
    "    df = df.append(dresults, ignore_index=True)\n",
    "\n",
    "    df.to_pickle(f\"{path}output/pickle_results/{category}/{category}_scalability.pkl\")"
   ]
  },
  {
   "cell_type": "code",
   "execution_count": null,
   "metadata": {},
   "outputs": [],
   "source": [
    "df.mean()"
   ]
  },
  {
   "cell_type": "code",
   "execution_count": null,
   "metadata": {},
   "outputs": [],
   "source": []
  },
  {
   "cell_type": "code",
   "execution_count": null,
   "metadata": {},
   "outputs": [],
   "source": []
  },
  {
   "cell_type": "code",
   "execution_count": null,
   "metadata": {},
   "outputs": [],
   "source": []
  }
 ],
 "metadata": {
  "kernelspec": {
   "display_name": "Python 3",
   "language": "python",
   "name": "python3"
  },
  "language_info": {
   "codemirror_mode": {
    "name": "ipython",
    "version": 3
   },
   "file_extension": ".py",
   "mimetype": "text/x-python",
   "name": "python",
   "nbconvert_exporter": "python",
   "pygments_lexer": "ipython3",
   "version": "3.7.4"
  }
 },
 "nbformat": 4,
 "nbformat_minor": 4
}
