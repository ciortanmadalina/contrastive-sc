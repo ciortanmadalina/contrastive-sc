{
 "cells": [
  {
   "cell_type": "code",
   "execution_count": 1,
   "metadata": {},
   "outputs": [
    {
     "name": "stderr",
     "output_type": "stream",
     "text": [
      "/opt/conda/lib/python3.7/site-packages/scanpy/api/__init__.py:7: FutureWarning: \n",
      "\n",
      "In a future version of Scanpy, `scanpy.api` will be removed.\n",
      "Simply use `import scanpy as sc` and `import scanpy.external as sce` instead.\n",
      "\n",
      "  FutureWarning,\n"
     ]
    }
   ],
   "source": [
    "import sys\n",
    "sys.path.append(\"..\")\n",
    "import argparse\n",
    "from sklearn.metrics import adjusted_rand_score, normalized_mutual_info_score\n",
    "from sklearn.cluster import KMeans\n",
    "from sklearn import metrics\n",
    "\n",
    "import torch\n",
    "import torch.nn as nn\n",
    "import copy\n",
    "import model\n",
    "import numpy as np\n",
    "import pandas as pd\n",
    "from sklearn.decomposition import PCA\n",
    "import matplotlib.pyplot as plt\n",
    "import st_loss\n",
    "import seaborn as sns\n",
    "import h5py\n",
    "import scipy as sp\n",
    "import scanpy.api as sc\n",
    "from collections import Counter\n",
    "import utils\n",
    "import loop\n",
    "import pickle\n",
    "import os\n",
    "import glob2\n",
    "plt.ion()\n",
    "plt.show()\n",
    "%load_ext autoreload\n",
    "%autoreload 2\n",
    "\n",
    "import warnings\n",
    "warnings.filterwarnings(\"ignore\", category=FutureWarning)"
   ]
  },
  {
   "cell_type": "code",
   "execution_count": 2,
   "metadata": {},
   "outputs": [
    {
     "data": {
      "text/plain": [
       "['data_1c8',\n",
       " 'data_-1c4',\n",
       " 'data_-1c8',\n",
       " 'data_0c4',\n",
       " 'data_0c8',\n",
       " 'data_0c16',\n",
       " 'data_1.5c4',\n",
       " 'data_1c32',\n",
       " 'data_1c4',\n",
       " 'data_1.5c8',\n",
       " 'data_1.5c16',\n",
       " 'data_0c32',\n",
       " 'data_1.5c32',\n",
       " 'data_-1c32',\n",
       " 'data_-1c16',\n",
       " 'data_1c16']"
      ]
     },
     "execution_count": 2,
     "metadata": {},
     "output_type": "execute_result"
    }
   ],
   "source": [
    "category = \"imbalanced_data\"\n",
    "path=\"../\"\n",
    "args = {\n",
    "    \"dims\": [499, 256, 64, 32],\n",
    "    \"highly_genes\": 500,\n",
    "    'alpha': 0.001,\n",
    "    'gamma': 0.001,\n",
    "    'learning_rate': 0.0001,\n",
    "    'update_epoch': 10,\n",
    "    't_alpha': 1,\n",
    "    'error': 0.001\n",
    "}\n",
    "class objectview(object):\n",
    "    def __init__(self, d):\n",
    "        self.__dict__ = d\n",
    "args = objectview(args) \n",
    "\n",
    "files = glob2.glob(f'{path}R/simulated_data/{category}/*.h5')\n",
    "files = [f[len(f\"{path}R/simulated_data/{category}/\"):-3] for f in files]\n",
    "files"
   ]
  },
  {
   "cell_type": "code",
   "execution_count": null,
   "metadata": {
    "scrolled": true
   },
   "outputs": [],
   "source": [
    "dr = pd.DataFrame(columns = [\"dataset\", \"dropout\", \"perc0\",  \"nd\", \"exp\", \"ari\"])\n",
    "for run in range(1):\n",
    "    df = pd.DataFrame()\n",
    "\n",
    "    print(df.shape)\n",
    "    for dataset in files:\n",
    "        print(f\">>>>> Data {dataset}\")\n",
    "\n",
    "        data_mat = h5py.File(f\"{path}R/simulated_data/{category}/{dataset}.h5\", \"r\")\n",
    "        dp = data_mat['dropout'][0]\n",
    "        X = np.array(data_mat['X'])\n",
    "        Y = np.array(data_mat['Y'])\n",
    "        perc_0 = np.where(X ==0)[0].shape[0]/(X.shape[0]*X.shape[1])\n",
    "        print(f\"Perc 0 {perc_0}\")\n",
    "        X = np.ceil(X).astype(np.int)\n",
    "        count_X = X\n",
    "        print(X.shape, count_X.shape)\n",
    "        orig_X = X.copy()\n",
    "        adata = sc.AnnData(X)\n",
    "        adata.obs['Group'] = Y\n",
    "        adata = utils.normalize(adata,\n",
    "                          copy=True,\n",
    "                          highly_genes=args.highly_genes,\n",
    "                          size_factors=True,\n",
    "                          normalize_input=True,\n",
    "                          logtrans_input=True)\n",
    "        X = adata.X.astype(np.float32)\n",
    "        Y = np.array(adata.obs[\"Group\"])\n",
    "        print(X.shape, count_X.shape)\n",
    "\n",
    "        high_variable = np.array(adata.var.highly_variable.index, dtype=np.int)\n",
    "        count_X = count_X[:, high_variable]\n",
    "        size_factor = np.array(adata.obs.size_factors).reshape(-1,\n",
    "                                                               1).astype(np.float32)\n",
    "        cluster_number = int(max(Y) - min(Y) + 1)\n",
    "        zeros = np.min(X, axis = 0)\n",
    "        X.shape, count_X.shape\n",
    "\n",
    "        pxt = PCA(2).fit_transform(X)\n",
    "        dresults = {\n",
    "            \"dataset\": dataset,\n",
    "            \"nclust\": cluster_number,\n",
    "            \"original\": utils.evaluate(X, Y, cluster_number)[1],\n",
    "            \"pca\": utils.evaluate(pxt, Y, cluster_number)[1],\n",
    "            \"perc_0\": perc_0\n",
    "        }\n",
    "        \n",
    "        # 3 models\n",
    "        st_results = []\n",
    "\n",
    "        f = []\n",
    "        for nd in [100, 200, 300, 400]:\n",
    "            print(f\"nd = {nd}\")\n",
    "            nm = nd\n",
    "            r1 = loop.self_train_clustering(X,\n",
    "                   Y,\n",
    "                   cluster_number,\n",
    "                   args,\n",
    "                   augm_zeros=None,\n",
    "                   nb_zeros = nd,\n",
    "                   random=False,\n",
    "                   perc=0.1,\n",
    "                   augm_value=0,\n",
    "                   epochs = 500)\n",
    "            f.append(r1['features'])\n",
    "            st_results.append(r1)\n",
    "\n",
    "            dresults[f\"self_initial_{nm}\"] = r1[\"aris_kmeans_representation\"][-1]\n",
    "            dresults[f\"self_{nm}\"] = r1[\"aris_kmeans_representation\"][-1]\n",
    "            dr.loc[dr.shape[0]] = [dataset, dp, perc_0, nd, \"method1\",r1[\"aris_kmeans_representation\"][-1]]\n",
    "            dr.loc[dr.shape[0]] = [dataset, dp, perc_0, nd, \"method2\",r1[\"aris_kmeans_representation\"][-1]]\n",
    "            \n",
    "            print(\"ARI \", r1[\"aris1\"][-1])\n",
    "        ft = np.hstack(f)\n",
    "        kmeans = KMeans(n_clusters=cluster_number, init=\"k-means++\", random_state=0)\n",
    "        pred = kmeans.fit_predict(ft)\n",
    "\n",
    "        dresults[f\"combined_features\"] = adjusted_rand_score(Y, pred)\n",
    "        print(\"combined: \", dresults[f\"combined_features\"])\n",
    "        dr.loc[dr.shape[0]] = [dataset, dp, perc_0, -1, \"method3\",dresults[f\"combined_features\"]]\n",
    "        \n",
    "\n",
    "        df = df.append(dresults, ignore_index=True)\n",
    "        print(dresults)\n",
    "\n",
    "        all_res = dresults.copy()\n",
    "        all_res[\"st\"] = st_results\n",
    "        if os.path.isdir(f\"{path}output/{category}/\") == False:\n",
    "            os.makedirs(f\"{path}output/{category}/\",exist_ok=True)\n",
    "        with open(f\"{path}output/{category}/results_{dataset}_{run}_mixed.pickle\", 'wb') as handle:\n",
    "            pickle.dump(dresults, handle, protocol=pickle.HIGHEST_PROTOCOL)\n",
    "\n",
    "        with open(f\"{path}output/{category}/detailed_results_{dataset}_{run}_mixed.pickle\", 'wb') as handle:\n",
    "            pickle.dump(all_res, handle, protocol=pickle.HIGHEST_PROTOCOL)\n",
    "        df.to_pickle(f\"{path}output/pickle_results/{category}/real_data_{run}_mixed.pkl\")\n",
    "        dr.to_pickle(f\"{path}output/pickle_results/{category}/real_data_augmentation.pkl\")"
   ]
  },
  {
   "cell_type": "code",
   "execution_count": 3,
   "metadata": {},
   "outputs": [],
   "source": [
    "dr = pd.read_pickle(f\"{path}output/pickle_results/{category}/real_data_augmentation.pkl\")"
   ]
  },
  {
   "cell_type": "code",
   "execution_count": 4,
   "metadata": {},
   "outputs": [],
   "source": [
    "def get_label(x):\n",
    "    if x == -1: \n",
    "        return \"combined\"\n",
    "    if x == 100:\n",
    "        return \"80 %\"\n",
    "    if x == 200:\n",
    "        return \"60 %\"\n",
    "    if x == 300:\n",
    "        return \"40 %\"\n",
    "    if x == 400:\n",
    "        return \"20 %\"\n",
    "\n",
    "dr[\"label\"] = dr[\"nd\"].apply(get_label)"
   ]
  },
  {
   "cell_type": "code",
   "execution_count": 5,
   "metadata": {},
   "outputs": [
    {
     "data": {
      "image/png": "[encoded data removed]",
      "text/plain": [
       "<Figure size 432x288 with 1 Axes>"
      ]
     },
     "metadata": {
      "needs_background": "light"
     },
     "output_type": "display_data"
    }
   ],
   "source": [
    "plt.title(\"(a)\")\n",
    "sns.barplot(\n",
    "    x=\"label\",\n",
    "    y=\"ari\",\n",
    "    data=dr,\n",
    "    edgecolor='black',\n",
    "    linewidth=1.5,\n",
    ")\n",
    "plt.xlabel(\"Percentage of used data\")\n",
    "plt.ylabel(\"ARI score\")\n",
    "sns.despine()\n",
    "plt.savefig(f\"{path}diagrams/dropout.pdf\", bbox_inches='tight')"
   ]
  },
  {
   "cell_type": "code",
   "execution_count": null,
   "metadata": {},
   "outputs": [],
   "source": []
  }
 ],
 "metadata": {
  "kernelspec": {
   "display_name": "Python 3",
   "language": "python",
   "name": "python3"
  },
  "language_info": {
   "codemirror_mode": {
    "name": "ipython",
    "version": 3
   },
   "file_extension": ".py",
   "mimetype": "text/x-python",
   "name": "python",
   "nbconvert_exporter": "python",
   "pygments_lexer": "ipython3",
   "version": "3.7.4"
  }
 },
 "nbformat": 4,
 "nbformat_minor": 4
}
