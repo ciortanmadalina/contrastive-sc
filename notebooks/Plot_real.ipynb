{
 "cells": [
  {
   "cell_type": "markdown",
   "metadata": {},
   "source": [
    "Original implementation of Contrastive-sc method\n",
    "(https://github.com/ciortanmadalina/contrastive-sc)"
   ]
  },
  {
   "cell_type": "code",
   "execution_count": null,
   "metadata": {},
   "outputs": [],
   "source": [
    "# !pip install scipy==1.6.0"
   ]
  },
  {
   "cell_type": "code",
   "execution_count": 1,
   "metadata": {},
   "outputs": [
    {
     "name": "stderr",
     "output_type": "stream",
     "text": [
      "/opt/conda/lib/python3.7/site-packages/scanpy/api/__init__.py:7: FutureWarning: \n",
      "\n",
      "In a future version of Scanpy, `scanpy.api` will be removed.\n",
      "Simply use `import scanpy as sc` and `import scanpy.external as sce` instead.\n",
      "\n",
      "  FutureWarning,\n"
     ]
    }
   ],
   "source": [
    "import sys\n",
    "sys.path.append(\"..\")\n",
    "import argparse\n",
    "from sklearn.metrics import (adjusted_rand_score, normalized_mutual_info_score, \n",
    "                             silhouette_score, calinski_harabasz_score,\n",
    "                             davies_bouldin_score)\n",
    "from sklearn.cluster import KMeans\n",
    "from sklearn import metrics\n",
    "\n",
    "import torch\n",
    "import torch.nn as nn\n",
    "import copy\n",
    "from tqdm.notebook import tqdm\n",
    "import models\n",
    "import numpy as np\n",
    "import pandas as pd\n",
    "from sklearn.decomposition import PCA\n",
    "from sklearn.manifold import TSNE\n",
    "import matplotlib.pyplot as plt\n",
    "import st_loss\n",
    "\n",
    "import h5py\n",
    "import scipy as sp\n",
    "import scanpy.api as sc\n",
    "from collections import Counter\n",
    "import random\n",
    "import utils\n",
    "import loop\n",
    "import pickle\n",
    "import seaborn as sns\n",
    "import train\n",
    "import os\n",
    "import glob2\n",
    "plt.ion()\n",
    "plt.show()\n",
    "%load_ext autoreload\n",
    "%autoreload 2\n",
    "\n",
    "import warnings\n",
    "warnings.filterwarnings(\"ignore\", category=FutureWarning)"
   ]
  },
  {
   "cell_type": "code",
   "execution_count": 2,
   "metadata": {},
   "outputs": [],
   "source": [
    "path = \"../\"\n",
    "\n",
    "\n",
    "category = \"real_data\"\n",
    "all_data = pd.read_pickle(f\"../output/pickle_results/{category}/{category}_combined.pkl\")"
   ]
  },
  {
   "cell_type": "code",
   "execution_count": 3,
   "metadata": {},
   "outputs": [
    {
     "data": {
      "text/plain": [
       "13"
      ]
     },
     "execution_count": 3,
     "metadata": {},
     "output_type": "execute_result"
    }
   ],
   "source": [
    "clrs = ['#C0392B', \"#F1948A\", \"#D7BDE2\", \"#8E44AD\", \"#7FB3D5\", \"#2874A6\", \"#76D7C4\", \"#117A65\",\n",
    "        \"#A9DFBF\", \"#F1C40F\", \"#EB984E\", \"#839192\", \"#566573\"\n",
    "       ]\n",
    "len(clrs)"
   ]
  },
  {
   "cell_type": "code",
   "execution_count": 4,
   "metadata": {},
   "outputs": [],
   "source": [
    "ordered_methods = [\n",
    "    'constrastive+KM',\n",
    "    'constrastive+LD',\n",
    "    'scziDesk',\n",
    "    'scDeepCluster',\n",
    "    'desc',\n",
    "    'scanpy-seurat',\n",
    "    'scedar',\n",
    "    'scrna',\n",
    "    'soup',\n",
    "    'simlr',\n",
    "    'raceid',\n",
    "    'cidr',\n",
    "    'pca_kmeans',\n",
    "]"
   ]
  },
  {
   "cell_type": "markdown",
   "metadata": {},
   "source": [
    "# Real Data"
   ]
  },
  {
   "cell_type": "code",
   "execution_count": 5,
   "metadata": {},
   "outputs": [],
   "source": [
    "all_data = all_data[~all_data[\"dataset\"].str.contains(\"2100\")]"
   ]
  },
  {
   "cell_type": "code",
   "execution_count": 6,
   "metadata": {},
   "outputs": [
    {
     "data": {
      "text/plain": [
       "array(['Quake_Smart-seq2_Trachea', 'Quake_Smart-seq2_Diaphragm',\n",
       "       'Quake_10x_Spleen', 'Young', 'mouse_ES_cell', 'Adam',\n",
       "       'Quake_10x_Bladder', 'Quake_Smart-seq2_Lung',\n",
       "       'Quake_10x_Limb_Muscle', 'worm_neuron_cell', 'mouse_bladder_cell',\n",
       "       'Romanov', 'Quake_Smart-seq2_Limb_Muscle', 'Muraro', '10X_PBMC'],\n",
       "      dtype=object)"
      ]
     },
     "execution_count": 6,
     "metadata": {},
     "output_type": "execute_result"
    }
   ],
   "source": [
    "datasets = all_data[\"dataset\"].unique()\n",
    "datasets"
   ]
  },
  {
   "cell_type": "code",
   "execution_count": 7,
   "metadata": {},
   "outputs": [],
   "source": [
    "dataset_names = {\n",
    "    '10X_PBMC': '10X PBMC',\n",
    "    '10X_PBMC_select_2100': '10X PBMC (2100)',\n",
    "    'mouse_ES_cell': 'Mouse ES\\nCell',\n",
    "    'mouse_ES_cell_select_2100': 'Mouse ES\\nCell (2100)',\n",
    "    'worm_neuron_cell_select_2100': 'Worm Neuron\\nCell (2100)',\n",
    "    'worm_neuron_cell': 'Worm\\nNeuron\\nCell',\n",
    "    'mouse_bladder_cell': 'Mouse\\nBladder\\nCell',\n",
    "    'mouse_bladder_cell_select_2100': 'Mouse Bladder\\n Cell (2100)',\n",
    "    'Quake_Smart-seq2_Trachea': 'QS\\nTrachea',\n",
    "    'Quake_Smart-seq2_Diaphragm': 'QS\\nDiaphragm',\n",
    "    'Quake_10x_Spleen': 'Q Spleen',\n",
    "    'Quake_10x_Bladder': 'Q Bladder',\n",
    "    'Quake_Smart-seq2_Lung': 'QS Lung',\n",
    "    'Quake_10x_Limb_Muscle': 'Q Limb\\nMuscle',\n",
    "    'Quake_Smart-seq2_Limb_Muscle': 'QS Limb\\nMuscle',\n",
    "}\n",
    "\n",
    "all_data[\"dataset_label\"] = all_data[\"dataset\"].apply(\n",
    "    lambda x: dataset_names.get(x, x))\n",
    "\n",
    "datasets = [\n",
    "    'Quake_10x_Limb_Muscle', 'Quake_Smart-seq2_Diaphragm',\n",
    "    'Quake_Smart-seq2_Trachea', 'Quake_10x_Spleen', 'Muraro',\n",
    "    'Quake_Smart-seq2_Lung', 'Young'\n",
    "]"
   ]
  },
  {
   "cell_type": "markdown",
   "metadata": {},
   "source": [
    "# ARI score plot"
   ]
  },
  {
   "cell_type": "code",
   "execution_count": null,
   "metadata": {},
   "outputs": [],
   "source": []
  },
  {
   "cell_type": "code",
   "execution_count": 8,
   "metadata": {},
   "outputs": [],
   "source": [
    "rank = all_data.groupby([\"dataset\", \"method\"])[\"ARI\"].mean().unstack(\"method\").round(3).T\n",
    "rank = rank.rank(ascending=False, method = \"min\")\n",
    "rankKM = rank.T[\"constrastive+KM\"]\n",
    "rankLD = rank.T[\"constrastive+LD\"]\n",
    "rankKM\n",
    "\n",
    "rank = pd.concat([rankKM, rankLD], axis = 1)\n",
    "\n",
    "rank[\"rank\"] = rank.apply(lambda x: min(x.values), axis = 1)\n",
    "\n",
    "rank = rank[\"rank\"] "
   ]
  },
  {
   "cell_type": "code",
   "execution_count": null,
   "metadata": {},
   "outputs": [],
   "source": []
  },
  {
   "cell_type": "code",
   "execution_count": 10,
   "metadata": {},
   "outputs": [
    {
     "data": {
      "image/png": "[encoded data removed]",
      "text/plain": [
       "<Figure size 1008x360 with 2 Axes>"
      ]
     },
     "metadata": {
      "needs_background": "light"
     },
     "output_type": "display_data"
    }
   ],
   "source": [
    "plt.figure(figsize=(14, 5))\n",
    "ax = plt.subplot(211)\n",
    "\n",
    "sns.barplot(x=\"dataset_label\",\n",
    "            y=\"ARI\",\n",
    "            hue=\"method\",\n",
    "            data=all_data[all_data[\"dataset\"].isin(datasets)].sort_values(\n",
    "                by=[\"order\", \"dataset\"]),\n",
    "            palette=clrs,\n",
    "            edgecolor='black',\n",
    "            linewidth=1,\n",
    "            ax=ax)\n",
    "# plt.grid()\n",
    "plt.legend(bbox_to_anchor=(0.15, 1.4), loc=2, borderaxespad=0., ncol=7)\n",
    "plt.xlabel(\"\")\n",
    "sns.despine()\n",
    "# Ranking\n",
    "seld = all_data[all_data[\"dataset\"].isin(datasets)].sort_values(\n",
    "    by=[\"order\", \"dataset\"])[\"dataset\"].unique()\n",
    "for i, d in enumerate(seld):\n",
    "    plt.text(i, 1, f\"#{int(rank[d])}\")\n",
    "\n",
    "ax = plt.subplot(212)\n",
    "sns.barplot(x = \"dataset_label\", y=\"ARI\", hue = \"method\",\n",
    "            data = all_data[~all_data[\"dataset\"].isin(datasets)].sort_values(by=[\"order\", \"dataset\"]),\n",
    "            palette=clrs,\n",
    "           edgecolor='black',\n",
    "    linewidth=1,\n",
    "           ax = ax)\n",
    "# plt.grid()\n",
    "plt.legend([])\n",
    "# Ranking\n",
    "seld = all_data[~all_data[\"dataset\"].isin(datasets)].sort_values(\n",
    "    by=[\"order\", \"dataset\"])[\"dataset\"].unique()\n",
    "for i, d in enumerate(seld):\n",
    "    plt.text(i, 1, f\"#{int(rank[d])}\")\n",
    "sns.despine()\n",
    "plt.xlabel(\"\")\n",
    "plt.tight_layout()\n",
    "plt.savefig(f\"../diagrams/{category}_ARI_barplot.pdf\", bbox_inches='tight')"
   ]
  },
  {
   "cell_type": "code",
   "execution_count": null,
   "metadata": {},
   "outputs": [],
   "source": [
    "method_color = dict(zip(ordered_methods, clrs))\n",
    "\n",
    "sel_methods = ['constrastive+KM', 'scziDesk',  'scDeepCluster','desc','scanpy-seurat']\n",
    "sel_clrs = [method_color[m] for m in sel_methods]"
   ]
  },
  {
   "cell_type": "markdown",
   "metadata": {},
   "source": [
    "# NMI, Silhouette, Calinski"
   ]
  },
  {
   "cell_type": "code",
   "execution_count": null,
   "metadata": {},
   "outputs": [],
   "source": [
    "plt.figure(figsize = (14, 7))\n",
    "ax = plt.subplot(311)\n",
    "plt.title(\"(a) NMI\")\n",
    "sns.barplot(x = \"dataset_label\", y=\"NMI\", hue = \"method\", \n",
    "            data = all_data[all_data[\"method\"].isin(sel_methods)].sort_values(by=[\"order\", \"dataset\"]),\n",
    "            palette=sel_clrs,\n",
    "           edgecolor='black',\n",
    "    linewidth=1,\n",
    "           ax = ax)\n",
    "plt.legend(bbox_to_anchor=(0, 1.4), loc=2, borderaxespad=0., ncol = 7)\n",
    "plt.xlabel(\"\")\n",
    "sns.despine()\n",
    "\n",
    "ax = plt.subplot(312)\n",
    "plt.title(\"(b) Silhouette\")\n",
    "sns.barplot(x = \"dataset_label\", y=\"Silhouette\", hue = \"method\", \n",
    "            data = all_data[all_data[\"method\"].isin(sel_methods)].sort_values(by=[\"order\", \"dataset\"]),\n",
    "            palette=sel_clrs,\n",
    "           edgecolor='black',\n",
    "    linewidth=1,\n",
    "           ax = ax)\n",
    "plt.legend([])\n",
    "plt.xlabel(\"\")\n",
    "sns.despine()\n",
    "\n",
    "\n",
    "ax = plt.subplot(313)\n",
    "plt.title(\"(c) Calinski\")\n",
    "sns.barplot(x = \"dataset_label\", y=\"Calinski\", hue = \"method\", \n",
    "            data = all_data[all_data[\"method\"].isin(sel_methods)].sort_values(by=[\"order\", \"dataset\"]),\n",
    "            palette=sel_clrs,\n",
    "           edgecolor='black',\n",
    "    linewidth=1,\n",
    "           ax = ax)\n",
    "plt.legend([])\n",
    "plt.xlabel(\"\")\n",
    "sns.despine()\n",
    "plt.tight_layout()\n",
    "plt.savefig(f\"../diagrams/{category}_NMI_internal_barplot.pdf\", bbox_inches='tight')"
   ]
  },
  {
   "cell_type": "markdown",
   "metadata": {},
   "source": [
    "# Computational time"
   ]
  },
  {
   "cell_type": "code",
   "execution_count": null,
   "metadata": {},
   "outputs": [],
   "source": [
    "df = pd.read_pickle(f\"../output/pickle_results/{category}/{category}_baseline.pkl\")\n",
    "df.groupby([\"temperature\", \"layers\", \"dropout\", \"lr\"])[\"kmeans_ari_0\"].mean().unstack([\"layers\", \"lr\"])\n",
    "\n",
    "df_k = df[[\n",
    "    'dataset',\n",
    "    'dropout',\n",
    "    'kmeans_ari_0',\n",
    "    'kmeans_nmi_0',\n",
    "    'run',\n",
    "    \"time\",\n",
    "    'kmeans_pred_0',\n",
    "]].rename(columns={\n",
    "    'kmeans_ari_0': \"ARI\",\n",
    "    'kmeans_nmi_0': \"NMI\",\n",
    "    'kmeans_pred_0': 'pred'\n",
    "})\n",
    "df_k[\"method\"] = \"constrastive+KM GPU\"\n",
    "\n",
    "df = pd.read_pickle(f\"../output/pickle_results/{category}/{category}_baseline_cpu.pkl\")\n",
    "df.groupby([\"temperature\", \"layers\", \"dropout\", \"lr\"])[\"kmeans_ari_0\"].mean().unstack([\"layers\", \"lr\"])\n",
    "\n",
    "df_k_cpu = df[[\n",
    "    'dataset',\n",
    "    'dropout',\n",
    "    'kmeans_ari_0',\n",
    "    'kmeans_nmi_0',\n",
    "    'run',\n",
    "    \"time\",\n",
    "    'kmeans_pred_0',\n",
    "]].rename(columns={\n",
    "    'kmeans_ari_0': \"ARI\",\n",
    "    'kmeans_nmi_0': \"NMI\",\n",
    "    'kmeans_pred_0': 'pred'\n",
    "})\n",
    "df_k_cpu[\"method\"] = \"constrastive+KM CPU\"\n",
    "\n",
    "scDeepCluster = pd.read_pickle(f\"../output/pickle_results/{category}/{category}_scDeepCluster.pkl\")\n",
    "scDeepCluster[\"method\"] = \"scDeepCluster\"\n",
    "\n",
    "sczi = pd.read_pickle(f\"../output/pickle_results/{category}/{category}_sczi.pkl\")\n",
    "sczi[\"method\"] = \"scziDesk\"\n",
    "\n",
    "scedar = pd.read_pickle(f\"../output/pickle_results/{category}/{category}_scedar.pkl\")\n",
    "scedar[\"method\"] = \"scedar\"\n",
    "\n",
    "scanpy = pd.read_pickle(f\"../output/pickle_results/{category}/{category}_scanpy.pkl\")\n",
    "scanpy[\"method\"] = \"scanpy-seurat\"\n",
    "\n",
    "desc = pd.read_pickle(f\"../output/pickle_results/{category}/{category}_desc.pkl\")\n",
    "desc[\"pred\"] = desc[\"pred\"].apply(lambda x: x.to_list())\n",
    "desc[\"method\"] = \"desc\"\n",
    "\n",
    "\n",
    "all_data_comp = pd.concat(\n",
    "    [df_k, df_k_cpu, sczi, scDeepCluster, desc, scanpy])\n",
    "all_data_comp = all_data_comp.reset_index(drop=True)\n",
    "\n",
    "ordered_methods = [\n",
    "     \"constrastive+KM CPU\",\n",
    "     \"constrastive+KM GPU\",\n",
    "    'scziDesk',\n",
    "    'scDeepCluster',\n",
    "    'desc',\n",
    "    'scanpy-seurat',\n",
    "    'scedar',\n",
    "    'scrna',\n",
    "    'soup',\n",
    "    'simlr',\n",
    "    'raceid',\n",
    "    'cidr',\n",
    "    'pca_kmeans',\n",
    "]\n",
    "ordered_methods = dict(zip(ordered_methods, np.arange(len(ordered_methods))))\n",
    "\n",
    "all_data_comp[\"order\"] = all_data_comp[\"method\"].apply(lambda x: ordered_methods[x])\n",
    "sel_methods = ['constrastive+KM', 'scziDesk',  'scDeepCluster','desc','scanpy-seurat']\n",
    "sel_clrs = [method_color[m] for m in sel_methods]\n",
    "\n",
    "sel_clrs =[sel_clrs[0]] + sel_clrs\n",
    "\n",
    "sel_methods = [ \"constrastive+KM CPU\",  \"constrastive+KM GPU\", 'scziDesk',  'scDeepCluster','desc','scanpy-seurat']"
   ]
  },
  {
   "cell_type": "code",
   "execution_count": null,
   "metadata": {},
   "outputs": [],
   "source": [
    "g = sns.barplot(x = \"method\", y=\"time\",\n",
    "           data = all_data_comp[all_data_comp[\"method\"].isin(sel_methods)].sort_values(by=[\"order\", \"dataset\"]),\n",
    "            palette=sel_clrs,\n",
    "           edgecolor='black',\n",
    "    linewidth=1,)\n",
    "plt.xticks(rotation = 90)\n",
    "sns.despine()\n",
    "plt.ylabel(\"time/sec\")\n",
    "plt.xlabel(\"\")\n",
    "g.set_yscale(\"log\")\n",
    "plt.savefig(f\"../diagrams/{category}_computational_time.pdf\", bbox_inches='tight')"
   ]
  },
  {
   "cell_type": "markdown",
   "metadata": {},
   "source": [
    "# Noise analysis"
   ]
  },
  {
   "cell_type": "code",
   "execution_count": null,
   "metadata": {},
   "outputs": [],
   "source": [
    "noise = pd.read_pickle(f\"../output/pickle_results/real_data/real_data_noise.pkl\")"
   ]
  },
  {
   "cell_type": "code",
   "execution_count": null,
   "metadata": {},
   "outputs": [],
   "source": [
    "plt.figure(figsize = (10, 3))\n",
    "ax = plt.subplot(121)\n",
    "sns.boxplot(data = noise, x = \"noise\", y='kmeans_ari_0', ax = ax)\n",
    "means = noise.groupby(['noise'])['kmeans_ari_0'].mean().values\n",
    "mean_labels = [str(np.round(s, 2)) for s in means]\n",
    "pos = range(len(means))\n",
    "for tick,label in zip(pos,ax.get_xticklabels()):\n",
    "    ax.text(pos[tick], 1.01, mean_labels[tick], \n",
    "            horizontalalignment='center', #size='x-small', color='w', weight='semibold'\n",
    "           )\n",
    "plt.ylabel(\"ARI\")\n",
    "plt.xlabel(\"Noise std\")\n",
    "sns.despine()\n",
    "plt.title(\"(a) ARI\")\n",
    "ax = plt.subplot(122)\n",
    "sns.boxplot(data = noise, x = \"noise\", y='kmeans_nmi_0', ax = ax)\n",
    "plt.ylabel(\"NMI\")\n",
    "means = noise.groupby(['noise'])['kmeans_nmi_0'].mean().values\n",
    "mean_labels = [str(np.round(s, 2)) for s in means]\n",
    "pos = range(len(means))\n",
    "for tick,label in zip(pos,ax.get_xticklabels()):\n",
    "    ax.text(pos[tick], 1.01, mean_labels[tick], \n",
    "            horizontalalignment='center', #size='x-small', color='w', weight='semibold'\n",
    "           )\n",
    "plt.xlabel(\"Noise std\")\n",
    "sns.despine()\n",
    "plt.title(\"(b) NMI\")\n",
    "plt.savefig(f\"../diagrams/{category}_noise.pdf\", bbox_inches='tight')"
   ]
  },
  {
   "cell_type": "markdown",
   "metadata": {},
   "source": [
    "# Learning rate"
   ]
  },
  {
   "cell_type": "code",
   "execution_count": null,
   "metadata": {},
   "outputs": [],
   "source": [
    "lr = pd.read_pickle(f\"../output/pickle_results/real_data/real_data_lr.pkl\")"
   ]
  },
  {
   "cell_type": "code",
   "execution_count": null,
   "metadata": {},
   "outputs": [],
   "source": [
    "plt.figure(figsize = (14, 3))\n",
    "ax = plt.subplot(121)\n",
    "sns.boxplot(data = lr, x = \"lr\", y='kmeans_ari_0', ax = ax)\n",
    "means = lr.groupby(['lr'])['kmeans_ari_0'].mean().values\n",
    "mean_labels = [str(np.round(s, 2)) for s in means]\n",
    "pos = range(len(means))\n",
    "for tick,label in zip(pos,ax.get_xticklabels()):\n",
    "    ax.text(pos[tick], 1.01, mean_labels[tick], \n",
    "            horizontalalignment='center', #size='x-small', color='w', weight='semibold'\n",
    "           )\n",
    "plt.ylabel(\"ARI\")\n",
    "plt.xlabel(\"Learning rate\")\n",
    "sns.despine()\n",
    "plt.title(\"(a) ARI\")\n",
    "ax = plt.subplot(122)\n",
    "sns.boxplot(data = lr, x = \"lr\", y='kmeans_nmi_0', ax = ax)\n",
    "plt.ylabel(\"NMI\")\n",
    "means = lr.groupby(['lr'])['kmeans_nmi_0'].mean().values\n",
    "mean_labels = [str(np.round(s, 2)) for s in means]\n",
    "pos = range(len(means))\n",
    "for tick,label in zip(pos,ax.get_xticklabels()):\n",
    "    ax.text(pos[tick], 1.01, mean_labels[tick], \n",
    "            horizontalalignment='center', #size='x-small', color='w', weight='semibold'\n",
    "           )\n",
    "plt.xlabel(\"Learning rate\")\n",
    "sns.despine()\n",
    "plt.title(\"(b) NMI\")\n",
    "plt.savefig(f\"../diagrams/{category}_lr.pdf\", bbox_inches='tight')"
   ]
  },
  {
   "cell_type": "markdown",
   "metadata": {},
   "source": [
    "# Nb input genes analysis"
   ]
  },
  {
   "cell_type": "code",
   "execution_count": null,
   "metadata": {},
   "outputs": [],
   "source": [
    "nb_genes = pd.read_pickle(f\"../output/pickle_results/real_data/real_data_nb_genes.pkl\")\n",
    "\n",
    "ordered_genes = ['all','random_half',  500, 1000, 1500, 3000, 5000]\n",
    "\n",
    "ordered_genes = dict(zip(ordered_genes, np.arange(len(ordered_genes))))\n",
    "\n",
    "nb_genes[\"order\"] = nb_genes[\"nb_genes\"].apply(lambda x: ordered_genes[x])\n",
    "\n",
    "def format_label(x, boxplot = False):\n",
    "    if x == \"all\":\n",
    "        if boxplot:\n",
    "            return \"all genes\"\n",
    "        else:\n",
    "            return \"all\\ngenes\"\n",
    "    if x == \"random_half\":\n",
    "        if boxplot:\n",
    "            return \"random 1/2 genes\"\n",
    "        else:\n",
    "            return \"random 1/2\\ngenes\"\n",
    "    else:\n",
    "        return str(int(x))\n",
    "nb_genes[\"nb_genes_boxplot\"] = nb_genes[\"nb_genes\"].apply(lambda x:format_label(x, boxplot = True) )\n",
    "nb_genes[\"nb_genes\"] = nb_genes[\"nb_genes\"].apply(lambda x:format_label(x) )\n",
    "\n",
    "nb_genes[\"dataset_label\"] = nb_genes[\"dataset\"].apply(\n",
    "    lambda x: dataset_names.get(x, x))\n",
    "nb_genes=nb_genes.sort_values(by= \"order\",  ascending = True)"
   ]
  },
  {
   "cell_type": "code",
   "execution_count": null,
   "metadata": {
    "scrolled": false
   },
   "outputs": [],
   "source": [
    "plt.figure(figsize = (14, 7))\n",
    "\n",
    "ax = plt.subplot(321)\n",
    "sns.boxplot(data = nb_genes, x = \"nb_genes\", y='kmeans_ari_0', ax = ax)\n",
    "plt.ylabel(\"ARI\")\n",
    "plt.xlabel(\"Number of input genes\")\n",
    "sns.despine()\n",
    "plt.title(\"(a) ARI\")\n",
    "ax = plt.subplot(322)\n",
    "sns.boxplot(data = nb_genes, x = \"nb_genes\", y='kmeans_sil_0', ax = ax)\n",
    "plt.ylabel(\"Silhouette\")\n",
    "plt.xlabel(\"Number of input genes\")\n",
    "sns.despine()\n",
    "plt.title(\"(b) Silhouette\")\n",
    "\n",
    "\n",
    "ax = plt.subplot(312)\n",
    "sns.barplot(data = nb_genes, x = \"dataset_label\", y = \"kmeans_ari_0\", hue = \"nb_genes_boxplot\", ax = ax)\n",
    "plt.legend(bbox_to_anchor=(0.001, 1.3), loc=2, borderaxespad=0., ncol = 4)\n",
    "plt.ylabel(\"ARI\")\n",
    "plt.grid()\n",
    "plt.title(\"(c)\")\n",
    "plt.xlabel(\"\")\n",
    "sns.despine()\n",
    "\n",
    "ax = plt.subplot(313)\n",
    "sns.barplot(data = nb_genes, x = \"dataset_label\", y = \"kmeans_sil_0\", hue = \"nb_genes_boxplot\", ax = ax)\n",
    "plt.legend([])\n",
    "plt.grid()\n",
    "plt.ylabel(\"Silhouette\")\n",
    "plt.title(\"(d)\")\n",
    "plt.xlabel(\"\")\n",
    "sns.despine()\n",
    "\n",
    "plt.tight_layout()\n",
    "plt.savefig(f\"../diagrams/{category}_nb_genes.pdf\", bbox_inches='tight')"
   ]
  },
  {
   "cell_type": "code",
   "execution_count": null,
   "metadata": {},
   "outputs": [],
   "source": []
  },
  {
   "cell_type": "code",
   "execution_count": null,
   "metadata": {},
   "outputs": [],
   "source": [
    "a = nb_genes[nb_genes[\"nb_genes\"] == '500'][\"kmeans_ari_0\"].values\n",
    "\n",
    "b = nb_genes[nb_genes[\"nb_genes\"] == \"all\\ngenes\"][\"kmeans_ari_0\"].values\n",
    "\n",
    "print(sp.stats.ttest_ind(a, b, axis=0, equal_var=True, nan_policy='propagate', alternative='greater'))"
   ]
  },
  {
   "cell_type": "code",
   "execution_count": null,
   "metadata": {},
   "outputs": [],
   "source": [
    "a = nb_genes[nb_genes[\"nb_genes\"] == '500'][\"kmeans_nmi_0\"].values\n",
    "\n",
    "b = nb_genes[nb_genes[\"nb_genes\"] == \"all\\ngenes\"][\"kmeans_nmi_0\"].values\n",
    "\n",
    "print(sp.stats.ttest_ind(a, b, axis=0, equal_var=True, nan_policy='propagate', alternative='greater'))"
   ]
  },
  {
   "cell_type": "markdown",
   "metadata": {},
   "source": [
    "# Nb input epochs"
   ]
  },
  {
   "cell_type": "code",
   "execution_count": null,
   "metadata": {},
   "outputs": [],
   "source": [
    "nb_epochs = pd.read_pickle(f\"../output/pickle_results/real_data/real_data_nb_epochs.pkl\")\n",
    "nb_epochs[\"nb_epochs\"] = nb_epochs[\"nb_epochs\"].astype(\"int\")"
   ]
  },
  {
   "cell_type": "code",
   "execution_count": null,
   "metadata": {},
   "outputs": [],
   "source": [
    "plt.figure(figsize = (10, 3))\n",
    "ax = plt.subplot(121)\n",
    "sns.boxplot(data = nb_epochs, x = \"nb_epochs\", y='kmeans_ari_0', ax = ax)\n",
    "plt.ylabel(\"ARI\")\n",
    "plt.xlabel(\"Number of training epochs\")\n",
    "sns.despine()\n",
    "plt.title(\"(a) ARI\")\n",
    "ax = plt.subplot(122)\n",
    "sns.boxplot(data = nb_epochs, x = \"nb_epochs\", y='kmeans_nmi_0', ax = ax)\n",
    "plt.ylabel(\"NMI\")\n",
    "plt.xlabel(\"Number of training epochs\")\n",
    "sns.despine()\n",
    "plt.title(\"(b) NMI\")\n",
    "plt.savefig(f\"../diagrams/{category}_nb_epochs.pdf\", bbox_inches='tight')"
   ]
  },
  {
   "cell_type": "markdown",
   "metadata": {},
   "source": [
    "# Robustness to the number of selected cells"
   ]
  },
  {
   "cell_type": "code",
   "execution_count": null,
   "metadata": {},
   "outputs": [],
   "source": [
    "train_size = pd.read_pickle(f\"../output/pickle_results/real_data/real_data_train_size.pkl\")\n"
   ]
  },
  {
   "cell_type": "code",
   "execution_count": null,
   "metadata": {},
   "outputs": [],
   "source": [
    "train_size.groupby(['train_size']).mean()"
   ]
  },
  {
   "cell_type": "code",
   "execution_count": null,
   "metadata": {},
   "outputs": [],
   "source": [
    "plt.figure(figsize = (10, 3))\n",
    "ax = plt.subplot(121)\n",
    "g = sns.boxplot(data = train_size, x = \"train_size\", y='kmeans_ari_0', ax = ax)\n",
    "means = train_size.groupby(['train_size'])['kmeans_ari_0'].mean().values\n",
    "mean_labels = [str(np.round(s, 2)) for s in means]\n",
    "pos = range(len(means))\n",
    "for tick,label in zip(pos,ax.get_xticklabels()):\n",
    "    ax.text(pos[tick], 1.01, mean_labels[tick], \n",
    "            horizontalalignment='center', #size='x-small', color='w', weight='semibold'\n",
    "           )\n",
    "plt.ylabel(\"ARI\")\n",
    "plt.xlabel(\"Ratio of selected cells\")\n",
    "sns.despine()\n",
    "plt.title(\"(a) ARI\")\n",
    "ax = plt.subplot(122)\n",
    "sns.boxplot(data = train_size, x = \"train_size\", y='kmeans_nmi_0', ax = ax)\n",
    "means = train_size.groupby(['train_size'])['kmeans_nmi_0'].mean().values\n",
    "mean_labels = [str(np.round(s, 2)) for s in means]\n",
    "pos = range(len(means))\n",
    "for tick,label in zip(pos,ax.get_xticklabels()):\n",
    "    ax.text(pos[tick], 1.01, mean_labels[tick], \n",
    "            horizontalalignment='center', #size='x-small', color='w', weight='semibold'\n",
    "           )\n",
    "plt.ylabel(\"NMI\")\n",
    "plt.xlabel(\"Ratio of selected cells\")\n",
    "sns.despine()\n",
    "plt.title(\"(b) NMI\")\n",
    "plt.tight_layout()\n",
    "plt.savefig(f\"../diagrams/{category}_train_size.pdf\", bbox_inches='tight')"
   ]
  },
  {
   "cell_type": "code",
   "execution_count": null,
   "metadata": {},
   "outputs": [],
   "source": [
    "a = train_size[train_size[\"train_size\"] == 1][\"kmeans_ari_0\"].values\n",
    "\n",
    "b = train_size[train_size[\"train_size\"] == 0.6][\"kmeans_ari_0\"].values\n",
    "\n",
    "print(sp.stats.ttest_ind(a, b, axis=0, equal_var=True, nan_policy='propagate', alternative='greater'))\n",
    "\n",
    "a = train_size[train_size[\"train_size\"] == 1][\"leiden_ari_0\"].values\n",
    "\n",
    "b = train_size[train_size[\"train_size\"] == 0.6][\"leiden_ari_0\"].values\n",
    "\n",
    "print(sp.stats.ttest_ind(a, b, axis=0, equal_var=True, nan_policy='propagate', alternative='greater'))"
   ]
  },
  {
   "cell_type": "code",
   "execution_count": null,
   "metadata": {},
   "outputs": [],
   "source": []
  },
  {
   "cell_type": "code",
   "execution_count": null,
   "metadata": {},
   "outputs": [],
   "source": []
  },
  {
   "cell_type": "code",
   "execution_count": null,
   "metadata": {},
   "outputs": [],
   "source": [
    "all_data[all_data[\"method\"] == \"scDeepCluster\"].groupby(\"dataset\").mean()"
   ]
  },
  {
   "cell_type": "markdown",
   "metadata": {},
   "source": [
    "# ARI correlation"
   ]
  },
  {
   "cell_type": "code",
   "execution_count": null,
   "metadata": {},
   "outputs": [],
   "source": [
    "df = all_data[['dataset', \"method\", 'ARI', 'NMI','Silhouette', 'Calinski']]\n",
    "df.head()\n",
    "\n",
    "df['Silhouette'] = df['Silhouette'].astype(float)\n",
    "df['Calinski'] = df['Calinski'].astype(float)\n",
    "\n",
    "corr = None\n",
    "\n",
    "for method in df.method.unique():\n",
    "    desc_m = df[df[\"method\"] == method]\n",
    "    desc_m = desc_m.corr()[[\"ARI\"]].rename(columns={\"ARI\": method})\n",
    "    if corr is None:\n",
    "        corr = desc_m\n",
    "    else:\n",
    "        corr = pd.concat([corr, desc_m], axis =1)\n",
    "\n",
    "corr = corr.round(2)\n",
    "\n",
    "corr = corr[corr.index != \"ARI\"]\n",
    "\n",
    "corr = corr[ordered_methods]\n",
    "\n",
    "corr"
   ]
  },
  {
   "cell_type": "code",
   "execution_count": null,
   "metadata": {},
   "outputs": [],
   "source": [
    "plt.figure(figsize = (12, 2))\n",
    "ax = plt.gca()\n",
    "sns.heatmap(corr, annot = True, cmap = \"coolwarm\", ax = ax)\n",
    "plt.ylabel(\"\");\n",
    "plt.savefig(f\"../diagrams/ari_correlation.pdf\", bbox_inches='tight')"
   ]
  },
  {
   "cell_type": "code",
   "execution_count": null,
   "metadata": {},
   "outputs": [],
   "source": []
  },
  {
   "cell_type": "markdown",
   "metadata": {},
   "source": [
    "# Correlation score vs sparsity, etc"
   ]
  },
  {
   "cell_type": "code",
   "execution_count": null,
   "metadata": {},
   "outputs": [],
   "source": [
    "desc = pd.read_excel(\"../output/pickle_results/real_data/description.xlsx\")\n",
    "desc = desc[['dataset', 'nb_clusters', 'sparsity', 'max_value',\n",
    "       'non_zero_mean', 'non_zero_median', 'non_zero_skew', 'non_zero_kurosis']]\n",
    "desc.head()\n",
    "\n",
    "\n",
    "df = all_data[['dataset', \"method\", \"ARI\"]]\n",
    "\n",
    "desc = pd.merge(desc, df, on = \"dataset\", how = \"right\")\n",
    "\n",
    "corr = None\n",
    "\n",
    "for method in desc.method.unique():\n",
    "    desc_m = desc[desc[\"method\"] == method]\n",
    "    desc_m = desc_m.corr()[[\"ARI\"]].rename(columns={\"ARI\": method})\n",
    "    if corr is None:\n",
    "        corr = desc_m\n",
    "    else:\n",
    "        corr = pd.concat([corr, desc_m], axis =1)\n",
    "\n",
    "corr = corr.round(2)\n",
    "\n",
    "corr = corr[corr.index != \"ARI\"].reset_index()\n",
    "\n",
    "labels = {\n",
    "    'nb_clusters': \"Nb of clusters\",\n",
    "    'sparsity': \"Sparsity (ratio of 0 values)\",\n",
    "    'max_value': \"Max value\",\n",
    "    'non_zero_mean': \"Mean value\",\n",
    "    'non_zero_median': \"Median value\",\n",
    "    'non_zero_skew': \"Skew\",\n",
    "    'non_zero_kurosis': \"Kurtosis\"\n",
    "}\n",
    "corr[\"index\"] = corr[\"index\"].apply(lambda x: labels[x])\n",
    "corr = corr.set_index(\"index\", drop = True)\n",
    "corr = corr[ordered_methods]\n",
    "corr"
   ]
  },
  {
   "cell_type": "code",
   "execution_count": null,
   "metadata": {},
   "outputs": [],
   "source": [
    "plt.figure(figsize = (12, 5))\n",
    "ax = plt.gca()\n",
    "sns.heatmap(corr, annot = True, cmap = \"coolwarm\", ax = ax)\n",
    "plt.ylabel(\"\");\n",
    "plt.savefig(f\"../diagrams/meta_correlation.pdf\", bbox_inches='tight')"
   ]
  },
  {
   "cell_type": "code",
   "execution_count": null,
   "metadata": {},
   "outputs": [],
   "source": [
    "sel_methods = ['constrastive+KM', 'constrastive+LD', 'scziDesk', 'scDeepCluster', 'desc', 'scanpy-seurat']"
   ]
  },
  {
   "cell_type": "code",
   "execution_count": null,
   "metadata": {},
   "outputs": [],
   "source": [
    "sel_desc = desc[desc.method.isin(sel_methods)]"
   ]
  },
  {
   "cell_type": "code",
   "execution_count": null,
   "metadata": {},
   "outputs": [],
   "source": [
    "sel_desc = sel_desc.rename(columns = {\"nb_clusters\": \"Nb. of clusters\" })"
   ]
  },
  {
   "cell_type": "code",
   "execution_count": null,
   "metadata": {},
   "outputs": [],
   "source": [
    "g = sns.FacetGrid(sel_desc, col=\"method\",  col_wrap=3, height=3, \n",
    "                  ylim=(0, 1)\n",
    "                 )\n",
    "g.map(sns.regplot, \"Nb. of clusters\", \"ARI\")\n",
    "plt.savefig(f\"../diagrams/perf_by_nb_of_clusters.pdf\", bbox_inches='tight')"
   ]
  },
  {
   "cell_type": "code",
   "execution_count": null,
   "metadata": {},
   "outputs": [],
   "source": [
    "all_data[all_data[\"method\"] ==\"scDeepCluster\"].groupby(\"dataset\").mean()"
   ]
  },
  {
   "cell_type": "markdown",
   "metadata": {},
   "source": [
    "# Number of layers"
   ]
  },
  {
   "cell_type": "code",
   "execution_count": null,
   "metadata": {},
   "outputs": [],
   "source": [
    "layers = pd.read_pickle(f\"../output/pickle_results/real_data/real_data_layers.pkl\")\n",
    "layers.head()"
   ]
  },
  {
   "cell_type": "code",
   "execution_count": null,
   "metadata": {},
   "outputs": [],
   "source": [
    "layers[\"nb_layers\"] = layers[\"layers\"].apply(lambda x: len(x.split(\",\")))\n",
    "layers[\"embedding_size\"] = layers[\"layers\"].apply(lambda x: int(x.split(\",\")[-1].replace(\"[\", '')[:-1]))"
   ]
  },
  {
   "cell_type": "code",
   "execution_count": null,
   "metadata": {},
   "outputs": [],
   "source": [
    "layers9 = layers[layers[\"dropout\"]==0.9]"
   ]
  },
  {
   "cell_type": "code",
   "execution_count": null,
   "metadata": {},
   "outputs": [],
   "source": [
    "r = layers.groupby([\"layers\", \"dropout\"\n",
    "                    ])[\"kmeans_ari_0\"].mean().unstack([\"layers\"\n",
    "                                                       ]).T.reset_index()\n",
    "r[\"nb_layers\"] = r[\"layers\"].apply(lambda x: len(x.split(\",\")))\n",
    "r[\"embedding_size\"] = r[\"layers\"].apply(\n",
    "    lambda x: int(x.split(\",\")[-1].replace(\"[\", '')[:-1]))\n",
    "r = r.sort_values(by=[\"nb_layers\", \"embedding_size\"]).drop(\n",
    "    [\"nb_layers\", \"embedding_size\"], axis=1).reset_index(drop=True).round(3).set_index(\"layers\")"
   ]
  },
  {
   "cell_type": "code",
   "execution_count": null,
   "metadata": {},
   "outputs": [],
   "source": [
    "plt.figure(figsize = (10, 8))\n",
    "ax = plt.subplot(2,2,1)\n",
    "sns.boxplot(data =layers9, x = 'nb_layers', y = 'kmeans_ari_0'  , ax = ax)\n",
    "means = layers9.groupby(['nb_layers'])['kmeans_ari_0'].mean().values\n",
    "mean_labels = [str(np.round(s, 3)) for s in means]\n",
    "pos = range(len(means))\n",
    "for tick,label in zip(pos,ax.get_xticklabels()):\n",
    "    ax.text(pos[tick], 1.01, mean_labels[tick], \n",
    "            horizontalalignment='center', #size='x-small', color='w', weight='semibold'\n",
    "           )\n",
    "plt.ylabel(\"ARI\")\n",
    "plt.xlabel(\"Number of layers\")\n",
    "sns.despine()\n",
    "plt.title(\"(a) Number of layers\")\n",
    "\n",
    "\n",
    "ax = plt.subplot(2,2,3)\n",
    "sns.boxplot(data =layers9, x = 'embedding_size', y = 'kmeans_ari_0'  , ax = ax)\n",
    "means = layers9.groupby(['embedding_size'])['kmeans_ari_0'].mean().values\n",
    "mean_labels = [str(np.round(s, 3)) for s in means]\n",
    "pos = range(len(means))\n",
    "for tick,label in zip(pos,ax.get_xticklabels()):\n",
    "    ax.text(pos[tick], 1.01, mean_labels[tick], \n",
    "            horizontalalignment='center', #size='x-small', color='w', weight='semibold'\n",
    "           )\n",
    "plt.ylabel(\"ARI\")\n",
    "plt.xlabel(\"Representation layer size\")\n",
    "sns.despine()\n",
    "plt.title(\"(b) Representation layer size\")\n",
    "\n",
    "ax = plt.subplot(1,2,2)\n",
    "ax = plt.gca()\n",
    "sns.heatmap(r, annot = True, cmap = \"coolwarm\",fmt='.3g', ax = ax)\n",
    "plt.ylabel(\"\");\n",
    "plt.title(\"(c)\")\n",
    "plt.tight_layout()\n",
    "plt.savefig(f\"../diagrams/grid_search.pdf\", bbox_inches='tight')"
   ]
  },
  {
   "cell_type": "code",
   "execution_count": null,
   "metadata": {},
   "outputs": [],
   "source": [
    "r.shape"
   ]
  },
  {
   "cell_type": "code",
   "execution_count": null,
   "metadata": {},
   "outputs": [],
   "source": [
    "# plt.figure(figsize = (5, 10))\n",
    "# ax = plt.gca()\n",
    "# sns.heatmap(r, annot = True, cmap = \"coolwarm\",fmt='.3g', ax = ax)\n",
    "# plt.ylabel(\"\");\n",
    "# plt.savefig(f\"../diagrams/grid_search.pdf\", bbox_inches='tight')"
   ]
  },
  {
   "cell_type": "code",
   "execution_count": null,
   "metadata": {},
   "outputs": [],
   "source": []
  },
  {
   "cell_type": "markdown",
   "metadata": {},
   "source": [
    "# Dropout level"
   ]
  },
  {
   "cell_type": "code",
   "execution_count": null,
   "metadata": {},
   "outputs": [],
   "source": [
    "dropout = layers[layers[\"layers\"] == \"[200, 40, 60]\"]"
   ]
  },
  {
   "cell_type": "code",
   "execution_count": null,
   "metadata": {},
   "outputs": [],
   "source": [
    "dropout.groupby(\"dropout\").mean()"
   ]
  },
  {
   "cell_type": "code",
   "execution_count": null,
   "metadata": {},
   "outputs": [],
   "source": [
    "plt.figure(figsize = (10, 3))\n",
    "ax = plt.subplot(121)\n",
    "sns.boxplot(data = dropout, x = \"dropout\", y='kmeans_ari_0', ax = ax)\n",
    "means = dropout.groupby(['dropout'])['kmeans_ari_0'].mean().values\n",
    "mean_labels = [str(np.round(s, 2)) for s in means]\n",
    "pos = range(len(means))\n",
    "for tick,label in zip(pos,ax.get_xticklabels()):\n",
    "    ax.text(pos[tick], 1.01, mean_labels[tick], \n",
    "            horizontalalignment='center', #size='x-small', color='w', weight='semibold'\n",
    "           )\n",
    "plt.ylabel(\"ARI\")\n",
    "plt.xlabel(\"Gene dropout\")\n",
    "sns.despine()\n",
    "plt.title(\"(a) ARI\")\n",
    "ax = plt.subplot(122)\n",
    "sns.boxplot(data = dropout, x = \"dropout\", y='kmeans_nmi_0', ax = ax)\n",
    "plt.ylabel(\"NMI\")\n",
    "means = dropout.groupby(['dropout'])['kmeans_nmi_0'].mean().values\n",
    "mean_labels = [str(np.round(s, 2)) for s in means]\n",
    "pos = range(len(means))\n",
    "for tick,label in zip(pos,ax.get_xticklabels()):\n",
    "    ax.text(pos[tick], 1.01, mean_labels[tick], \n",
    "            horizontalalignment='center', #size='x-small', color='w', weight='semibold'\n",
    "           )\n",
    "plt.xlabel(\"Gene dropout\")\n",
    "sns.despine()\n",
    "plt.title(\"(b) NMI\")\n",
    "plt.savefig(f\"../diagrams/{category}_dropout.pdf\", bbox_inches='tight')"
   ]
  },
  {
   "cell_type": "code",
   "execution_count": null,
   "metadata": {},
   "outputs": [],
   "source": []
  },
  {
   "cell_type": "code",
   "execution_count": null,
   "metadata": {},
   "outputs": [],
   "source": []
  },
  {
   "cell_type": "markdown",
   "metadata": {},
   "source": [
    "# Clustering analysis"
   ]
  },
  {
   "cell_type": "code",
   "execution_count": null,
   "metadata": {},
   "outputs": [],
   "source": [
    "all_data[\"dataset\"].unique()"
   ]
  },
  {
   "cell_type": "code",
   "execution_count": null,
   "metadata": {},
   "outputs": [],
   "source": [
    "df = pd.read_pickle(f\"../output/pickle_results/{category}/{category}_baseline.pkl\")\n"
   ]
  },
  {
   "cell_type": "code",
   "execution_count": null,
   "metadata": {},
   "outputs": [],
   "source": [
    "datasets = ['Quake_10x_Limb_Muscle', 'Quake_Smart-seq2_Trachea', 'Quake_10x_Spleen']"
   ]
  },
  {
   "cell_type": "code",
   "execution_count": null,
   "metadata": {},
   "outputs": [],
   "source": [
    "n = len(datasets)\n",
    "plt.figure(figsize = (14, 4*n))\n",
    "for i in range(n):\n",
    "    dataset = datasets[i]\n",
    "    data_mat = h5py.File(f\"{path}real_data/{dataset}.h5\", \"r\")\n",
    "    X = np.array(data_mat['X'])\n",
    "    Y = np.array(data_mat['Y'])\n",
    "\n",
    "    cell_names = data_mat['cell_names'][()]\n",
    "\n",
    "    ours = df[(all_data[\"dataset\"] == dataset) & (df[\"run\"] == 0)]\n",
    "    ours\n",
    "\n",
    "    emb = ours[\"features_0\"].values[0]\n",
    "\n",
    "    X_embedded = TSNE(n_components=2).fit_transform(emb)\n",
    "\n",
    "    X_embedded = pd.DataFrame(data= X_embedded, columns = [\"x\", \"y\"])\n",
    "    X_embedded[dataset] = cell_names\n",
    "\n",
    "    X_embedded[\"K Means\"] = ours[\"kmeans_pred_0\"].values[0]\n",
    "    X_embedded[\"Leiden\"] = ours[\"leiden_pred_0\"].values[0]\n",
    "\n",
    "    X_embedded[\"K Means\"] = X_embedded[\"K Means\"].apply(lambda x : f\"c {x}\")\n",
    "    X_embedded[\"Leiden\"] = X_embedded[\"Leiden\"].apply(lambda x : f\"c {x}\")\n",
    "    # plot\n",
    "    ax = plt.subplot(n, 3, i*3+1)\n",
    "    p = sns.scatterplot(data=X_embedded,\n",
    "               x='x',\n",
    "               y='y',\n",
    "               hue=\"K Means\",\n",
    "               ax = ax\n",
    "              )\n",
    "    plt.xlabel(\"\")\n",
    "    plt.ylabel(\"\")\n",
    "    plt.legend([])\n",
    "    ari = round(ours[\"kmeans_ari_0\"].values[0], 2)\n",
    "    n_clust = X_embedded[\"K Means\"].unique().shape[0]\n",
    "    plt.title(f\"K-Means ({n_clust} clusters, ARI {ari})\")\n",
    "    sns.despine()\n",
    "    \n",
    "    \n",
    "    ax = plt.subplot(n, 3, i*3+2)\n",
    "    sns.scatterplot(data=X_embedded,\n",
    "               x='x',\n",
    "               y='y',\n",
    "               hue=\"Leiden\",\n",
    "               ax = ax,\n",
    "              )\n",
    "    ari = round(ours[\"leiden_ari_0\"].values[0], 2)\n",
    "    n_clust = X_embedded[\"Leiden\"].unique().shape[0]\n",
    "    plt.title(f\"Leiden ({n_clust} clusters, ARI {ari})\")\n",
    "    plt.legend([])\n",
    "    plt.xlabel(\"\")\n",
    "    plt.ylabel(\"\")\n",
    "    sns.despine()\n",
    "\n",
    "    ax = plt.subplot(n, 3, i*3+3)\n",
    "    sns.scatterplot(data=X_embedded,\n",
    "               x='x',\n",
    "               y='y',\n",
    "               hue=dataset,\n",
    "               ax = ax\n",
    "              )\n",
    "    plt.legend(bbox_to_anchor=(1,1), loc=2, borderaxespad=0., ncol = 1)\n",
    "    plt.title(\"Ground truth\")\n",
    "    plt.xlabel(\"\")\n",
    "    plt.ylabel(\"\")\n",
    "    sns.despine()\n",
    "    \n",
    "# plt.tight_layout()\n",
    "\n",
    "plt.savefig(f\"../diagrams/{category}_TSNE_clusters.pdf\", bbox_inches='tight')"
   ]
  },
  {
   "cell_type": "code",
   "execution_count": null,
   "metadata": {},
   "outputs": [],
   "source": []
  },
  {
   "cell_type": "code",
   "execution_count": null,
   "metadata": {},
   "outputs": [],
   "source": []
  },
  {
   "cell_type": "code",
   "execution_count": null,
   "metadata": {},
   "outputs": [],
   "source": []
  },
  {
   "cell_type": "code",
   "execution_count": null,
   "metadata": {},
   "outputs": [],
   "source": []
  },
  {
   "cell_type": "code",
   "execution_count": null,
   "metadata": {},
   "outputs": [],
   "source": []
  },
  {
   "cell_type": "code",
   "execution_count": null,
   "metadata": {},
   "outputs": [],
   "source": [
    "plt.figure(figsize = (14, 14))\n",
    "ax = plt.subplot(411)\n",
    "plt.title(\"(a)\")\n",
    "sns.barplot(x = \"dataset\", y=\"ARI\", hue = \"method\", \n",
    "            data = all_data[all_data[\"dataset\"].isin(datasets)].sort_values(by=\"order\"),\n",
    "            palette=clrs,\n",
    "           edgecolor='black',\n",
    "    linewidth=1,\n",
    "           ax = ax)\n",
    "plt.legend(bbox_to_anchor=(0, 1.4), loc=2, borderaxespad=0., ncol = 7)\n",
    "plt.xlabel(\"\")\n",
    "sns.despine()\n",
    "\n",
    "ax = plt.subplot(412)\n",
    "sns.barplot(x = \"dataset\", y=\"ARI\", hue = \"method\", \n",
    "            data = all_data[~all_data[\"dataset\"].isin(datasets)].sort_values(by=\"order\"),\n",
    "            palette=clrs,\n",
    "           edgecolor='black',\n",
    "    linewidth=1,\n",
    "           ax = ax)\n",
    "plt.legend([])\n",
    "sns.despine()\n",
    "plt.xlabel(\"\")\n",
    "\n",
    "\n",
    "ax = plt.subplot(413)\n",
    "plt.title(\"(b)\")\n",
    "sns.barplot(x = \"dataset\", y='Calinski', hue = \"method\", \n",
    "            data = all_data[all_data[\"dataset\"].isin(datasets)].sort_values(by=\"order\"),\n",
    "            palette=clrs,\n",
    "           edgecolor='black',\n",
    "    linewidth=1,\n",
    "           ax = ax)\n",
    "plt.legend([])\n",
    "plt.xlabel(\"\")\n",
    "sns.despine()\n",
    "\n",
    "ax = plt.subplot(414)\n",
    "sns.barplot(x = \"dataset\", y='Calinski', hue = \"method\", \n",
    "            data = all_data[~all_data[\"dataset\"].isin(datasets)].sort_values(by=\"order\"),\n",
    "            palette=clrs,\n",
    "           edgecolor='black',\n",
    "    linewidth=1,\n",
    "           ax = ax)\n",
    "plt.legend([])\n",
    "sns.despine()\n",
    "plt.tight_layout()\n",
    "plt.xlabel(\"\")\n",
    "plt.savefig(f\"../diagrams/{category}_ARI_barplot.pdf\", bbox_inches='tight')"
   ]
  },
  {
   "cell_type": "code",
   "execution_count": null,
   "metadata": {},
   "outputs": [],
   "source": []
  },
  {
   "cell_type": "code",
   "execution_count": null,
   "metadata": {},
   "outputs": [],
   "source": [
    "plt.figure(figsize = (14, 7))\n",
    "ax = plt.subplot(211)\n",
    "sns.barplot(x = \"dataset\", y=\"NMI\", hue = \"method\", \n",
    "            data = all_data[all_data[\"dataset\"].isin(datasets)].sort_values(by=\"order\"),\n",
    "            palette=clrs,\n",
    "           edgecolor='black',\n",
    "    linewidth=1,\n",
    "           ax = ax)\n",
    "plt.legend(bbox_to_anchor=(0, 1.2), loc=2, borderaxespad=0., ncol = 7)\n",
    "sns.despine()\n",
    "\n",
    "ax = plt.subplot(212)\n",
    "sns.barplot(x = \"dataset\", y=\"NMI\", hue = \"method\", \n",
    "            data = all_data[~all_data[\"dataset\"].isin(datasets)].sort_values(by=\"order\"),\n",
    "            palette=clrs,\n",
    "           edgecolor='black',\n",
    "    linewidth=1,\n",
    "           ax = ax)\n",
    "plt.legend([])\n",
    "sns.despine()\n",
    "plt.savefig(f\"../diagrams/{category}_NMI_barplot.pdf\", bbox_inches='tight')"
   ]
  },
  {
   "cell_type": "code",
   "execution_count": null,
   "metadata": {},
   "outputs": [],
   "source": []
  },
  {
   "cell_type": "markdown",
   "metadata": {},
   "source": [
    "# Worm dataset analysis"
   ]
  },
  {
   "cell_type": "code",
   "execution_count": null,
   "metadata": {},
   "outputs": [],
   "source": []
  },
  {
   "cell_type": "code",
   "execution_count": null,
   "metadata": {},
   "outputs": [],
   "source": [
    "dataset_names_worm = {\n",
    "    '10X_PBMC': '10X PBMC',\n",
    "    '10X_PBMC_select_2100': '10X PBMC (2100)',\n",
    "    'mouse_ES_cell': 'Mouse ES Cell',\n",
    "    'mouse_ES_cell_select_2100': 'Mouse ES Cell (2100)',\n",
    "    'worm_neuron_cell_select_2100': 'Worm Neuron Cell (2100)',\n",
    "    'worm_neuron_cell': 'Worm Neuron Cell',\n",
    "    'mouse_bladder_cell': 'Mouse Bladder Cell',\n",
    "    'mouse_bladder_cell_select_2100': 'Mouse Bladder  Cell (2100)',\n",
    "    'Quake_Smart-seq2_Trachea': 'QS Trachea',\n",
    "    'Quake_Smart-seq2_Diaphragm': 'QS Diaphragm',\n",
    "    'Quake_10x_Spleen': 'Q Spleen',\n",
    "    'Quake_10x_Bladder': 'Q Bladder',\n",
    "    'Quake_Smart-seq2_Lung': 'QS Lung',\n",
    "    'Quake_10x_Limb_Muscle': 'Q Limb Muscle',\n",
    "    'Quake_Smart-seq2_Limb_Muscle': 'QS Limb Muscle',\n",
    "    'Adam': \"Adam\",\n",
    "    'Muraro': \"Muraro\",\n",
    "    'Romanov': \"Romanov\",\n",
    "    'Young': \"Young\",\n",
    "}\n",
    "worm_order =dict(zip(list(dataset_names_worm.keys()), np.arange(len(dataset_names_worm))))\n",
    "df = pd.read_pickle(\n",
    "    f\"{path}output/pickle_results/real_data/real_data_dataset_tuning.pkl\")\n",
    "df = df.groupby([\"dataset\",\n",
    "                 \"nb_genes\"])[[\"kmeans_ari_0\", \"sparsity\"\n",
    "                               ]].mean().unstack(\"nb_genes\").reset_index()\n",
    "df.columns = [\"dataset\", \"500\", \"1500\", \"5000\", \"sparsity\", \"s1\", \"s2\"]\n",
    "df[\"order\"] = df[\"dataset\"].apply(\n",
    "    lambda x: worm_order.get(x, x))\n",
    "df = df.sort_values(by = \"order\")\n",
    "df[\"dataset\"] = df[\"dataset\"].apply(\n",
    "    lambda x: dataset_names_worm.get(x, x))\n",
    "\n",
    "df = df.drop([\"s1\", \"s2\", \"order\"], axis=1).set_index(\"dataset\").round(3)\n",
    "\n",
    "df"
   ]
  },
  {
   "cell_type": "code",
   "execution_count": null,
   "metadata": {},
   "outputs": [],
   "source": [
    "nb_genes = pd.read_pickle(f\"../output/pickle_results/real_data/real_data_worm.pkl\")\n",
    "nb_genes[\"nb_genes\"] = nb_genes[\"nb_genes\"].astype(int)"
   ]
  },
  {
   "cell_type": "code",
   "execution_count": null,
   "metadata": {},
   "outputs": [],
   "source": [
    "plt.figure(figsize = (10, 7))\n",
    "ax = plt.subplot(221)\n",
    "g = sns.boxplot(data = nb_genes, x = \"nb_genes\", y='kmeans_ari_0', ax = ax)\n",
    "ylim = nb_genes.groupby(\"nb_genes\").max()[\"kmeans_ari_0\"].max() + 0.01\n",
    "means = nb_genes.groupby(['nb_genes'])['kmeans_ari_0'].mean().values\n",
    "mean_labels = [str(np.round(s, 2)) for s in means]\n",
    "pos = range(len(means))\n",
    "for tick,label in zip(pos,ax.get_xticklabels()):\n",
    "    ax.text(pos[tick], ylim, mean_labels[tick], \n",
    "            horizontalalignment='center', #size='x-small', color='w', weight='semibold'\n",
    "           )\n",
    "plt.ylabel(\"ARI\")\n",
    "plt.xlabel(\"Nb of selected genes in Worm Neuron Cell dataset\")\n",
    "sns.despine()\n",
    "plt.title(\"(a) ARI\")\n",
    "ax = plt.subplot(223)\n",
    "ylim = nb_genes.groupby(\"nb_genes\").max()[\"kmeans_nmi_0\"].max()+ 0.01\n",
    "sns.boxplot(data = nb_genes, x = \"nb_genes\", y='kmeans_nmi_0', ax = ax)\n",
    "means = nb_genes.groupby(['nb_genes'])['kmeans_nmi_0'].mean().values\n",
    "mean_labels = [str(np.round(s, 2)) for s in means]\n",
    "pos = range(len(means))\n",
    "for tick,label in zip(pos,ax.get_xticklabels()):\n",
    "    ax.text(pos[tick], ylim, mean_labels[tick], \n",
    "            horizontalalignment='center', #size='x-small', color='w', weight='semibold'\n",
    "           )\n",
    "plt.ylabel(\"NMI\")\n",
    "plt.xlabel(\"Nb of selected genes in Worm Neuron Cell dataset\")\n",
    "sns.despine()\n",
    "plt.title(\"(b) NMI\")\n",
    "ax = plt.subplot(1,2,2)\n",
    "sns.heatmap(df, annot = True, cmap = \"coolwarm\",fmt='.3g', ax = ax)\n",
    "plt.ylabel(\"\");\n",
    "plt.title(\"(c)\")\n",
    "plt.tight_layout()\n",
    "plt.savefig(f\"../diagrams/{category}_worm.pdf\", bbox_inches='tight')"
   ]
  },
  {
   "cell_type": "code",
   "execution_count": null,
   "metadata": {},
   "outputs": [],
   "source": []
  },
  {
   "cell_type": "code",
   "execution_count": null,
   "metadata": {},
   "outputs": [],
   "source": []
  },
  {
   "cell_type": "markdown",
   "metadata": {},
   "source": [
    "# Overall Comparaision"
   ]
  },
  {
   "cell_type": "code",
   "execution_count": null,
   "metadata": {},
   "outputs": [],
   "source": [
    "plt.figure(figsize=(14, 4))\n",
    "ax = plt.subplot(141)\n",
    "sns.barplot(x = \"method\", y=\"ARI\", data = all_data.sort_values(by=\"order\"),\n",
    "           palette=clrs,\n",
    "           edgecolor='black',\n",
    "    linewidth=1.5)\n",
    "plt.xticks(rotation = 90)\n",
    "plt.title(\"(a) ARI\")\n",
    "plt.xlabel(\"\")\n",
    "sns.despine()\n",
    "\n",
    "ax = plt.subplot(142)\n",
    "sns.barplot(x = \"method\", y=\"NMI\", data = all_data.sort_values(by=\"order\"),\n",
    "           palette=clrs,\n",
    "           edgecolor='black',\n",
    "    linewidth=1.5)\n",
    "plt.xticks(rotation = 90)\n",
    "plt.xlabel(\"\")\n",
    "plt.title(\"(b) NMI\")\n",
    "\n",
    "ax = plt.subplot(143)\n",
    "sns.barplot(x = \"method\", y=\"Silhouette\", data = all_data.sort_values(by=\"order\"),\n",
    "           palette=clrs,\n",
    "           edgecolor='black',\n",
    "    linewidth=1.5)\n",
    "plt.xticks(rotation = 90)\n",
    "plt.title(\"(c) Silhouette\")\n",
    "plt.xlabel(\"\")\n",
    "sns.despine()\n",
    "\n",
    "ax = plt.subplot(144)\n",
    "sns.barplot(x = \"method\", y=\"Calinski\", data = all_data.sort_values(by=\"order\"),\n",
    "           palette=clrs,\n",
    "           edgecolor='black',\n",
    "    linewidth=1.5)\n",
    "plt.xticks(rotation = 90)\n",
    "plt.title(\"(d) Calinski\")\n",
    "plt.xlabel(\"\")\n",
    "sns.despine()\n",
    "plt.tight_layout()\n",
    "plt.savefig(f\"../diagrams/{category}_barplot.pdf\", bbox_inches='tight')"
   ]
  },
  {
   "cell_type": "code",
   "execution_count": null,
   "metadata": {},
   "outputs": [],
   "source": []
  },
  {
   "cell_type": "code",
   "execution_count": null,
   "metadata": {},
   "outputs": [],
   "source": [
    "titles = [\"(a)\", \"(b)\", \"(c)\", \"(d)\"]\n",
    "plt.figure(figsize = (12, 5))\n",
    "for i, dropout in enumerate(sorted(all_data.dropout.unique())):\n",
    "    ax = plt.subplot(2, 2, i+1)\n",
    "    sns.barplot(x = \"nb_clust\", y=\"ARI\", \n",
    "                data = all_data[all_data[\"dropout\"] == dropout].sort_values(by=[\"nb_clust\", \"order\"]),\n",
    "                hue = \"method\",\n",
    "               palette=clrs,\n",
    "               edgecolor='black',\n",
    "        linewidth=1.5)\n",
    "    plt.xticks(rotation = 90)\n",
    "    plt.title(f\"{titles[i]} dropout rate {dropout} %\")\n",
    "    if i ==1:\n",
    "        plt.legend(bbox_to_anchor=(1, 1), loc=2, borderaxespad=0.)\n",
    "    else: \n",
    "        plt.legend([],[], frameon=False)\n",
    "    if i in [2, 3]:\n",
    "        plt.xlabel(\"Nb. of clusters\")\n",
    "    else:\n",
    "        plt.xlabel(\"\")\n",
    "    sns.despine()\n",
    "# plt.tight_layout()\n",
    "plt.savefig(f\"../diagrams/{category}_barplot_by_dropout.pdf\", bbox_inches='tight')"
   ]
  },
  {
   "cell_type": "code",
   "execution_count": null,
   "metadata": {},
   "outputs": [],
   "source": []
  },
  {
   "cell_type": "code",
   "execution_count": null,
   "metadata": {},
   "outputs": [],
   "source": [
    "plt.figure(figsize=(14, 12))\n",
    "letters = [\"(a)\", \"(b)\", \"(c)\", \"(d)\",\n",
    "           \"(e)\", \"(f)\",\"(g)\" ,\"(h)\",\n",
    "           \"(i)\",\"(j)\",\"(k)\", \"(l)\"]\n",
    "titles = [\"balanced data\", \"imbalanced data\", \"real data\"]\n",
    "for i, category in enumerate ([\"balanced_data\", \"imbalanced_data\", \"real_data\"] ):\n",
    "    all_data = pd.read_pickle(f\"../output/pickle_results/{category}/{category}_combined.pkl\")\n",
    "    \n",
    "    ax = plt.subplot(3,4,i*4 +1)\n",
    "    sns.barplot(x = \"method\", y=\"ARI\", data = all_data.sort_values(by=\"order\"),\n",
    "               palette=clrs,\n",
    "               edgecolor='black',\n",
    "        linewidth=1.5)\n",
    "    plt.xticks(rotation = 90)\n",
    "    plt.title(f\"{letters[i*4]} ARI {titles[i]}\")\n",
    "    plt.xlabel(\"\")\n",
    "    sns.despine()\n",
    "\n",
    "    ax = plt.subplot(3,4,i*4 +2)\n",
    "    sns.barplot(x = \"method\", y=\"NMI\", data = all_data.sort_values(by=\"order\"),\n",
    "               palette=clrs,\n",
    "               edgecolor='black',\n",
    "        linewidth=1.5)\n",
    "    plt.xticks(rotation = 90)\n",
    "    plt.xlabel(\"\")\n",
    "    plt.title(f\"{letters[i*4 +1]} NMI {titles[i]}\")\n",
    "\n",
    "    ax = plt.subplot(3,4,i*4 +3)\n",
    "    sns.barplot(x = \"method\", y=\"Silhouette\", data = all_data.sort_values(by=\"order\"),\n",
    "               palette=clrs,\n",
    "               edgecolor='black',\n",
    "        linewidth=1.5)\n",
    "    plt.xticks(rotation = 90)\n",
    "    plt.title(f\"{letters[i*4 +2]} Silhouette {titles[i]}\")\n",
    "    plt.xlabel(\"\")\n",
    "    sns.despine()\n",
    "\n",
    "    ax = plt.subplot(3,4,i*4 +4)\n",
    "    sns.barplot(x = \"method\", y=\"Calinski\", data = all_data.sort_values(by=\"order\"),\n",
    "               palette=clrs,\n",
    "               edgecolor='black',\n",
    "        linewidth=1.5)\n",
    "    plt.xticks(rotation = 90)\n",
    "    plt.title(f\"{letters[i*4 +3]}  Calinski {titles[i]}\")\n",
    "    plt.xlabel(\"\")\n",
    "    sns.despine()\n",
    "plt.tight_layout()\n",
    "plt.savefig(f\"../diagrams/all_barplot.pdf\", bbox_inches='tight')"
   ]
  },
  {
   "cell_type": "code",
   "execution_count": null,
   "metadata": {},
   "outputs": [],
   "source": []
  },
  {
   "cell_type": "code",
   "execution_count": null,
   "metadata": {},
   "outputs": [],
   "source": [
    "df.groupby(\"dataset\").mean()"
   ]
  },
  {
   "cell_type": "markdown",
   "metadata": {},
   "source": [
    "# Importance of input size"
   ]
  },
  {
   "cell_type": "code",
   "execution_count": null,
   "metadata": {},
   "outputs": [],
   "source": [
    "df = pd.DataFrame(\n",
    "    columns=[\"dataset\", \"perc0\", \"nb_genes\", \"exp\", \"ari\", \"run\"])\n",
    "print(df.shape)\n",
    "for dataset in files:\n",
    "\n",
    "    print(f\">>>>> Data {dataset}\")\n",
    "\n",
    "    data_mat = h5py.File(f\"{path}real_data/{dataset}.h5\", \"r\")\n",
    "    for run in range(2):\n",
    "        torch.manual_seed(run)\n",
    "        torch.cuda.manual_seed_all(run)\n",
    "        np.random.seed(run)\n",
    "        random.seed(run)\n",
    "        torch.backends.cudnn.deterministic = True\n",
    "        torch.backends.cudnn.benchmark = False\n",
    "        for nb_genes in [100, 200, 500, 1000, 1500, 2000, 5000, 8000]:\n",
    "\n",
    "            X = np.array(data_mat['X'])\n",
    "            Y = np.array(data_mat['Y'])\n",
    "            perc_0 = np.where(X == 0)[0].shape[0] / (X.shape[0] * X.shape[1])\n",
    "            print(f\"Perc 0 {perc_0}\")\n",
    "            cluster_number = np.unique(Y).shape[0]\n",
    "\n",
    "            X = train.preprocess(X, nb_genes=nb_genes)\n",
    "            nb_zeros = int(0.8 * nb_genes)\n",
    "            dresults = train.train(\n",
    "                X,\n",
    "                cluster_number,\n",
    "                dataset,\n",
    "                Y,\n",
    "                n_ensemble=1,\n",
    "                epochs=100,\n",
    "                nb_zeros=nb_zeros,\n",
    "                save_to=f\"{path}output/real_data/inputs/{dataset}_{nb_genes}/\")\n",
    "\n",
    "            #         df.loc[df.shape[0]] = [\n",
    "            #                 dataset, perc_0, nb_genes, 'kmeans_representation_0',dresults['kmeans_representation_0']\n",
    "            #             ]\n",
    "            df.loc[df.shape[0]] = [\n",
    "                dataset, perc_0, nb_genes, 'leiden_representation_0',\n",
    "                dresults['leiden_representation_0'], run]\n",
    "\n",
    "#             pxt = PCA(2).fit_transform(X)\n",
    "#             dresults[\"original\"] = utils.evaluate(X, Y, cluster_number)[1]\n",
    "#             dresults[\"pca\"] = utils.evaluate(pxt, Y, cluster_number)[1]\n",
    "            print(dresults)\n",
    "    df.to_pickle(f\"{path}output/pickle_results/real_data_input_size.pkl\")"
   ]
  },
  {
   "cell_type": "code",
   "execution_count": null,
   "metadata": {},
   "outputs": [],
   "source": [
    "df = pd.read_pickle(f\"{path}output/pickle_results/real_data_input_size.pkl\")"
   ]
  },
  {
   "cell_type": "code",
   "execution_count": null,
   "metadata": {},
   "outputs": [],
   "source": [
    "df.groupby([\"nb_genes\"]).mean()"
   ]
  },
  {
   "cell_type": "code",
   "execution_count": null,
   "metadata": {},
   "outputs": [],
   "source": [
    "dataset_names = {\n",
    "    '10X_PBMC': '10X PBMC',\n",
    "    '10X_PBMC_select_2100': '10X PBMC (2100)',\n",
    "    'mouse_ES_cell': 'Mouse ES\\nCell',\n",
    "    'mouse_ES_cell_select_2100': 'Mouse ES\\nCell (2100)',\n",
    "    'worm_neuron_cell_select_2100': 'Worm Neuron\\nCell (2100)',\n",
    "    'worm_neuron_cell': 'Worm Neuron\\nCell',\n",
    "    'mouse_bladder_cell': 'Mouse Bladder\\nCell',\n",
    "    'mouse_bladder_cell_select_2100': 'Mouse Bladder\\n Cell (2100)'\n",
    "}\n",
    "\n",
    "df[\"dataset\"] = df[\"dataset\"].apply(lambda x: dataset_names[x])\n",
    "\n",
    "df = df.rename(columns = {\"nb_genes\": \"Nb input genes\"})"
   ]
  },
  {
   "cell_type": "code",
   "execution_count": null,
   "metadata": {},
   "outputs": [],
   "source": [
    "df[\"dataset\"].unique()\n"
   ]
  },
  {
   "cell_type": "code",
   "execution_count": null,
   "metadata": {},
   "outputs": [],
   "source": [
    "import seaborn as sns\n",
    "datasets = ['10X PBMC',  'Mouse ES\\nCell','Worm Neuron\\nCell', 'Mouse Bladder\\nCell']\n",
    "plt.figure(figsize=(10, 3.3))\n",
    "ax = plt.subplot(111)\n",
    "sns.barplot(\n",
    "    hue=\"Nb input genes\",\n",
    "    y=\"ari\",\n",
    "    x=\"dataset\",\n",
    "    data=df[df[\"dataset\"].isin(datasets)],\n",
    "    ax=ax,\n",
    "    edgecolor='black',\n",
    "    linewidth=1.5,\n",
    ")\n",
    "plt.ylabel(\"ARI\")\n",
    "plt.xlabel(\"\")\n",
    "plt.legend(title= \"Nb input genes\",bbox_to_anchor=(1, 1))\n",
    "sns.despine()\n",
    "plt.tight_layout()\n",
    "\n",
    "plt.savefig(f\"{path}diagrams/real_input_size.pdf\", bbox_inches='tight')"
   ]
  },
  {
   "cell_type": "code",
   "execution_count": null,
   "metadata": {},
   "outputs": [],
   "source": [
    "datasets = ['10X PBMC (2100)',\n",
    "       'Mouse ES\\nCell (2100)', 'Worm Neuron\\nCell (2100)',\n",
    "       'Mouse Bladder\\n Cell (2100)']\n",
    "plt.figure(figsize=(10, 3.3))\n",
    "ax = plt.subplot(111)\n",
    "sns.barplot(\n",
    "    hue=\"Nb input genes\",\n",
    "    y=\"ari\",\n",
    "    x=\"dataset\",\n",
    "    data=df[df[\"dataset\"].isin(datasets)],\n",
    "    ax=ax,\n",
    "    edgecolor='black',\n",
    "    linewidth=1.5,\n",
    ")\n",
    "plt.ylabel(\"ARI\")\n",
    "plt.xlabel(\"\")\n",
    "plt.legend(title= \"Nb input genes\",bbox_to_anchor=(1, 1))\n",
    "sns.despine()\n",
    "plt.tight_layout()\n",
    "\n",
    "plt.savefig(f\"{path}diagrams/real_input_size_2100.pdf\", bbox_inches='tight')"
   ]
  },
  {
   "cell_type": "code",
   "execution_count": null,
   "metadata": {},
   "outputs": [],
   "source": []
  },
  {
   "cell_type": "markdown",
   "metadata": {},
   "source": [
    "# Importance of the number of epochs"
   ]
  },
  {
   "cell_type": "code",
   "execution_count": null,
   "metadata": {},
   "outputs": [],
   "source": [
    "df = pd.DataFrame(\n",
    "    columns=[\"dataset\", \"perc0\", \"nb_epochs\", \"exp\", \"ari\", \"run\"])\n",
    "print(df.shape)\n",
    "for dataset in files:\n",
    "\n",
    "    print(f\">>>>> Data {dataset}\")\n",
    "\n",
    "    data_mat = h5py.File(f\"{path}real_data/{dataset}.h5\", \"r\")\n",
    "    nb_genes = 1500\n",
    "    for epochs in [5, 50, 100, 300]:\n",
    "\n",
    "        X = np.array(data_mat['X'])\n",
    "        Y = np.array(data_mat['Y'])\n",
    "        perc_0 = np.where(X == 0)[0].shape[0] / (X.shape[0] * X.shape[1])\n",
    "        print(f\"Perc 0 {perc_0}\")\n",
    "        cluster_number = np.unique(Y).shape[0]\n",
    "\n",
    "        X = train.preprocess(X, nb_genes=nb_genes)\n",
    "        nb_zeros = int(0.8 * nb_genes)\n",
    "        for run in range(2):\n",
    "            torch.manual_seed(run)\n",
    "            torch.cuda.manual_seed_all(run)\n",
    "            np.random.seed(run)\n",
    "            random.seed(run)\n",
    "            torch.backends.cudnn.deterministic = True\n",
    "            torch.backends.cudnn.benchmark = False\n",
    "\n",
    "            dresults = train.train(\n",
    "                X,\n",
    "                cluster_number,\n",
    "                dataset,\n",
    "                Y,\n",
    "                n_ensemble=1,\n",
    "                epochs=epochs,\n",
    "                nb_zeros=nb_zeros,\n",
    "                save_to=f\"{path}output/real_data/epochs/{dataset}_{epochs}/\")\n",
    "\n",
    "            df.loc[df.shape[0]] = [\n",
    "                dataset, perc_0, epochs, 'kmeans_representation_0',\n",
    "                dresults['kmeans_representation_0'], run\n",
    "            ]\n",
    "            df.loc[df.shape[0]] = [\n",
    "                dataset, perc_0, epochs, 'leiden_representation_0',\n",
    "                dresults['leiden_representation_0'], run\n",
    "            ]\n",
    "\n",
    "            print(dresults)\n",
    "            df.to_pickle(f\"{path}output/pickle_results/real_data_epochs.pkl\")"
   ]
  },
  {
   "cell_type": "code",
   "execution_count": null,
   "metadata": {},
   "outputs": [],
   "source": [
    "df = pd.read_pickle(f\"{path}output/pickle_results/real_data_epochs.pkl\")"
   ]
  },
  {
   "cell_type": "code",
   "execution_count": null,
   "metadata": {},
   "outputs": [],
   "source": [
    "dataset_names = {\n",
    "    '10X_PBMC': '10X PBMC',\n",
    "    '10X_PBMC_select_2100': '10X PBMC (2100)',\n",
    "    'mouse_ES_cell': 'Mouse ES\\nCell',\n",
    "    'mouse_ES_cell_select_2100': 'Mouse ES\\nCell (2100)',\n",
    "    'worm_neuron_cell_select_2100': 'Worm Neuron\\nCell (2100)',\n",
    "    'worm_neuron_cell': 'Worm Neuron\\nCell',\n",
    "    'mouse_bladder_cell': 'Mouse Bladder\\nCell',\n",
    "    'mouse_bladder_cell_select_2100': 'Mouse Bladder\\n Cell (2100)'\n",
    "}\n",
    "\n",
    "df[\"dataset\"] = df[\"dataset\"].apply(lambda x: dataset_names[x])\n",
    "\n",
    "df = df.rename(columns = {\"nb_epochs\": \"Nb epochs\"})"
   ]
  },
  {
   "cell_type": "code",
   "execution_count": null,
   "metadata": {},
   "outputs": [],
   "source": [
    "import seaborn as sns\n",
    "datasets = ['10X PBMC',  'Mouse ES\\nCell','Worm Neuron\\nCell', 'Mouse Bladder\\nCell']\n",
    "plt.figure(figsize=(7, 3))\n",
    "ax = plt.subplot(111)\n",
    "sns.barplot(\n",
    "    hue=\"Nb epochs\",\n",
    "    y=\"ari\",\n",
    "    x=\"dataset\",\n",
    "    data=df[df[\"dataset\"].isin(datasets)],\n",
    "    ax=ax,\n",
    "    edgecolor='black',\n",
    "    linewidth=1.5,\n",
    ")\n",
    "plt.ylabel(\"ARI\")\n",
    "plt.xlabel(\"\")\n",
    "plt.legend(title =\"Number of epochs\",bbox_to_anchor=(1, 1))\n",
    "sns.despine()\n",
    "plt.tight_layout()\n",
    "\n",
    "plt.savefig(f\"{path}diagrams/real_nb_epochs.pdf\", bbox_inches='tight')"
   ]
  },
  {
   "cell_type": "code",
   "execution_count": null,
   "metadata": {},
   "outputs": [],
   "source": []
  },
  {
   "cell_type": "code",
   "execution_count": null,
   "metadata": {},
   "outputs": [],
   "source": [
    "# category = \"imbalanced_data\"\n",
    "category = \"balanced_data\"\n",
    "# category = \"real_data\"\n",
    "all_data = pd.read_pickle(f\"../output/pickle_results/{category}/{category}_combined.pkl\")"
   ]
  },
  {
   "cell_type": "code",
   "execution_count": null,
   "metadata": {},
   "outputs": [],
   "source": []
  },
  {
   "cell_type": "code",
   "execution_count": null,
   "metadata": {},
   "outputs": [],
   "source": []
  },
  {
   "cell_type": "code",
   "execution_count": null,
   "metadata": {},
   "outputs": [],
   "source": []
  }
 ],
 "metadata": {
  "kernelspec": {
   "display_name": "Python 3",
   "language": "python",
   "name": "python3"
  },
  "language_info": {
   "codemirror_mode": {
    "name": "ipython",
    "version": 3
   },
   "file_extension": ".py",
   "mimetype": "text/x-python",
   "name": "python",
   "nbconvert_exporter": "python",
   "pygments_lexer": "ipython3",
   "version": "3.7.4"
  }
 },
 "nbformat": 4,
 "nbformat_minor": 4
}
