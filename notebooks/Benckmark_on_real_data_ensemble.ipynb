{
 "cells": [
  {
   "cell_type": "markdown",
   "metadata": {},
   "source": [
    "Original implementation of Contrastive-sc method\n",
    "(https://github.com/ciortanmadalina/contrastive-sc)"
   ]
  },
  {
   "cell_type": "code",
   "execution_count": 1,
   "metadata": {},
   "outputs": [
    {
     "name": "stderr",
     "output_type": "stream",
     "text": [
      "/opt/conda/lib/python3.7/site-packages/scanpy/api/__init__.py:7: FutureWarning: \n",
      "\n",
      "In a future version of Scanpy, `scanpy.api` will be removed.\n",
      "Simply use `import scanpy as sc` and `import scanpy.external as sce` instead.\n",
      "\n",
      "  FutureWarning,\n"
     ]
    }
   ],
   "source": [
    "import sys\n",
    "sys.path.append(\"..\")\n",
    "import argparse\n",
    "from sklearn.metrics import adjusted_rand_score, normalized_mutual_info_score\n",
    "from sklearn.cluster import KMeans\n",
    "from sklearn import metrics\n",
    "\n",
    "import torch\n",
    "import torch.nn as nn\n",
    "import copy\n",
    "from tqdm.notebook import tqdm\n",
    "import models\n",
    "import numpy as np\n",
    "import pandas as pd\n",
    "from sklearn.decomposition import PCA\n",
    "import matplotlib.pyplot as plt\n",
    "import st_loss\n",
    "\n",
    "import h5py\n",
    "import scipy as sp\n",
    "import scanpy.api as sc\n",
    "from collections import Counter\n",
    "import random\n",
    "import utils\n",
    "import loop\n",
    "import pickle\n",
    "\n",
    "import train\n",
    "import os\n",
    "import glob2\n",
    "plt.ion()\n",
    "plt.show()\n",
    "%load_ext autoreload\n",
    "%autoreload 2\n",
    "\n",
    "import warnings\n",
    "warnings.filterwarnings(\"ignore\", category=FutureWarning)"
   ]
  },
  {
   "cell_type": "code",
   "execution_count": 2,
   "metadata": {},
   "outputs": [
    {
     "data": {
      "text/plain": [
       "['Quake_Smart-seq2_Trachea',\n",
       " 'Quake_Smart-seq2_Diaphragm',\n",
       " 'Quake_10x_Spleen',\n",
       " 'Young',\n",
       " 'mouse_ES_cell',\n",
       " 'Adam',\n",
       " 'Quake_10x_Bladder',\n",
       " 'Quake_Smart-seq2_Lung',\n",
       " 'Quake_10x_Limb_Muscle',\n",
       " 'worm_neuron_cell',\n",
       " 'mouse_bladder_cell',\n",
       " 'Romanov',\n",
       " 'Quake_Smart-seq2_Limb_Muscle',\n",
       " 'Muraro',\n",
       " '10X_PBMC']"
      ]
     },
     "execution_count": 2,
     "metadata": {},
     "output_type": "execute_result"
    }
   ],
   "source": [
    "path = \"../\"\n",
    "category = \"real_data\"\n",
    "files = glob2.glob(f'{path}{category}/*.h5')\n",
    "files = [f[len(f\"'{path}{category}\"):-3] for f in files]\n",
    "files"
   ]
  },
  {
   "cell_type": "code",
   "execution_count": 3,
   "metadata": {},
   "outputs": [],
   "source": [
    "sczi = pd.read_pickle(f\"../output/pickle_results/real_data/real_data_sczi.pkl\")"
   ]
  },
  {
   "cell_type": "code",
   "execution_count": 7,
   "metadata": {},
   "outputs": [
    {
     "name": "stdout",
     "output_type": "stream",
     "text": [
      ">>>>> Data Quake_Smart-seq2_Trachea\n",
      "SCZI  0.8291128219663276\n",
      "(1350, 23341) (1350, 23341) keeping 1500 genes\n",
      "# 0.07, 0.9, 1e-05, [50] 0.54835008448618 0.17090161673125115 0.5428662234871678 0.2004201490182582\n",
      "# 0.07, 0.9, 1e-05, [50] 0.5507515869467061 0.19198410384907214 0.5467125613297013 0.21426595876201435\n",
      "# 0.07, 0.9, 1e-05, [50] 0.5418794843783259 0.19847600305623828 0.521388823553408 0.1825001458565841\n",
      ">>>>> Data Quake_Smart-seq2_Diaphragm\n",
      "SCZI  0.9596701189611787\n",
      "(870, 23341) (870, 23341) keeping 1500 genes\n",
      "# 0.07, 0.9, 1e-05, [50] 0.9738257099370664 0.97088397666012 0.9789169018925963 0.9708228775043475\n",
      "# 0.07, 0.9, 1e-05, [50] 0.9740630594985444 0.9653284144967726 0.9762214537466969 0.9473610337907366\n",
      "# 0.07, 0.9, 1e-05, [50] 0.9738257099370664 0.9551141220558029 0.9729139538077702 0.9607506053165014\n",
      ">>>>> Data Quake_10x_Spleen\n",
      "SCZI  0.909534824400645\n",
      "(9552, 23341) (9552, 23341) keeping 1500 genes\n",
      "# 0.07, 0.9, 1e-05, [50] 0.5051265143464405 0.1550374405451954 0.4916279336308212 0.1786801002099776\n",
      "# 0.07, 0.9, 1e-05, [50] 0.5010708904997084 0.15259996150178778 0.4982352946815357 0.17345357955563617\n",
      "# 0.07, 0.9, 1e-05, [50] 0.5056112109142501 0.14640656424065981 0.5014965200896595 0.18446513580255897\n",
      ">>>>> Data Young\n",
      "SCZI  0.6629811886776039\n",
      "(5685, 33658) (5685, 33658) keeping 1500 genes\n",
      "# 0.07, 0.9, 1e-05, [50] 0.7316411808603441 0.5883739864445768 0.7209862398282422 0.6210022202175478\n",
      "# 0.07, 0.9, 1e-05, [50] 0.72954126898732 0.5915841084834805 0.7245911635556586 0.6077828495016988\n",
      "# 0.07, 0.9, 1e-05, [50] 0.7313470425959027 0.6157560645824466 0.7250678003251153 0.6249616563945826\n",
      ">>>>> Data mouse_ES_cell\n",
      "SCZI  0.800376096099337\n",
      "(2717, 24175) (2717, 24175) keeping 1500 genes\n",
      "# 0.07, 0.9, 1e-05, [50] 0.7015341520233526 0.6401232292118095 0.7027406365453511 0.7796742207258242\n",
      "# 0.07, 0.9, 1e-05, [50] 0.6982808996815034 0.647337528350407 0.7008644420141485 0.6836055573289981\n",
      "# 0.07, 0.9, 1e-05, [50] 0.6994833651377951 0.6312016319827123 0.6989136834381658 0.6378433192616214\n",
      ">>>>> Data Adam\n",
      "SCZI  0.8634561030635544\n",
      "(3660, 23797) (3660, 23797) keeping 1500 genes\n",
      "# 0.07, 0.9, 1e-05, [50] 0.6711003316298035 0.5679809178610022 0.6748467713171835 0.5879388246924967\n",
      "# 0.07, 0.9, 1e-05, [50] 0.6623938045009189 0.5964892111144947 0.669331345047286 0.5737705291224892\n",
      "# 0.07, 0.9, 1e-05, [50] 0.665604316377531 0.4979322988484298 0.6710769358606097 0.5658951102369507\n",
      ">>>>> Data Quake_10x_Bladder\n",
      "SCZI  0.983095549108186\n",
      "(2500, 23341) (2500, 23341) keeping 1500 genes\n",
      "# 0.07, 0.9, 1e-05, [50] 0.7546853299837941 0.21198982374543798 0.7546853299837941 0.25411400664827705\n",
      "# 0.07, 0.9, 1e-05, [50] 0.754884905234507 0.2164990368826376 0.7535748191976445 0.25490004396145993\n",
      "# 0.07, 0.9, 1e-05, [50] 0.7539098290459809 0.23639239652411803 0.7537968058470293 0.23894766720694388\n",
      ">>>>> Data Quake_Smart-seq2_Lung\n",
      "SCZI  0.7134055445020913\n",
      "(1676, 23341) (1676, 23341) keeping 1500 genes\n",
      "# 0.07, 0.9, 1e-05, [50] 0.48038809759104717 0.47655530206798963 0.49662443014234603 0.47837687175684723\n",
      "# 0.07, 0.9, 1e-05, [50] 0.4815293928360905 0.4797567759064367 0.49619202814392094 0.47651558142181794\n",
      "# 0.07, 0.9, 1e-05, [50] 0.4834348446061007 0.4718437854329561 0.4764530377364886 0.45398020325802263\n",
      ">>>>> Data Quake_10x_Limb_Muscle\n",
      "SCZI  0.9610559204789085\n",
      "(3909, 23341) (3909, 23341) keeping 1500 genes\n",
      "# 0.07, 0.9, 1e-05, [50] 0.8053024538813579 0.4256917476241794 0.9888510694948266 0.4193024106872101\n",
      "# 0.07, 0.9, 1e-05, [50] 0.9880170627566973 0.4267824917199993 0.9860339146053445 0.43748164564879455\n",
      "# 0.07, 0.9, 1e-05, [50] 0.8057127357185739 0.415429549792024 0.9874463628731334 0.4287931747759179\n",
      ">>>>> Data worm_neuron_cell\n",
      "SCZI  0.05077670288621814\n",
      "(4186, 13488) (4186, 13488) keeping 1500 genes\n",
      "# 0.07, 0.9, 1e-05, [50] 0.44204846525621166 0.3194046359653861 0.4466495753802261 0.3684551381970711\n"
     ]
    },
    {
     "ename": "KeyboardInterrupt",
     "evalue": "",
     "output_type": "error",
     "traceback": [
      "\u001b[0;31m---------------------------------------------------------------------------\u001b[0m",
      "\u001b[0;31mKeyboardInterrupt\u001b[0m                         Traceback (most recent call last)",
      "\u001b[0;32m<ipython-input-7-1d57b734aaa4>\u001b[0m in \u001b[0;36m<module>\u001b[0;34m\u001b[0m\n\u001b[1;32m     40\u001b[0m                              \u001b[0mlayers\u001b[0m\u001b[0;34m=\u001b[0m\u001b[0mlayers\u001b[0m\u001b[0;34m,\u001b[0m\u001b[0;34m\u001b[0m\u001b[0;34m\u001b[0m\u001b[0m\n\u001b[1;32m     41\u001b[0m                              \u001b[0msave_to\u001b[0m\u001b[0;34m=\u001b[0m\u001b[0;34mf\"{path}output/{category}/{run}/\"\u001b[0m\u001b[0;34m,\u001b[0m\u001b[0;34m\u001b[0m\u001b[0;34m\u001b[0m\u001b[0m\n\u001b[0;32m---> 42\u001b[0;31m                              save_pred = True)\n\u001b[0m\u001b[1;32m     43\u001b[0m         \u001b[0mdresults\u001b[0m\u001b[0;34m[\u001b[0m\u001b[0;34m\"temperature\"\u001b[0m\u001b[0;34m]\u001b[0m \u001b[0;34m=\u001b[0m \u001b[0mtemperature\u001b[0m\u001b[0;34m\u001b[0m\u001b[0;34m\u001b[0m\u001b[0m\n\u001b[1;32m     44\u001b[0m         \u001b[0mdresults\u001b[0m\u001b[0;34m[\u001b[0m\u001b[0;34m\"dropout\"\u001b[0m\u001b[0;34m]\u001b[0m \u001b[0;34m=\u001b[0m \u001b[0mdropout\u001b[0m\u001b[0;34m\u001b[0m\u001b[0;34m\u001b[0m\u001b[0m\n",
      "\u001b[0;32m/workspace/notebooks/deep_clustering/contrastive-sc/train.py\u001b[0m in \u001b[0;36mrun\u001b[0;34m(X, cluster_number, dataset, Y, nb_epochs, lr, temperature, dropout, evaluate, n_ensemble, layers, save_to, save_pred, noise)\u001b[0m\n\u001b[1;32m    276\u001b[0m         \u001b[0membeddings\u001b[0m\u001b[0;34m.\u001b[0m\u001b[0mappend\u001b[0m\u001b[0;34m(\u001b[0m\u001b[0mf\u001b[0m\u001b[0;34m)\u001b[0m\u001b[0;34m\u001b[0m\u001b[0;34m\u001b[0m\u001b[0m\n\u001b[1;32m    277\u001b[0m     \u001b[0;32mif\u001b[0m \u001b[0mY\u001b[0m \u001b[0;32mis\u001b[0m \u001b[0;32mnot\u001b[0m \u001b[0;32mNone\u001b[0m\u001b[0;34m:\u001b[0m\u001b[0;34m\u001b[0m\u001b[0;34m\u001b[0m\u001b[0m\n\u001b[0;32m--> 278\u001b[0;31m         \u001b[0mres_eval\u001b[0m \u001b[0;34m=\u001b[0m \u001b[0mtrain\u001b[0m\u001b[0;34m.\u001b[0m\u001b[0mevaluate\u001b[0m\u001b[0;34m(\u001b[0m\u001b[0membeddings\u001b[0m\u001b[0;34m,\u001b[0m \u001b[0mcluster_number\u001b[0m\u001b[0;34m,\u001b[0m \u001b[0mY\u001b[0m\u001b[0;34m)\u001b[0m\u001b[0;34m\u001b[0m\u001b[0;34m\u001b[0m\u001b[0m\n\u001b[0m\u001b[1;32m    279\u001b[0m     \u001b[0mresults\u001b[0m \u001b[0;34m=\u001b[0m \u001b[0;34m{\u001b[0m\u001b[0;34m**\u001b[0m\u001b[0mresults\u001b[0m\u001b[0;34m,\u001b[0m \u001b[0;34m**\u001b[0m\u001b[0mres_eval\u001b[0m\u001b[0;34m}\u001b[0m\u001b[0;34m\u001b[0m\u001b[0;34m\u001b[0m\u001b[0m\n\u001b[1;32m    280\u001b[0m     \u001b[0mresults\u001b[0m\u001b[0;34m[\u001b[0m\u001b[0;34m\"dataset\"\u001b[0m\u001b[0;34m]\u001b[0m \u001b[0;34m=\u001b[0m \u001b[0mdataset\u001b[0m\u001b[0;34m\u001b[0m\u001b[0;34m\u001b[0m\u001b[0m\n",
      "\u001b[0;32m/workspace/notebooks/deep_clustering/contrastive-sc/train.py\u001b[0m in \u001b[0;36mevaluate\u001b[0;34m(embeddings, cluster_number, Y, save_pred)\u001b[0m\n\u001b[1;32m    111\u001b[0m                         \u001b[0minit\u001b[0m\u001b[0;34m=\u001b[0m\u001b[0;34m\"k-means++\"\u001b[0m\u001b[0;34m,\u001b[0m\u001b[0;34m\u001b[0m\u001b[0;34m\u001b[0m\u001b[0m\n\u001b[1;32m    112\u001b[0m                         random_state=0)\n\u001b[0;32m--> 113\u001b[0;31m         \u001b[0mpred\u001b[0m \u001b[0;34m=\u001b[0m \u001b[0mkmeans\u001b[0m\u001b[0;34m.\u001b[0m\u001b[0mfit_predict\u001b[0m\u001b[0;34m(\u001b[0m\u001b[0membeddings\u001b[0m\u001b[0;34m[\u001b[0m\u001b[0mi\u001b[0m\u001b[0;34m]\u001b[0m\u001b[0;34m)\u001b[0m\u001b[0;34m\u001b[0m\u001b[0;34m\u001b[0m\u001b[0m\n\u001b[0m\u001b[1;32m    114\u001b[0m         \u001b[0mresult\u001b[0m\u001b[0;34m[\u001b[0m\u001b[0;34mf\"kmeans_ari_{i}\"\u001b[0m\u001b[0;34m]\u001b[0m \u001b[0;34m=\u001b[0m \u001b[0madjusted_rand_score\u001b[0m\u001b[0;34m(\u001b[0m\u001b[0mY\u001b[0m\u001b[0;34m,\u001b[0m \u001b[0mpred\u001b[0m\u001b[0;34m)\u001b[0m\u001b[0;34m\u001b[0m\u001b[0;34m\u001b[0m\u001b[0m\n\u001b[1;32m    115\u001b[0m         \u001b[0mresult\u001b[0m\u001b[0;34m[\u001b[0m\u001b[0;34mf\"kmeans_nmi_{i}\"\u001b[0m\u001b[0;34m]\u001b[0m \u001b[0;34m=\u001b[0m \u001b[0mnormalized_mutual_info_score\u001b[0m\u001b[0;34m(\u001b[0m\u001b[0mY\u001b[0m\u001b[0;34m,\u001b[0m \u001b[0mpred\u001b[0m\u001b[0;34m)\u001b[0m\u001b[0;34m\u001b[0m\u001b[0;34m\u001b[0m\u001b[0m\n",
      "\u001b[0;32m/opt/conda/lib/python3.7/site-packages/sklearn/cluster/_kmeans.py\u001b[0m in \u001b[0;36mfit_predict\u001b[0;34m(self, X, y, sample_weight)\u001b[0m\n\u001b[1;32m   1006\u001b[0m             \u001b[0mIndex\u001b[0m \u001b[0mof\u001b[0m \u001b[0mthe\u001b[0m \u001b[0mcluster\u001b[0m \u001b[0meach\u001b[0m \u001b[0msample\u001b[0m \u001b[0mbelongs\u001b[0m \u001b[0mto\u001b[0m\u001b[0;34m.\u001b[0m\u001b[0;34m\u001b[0m\u001b[0;34m\u001b[0m\u001b[0m\n\u001b[1;32m   1007\u001b[0m         \"\"\"\n\u001b[0;32m-> 1008\u001b[0;31m         \u001b[0;32mreturn\u001b[0m \u001b[0mself\u001b[0m\u001b[0;34m.\u001b[0m\u001b[0mfit\u001b[0m\u001b[0;34m(\u001b[0m\u001b[0mX\u001b[0m\u001b[0;34m,\u001b[0m \u001b[0msample_weight\u001b[0m\u001b[0;34m=\u001b[0m\u001b[0msample_weight\u001b[0m\u001b[0;34m)\u001b[0m\u001b[0;34m.\u001b[0m\u001b[0mlabels_\u001b[0m\u001b[0;34m\u001b[0m\u001b[0;34m\u001b[0m\u001b[0m\n\u001b[0m\u001b[1;32m   1009\u001b[0m \u001b[0;34m\u001b[0m\u001b[0m\n\u001b[1;32m   1010\u001b[0m     \u001b[0;32mdef\u001b[0m \u001b[0mfit_transform\u001b[0m\u001b[0;34m(\u001b[0m\u001b[0mself\u001b[0m\u001b[0;34m,\u001b[0m \u001b[0mX\u001b[0m\u001b[0;34m,\u001b[0m \u001b[0my\u001b[0m\u001b[0;34m=\u001b[0m\u001b[0;32mNone\u001b[0m\u001b[0;34m,\u001b[0m \u001b[0msample_weight\u001b[0m\u001b[0;34m=\u001b[0m\u001b[0;32mNone\u001b[0m\u001b[0;34m)\u001b[0m\u001b[0;34m:\u001b[0m\u001b[0;34m\u001b[0m\u001b[0;34m\u001b[0m\u001b[0m\n",
      "\u001b[0;32m/opt/conda/lib/python3.7/site-packages/sklearn/cluster/_kmeans.py\u001b[0m in \u001b[0;36mfit\u001b[0;34m(self, X, y, sample_weight)\u001b[0m\n\u001b[1;32m    935\u001b[0m                     \u001b[0mmax_iter\u001b[0m\u001b[0;34m=\u001b[0m\u001b[0mself\u001b[0m\u001b[0;34m.\u001b[0m\u001b[0mmax_iter\u001b[0m\u001b[0;34m,\u001b[0m \u001b[0minit\u001b[0m\u001b[0;34m=\u001b[0m\u001b[0minit\u001b[0m\u001b[0;34m,\u001b[0m \u001b[0mverbose\u001b[0m\u001b[0;34m=\u001b[0m\u001b[0mself\u001b[0m\u001b[0;34m.\u001b[0m\u001b[0mverbose\u001b[0m\u001b[0;34m,\u001b[0m\u001b[0;34m\u001b[0m\u001b[0;34m\u001b[0m\u001b[0m\n\u001b[1;32m    936\u001b[0m                     \u001b[0mprecompute_distances\u001b[0m\u001b[0;34m=\u001b[0m\u001b[0mprecompute_distances\u001b[0m\u001b[0;34m,\u001b[0m \u001b[0mtol\u001b[0m\u001b[0;34m=\u001b[0m\u001b[0mtol\u001b[0m\u001b[0;34m,\u001b[0m\u001b[0;34m\u001b[0m\u001b[0;34m\u001b[0m\u001b[0m\n\u001b[0;32m--> 937\u001b[0;31m                     x_squared_norms=x_squared_norms, random_state=seed)\n\u001b[0m\u001b[1;32m    938\u001b[0m                 \u001b[0;31m# determine if these results are the best so far\u001b[0m\u001b[0;34m\u001b[0m\u001b[0;34m\u001b[0m\u001b[0;34m\u001b[0m\u001b[0m\n\u001b[1;32m    939\u001b[0m                 \u001b[0;32mif\u001b[0m \u001b[0mbest_inertia\u001b[0m \u001b[0;32mis\u001b[0m \u001b[0;32mNone\u001b[0m \u001b[0;32mor\u001b[0m \u001b[0minertia\u001b[0m \u001b[0;34m<\u001b[0m \u001b[0mbest_inertia\u001b[0m\u001b[0;34m:\u001b[0m\u001b[0;34m\u001b[0m\u001b[0;34m\u001b[0m\u001b[0m\n",
      "\u001b[0;32m/opt/conda/lib/python3.7/site-packages/sklearn/cluster/_kmeans.py\u001b[0m in \u001b[0;36m_kmeans_single_elkan\u001b[0;34m(X, sample_weight, n_clusters, max_iter, init, verbose, x_squared_norms, random_state, tol, precompute_distances)\u001b[0m\n\u001b[1;32m    320\u001b[0m     centers, labels, n_iter = k_means_elkan(X, checked_sample_weight,\n\u001b[1;32m    321\u001b[0m                                             \u001b[0mn_clusters\u001b[0m\u001b[0;34m,\u001b[0m \u001b[0mcenters\u001b[0m\u001b[0;34m,\u001b[0m \u001b[0mtol\u001b[0m\u001b[0;34m=\u001b[0m\u001b[0mtol\u001b[0m\u001b[0;34m,\u001b[0m\u001b[0;34m\u001b[0m\u001b[0;34m\u001b[0m\u001b[0m\n\u001b[0;32m--> 322\u001b[0;31m                                             max_iter=max_iter, verbose=verbose)\n\u001b[0m\u001b[1;32m    323\u001b[0m     \u001b[0;32mif\u001b[0m \u001b[0msample_weight\u001b[0m \u001b[0;32mis\u001b[0m \u001b[0;32mNone\u001b[0m\u001b[0;34m:\u001b[0m\u001b[0;34m\u001b[0m\u001b[0;34m\u001b[0m\u001b[0m\n\u001b[1;32m    324\u001b[0m         \u001b[0minertia\u001b[0m \u001b[0;34m=\u001b[0m \u001b[0mnp\u001b[0m\u001b[0;34m.\u001b[0m\u001b[0msum\u001b[0m\u001b[0;34m(\u001b[0m\u001b[0;34m(\u001b[0m\u001b[0mX\u001b[0m \u001b[0;34m-\u001b[0m \u001b[0mcenters\u001b[0m\u001b[0;34m[\u001b[0m\u001b[0mlabels\u001b[0m\u001b[0;34m]\u001b[0m\u001b[0;34m)\u001b[0m \u001b[0;34m**\u001b[0m \u001b[0;36m2\u001b[0m\u001b[0;34m,\u001b[0m \u001b[0mdtype\u001b[0m\u001b[0;34m=\u001b[0m\u001b[0mnp\u001b[0m\u001b[0;34m.\u001b[0m\u001b[0mfloat64\u001b[0m\u001b[0;34m)\u001b[0m\u001b[0;34m\u001b[0m\u001b[0;34m\u001b[0m\u001b[0m\n",
      "\u001b[0;32msklearn/cluster/_k_means_elkan.pyx\u001b[0m in \u001b[0;36msklearn.cluster._k_means_elkan.k_means_elkan\u001b[0;34m()\u001b[0m\n",
      "\u001b[0;32m<__array_function__ internals>\u001b[0m in \u001b[0;36msum\u001b[0;34m(*args, **kwargs)\u001b[0m\n",
      "\u001b[0;31mKeyboardInterrupt\u001b[0m: "
     ]
    }
   ],
   "source": [
    "df = pd.DataFrame()\n",
    "dropout = 0.9\n",
    "lr = 1e-5\n",
    "# layers = [200, 100, 30, 30]\n",
    "layers = [50]\n",
    "temperature = 0.07\n",
    "for dataset in files:\n",
    "\n",
    "    print(f\">>>>> Data {dataset}\")\n",
    "    print(\"SCZI \", sczi[sczi[\"dataset\"] == dataset][\"ARI\"].mean())\n",
    "    data_mat = h5py.File(f\"{path}real_data/{dataset}.h5\", \"r\")\n",
    "    X = np.array(data_mat['X'])\n",
    "    Y = np.array(data_mat['Y'])\n",
    "\n",
    "    cluster_number = np.unique(Y).shape[0]\n",
    "    nb_genes = 1500\n",
    "    data_mat = h5py.File(f\"{path}real_data/{dataset}.h5\", \"r\")\n",
    "    X = np.array(data_mat['X'])\n",
    "    Y = np.array(data_mat['Y'])\n",
    "\n",
    "    X = train.preprocess(X, nb_genes=nb_genes)\n",
    "\n",
    "    for run in range(3):\n",
    "        torch.manual_seed(run)\n",
    "        torch.cuda.manual_seed_all(run)\n",
    "        np.random.seed(run)\n",
    "        random.seed(run)\n",
    "        torch.backends.cudnn.deterministic = True\n",
    "        torch.backends.cudnn.benchmark = False\n",
    "        dresults = train.run(X,\n",
    "                             cluster_number,\n",
    "                             dataset,\n",
    "                             Y=Y,\n",
    "                             nb_epochs=20,\n",
    "                             lr=lr,\n",
    "                             temperature=temperature,\n",
    "                             dropout=dropout,\n",
    "                             \n",
    "                             n_ensemble=3,\n",
    "                             layers=layers,\n",
    "                             save_to=f\"{path}output/{category}/{run}/\",\n",
    "                             save_pred = True)\n",
    "        dresults[\"temperature\"] = temperature\n",
    "        dresults[\"dropout\"] = dropout\n",
    "        dresults[\"lr\"] = lr\n",
    "        dresults[\"layers\"] = str(layers)\n",
    "        dresults[\"run\"] = run\n",
    "#         print(f\".\", end = \"\")\n",
    "        print(f\"# {temperature}, {dropout}, {lr}, {layers}\", \n",
    "              dresults.get('COMBINED_kmeans_ari', \"\"),\n",
    "              dresults.get('COMBINED_leiden_ari', \"\"), dresults.get('kmeans_ari_0',\"\"),\n",
    "              dresults.get('leiden_ari_0', \"\"))\n",
    "        df = df.append(dresults, ignore_index=True)\n",
    "\n",
    "        df.to_pickle(f\"{path}output/pickle_results/{category}/{category}_ensemble.pkl\")"
   ]
  },
  {
   "cell_type": "code",
   "execution_count": null,
   "metadata": {},
   "outputs": [],
   "source": [
    "df.mean() # 0.697935"
   ]
  },
  {
   "cell_type": "code",
   "execution_count": null,
   "metadata": {},
   "outputs": [],
   "source": [
    "df = pd.read_pickle(f\"../output/pickle_results/real_data/real_data_baseline.pkl\")\n",
    "df.groupby([\"temperature\", \"layers\", \"dropout\", \"lr\"])[\"kmeans_ari_0\"].mean().unstack([\"layers\", \"lr\"])"
   ]
  },
  {
   "cell_type": "code",
   "execution_count": null,
   "metadata": {},
   "outputs": [],
   "source": [
    "df"
   ]
  },
  {
   "cell_type": "code",
   "execution_count": null,
   "metadata": {},
   "outputs": [],
   "source": []
  },
  {
   "cell_type": "code",
   "execution_count": null,
   "metadata": {},
   "outputs": [],
   "source": []
  },
  {
   "cell_type": "code",
   "execution_count": null,
   "metadata": {},
   "outputs": [],
   "source": []
  },
  {
   "cell_type": "code",
   "execution_count": null,
   "metadata": {},
   "outputs": [],
   "source": []
  },
  {
   "cell_type": "code",
   "execution_count": null,
   "metadata": {},
   "outputs": [],
   "source": [
    "df.groupby(\"dataset\").mean()"
   ]
  },
  {
   "cell_type": "markdown",
   "metadata": {},
   "source": [
    "# Importance of input size"
   ]
  },
  {
   "cell_type": "code",
   "execution_count": null,
   "metadata": {},
   "outputs": [],
   "source": [
    "df = pd.DataFrame(\n",
    "    columns=[\"dataset\", \"perc0\", \"nb_genes\", \"exp\", \"ari\", \"run\"])\n",
    "print(df.shape)\n",
    "for dataset in files:\n",
    "\n",
    "    print(f\">>>>> Data {dataset}\")\n",
    "\n",
    "    data_mat = h5py.File(f\"{path}real_data/{dataset}.h5\", \"r\")\n",
    "    for run in range(2):\n",
    "        torch.manual_seed(run)\n",
    "        torch.cuda.manual_seed_all(run)\n",
    "        np.random.seed(run)\n",
    "        random.seed(run)\n",
    "        torch.backends.cudnn.deterministic = True\n",
    "        torch.backends.cudnn.benchmark = False\n",
    "        for nb_genes in [100, 200, 500, 1000, 1500, 2000, 5000, 8000]:\n",
    "\n",
    "            X = np.array(data_mat['X'])\n",
    "            Y = np.array(data_mat['Y'])\n",
    "            perc_0 = np.where(X == 0)[0].shape[0] / (X.shape[0] * X.shape[1])\n",
    "            print(f\"Perc 0 {perc_0}\")\n",
    "            cluster_number = np.unique(Y).shape[0]\n",
    "\n",
    "            X = train.preprocess(X, nb_genes=nb_genes)\n",
    "            nb_zeros = int(0.8 * nb_genes)\n",
    "            dresults = train.train(\n",
    "                X,\n",
    "                cluster_number,\n",
    "                dataset,\n",
    "                Y,\n",
    "                \n",
    "                epochs=100,\n",
    "                nb_zeros=nb_zeros,\n",
    "                save_to=f\"{path}output/real_data/inputs/{dataset}_{nb_genes}/\")\n",
    "\n",
    "            #         df.loc[df.shape[0]] = [\n",
    "            #                 dataset, perc_0, nb_genes, 'kmeans_representation_0',dresults['kmeans_representation_0']\n",
    "            #             ]\n",
    "            df.loc[df.shape[0]] = [\n",
    "                dataset, perc_0, nb_genes, 'leiden_representation_0',\n",
    "                dresults['leiden_representation_0'], run]\n",
    "\n",
    "#             pxt = PCA(2).fit_transform(X)\n",
    "#             dresults[\"original\"] = utils.evaluate(X, Y, cluster_number)[1]\n",
    "#             dresults[\"pca\"] = utils.evaluate(pxt, Y, cluster_number)[1]\n",
    "            print(dresults)\n",
    "    df.to_pickle(f\"{path}output/pickle_results/real_data_input_size.pkl\")"
   ]
  },
  {
   "cell_type": "code",
   "execution_count": null,
   "metadata": {},
   "outputs": [],
   "source": [
    "df = pd.read_pickle(f\"{path}output/pickle_results/real_data_input_size.pkl\")"
   ]
  },
  {
   "cell_type": "code",
   "execution_count": null,
   "metadata": {},
   "outputs": [],
   "source": [
    "df.groupby([\"nb_genes\"]).mean()"
   ]
  },
  {
   "cell_type": "code",
   "execution_count": null,
   "metadata": {},
   "outputs": [],
   "source": [
    "dataset_names = {\n",
    "    '10X_PBMC': '10X PBMC',\n",
    "    '10X_PBMC_select_2100': '10X PBMC (2100)',\n",
    "    'mouse_ES_cell': 'Mouse ES\\nCell',\n",
    "    'mouse_ES_cell_select_2100': 'Mouse ES\\nCell (2100)',\n",
    "    'worm_neuron_cell_select_2100': 'Worm Neuron\\nCell (2100)',\n",
    "    'worm_neuron_cell': 'Worm Neuron\\nCell',\n",
    "    'mouse_bladder_cell': 'Mouse Bladder\\nCell',\n",
    "    'mouse_bladder_cell_select_2100': 'Mouse Bladder\\n Cell (2100)'\n",
    "}\n",
    "\n",
    "df[\"dataset\"] = df[\"dataset\"].apply(lambda x: dataset_names[x])\n",
    "\n",
    "df = df.rename(columns = {\"nb_genes\": \"Nb input genes\"})"
   ]
  },
  {
   "cell_type": "code",
   "execution_count": null,
   "metadata": {},
   "outputs": [],
   "source": [
    "df[\"dataset\"].unique()\n"
   ]
  },
  {
   "cell_type": "code",
   "execution_count": null,
   "metadata": {},
   "outputs": [],
   "source": [
    "import seaborn as sns\n",
    "datasets = ['10X PBMC',  'Mouse ES\\nCell','Worm Neuron\\nCell', 'Mouse Bladder\\nCell']\n",
    "plt.figure(figsize=(10, 3.3))\n",
    "ax = plt.subplot(111)\n",
    "sns.barplot(\n",
    "    hue=\"Nb input genes\",\n",
    "    y=\"ari\",\n",
    "    x=\"dataset\",\n",
    "    data=df[df[\"dataset\"].isin(datasets)],\n",
    "    ax=ax,\n",
    "    edgecolor='black',\n",
    "    linewidth=1.5,\n",
    ")\n",
    "plt.ylabel(\"ARI\")\n",
    "plt.xlabel(\"\")\n",
    "plt.legend(title= \"Nb input genes\",bbox_to_anchor=(1, 1))\n",
    "sns.despine()\n",
    "plt.tight_layout()\n",
    "\n",
    "plt.savefig(f\"{path}diagrams/real_input_size.pdf\", bbox_inches='tight')"
   ]
  },
  {
   "cell_type": "code",
   "execution_count": null,
   "metadata": {},
   "outputs": [],
   "source": [
    "datasets = ['10X PBMC (2100)',\n",
    "       'Mouse ES\\nCell (2100)', 'Worm Neuron\\nCell (2100)',\n",
    "       'Mouse Bladder\\n Cell (2100)']\n",
    "plt.figure(figsize=(10, 3.3))\n",
    "ax = plt.subplot(111)\n",
    "sns.barplot(\n",
    "    hue=\"Nb input genes\",\n",
    "    y=\"ari\",\n",
    "    x=\"dataset\",\n",
    "    data=df[df[\"dataset\"].isin(datasets)],\n",
    "    ax=ax,\n",
    "    edgecolor='black',\n",
    "    linewidth=1.5,\n",
    ")\n",
    "plt.ylabel(\"ARI\")\n",
    "plt.xlabel(\"\")\n",
    "plt.legend(title= \"Nb input genes\",bbox_to_anchor=(1, 1))\n",
    "sns.despine()\n",
    "plt.tight_layout()\n",
    "\n",
    "plt.savefig(f\"{path}diagrams/real_input_size_2100.pdf\", bbox_inches='tight')"
   ]
  },
  {
   "cell_type": "code",
   "execution_count": null,
   "metadata": {},
   "outputs": [],
   "source": []
  },
  {
   "cell_type": "markdown",
   "metadata": {},
   "source": [
    "# Importance of the number of epochs"
   ]
  },
  {
   "cell_type": "code",
   "execution_count": null,
   "metadata": {},
   "outputs": [],
   "source": [
    "df = pd.DataFrame(\n",
    "    columns=[\"dataset\", \"perc0\", \"nb_epochs\", \"exp\", \"ari\", \"run\"])\n",
    "print(df.shape)\n",
    "for dataset in files:\n",
    "\n",
    "    print(f\">>>>> Data {dataset}\")\n",
    "\n",
    "    data_mat = h5py.File(f\"{path}real_data/{dataset}.h5\", \"r\")\n",
    "    nb_genes = 1500\n",
    "    for epochs in [5, 50, 100, 300]:\n",
    "\n",
    "        X = np.array(data_mat['X'])\n",
    "        Y = np.array(data_mat['Y'])\n",
    "        perc_0 = np.where(X == 0)[0].shape[0] / (X.shape[0] * X.shape[1])\n",
    "        print(f\"Perc 0 {perc_0}\")\n",
    "        cluster_number = np.unique(Y).shape[0]\n",
    "\n",
    "        X = train.preprocess(X, nb_genes=nb_genes)\n",
    "        nb_zeros = int(0.8 * nb_genes)\n",
    "        for run in range(2):\n",
    "            torch.manual_seed(run)\n",
    "            torch.cuda.manual_seed_all(run)\n",
    "            np.random.seed(run)\n",
    "            random.seed(run)\n",
    "            torch.backends.cudnn.deterministic = True\n",
    "            torch.backends.cudnn.benchmark = False\n",
    "\n",
    "            dresults = train.train(\n",
    "                X,\n",
    "                cluster_number,\n",
    "                dataset,\n",
    "                Y,\n",
    "                \n",
    "                epochs=epochs,\n",
    "                nb_zeros=nb_zeros,\n",
    "                save_to=f\"{path}output/real_data/epochs/{dataset}_{epochs}/\")\n",
    "\n",
    "            df.loc[df.shape[0]] = [\n",
    "                dataset, perc_0, epochs, 'kmeans_representation_0',\n",
    "                dresults['kmeans_representation_0'], run\n",
    "            ]\n",
    "            df.loc[df.shape[0]] = [\n",
    "                dataset, perc_0, epochs, 'leiden_representation_0',\n",
    "                dresults['leiden_representation_0'], run\n",
    "            ]\n",
    "\n",
    "            print(dresults)\n",
    "            df.to_pickle(f\"{path}output/pickle_results/real_data_epochs.pkl\")"
   ]
  },
  {
   "cell_type": "code",
   "execution_count": null,
   "metadata": {},
   "outputs": [],
   "source": [
    "df = pd.read_pickle(f\"{path}output/pickle_results/real_data_epochs.pkl\")"
   ]
  },
  {
   "cell_type": "code",
   "execution_count": null,
   "metadata": {},
   "outputs": [],
   "source": [
    "dataset_names = {\n",
    "    '10X_PBMC': '10X PBMC',\n",
    "    '10X_PBMC_select_2100': '10X PBMC (2100)',\n",
    "    'mouse_ES_cell': 'Mouse ES\\nCell',\n",
    "    'mouse_ES_cell_select_2100': 'Mouse ES\\nCell (2100)',\n",
    "    'worm_neuron_cell_select_2100': 'Worm Neuron\\nCell (2100)',\n",
    "    'worm_neuron_cell': 'Worm Neuron\\nCell',\n",
    "    'mouse_bladder_cell': 'Mouse Bladder\\nCell',\n",
    "    'mouse_bladder_cell_select_2100': 'Mouse Bladder\\n Cell (2100)'\n",
    "}\n",
    "\n",
    "df[\"dataset\"] = df[\"dataset\"].apply(lambda x: dataset_names[x])\n",
    "\n",
    "df = df.rename(columns = {\"nb_epochs\": \"Nb epochs\"})"
   ]
  },
  {
   "cell_type": "code",
   "execution_count": null,
   "metadata": {},
   "outputs": [],
   "source": [
    "import seaborn as sns\n",
    "datasets = ['10X PBMC',  'Mouse ES\\nCell','Worm Neuron\\nCell', 'Mouse Bladder\\nCell']\n",
    "plt.figure(figsize=(7, 3))\n",
    "ax = plt.subplot(111)\n",
    "sns.barplot(\n",
    "    hue=\"Nb epochs\",\n",
    "    y=\"ari\",\n",
    "    x=\"dataset\",\n",
    "    data=df[df[\"dataset\"].isin(datasets)],\n",
    "    ax=ax,\n",
    "    edgecolor='black',\n",
    "    linewidth=1.5,\n",
    ")\n",
    "plt.ylabel(\"ARI\")\n",
    "plt.xlabel(\"\")\n",
    "plt.legend(title =\"Number of epochs\",bbox_to_anchor=(1, 1))\n",
    "sns.despine()\n",
    "plt.tight_layout()\n",
    "\n",
    "plt.savefig(f\"{path}diagrams/real_nb_epochs.pdf\", bbox_inches='tight')"
   ]
  },
  {
   "cell_type": "code",
   "execution_count": null,
   "metadata": {},
   "outputs": [],
   "source": []
  },
  {
   "cell_type": "code",
   "execution_count": null,
   "metadata": {},
   "outputs": [],
   "source": []
  }
 ],
 "metadata": {
  "kernelspec": {
   "display_name": "Python 3",
   "language": "python",
   "name": "python3"
  },
  "language_info": {
   "codemirror_mode": {
    "name": "ipython",
    "version": 3
   },
   "file_extension": ".py",
   "mimetype": "text/x-python",
   "name": "python",
   "nbconvert_exporter": "python",
   "pygments_lexer": "ipython3",
   "version": "3.7.4"
  }
 },
 "nbformat": 4,
 "nbformat_minor": 4
}