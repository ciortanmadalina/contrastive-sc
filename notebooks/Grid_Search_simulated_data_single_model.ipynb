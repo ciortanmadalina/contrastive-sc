{
 "cells": [
  {
   "cell_type": "markdown",
   "metadata": {},
   "source": [
    "Original implementation of Contrastive-sc method\n",
    "(https://github.com/ciortanmadalina/contrastive-sc)"
   ]
  },
  {
   "cell_type": "code",
   "execution_count": 1,
   "metadata": {},
   "outputs": [
    {
     "name": "stderr",
     "output_type": "stream",
     "text": [
      "/opt/conda/lib/python3.7/site-packages/scanpy/api/__init__.py:7: FutureWarning: \n",
      "\n",
      "In a future version of Scanpy, `scanpy.api` will be removed.\n",
      "Simply use `import scanpy as sc` and `import scanpy.external as sce` instead.\n",
      "\n",
      "  FutureWarning,\n"
     ]
    }
   ],
   "source": [
    "import sys\n",
    "sys.path.append(\"..\")\n",
    "import argparse\n",
    "from sklearn.metrics import adjusted_rand_score, normalized_mutual_info_score\n",
    "from sklearn.cluster import KMeans\n",
    "from sklearn import metrics\n",
    "\n",
    "import torch\n",
    "import torch.nn as nn\n",
    "import copy\n",
    "from tqdm.notebook import tqdm\n",
    "import models\n",
    "import numpy as np\n",
    "import pandas as pd\n",
    "from sklearn.decomposition import PCA\n",
    "import matplotlib.pyplot as plt\n",
    "import st_loss\n",
    "\n",
    "import h5py\n",
    "import scipy as sp\n",
    "import scanpy.api as sc\n",
    "from collections import Counter\n",
    "import random\n",
    "import utils\n",
    "\n",
    "import pickle\n",
    "\n",
    "import train\n",
    "import os\n",
    "import glob2\n",
    "plt.ion()\n",
    "plt.show()\n",
    "%load_ext autoreload\n",
    "%autoreload 2\n",
    "\n",
    "import warnings\n",
    "warnings.filterwarnings(\"ignore\", category=FutureWarning)"
   ]
  },
  {
   "cell_type": "code",
   "execution_count": 2,
   "metadata": {},
   "outputs": [
    {
     "data": {
      "text/plain": [
       "['data_1c8',\n",
       " 'data_-1c4',\n",
       " 'data_-1c8',\n",
       " 'data_0c4',\n",
       " 'data_0c8',\n",
       " 'data_0c16',\n",
       " 'data_1.5c4',\n",
       " 'data_1c4',\n",
       " 'data_1.5c8',\n",
       " 'data_1.5c16',\n",
       " 'data_-1c16',\n",
       " 'data_1c16']"
      ]
     },
     "execution_count": 2,
     "metadata": {},
     "output_type": "execute_result"
    }
   ],
   "source": [
    "path = \"../\"\n",
    "# category = \"balanced_data\"\n",
    "category = \"imbalanced_data\"\n",
    "files = glob2.glob(f'{path}R/simulated_data/{category}/*.h5')\n",
    "files = [f[len(f\"{path}R/simulated_data/{category}/\"):-3] for f in files]\n",
    "files"
   ]
  },
  {
   "cell_type": "code",
   "execution_count": 4,
   "metadata": {},
   "outputs": [],
   "source": [
    "# torch.cuda.is_available()"
   ]
  },
  {
   "cell_type": "code",
   "execution_count": 19,
   "metadata": {},
   "outputs": [
    {
     "name": "stdout",
     "output_type": "stream",
     "text": [
      ">>>>> Data data_0c8\n",
      "(3000, 2500) (3000, 2500) keeping 500 genes\n"
     ]
    },
    {
     "data": {
      "application/vnd.jupyter.widget-view+json": {
       "model_id": "ea22ef0f96534862906129f7a047bed8",
       "version_major": 2,
       "version_minor": 0
      },
      "text/plain": [
       "HBox(children=(IntProgress(value=0, max=1), HTML(value='')))"
      ]
     },
     "metadata": {},
     "output_type": "display_data"
    },
    {
     "name": "stdout",
     "output_type": "stream",
     "text": [
      "..............................\n",
      ">>>>> Data data_1c4\n",
      "(3000, 2500) (3000, 2500) keeping 500 genes\n"
     ]
    },
    {
     "data": {
      "application/vnd.jupyter.widget-view+json": {
       "model_id": "a128c33654044d55be00210e1d313772",
       "version_major": 2,
       "version_minor": 0
      },
      "text/plain": [
       "HBox(children=(IntProgress(value=0, max=1), HTML(value='')))"
      ]
     },
     "metadata": {},
     "output_type": "display_data"
    },
    {
     "name": "stdout",
     "output_type": "stream",
     "text": [
      "..............................\n",
      ">>>>> Data data_0c16\n",
      "(3000, 2500) (3000, 2500) keeping 500 genes\n"
     ]
    },
    {
     "data": {
      "application/vnd.jupyter.widget-view+json": {
       "model_id": "c8860cf78e5249ed9334b307225ad768",
       "version_major": 2,
       "version_minor": 0
      },
      "text/plain": [
       "HBox(children=(IntProgress(value=0, max=1), HTML(value='')))"
      ]
     },
     "metadata": {},
     "output_type": "display_data"
    },
    {
     "name": "stdout",
     "output_type": "stream",
     "text": [
      "..............................\n",
      ">>>>> Data data_1.5c16\n",
      "(3000, 2500) (3000, 2500) keeping 500 genes\n"
     ]
    },
    {
     "data": {
      "application/vnd.jupyter.widget-view+json": {
       "model_id": "445945f9bbbf47bf8495086b675afc46",
       "version_major": 2,
       "version_minor": 0
      },
      "text/plain": [
       "HBox(children=(IntProgress(value=0, max=1), HTML(value='')))"
      ]
     },
     "metadata": {},
     "output_type": "display_data"
    },
    {
     "name": "stdout",
     "output_type": "stream",
     "text": [
      "..............................\n",
      ">>>>> Data data_0c4\n",
      "(3000, 2500) (3000, 2500) keeping 500 genes\n"
     ]
    },
    {
     "data": {
      "application/vnd.jupyter.widget-view+json": {
       "model_id": "525cca1afeb64490a0059330e6be2055",
       "version_major": 2,
       "version_minor": 0
      },
      "text/plain": [
       "HBox(children=(IntProgress(value=0, max=1), HTML(value='')))"
      ]
     },
     "metadata": {},
     "output_type": "display_data"
    },
    {
     "name": "stdout",
     "output_type": "stream",
     "text": [
      "..............................\n",
      ">>>>> Data data_1.5c4\n",
      "(3000, 2500) (3000, 2500) keeping 500 genes\n"
     ]
    },
    {
     "data": {
      "application/vnd.jupyter.widget-view+json": {
       "model_id": "ba2001485c1c459ea5fc4508d29e560c",
       "version_major": 2,
       "version_minor": 0
      },
      "text/plain": [
       "HBox(children=(IntProgress(value=0, max=1), HTML(value='')))"
      ]
     },
     "metadata": {},
     "output_type": "display_data"
    },
    {
     "name": "stdout",
     "output_type": "stream",
     "text": [
      "..............................\n",
      ">>>>> Data data_1.5c8\n",
      "(3000, 2500) (3000, 2500) keeping 500 genes\n"
     ]
    },
    {
     "data": {
      "application/vnd.jupyter.widget-view+json": {
       "model_id": "e5c5e64796c843d385a9b729f94650e0",
       "version_major": 2,
       "version_minor": 0
      },
      "text/plain": [
       "HBox(children=(IntProgress(value=0, max=1), HTML(value='')))"
      ]
     },
     "metadata": {},
     "output_type": "display_data"
    },
    {
     "name": "stdout",
     "output_type": "stream",
     "text": [
      "..............................\n",
      ">>>>> Data data_-1c16\n",
      "(3000, 2500) (3000, 2500) keeping 500 genes\n"
     ]
    },
    {
     "data": {
      "application/vnd.jupyter.widget-view+json": {
       "model_id": "8f74827faafc4b678d3c9e0bd194329c",
       "version_major": 2,
       "version_minor": 0
      },
      "text/plain": [
       "HBox(children=(IntProgress(value=0, max=1), HTML(value='')))"
      ]
     },
     "metadata": {},
     "output_type": "display_data"
    },
    {
     "name": "stdout",
     "output_type": "stream",
     "text": [
      "..............................\n",
      ">>>>> Data data_1c16\n",
      "(3000, 2500) (3000, 2500) keeping 500 genes\n"
     ]
    },
    {
     "data": {
      "application/vnd.jupyter.widget-view+json": {
       "model_id": "ede8da884aa043ef9b5ddc6ab4afa799",
       "version_major": 2,
       "version_minor": 0
      },
      "text/plain": [
       "HBox(children=(IntProgress(value=0, max=1), HTML(value='')))"
      ]
     },
     "metadata": {},
     "output_type": "display_data"
    },
    {
     "name": "stdout",
     "output_type": "stream",
     "text": [
      "..............................\n",
      ">>>>> Data data_1c8\n",
      "(3000, 2500) (3000, 2500) keeping 500 genes\n"
     ]
    },
    {
     "data": {
      "application/vnd.jupyter.widget-view+json": {
       "model_id": "848a59a99e694981ac921f6d8761ea19",
       "version_major": 2,
       "version_minor": 0
      },
      "text/plain": [
       "HBox(children=(IntProgress(value=0, max=1), HTML(value='')))"
      ]
     },
     "metadata": {},
     "output_type": "display_data"
    },
    {
     "name": "stdout",
     "output_type": "stream",
     "text": [
      "..............................\n",
      ">>>>> Data data_-1c8\n",
      "(3000, 2500) (3000, 2500) keeping 500 genes\n"
     ]
    },
    {
     "data": {
      "application/vnd.jupyter.widget-view+json": {
       "model_id": "7f5bd6ed403143698bf4ef55cffe64d7",
       "version_major": 2,
       "version_minor": 0
      },
      "text/plain": [
       "HBox(children=(IntProgress(value=0, max=1), HTML(value='')))"
      ]
     },
     "metadata": {},
     "output_type": "display_data"
    },
    {
     "name": "stdout",
     "output_type": "stream",
     "text": [
      "..............................\n",
      ">>>>> Data data_-1c4\n",
      "(3000, 2500) (3000, 2500) keeping 500 genes\n"
     ]
    },
    {
     "data": {
      "application/vnd.jupyter.widget-view+json": {
       "model_id": "3dacb65231444431908c4e0fe96c5f9d",
       "version_major": 2,
       "version_minor": 0
      },
      "text/plain": [
       "HBox(children=(IntProgress(value=0, max=1), HTML(value='')))"
      ]
     },
     "metadata": {},
     "output_type": "display_data"
    },
    {
     "name": "stdout",
     "output_type": "stream",
     "text": [
      "..............................\n"
     ]
    }
   ],
   "source": [
    "df = pd.DataFrame()\n",
    "\n",
    "for dataset in files:\n",
    "\n",
    "    print(f\">>>>> Data {dataset}\")\n",
    "\n",
    "    data_mat = h5py.File(f\"{path}R/simulated_data/{category}/{dataset}.h5\", \"r\")\n",
    "    X = np.array(data_mat['X'])\n",
    "    Y = np.array(data_mat['Y'])\n",
    "\n",
    "    cluster_number = np.unique(Y).shape[0]\n",
    "    nb_genes = 500\n",
    "\n",
    "    X = train.preprocess(X, nb_genes=nb_genes)\n",
    "    for temperature in tqdm([0.07]):\n",
    "        for dropout in [ 0.9,0.8, 0.5, \n",
    "                       ]:\n",
    "            for lr in [0.4]:\n",
    "                for layers in [[200, 100, 30], [200, 100, 50, 30],\n",
    "                    [50],[100, 30], [100]\n",
    "                              ]:\n",
    "                    for run in range(2):\n",
    "                        torch.manual_seed(run)\n",
    "                        torch.cuda.manual_seed_all(run)\n",
    "                        np.random.seed(run)\n",
    "                        random.seed(run)\n",
    "                        torch.backends.cudnn.deterministic = True\n",
    "                        torch.backends.cudnn.benchmark = False\n",
    "                        dresults = train.run(X,\n",
    "                                             cluster_number,\n",
    "                                             dataset,\n",
    "                                             Y=Y,\n",
    "                                             nb_epochs=300,\n",
    "                                             lr=lr,\n",
    "                                             temperature=temperature,\n",
    "                                             dropout=dropout,\n",
    "                                             \n",
    "                                             \n",
    "                                             layers=layers,\n",
    "                                             save_to=f\"{path}output/real_data/{run}/\",\n",
    "                                             save_pred = False)\n",
    "                        dresults[\"temperature\"] = temperature\n",
    "                        dresults[\"dropout\"] = dropout\n",
    "                        dresults[\"lr\"] = lr\n",
    "                        dresults[\"layers\"] = str(layers)\n",
    "                        dresults[\"run\"] = run\n",
    "                        print(f\".\", end = \"\")\n",
    "#                         print(f\"# {temperature}, {dropout}, {lr}, {layers}\", \n",
    "#                               dresults.get('COMBINED_kmeans_ari', \"\"),\n",
    "#                               dresults.get('COMBINED_leiden_ari', \"\"), dresults.get('kmeans_ari_0',\"\"),\n",
    "#                               dresults.get('leiden_ari_0', \"\"))\n",
    "                        df = df.append(dresults, ignore_index=True)\n",
    "\n",
    "                        df.to_pickle(f\"{path}output/pickle_results/{category}/{category}_1model.pkl\")"
   ]
  },
  {
   "cell_type": "code",
   "execution_count": 25,
   "metadata": {},
   "outputs": [],
   "source": [
    "category = \"balanced_data\"\n",
    "# category = \"imbalanced_data\""
   ]
  },
  {
   "cell_type": "code",
   "execution_count": 26,
   "metadata": {},
   "outputs": [],
   "source": [
    "df = pd.read_csv(f\"{path}output/pickle_results/{category}/{category}_1model.csv\", index_col =0)"
   ]
  },
  {
   "cell_type": "code",
   "execution_count": null,
   "metadata": {},
   "outputs": [],
   "source": []
  },
  {
   "cell_type": "code",
   "execution_count": 27,
   "metadata": {},
   "outputs": [
    {
     "data": {
      "text/html": [
       "<div>\n",
       "<style scoped>\n",
       "    .dataframe tbody tr th:only-of-type {\n",
       "        vertical-align: middle;\n",
       "    }\n",
       "\n",
       "    .dataframe tbody tr th {\n",
       "        vertical-align: top;\n",
       "    }\n",
       "\n",
       "    .dataframe thead tr th {\n",
       "        text-align: left;\n",
       "    }\n",
       "\n",
       "    .dataframe thead tr:last-of-type th {\n",
       "        text-align: right;\n",
       "    }\n",
       "</style>\n",
       "<table border=\"1\" class=\"dataframe\">\n",
       "  <thead>\n",
       "    <tr>\n",
       "      <th></th>\n",
       "      <th></th>\n",
       "      <th></th>\n",
       "      <th colspan=\"5\" halign=\"left\">kmeans_ari_0</th>\n",
       "    </tr>\n",
       "    <tr>\n",
       "      <th></th>\n",
       "      <th></th>\n",
       "      <th>layers</th>\n",
       "      <th>[100, 30]</th>\n",
       "      <th>[100]</th>\n",
       "      <th>[200, 100, 30]</th>\n",
       "      <th>[200, 100, 50, 30]</th>\n",
       "      <th>[50]</th>\n",
       "    </tr>\n",
       "    <tr>\n",
       "      <th>temperature</th>\n",
       "      <th>dropout</th>\n",
       "      <th>lr</th>\n",
       "      <th></th>\n",
       "      <th></th>\n",
       "      <th></th>\n",
       "      <th></th>\n",
       "      <th></th>\n",
       "    </tr>\n",
       "  </thead>\n",
       "  <tbody>\n",
       "    <tr>\n",
       "      <th rowspan=\"3\" valign=\"top\">0.07</th>\n",
       "      <th>0.5</th>\n",
       "      <th>0.00001</th>\n",
       "      <td>0.565851</td>\n",
       "      <td>0.523042</td>\n",
       "      <td>0.583311</td>\n",
       "      <td>0.584836</td>\n",
       "      <td>0.521957</td>\n",
       "    </tr>\n",
       "    <tr>\n",
       "      <th>0.8</th>\n",
       "      <th>0.00001</th>\n",
       "      <td>0.666755</td>\n",
       "      <td>0.567760</td>\n",
       "      <td>0.699614</td>\n",
       "      <td>0.706537</td>\n",
       "      <td>0.580719</td>\n",
       "    </tr>\n",
       "    <tr>\n",
       "      <th>0.9</th>\n",
       "      <th>0.00001</th>\n",
       "      <td>NaN</td>\n",
       "      <td>NaN</td>\n",
       "      <td>0.648500</td>\n",
       "      <td>0.629868</td>\n",
       "      <td>NaN</td>\n",
       "    </tr>\n",
       "  </tbody>\n",
       "</table>\n",
       "</div>"
      ],
      "text/plain": [
       "                            kmeans_ari_0                           \\\n",
       "layers                         [100, 30]     [100] [200, 100, 30]   \n",
       "temperature dropout lr                                              \n",
       "0.07        0.5     0.00001     0.565851  0.523042       0.583311   \n",
       "            0.8     0.00001     0.666755  0.567760       0.699614   \n",
       "            0.9     0.00001          NaN       NaN       0.648500   \n",
       "\n",
       "                                                          \n",
       "layers                      [200, 100, 50, 30]      [50]  \n",
       "temperature dropout lr                                    \n",
       "0.07        0.5     0.00001           0.584836  0.521957  \n",
       "            0.8     0.00001           0.706537  0.580719  \n",
       "            0.9     0.00001           0.629868       NaN  "
      ]
     },
     "execution_count": 27,
     "metadata": {},
     "output_type": "execute_result"
    }
   ],
   "source": [
    "df.groupby([\"temperature\", \"layers\", \"dropout\", \"lr\"])[[\"kmeans_ari_0\"]].mean().unstack(\"layers\")"
   ]
  },
  {
   "cell_type": "code",
   "execution_count": 28,
   "metadata": {},
   "outputs": [
    {
     "data": {
      "text/plain": [
       "dropout         0.800000\n",
       "kmeans_ari_0    0.706537\n",
       "kmeans_nmi_0    0.708798\n",
       "leiden_ari_0    0.669377\n",
       "leiden_nmi_0    0.678884\n",
       "lr              0.000010\n",
       "run             0.500000\n",
       "temperature     0.070000\n",
       "dtype: float64"
      ]
     },
     "execution_count": 28,
     "metadata": {},
     "output_type": "execute_result"
    }
   ],
   "source": [
    "r = df[(df[\"layers\"]==\"[200, 100, 50, 30]\")\n",
    "       &(df[\"temperature\"]==0.07)\n",
    "       &(df[\"lr\"]==1e-5)\n",
    "       &(df[\"dropout\"]==0.8)\n",
    "      ]\n",
    "\n",
    "\n",
    "r.mean()"
   ]
  },
  {
   "cell_type": "code",
   "execution_count": null,
   "metadata": {},
   "outputs": [],
   "source": [
    "dataset_names = {\n",
    "    '10X_PBMC': '10X PBMC',\n",
    "    '10X_PBMC_select_2100': '10X PBMC (2100)',\n",
    "    'mouse_ES_cell': 'Mouse ES\\nCell',\n",
    "    'mouse_ES_cell_select_2100': 'Mouse ES\\nCell (2100)',\n",
    "    'worm_neuron_cell_select_2100': 'Worm Neuron\\nCell (2100)',\n",
    "    'worm_neuron_cell': 'Worm Neuron\\nCell',\n",
    "    'mouse_bladder_cell': 'Mouse Bladder\\nCell',\n",
    "    'mouse_bladder_cell_select_2100': 'Mouse Bladder\\n Cell (2100)'\n",
    "}\n",
    "\n",
    "df[\"dataset\"] = df[\"dataset\"].apply(lambda x: dataset_names[x])\n",
    "\n",
    "df = df.rename(columns = {\"nb_genes\": \"Nb input genes\"})"
   ]
  },
  {
   "cell_type": "code",
   "execution_count": null,
   "metadata": {},
   "outputs": [],
   "source": [
    "df[\"dataset\"].unique()\n"
   ]
  },
  {
   "cell_type": "code",
   "execution_count": null,
   "metadata": {},
   "outputs": [],
   "source": [
    "import seaborn as sns\n",
    "datasets = ['10X PBMC',  'Mouse ES\\nCell','Worm Neuron\\nCell', 'Mouse Bladder\\nCell']\n",
    "plt.figure(figsize=(10, 3.3))\n",
    "ax = plt.subplot(111)\n",
    "sns.barplot(\n",
    "    hue=\"Nb input genes\",\n",
    "    y=\"ari\",\n",
    "    x=\"dataset\",\n",
    "    data=df[df[\"dataset\"].isin(datasets)],\n",
    "    ax=ax,\n",
    "    edgecolor='black',\n",
    "    linewidth=1.5,\n",
    ")\n",
    "plt.ylabel(\"ARI\")\n",
    "plt.xlabel(\"\")\n",
    "plt.legend(title= \"Nb input genes\",bbox_to_anchor=(1, 1))\n",
    "sns.despine()\n",
    "plt.tight_layout()\n",
    "\n",
    "plt.savefig(f\"{path}diagrams/real_input_size.pdf\", bbox_inches='tight')"
   ]
  },
  {
   "cell_type": "code",
   "execution_count": null,
   "metadata": {},
   "outputs": [],
   "source": [
    "datasets = ['10X PBMC (2100)',\n",
    "       'Mouse ES\\nCell (2100)', 'Worm Neuron\\nCell (2100)',\n",
    "       'Mouse Bladder\\n Cell (2100)']\n",
    "plt.figure(figsize=(10, 3.3))\n",
    "ax = plt.subplot(111)\n",
    "sns.barplot(\n",
    "    hue=\"Nb input genes\",\n",
    "    y=\"ari\",\n",
    "    x=\"dataset\",\n",
    "    data=df[df[\"dataset\"].isin(datasets)],\n",
    "    ax=ax,\n",
    "    edgecolor='black',\n",
    "    linewidth=1.5,\n",
    ")\n",
    "plt.ylabel(\"ARI\")\n",
    "plt.xlabel(\"\")\n",
    "plt.legend(title= \"Nb input genes\",bbox_to_anchor=(1, 1))\n",
    "sns.despine()\n",
    "plt.tight_layout()\n",
    "\n",
    "plt.savefig(f\"{path}diagrams/real_input_size_2100.pdf\", bbox_inches='tight')"
   ]
  },
  {
   "cell_type": "code",
   "execution_count": null,
   "metadata": {},
   "outputs": [],
   "source": []
  },
  {
   "cell_type": "markdown",
   "metadata": {},
   "source": [
    "# Importance of the number of epochs"
   ]
  },
  {
   "cell_type": "code",
   "execution_count": null,
   "metadata": {},
   "outputs": [],
   "source": [
    "df = pd.DataFrame(\n",
    "    columns=[\"dataset\", \"perc0\", \"nb_epochs\", \"exp\", \"ari\", \"run\"])\n",
    "print(df.shape)\n",
    "for dataset in files:\n",
    "\n",
    "    print(f\">>>>> Data {dataset}\")\n",
    "\n",
    "    data_mat = h5py.File(f\"{path}real_data/{dataset}.h5\", \"r\")\n",
    "    nb_genes = 1500\n",
    "    for epochs in [5, 50, 100, 300]:\n",
    "\n",
    "        X = np.array(data_mat['X'])\n",
    "        Y = np.array(data_mat['Y'])\n",
    "        perc_0 = np.where(X == 0)[0].shape[0] / (X.shape[0] * X.shape[1])\n",
    "        print(f\"Perc 0 {perc_0}\")\n",
    "        cluster_number = np.unique(Y).shape[0]\n",
    "\n",
    "        X = train.preprocess(X, nb_genes=nb_genes)\n",
    "        nb_zeros = int(0.8 * nb_genes)\n",
    "        for run in range(2):\n",
    "            torch.manual_seed(run)\n",
    "            torch.cuda.manual_seed_all(run)\n",
    "            np.random.seed(run)\n",
    "            random.seed(run)\n",
    "            torch.backends.cudnn.deterministic = True\n",
    "            torch.backends.cudnn.benchmark = False\n",
    "\n",
    "            dresults = train.train(\n",
    "                X,\n",
    "                cluster_number,\n",
    "                dataset,\n",
    "                Y,\n",
    "                \n",
    "                epochs=epochs,\n",
    "                nb_zeros=nb_zeros,\n",
    "                save_to=f\"{path}output/real_data/epochs/{dataset}_{epochs}/\")\n",
    "\n",
    "            df.loc[df.shape[0]] = [\n",
    "                dataset, perc_0, epochs, 'kmeans_representation_0',\n",
    "                dresults['kmeans_representation_0'], run\n",
    "            ]\n",
    "            df.loc[df.shape[0]] = [\n",
    "                dataset, perc_0, epochs, 'leiden_representation_0',\n",
    "                dresults['leiden_representation_0'], run\n",
    "            ]\n",
    "\n",
    "            print(dresults)\n",
    "            df.to_pickle(f\"{path}output/pickle_results/real_data_epochs.pkl\")"
   ]
  },
  {
   "cell_type": "code",
   "execution_count": null,
   "metadata": {},
   "outputs": [],
   "source": [
    "df = pd.read_pickle(f\"{path}output/pickle_results/real_data_epochs.pkl\")"
   ]
  },
  {
   "cell_type": "code",
   "execution_count": null,
   "metadata": {},
   "outputs": [],
   "source": [
    "dataset_names = {\n",
    "    '10X_PBMC': '10X PBMC',\n",
    "    '10X_PBMC_select_2100': '10X PBMC (2100)',\n",
    "    'mouse_ES_cell': 'Mouse ES\\nCell',\n",
    "    'mouse_ES_cell_select_2100': 'Mouse ES\\nCell (2100)',\n",
    "    'worm_neuron_cell_select_2100': 'Worm Neuron\\nCell (2100)',\n",
    "    'worm_neuron_cell': 'Worm Neuron\\nCell',\n",
    "    'mouse_bladder_cell': 'Mouse Bladder\\nCell',\n",
    "    'mouse_bladder_cell_select_2100': 'Mouse Bladder\\n Cell (2100)'\n",
    "}\n",
    "\n",
    "df[\"dataset\"] = df[\"dataset\"].apply(lambda x: dataset_names[x])\n",
    "\n",
    "df = df.rename(columns = {\"nb_epochs\": \"Nb epochs\"})"
   ]
  },
  {
   "cell_type": "code",
   "execution_count": null,
   "metadata": {},
   "outputs": [],
   "source": [
    "import seaborn as sns\n",
    "datasets = ['10X PBMC',  'Mouse ES\\nCell','Worm Neuron\\nCell', 'Mouse Bladder\\nCell']\n",
    "plt.figure(figsize=(7, 3))\n",
    "ax = plt.subplot(111)\n",
    "sns.barplot(\n",
    "    hue=\"Nb epochs\",\n",
    "    y=\"ari\",\n",
    "    x=\"dataset\",\n",
    "    data=df[df[\"dataset\"].isin(datasets)],\n",
    "    ax=ax,\n",
    "    edgecolor='black',\n",
    "    linewidth=1.5,\n",
    ")\n",
    "plt.ylabel(\"ARI\")\n",
    "plt.xlabel(\"\")\n",
    "plt.legend(title =\"Number of epochs\",bbox_to_anchor=(1, 1))\n",
    "sns.despine()\n",
    "plt.tight_layout()\n",
    "\n",
    "plt.savefig(f\"{path}diagrams/real_nb_epochs.pdf\", bbox_inches='tight')"
   ]
  },
  {
   "cell_type": "code",
   "execution_count": null,
   "metadata": {},
   "outputs": [],
   "source": []
  },
  {
   "cell_type": "code",
   "execution_count": null,
   "metadata": {},
   "outputs": [],
   "source": []
  }
 ],
 "metadata": {
  "kernelspec": {
   "display_name": "Python 3",
   "language": "python",
   "name": "python3"
  },
  "language_info": {
   "codemirror_mode": {
    "name": "ipython",
    "version": 3
   },
   "file_extension": ".py",
   "mimetype": "text/x-python",
   "name": "python",
   "nbconvert_exporter": "python",
   "pygments_lexer": "ipython3",
   "version": "3.7.4"
  }
 },
 "nbformat": 4,
 "nbformat_minor": 4
}
