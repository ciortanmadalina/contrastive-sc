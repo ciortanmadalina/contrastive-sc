{
 "cells": [
  {
   "cell_type": "markdown",
   "metadata": {},
   "source": [
    "Original implementation of Contrastive-sc method\n",
    "(https://github.com/ciortanmadalina/contrastive-sc)"
   ]
  },
  {
   "cell_type": "code",
   "execution_count": 2,
   "metadata": {},
   "outputs": [
    {
     "name": "stderr",
     "output_type": "stream",
     "text": [
      "/opt/conda/lib/python3.7/site-packages/scanpy/api/__init__.py:7: FutureWarning: \n",
      "\n",
      "In a future version of Scanpy, `scanpy.api` will be removed.\n",
      "Simply use `import scanpy as sc` and `import scanpy.external as sce` instead.\n",
      "\n",
      "  FutureWarning,\n"
     ]
    }
   ],
   "source": [
    "import sys\n",
    "sys.path.append(\"..\")\n",
    "import argparse\n",
    "from sklearn.metrics import adjusted_rand_score, normalized_mutual_info_score\n",
    "from sklearn.cluster import KMeans\n",
    "from sklearn import metrics\n",
    "\n",
    "import torch\n",
    "import torch.nn as nn\n",
    "import copy\n",
    "from tqdm.notebook import tqdm\n",
    "import models\n",
    "import numpy as np\n",
    "import pandas as pd\n",
    "from sklearn.decomposition import PCA\n",
    "import matplotlib.pyplot as plt\n",
    "import st_loss\n",
    "\n",
    "import h5py\n",
    "import scipy as sp\n",
    "import scanpy.api as sc\n",
    "from collections import Counter\n",
    "import random\n",
    "import utils\n",
    "import loop\n",
    "import pickle\n",
    "\n",
    "import train\n",
    "import os\n",
    "import glob2\n",
    "plt.ion()\n",
    "plt.show()\n",
    "%load_ext autoreload\n",
    "%autoreload 2\n",
    "\n",
    "import warnings\n",
    "warnings.filterwarnings(\"ignore\", category=FutureWarning)"
   ]
  },
  {
   "cell_type": "code",
   "execution_count": 2,
   "metadata": {},
   "outputs": [
    {
     "data": {
      "text/plain": [
       "['Quake_Smart-seq2_Trachea',\n",
       " 'Quake_Smart-seq2_Diaphragm',\n",
       " 'Quake_10x_Spleen',\n",
       " 'Young',\n",
       " '10X_PBMC_select_2100',\n",
       " 'mouse_ES_cell',\n",
       " 'Adam',\n",
       " 'Quake_10x_Bladder',\n",
       " 'Quake_Smart-seq2_Lung',\n",
       " 'worm_neuron_cell_select_2100',\n",
       " 'Quake_10x_Limb_Muscle',\n",
       " 'worm_neuron_cell',\n",
       " 'mouse_bladder_cell',\n",
       " 'mouse_ES_cell_select_2100',\n",
       " 'Romanov',\n",
       " 'Quake_Smart-seq2_Limb_Muscle',\n",
       " 'Muraro',\n",
       " 'mouse_bladder_cell_select_2100',\n",
       " '10X_PBMC']"
      ]
     },
     "execution_count": 2,
     "metadata": {},
     "output_type": "execute_result"
    }
   ],
   "source": [
    "path = \"../\"\n",
    "files = glob2.glob(f'{path}real_data/*.h5')\n",
    "files = [f[len(f\"'{path}real_data\"):-3] for f in files]\n",
    "files"
   ]
  },
  {
   "cell_type": "code",
   "execution_count": 3,
   "metadata": {},
   "outputs": [],
   "source": [
    "sczi = pd.read_pickle(f\"../output/pickle_results/real_data/real_data_sczi.pkl\")"
   ]
  },
  {
   "cell_type": "code",
   "execution_count": 4,
   "metadata": {},
   "outputs": [],
   "source": [
    "df = pd.read_pickle(f\"{path}output/pickle_results/real_data_1model.pkl\")"
   ]
  },
  {
   "cell_type": "code",
   "execution_count": 6,
   "metadata": {},
   "outputs": [
    {
     "data": {
      "text/html": [
       "<div>\n",
       "<style scoped>\n",
       "    .dataframe tbody tr th:only-of-type {\n",
       "        vertical-align: middle;\n",
       "    }\n",
       "\n",
       "    .dataframe tbody tr th {\n",
       "        vertical-align: top;\n",
       "    }\n",
       "\n",
       "    .dataframe thead th {\n",
       "        text-align: right;\n",
       "    }\n",
       "</style>\n",
       "<table border=\"1\" class=\"dataframe\">\n",
       "  <thead>\n",
       "    <tr style=\"text-align: right;\">\n",
       "      <th></th>\n",
       "      <th>dataset</th>\n",
       "      <th>dropout</th>\n",
       "      <th>kmeans_ari_0</th>\n",
       "      <th>kmeans_nmi_0</th>\n",
       "      <th>layers</th>\n",
       "      <th>leiden_ari_0</th>\n",
       "      <th>leiden_nmi_0</th>\n",
       "      <th>lr</th>\n",
       "      <th>run</th>\n",
       "      <th>temperature</th>\n",
       "    </tr>\n",
       "  </thead>\n",
       "  <tbody>\n",
       "    <tr>\n",
       "      <th>0</th>\n",
       "      <td>Quake_Smart-seq2_Trachea</td>\n",
       "      <td>0.8</td>\n",
       "      <td>0.540060</td>\n",
       "      <td>0.650050</td>\n",
       "      <td>[50]</td>\n",
       "      <td>0.169197</td>\n",
       "      <td>0.517311</td>\n",
       "      <td>0.00001</td>\n",
       "      <td>0.0</td>\n",
       "      <td>0.07</td>\n",
       "    </tr>\n",
       "    <tr>\n",
       "      <th>1</th>\n",
       "      <td>Quake_Smart-seq2_Trachea</td>\n",
       "      <td>0.8</td>\n",
       "      <td>0.529791</td>\n",
       "      <td>0.639803</td>\n",
       "      <td>[50]</td>\n",
       "      <td>0.193608</td>\n",
       "      <td>0.535134</td>\n",
       "      <td>0.00001</td>\n",
       "      <td>1.0</td>\n",
       "      <td>0.07</td>\n",
       "    </tr>\n",
       "    <tr>\n",
       "      <th>2</th>\n",
       "      <td>Quake_Smart-seq2_Trachea</td>\n",
       "      <td>0.8</td>\n",
       "      <td>0.488717</td>\n",
       "      <td>0.561485</td>\n",
       "      <td>[100, 30]</td>\n",
       "      <td>0.173371</td>\n",
       "      <td>0.522036</td>\n",
       "      <td>0.00001</td>\n",
       "      <td>0.0</td>\n",
       "      <td>0.07</td>\n",
       "    </tr>\n",
       "    <tr>\n",
       "      <th>3</th>\n",
       "      <td>Quake_Smart-seq2_Trachea</td>\n",
       "      <td>0.8</td>\n",
       "      <td>0.466333</td>\n",
       "      <td>0.543368</td>\n",
       "      <td>[100, 30]</td>\n",
       "      <td>0.190239</td>\n",
       "      <td>0.530519</td>\n",
       "      <td>0.00001</td>\n",
       "      <td>1.0</td>\n",
       "      <td>0.07</td>\n",
       "    </tr>\n",
       "    <tr>\n",
       "      <th>4</th>\n",
       "      <td>Quake_Smart-seq2_Trachea</td>\n",
       "      <td>0.8</td>\n",
       "      <td>0.547574</td>\n",
       "      <td>0.672945</td>\n",
       "      <td>[200, 100, 30]</td>\n",
       "      <td>0.189931</td>\n",
       "      <td>0.536097</td>\n",
       "      <td>0.00001</td>\n",
       "      <td>0.0</td>\n",
       "      <td>0.07</td>\n",
       "    </tr>\n",
       "  </tbody>\n",
       "</table>\n",
       "</div>"
      ],
      "text/plain": [
       "                    dataset  dropout  kmeans_ari_0  kmeans_nmi_0  \\\n",
       "0  Quake_Smart-seq2_Trachea      0.8      0.540060      0.650050   \n",
       "1  Quake_Smart-seq2_Trachea      0.8      0.529791      0.639803   \n",
       "2  Quake_Smart-seq2_Trachea      0.8      0.488717      0.561485   \n",
       "3  Quake_Smart-seq2_Trachea      0.8      0.466333      0.543368   \n",
       "4  Quake_Smart-seq2_Trachea      0.8      0.547574      0.672945   \n",
       "\n",
       "           layers  leiden_ari_0  leiden_nmi_0       lr  run  temperature  \n",
       "0            [50]      0.169197      0.517311  0.00001  0.0         0.07  \n",
       "1            [50]      0.193608      0.535134  0.00001  1.0         0.07  \n",
       "2       [100, 30]      0.173371      0.522036  0.00001  0.0         0.07  \n",
       "3       [100, 30]      0.190239      0.530519  0.00001  1.0         0.07  \n",
       "4  [200, 100, 30]      0.189931      0.536097  0.00001  0.0         0.07  "
      ]
     },
     "execution_count": 6,
     "metadata": {},
     "output_type": "execute_result"
    }
   ],
   "source": [
    "df.head()"
   ]
  },
  {
   "cell_type": "code",
   "execution_count": null,
   "metadata": {},
   "outputs": [
    {
     "name": "stdout",
     "output_type": "stream",
     "text": [
      ">>>>> Data Quake_10x_Spleen\n",
      "SCZI  0.909534824400645\n",
      "(9552, 23341) (9552, 23341) keeping 1500 genes\n"
     ]
    },
    {
     "data": {
      "application/vnd.jupyter.widget-view+json": {
       "model_id": "9f188a4f608d4c88a3a440a3bbdc1df5",
       "version_major": 2,
       "version_minor": 0
      },
      "text/plain": [
       "HBox(children=(IntProgress(value=0, max=3), HTML(value='')))"
      ]
     },
     "metadata": {},
     "output_type": "display_data"
    },
    {
     "name": "stdout",
     "output_type": "stream",
     "text": [
      "................................................................................................................................................................................................................................................................................................\n",
      ">>>>> Data Young\n",
      "SCZI  0.6629811886776039\n",
      "(5685, 33658) (5685, 33658) keeping 1500 genes\n"
     ]
    },
    {
     "data": {
      "application/vnd.jupyter.widget-view+json": {
       "model_id": "1b46d45c2d824769b318f45566f625fc",
       "version_major": 2,
       "version_minor": 0
      },
      "text/plain": [
       "HBox(children=(IntProgress(value=0, max=3), HTML(value='')))"
      ]
     },
     "metadata": {},
     "output_type": "display_data"
    },
    {
     "name": "stdout",
     "output_type": "stream",
     "text": [
      "................................................................................................................................................................................................................................................................................................\n",
      ">>>>> Data 10X_PBMC_select_2100\n",
      "SCZI  0.597949963742046\n",
      "(2100, 16653) (2100, 16653) keeping 1500 genes\n"
     ]
    },
    {
     "data": {
      "application/vnd.jupyter.widget-view+json": {
       "model_id": "06a02d76eca24c628bd16873ac45d871",
       "version_major": 2,
       "version_minor": 0
      },
      "text/plain": [
       "HBox(children=(IntProgress(value=0, max=3), HTML(value='')))"
      ]
     },
     "metadata": {},
     "output_type": "display_data"
    },
    {
     "name": "stdout",
     "output_type": "stream",
     "text": [
      "................................................................................................................................................................................................................................................................................................\n",
      ">>>>> Data mouse_ES_cell\n",
      "SCZI  0.800376096099337\n",
      "(2717, 24175) (2717, 24175) keeping 1500 genes\n"
     ]
    },
    {
     "data": {
      "application/vnd.jupyter.widget-view+json": {
       "model_id": "6e2a4cc1ab5346d4bbc25735324d1a62",
       "version_major": 2,
       "version_minor": 0
      },
      "text/plain": [
       "HBox(children=(IntProgress(value=0, max=3), HTML(value='')))"
      ]
     },
     "metadata": {},
     "output_type": "display_data"
    },
    {
     "name": "stdout",
     "output_type": "stream",
     "text": [
      "................................................................................................................................................................................................................................................................................................\n",
      ">>>>> Data Adam\n",
      "SCZI  0.8634561030635544\n",
      "(3660, 23797) (3660, 23797) keeping 1500 genes\n"
     ]
    },
    {
     "data": {
      "application/vnd.jupyter.widget-view+json": {
       "model_id": "9a95a5604f0042f5ae81e5c36715beb0",
       "version_major": 2,
       "version_minor": 0
      },
      "text/plain": [
       "HBox(children=(IntProgress(value=0, max=3), HTML(value='')))"
      ]
     },
     "metadata": {},
     "output_type": "display_data"
    },
    {
     "name": "stdout",
     "output_type": "stream",
     "text": [
      ".................."
     ]
    }
   ],
   "source": [
    "# df = pd.DataFrame()\n",
    "\n",
    "for dataset in files[2:]:\n",
    "\n",
    "    print(f\">>>>> Data {dataset}\")\n",
    "    print(\"SCZI \", sczi[sczi[\"dataset\"] == dataset][\"ARI\"].mean())\n",
    "    data_mat = h5py.File(f\"{path}real_data/{dataset}.h5\", \"r\")\n",
    "    X = np.array(data_mat['X'])\n",
    "    Y = np.array(data_mat['Y'])\n",
    "\n",
    "    cluster_number = np.unique(Y).shape[0]\n",
    "    nb_genes = 1500\n",
    "    data_mat = h5py.File(f\"{path}real_data/{dataset}.h5\", \"r\")\n",
    "    X = np.array(data_mat['X'])\n",
    "    Y = np.array(data_mat['Y'])\n",
    "\n",
    "    X = train.preprocess(X, nb_genes=nb_genes)\n",
    "    for temperature in tqdm([0.07, 0.5, 0.01]):\n",
    "        for dropout in [ 0.8, 0.2, 0.5, 0.9]:\n",
    "            for lr in [1e-5, 1e-4, 1e-6]:\n",
    "                for layers in [[50],[100, 30],  [200, 100, 30],  [200, 100, 30, 30]]:\n",
    "                    for run in range(2):\n",
    "                        torch.manual_seed(run)\n",
    "                        torch.cuda.manual_seed_all(run)\n",
    "                        np.random.seed(run)\n",
    "                        random.seed(run)\n",
    "                        torch.backends.cudnn.deterministic = True\n",
    "                        torch.backends.cudnn.benchmark = False\n",
    "                        dresults = train.run(X,\n",
    "                                             cluster_number,\n",
    "                                             dataset,\n",
    "                                             Y=Y,\n",
    "                                             nb_epochs=20,\n",
    "                                             lr=lr,\n",
    "                                             temperature=temperature,\n",
    "                                             dropout=dropout,\n",
    "                                             evaluate=False,\n",
    "                                             n_ensemble=1,\n",
    "                                             layers=layers,\n",
    "                                             save_to=f\"{path}output/real_data/{run}/\",\n",
    "                                             save_pred = False)\n",
    "                        dresults[\"temperature\"] = temperature\n",
    "                        dresults[\"dropout\"] = dropout\n",
    "                        dresults[\"lr\"] = lr\n",
    "                        dresults[\"layers\"] = str(layers)\n",
    "                        dresults[\"run\"] = run\n",
    "                        print(f\".\", end = \"\")\n",
    "#                         print(f\"# {temperature}, {dropout}, {lr}, {layers}\", \n",
    "#                               dresults.get('COMBINED_kmeans_ari', \"\"),\n",
    "#                               dresults.get('COMBINED_leiden_ari', \"\"), dresults.get('kmeans_ari_0',\"\"),\n",
    "#                               dresults.get('leiden_ari_0', \"\"))\n",
    "                        df = df.append(dresults, ignore_index=True)\n",
    "\n",
    "                        df.to_pickle(f\"{path}output/pickle_results/real_data_1model.pkl\")"
   ]
  },
  {
   "cell_type": "code",
   "execution_count": null,
   "metadata": {},
   "outputs": [],
   "source": [
    "str(layers)"
   ]
  },
  {
   "cell_type": "code",
   "execution_count": 9,
   "metadata": {},
   "outputs": [
    {
     "data": {
      "text/html": [
       "<div>\n",
       "<style scoped>\n",
       "    .dataframe tbody tr th:only-of-type {\n",
       "        vertical-align: middle;\n",
       "    }\n",
       "\n",
       "    .dataframe tbody tr th {\n",
       "        vertical-align: top;\n",
       "    }\n",
       "\n",
       "    .dataframe thead tr th {\n",
       "        text-align: left;\n",
       "    }\n",
       "\n",
       "    .dataframe thead tr:last-of-type th {\n",
       "        text-align: right;\n",
       "    }\n",
       "</style>\n",
       "<table border=\"1\" class=\"dataframe\">\n",
       "  <thead>\n",
       "    <tr>\n",
       "      <th></th>\n",
       "      <th>layers</th>\n",
       "      <th colspan=\"3\" halign=\"left\">[100, 30]</th>\n",
       "      <th colspan=\"3\" halign=\"left\">[200, 100, 30, 30]</th>\n",
       "      <th colspan=\"3\" halign=\"left\">[200, 100, 30]</th>\n",
       "      <th colspan=\"3\" halign=\"left\">[50]</th>\n",
       "    </tr>\n",
       "    <tr>\n",
       "      <th></th>\n",
       "      <th>lr</th>\n",
       "      <th>0.000001</th>\n",
       "      <th>0.000010</th>\n",
       "      <th>0.000100</th>\n",
       "      <th>0.000001</th>\n",
       "      <th>0.000010</th>\n",
       "      <th>0.000100</th>\n",
       "      <th>0.000001</th>\n",
       "      <th>0.000010</th>\n",
       "      <th>0.000100</th>\n",
       "      <th>0.000001</th>\n",
       "      <th>0.000010</th>\n",
       "      <th>0.000100</th>\n",
       "    </tr>\n",
       "    <tr>\n",
       "      <th>temperature</th>\n",
       "      <th>dropout</th>\n",
       "      <th></th>\n",
       "      <th></th>\n",
       "      <th></th>\n",
       "      <th></th>\n",
       "      <th></th>\n",
       "      <th></th>\n",
       "      <th></th>\n",
       "      <th></th>\n",
       "      <th></th>\n",
       "      <th></th>\n",
       "      <th></th>\n",
       "      <th></th>\n",
       "    </tr>\n",
       "  </thead>\n",
       "  <tbody>\n",
       "    <tr>\n",
       "      <th rowspan=\"4\" valign=\"top\">0.01</th>\n",
       "      <th>0.2</th>\n",
       "      <td>0.516109</td>\n",
       "      <td>0.516109</td>\n",
       "      <td>0.516109</td>\n",
       "      <td>0.433314</td>\n",
       "      <td>0.433314</td>\n",
       "      <td>0.433314</td>\n",
       "      <td>0.477152</td>\n",
       "      <td>0.477152</td>\n",
       "      <td>0.477152</td>\n",
       "      <td>0.570401</td>\n",
       "      <td>0.570401</td>\n",
       "      <td>0.570401</td>\n",
       "    </tr>\n",
       "    <tr>\n",
       "      <th>0.5</th>\n",
       "      <td>0.577762</td>\n",
       "      <td>0.577762</td>\n",
       "      <td>0.577762</td>\n",
       "      <td>0.556851</td>\n",
       "      <td>0.556851</td>\n",
       "      <td>0.556851</td>\n",
       "      <td>0.512568</td>\n",
       "      <td>0.512568</td>\n",
       "      <td>0.512568</td>\n",
       "      <td>0.597860</td>\n",
       "      <td>0.597860</td>\n",
       "      <td>0.597860</td>\n",
       "    </tr>\n",
       "    <tr>\n",
       "      <th>0.8</th>\n",
       "      <td>0.657434</td>\n",
       "      <td>0.657434</td>\n",
       "      <td>0.657434</td>\n",
       "      <td>0.641832</td>\n",
       "      <td>0.641832</td>\n",
       "      <td>0.641832</td>\n",
       "      <td>0.653073</td>\n",
       "      <td>0.653073</td>\n",
       "      <td>0.653073</td>\n",
       "      <td>0.704679</td>\n",
       "      <td>0.704679</td>\n",
       "      <td>0.704679</td>\n",
       "    </tr>\n",
       "    <tr>\n",
       "      <th>0.9</th>\n",
       "      <td>0.694508</td>\n",
       "      <td>0.694508</td>\n",
       "      <td>0.694508</td>\n",
       "      <td>0.614636</td>\n",
       "      <td>0.614636</td>\n",
       "      <td>0.614636</td>\n",
       "      <td>0.668815</td>\n",
       "      <td>0.668815</td>\n",
       "      <td>0.668815</td>\n",
       "      <td>0.778514</td>\n",
       "      <td>0.778514</td>\n",
       "      <td>0.778514</td>\n",
       "    </tr>\n",
       "    <tr>\n",
       "      <th rowspan=\"4\" valign=\"top\">0.07</th>\n",
       "      <th>0.2</th>\n",
       "      <td>0.278396</td>\n",
       "      <td>0.278396</td>\n",
       "      <td>0.278396</td>\n",
       "      <td>0.239343</td>\n",
       "      <td>0.239343</td>\n",
       "      <td>0.239343</td>\n",
       "      <td>0.235293</td>\n",
       "      <td>0.235293</td>\n",
       "      <td>0.235293</td>\n",
       "      <td>0.336452</td>\n",
       "      <td>0.336452</td>\n",
       "      <td>0.336452</td>\n",
       "    </tr>\n",
       "    <tr>\n",
       "      <th>0.5</th>\n",
       "      <td>0.496646</td>\n",
       "      <td>0.496646</td>\n",
       "      <td>0.496646</td>\n",
       "      <td>0.433621</td>\n",
       "      <td>0.433621</td>\n",
       "      <td>0.433621</td>\n",
       "      <td>0.471576</td>\n",
       "      <td>0.471576</td>\n",
       "      <td>0.471576</td>\n",
       "      <td>0.503766</td>\n",
       "      <td>0.503766</td>\n",
       "      <td>0.503766</td>\n",
       "    </tr>\n",
       "    <tr>\n",
       "      <th>0.8</th>\n",
       "      <td>0.641900</td>\n",
       "      <td>0.641900</td>\n",
       "      <td>0.641900</td>\n",
       "      <td>0.674056</td>\n",
       "      <td>0.674056</td>\n",
       "      <td>0.674056</td>\n",
       "      <td>0.672430</td>\n",
       "      <td>0.672430</td>\n",
       "      <td>0.672430</td>\n",
       "      <td>0.611546</td>\n",
       "      <td>0.611546</td>\n",
       "      <td>0.611546</td>\n",
       "    </tr>\n",
       "    <tr>\n",
       "      <th>0.9</th>\n",
       "      <td>0.680961</td>\n",
       "      <td>0.680961</td>\n",
       "      <td>0.680961</td>\n",
       "      <td>0.693146</td>\n",
       "      <td>0.693146</td>\n",
       "      <td>0.693146</td>\n",
       "      <td>0.657798</td>\n",
       "      <td>0.657798</td>\n",
       "      <td>0.657798</td>\n",
       "      <td>0.686385</td>\n",
       "      <td>0.686385</td>\n",
       "      <td>0.686385</td>\n",
       "    </tr>\n",
       "    <tr>\n",
       "      <th rowspan=\"4\" valign=\"top\">0.50</th>\n",
       "      <th>0.2</th>\n",
       "      <td>0.405372</td>\n",
       "      <td>0.423459</td>\n",
       "      <td>0.422841</td>\n",
       "      <td>0.388501</td>\n",
       "      <td>0.399817</td>\n",
       "      <td>0.388501</td>\n",
       "      <td>0.416959</td>\n",
       "      <td>0.441847</td>\n",
       "      <td>0.416959</td>\n",
       "      <td>0.546973</td>\n",
       "      <td>0.549111</td>\n",
       "      <td>0.549111</td>\n",
       "    </tr>\n",
       "    <tr>\n",
       "      <th>0.5</th>\n",
       "      <td>0.467338</td>\n",
       "      <td>0.467338</td>\n",
       "      <td>0.467338</td>\n",
       "      <td>0.438229</td>\n",
       "      <td>0.438229</td>\n",
       "      <td>0.438229</td>\n",
       "      <td>0.493725</td>\n",
       "      <td>0.493725</td>\n",
       "      <td>0.493725</td>\n",
       "      <td>0.555599</td>\n",
       "      <td>0.555599</td>\n",
       "      <td>0.555599</td>\n",
       "    </tr>\n",
       "    <tr>\n",
       "      <th>0.8</th>\n",
       "      <td>0.608725</td>\n",
       "      <td>0.608725</td>\n",
       "      <td>0.608725</td>\n",
       "      <td>0.585777</td>\n",
       "      <td>0.585777</td>\n",
       "      <td>0.585777</td>\n",
       "      <td>0.601673</td>\n",
       "      <td>0.601673</td>\n",
       "      <td>0.601673</td>\n",
       "      <td>0.671923</td>\n",
       "      <td>0.671923</td>\n",
       "      <td>0.671923</td>\n",
       "    </tr>\n",
       "    <tr>\n",
       "      <th>0.9</th>\n",
       "      <td>0.638594</td>\n",
       "      <td>0.638594</td>\n",
       "      <td>0.638594</td>\n",
       "      <td>0.622103</td>\n",
       "      <td>0.622103</td>\n",
       "      <td>0.622103</td>\n",
       "      <td>0.621916</td>\n",
       "      <td>0.621916</td>\n",
       "      <td>0.621916</td>\n",
       "      <td>0.666699</td>\n",
       "      <td>0.666699</td>\n",
       "      <td>0.666699</td>\n",
       "    </tr>\n",
       "  </tbody>\n",
       "</table>\n",
       "</div>"
      ],
      "text/plain": [
       "layers              [100, 30]                     [200, 100, 30, 30]  \\\n",
       "lr                   0.000001  0.000010  0.000100           0.000001   \n",
       "temperature dropout                                                    \n",
       "0.01        0.2      0.516109  0.516109  0.516109           0.433314   \n",
       "            0.5      0.577762  0.577762  0.577762           0.556851   \n",
       "            0.8      0.657434  0.657434  0.657434           0.641832   \n",
       "            0.9      0.694508  0.694508  0.694508           0.614636   \n",
       "0.07        0.2      0.278396  0.278396  0.278396           0.239343   \n",
       "            0.5      0.496646  0.496646  0.496646           0.433621   \n",
       "            0.8      0.641900  0.641900  0.641900           0.674056   \n",
       "            0.9      0.680961  0.680961  0.680961           0.693146   \n",
       "0.50        0.2      0.405372  0.423459  0.422841           0.388501   \n",
       "            0.5      0.467338  0.467338  0.467338           0.438229   \n",
       "            0.8      0.608725  0.608725  0.608725           0.585777   \n",
       "            0.9      0.638594  0.638594  0.638594           0.622103   \n",
       "\n",
       "layers                                  [200, 100, 30]                      \\\n",
       "lr                   0.000010  0.000100       0.000001  0.000010  0.000100   \n",
       "temperature dropout                                                          \n",
       "0.01        0.2      0.433314  0.433314       0.477152  0.477152  0.477152   \n",
       "            0.5      0.556851  0.556851       0.512568  0.512568  0.512568   \n",
       "            0.8      0.641832  0.641832       0.653073  0.653073  0.653073   \n",
       "            0.9      0.614636  0.614636       0.668815  0.668815  0.668815   \n",
       "0.07        0.2      0.239343  0.239343       0.235293  0.235293  0.235293   \n",
       "            0.5      0.433621  0.433621       0.471576  0.471576  0.471576   \n",
       "            0.8      0.674056  0.674056       0.672430  0.672430  0.672430   \n",
       "            0.9      0.693146  0.693146       0.657798  0.657798  0.657798   \n",
       "0.50        0.2      0.399817  0.388501       0.416959  0.441847  0.416959   \n",
       "            0.5      0.438229  0.438229       0.493725  0.493725  0.493725   \n",
       "            0.8      0.585777  0.585777       0.601673  0.601673  0.601673   \n",
       "            0.9      0.622103  0.622103       0.621916  0.621916  0.621916   \n",
       "\n",
       "layers                   [50]                      \n",
       "lr                   0.000001  0.000010  0.000100  \n",
       "temperature dropout                                \n",
       "0.01        0.2      0.570401  0.570401  0.570401  \n",
       "            0.5      0.597860  0.597860  0.597860  \n",
       "            0.8      0.704679  0.704679  0.704679  \n",
       "            0.9      0.778514  0.778514  0.778514  \n",
       "0.07        0.2      0.336452  0.336452  0.336452  \n",
       "            0.5      0.503766  0.503766  0.503766  \n",
       "            0.8      0.611546  0.611546  0.611546  \n",
       "            0.9      0.686385  0.686385  0.686385  \n",
       "0.50        0.2      0.546973  0.549111  0.549111  \n",
       "            0.5      0.555599  0.555599  0.555599  \n",
       "            0.8      0.671923  0.671923  0.671923  \n",
       "            0.9      0.666699  0.666699  0.666699  "
      ]
     },
     "execution_count": 9,
     "metadata": {},
     "output_type": "execute_result"
    }
   ],
   "source": [
    "df = pd.read_pickle(f\"../output/pickle_results/real_data_1model.pkl\")\n",
    "df.groupby([\"temperature\", \"layers\", \"dropout\", \"lr\"])[\"kmeans_ari_0\"].mean().unstack([\"layers\", \"lr\"])"
   ]
  },
  {
   "cell_type": "code",
   "execution_count": 10,
   "metadata": {},
   "outputs": [
    {
     "data": {
      "text/plain": [
       "layers              lr      \n",
       "[100, 30]           0.000001    0.694508\n",
       "                    0.000010    0.694508\n",
       "                    0.000100    0.694508\n",
       "[200, 100, 30, 30]  0.000001    0.693146\n",
       "                    0.000010    0.693146\n",
       "                    0.000100    0.693146\n",
       "[200, 100, 30]      0.000001    0.672430\n",
       "                    0.000010    0.672430\n",
       "                    0.000100    0.672430\n",
       "[50]                0.000001    0.778514\n",
       "                    0.000010    0.778514\n",
       "                    0.000100    0.778514\n",
       "dtype: float64"
      ]
     },
     "execution_count": 10,
     "metadata": {},
     "output_type": "execute_result"
    }
   ],
   "source": [
    "df = pd.read_pickle(f\"../output/pickle_results/real_data_1model.pkl\")\n",
    "df.groupby([\"temperature\", \"layers\", \"dropout\", \"lr\"])[\"kmeans_ari_0\"].mean().unstack([\"layers\", \"lr\"]).max()"
   ]
  },
  {
   "cell_type": "code",
   "execution_count": 11,
   "metadata": {},
   "outputs": [],
   "source": [
    "sczi = pd.read_pickle(f\"../output/pickle_results/real_data/real_data_sczi.pkl\")"
   ]
  },
  {
   "cell_type": "code",
   "execution_count": 13,
   "metadata": {},
   "outputs": [
    {
     "data": {
      "text/plain": [
       "ARI       0.803297\n",
       "NMI       0.802730\n",
       "sil       0.071988\n",
       "run       1.000000\n",
       "time    185.308213\n",
       "dtype: float64"
      ]
     },
     "execution_count": 13,
     "metadata": {},
     "output_type": "execute_result"
    }
   ],
   "source": [
    "sczi[sczi[\"dataset\"].isin(df[\"dataset\"].values)].mean()"
   ]
  },
  {
   "cell_type": "code",
   "execution_count": null,
   "metadata": {},
   "outputs": [],
   "source": [
    "run = 0 \n",
    "dataset = 'Quake_Smart-seq2_Diaphragm'\n",
    "dataset = 'Quake_Smart-seq2_Trachea'"
   ]
  },
  {
   "cell_type": "code",
   "execution_count": null,
   "metadata": {},
   "outputs": [],
   "source": [
    "torch.manual_seed(run)\n",
    "torch.cuda.manual_seed_all(run)\n",
    "np.random.seed(run)\n",
    "random.seed(run)\n",
    "torch.backends.cudnn.deterministic = True\n",
    "torch.backends.cudnn.benchmark = False\n",
    "print(f\">>>>> Data {dataset}\")\n",
    "\n",
    "data_mat = h5py.File(f\"{path}real_data/{dataset}.h5\", \"r\")\n",
    "X = np.array(data_mat['X'])\n",
    "Y = np.array(data_mat['Y'])\n",
    "print(np.where(X == 0)[0].shape[0] / (X.shape[0] * X.shape[1]))\n",
    "cluster_number = np.unique(Y).shape[0]\n",
    "nb_genes = 1500\n",
    "data_mat = h5py.File(f\"{path}real_data/{dataset}.h5\", \"r\")\n",
    "X = np.array(data_mat['X'])\n",
    "Y = np.array(data_mat['Y'])\n",
    "\n",
    "X = train.preprocess(X, nb_genes=nb_genes)"
   ]
  },
  {
   "cell_type": "code",
   "execution_count": null,
   "metadata": {},
   "outputs": [],
   "source": [
    "run = 0\n",
    "torch.manual_seed(run)\n",
    "torch.cuda.manual_seed_all(run)\n",
    "np.random.seed(run)\n",
    "\n",
    "torch.backends.cudnn.deterministic = True\n",
    "torch.backends.cudnn.benchmark = False\n"
   ]
  },
  {
   "cell_type": "code",
   "execution_count": null,
   "metadata": {},
   "outputs": [],
   "source": [
    "res = train.run(X,\n",
    "        cluster_number,\n",
    "        dataset,\n",
    "        Y=Y,\n",
    "        nb_epochs=20,\n",
    "        lr=1e-5,\n",
    "        temperature=0.07,\n",
    "        dropout=0.8,\n",
    "        evaluate=True,\n",
    "        n_ensemble=3,\n",
    "        layers = [256, 64, 32],\n",
    "        save_to=f\"{path}output/real_data/{run}/\")"
   ]
  },
  {
   "cell_type": "code",
   "execution_count": null,
   "metadata": {},
   "outputs": [],
   "source": [
    "res.keys()"
   ]
  },
  {
   "cell_type": "code",
   "execution_count": null,
   "metadata": {},
   "outputs": [],
   "source": [
    "dresults['COMBINED_kmeans_ari'], dresults['COMBINED_leiden_ari'], dresults['kmeans_ari_0'], dresults['leiden_ari_0']"
   ]
  },
  {
   "cell_type": "code",
   "execution_count": null,
   "metadata": {},
   "outputs": [],
   "source": [
    "df = df.append(res, ignore_index=True)"
   ]
  },
  {
   "cell_type": "code",
   "execution_count": null,
   "metadata": {},
   "outputs": [],
   "source": [
    "df"
   ]
  },
  {
   "cell_type": "code",
   "execution_count": null,
   "metadata": {},
   "outputs": [],
   "source": [
    "df.groupby(\"dataset\").mean()"
   ]
  },
  {
   "cell_type": "markdown",
   "metadata": {},
   "source": [
    "# Importance of input size"
   ]
  },
  {
   "cell_type": "code",
   "execution_count": null,
   "metadata": {},
   "outputs": [],
   "source": [
    "df = pd.DataFrame(\n",
    "    columns=[\"dataset\", \"perc0\", \"nb_genes\", \"exp\", \"ari\", \"run\"])\n",
    "print(df.shape)\n",
    "for dataset in files:\n",
    "\n",
    "    print(f\">>>>> Data {dataset}\")\n",
    "\n",
    "    data_mat = h5py.File(f\"{path}real_data/{dataset}.h5\", \"r\")\n",
    "    for run in range(2):\n",
    "        torch.manual_seed(run)\n",
    "        torch.cuda.manual_seed_all(run)\n",
    "        np.random.seed(run)\n",
    "        random.seed(run)\n",
    "        torch.backends.cudnn.deterministic = True\n",
    "        torch.backends.cudnn.benchmark = False\n",
    "        for nb_genes in [100, 200, 500, 1000, 1500, 2000, 5000, 8000]:\n",
    "\n",
    "            X = np.array(data_mat['X'])\n",
    "            Y = np.array(data_mat['Y'])\n",
    "            perc_0 = np.where(X == 0)[0].shape[0] / (X.shape[0] * X.shape[1])\n",
    "            print(f\"Perc 0 {perc_0}\")\n",
    "            cluster_number = np.unique(Y).shape[0]\n",
    "\n",
    "            X = train.preprocess(X, nb_genes=nb_genes)\n",
    "            nb_zeros = int(0.8 * nb_genes)\n",
    "            dresults = train.train(\n",
    "                X,\n",
    "                cluster_number,\n",
    "                dataset,\n",
    "                Y,\n",
    "                n_ensemble=1,\n",
    "                epochs=100,\n",
    "                nb_zeros=nb_zeros,\n",
    "                save_to=f\"{path}output/real_data/inputs/{dataset}_{nb_genes}/\")\n",
    "\n",
    "            #         df.loc[df.shape[0]] = [\n",
    "            #                 dataset, perc_0, nb_genes, 'kmeans_representation_0',dresults['kmeans_representation_0']\n",
    "            #             ]\n",
    "            df.loc[df.shape[0]] = [\n",
    "                dataset, perc_0, nb_genes, 'leiden_representation_0',\n",
    "                dresults['leiden_representation_0'], run]\n",
    "\n",
    "#             pxt = PCA(2).fit_transform(X)\n",
    "#             dresults[\"original\"] = utils.evaluate(X, Y, cluster_number)[1]\n",
    "#             dresults[\"pca\"] = utils.evaluate(pxt, Y, cluster_number)[1]\n",
    "            print(dresults)\n",
    "    df.to_pickle(f\"{path}output/pickle_results/real_data_input_size.pkl\")"
   ]
  },
  {
   "cell_type": "code",
   "execution_count": null,
   "metadata": {},
   "outputs": [],
   "source": [
    "df = pd.read_pickle(f\"{path}output/pickle_results/real_data_input_size.pkl\")"
   ]
  },
  {
   "cell_type": "code",
   "execution_count": null,
   "metadata": {},
   "outputs": [],
   "source": [
    "df.groupby([\"nb_genes\"]).mean()"
   ]
  },
  {
   "cell_type": "code",
   "execution_count": null,
   "metadata": {},
   "outputs": [],
   "source": [
    "dataset_names = {\n",
    "    '10X_PBMC': '10X PBMC',\n",
    "    '10X_PBMC_select_2100': '10X PBMC (2100)',\n",
    "    'mouse_ES_cell': 'Mouse ES\\nCell',\n",
    "    'mouse_ES_cell_select_2100': 'Mouse ES\\nCell (2100)',\n",
    "    'worm_neuron_cell_select_2100': 'Worm Neuron\\nCell (2100)',\n",
    "    'worm_neuron_cell': 'Worm Neuron\\nCell',\n",
    "    'mouse_bladder_cell': 'Mouse Bladder\\nCell',\n",
    "    'mouse_bladder_cell_select_2100': 'Mouse Bladder\\n Cell (2100)'\n",
    "}\n",
    "\n",
    "df[\"dataset\"] = df[\"dataset\"].apply(lambda x: dataset_names[x])\n",
    "\n",
    "df = df.rename(columns = {\"nb_genes\": \"Nb input genes\"})"
   ]
  },
  {
   "cell_type": "code",
   "execution_count": null,
   "metadata": {},
   "outputs": [],
   "source": [
    "df[\"dataset\"].unique()\n"
   ]
  },
  {
   "cell_type": "code",
   "execution_count": null,
   "metadata": {},
   "outputs": [],
   "source": [
    "import seaborn as sns\n",
    "datasets = ['10X PBMC',  'Mouse ES\\nCell','Worm Neuron\\nCell', 'Mouse Bladder\\nCell']\n",
    "plt.figure(figsize=(10, 3.3))\n",
    "ax = plt.subplot(111)\n",
    "sns.barplot(\n",
    "    hue=\"Nb input genes\",\n",
    "    y=\"ari\",\n",
    "    x=\"dataset\",\n",
    "    data=df[df[\"dataset\"].isin(datasets)],\n",
    "    ax=ax,\n",
    "    edgecolor='black',\n",
    "    linewidth=1.5,\n",
    ")\n",
    "plt.ylabel(\"ARI\")\n",
    "plt.xlabel(\"\")\n",
    "plt.legend(title= \"Nb input genes\",bbox_to_anchor=(1, 1))\n",
    "sns.despine()\n",
    "plt.tight_layout()\n",
    "\n",
    "plt.savefig(f\"{path}diagrams/real_input_size.pdf\", bbox_inches='tight')"
   ]
  },
  {
   "cell_type": "code",
   "execution_count": null,
   "metadata": {},
   "outputs": [],
   "source": [
    "datasets = ['10X PBMC (2100)',\n",
    "       'Mouse ES\\nCell (2100)', 'Worm Neuron\\nCell (2100)',\n",
    "       'Mouse Bladder\\n Cell (2100)']\n",
    "plt.figure(figsize=(10, 3.3))\n",
    "ax = plt.subplot(111)\n",
    "sns.barplot(\n",
    "    hue=\"Nb input genes\",\n",
    "    y=\"ari\",\n",
    "    x=\"dataset\",\n",
    "    data=df[df[\"dataset\"].isin(datasets)],\n",
    "    ax=ax,\n",
    "    edgecolor='black',\n",
    "    linewidth=1.5,\n",
    ")\n",
    "plt.ylabel(\"ARI\")\n",
    "plt.xlabel(\"\")\n",
    "plt.legend(title= \"Nb input genes\",bbox_to_anchor=(1, 1))\n",
    "sns.despine()\n",
    "plt.tight_layout()\n",
    "\n",
    "plt.savefig(f\"{path}diagrams/real_input_size_2100.pdf\", bbox_inches='tight')"
   ]
  },
  {
   "cell_type": "code",
   "execution_count": null,
   "metadata": {},
   "outputs": [],
   "source": []
  },
  {
   "cell_type": "markdown",
   "metadata": {},
   "source": [
    "# Importance of the number of epochs"
   ]
  },
  {
   "cell_type": "code",
   "execution_count": null,
   "metadata": {},
   "outputs": [],
   "source": [
    "df = pd.DataFrame(\n",
    "    columns=[\"dataset\", \"perc0\", \"nb_epochs\", \"exp\", \"ari\", \"run\"])\n",
    "print(df.shape)\n",
    "for dataset in files:\n",
    "\n",
    "    print(f\">>>>> Data {dataset}\")\n",
    "\n",
    "    data_mat = h5py.File(f\"{path}real_data/{dataset}.h5\", \"r\")\n",
    "    nb_genes = 1500\n",
    "    for epochs in [5, 50, 100, 300]:\n",
    "\n",
    "        X = np.array(data_mat['X'])\n",
    "        Y = np.array(data_mat['Y'])\n",
    "        perc_0 = np.where(X == 0)[0].shape[0] / (X.shape[0] * X.shape[1])\n",
    "        print(f\"Perc 0 {perc_0}\")\n",
    "        cluster_number = np.unique(Y).shape[0]\n",
    "\n",
    "        X = train.preprocess(X, nb_genes=nb_genes)\n",
    "        nb_zeros = int(0.8 * nb_genes)\n",
    "        for run in range(2):\n",
    "            torch.manual_seed(run)\n",
    "            torch.cuda.manual_seed_all(run)\n",
    "            np.random.seed(run)\n",
    "            random.seed(run)\n",
    "            torch.backends.cudnn.deterministic = True\n",
    "            torch.backends.cudnn.benchmark = False\n",
    "\n",
    "            dresults = train.train(\n",
    "                X,\n",
    "                cluster_number,\n",
    "                dataset,\n",
    "                Y,\n",
    "                n_ensemble=1,\n",
    "                epochs=epochs,\n",
    "                nb_zeros=nb_zeros,\n",
    "                save_to=f\"{path}output/real_data/epochs/{dataset}_{epochs}/\")\n",
    "\n",
    "            df.loc[df.shape[0]] = [\n",
    "                dataset, perc_0, epochs, 'kmeans_representation_0',\n",
    "                dresults['kmeans_representation_0'], run\n",
    "            ]\n",
    "            df.loc[df.shape[0]] = [\n",
    "                dataset, perc_0, epochs, 'leiden_representation_0',\n",
    "                dresults['leiden_representation_0'], run\n",
    "            ]\n",
    "\n",
    "            print(dresults)\n",
    "            df.to_pickle(f\"{path}output/pickle_results/real_data_epochs.pkl\")"
   ]
  },
  {
   "cell_type": "code",
   "execution_count": null,
   "metadata": {},
   "outputs": [],
   "source": [
    "df = pd.read_pickle(f\"{path}output/pickle_results/real_data_epochs.pkl\")"
   ]
  },
  {
   "cell_type": "code",
   "execution_count": null,
   "metadata": {},
   "outputs": [],
   "source": [
    "dataset_names = {\n",
    "    '10X_PBMC': '10X PBMC',\n",
    "    '10X_PBMC_select_2100': '10X PBMC (2100)',\n",
    "    'mouse_ES_cell': 'Mouse ES\\nCell',\n",
    "    'mouse_ES_cell_select_2100': 'Mouse ES\\nCell (2100)',\n",
    "    'worm_neuron_cell_select_2100': 'Worm Neuron\\nCell (2100)',\n",
    "    'worm_neuron_cell': 'Worm Neuron\\nCell',\n",
    "    'mouse_bladder_cell': 'Mouse Bladder\\nCell',\n",
    "    'mouse_bladder_cell_select_2100': 'Mouse Bladder\\n Cell (2100)'\n",
    "}\n",
    "\n",
    "df[\"dataset\"] = df[\"dataset\"].apply(lambda x: dataset_names[x])\n",
    "\n",
    "df = df.rename(columns = {\"nb_epochs\": \"Nb epochs\"})"
   ]
  },
  {
   "cell_type": "code",
   "execution_count": null,
   "metadata": {},
   "outputs": [],
   "source": [
    "import seaborn as sns\n",
    "datasets = ['10X PBMC',  'Mouse ES\\nCell','Worm Neuron\\nCell', 'Mouse Bladder\\nCell']\n",
    "plt.figure(figsize=(7, 3))\n",
    "ax = plt.subplot(111)\n",
    "sns.barplot(\n",
    "    hue=\"Nb epochs\",\n",
    "    y=\"ari\",\n",
    "    x=\"dataset\",\n",
    "    data=df[df[\"dataset\"].isin(datasets)],\n",
    "    ax=ax,\n",
    "    edgecolor='black',\n",
    "    linewidth=1.5,\n",
    ")\n",
    "plt.ylabel(\"ARI\")\n",
    "plt.xlabel(\"\")\n",
    "plt.legend(title =\"Number of epochs\",bbox_to_anchor=(1, 1))\n",
    "sns.despine()\n",
    "plt.tight_layout()\n",
    "\n",
    "plt.savefig(f\"{path}diagrams/real_nb_epochs.pdf\", bbox_inches='tight')"
   ]
  },
  {
   "cell_type": "code",
   "execution_count": null,
   "metadata": {},
   "outputs": [],
   "source": []
  },
  {
   "cell_type": "code",
   "execution_count": null,
   "metadata": {},
   "outputs": [],
   "source": []
  }
 ],
 "metadata": {
  "kernelspec": {
   "display_name": "Python 3",
   "language": "python",
   "name": "python3"
  },
  "language_info": {
   "codemirror_mode": {
    "name": "ipython",
    "version": 3
   },
   "file_extension": ".py",
   "mimetype": "text/x-python",
   "name": "python",
   "nbconvert_exporter": "python",
   "pygments_lexer": "ipython3",
   "version": "3.7.4"
  }
 },
 "nbformat": 4,
 "nbformat_minor": 4
}
